{
 "cells": [
  {
   "cell_type": "code",
   "execution_count": 1,
   "metadata": {
    "collapsed": true
   },
   "outputs": [],
   "source": [
    "import pandas as pd\n",
    "import numpy as np\n",
    "import matplotlib.pyplot as plt\n",
    "import requests\n",
    "from bs4 import BeautifulSoup as bs"
   ]
  },
  {
   "cell_type": "code",
   "execution_count": 2,
   "outputs": [],
   "source": [
    "headers = {'user-agent': 'Mozilla/5.0 (Macintosh; Intel Mac OS X 10_15_7) AppleWebKit/537.36 (KHTML, like Gecko) Chrome/88.0.4324.96 Safari/537.36'}"
   ],
   "metadata": {
    "collapsed": false,
    "pycharm": {
     "name": "#%%\n"
    }
   }
  },
  {
   "cell_type": "code",
   "execution_count": 28,
   "outputs": [
    {
     "name": "stdout",
     "output_type": "stream",
     "text": [
      "https://finance.naver.com/item/sise_day.nhn?code=034220&page=44\n",
      "https://finance.naver.com/item/sise_day.nhn?code=034220&page=45\n",
      "https://finance.naver.com/item/sise_day.nhn?code=034220&page=46\n",
      "https://finance.naver.com/item/sise_day.nhn?code=034220&page=47\n",
      "https://finance.naver.com/item/sise_day.nhn?code=034220&page=48\n",
      "https://finance.naver.com/item/sise_day.nhn?code=034220&page=49\n",
      "https://finance.naver.com/item/sise_day.nhn?code=034220&page=50\n",
      "https://finance.naver.com/item/sise_day.nhn?code=034220&page=51\n",
      "https://finance.naver.com/item/sise_day.nhn?code=034220&page=52\n",
      "https://finance.naver.com/item/sise_day.nhn?code=034220&page=53\n",
      "https://finance.naver.com/item/sise_day.nhn?code=034220&page=54\n",
      "https://finance.naver.com/item/sise_day.nhn?code=034220&page=55\n",
      "https://finance.naver.com/item/sise_day.nhn?code=034220&page=56\n",
      "https://finance.naver.com/item/sise_day.nhn?code=034220&page=57\n",
      "https://finance.naver.com/item/sise_day.nhn?code=034220&page=58\n",
      "https://finance.naver.com/item/sise_day.nhn?code=034220&page=59\n",
      "https://finance.naver.com/item/sise_day.nhn?code=034220&page=60\n",
      "https://finance.naver.com/item/sise_day.nhn?code=034220&page=61\n",
      "https://finance.naver.com/item/sise_day.nhn?code=034220&page=62\n",
      "https://finance.naver.com/item/sise_day.nhn?code=034220&page=63\n",
      "https://finance.naver.com/item/sise_day.nhn?code=034220&page=64\n",
      "https://finance.naver.com/item/sise_day.nhn?code=034220&page=65\n",
      "https://finance.naver.com/item/sise_day.nhn?code=034220&page=66\n",
      "https://finance.naver.com/item/sise_day.nhn?code=034220&page=67\n",
      "https://finance.naver.com/item/sise_day.nhn?code=034220&page=68\n",
      "https://finance.naver.com/item/sise_day.nhn?code=034220&page=69\n",
      "https://finance.naver.com/item/sise_day.nhn?code=034220&page=70\n",
      "https://finance.naver.com/item/sise_day.nhn?code=034220&page=71\n",
      "https://finance.naver.com/item/sise_day.nhn?code=034220&page=72\n",
      "https://finance.naver.com/item/sise_day.nhn?code=034220&page=73\n",
      "https://finance.naver.com/item/sise_day.nhn?code=034220&page=74\n",
      "https://finance.naver.com/item/sise_day.nhn?code=034220&page=75\n",
      "https://finance.naver.com/item/sise_day.nhn?code=034220&page=76\n",
      "https://finance.naver.com/item/sise_day.nhn?code=034220&page=77\n",
      "https://finance.naver.com/item/sise_day.nhn?code=034220&page=78\n",
      "https://finance.naver.com/item/sise_day.nhn?code=034220&page=79\n",
      "https://finance.naver.com/item/sise_day.nhn?code=034220&page=80\n",
      "https://finance.naver.com/item/sise_day.nhn?code=034220&page=81\n",
      "https://finance.naver.com/item/sise_day.nhn?code=034220&page=82\n",
      "https://finance.naver.com/item/sise_day.nhn?code=034220&page=83\n",
      "https://finance.naver.com/item/sise_day.nhn?code=034220&page=84\n",
      "https://finance.naver.com/item/sise_day.nhn?code=034220&page=85\n",
      "https://finance.naver.com/item/sise_day.nhn?code=034220&page=86\n",
      "https://finance.naver.com/item/sise_day.nhn?code=034220&page=87\n",
      "https://finance.naver.com/item/sise_day.nhn?code=034220&page=88\n",
      "https://finance.naver.com/item/sise_day.nhn?code=034220&page=89\n",
      "https://finance.naver.com/item/sise_day.nhn?code=034220&page=90\n",
      "https://finance.naver.com/item/sise_day.nhn?code=034220&page=91\n",
      "https://finance.naver.com/item/sise_day.nhn?code=034220&page=92\n",
      "https://finance.naver.com/item/sise_day.nhn?code=034220&page=93\n",
      "https://finance.naver.com/item/sise_day.nhn?code=034220&page=94\n",
      "https://finance.naver.com/item/sise_day.nhn?code=034220&page=95\n",
      "https://finance.naver.com/item/sise_day.nhn?code=034220&page=96\n",
      "https://finance.naver.com/item/sise_day.nhn?code=034220&page=97\n",
      "https://finance.naver.com/item/sise_day.nhn?code=034220&page=98\n",
      "https://finance.naver.com/item/sise_day.nhn?code=034220&page=99\n",
      "https://finance.naver.com/item/sise_day.nhn?code=034220&page=100\n",
      "https://finance.naver.com/item/sise_day.nhn?code=034220&page=101\n",
      "https://finance.naver.com/item/sise_day.nhn?code=034220&page=102\n",
      "https://finance.naver.com/item/sise_day.nhn?code=034220&page=103\n",
      "https://finance.naver.com/item/sise_day.nhn?code=034220&page=104\n",
      "https://finance.naver.com/item/sise_day.nhn?code=034220&page=105\n",
      "https://finance.naver.com/item/sise_day.nhn?code=034220&page=106\n",
      "https://finance.naver.com/item/sise_day.nhn?code=034220&page=107\n",
      "https://finance.naver.com/item/sise_day.nhn?code=034220&page=108\n",
      "https://finance.naver.com/item/sise_day.nhn?code=034220&page=109\n",
      "https://finance.naver.com/item/sise_day.nhn?code=034220&page=110\n",
      "https://finance.naver.com/item/sise_day.nhn?code=034220&page=111\n",
      "https://finance.naver.com/item/sise_day.nhn?code=034220&page=112\n",
      "https://finance.naver.com/item/sise_day.nhn?code=034220&page=113\n",
      "https://finance.naver.com/item/sise_day.nhn?code=034220&page=114\n",
      "https://finance.naver.com/item/sise_day.nhn?code=034220&page=115\n",
      "https://finance.naver.com/item/sise_day.nhn?code=034220&page=116\n",
      "https://finance.naver.com/item/sise_day.nhn?code=034220&page=117\n",
      "https://finance.naver.com/item/sise_day.nhn?code=034220&page=118\n",
      "https://finance.naver.com/item/sise_day.nhn?code=034220&page=119\n",
      "https://finance.naver.com/item/sise_day.nhn?code=034220&page=120\n",
      "https://finance.naver.com/item/sise_day.nhn?code=034220&page=121\n",
      "https://finance.naver.com/item/sise_day.nhn?code=034220&page=122\n",
      "https://finance.naver.com/item/sise_day.nhn?code=034220&page=123\n",
      "https://finance.naver.com/item/sise_day.nhn?code=034220&page=124\n",
      "https://finance.naver.com/item/sise_day.nhn?code=034220&page=125\n",
      "https://finance.naver.com/item/sise_day.nhn?code=034220&page=126\n",
      "https://finance.naver.com/item/sise_day.nhn?code=034220&page=127\n",
      "https://finance.naver.com/item/sise_day.nhn?code=034220&page=128\n",
      "https://finance.naver.com/item/sise_day.nhn?code=034220&page=129\n",
      "https://finance.naver.com/item/sise_day.nhn?code=034220&page=130\n",
      "https://finance.naver.com/item/sise_day.nhn?code=034220&page=131\n",
      "https://finance.naver.com/item/sise_day.nhn?code=034220&page=132\n",
      "https://finance.naver.com/item/sise_day.nhn?code=034220&page=133\n",
      "https://finance.naver.com/item/sise_day.nhn?code=034220&page=134\n",
      "https://finance.naver.com/item/sise_day.nhn?code=034220&page=135\n",
      "https://finance.naver.com/item/sise_day.nhn?code=034220&page=136\n",
      "https://finance.naver.com/item/sise_day.nhn?code=034220&page=137\n",
      "https://finance.naver.com/item/sise_day.nhn?code=034220&page=138\n",
      "https://finance.naver.com/item/sise_day.nhn?code=034220&page=139\n",
      "https://finance.naver.com/item/sise_day.nhn?code=034220&page=140\n",
      "https://finance.naver.com/item/sise_day.nhn?code=034220&page=141\n",
      "https://finance.naver.com/item/sise_day.nhn?code=034220&page=142\n",
      "https://finance.naver.com/item/sise_day.nhn?code=034220&page=143\n",
      "https://finance.naver.com/item/sise_day.nhn?code=034220&page=144\n",
      "https://finance.naver.com/item/sise_day.nhn?code=034220&page=145\n",
      "https://finance.naver.com/item/sise_day.nhn?code=034220&page=146\n",
      "https://finance.naver.com/item/sise_day.nhn?code=034220&page=147\n",
      "https://finance.naver.com/item/sise_day.nhn?code=034220&page=148\n",
      "https://finance.naver.com/item/sise_day.nhn?code=034220&page=149\n",
      "https://finance.naver.com/item/sise_day.nhn?code=034220&page=150\n",
      "https://finance.naver.com/item/sise_day.nhn?code=034220&page=151\n",
      "https://finance.naver.com/item/sise_day.nhn?code=034220&page=152\n",
      "https://finance.naver.com/item/sise_day.nhn?code=034220&page=153\n",
      "https://finance.naver.com/item/sise_day.nhn?code=034220&page=154\n",
      "https://finance.naver.com/item/sise_day.nhn?code=034220&page=155\n",
      "https://finance.naver.com/item/sise_day.nhn?code=034220&page=156\n",
      "https://finance.naver.com/item/sise_day.nhn?code=034220&page=157\n",
      "https://finance.naver.com/item/sise_day.nhn?code=034220&page=158\n",
      "https://finance.naver.com/item/sise_day.nhn?code=034220&page=10\n",
      "https://finance.naver.com/item/sise_day.nhn?code=034220&page=11\n",
      "https://finance.naver.com/item/sise_day.nhn?code=034220&page=12\n",
      "https://finance.naver.com/item/sise_day.nhn?code=034220&page=13\n",
      "https://finance.naver.com/item/sise_day.nhn?code=034220&page=14\n",
      "https://finance.naver.com/item/sise_day.nhn?code=034220&page=15\n",
      "https://finance.naver.com/item/sise_day.nhn?code=034220&page=16\n",
      "https://finance.naver.com/item/sise_day.nhn?code=034220&page=17\n",
      "https://finance.naver.com/item/sise_day.nhn?code=034220&page=18\n",
      "https://finance.naver.com/item/sise_day.nhn?code=034220&page=19\n",
      "https://finance.naver.com/item/sise_day.nhn?code=034220&page=20\n",
      "https://finance.naver.com/item/sise_day.nhn?code=034220&page=21\n",
      "https://finance.naver.com/item/sise_day.nhn?code=034220&page=22\n",
      "https://finance.naver.com/item/sise_day.nhn?code=034220&page=23\n",
      "https://finance.naver.com/item/sise_day.nhn?code=034220&page=24\n",
      "https://finance.naver.com/item/sise_day.nhn?code=034220&page=25\n",
      "https://finance.naver.com/item/sise_day.nhn?code=034220&page=26\n",
      "https://finance.naver.com/item/sise_day.nhn?code=034220&page=27\n",
      "https://finance.naver.com/item/sise_day.nhn?code=034220&page=28\n",
      "https://finance.naver.com/item/sise_day.nhn?code=034220&page=29\n",
      "https://finance.naver.com/item/sise_day.nhn?code=034220&page=30\n",
      "https://finance.naver.com/item/sise_day.nhn?code=034220&page=31\n",
      "https://finance.naver.com/item/sise_day.nhn?code=034220&page=32\n",
      "https://finance.naver.com/item/sise_day.nhn?code=034220&page=33\n",
      "https://finance.naver.com/item/sise_day.nhn?code=034220&page=34\n",
      "https://finance.naver.com/item/sise_day.nhn?code=034220&page=35\n",
      "https://finance.naver.com/item/sise_day.nhn?code=034220&page=36\n",
      "https://finance.naver.com/item/sise_day.nhn?code=034220&page=37\n",
      "https://finance.naver.com/item/sise_day.nhn?code=034220&page=38\n",
      "https://finance.naver.com/item/sise_day.nhn?code=034220&page=39\n",
      "https://finance.naver.com/item/sise_day.nhn?code=034220&page=40\n",
      "https://finance.naver.com/item/sise_day.nhn?code=034220&page=41\n",
      "https://finance.naver.com/item/sise_day.nhn?code=034220&page=42\n",
      "https://finance.naver.com/item/sise_day.nhn?code=034220&page=43\n",
      "https://finance.naver.com/item/sise_day.nhn?code=034220&page=44\n",
      "https://finance.naver.com/item/sise_day.nhn?code=034220&page=45\n",
      "https://finance.naver.com/item/sise_day.nhn?code=034220&page=46\n",
      "https://finance.naver.com/item/sise_day.nhn?code=034220&page=47\n",
      "https://finance.naver.com/item/sise_day.nhn?code=034220&page=48\n",
      "https://finance.naver.com/item/sise_day.nhn?code=034220&page=49\n",
      "https://finance.naver.com/item/sise_day.nhn?code=034220&page=50\n",
      "https://finance.naver.com/item/sise_day.nhn?code=034220&page=51\n",
      "https://finance.naver.com/item/sise_day.nhn?code=034220&page=52\n",
      "https://finance.naver.com/item/sise_day.nhn?code=034220&page=53\n",
      "https://finance.naver.com/item/sise_day.nhn?code=034220&page=54\n",
      "https://finance.naver.com/item/sise_day.nhn?code=034220&page=55\n",
      "https://finance.naver.com/item/sise_day.nhn?code=034220&page=56\n",
      "https://finance.naver.com/item/sise_day.nhn?code=034220&page=57\n",
      "https://finance.naver.com/item/sise_day.nhn?code=034220&page=58\n",
      "https://finance.naver.com/item/sise_day.nhn?code=034220&page=59\n",
      "https://finance.naver.com/item/sise_day.nhn?code=034220&page=60\n",
      "https://finance.naver.com/item/sise_day.nhn?code=034220&page=61\n",
      "https://finance.naver.com/item/sise_day.nhn?code=034220&page=62\n",
      "https://finance.naver.com/item/sise_day.nhn?code=034220&page=63\n",
      "https://finance.naver.com/item/sise_day.nhn?code=034220&page=64\n",
      "https://finance.naver.com/item/sise_day.nhn?code=034220&page=65\n",
      "https://finance.naver.com/item/sise_day.nhn?code=034220&page=66\n",
      "https://finance.naver.com/item/sise_day.nhn?code=034220&page=67\n",
      "https://finance.naver.com/item/sise_day.nhn?code=034220&page=68\n",
      "https://finance.naver.com/item/sise_day.nhn?code=034220&page=69\n",
      "https://finance.naver.com/item/sise_day.nhn?code=034220&page=70\n",
      "https://finance.naver.com/item/sise_day.nhn?code=034220&page=71\n",
      "https://finance.naver.com/item/sise_day.nhn?code=034220&page=72\n",
      "https://finance.naver.com/item/sise_day.nhn?code=034220&page=73\n",
      "https://finance.naver.com/item/sise_day.nhn?code=034220&page=74\n",
      "https://finance.naver.com/item/sise_day.nhn?code=034220&page=75\n",
      "https://finance.naver.com/item/sise_day.nhn?code=034220&page=76\n",
      "https://finance.naver.com/item/sise_day.nhn?code=034220&page=77\n",
      "https://finance.naver.com/item/sise_day.nhn?code=034220&page=78\n",
      "https://finance.naver.com/item/sise_day.nhn?code=034220&page=79\n",
      "https://finance.naver.com/item/sise_day.nhn?code=034220&page=80\n",
      "https://finance.naver.com/item/sise_day.nhn?code=034220&page=81\n",
      "https://finance.naver.com/item/sise_day.nhn?code=034220&page=82\n",
      "https://finance.naver.com/item/sise_day.nhn?code=034220&page=83\n",
      "https://finance.naver.com/item/sise_day.nhn?code=034220&page=84\n",
      "https://finance.naver.com/item/sise_day.nhn?code=034220&page=85\n",
      "https://finance.naver.com/item/sise_day.nhn?code=034220&page=86\n",
      "https://finance.naver.com/item/sise_day.nhn?code=034220&page=87\n",
      "https://finance.naver.com/item/sise_day.nhn?code=034220&page=88\n",
      "https://finance.naver.com/item/sise_day.nhn?code=034220&page=89\n",
      "https://finance.naver.com/item/sise_day.nhn?code=034220&page=90\n",
      "https://finance.naver.com/item/sise_day.nhn?code=034220&page=91\n",
      "https://finance.naver.com/item/sise_day.nhn?code=034220&page=92\n",
      "https://finance.naver.com/item/sise_day.nhn?code=034220&page=93\n",
      "https://finance.naver.com/item/sise_day.nhn?code=034220&page=94\n",
      "https://finance.naver.com/item/sise_day.nhn?code=034220&page=95\n",
      "https://finance.naver.com/item/sise_day.nhn?code=034220&page=96\n",
      "https://finance.naver.com/item/sise_day.nhn?code=034220&page=97\n",
      "https://finance.naver.com/item/sise_day.nhn?code=034220&page=98\n",
      "https://finance.naver.com/item/sise_day.nhn?code=034220&page=99\n",
      "https://finance.naver.com/item/sise_day.nhn?code=034220&page=100\n",
      "https://finance.naver.com/item/sise_day.nhn?code=034220&page=101\n",
      "https://finance.naver.com/item/sise_day.nhn?code=034220&page=102\n",
      "https://finance.naver.com/item/sise_day.nhn?code=034220&page=103\n",
      "https://finance.naver.com/item/sise_day.nhn?code=034220&page=104\n",
      "https://finance.naver.com/item/sise_day.nhn?code=034220&page=105\n",
      "https://finance.naver.com/item/sise_day.nhn?code=034220&page=106\n",
      "https://finance.naver.com/item/sise_day.nhn?code=034220&page=107\n",
      "https://finance.naver.com/item/sise_day.nhn?code=034220&page=108\n",
      "https://finance.naver.com/item/sise_day.nhn?code=034220&page=109\n",
      "https://finance.naver.com/item/sise_day.nhn?code=034220&page=110\n",
      "https://finance.naver.com/item/sise_day.nhn?code=034220&page=111\n",
      "https://finance.naver.com/item/sise_day.nhn?code=034220&page=112\n",
      "https://finance.naver.com/item/sise_day.nhn?code=034220&page=113\n",
      "https://finance.naver.com/item/sise_day.nhn?code=034220&page=114\n",
      "https://finance.naver.com/item/sise_day.nhn?code=034220&page=115\n",
      "https://finance.naver.com/item/sise_day.nhn?code=034220&page=116\n",
      "https://finance.naver.com/item/sise_day.nhn?code=034220&page=117\n",
      "https://finance.naver.com/item/sise_day.nhn?code=034220&page=118\n",
      "https://finance.naver.com/item/sise_day.nhn?code=034220&page=119\n",
      "https://finance.naver.com/item/sise_day.nhn?code=034220&page=120\n",
      "https://finance.naver.com/item/sise_day.nhn?code=034220&page=121\n",
      "https://finance.naver.com/item/sise_day.nhn?code=034220&page=122\n",
      "https://finance.naver.com/item/sise_day.nhn?code=034220&page=123\n",
      "https://finance.naver.com/item/sise_day.nhn?code=034220&page=124\n",
      "https://finance.naver.com/item/sise_day.nhn?code=034220&page=125\n",
      "https://finance.naver.com/item/sise_day.nhn?code=034220&page=126\n",
      "https://finance.naver.com/item/sise_day.nhn?code=034220&page=127\n",
      "https://finance.naver.com/item/sise_day.nhn?code=034220&page=128\n",
      "https://finance.naver.com/item/sise_day.nhn?code=034220&page=129\n",
      "https://finance.naver.com/item/sise_day.nhn?code=034220&page=130\n",
      "https://finance.naver.com/item/sise_day.nhn?code=034220&page=131\n",
      "https://finance.naver.com/item/sise_day.nhn?code=034220&page=132\n",
      "https://finance.naver.com/item/sise_day.nhn?code=034220&page=133\n",
      "https://finance.naver.com/item/sise_day.nhn?code=034220&page=134\n",
      "https://finance.naver.com/item/sise_day.nhn?code=034220&page=135\n",
      "https://finance.naver.com/item/sise_day.nhn?code=034220&page=136\n",
      "https://finance.naver.com/item/sise_day.nhn?code=034220&page=137\n",
      "https://finance.naver.com/item/sise_day.nhn?code=034220&page=138\n",
      "https://finance.naver.com/item/sise_day.nhn?code=034220&page=139\n",
      "https://finance.naver.com/item/sise_day.nhn?code=034220&page=140\n",
      "https://finance.naver.com/item/sise_day.nhn?code=034220&page=141\n",
      "https://finance.naver.com/item/sise_day.nhn?code=034220&page=142\n",
      "https://finance.naver.com/item/sise_day.nhn?code=034220&page=143\n",
      "https://finance.naver.com/item/sise_day.nhn?code=034220&page=144\n",
      "https://finance.naver.com/item/sise_day.nhn?code=034220&page=145\n",
      "https://finance.naver.com/item/sise_day.nhn?code=034220&page=146\n",
      "https://finance.naver.com/item/sise_day.nhn?code=034220&page=147\n",
      "https://finance.naver.com/item/sise_day.nhn?code=034220&page=148\n",
      "https://finance.naver.com/item/sise_day.nhn?code=034220&page=149\n",
      "https://finance.naver.com/item/sise_day.nhn?code=034220&page=150\n",
      "https://finance.naver.com/item/sise_day.nhn?code=034220&page=151\n",
      "https://finance.naver.com/item/sise_day.nhn?code=034220&page=152\n",
      "https://finance.naver.com/item/sise_day.nhn?code=034220&page=153\n",
      "https://finance.naver.com/item/sise_day.nhn?code=034220&page=154\n",
      "https://finance.naver.com/item/sise_day.nhn?code=034220&page=155\n",
      "https://finance.naver.com/item/sise_day.nhn?code=034220&page=156\n",
      "https://finance.naver.com/item/sise_day.nhn?code=034220&page=157\n",
      "https://finance.naver.com/item/sise_day.nhn?code=034220&page=158\n"
     ]
    }
   ],
   "source": [
    "lgdis = pd.DataFrame()\n",
    "sise_url = 'https://finance.naver.com/item/sise_day.nhn?code=034220'\n",
    "for page in range(10, 159):\n",
    "    page_url = '{}&page={}'.format(sise_url, page)\n",
    "    print(page_url)\n",
    "\n",
    "    response = requests.get(page_url, headers=headers)\n",
    "    html = bs(response.text, 'html.parser')\n",
    "    html_table = html.select(\"table\")\n",
    "    table = pd.read_html(str(html_table))\n",
    "\n",
    "    # 현재 얻은 데이터프레임을 기존 데이터프레임에 누적.\n",
    "    lgdis = lgdis.append(table[0].dropna())"
   ],
   "metadata": {
    "collapsed": false,
    "pycharm": {
     "name": "#%%\n"
    }
   }
  },
  {
   "cell_type": "code",
   "execution_count": 29,
   "outputs": [],
   "source": [
    "lgdis = lgdis.reset_index(drop=True)"
   ],
   "metadata": {
    "collapsed": false,
    "pycharm": {
     "name": "#%%\n"
    }
   }
  },
  {
   "cell_type": "code",
   "execution_count": 30,
   "outputs": [
    {
     "data": {
      "text/plain": "0       2023.01.05\n1       2023.01.04\n2       2023.01.03\n3       2023.01.02\n4       2022.12.29\n           ...    \n1485    2016.12.21\n1486    2016.12.20\n1487    2016.12.19\n1488    2016.12.16\n1489    2016.12.15\nName: 날짜, Length: 1490, dtype: object"
     },
     "execution_count": 30,
     "metadata": {},
     "output_type": "execute_result"
    }
   ],
   "source": [
    "lgdis['날짜']"
   ],
   "metadata": {
    "collapsed": false,
    "pycharm": {
     "name": "#%%\n"
    }
   }
  },
  {
   "cell_type": "code",
   "execution_count": 31,
   "outputs": [
    {
     "name": "stderr",
     "output_type": "stream",
     "text": [
      "C:\\Users\\msi\\AppData\\Local\\Temp/ipykernel_37144/2336449540.py:2: SettingWithCopyWarning: \n",
      "A value is trying to be set on a copy of a slice from a DataFrame\n",
      "\n",
      "See the caveats in the documentation: https://pandas.pydata.org/pandas-docs/stable/user_guide/indexing.html#returning-a-view-versus-a-copy\n",
      "  lgdis.날짜[i] = lgdis.날짜[i].replace('.', '')\n"
     ]
    }
   ],
   "source": [
    "for i in range(len(lgdis['날짜'])):\n",
    "    lgdis.날짜[i] = lgdis.날짜[i].replace('.', '')"
   ],
   "metadata": {
    "collapsed": false,
    "pycharm": {
     "name": "#%%\n"
    }
   }
  },
  {
   "cell_type": "code",
   "execution_count": 32,
   "outputs": [
    {
     "data": {
      "text/plain": "            날짜       종가    전일비       시가       고가       저가        거래량\n0     20230105  13000.0    0.0  13000.0  13150.0  12900.0  1003176.0\n1     20230104  13000.0  400.0  12550.0  13250.0  12500.0  1483621.0\n2     20230103  12600.0  100.0  12450.0  12700.0  12100.0  1351273.0\n3     20230102  12500.0   50.0  12500.0  12550.0  12350.0   623019.0\n4     20221229  12450.0  200.0  12500.0  12650.0  12400.0   860698.0\n...        ...      ...    ...      ...      ...      ...        ...\n1485  20161221  31500.0  950.0  30750.0  31900.0  30700.0  1753323.0\n1486  20161220  30550.0   50.0  30550.0  30700.0  30250.0   721049.0\n1487  20161219  30500.0  400.0  31200.0  31250.0  30350.0   968437.0\n1488  20161216  30900.0   50.0  30800.0  31600.0  30650.0  1471576.0\n1489  20161215  30950.0  650.0  30400.0  31200.0  30250.0  1631993.0\n\n[1490 rows x 7 columns]",
      "text/html": "<div>\n<style scoped>\n    .dataframe tbody tr th:only-of-type {\n        vertical-align: middle;\n    }\n\n    .dataframe tbody tr th {\n        vertical-align: top;\n    }\n\n    .dataframe thead th {\n        text-align: right;\n    }\n</style>\n<table border=\"1\" class=\"dataframe\">\n  <thead>\n    <tr style=\"text-align: right;\">\n      <th></th>\n      <th>날짜</th>\n      <th>종가</th>\n      <th>전일비</th>\n      <th>시가</th>\n      <th>고가</th>\n      <th>저가</th>\n      <th>거래량</th>\n    </tr>\n  </thead>\n  <tbody>\n    <tr>\n      <th>0</th>\n      <td>20230105</td>\n      <td>13000.0</td>\n      <td>0.0</td>\n      <td>13000.0</td>\n      <td>13150.0</td>\n      <td>12900.0</td>\n      <td>1003176.0</td>\n    </tr>\n    <tr>\n      <th>1</th>\n      <td>20230104</td>\n      <td>13000.0</td>\n      <td>400.0</td>\n      <td>12550.0</td>\n      <td>13250.0</td>\n      <td>12500.0</td>\n      <td>1483621.0</td>\n    </tr>\n    <tr>\n      <th>2</th>\n      <td>20230103</td>\n      <td>12600.0</td>\n      <td>100.0</td>\n      <td>12450.0</td>\n      <td>12700.0</td>\n      <td>12100.0</td>\n      <td>1351273.0</td>\n    </tr>\n    <tr>\n      <th>3</th>\n      <td>20230102</td>\n      <td>12500.0</td>\n      <td>50.0</td>\n      <td>12500.0</td>\n      <td>12550.0</td>\n      <td>12350.0</td>\n      <td>623019.0</td>\n    </tr>\n    <tr>\n      <th>4</th>\n      <td>20221229</td>\n      <td>12450.0</td>\n      <td>200.0</td>\n      <td>12500.0</td>\n      <td>12650.0</td>\n      <td>12400.0</td>\n      <td>860698.0</td>\n    </tr>\n    <tr>\n      <th>...</th>\n      <td>...</td>\n      <td>...</td>\n      <td>...</td>\n      <td>...</td>\n      <td>...</td>\n      <td>...</td>\n      <td>...</td>\n    </tr>\n    <tr>\n      <th>1485</th>\n      <td>20161221</td>\n      <td>31500.0</td>\n      <td>950.0</td>\n      <td>30750.0</td>\n      <td>31900.0</td>\n      <td>30700.0</td>\n      <td>1753323.0</td>\n    </tr>\n    <tr>\n      <th>1486</th>\n      <td>20161220</td>\n      <td>30550.0</td>\n      <td>50.0</td>\n      <td>30550.0</td>\n      <td>30700.0</td>\n      <td>30250.0</td>\n      <td>721049.0</td>\n    </tr>\n    <tr>\n      <th>1487</th>\n      <td>20161219</td>\n      <td>30500.0</td>\n      <td>400.0</td>\n      <td>31200.0</td>\n      <td>31250.0</td>\n      <td>30350.0</td>\n      <td>968437.0</td>\n    </tr>\n    <tr>\n      <th>1488</th>\n      <td>20161216</td>\n      <td>30900.0</td>\n      <td>50.0</td>\n      <td>30800.0</td>\n      <td>31600.0</td>\n      <td>30650.0</td>\n      <td>1471576.0</td>\n    </tr>\n    <tr>\n      <th>1489</th>\n      <td>20161215</td>\n      <td>30950.0</td>\n      <td>650.0</td>\n      <td>30400.0</td>\n      <td>31200.0</td>\n      <td>30250.0</td>\n      <td>1631993.0</td>\n    </tr>\n  </tbody>\n</table>\n<p>1490 rows × 7 columns</p>\n</div>"
     },
     "execution_count": 32,
     "metadata": {},
     "output_type": "execute_result"
    }
   ],
   "source": [
    "lgdis"
   ],
   "metadata": {
    "collapsed": false,
    "pycharm": {
     "name": "#%%\n"
    }
   }
  },
  {
   "cell_type": "code",
   "execution_count": 33,
   "outputs": [],
   "source": [
    "# lgdis = lgdis[lgdis[\"날짜\"].isin(['2022.09.30','2022.12.29', '2022.06.30', '2022.03.31', '2021.12.30', '2021.09.30', '2021.06.30', '2021.03.31', '2020.12.30', '2020.09.29', '2020.06.30', '2020.03.27', '2019.12.30', '2019.09.30', '2019.06.28', '2019.03.29', '2018.12.28', '2017.12.28', '2016.12.29'])]\n",
    "lgdis = lgdis.drop(labels=['전일비', '시가', '고가', '저가', '거래량'],axis=1)\n",
    "# lgdis = lgdis.transpose()"
   ],
   "metadata": {
    "collapsed": false,
    "pycharm": {
     "name": "#%%\n"
    }
   }
  },
  {
   "cell_type": "code",
   "execution_count": 35,
   "outputs": [],
   "source": [
    "lgdis['회사명'] = 'LG디스플레이'"
   ],
   "metadata": {
    "collapsed": false,
    "pycharm": {
     "name": "#%%\n"
    }
   }
  },
  {
   "cell_type": "code",
   "execution_count": 36,
   "outputs": [
    {
     "data": {
      "text/plain": "            날짜       종가      회사명\n0     20230105  13000.0  LG디스플레이\n1     20230104  13000.0  LG디스플레이\n2     20230103  12600.0  LG디스플레이\n3     20230102  12500.0  LG디스플레이\n4     20221229  12450.0  LG디스플레이\n...        ...      ...      ...\n1485  20161221  31500.0  LG디스플레이\n1486  20161220  30550.0  LG디스플레이\n1487  20161219  30500.0  LG디스플레이\n1488  20161216  30900.0  LG디스플레이\n1489  20161215  30950.0  LG디스플레이\n\n[1490 rows x 3 columns]",
      "text/html": "<div>\n<style scoped>\n    .dataframe tbody tr th:only-of-type {\n        vertical-align: middle;\n    }\n\n    .dataframe tbody tr th {\n        vertical-align: top;\n    }\n\n    .dataframe thead th {\n        text-align: right;\n    }\n</style>\n<table border=\"1\" class=\"dataframe\">\n  <thead>\n    <tr style=\"text-align: right;\">\n      <th></th>\n      <th>날짜</th>\n      <th>종가</th>\n      <th>회사명</th>\n    </tr>\n  </thead>\n  <tbody>\n    <tr>\n      <th>0</th>\n      <td>20230105</td>\n      <td>13000.0</td>\n      <td>LG디스플레이</td>\n    </tr>\n    <tr>\n      <th>1</th>\n      <td>20230104</td>\n      <td>13000.0</td>\n      <td>LG디스플레이</td>\n    </tr>\n    <tr>\n      <th>2</th>\n      <td>20230103</td>\n      <td>12600.0</td>\n      <td>LG디스플레이</td>\n    </tr>\n    <tr>\n      <th>3</th>\n      <td>20230102</td>\n      <td>12500.0</td>\n      <td>LG디스플레이</td>\n    </tr>\n    <tr>\n      <th>4</th>\n      <td>20221229</td>\n      <td>12450.0</td>\n      <td>LG디스플레이</td>\n    </tr>\n    <tr>\n      <th>...</th>\n      <td>...</td>\n      <td>...</td>\n      <td>...</td>\n    </tr>\n    <tr>\n      <th>1485</th>\n      <td>20161221</td>\n      <td>31500.0</td>\n      <td>LG디스플레이</td>\n    </tr>\n    <tr>\n      <th>1486</th>\n      <td>20161220</td>\n      <td>30550.0</td>\n      <td>LG디스플레이</td>\n    </tr>\n    <tr>\n      <th>1487</th>\n      <td>20161219</td>\n      <td>30500.0</td>\n      <td>LG디스플레이</td>\n    </tr>\n    <tr>\n      <th>1488</th>\n      <td>20161216</td>\n      <td>30900.0</td>\n      <td>LG디스플레이</td>\n    </tr>\n    <tr>\n      <th>1489</th>\n      <td>20161215</td>\n      <td>30950.0</td>\n      <td>LG디스플레이</td>\n    </tr>\n  </tbody>\n</table>\n<p>1490 rows × 3 columns</p>\n</div>"
     },
     "execution_count": 36,
     "metadata": {},
     "output_type": "execute_result"
    }
   ],
   "source": [
    "lgdis"
   ],
   "metadata": {
    "collapsed": false,
    "pycharm": {
     "name": "#%%\n"
    }
   }
  },
  {
   "cell_type": "code",
   "execution_count": 48,
   "outputs": [
    {
     "name": "stdout",
     "output_type": "stream",
     "text": [
      "https://finance.naver.com/item/sise_day.nhn?code=006400&page=10\n",
      "https://finance.naver.com/item/sise_day.nhn?code=006400&page=11\n",
      "https://finance.naver.com/item/sise_day.nhn?code=006400&page=12\n",
      "https://finance.naver.com/item/sise_day.nhn?code=006400&page=13\n",
      "https://finance.naver.com/item/sise_day.nhn?code=006400&page=14\n",
      "https://finance.naver.com/item/sise_day.nhn?code=006400&page=15\n",
      "https://finance.naver.com/item/sise_day.nhn?code=006400&page=16\n",
      "https://finance.naver.com/item/sise_day.nhn?code=006400&page=17\n",
      "https://finance.naver.com/item/sise_day.nhn?code=006400&page=18\n",
      "https://finance.naver.com/item/sise_day.nhn?code=006400&page=19\n",
      "https://finance.naver.com/item/sise_day.nhn?code=006400&page=20\n",
      "https://finance.naver.com/item/sise_day.nhn?code=006400&page=21\n",
      "https://finance.naver.com/item/sise_day.nhn?code=006400&page=22\n",
      "https://finance.naver.com/item/sise_day.nhn?code=006400&page=23\n",
      "https://finance.naver.com/item/sise_day.nhn?code=006400&page=24\n",
      "https://finance.naver.com/item/sise_day.nhn?code=006400&page=25\n",
      "https://finance.naver.com/item/sise_day.nhn?code=006400&page=26\n",
      "https://finance.naver.com/item/sise_day.nhn?code=006400&page=27\n",
      "https://finance.naver.com/item/sise_day.nhn?code=006400&page=28\n",
      "https://finance.naver.com/item/sise_day.nhn?code=006400&page=29\n",
      "https://finance.naver.com/item/sise_day.nhn?code=006400&page=30\n",
      "https://finance.naver.com/item/sise_day.nhn?code=006400&page=31\n",
      "https://finance.naver.com/item/sise_day.nhn?code=006400&page=32\n",
      "https://finance.naver.com/item/sise_day.nhn?code=006400&page=33\n",
      "https://finance.naver.com/item/sise_day.nhn?code=006400&page=34\n",
      "https://finance.naver.com/item/sise_day.nhn?code=006400&page=35\n",
      "https://finance.naver.com/item/sise_day.nhn?code=006400&page=36\n",
      "https://finance.naver.com/item/sise_day.nhn?code=006400&page=37\n",
      "https://finance.naver.com/item/sise_day.nhn?code=006400&page=38\n",
      "https://finance.naver.com/item/sise_day.nhn?code=006400&page=39\n",
      "https://finance.naver.com/item/sise_day.nhn?code=006400&page=40\n",
      "https://finance.naver.com/item/sise_day.nhn?code=006400&page=41\n",
      "https://finance.naver.com/item/sise_day.nhn?code=006400&page=42\n",
      "https://finance.naver.com/item/sise_day.nhn?code=006400&page=43\n",
      "https://finance.naver.com/item/sise_day.nhn?code=006400&page=44\n",
      "https://finance.naver.com/item/sise_day.nhn?code=006400&page=45\n",
      "https://finance.naver.com/item/sise_day.nhn?code=006400&page=46\n",
      "https://finance.naver.com/item/sise_day.nhn?code=006400&page=47\n",
      "https://finance.naver.com/item/sise_day.nhn?code=006400&page=48\n",
      "https://finance.naver.com/item/sise_day.nhn?code=006400&page=49\n",
      "https://finance.naver.com/item/sise_day.nhn?code=006400&page=50\n",
      "https://finance.naver.com/item/sise_day.nhn?code=006400&page=51\n",
      "https://finance.naver.com/item/sise_day.nhn?code=006400&page=52\n",
      "https://finance.naver.com/item/sise_day.nhn?code=006400&page=53\n",
      "https://finance.naver.com/item/sise_day.nhn?code=006400&page=54\n",
      "https://finance.naver.com/item/sise_day.nhn?code=006400&page=55\n",
      "https://finance.naver.com/item/sise_day.nhn?code=006400&page=56\n",
      "https://finance.naver.com/item/sise_day.nhn?code=006400&page=57\n",
      "https://finance.naver.com/item/sise_day.nhn?code=006400&page=58\n",
      "https://finance.naver.com/item/sise_day.nhn?code=006400&page=59\n",
      "https://finance.naver.com/item/sise_day.nhn?code=006400&page=60\n",
      "https://finance.naver.com/item/sise_day.nhn?code=006400&page=61\n",
      "https://finance.naver.com/item/sise_day.nhn?code=006400&page=62\n",
      "https://finance.naver.com/item/sise_day.nhn?code=006400&page=63\n",
      "https://finance.naver.com/item/sise_day.nhn?code=006400&page=64\n",
      "https://finance.naver.com/item/sise_day.nhn?code=006400&page=65\n",
      "https://finance.naver.com/item/sise_day.nhn?code=006400&page=66\n",
      "https://finance.naver.com/item/sise_day.nhn?code=006400&page=67\n",
      "https://finance.naver.com/item/sise_day.nhn?code=006400&page=68\n",
      "https://finance.naver.com/item/sise_day.nhn?code=006400&page=69\n",
      "https://finance.naver.com/item/sise_day.nhn?code=006400&page=70\n",
      "https://finance.naver.com/item/sise_day.nhn?code=006400&page=71\n",
      "https://finance.naver.com/item/sise_day.nhn?code=006400&page=72\n",
      "https://finance.naver.com/item/sise_day.nhn?code=006400&page=73\n",
      "https://finance.naver.com/item/sise_day.nhn?code=006400&page=74\n",
      "https://finance.naver.com/item/sise_day.nhn?code=006400&page=75\n",
      "https://finance.naver.com/item/sise_day.nhn?code=006400&page=76\n",
      "https://finance.naver.com/item/sise_day.nhn?code=006400&page=77\n",
      "https://finance.naver.com/item/sise_day.nhn?code=006400&page=78\n",
      "https://finance.naver.com/item/sise_day.nhn?code=006400&page=79\n",
      "https://finance.naver.com/item/sise_day.nhn?code=006400&page=80\n",
      "https://finance.naver.com/item/sise_day.nhn?code=006400&page=81\n",
      "https://finance.naver.com/item/sise_day.nhn?code=006400&page=82\n",
      "https://finance.naver.com/item/sise_day.nhn?code=006400&page=83\n",
      "https://finance.naver.com/item/sise_day.nhn?code=006400&page=84\n",
      "https://finance.naver.com/item/sise_day.nhn?code=006400&page=85\n",
      "https://finance.naver.com/item/sise_day.nhn?code=006400&page=86\n",
      "https://finance.naver.com/item/sise_day.nhn?code=006400&page=87\n",
      "https://finance.naver.com/item/sise_day.nhn?code=006400&page=88\n",
      "https://finance.naver.com/item/sise_day.nhn?code=006400&page=89\n",
      "https://finance.naver.com/item/sise_day.nhn?code=006400&page=90\n",
      "https://finance.naver.com/item/sise_day.nhn?code=006400&page=91\n",
      "https://finance.naver.com/item/sise_day.nhn?code=006400&page=92\n",
      "https://finance.naver.com/item/sise_day.nhn?code=006400&page=93\n",
      "https://finance.naver.com/item/sise_day.nhn?code=006400&page=94\n",
      "https://finance.naver.com/item/sise_day.nhn?code=006400&page=95\n",
      "https://finance.naver.com/item/sise_day.nhn?code=006400&page=96\n",
      "https://finance.naver.com/item/sise_day.nhn?code=006400&page=97\n",
      "https://finance.naver.com/item/sise_day.nhn?code=006400&page=98\n",
      "https://finance.naver.com/item/sise_day.nhn?code=006400&page=99\n",
      "https://finance.naver.com/item/sise_day.nhn?code=006400&page=100\n",
      "https://finance.naver.com/item/sise_day.nhn?code=006400&page=101\n",
      "https://finance.naver.com/item/sise_day.nhn?code=006400&page=102\n",
      "https://finance.naver.com/item/sise_day.nhn?code=006400&page=103\n",
      "https://finance.naver.com/item/sise_day.nhn?code=006400&page=104\n",
      "https://finance.naver.com/item/sise_day.nhn?code=006400&page=105\n",
      "https://finance.naver.com/item/sise_day.nhn?code=006400&page=106\n",
      "https://finance.naver.com/item/sise_day.nhn?code=006400&page=107\n",
      "https://finance.naver.com/item/sise_day.nhn?code=006400&page=108\n",
      "https://finance.naver.com/item/sise_day.nhn?code=006400&page=109\n",
      "https://finance.naver.com/item/sise_day.nhn?code=006400&page=110\n",
      "https://finance.naver.com/item/sise_day.nhn?code=006400&page=111\n",
      "https://finance.naver.com/item/sise_day.nhn?code=006400&page=112\n",
      "https://finance.naver.com/item/sise_day.nhn?code=006400&page=113\n",
      "https://finance.naver.com/item/sise_day.nhn?code=006400&page=114\n",
      "https://finance.naver.com/item/sise_day.nhn?code=006400&page=115\n",
      "https://finance.naver.com/item/sise_day.nhn?code=006400&page=116\n",
      "https://finance.naver.com/item/sise_day.nhn?code=006400&page=117\n",
      "https://finance.naver.com/item/sise_day.nhn?code=006400&page=118\n",
      "https://finance.naver.com/item/sise_day.nhn?code=006400&page=119\n",
      "https://finance.naver.com/item/sise_day.nhn?code=006400&page=120\n",
      "https://finance.naver.com/item/sise_day.nhn?code=006400&page=121\n",
      "https://finance.naver.com/item/sise_day.nhn?code=006400&page=122\n",
      "https://finance.naver.com/item/sise_day.nhn?code=006400&page=123\n",
      "https://finance.naver.com/item/sise_day.nhn?code=006400&page=124\n",
      "https://finance.naver.com/item/sise_day.nhn?code=006400&page=125\n",
      "https://finance.naver.com/item/sise_day.nhn?code=006400&page=126\n",
      "https://finance.naver.com/item/sise_day.nhn?code=006400&page=127\n",
      "https://finance.naver.com/item/sise_day.nhn?code=006400&page=128\n",
      "https://finance.naver.com/item/sise_day.nhn?code=006400&page=129\n",
      "https://finance.naver.com/item/sise_day.nhn?code=006400&page=130\n",
      "https://finance.naver.com/item/sise_day.nhn?code=006400&page=131\n",
      "https://finance.naver.com/item/sise_day.nhn?code=006400&page=132\n",
      "https://finance.naver.com/item/sise_day.nhn?code=006400&page=133\n",
      "https://finance.naver.com/item/sise_day.nhn?code=006400&page=134\n",
      "https://finance.naver.com/item/sise_day.nhn?code=006400&page=135\n",
      "https://finance.naver.com/item/sise_day.nhn?code=006400&page=136\n",
      "https://finance.naver.com/item/sise_day.nhn?code=006400&page=137\n",
      "https://finance.naver.com/item/sise_day.nhn?code=006400&page=138\n",
      "https://finance.naver.com/item/sise_day.nhn?code=006400&page=139\n",
      "https://finance.naver.com/item/sise_day.nhn?code=006400&page=140\n",
      "https://finance.naver.com/item/sise_day.nhn?code=006400&page=141\n",
      "https://finance.naver.com/item/sise_day.nhn?code=006400&page=142\n",
      "https://finance.naver.com/item/sise_day.nhn?code=006400&page=143\n",
      "https://finance.naver.com/item/sise_day.nhn?code=006400&page=144\n",
      "https://finance.naver.com/item/sise_day.nhn?code=006400&page=145\n",
      "https://finance.naver.com/item/sise_day.nhn?code=006400&page=146\n",
      "https://finance.naver.com/item/sise_day.nhn?code=006400&page=147\n",
      "https://finance.naver.com/item/sise_day.nhn?code=006400&page=148\n",
      "https://finance.naver.com/item/sise_day.nhn?code=006400&page=149\n",
      "https://finance.naver.com/item/sise_day.nhn?code=006400&page=150\n",
      "https://finance.naver.com/item/sise_day.nhn?code=006400&page=151\n",
      "https://finance.naver.com/item/sise_day.nhn?code=006400&page=152\n",
      "https://finance.naver.com/item/sise_day.nhn?code=006400&page=153\n",
      "https://finance.naver.com/item/sise_day.nhn?code=006400&page=154\n",
      "https://finance.naver.com/item/sise_day.nhn?code=006400&page=155\n",
      "https://finance.naver.com/item/sise_day.nhn?code=006400&page=156\n",
      "https://finance.naver.com/item/sise_day.nhn?code=006400&page=157\n",
      "https://finance.naver.com/item/sise_day.nhn?code=006400&page=158\n"
     ]
    }
   ],
   "source": [
    "samsungsdi = pd.DataFrame()\n",
    "sise_url = 'https://finance.naver.com/item/sise_day.nhn?code=006400'\n",
    "for page in range(10, 159):\n",
    "    page_url = '{}&page={}'.format(sise_url, page)\n",
    "    print(page_url)\n",
    "\n",
    "    # 위에서 했던 일련의 과정들을 각 url에 대해서 (99페이지에 대해서 반복)\n",
    "    response = requests.get(page_url, headers=headers)\n",
    "    html = bs(response.text, 'html.parser')\n",
    "    html_table = html.select(\"table\")\n",
    "    table = pd.read_html(str(html_table))\n",
    "\n",
    "    # 현재 얻은 데이터프레임을 기존 데이터프레임에 누적.\n",
    "    samsungsdi = samsungsdi.append(table[0].dropna())"
   ],
   "metadata": {
    "collapsed": false,
    "pycharm": {
     "name": "#%%\n"
    }
   }
  },
  {
   "cell_type": "code",
   "execution_count": 49,
   "outputs": [
    {
     "name": "stderr",
     "output_type": "stream",
     "text": [
      "C:\\Users\\msi\\AppData\\Local\\Temp/ipykernel_37144/1855556086.py:3: SettingWithCopyWarning: \n",
      "A value is trying to be set on a copy of a slice from a DataFrame\n",
      "\n",
      "See the caveats in the documentation: https://pandas.pydata.org/pandas-docs/stable/user_guide/indexing.html#returning-a-view-versus-a-copy\n",
      "  samsungsdi.날짜[i] = samsungsdi.날짜[i].replace('.', '')\n"
     ]
    }
   ],
   "source": [
    "samsungsdi = samsungsdi.reset_index(drop=True)\n",
    "for i in range(len(samsungsdi['날짜'])):\n",
    "    samsungsdi.날짜[i] = samsungsdi.날짜[i].replace('.', '')\n",
    "samsungsdi['회사명'] = '삼성SDI'"
   ],
   "metadata": {
    "collapsed": false,
    "pycharm": {
     "name": "#%%\n"
    }
   }
  },
  {
   "cell_type": "code",
   "execution_count": 50,
   "outputs": [
    {
     "data": {
      "text/plain": "            날짜        종가      전일비        시가        고가        저가       거래량  \\\n0     20230105  583000.0  20000.0  612000.0  612000.0  582000.0  367433.0   \n1     20230104  603000.0   2000.0  596000.0  606000.0  581000.0  223659.0   \n2     20230103  605000.0   3000.0  613000.0  618000.0  596000.0  203771.0   \n3     20230102  602000.0  11000.0  597000.0  616000.0  597000.0  142102.0   \n4     20221229  591000.0  12000.0  604000.0  606000.0  591000.0  197767.0   \n...        ...       ...      ...       ...       ...       ...       ...   \n1485  20161221  108000.0   2000.0  109500.0  110500.0  107000.0  357406.0   \n1486  20161220  110000.0   2500.0  107500.0  111000.0  106500.0  432729.0   \n1487  20161219  107500.0   3500.0  103500.0  108000.0  103500.0  483287.0   \n1488  20161216  104000.0   2000.0  101500.0  104500.0  100500.0  452672.0   \n1489  20161215  102000.0   4300.0   97700.0  102500.0   96900.0  508417.0   \n\n        회사명  \n0     삼성SDI  \n1     삼성SDI  \n2     삼성SDI  \n3     삼성SDI  \n4     삼성SDI  \n...     ...  \n1485  삼성SDI  \n1486  삼성SDI  \n1487  삼성SDI  \n1488  삼성SDI  \n1489  삼성SDI  \n\n[1490 rows x 8 columns]",
      "text/html": "<div>\n<style scoped>\n    .dataframe tbody tr th:only-of-type {\n        vertical-align: middle;\n    }\n\n    .dataframe tbody tr th {\n        vertical-align: top;\n    }\n\n    .dataframe thead th {\n        text-align: right;\n    }\n</style>\n<table border=\"1\" class=\"dataframe\">\n  <thead>\n    <tr style=\"text-align: right;\">\n      <th></th>\n      <th>날짜</th>\n      <th>종가</th>\n      <th>전일비</th>\n      <th>시가</th>\n      <th>고가</th>\n      <th>저가</th>\n      <th>거래량</th>\n      <th>회사명</th>\n    </tr>\n  </thead>\n  <tbody>\n    <tr>\n      <th>0</th>\n      <td>20230105</td>\n      <td>583000.0</td>\n      <td>20000.0</td>\n      <td>612000.0</td>\n      <td>612000.0</td>\n      <td>582000.0</td>\n      <td>367433.0</td>\n      <td>삼성SDI</td>\n    </tr>\n    <tr>\n      <th>1</th>\n      <td>20230104</td>\n      <td>603000.0</td>\n      <td>2000.0</td>\n      <td>596000.0</td>\n      <td>606000.0</td>\n      <td>581000.0</td>\n      <td>223659.0</td>\n      <td>삼성SDI</td>\n    </tr>\n    <tr>\n      <th>2</th>\n      <td>20230103</td>\n      <td>605000.0</td>\n      <td>3000.0</td>\n      <td>613000.0</td>\n      <td>618000.0</td>\n      <td>596000.0</td>\n      <td>203771.0</td>\n      <td>삼성SDI</td>\n    </tr>\n    <tr>\n      <th>3</th>\n      <td>20230102</td>\n      <td>602000.0</td>\n      <td>11000.0</td>\n      <td>597000.0</td>\n      <td>616000.0</td>\n      <td>597000.0</td>\n      <td>142102.0</td>\n      <td>삼성SDI</td>\n    </tr>\n    <tr>\n      <th>4</th>\n      <td>20221229</td>\n      <td>591000.0</td>\n      <td>12000.0</td>\n      <td>604000.0</td>\n      <td>606000.0</td>\n      <td>591000.0</td>\n      <td>197767.0</td>\n      <td>삼성SDI</td>\n    </tr>\n    <tr>\n      <th>...</th>\n      <td>...</td>\n      <td>...</td>\n      <td>...</td>\n      <td>...</td>\n      <td>...</td>\n      <td>...</td>\n      <td>...</td>\n      <td>...</td>\n    </tr>\n    <tr>\n      <th>1485</th>\n      <td>20161221</td>\n      <td>108000.0</td>\n      <td>2000.0</td>\n      <td>109500.0</td>\n      <td>110500.0</td>\n      <td>107000.0</td>\n      <td>357406.0</td>\n      <td>삼성SDI</td>\n    </tr>\n    <tr>\n      <th>1486</th>\n      <td>20161220</td>\n      <td>110000.0</td>\n      <td>2500.0</td>\n      <td>107500.0</td>\n      <td>111000.0</td>\n      <td>106500.0</td>\n      <td>432729.0</td>\n      <td>삼성SDI</td>\n    </tr>\n    <tr>\n      <th>1487</th>\n      <td>20161219</td>\n      <td>107500.0</td>\n      <td>3500.0</td>\n      <td>103500.0</td>\n      <td>108000.0</td>\n      <td>103500.0</td>\n      <td>483287.0</td>\n      <td>삼성SDI</td>\n    </tr>\n    <tr>\n      <th>1488</th>\n      <td>20161216</td>\n      <td>104000.0</td>\n      <td>2000.0</td>\n      <td>101500.0</td>\n      <td>104500.0</td>\n      <td>100500.0</td>\n      <td>452672.0</td>\n      <td>삼성SDI</td>\n    </tr>\n    <tr>\n      <th>1489</th>\n      <td>20161215</td>\n      <td>102000.0</td>\n      <td>4300.0</td>\n      <td>97700.0</td>\n      <td>102500.0</td>\n      <td>96900.0</td>\n      <td>508417.0</td>\n      <td>삼성SDI</td>\n    </tr>\n  </tbody>\n</table>\n<p>1490 rows × 8 columns</p>\n</div>"
     },
     "execution_count": 50,
     "metadata": {},
     "output_type": "execute_result"
    }
   ],
   "source": [
    "samsungsdi"
   ],
   "metadata": {
    "collapsed": false,
    "pycharm": {
     "name": "#%%\n"
    }
   }
  },
  {
   "cell_type": "code",
   "execution_count": 51,
   "outputs": [],
   "source": [
    "# samsungsdi = samsungsdi[samsungsdi[\"날짜\"].isin(['2022.09.30','2022.12.29', '2022.06.30', '2022.03.31', '2021.12.30', '2021.09.30', '2021.06.30', '2021.03.31', '2020.12.30', '2020.09.29', '2020.06.30', '2020.03.27', '2019.12.30', '2019.09.30', '2019.06.28', '2019.03.29', '2018.12.28', '2017.12.28', '2016.12.29'])]\n",
    "samsungsdi = samsungsdi.drop(labels=['전일비', '시가', '고가', '저가', '거래량'],axis=1)\n",
    "# samsungsdi = samsungsdi.transpose()"
   ],
   "metadata": {
    "collapsed": false,
    "pycharm": {
     "name": "#%%\n"
    }
   }
  },
  {
   "cell_type": "code",
   "execution_count": 52,
   "outputs": [
    {
     "data": {
      "text/plain": "            날짜        종가    회사명\n0     20230105  583000.0  삼성SDI\n1     20230104  603000.0  삼성SDI\n2     20230103  605000.0  삼성SDI\n3     20230102  602000.0  삼성SDI\n4     20221229  591000.0  삼성SDI\n...        ...       ...    ...\n1485  20161221  108000.0  삼성SDI\n1486  20161220  110000.0  삼성SDI\n1487  20161219  107500.0  삼성SDI\n1488  20161216  104000.0  삼성SDI\n1489  20161215  102000.0  삼성SDI\n\n[1490 rows x 3 columns]",
      "text/html": "<div>\n<style scoped>\n    .dataframe tbody tr th:only-of-type {\n        vertical-align: middle;\n    }\n\n    .dataframe tbody tr th {\n        vertical-align: top;\n    }\n\n    .dataframe thead th {\n        text-align: right;\n    }\n</style>\n<table border=\"1\" class=\"dataframe\">\n  <thead>\n    <tr style=\"text-align: right;\">\n      <th></th>\n      <th>날짜</th>\n      <th>종가</th>\n      <th>회사명</th>\n    </tr>\n  </thead>\n  <tbody>\n    <tr>\n      <th>0</th>\n      <td>20230105</td>\n      <td>583000.0</td>\n      <td>삼성SDI</td>\n    </tr>\n    <tr>\n      <th>1</th>\n      <td>20230104</td>\n      <td>603000.0</td>\n      <td>삼성SDI</td>\n    </tr>\n    <tr>\n      <th>2</th>\n      <td>20230103</td>\n      <td>605000.0</td>\n      <td>삼성SDI</td>\n    </tr>\n    <tr>\n      <th>3</th>\n      <td>20230102</td>\n      <td>602000.0</td>\n      <td>삼성SDI</td>\n    </tr>\n    <tr>\n      <th>4</th>\n      <td>20221229</td>\n      <td>591000.0</td>\n      <td>삼성SDI</td>\n    </tr>\n    <tr>\n      <th>...</th>\n      <td>...</td>\n      <td>...</td>\n      <td>...</td>\n    </tr>\n    <tr>\n      <th>1485</th>\n      <td>20161221</td>\n      <td>108000.0</td>\n      <td>삼성SDI</td>\n    </tr>\n    <tr>\n      <th>1486</th>\n      <td>20161220</td>\n      <td>110000.0</td>\n      <td>삼성SDI</td>\n    </tr>\n    <tr>\n      <th>1487</th>\n      <td>20161219</td>\n      <td>107500.0</td>\n      <td>삼성SDI</td>\n    </tr>\n    <tr>\n      <th>1488</th>\n      <td>20161216</td>\n      <td>104000.0</td>\n      <td>삼성SDI</td>\n    </tr>\n    <tr>\n      <th>1489</th>\n      <td>20161215</td>\n      <td>102000.0</td>\n      <td>삼성SDI</td>\n    </tr>\n  </tbody>\n</table>\n<p>1490 rows × 3 columns</p>\n</div>"
     },
     "execution_count": 52,
     "metadata": {},
     "output_type": "execute_result"
    }
   ],
   "source": [
    "samsungsdi"
   ],
   "metadata": {
    "collapsed": false,
    "pycharm": {
     "name": "#%%\n"
    }
   }
  },
  {
   "cell_type": "code",
   "execution_count": 53,
   "outputs": [
    {
     "name": "stdout",
     "output_type": "stream",
     "text": [
      "https://finance.naver.com/item/sise_day.nhn?code=005930&page=10\n",
      "https://finance.naver.com/item/sise_day.nhn?code=005930&page=11\n",
      "https://finance.naver.com/item/sise_day.nhn?code=005930&page=12\n",
      "https://finance.naver.com/item/sise_day.nhn?code=005930&page=13\n",
      "https://finance.naver.com/item/sise_day.nhn?code=005930&page=14\n",
      "https://finance.naver.com/item/sise_day.nhn?code=005930&page=15\n",
      "https://finance.naver.com/item/sise_day.nhn?code=005930&page=16\n",
      "https://finance.naver.com/item/sise_day.nhn?code=005930&page=17\n",
      "https://finance.naver.com/item/sise_day.nhn?code=005930&page=18\n",
      "https://finance.naver.com/item/sise_day.nhn?code=005930&page=19\n",
      "https://finance.naver.com/item/sise_day.nhn?code=005930&page=20\n",
      "https://finance.naver.com/item/sise_day.nhn?code=005930&page=21\n",
      "https://finance.naver.com/item/sise_day.nhn?code=005930&page=22\n",
      "https://finance.naver.com/item/sise_day.nhn?code=005930&page=23\n",
      "https://finance.naver.com/item/sise_day.nhn?code=005930&page=24\n",
      "https://finance.naver.com/item/sise_day.nhn?code=005930&page=25\n",
      "https://finance.naver.com/item/sise_day.nhn?code=005930&page=26\n",
      "https://finance.naver.com/item/sise_day.nhn?code=005930&page=27\n",
      "https://finance.naver.com/item/sise_day.nhn?code=005930&page=28\n",
      "https://finance.naver.com/item/sise_day.nhn?code=005930&page=29\n",
      "https://finance.naver.com/item/sise_day.nhn?code=005930&page=30\n",
      "https://finance.naver.com/item/sise_day.nhn?code=005930&page=31\n",
      "https://finance.naver.com/item/sise_day.nhn?code=005930&page=32\n",
      "https://finance.naver.com/item/sise_day.nhn?code=005930&page=33\n",
      "https://finance.naver.com/item/sise_day.nhn?code=005930&page=34\n",
      "https://finance.naver.com/item/sise_day.nhn?code=005930&page=35\n",
      "https://finance.naver.com/item/sise_day.nhn?code=005930&page=36\n",
      "https://finance.naver.com/item/sise_day.nhn?code=005930&page=37\n",
      "https://finance.naver.com/item/sise_day.nhn?code=005930&page=38\n",
      "https://finance.naver.com/item/sise_day.nhn?code=005930&page=39\n",
      "https://finance.naver.com/item/sise_day.nhn?code=005930&page=40\n",
      "https://finance.naver.com/item/sise_day.nhn?code=005930&page=41\n",
      "https://finance.naver.com/item/sise_day.nhn?code=005930&page=42\n",
      "https://finance.naver.com/item/sise_day.nhn?code=005930&page=43\n",
      "https://finance.naver.com/item/sise_day.nhn?code=005930&page=44\n",
      "https://finance.naver.com/item/sise_day.nhn?code=005930&page=45\n",
      "https://finance.naver.com/item/sise_day.nhn?code=005930&page=46\n",
      "https://finance.naver.com/item/sise_day.nhn?code=005930&page=47\n",
      "https://finance.naver.com/item/sise_day.nhn?code=005930&page=48\n",
      "https://finance.naver.com/item/sise_day.nhn?code=005930&page=49\n",
      "https://finance.naver.com/item/sise_day.nhn?code=005930&page=50\n",
      "https://finance.naver.com/item/sise_day.nhn?code=005930&page=51\n",
      "https://finance.naver.com/item/sise_day.nhn?code=005930&page=52\n",
      "https://finance.naver.com/item/sise_day.nhn?code=005930&page=53\n",
      "https://finance.naver.com/item/sise_day.nhn?code=005930&page=54\n",
      "https://finance.naver.com/item/sise_day.nhn?code=005930&page=55\n",
      "https://finance.naver.com/item/sise_day.nhn?code=005930&page=56\n",
      "https://finance.naver.com/item/sise_day.nhn?code=005930&page=57\n",
      "https://finance.naver.com/item/sise_day.nhn?code=005930&page=58\n",
      "https://finance.naver.com/item/sise_day.nhn?code=005930&page=59\n",
      "https://finance.naver.com/item/sise_day.nhn?code=005930&page=60\n",
      "https://finance.naver.com/item/sise_day.nhn?code=005930&page=61\n",
      "https://finance.naver.com/item/sise_day.nhn?code=005930&page=62\n",
      "https://finance.naver.com/item/sise_day.nhn?code=005930&page=63\n",
      "https://finance.naver.com/item/sise_day.nhn?code=005930&page=64\n",
      "https://finance.naver.com/item/sise_day.nhn?code=005930&page=65\n",
      "https://finance.naver.com/item/sise_day.nhn?code=005930&page=66\n",
      "https://finance.naver.com/item/sise_day.nhn?code=005930&page=67\n",
      "https://finance.naver.com/item/sise_day.nhn?code=005930&page=68\n",
      "https://finance.naver.com/item/sise_day.nhn?code=005930&page=69\n",
      "https://finance.naver.com/item/sise_day.nhn?code=005930&page=70\n",
      "https://finance.naver.com/item/sise_day.nhn?code=005930&page=71\n",
      "https://finance.naver.com/item/sise_day.nhn?code=005930&page=72\n",
      "https://finance.naver.com/item/sise_day.nhn?code=005930&page=73\n",
      "https://finance.naver.com/item/sise_day.nhn?code=005930&page=74\n",
      "https://finance.naver.com/item/sise_day.nhn?code=005930&page=75\n",
      "https://finance.naver.com/item/sise_day.nhn?code=005930&page=76\n",
      "https://finance.naver.com/item/sise_day.nhn?code=005930&page=77\n",
      "https://finance.naver.com/item/sise_day.nhn?code=005930&page=78\n",
      "https://finance.naver.com/item/sise_day.nhn?code=005930&page=79\n",
      "https://finance.naver.com/item/sise_day.nhn?code=005930&page=80\n",
      "https://finance.naver.com/item/sise_day.nhn?code=005930&page=81\n",
      "https://finance.naver.com/item/sise_day.nhn?code=005930&page=82\n",
      "https://finance.naver.com/item/sise_day.nhn?code=005930&page=83\n",
      "https://finance.naver.com/item/sise_day.nhn?code=005930&page=84\n",
      "https://finance.naver.com/item/sise_day.nhn?code=005930&page=85\n",
      "https://finance.naver.com/item/sise_day.nhn?code=005930&page=86\n",
      "https://finance.naver.com/item/sise_day.nhn?code=005930&page=87\n",
      "https://finance.naver.com/item/sise_day.nhn?code=005930&page=88\n",
      "https://finance.naver.com/item/sise_day.nhn?code=005930&page=89\n",
      "https://finance.naver.com/item/sise_day.nhn?code=005930&page=90\n",
      "https://finance.naver.com/item/sise_day.nhn?code=005930&page=91\n",
      "https://finance.naver.com/item/sise_day.nhn?code=005930&page=92\n",
      "https://finance.naver.com/item/sise_day.nhn?code=005930&page=93\n",
      "https://finance.naver.com/item/sise_day.nhn?code=005930&page=94\n",
      "https://finance.naver.com/item/sise_day.nhn?code=005930&page=95\n",
      "https://finance.naver.com/item/sise_day.nhn?code=005930&page=96\n",
      "https://finance.naver.com/item/sise_day.nhn?code=005930&page=97\n",
      "https://finance.naver.com/item/sise_day.nhn?code=005930&page=98\n",
      "https://finance.naver.com/item/sise_day.nhn?code=005930&page=99\n",
      "https://finance.naver.com/item/sise_day.nhn?code=005930&page=100\n",
      "https://finance.naver.com/item/sise_day.nhn?code=005930&page=101\n",
      "https://finance.naver.com/item/sise_day.nhn?code=005930&page=102\n",
      "https://finance.naver.com/item/sise_day.nhn?code=005930&page=103\n",
      "https://finance.naver.com/item/sise_day.nhn?code=005930&page=104\n",
      "https://finance.naver.com/item/sise_day.nhn?code=005930&page=105\n",
      "https://finance.naver.com/item/sise_day.nhn?code=005930&page=106\n",
      "https://finance.naver.com/item/sise_day.nhn?code=005930&page=107\n",
      "https://finance.naver.com/item/sise_day.nhn?code=005930&page=108\n",
      "https://finance.naver.com/item/sise_day.nhn?code=005930&page=109\n",
      "https://finance.naver.com/item/sise_day.nhn?code=005930&page=110\n",
      "https://finance.naver.com/item/sise_day.nhn?code=005930&page=111\n",
      "https://finance.naver.com/item/sise_day.nhn?code=005930&page=112\n",
      "https://finance.naver.com/item/sise_day.nhn?code=005930&page=113\n",
      "https://finance.naver.com/item/sise_day.nhn?code=005930&page=114\n",
      "https://finance.naver.com/item/sise_day.nhn?code=005930&page=115\n",
      "https://finance.naver.com/item/sise_day.nhn?code=005930&page=116\n",
      "https://finance.naver.com/item/sise_day.nhn?code=005930&page=117\n",
      "https://finance.naver.com/item/sise_day.nhn?code=005930&page=118\n",
      "https://finance.naver.com/item/sise_day.nhn?code=005930&page=119\n",
      "https://finance.naver.com/item/sise_day.nhn?code=005930&page=120\n",
      "https://finance.naver.com/item/sise_day.nhn?code=005930&page=121\n",
      "https://finance.naver.com/item/sise_day.nhn?code=005930&page=122\n",
      "https://finance.naver.com/item/sise_day.nhn?code=005930&page=123\n",
      "https://finance.naver.com/item/sise_day.nhn?code=005930&page=124\n",
      "https://finance.naver.com/item/sise_day.nhn?code=005930&page=125\n",
      "https://finance.naver.com/item/sise_day.nhn?code=005930&page=126\n",
      "https://finance.naver.com/item/sise_day.nhn?code=005930&page=127\n",
      "https://finance.naver.com/item/sise_day.nhn?code=005930&page=128\n",
      "https://finance.naver.com/item/sise_day.nhn?code=005930&page=129\n",
      "https://finance.naver.com/item/sise_day.nhn?code=005930&page=130\n",
      "https://finance.naver.com/item/sise_day.nhn?code=005930&page=131\n",
      "https://finance.naver.com/item/sise_day.nhn?code=005930&page=132\n",
      "https://finance.naver.com/item/sise_day.nhn?code=005930&page=133\n",
      "https://finance.naver.com/item/sise_day.nhn?code=005930&page=134\n",
      "https://finance.naver.com/item/sise_day.nhn?code=005930&page=135\n",
      "https://finance.naver.com/item/sise_day.nhn?code=005930&page=136\n",
      "https://finance.naver.com/item/sise_day.nhn?code=005930&page=137\n",
      "https://finance.naver.com/item/sise_day.nhn?code=005930&page=138\n",
      "https://finance.naver.com/item/sise_day.nhn?code=005930&page=139\n",
      "https://finance.naver.com/item/sise_day.nhn?code=005930&page=140\n",
      "https://finance.naver.com/item/sise_day.nhn?code=005930&page=141\n",
      "https://finance.naver.com/item/sise_day.nhn?code=005930&page=142\n",
      "https://finance.naver.com/item/sise_day.nhn?code=005930&page=143\n",
      "https://finance.naver.com/item/sise_day.nhn?code=005930&page=144\n",
      "https://finance.naver.com/item/sise_day.nhn?code=005930&page=145\n",
      "https://finance.naver.com/item/sise_day.nhn?code=005930&page=146\n",
      "https://finance.naver.com/item/sise_day.nhn?code=005930&page=147\n",
      "https://finance.naver.com/item/sise_day.nhn?code=005930&page=148\n",
      "https://finance.naver.com/item/sise_day.nhn?code=005930&page=149\n",
      "https://finance.naver.com/item/sise_day.nhn?code=005930&page=150\n",
      "https://finance.naver.com/item/sise_day.nhn?code=005930&page=151\n",
      "https://finance.naver.com/item/sise_day.nhn?code=005930&page=152\n",
      "https://finance.naver.com/item/sise_day.nhn?code=005930&page=153\n",
      "https://finance.naver.com/item/sise_day.nhn?code=005930&page=154\n",
      "https://finance.naver.com/item/sise_day.nhn?code=005930&page=155\n",
      "https://finance.naver.com/item/sise_day.nhn?code=005930&page=156\n",
      "https://finance.naver.com/item/sise_day.nhn?code=005930&page=157\n",
      "https://finance.naver.com/item/sise_day.nhn?code=005930&page=158\n"
     ]
    }
   ],
   "source": [
    "samsungelc = pd.DataFrame()\n",
    "sise_url = 'https://finance.naver.com/item/sise_day.nhn?code=005930'\n",
    "for page in range(10, 159):\n",
    "    page_url = '{}&page={}'.format(sise_url, page)\n",
    "    print(page_url)\n",
    "\n",
    "    # 위에서 했던 일련의 과정들을 각 url에 대해서 (99페이지에 대해서 반복)\n",
    "    response = requests.get(page_url, headers=headers)\n",
    "    html = bs(response.text, 'html.parser')\n",
    "    html_table = html.select(\"table\")\n",
    "    table = pd.read_html(str(html_table))\n",
    "\n",
    "    # 현재 얻은 데이터프레임을 기존 데이터프레임에 누적.\n",
    "    samsungelc = samsungelc.append(table[0].dropna())"
   ],
   "metadata": {
    "collapsed": false,
    "pycharm": {
     "name": "#%%\n"
    }
   }
  },
  {
   "cell_type": "code",
   "execution_count": 54,
   "outputs": [
    {
     "name": "stderr",
     "output_type": "stream",
     "text": [
      "C:\\Users\\msi\\AppData\\Local\\Temp/ipykernel_37144/135872709.py:3: SettingWithCopyWarning: \n",
      "A value is trying to be set on a copy of a slice from a DataFrame\n",
      "\n",
      "See the caveats in the documentation: https://pandas.pydata.org/pandas-docs/stable/user_guide/indexing.html#returning-a-view-versus-a-copy\n",
      "  samsungelc.날짜[i] = samsungelc.날짜[i].replace('.', '')\n"
     ]
    }
   ],
   "source": [
    "samsungelc = samsungelc.reset_index(drop=True)\n",
    "for i in range(len(samsungelc['날짜'])):\n",
    "    samsungelc.날짜[i] = samsungelc.날짜[i].replace('.', '')\n",
    "samsungelc['회사명'] = '삼성전자'"
   ],
   "metadata": {
    "collapsed": false,
    "pycharm": {
     "name": "#%%\n"
    }
   }
  },
  {
   "cell_type": "code",
   "execution_count": 55,
   "outputs": [],
   "source": [
    "# samsungelc = samsungelc[samsungelc[\"날짜\"].isin(['2022.09.30','2022.12.29', '2022.06.30', '2022.03.31', '2021.12.30', '2021.09.30', '2021.06.30', '2021.03.31', '2020.12.30', '2020.09.29', '2020.06.30', '2020.03.27', '2019.12.30', '2019.09.30', '2019.06.28', '2019.03.29', '2018.12.28', '2017.12.28', '2016.12.29'])]\n",
    "samsungelc = samsungelc.drop(labels=['전일비', '시가', '고가', '저가', '거래량'],axis=1)\n",
    "# samsungelc = samsungelc.transpose()"
   ],
   "metadata": {
    "collapsed": false,
    "pycharm": {
     "name": "#%%\n"
    }
   }
  },
  {
   "cell_type": "code",
   "execution_count": 56,
   "outputs": [
    {
     "data": {
      "text/plain": "            날짜         종가   회사명\n0     20230105    58200.0  삼성전자\n1     20230104    57800.0  삼성전자\n2     20230103    55400.0  삼성전자\n3     20230102    55500.0  삼성전자\n4     20221229    55300.0  삼성전자\n...        ...        ...   ...\n1485  20161221  1805000.0  삼성전자\n1486  20161220  1812000.0  삼성전자\n1487  20161219  1795000.0  삼성전자\n1488  20161216  1793000.0  삼성전자\n1489  20161215  1759000.0  삼성전자\n\n[1490 rows x 3 columns]",
      "text/html": "<div>\n<style scoped>\n    .dataframe tbody tr th:only-of-type {\n        vertical-align: middle;\n    }\n\n    .dataframe tbody tr th {\n        vertical-align: top;\n    }\n\n    .dataframe thead th {\n        text-align: right;\n    }\n</style>\n<table border=\"1\" class=\"dataframe\">\n  <thead>\n    <tr style=\"text-align: right;\">\n      <th></th>\n      <th>날짜</th>\n      <th>종가</th>\n      <th>회사명</th>\n    </tr>\n  </thead>\n  <tbody>\n    <tr>\n      <th>0</th>\n      <td>20230105</td>\n      <td>58200.0</td>\n      <td>삼성전자</td>\n    </tr>\n    <tr>\n      <th>1</th>\n      <td>20230104</td>\n      <td>57800.0</td>\n      <td>삼성전자</td>\n    </tr>\n    <tr>\n      <th>2</th>\n      <td>20230103</td>\n      <td>55400.0</td>\n      <td>삼성전자</td>\n    </tr>\n    <tr>\n      <th>3</th>\n      <td>20230102</td>\n      <td>55500.0</td>\n      <td>삼성전자</td>\n    </tr>\n    <tr>\n      <th>4</th>\n      <td>20221229</td>\n      <td>55300.0</td>\n      <td>삼성전자</td>\n    </tr>\n    <tr>\n      <th>...</th>\n      <td>...</td>\n      <td>...</td>\n      <td>...</td>\n    </tr>\n    <tr>\n      <th>1485</th>\n      <td>20161221</td>\n      <td>1805000.0</td>\n      <td>삼성전자</td>\n    </tr>\n    <tr>\n      <th>1486</th>\n      <td>20161220</td>\n      <td>1812000.0</td>\n      <td>삼성전자</td>\n    </tr>\n    <tr>\n      <th>1487</th>\n      <td>20161219</td>\n      <td>1795000.0</td>\n      <td>삼성전자</td>\n    </tr>\n    <tr>\n      <th>1488</th>\n      <td>20161216</td>\n      <td>1793000.0</td>\n      <td>삼성전자</td>\n    </tr>\n    <tr>\n      <th>1489</th>\n      <td>20161215</td>\n      <td>1759000.0</td>\n      <td>삼성전자</td>\n    </tr>\n  </tbody>\n</table>\n<p>1490 rows × 3 columns</p>\n</div>"
     },
     "execution_count": 56,
     "metadata": {},
     "output_type": "execute_result"
    }
   ],
   "source": [
    "samsungelc"
   ],
   "metadata": {
    "collapsed": false,
    "pycharm": {
     "name": "#%%\n"
    }
   }
  },
  {
   "cell_type": "code",
   "execution_count": 58,
   "outputs": [
    {
     "name": "stdout",
     "output_type": "stream",
     "text": [
      "https://finance.naver.com/item/sise_day.nhn?code=018260&page=1\n",
      "https://finance.naver.com/item/sise_day.nhn?code=018260&page=2\n",
      "https://finance.naver.com/item/sise_day.nhn?code=018260&page=3\n",
      "https://finance.naver.com/item/sise_day.nhn?code=018260&page=4\n",
      "https://finance.naver.com/item/sise_day.nhn?code=018260&page=5\n",
      "https://finance.naver.com/item/sise_day.nhn?code=018260&page=6\n",
      "https://finance.naver.com/item/sise_day.nhn?code=018260&page=7\n",
      "https://finance.naver.com/item/sise_day.nhn?code=018260&page=8\n",
      "https://finance.naver.com/item/sise_day.nhn?code=018260&page=9\n",
      "https://finance.naver.com/item/sise_day.nhn?code=018260&page=10\n",
      "https://finance.naver.com/item/sise_day.nhn?code=018260&page=11\n",
      "https://finance.naver.com/item/sise_day.nhn?code=018260&page=12\n",
      "https://finance.naver.com/item/sise_day.nhn?code=018260&page=13\n",
      "https://finance.naver.com/item/sise_day.nhn?code=018260&page=14\n",
      "https://finance.naver.com/item/sise_day.nhn?code=018260&page=15\n",
      "https://finance.naver.com/item/sise_day.nhn?code=018260&page=16\n",
      "https://finance.naver.com/item/sise_day.nhn?code=018260&page=17\n",
      "https://finance.naver.com/item/sise_day.nhn?code=018260&page=18\n",
      "https://finance.naver.com/item/sise_day.nhn?code=018260&page=19\n",
      "https://finance.naver.com/item/sise_day.nhn?code=018260&page=20\n",
      "https://finance.naver.com/item/sise_day.nhn?code=018260&page=21\n",
      "https://finance.naver.com/item/sise_day.nhn?code=018260&page=22\n",
      "https://finance.naver.com/item/sise_day.nhn?code=018260&page=23\n",
      "https://finance.naver.com/item/sise_day.nhn?code=018260&page=24\n",
      "https://finance.naver.com/item/sise_day.nhn?code=018260&page=25\n",
      "https://finance.naver.com/item/sise_day.nhn?code=018260&page=26\n",
      "https://finance.naver.com/item/sise_day.nhn?code=018260&page=27\n",
      "https://finance.naver.com/item/sise_day.nhn?code=018260&page=28\n",
      "https://finance.naver.com/item/sise_day.nhn?code=018260&page=29\n",
      "https://finance.naver.com/item/sise_day.nhn?code=018260&page=30\n",
      "https://finance.naver.com/item/sise_day.nhn?code=018260&page=31\n",
      "https://finance.naver.com/item/sise_day.nhn?code=018260&page=32\n",
      "https://finance.naver.com/item/sise_day.nhn?code=018260&page=33\n",
      "https://finance.naver.com/item/sise_day.nhn?code=018260&page=34\n",
      "https://finance.naver.com/item/sise_day.nhn?code=018260&page=35\n",
      "https://finance.naver.com/item/sise_day.nhn?code=018260&page=36\n",
      "https://finance.naver.com/item/sise_day.nhn?code=018260&page=37\n",
      "https://finance.naver.com/item/sise_day.nhn?code=018260&page=38\n",
      "https://finance.naver.com/item/sise_day.nhn?code=018260&page=39\n",
      "https://finance.naver.com/item/sise_day.nhn?code=018260&page=40\n",
      "https://finance.naver.com/item/sise_day.nhn?code=018260&page=41\n",
      "https://finance.naver.com/item/sise_day.nhn?code=018260&page=42\n",
      "https://finance.naver.com/item/sise_day.nhn?code=018260&page=43\n",
      "https://finance.naver.com/item/sise_day.nhn?code=018260&page=44\n",
      "https://finance.naver.com/item/sise_day.nhn?code=018260&page=45\n",
      "https://finance.naver.com/item/sise_day.nhn?code=018260&page=46\n",
      "https://finance.naver.com/item/sise_day.nhn?code=018260&page=47\n",
      "https://finance.naver.com/item/sise_day.nhn?code=018260&page=48\n",
      "https://finance.naver.com/item/sise_day.nhn?code=018260&page=49\n",
      "https://finance.naver.com/item/sise_day.nhn?code=018260&page=50\n",
      "https://finance.naver.com/item/sise_day.nhn?code=018260&page=51\n",
      "https://finance.naver.com/item/sise_day.nhn?code=018260&page=52\n",
      "https://finance.naver.com/item/sise_day.nhn?code=018260&page=53\n",
      "https://finance.naver.com/item/sise_day.nhn?code=018260&page=54\n",
      "https://finance.naver.com/item/sise_day.nhn?code=018260&page=55\n",
      "https://finance.naver.com/item/sise_day.nhn?code=018260&page=56\n",
      "https://finance.naver.com/item/sise_day.nhn?code=018260&page=57\n",
      "https://finance.naver.com/item/sise_day.nhn?code=018260&page=58\n",
      "https://finance.naver.com/item/sise_day.nhn?code=018260&page=59\n",
      "https://finance.naver.com/item/sise_day.nhn?code=018260&page=60\n",
      "https://finance.naver.com/item/sise_day.nhn?code=018260&page=61\n",
      "https://finance.naver.com/item/sise_day.nhn?code=018260&page=62\n",
      "https://finance.naver.com/item/sise_day.nhn?code=018260&page=63\n",
      "https://finance.naver.com/item/sise_day.nhn?code=018260&page=64\n",
      "https://finance.naver.com/item/sise_day.nhn?code=018260&page=65\n",
      "https://finance.naver.com/item/sise_day.nhn?code=018260&page=66\n",
      "https://finance.naver.com/item/sise_day.nhn?code=018260&page=67\n",
      "https://finance.naver.com/item/sise_day.nhn?code=018260&page=68\n",
      "https://finance.naver.com/item/sise_day.nhn?code=018260&page=69\n",
      "https://finance.naver.com/item/sise_day.nhn?code=018260&page=70\n",
      "https://finance.naver.com/item/sise_day.nhn?code=018260&page=71\n",
      "https://finance.naver.com/item/sise_day.nhn?code=018260&page=72\n",
      "https://finance.naver.com/item/sise_day.nhn?code=018260&page=73\n",
      "https://finance.naver.com/item/sise_day.nhn?code=018260&page=74\n",
      "https://finance.naver.com/item/sise_day.nhn?code=018260&page=75\n",
      "https://finance.naver.com/item/sise_day.nhn?code=018260&page=76\n",
      "https://finance.naver.com/item/sise_day.nhn?code=018260&page=77\n",
      "https://finance.naver.com/item/sise_day.nhn?code=018260&page=78\n",
      "https://finance.naver.com/item/sise_day.nhn?code=018260&page=79\n",
      "https://finance.naver.com/item/sise_day.nhn?code=018260&page=80\n",
      "https://finance.naver.com/item/sise_day.nhn?code=018260&page=81\n",
      "https://finance.naver.com/item/sise_day.nhn?code=018260&page=82\n",
      "https://finance.naver.com/item/sise_day.nhn?code=018260&page=83\n",
      "https://finance.naver.com/item/sise_day.nhn?code=018260&page=84\n",
      "https://finance.naver.com/item/sise_day.nhn?code=018260&page=85\n",
      "https://finance.naver.com/item/sise_day.nhn?code=018260&page=86\n",
      "https://finance.naver.com/item/sise_day.nhn?code=018260&page=87\n",
      "https://finance.naver.com/item/sise_day.nhn?code=018260&page=88\n",
      "https://finance.naver.com/item/sise_day.nhn?code=018260&page=89\n",
      "https://finance.naver.com/item/sise_day.nhn?code=018260&page=90\n",
      "https://finance.naver.com/item/sise_day.nhn?code=018260&page=91\n",
      "https://finance.naver.com/item/sise_day.nhn?code=018260&page=92\n",
      "https://finance.naver.com/item/sise_day.nhn?code=018260&page=93\n",
      "https://finance.naver.com/item/sise_day.nhn?code=018260&page=94\n",
      "https://finance.naver.com/item/sise_day.nhn?code=018260&page=95\n",
      "https://finance.naver.com/item/sise_day.nhn?code=018260&page=96\n",
      "https://finance.naver.com/item/sise_day.nhn?code=018260&page=97\n",
      "https://finance.naver.com/item/sise_day.nhn?code=018260&page=98\n",
      "https://finance.naver.com/item/sise_day.nhn?code=018260&page=99\n",
      "https://finance.naver.com/item/sise_day.nhn?code=018260&page=100\n",
      "https://finance.naver.com/item/sise_day.nhn?code=018260&page=101\n",
      "https://finance.naver.com/item/sise_day.nhn?code=018260&page=102\n",
      "https://finance.naver.com/item/sise_day.nhn?code=018260&page=103\n",
      "https://finance.naver.com/item/sise_day.nhn?code=018260&page=104\n",
      "https://finance.naver.com/item/sise_day.nhn?code=018260&page=105\n",
      "https://finance.naver.com/item/sise_day.nhn?code=018260&page=106\n",
      "https://finance.naver.com/item/sise_day.nhn?code=018260&page=107\n",
      "https://finance.naver.com/item/sise_day.nhn?code=018260&page=108\n",
      "https://finance.naver.com/item/sise_day.nhn?code=018260&page=109\n",
      "https://finance.naver.com/item/sise_day.nhn?code=018260&page=110\n",
      "https://finance.naver.com/item/sise_day.nhn?code=018260&page=111\n",
      "https://finance.naver.com/item/sise_day.nhn?code=018260&page=112\n",
      "https://finance.naver.com/item/sise_day.nhn?code=018260&page=113\n",
      "https://finance.naver.com/item/sise_day.nhn?code=018260&page=114\n",
      "https://finance.naver.com/item/sise_day.nhn?code=018260&page=115\n",
      "https://finance.naver.com/item/sise_day.nhn?code=018260&page=116\n",
      "https://finance.naver.com/item/sise_day.nhn?code=018260&page=117\n",
      "https://finance.naver.com/item/sise_day.nhn?code=018260&page=118\n",
      "https://finance.naver.com/item/sise_day.nhn?code=018260&page=119\n",
      "https://finance.naver.com/item/sise_day.nhn?code=018260&page=120\n",
      "https://finance.naver.com/item/sise_day.nhn?code=018260&page=121\n",
      "https://finance.naver.com/item/sise_day.nhn?code=018260&page=122\n",
      "https://finance.naver.com/item/sise_day.nhn?code=018260&page=123\n",
      "https://finance.naver.com/item/sise_day.nhn?code=018260&page=124\n",
      "https://finance.naver.com/item/sise_day.nhn?code=018260&page=125\n",
      "https://finance.naver.com/item/sise_day.nhn?code=018260&page=126\n",
      "https://finance.naver.com/item/sise_day.nhn?code=018260&page=127\n",
      "https://finance.naver.com/item/sise_day.nhn?code=018260&page=128\n",
      "https://finance.naver.com/item/sise_day.nhn?code=018260&page=129\n",
      "https://finance.naver.com/item/sise_day.nhn?code=018260&page=130\n",
      "https://finance.naver.com/item/sise_day.nhn?code=018260&page=131\n",
      "https://finance.naver.com/item/sise_day.nhn?code=018260&page=132\n",
      "https://finance.naver.com/item/sise_day.nhn?code=018260&page=133\n",
      "https://finance.naver.com/item/sise_day.nhn?code=018260&page=134\n",
      "https://finance.naver.com/item/sise_day.nhn?code=018260&page=135\n",
      "https://finance.naver.com/item/sise_day.nhn?code=018260&page=136\n",
      "https://finance.naver.com/item/sise_day.nhn?code=018260&page=137\n",
      "https://finance.naver.com/item/sise_day.nhn?code=018260&page=138\n",
      "https://finance.naver.com/item/sise_day.nhn?code=018260&page=139\n",
      "https://finance.naver.com/item/sise_day.nhn?code=018260&page=140\n",
      "https://finance.naver.com/item/sise_day.nhn?code=018260&page=141\n",
      "https://finance.naver.com/item/sise_day.nhn?code=018260&page=142\n",
      "https://finance.naver.com/item/sise_day.nhn?code=018260&page=143\n",
      "https://finance.naver.com/item/sise_day.nhn?code=018260&page=144\n",
      "https://finance.naver.com/item/sise_day.nhn?code=018260&page=145\n",
      "https://finance.naver.com/item/sise_day.nhn?code=018260&page=146\n",
      "https://finance.naver.com/item/sise_day.nhn?code=018260&page=147\n",
      "https://finance.naver.com/item/sise_day.nhn?code=018260&page=148\n",
      "https://finance.naver.com/item/sise_day.nhn?code=018260&page=149\n",
      "https://finance.naver.com/item/sise_day.nhn?code=018260&page=150\n",
      "https://finance.naver.com/item/sise_day.nhn?code=018260&page=151\n",
      "https://finance.naver.com/item/sise_day.nhn?code=018260&page=152\n",
      "https://finance.naver.com/item/sise_day.nhn?code=018260&page=153\n",
      "https://finance.naver.com/item/sise_day.nhn?code=018260&page=154\n",
      "https://finance.naver.com/item/sise_day.nhn?code=018260&page=155\n",
      "https://finance.naver.com/item/sise_day.nhn?code=018260&page=156\n",
      "https://finance.naver.com/item/sise_day.nhn?code=018260&page=157\n",
      "https://finance.naver.com/item/sise_day.nhn?code=018260&page=158\n"
     ]
    }
   ],
   "source": [
    "samsungsds = pd.DataFrame()\n",
    "sise_url = 'https://finance.naver.com/item/sise_day.nhn?code=018260'\n",
    "for page in range(1, 159):\n",
    "    page_url = '{}&page={}'.format(sise_url, page)\n",
    "    print(page_url)\n",
    "\n",
    "    # 위에서 했던 일련의 과정들을 각 url에 대해서 (99페이지에 대해서 반복)\n",
    "    response = requests.get(page_url, headers=headers)\n",
    "    html = bs(response.text, 'html.parser')\n",
    "    html_table = html.select(\"table\")\n",
    "    table = pd.read_html(str(html_table))\n",
    "\n",
    "    # 현재 얻은 데이터프레임을 기존 데이터프레임에 누적.\n",
    "    samsungsds = samsungsds.append(table[0].dropna())"
   ],
   "metadata": {
    "collapsed": false,
    "pycharm": {
     "name": "#%%\n"
    }
   }
  },
  {
   "cell_type": "code",
   "execution_count": 59,
   "outputs": [
    {
     "name": "stderr",
     "output_type": "stream",
     "text": [
      "C:\\Users\\msi\\AppData\\Local\\Temp/ipykernel_37144/3595981144.py:3: SettingWithCopyWarning: \n",
      "A value is trying to be set on a copy of a slice from a DataFrame\n",
      "\n",
      "See the caveats in the documentation: https://pandas.pydata.org/pandas-docs/stable/user_guide/indexing.html#returning-a-view-versus-a-copy\n",
      "  samsungsds.날짜[i] = samsungsds.날짜[i].replace('.', '')\n"
     ]
    }
   ],
   "source": [
    "samsungsds = samsungsds.reset_index(drop=True)\n",
    "for i in range(len(samsungsds['날짜'])):\n",
    "    samsungsds.날짜[i] = samsungsds.날짜[i].replace('.', '')\n",
    "samsungsds['회사명'] = '삼성에스디에스'"
   ],
   "metadata": {
    "collapsed": false,
    "pycharm": {
     "name": "#%%\n"
    }
   }
  },
  {
   "cell_type": "code",
   "execution_count": 60,
   "outputs": [],
   "source": [
    "# samsungsds = samsungsds[samsungsds[\"날짜\"].isin(['2022.09.30','2022.12.29', '2022.06.30', '2022.03.31', '2021.12.30', '2021.09.30', '2021.06.30', '2021.03.31', '2020.12.30', '2020.09.29', '2020.06.30', '2020.03.27', '2019.12.30', '2019.09.30', '2019.06.28', '2019.03.29', '2018.12.28', '2017.12.28', '2016.12.29'])]\n",
    "samsungsds= samsungsds.drop(labels=['전일비', '시가', '고가', '저가', '거래량'],axis=1)\n",
    "# samsungsds = samsungsds.transpose()"
   ],
   "metadata": {
    "collapsed": false,
    "pycharm": {
     "name": "#%%\n"
    }
   }
  },
  {
   "cell_type": "code",
   "execution_count": 61,
   "outputs": [
    {
     "data": {
      "text/plain": "            날짜        종가      회사명\n0     20230518  119900.0  삼성에스디에스\n1     20230517  118800.0  삼성에스디에스\n2     20230516  116800.0  삼성에스디에스\n3     20230515  117200.0  삼성에스디에스\n4     20230512  116700.0  삼성에스디에스\n...        ...       ...      ...\n1575  20161221  139500.0  삼성에스디에스\n1576  20161220  132000.0  삼성에스디에스\n1577  20161219  132500.0  삼성에스디에스\n1578  20161216  133500.0  삼성에스디에스\n1579  20161215  134000.0  삼성에스디에스\n\n[1580 rows x 3 columns]",
      "text/html": "<div>\n<style scoped>\n    .dataframe tbody tr th:only-of-type {\n        vertical-align: middle;\n    }\n\n    .dataframe tbody tr th {\n        vertical-align: top;\n    }\n\n    .dataframe thead th {\n        text-align: right;\n    }\n</style>\n<table border=\"1\" class=\"dataframe\">\n  <thead>\n    <tr style=\"text-align: right;\">\n      <th></th>\n      <th>날짜</th>\n      <th>종가</th>\n      <th>회사명</th>\n    </tr>\n  </thead>\n  <tbody>\n    <tr>\n      <th>0</th>\n      <td>20230518</td>\n      <td>119900.0</td>\n      <td>삼성에스디에스</td>\n    </tr>\n    <tr>\n      <th>1</th>\n      <td>20230517</td>\n      <td>118800.0</td>\n      <td>삼성에스디에스</td>\n    </tr>\n    <tr>\n      <th>2</th>\n      <td>20230516</td>\n      <td>116800.0</td>\n      <td>삼성에스디에스</td>\n    </tr>\n    <tr>\n      <th>3</th>\n      <td>20230515</td>\n      <td>117200.0</td>\n      <td>삼성에스디에스</td>\n    </tr>\n    <tr>\n      <th>4</th>\n      <td>20230512</td>\n      <td>116700.0</td>\n      <td>삼성에스디에스</td>\n    </tr>\n    <tr>\n      <th>...</th>\n      <td>...</td>\n      <td>...</td>\n      <td>...</td>\n    </tr>\n    <tr>\n      <th>1575</th>\n      <td>20161221</td>\n      <td>139500.0</td>\n      <td>삼성에스디에스</td>\n    </tr>\n    <tr>\n      <th>1576</th>\n      <td>20161220</td>\n      <td>132000.0</td>\n      <td>삼성에스디에스</td>\n    </tr>\n    <tr>\n      <th>1577</th>\n      <td>20161219</td>\n      <td>132500.0</td>\n      <td>삼성에스디에스</td>\n    </tr>\n    <tr>\n      <th>1578</th>\n      <td>20161216</td>\n      <td>133500.0</td>\n      <td>삼성에스디에스</td>\n    </tr>\n    <tr>\n      <th>1579</th>\n      <td>20161215</td>\n      <td>134000.0</td>\n      <td>삼성에스디에스</td>\n    </tr>\n  </tbody>\n</table>\n<p>1580 rows × 3 columns</p>\n</div>"
     },
     "execution_count": 61,
     "metadata": {},
     "output_type": "execute_result"
    }
   ],
   "source": [
    "samsungsds"
   ],
   "metadata": {
    "collapsed": false,
    "pycharm": {
     "name": "#%%\n"
    }
   }
  },
  {
   "cell_type": "code",
   "execution_count": 67,
   "outputs": [
    {
     "name": "stdout",
     "output_type": "stream",
     "text": [
      "https://finance.naver.com/item/sise_day.nhn?code=066570&page=10\n",
      "https://finance.naver.com/item/sise_day.nhn?code=066570&page=11\n",
      "https://finance.naver.com/item/sise_day.nhn?code=066570&page=12\n",
      "https://finance.naver.com/item/sise_day.nhn?code=066570&page=13\n",
      "https://finance.naver.com/item/sise_day.nhn?code=066570&page=14\n",
      "https://finance.naver.com/item/sise_day.nhn?code=066570&page=15\n",
      "https://finance.naver.com/item/sise_day.nhn?code=066570&page=16\n",
      "https://finance.naver.com/item/sise_day.nhn?code=066570&page=17\n",
      "https://finance.naver.com/item/sise_day.nhn?code=066570&page=18\n",
      "https://finance.naver.com/item/sise_day.nhn?code=066570&page=19\n",
      "https://finance.naver.com/item/sise_day.nhn?code=066570&page=20\n",
      "https://finance.naver.com/item/sise_day.nhn?code=066570&page=21\n",
      "https://finance.naver.com/item/sise_day.nhn?code=066570&page=22\n",
      "https://finance.naver.com/item/sise_day.nhn?code=066570&page=23\n",
      "https://finance.naver.com/item/sise_day.nhn?code=066570&page=24\n",
      "https://finance.naver.com/item/sise_day.nhn?code=066570&page=25\n",
      "https://finance.naver.com/item/sise_day.nhn?code=066570&page=26\n",
      "https://finance.naver.com/item/sise_day.nhn?code=066570&page=27\n",
      "https://finance.naver.com/item/sise_day.nhn?code=066570&page=28\n",
      "https://finance.naver.com/item/sise_day.nhn?code=066570&page=29\n",
      "https://finance.naver.com/item/sise_day.nhn?code=066570&page=30\n",
      "https://finance.naver.com/item/sise_day.nhn?code=066570&page=31\n",
      "https://finance.naver.com/item/sise_day.nhn?code=066570&page=32\n",
      "https://finance.naver.com/item/sise_day.nhn?code=066570&page=33\n",
      "https://finance.naver.com/item/sise_day.nhn?code=066570&page=34\n",
      "https://finance.naver.com/item/sise_day.nhn?code=066570&page=35\n",
      "https://finance.naver.com/item/sise_day.nhn?code=066570&page=36\n",
      "https://finance.naver.com/item/sise_day.nhn?code=066570&page=37\n",
      "https://finance.naver.com/item/sise_day.nhn?code=066570&page=38\n",
      "https://finance.naver.com/item/sise_day.nhn?code=066570&page=39\n",
      "https://finance.naver.com/item/sise_day.nhn?code=066570&page=40\n",
      "https://finance.naver.com/item/sise_day.nhn?code=066570&page=41\n",
      "https://finance.naver.com/item/sise_day.nhn?code=066570&page=42\n",
      "https://finance.naver.com/item/sise_day.nhn?code=066570&page=43\n",
      "https://finance.naver.com/item/sise_day.nhn?code=066570&page=44\n",
      "https://finance.naver.com/item/sise_day.nhn?code=066570&page=45\n",
      "https://finance.naver.com/item/sise_day.nhn?code=066570&page=46\n",
      "https://finance.naver.com/item/sise_day.nhn?code=066570&page=47\n",
      "https://finance.naver.com/item/sise_day.nhn?code=066570&page=48\n",
      "https://finance.naver.com/item/sise_day.nhn?code=066570&page=49\n",
      "https://finance.naver.com/item/sise_day.nhn?code=066570&page=50\n",
      "https://finance.naver.com/item/sise_day.nhn?code=066570&page=51\n",
      "https://finance.naver.com/item/sise_day.nhn?code=066570&page=52\n",
      "https://finance.naver.com/item/sise_day.nhn?code=066570&page=53\n",
      "https://finance.naver.com/item/sise_day.nhn?code=066570&page=54\n",
      "https://finance.naver.com/item/sise_day.nhn?code=066570&page=55\n",
      "https://finance.naver.com/item/sise_day.nhn?code=066570&page=56\n",
      "https://finance.naver.com/item/sise_day.nhn?code=066570&page=57\n",
      "https://finance.naver.com/item/sise_day.nhn?code=066570&page=58\n",
      "https://finance.naver.com/item/sise_day.nhn?code=066570&page=59\n",
      "https://finance.naver.com/item/sise_day.nhn?code=066570&page=60\n",
      "https://finance.naver.com/item/sise_day.nhn?code=066570&page=61\n",
      "https://finance.naver.com/item/sise_day.nhn?code=066570&page=62\n",
      "https://finance.naver.com/item/sise_day.nhn?code=066570&page=63\n",
      "https://finance.naver.com/item/sise_day.nhn?code=066570&page=64\n",
      "https://finance.naver.com/item/sise_day.nhn?code=066570&page=65\n",
      "https://finance.naver.com/item/sise_day.nhn?code=066570&page=66\n",
      "https://finance.naver.com/item/sise_day.nhn?code=066570&page=67\n",
      "https://finance.naver.com/item/sise_day.nhn?code=066570&page=68\n",
      "https://finance.naver.com/item/sise_day.nhn?code=066570&page=69\n",
      "https://finance.naver.com/item/sise_day.nhn?code=066570&page=70\n",
      "https://finance.naver.com/item/sise_day.nhn?code=066570&page=71\n",
      "https://finance.naver.com/item/sise_day.nhn?code=066570&page=72\n",
      "https://finance.naver.com/item/sise_day.nhn?code=066570&page=73\n",
      "https://finance.naver.com/item/sise_day.nhn?code=066570&page=74\n",
      "https://finance.naver.com/item/sise_day.nhn?code=066570&page=75\n",
      "https://finance.naver.com/item/sise_day.nhn?code=066570&page=76\n",
      "https://finance.naver.com/item/sise_day.nhn?code=066570&page=77\n",
      "https://finance.naver.com/item/sise_day.nhn?code=066570&page=78\n",
      "https://finance.naver.com/item/sise_day.nhn?code=066570&page=79\n",
      "https://finance.naver.com/item/sise_day.nhn?code=066570&page=80\n",
      "https://finance.naver.com/item/sise_day.nhn?code=066570&page=81\n",
      "https://finance.naver.com/item/sise_day.nhn?code=066570&page=82\n",
      "https://finance.naver.com/item/sise_day.nhn?code=066570&page=83\n",
      "https://finance.naver.com/item/sise_day.nhn?code=066570&page=84\n",
      "https://finance.naver.com/item/sise_day.nhn?code=066570&page=85\n",
      "https://finance.naver.com/item/sise_day.nhn?code=066570&page=86\n",
      "https://finance.naver.com/item/sise_day.nhn?code=066570&page=87\n",
      "https://finance.naver.com/item/sise_day.nhn?code=066570&page=88\n",
      "https://finance.naver.com/item/sise_day.nhn?code=066570&page=89\n",
      "https://finance.naver.com/item/sise_day.nhn?code=066570&page=90\n",
      "https://finance.naver.com/item/sise_day.nhn?code=066570&page=91\n",
      "https://finance.naver.com/item/sise_day.nhn?code=066570&page=92\n",
      "https://finance.naver.com/item/sise_day.nhn?code=066570&page=93\n",
      "https://finance.naver.com/item/sise_day.nhn?code=066570&page=94\n",
      "https://finance.naver.com/item/sise_day.nhn?code=066570&page=95\n",
      "https://finance.naver.com/item/sise_day.nhn?code=066570&page=96\n",
      "https://finance.naver.com/item/sise_day.nhn?code=066570&page=97\n",
      "https://finance.naver.com/item/sise_day.nhn?code=066570&page=98\n",
      "https://finance.naver.com/item/sise_day.nhn?code=066570&page=99\n",
      "https://finance.naver.com/item/sise_day.nhn?code=066570&page=100\n",
      "https://finance.naver.com/item/sise_day.nhn?code=066570&page=101\n",
      "https://finance.naver.com/item/sise_day.nhn?code=066570&page=102\n",
      "https://finance.naver.com/item/sise_day.nhn?code=066570&page=103\n",
      "https://finance.naver.com/item/sise_day.nhn?code=066570&page=104\n",
      "https://finance.naver.com/item/sise_day.nhn?code=066570&page=105\n",
      "https://finance.naver.com/item/sise_day.nhn?code=066570&page=106\n",
      "https://finance.naver.com/item/sise_day.nhn?code=066570&page=107\n",
      "https://finance.naver.com/item/sise_day.nhn?code=066570&page=108\n",
      "https://finance.naver.com/item/sise_day.nhn?code=066570&page=109\n",
      "https://finance.naver.com/item/sise_day.nhn?code=066570&page=110\n",
      "https://finance.naver.com/item/sise_day.nhn?code=066570&page=111\n",
      "https://finance.naver.com/item/sise_day.nhn?code=066570&page=112\n",
      "https://finance.naver.com/item/sise_day.nhn?code=066570&page=113\n",
      "https://finance.naver.com/item/sise_day.nhn?code=066570&page=114\n",
      "https://finance.naver.com/item/sise_day.nhn?code=066570&page=115\n",
      "https://finance.naver.com/item/sise_day.nhn?code=066570&page=116\n",
      "https://finance.naver.com/item/sise_day.nhn?code=066570&page=117\n",
      "https://finance.naver.com/item/sise_day.nhn?code=066570&page=118\n",
      "https://finance.naver.com/item/sise_day.nhn?code=066570&page=119\n",
      "https://finance.naver.com/item/sise_day.nhn?code=066570&page=120\n",
      "https://finance.naver.com/item/sise_day.nhn?code=066570&page=121\n",
      "https://finance.naver.com/item/sise_day.nhn?code=066570&page=122\n",
      "https://finance.naver.com/item/sise_day.nhn?code=066570&page=123\n",
      "https://finance.naver.com/item/sise_day.nhn?code=066570&page=124\n",
      "https://finance.naver.com/item/sise_day.nhn?code=066570&page=125\n",
      "https://finance.naver.com/item/sise_day.nhn?code=066570&page=126\n",
      "https://finance.naver.com/item/sise_day.nhn?code=066570&page=127\n",
      "https://finance.naver.com/item/sise_day.nhn?code=066570&page=128\n",
      "https://finance.naver.com/item/sise_day.nhn?code=066570&page=129\n",
      "https://finance.naver.com/item/sise_day.nhn?code=066570&page=130\n",
      "https://finance.naver.com/item/sise_day.nhn?code=066570&page=131\n",
      "https://finance.naver.com/item/sise_day.nhn?code=066570&page=132\n",
      "https://finance.naver.com/item/sise_day.nhn?code=066570&page=133\n",
      "https://finance.naver.com/item/sise_day.nhn?code=066570&page=134\n",
      "https://finance.naver.com/item/sise_day.nhn?code=066570&page=135\n",
      "https://finance.naver.com/item/sise_day.nhn?code=066570&page=136\n",
      "https://finance.naver.com/item/sise_day.nhn?code=066570&page=137\n",
      "https://finance.naver.com/item/sise_day.nhn?code=066570&page=138\n",
      "https://finance.naver.com/item/sise_day.nhn?code=066570&page=139\n",
      "https://finance.naver.com/item/sise_day.nhn?code=066570&page=140\n",
      "https://finance.naver.com/item/sise_day.nhn?code=066570&page=141\n",
      "https://finance.naver.com/item/sise_day.nhn?code=066570&page=142\n",
      "https://finance.naver.com/item/sise_day.nhn?code=066570&page=143\n",
      "https://finance.naver.com/item/sise_day.nhn?code=066570&page=144\n",
      "https://finance.naver.com/item/sise_day.nhn?code=066570&page=145\n",
      "https://finance.naver.com/item/sise_day.nhn?code=066570&page=146\n",
      "https://finance.naver.com/item/sise_day.nhn?code=066570&page=147\n",
      "https://finance.naver.com/item/sise_day.nhn?code=066570&page=148\n",
      "https://finance.naver.com/item/sise_day.nhn?code=066570&page=149\n",
      "https://finance.naver.com/item/sise_day.nhn?code=066570&page=150\n",
      "https://finance.naver.com/item/sise_day.nhn?code=066570&page=151\n",
      "https://finance.naver.com/item/sise_day.nhn?code=066570&page=152\n",
      "https://finance.naver.com/item/sise_day.nhn?code=066570&page=153\n",
      "https://finance.naver.com/item/sise_day.nhn?code=066570&page=154\n",
      "https://finance.naver.com/item/sise_day.nhn?code=066570&page=155\n",
      "https://finance.naver.com/item/sise_day.nhn?code=066570&page=156\n",
      "https://finance.naver.com/item/sise_day.nhn?code=066570&page=157\n",
      "https://finance.naver.com/item/sise_day.nhn?code=066570&page=158\n"
     ]
    }
   ],
   "source": [
    "lgelc = pd.DataFrame()\n",
    "sise_url = 'https://finance.naver.com/item/sise_day.nhn?code=066570'\n",
    "for page in range(10, 159):\n",
    "    page_url = '{}&page={}'.format(sise_url, page)\n",
    "    print(page_url)\n",
    "\n",
    "    # 위에서 했던 일련의 과정들을 각 url에 대해서 (99페이지에 대해서 반복)\n",
    "    response = requests.get(page_url, headers=headers)\n",
    "    html = bs(response.text, 'html.parser')\n",
    "    html_table = html.select(\"table\")\n",
    "    table = pd.read_html(str(html_table))\n",
    "\n",
    "    # 현재 얻은 데이터프레임을 기존 데이터프레임에 누적.\n",
    "    lgelc = lgelc.append(table[0].dropna())"
   ],
   "metadata": {
    "collapsed": false,
    "pycharm": {
     "name": "#%%\n"
    }
   }
  },
  {
   "cell_type": "code",
   "execution_count": 68,
   "outputs": [
    {
     "name": "stderr",
     "output_type": "stream",
     "text": [
      "C:\\Users\\msi\\AppData\\Local\\Temp/ipykernel_37144/1583082163.py:3: SettingWithCopyWarning: \n",
      "A value is trying to be set on a copy of a slice from a DataFrame\n",
      "\n",
      "See the caveats in the documentation: https://pandas.pydata.org/pandas-docs/stable/user_guide/indexing.html#returning-a-view-versus-a-copy\n",
      "  lgelc.날짜[i] = lgelc.날짜[i].replace('.', '')\n"
     ]
    }
   ],
   "source": [
    "lgelc = lgelc.reset_index(drop=True)\n",
    "for i in range(len(lgelc['날짜'])):\n",
    "    lgelc.날짜[i] = lgelc.날짜[i].replace('.', '')\n",
    "lgelc['회사명'] = 'LG전자'"
   ],
   "metadata": {
    "collapsed": false,
    "pycharm": {
     "name": "#%%\n"
    }
   }
  },
  {
   "cell_type": "code",
   "execution_count": 69,
   "outputs": [],
   "source": [
    "# lgelc = lgelc[lgelc[\"날짜\"].isin(['2022.09.30','2022.12.29', '2022.06.30', '2022.03.31', '2021.12.30', '2021.09.30', '2021.06.30', '2021.03.31', '2020.12.30', '2020.09.29', '2020.06.30', '2020.03.27', '2019.12.30', '2019.09.30', '2019.06.28', '2019.03.29', '2018.12.28', '2017.12.28', '2016.12.29'])]\n",
    "lgelc = lgelc.drop(labels=['전일비', '시가', '고가', '저가', '거래량'],axis=1)\n",
    "# lgelc = lgelc.transpose()"
   ],
   "metadata": {
    "collapsed": false,
    "pycharm": {
     "name": "#%%\n"
    }
   }
  },
  {
   "cell_type": "code",
   "execution_count": 70,
   "outputs": [
    {
     "data": {
      "text/plain": "            날짜       종가   회사명\n0     20230105  89900.0  LG전자\n1     20230104  89700.0  LG전자\n2     20230103  85700.0  LG전자\n3     20230102  86400.0  LG전자\n4     20221229  86500.0  LG전자\n...        ...      ...   ...\n1485  20161221  48200.0  LG전자\n1486  20161220  47800.0  LG전자\n1487  20161219  47700.0  LG전자\n1488  20161216  47850.0  LG전자\n1489  20161215  48150.0  LG전자\n\n[1490 rows x 3 columns]",
      "text/html": "<div>\n<style scoped>\n    .dataframe tbody tr th:only-of-type {\n        vertical-align: middle;\n    }\n\n    .dataframe tbody tr th {\n        vertical-align: top;\n    }\n\n    .dataframe thead th {\n        text-align: right;\n    }\n</style>\n<table border=\"1\" class=\"dataframe\">\n  <thead>\n    <tr style=\"text-align: right;\">\n      <th></th>\n      <th>날짜</th>\n      <th>종가</th>\n      <th>회사명</th>\n    </tr>\n  </thead>\n  <tbody>\n    <tr>\n      <th>0</th>\n      <td>20230105</td>\n      <td>89900.0</td>\n      <td>LG전자</td>\n    </tr>\n    <tr>\n      <th>1</th>\n      <td>20230104</td>\n      <td>89700.0</td>\n      <td>LG전자</td>\n    </tr>\n    <tr>\n      <th>2</th>\n      <td>20230103</td>\n      <td>85700.0</td>\n      <td>LG전자</td>\n    </tr>\n    <tr>\n      <th>3</th>\n      <td>20230102</td>\n      <td>86400.0</td>\n      <td>LG전자</td>\n    </tr>\n    <tr>\n      <th>4</th>\n      <td>20221229</td>\n      <td>86500.0</td>\n      <td>LG전자</td>\n    </tr>\n    <tr>\n      <th>...</th>\n      <td>...</td>\n      <td>...</td>\n      <td>...</td>\n    </tr>\n    <tr>\n      <th>1485</th>\n      <td>20161221</td>\n      <td>48200.0</td>\n      <td>LG전자</td>\n    </tr>\n    <tr>\n      <th>1486</th>\n      <td>20161220</td>\n      <td>47800.0</td>\n      <td>LG전자</td>\n    </tr>\n    <tr>\n      <th>1487</th>\n      <td>20161219</td>\n      <td>47700.0</td>\n      <td>LG전자</td>\n    </tr>\n    <tr>\n      <th>1488</th>\n      <td>20161216</td>\n      <td>47850.0</td>\n      <td>LG전자</td>\n    </tr>\n    <tr>\n      <th>1489</th>\n      <td>20161215</td>\n      <td>48150.0</td>\n      <td>LG전자</td>\n    </tr>\n  </tbody>\n</table>\n<p>1490 rows × 3 columns</p>\n</div>"
     },
     "execution_count": 70,
     "metadata": {},
     "output_type": "execute_result"
    }
   ],
   "source": [
    "lgelc"
   ],
   "metadata": {
    "collapsed": false,
    "pycharm": {
     "name": "#%%\n"
    }
   }
  },
  {
   "cell_type": "code",
   "execution_count": 71,
   "outputs": [
    {
     "name": "stdout",
     "output_type": "stream",
     "text": [
      "https://finance.naver.com/item/sise_day.nhn?code=000660&page=10\n",
      "https://finance.naver.com/item/sise_day.nhn?code=000660&page=11\n",
      "https://finance.naver.com/item/sise_day.nhn?code=000660&page=12\n",
      "https://finance.naver.com/item/sise_day.nhn?code=000660&page=13\n",
      "https://finance.naver.com/item/sise_day.nhn?code=000660&page=14\n",
      "https://finance.naver.com/item/sise_day.nhn?code=000660&page=15\n",
      "https://finance.naver.com/item/sise_day.nhn?code=000660&page=16\n",
      "https://finance.naver.com/item/sise_day.nhn?code=000660&page=17\n",
      "https://finance.naver.com/item/sise_day.nhn?code=000660&page=18\n",
      "https://finance.naver.com/item/sise_day.nhn?code=000660&page=19\n",
      "https://finance.naver.com/item/sise_day.nhn?code=000660&page=20\n",
      "https://finance.naver.com/item/sise_day.nhn?code=000660&page=21\n",
      "https://finance.naver.com/item/sise_day.nhn?code=000660&page=22\n",
      "https://finance.naver.com/item/sise_day.nhn?code=000660&page=23\n",
      "https://finance.naver.com/item/sise_day.nhn?code=000660&page=24\n",
      "https://finance.naver.com/item/sise_day.nhn?code=000660&page=25\n",
      "https://finance.naver.com/item/sise_day.nhn?code=000660&page=26\n",
      "https://finance.naver.com/item/sise_day.nhn?code=000660&page=27\n",
      "https://finance.naver.com/item/sise_day.nhn?code=000660&page=28\n",
      "https://finance.naver.com/item/sise_day.nhn?code=000660&page=29\n",
      "https://finance.naver.com/item/sise_day.nhn?code=000660&page=30\n",
      "https://finance.naver.com/item/sise_day.nhn?code=000660&page=31\n",
      "https://finance.naver.com/item/sise_day.nhn?code=000660&page=32\n",
      "https://finance.naver.com/item/sise_day.nhn?code=000660&page=33\n",
      "https://finance.naver.com/item/sise_day.nhn?code=000660&page=34\n",
      "https://finance.naver.com/item/sise_day.nhn?code=000660&page=35\n",
      "https://finance.naver.com/item/sise_day.nhn?code=000660&page=36\n",
      "https://finance.naver.com/item/sise_day.nhn?code=000660&page=37\n",
      "https://finance.naver.com/item/sise_day.nhn?code=000660&page=38\n",
      "https://finance.naver.com/item/sise_day.nhn?code=000660&page=39\n",
      "https://finance.naver.com/item/sise_day.nhn?code=000660&page=40\n",
      "https://finance.naver.com/item/sise_day.nhn?code=000660&page=41\n",
      "https://finance.naver.com/item/sise_day.nhn?code=000660&page=42\n",
      "https://finance.naver.com/item/sise_day.nhn?code=000660&page=43\n",
      "https://finance.naver.com/item/sise_day.nhn?code=000660&page=44\n",
      "https://finance.naver.com/item/sise_day.nhn?code=000660&page=45\n",
      "https://finance.naver.com/item/sise_day.nhn?code=000660&page=46\n",
      "https://finance.naver.com/item/sise_day.nhn?code=000660&page=47\n",
      "https://finance.naver.com/item/sise_day.nhn?code=000660&page=48\n",
      "https://finance.naver.com/item/sise_day.nhn?code=000660&page=49\n",
      "https://finance.naver.com/item/sise_day.nhn?code=000660&page=50\n",
      "https://finance.naver.com/item/sise_day.nhn?code=000660&page=51\n",
      "https://finance.naver.com/item/sise_day.nhn?code=000660&page=52\n",
      "https://finance.naver.com/item/sise_day.nhn?code=000660&page=53\n",
      "https://finance.naver.com/item/sise_day.nhn?code=000660&page=54\n",
      "https://finance.naver.com/item/sise_day.nhn?code=000660&page=55\n",
      "https://finance.naver.com/item/sise_day.nhn?code=000660&page=56\n",
      "https://finance.naver.com/item/sise_day.nhn?code=000660&page=57\n",
      "https://finance.naver.com/item/sise_day.nhn?code=000660&page=58\n",
      "https://finance.naver.com/item/sise_day.nhn?code=000660&page=59\n",
      "https://finance.naver.com/item/sise_day.nhn?code=000660&page=60\n",
      "https://finance.naver.com/item/sise_day.nhn?code=000660&page=61\n",
      "https://finance.naver.com/item/sise_day.nhn?code=000660&page=62\n",
      "https://finance.naver.com/item/sise_day.nhn?code=000660&page=63\n",
      "https://finance.naver.com/item/sise_day.nhn?code=000660&page=64\n",
      "https://finance.naver.com/item/sise_day.nhn?code=000660&page=65\n",
      "https://finance.naver.com/item/sise_day.nhn?code=000660&page=66\n",
      "https://finance.naver.com/item/sise_day.nhn?code=000660&page=67\n",
      "https://finance.naver.com/item/sise_day.nhn?code=000660&page=68\n",
      "https://finance.naver.com/item/sise_day.nhn?code=000660&page=69\n",
      "https://finance.naver.com/item/sise_day.nhn?code=000660&page=70\n",
      "https://finance.naver.com/item/sise_day.nhn?code=000660&page=71\n",
      "https://finance.naver.com/item/sise_day.nhn?code=000660&page=72\n",
      "https://finance.naver.com/item/sise_day.nhn?code=000660&page=73\n",
      "https://finance.naver.com/item/sise_day.nhn?code=000660&page=74\n",
      "https://finance.naver.com/item/sise_day.nhn?code=000660&page=75\n",
      "https://finance.naver.com/item/sise_day.nhn?code=000660&page=76\n",
      "https://finance.naver.com/item/sise_day.nhn?code=000660&page=77\n",
      "https://finance.naver.com/item/sise_day.nhn?code=000660&page=78\n",
      "https://finance.naver.com/item/sise_day.nhn?code=000660&page=79\n",
      "https://finance.naver.com/item/sise_day.nhn?code=000660&page=80\n",
      "https://finance.naver.com/item/sise_day.nhn?code=000660&page=81\n",
      "https://finance.naver.com/item/sise_day.nhn?code=000660&page=82\n",
      "https://finance.naver.com/item/sise_day.nhn?code=000660&page=83\n",
      "https://finance.naver.com/item/sise_day.nhn?code=000660&page=84\n",
      "https://finance.naver.com/item/sise_day.nhn?code=000660&page=85\n",
      "https://finance.naver.com/item/sise_day.nhn?code=000660&page=86\n",
      "https://finance.naver.com/item/sise_day.nhn?code=000660&page=87\n",
      "https://finance.naver.com/item/sise_day.nhn?code=000660&page=88\n",
      "https://finance.naver.com/item/sise_day.nhn?code=000660&page=89\n",
      "https://finance.naver.com/item/sise_day.nhn?code=000660&page=90\n",
      "https://finance.naver.com/item/sise_day.nhn?code=000660&page=91\n",
      "https://finance.naver.com/item/sise_day.nhn?code=000660&page=92\n",
      "https://finance.naver.com/item/sise_day.nhn?code=000660&page=93\n",
      "https://finance.naver.com/item/sise_day.nhn?code=000660&page=94\n",
      "https://finance.naver.com/item/sise_day.nhn?code=000660&page=95\n",
      "https://finance.naver.com/item/sise_day.nhn?code=000660&page=96\n",
      "https://finance.naver.com/item/sise_day.nhn?code=000660&page=97\n",
      "https://finance.naver.com/item/sise_day.nhn?code=000660&page=98\n",
      "https://finance.naver.com/item/sise_day.nhn?code=000660&page=99\n",
      "https://finance.naver.com/item/sise_day.nhn?code=000660&page=100\n",
      "https://finance.naver.com/item/sise_day.nhn?code=000660&page=101\n",
      "https://finance.naver.com/item/sise_day.nhn?code=000660&page=102\n",
      "https://finance.naver.com/item/sise_day.nhn?code=000660&page=103\n",
      "https://finance.naver.com/item/sise_day.nhn?code=000660&page=104\n",
      "https://finance.naver.com/item/sise_day.nhn?code=000660&page=105\n",
      "https://finance.naver.com/item/sise_day.nhn?code=000660&page=106\n",
      "https://finance.naver.com/item/sise_day.nhn?code=000660&page=107\n",
      "https://finance.naver.com/item/sise_day.nhn?code=000660&page=108\n",
      "https://finance.naver.com/item/sise_day.nhn?code=000660&page=109\n",
      "https://finance.naver.com/item/sise_day.nhn?code=000660&page=110\n",
      "https://finance.naver.com/item/sise_day.nhn?code=000660&page=111\n",
      "https://finance.naver.com/item/sise_day.nhn?code=000660&page=112\n",
      "https://finance.naver.com/item/sise_day.nhn?code=000660&page=113\n",
      "https://finance.naver.com/item/sise_day.nhn?code=000660&page=114\n",
      "https://finance.naver.com/item/sise_day.nhn?code=000660&page=115\n",
      "https://finance.naver.com/item/sise_day.nhn?code=000660&page=116\n",
      "https://finance.naver.com/item/sise_day.nhn?code=000660&page=117\n",
      "https://finance.naver.com/item/sise_day.nhn?code=000660&page=118\n",
      "https://finance.naver.com/item/sise_day.nhn?code=000660&page=119\n",
      "https://finance.naver.com/item/sise_day.nhn?code=000660&page=120\n",
      "https://finance.naver.com/item/sise_day.nhn?code=000660&page=121\n",
      "https://finance.naver.com/item/sise_day.nhn?code=000660&page=122\n",
      "https://finance.naver.com/item/sise_day.nhn?code=000660&page=123\n",
      "https://finance.naver.com/item/sise_day.nhn?code=000660&page=124\n",
      "https://finance.naver.com/item/sise_day.nhn?code=000660&page=125\n",
      "https://finance.naver.com/item/sise_day.nhn?code=000660&page=126\n",
      "https://finance.naver.com/item/sise_day.nhn?code=000660&page=127\n",
      "https://finance.naver.com/item/sise_day.nhn?code=000660&page=128\n",
      "https://finance.naver.com/item/sise_day.nhn?code=000660&page=129\n",
      "https://finance.naver.com/item/sise_day.nhn?code=000660&page=130\n",
      "https://finance.naver.com/item/sise_day.nhn?code=000660&page=131\n",
      "https://finance.naver.com/item/sise_day.nhn?code=000660&page=132\n",
      "https://finance.naver.com/item/sise_day.nhn?code=000660&page=133\n",
      "https://finance.naver.com/item/sise_day.nhn?code=000660&page=134\n",
      "https://finance.naver.com/item/sise_day.nhn?code=000660&page=135\n",
      "https://finance.naver.com/item/sise_day.nhn?code=000660&page=136\n",
      "https://finance.naver.com/item/sise_day.nhn?code=000660&page=137\n",
      "https://finance.naver.com/item/sise_day.nhn?code=000660&page=138\n",
      "https://finance.naver.com/item/sise_day.nhn?code=000660&page=139\n",
      "https://finance.naver.com/item/sise_day.nhn?code=000660&page=140\n",
      "https://finance.naver.com/item/sise_day.nhn?code=000660&page=141\n",
      "https://finance.naver.com/item/sise_day.nhn?code=000660&page=142\n",
      "https://finance.naver.com/item/sise_day.nhn?code=000660&page=143\n",
      "https://finance.naver.com/item/sise_day.nhn?code=000660&page=144\n",
      "https://finance.naver.com/item/sise_day.nhn?code=000660&page=145\n",
      "https://finance.naver.com/item/sise_day.nhn?code=000660&page=146\n",
      "https://finance.naver.com/item/sise_day.nhn?code=000660&page=147\n",
      "https://finance.naver.com/item/sise_day.nhn?code=000660&page=148\n",
      "https://finance.naver.com/item/sise_day.nhn?code=000660&page=149\n",
      "https://finance.naver.com/item/sise_day.nhn?code=000660&page=150\n",
      "https://finance.naver.com/item/sise_day.nhn?code=000660&page=151\n",
      "https://finance.naver.com/item/sise_day.nhn?code=000660&page=152\n",
      "https://finance.naver.com/item/sise_day.nhn?code=000660&page=153\n",
      "https://finance.naver.com/item/sise_day.nhn?code=000660&page=154\n",
      "https://finance.naver.com/item/sise_day.nhn?code=000660&page=155\n",
      "https://finance.naver.com/item/sise_day.nhn?code=000660&page=156\n",
      "https://finance.naver.com/item/sise_day.nhn?code=000660&page=157\n",
      "https://finance.naver.com/item/sise_day.nhn?code=000660&page=158\n"
     ]
    }
   ],
   "source": [
    "sk = pd.DataFrame()\n",
    "sise_url = 'https://finance.naver.com/item/sise_day.nhn?code=000660'\n",
    "for page in range(10, 159):\n",
    "    page_url = '{}&page={}'.format(sise_url, page)\n",
    "    print(page_url)\n",
    "\n",
    "    # 위에서 했던 일련의 과정들을 각 url에 대해서 (99페이지에 대해서 반복)\n",
    "    response = requests.get(page_url, headers=headers)\n",
    "    html = bs(response.text, 'html.parser')\n",
    "    html_table = html.select(\"table\")\n",
    "    table = pd.read_html(str(html_table))\n",
    "\n",
    "    # 현재 얻은 데이터프레임을 기존 데이터프레임에 누적.\n",
    "    sk = sk.append(table[0].dropna())"
   ],
   "metadata": {
    "collapsed": false,
    "pycharm": {
     "name": "#%%\n"
    }
   }
  },
  {
   "cell_type": "code",
   "execution_count": 72,
   "outputs": [
    {
     "name": "stderr",
     "output_type": "stream",
     "text": [
      "C:\\Users\\msi\\AppData\\Local\\Temp/ipykernel_37144/908511715.py:3: SettingWithCopyWarning: \n",
      "A value is trying to be set on a copy of a slice from a DataFrame\n",
      "\n",
      "See the caveats in the documentation: https://pandas.pydata.org/pandas-docs/stable/user_guide/indexing.html#returning-a-view-versus-a-copy\n",
      "  sk.날짜[i] = sk.날짜[i].replace('.', '')\n"
     ]
    }
   ],
   "source": [
    "sk = sk.reset_index(drop=True)\n",
    "for i in range(len(sk['날짜'])):\n",
    "    sk.날짜[i] = sk.날짜[i].replace('.', '')\n",
    "sk['회사명'] = 'SK하이닉스'"
   ],
   "metadata": {
    "collapsed": false,
    "pycharm": {
     "name": "#%%\n"
    }
   }
  },
  {
   "cell_type": "code",
   "execution_count": 73,
   "outputs": [],
   "source": [
    "# sk = sk[sk[\"날짜\"].isin(['2022.09.30','2022.12.29', '2022.06.30', '2022.03.31', '2021.12.30', '2021.09.30', '2021.06.30', '2021.03.31', '2020.12.30', '2020.09.29', '2020.06.30', '2020.03.27', '2019.12.30', '2019.09.30', '2019.06.28', '2019.03.29', '2018.12.28', '2017.12.28', '2016.12.29'])]\n",
    "sk = sk.drop(labels=['전일비', '시가', '고가', '저가', '거래량'],axis=1)\n",
    "# sk =sk.transpose()"
   ],
   "metadata": {
    "collapsed": false,
    "pycharm": {
     "name": "#%%\n"
    }
   }
  },
  {
   "cell_type": "code",
   "execution_count": 74,
   "outputs": [
    {
     "data": {
      "text/plain": "            날짜       종가     회사명\n0     20230105  81400.0  SK하이닉스\n1     20230104  81000.0  SK하이닉스\n2     20230103  75600.0  SK하이닉스\n3     20230102  75700.0  SK하이닉스\n4     20221229  75000.0  SK하이닉스\n...        ...      ...     ...\n1485  20161221  45000.0  SK하이닉스\n1486  20161220  45150.0  SK하이닉스\n1487  20161219  45150.0  SK하이닉스\n1488  20161216  46400.0  SK하이닉스\n1489  20161215  45600.0  SK하이닉스\n\n[1490 rows x 3 columns]",
      "text/html": "<div>\n<style scoped>\n    .dataframe tbody tr th:only-of-type {\n        vertical-align: middle;\n    }\n\n    .dataframe tbody tr th {\n        vertical-align: top;\n    }\n\n    .dataframe thead th {\n        text-align: right;\n    }\n</style>\n<table border=\"1\" class=\"dataframe\">\n  <thead>\n    <tr style=\"text-align: right;\">\n      <th></th>\n      <th>날짜</th>\n      <th>종가</th>\n      <th>회사명</th>\n    </tr>\n  </thead>\n  <tbody>\n    <tr>\n      <th>0</th>\n      <td>20230105</td>\n      <td>81400.0</td>\n      <td>SK하이닉스</td>\n    </tr>\n    <tr>\n      <th>1</th>\n      <td>20230104</td>\n      <td>81000.0</td>\n      <td>SK하이닉스</td>\n    </tr>\n    <tr>\n      <th>2</th>\n      <td>20230103</td>\n      <td>75600.0</td>\n      <td>SK하이닉스</td>\n    </tr>\n    <tr>\n      <th>3</th>\n      <td>20230102</td>\n      <td>75700.0</td>\n      <td>SK하이닉스</td>\n    </tr>\n    <tr>\n      <th>4</th>\n      <td>20221229</td>\n      <td>75000.0</td>\n      <td>SK하이닉스</td>\n    </tr>\n    <tr>\n      <th>...</th>\n      <td>...</td>\n      <td>...</td>\n      <td>...</td>\n    </tr>\n    <tr>\n      <th>1485</th>\n      <td>20161221</td>\n      <td>45000.0</td>\n      <td>SK하이닉스</td>\n    </tr>\n    <tr>\n      <th>1486</th>\n      <td>20161220</td>\n      <td>45150.0</td>\n      <td>SK하이닉스</td>\n    </tr>\n    <tr>\n      <th>1487</th>\n      <td>20161219</td>\n      <td>45150.0</td>\n      <td>SK하이닉스</td>\n    </tr>\n    <tr>\n      <th>1488</th>\n      <td>20161216</td>\n      <td>46400.0</td>\n      <td>SK하이닉스</td>\n    </tr>\n    <tr>\n      <th>1489</th>\n      <td>20161215</td>\n      <td>45600.0</td>\n      <td>SK하이닉스</td>\n    </tr>\n  </tbody>\n</table>\n<p>1490 rows × 3 columns</p>\n</div>"
     },
     "execution_count": 74,
     "metadata": {},
     "output_type": "execute_result"
    }
   ],
   "source": [
    "sk"
   ],
   "metadata": {
    "collapsed": false,
    "pycharm": {
     "name": "#%%\n"
    }
   }
  },
  {
   "cell_type": "code",
   "execution_count": 247,
   "outputs": [],
   "source": [
    "df = pd.read_csv(\"C:/Users/msi/PycharmProjects/재무제표 관련/all_fs_info.csv\")"
   ],
   "metadata": {
    "collapsed": false,
    "pycharm": {
     "name": "#%%\n"
    }
   }
  },
  {
   "cell_type": "code",
   "execution_count": 248,
   "outputs": [],
   "source": [
    "df = df.transpose()"
   ],
   "metadata": {
    "collapsed": false,
    "pycharm": {
     "name": "#%%\n"
    }
   }
  },
  {
   "cell_type": "code",
   "execution_count": 249,
   "outputs": [],
   "source": [
    "df = df.drop(labels='Corp',axis=0)"
   ],
   "metadata": {
    "collapsed": false,
    "pycharm": {
     "name": "#%%\n"
    }
   }
  },
  {
   "cell_type": "code",
   "execution_count": 250,
   "outputs": [
    {
     "name": "stderr",
     "output_type": "stream",
     "text": [
      "C:\\Users\\msi\\anaconda3\\lib\\site-packages\\pandas\\core\\frame.py:5039: SettingWithCopyWarning: \n",
      "A value is trying to be set on a copy of a slice from a DataFrame\n",
      "\n",
      "See the caveats in the documentation: https://pandas.pydata.org/pandas-docs/stable/user_guide/indexing.html#returning-a-view-versus-a-copy\n",
      "  return super().rename(\n"
     ]
    },
    {
     "data": {
      "text/plain": "                 자산총계        이익잉여금         자본총계          ROA          ROE  \\\n20221231  1.03872E+14  5.66853E+13  6.32905E+13  0.545724799   0.89563556   \n20220930  1.09546E+14  6.02329E+13  6.87232E+13   0.54984224  0.876456863   \n20220630  1.04148E+14  5.93469E+13  6.67602E+13  0.569834835  0.888957471   \n20220331  9.94661E+13  5.66927E+13  6.33986E+13  0.569970302  0.894225789   \n20211231  9.63465E+13  5.57841E+13  6.21911E+13  0.578994084  0.896978919   \n20210930   8.3269E+13  5.24604E+13  5.87144E+13  0.630010866  0.893483777   \n20210630  7.77179E+13  4.91564E+13   5.4878E+13  0.632498085  0.895739795   \n20210331   7.5118E+13  4.71789E+13  5.23786E+13  0.628063154  0.900727834   \n20201231  7.11739E+13  4.69957E+13  5.19091E+13  0.660294842  0.905346668   \n20200930  6.92672E+13  4.52213E+13  5.04991E+13  0.652853134  0.895487795   \n20200630  6.92593E+13  4.41485E+13  4.94029E+13  0.637438364  0.893642973   \n20200331  6.71428E+13  4.28902E+13  4.82477E+13  0.638790686  0.888957726   \n20191231  6.52484E+13  4.29234E+13  4.79359E+13  0.657845938   0.89543282   \n20190930  6.36718E+13  4.31226E+13  4.82662E+13  0.677264867  0.893433019   \n20190630  6.30323E+13  4.26346E+13  4.77108E+13  0.676392776  0.893604375   \n20190331  6.51315E+13  4.21044E+13   4.7166E+13  0.646452782  0.892686125   \n20181231  6.36583E+13  4.20336E+13  4.68523E+13  0.660300038  0.897150688   \n20171231  4.54185E+13  2.72873E+13  3.38209E+13  0.600796539  0.806815924   \n20161231   3.2216E+13  1.70666E+13  2.40235E+13  0.529754446  0.710411126   \n\n               종가         자산총계        이익잉여금         자본총계          ROA  ...  \\\n20221231   75,000  3.02575E+13  1.04684E+13  1.72175E+13  0.345975136  ...   \n20220930   83,100  3.03674E+13  9.80037E+12   1.6907E+13  0.322726995  ...   \n20220630   91,000  2.88419E+13  9.19745E+12  1.60481E+13  0.318892125  ...   \n20220331  118,000   2.7005E+13  8.80612E+12  1.56603E+13  0.326092346  ...   \n20211231  131,000  2.58332E+13  8.51647E+12  1.51967E+13  0.329671726  ...   \n20210930  103,000  2.45212E+13  8.15543E+12  1.48745E+13  0.332586464  ...   \n20210630  127,500  2.32154E+13  7.76016E+12  1.41847E+13  0.334268008  ...   \n20210331  132,500  2.19228E+13  7.48537E+12  1.36423E+13  0.341441796  ...   \n20201231  118,500  2.15342E+13   7.4181E+12  1.33589E+13  0.344479509  ...   \n20200930   84,000  2.08094E+13  7.09673E+12  1.29647E+13  0.341034621  ...   \n20200630   85,100    2.054E+13   6.8737E+12  1.26521E+13  0.334649863  ...   \n20200331   83,300  1.98869E+13  6.83032E+12  1.24643E+13  0.343458021  ...   \n20191231   94,100  1.98521E+13  6.90687E+12  1.26603E+13  0.347916327  ...   \n20190930   82,200   1.9737E+13  6.95266E+12  1.27556E+13  0.352265323  ...   \n20190630   69,500  1.97658E+13   6.7443E+12  1.25172E+13  0.341210671  ...   \n20190331   74,200  1.95543E+13  6.59575E+12  1.23095E+13  0.337304893  ...   \n20181231   60,500  1.93497E+13  6.61252E+12  1.22252E+13  0.341737004  ...   \n20171231   76,500  1.57417E+13  5.60059E+12   1.1452E+13  0.355780208  ...   \n20161231   44,700  1.49003E+13  4.99472E+12  1.09641E+13  0.335208923  ...   \n\n              종가  NaN  NaN  NaN  NaN  NaN  NaN  NaN  NaN  NaN  \n20221231   86500  NaN  NaN  NaN  NaN  NaN  NaN  NaN  NaN   80  \n20220930   78600  NaN  NaN  NaN  NaN  NaN  NaN  NaN  NaN  NaN  \n20220630   88300  NaN  NaN  NaN  NaN  NaN  NaN  NaN  NaN  NaN  \n20220331  120500  NaN  NaN  NaN  NaN  NaN  NaN  NaN  NaN  NaN  \n20211231  138000  NaN  NaN  NaN  NaN  NaN  NaN  NaN  NaN  NaN  \n20210930  127500  NaN  NaN  NaN  NaN  NaN  NaN  NaN  NaN  NaN  \n20210630  163500  NaN  NaN  NaN  NaN  NaN  NaN  NaN  NaN  NaN  \n20210331  150000  NaN  NaN  NaN  NaN  NaN  NaN  NaN  NaN  NaN  \n20201231  135000  NaN  NaN  NaN  NaN  NaN  NaN  NaN  NaN  NaN  \n20200930   91700  NaN  NaN  NaN  NaN  NaN  NaN  NaN  NaN  NaN  \n20200630   63200  NaN  NaN  NaN  NaN  NaN  NaN  NaN  NaN  NaN  \n20200331   49400  NaN  NaN  NaN  NaN  NaN  NaN  NaN  NaN  NaN  \n20191231   72100  NaN  NaN  NaN  NaN  NaN  NaN  NaN  NaN  NaN  \n20190930   67400  NaN  NaN  NaN  NaN  NaN  NaN  NaN  NaN  NaN  \n20190630   79300  NaN  NaN  NaN  NaN  NaN  NaN  NaN  NaN  NaN  \n20190331   75100  NaN  NaN  NaN  NaN  NaN  NaN  NaN  NaN  NaN  \n20181231   62300  NaN  NaN  NaN  NaN  NaN  NaN  NaN  NaN  NaN  \n20171231  106000  NaN  NaN  NaN  NaN  NaN  NaN  NaN  NaN  NaN  \n20161231   51600  NaN  NaN  NaN  NaN  NaN  NaN  NaN  NaN  NaN  \n\n[19 rows x 45 columns]",
      "text/html": "<div>\n<style scoped>\n    .dataframe tbody tr th:only-of-type {\n        vertical-align: middle;\n    }\n\n    .dataframe tbody tr th {\n        vertical-align: top;\n    }\n\n    .dataframe thead th {\n        text-align: right;\n    }\n</style>\n<table border=\"1\" class=\"dataframe\">\n  <thead>\n    <tr style=\"text-align: right;\">\n      <th></th>\n      <th>자산총계</th>\n      <th>이익잉여금</th>\n      <th>자본총계</th>\n      <th>ROA</th>\n      <th>ROE</th>\n      <th>종가</th>\n      <th>자산총계</th>\n      <th>이익잉여금</th>\n      <th>자본총계</th>\n      <th>ROA</th>\n      <th>...</th>\n      <th>종가</th>\n      <th>NaN</th>\n      <th>NaN</th>\n      <th>NaN</th>\n      <th>NaN</th>\n      <th>NaN</th>\n      <th>NaN</th>\n      <th>NaN</th>\n      <th>NaN</th>\n      <th>NaN</th>\n    </tr>\n  </thead>\n  <tbody>\n    <tr>\n      <th>20221231</th>\n      <td>1.03872E+14</td>\n      <td>5.66853E+13</td>\n      <td>6.32905E+13</td>\n      <td>0.545724799</td>\n      <td>0.89563556</td>\n      <td>75,000</td>\n      <td>3.02575E+13</td>\n      <td>1.04684E+13</td>\n      <td>1.72175E+13</td>\n      <td>0.345975136</td>\n      <td>...</td>\n      <td>86500</td>\n      <td>NaN</td>\n      <td>NaN</td>\n      <td>NaN</td>\n      <td>NaN</td>\n      <td>NaN</td>\n      <td>NaN</td>\n      <td>NaN</td>\n      <td>NaN</td>\n      <td>80</td>\n    </tr>\n    <tr>\n      <th>20220930</th>\n      <td>1.09546E+14</td>\n      <td>6.02329E+13</td>\n      <td>6.87232E+13</td>\n      <td>0.54984224</td>\n      <td>0.876456863</td>\n      <td>83,100</td>\n      <td>3.03674E+13</td>\n      <td>9.80037E+12</td>\n      <td>1.6907E+13</td>\n      <td>0.322726995</td>\n      <td>...</td>\n      <td>78600</td>\n      <td>NaN</td>\n      <td>NaN</td>\n      <td>NaN</td>\n      <td>NaN</td>\n      <td>NaN</td>\n      <td>NaN</td>\n      <td>NaN</td>\n      <td>NaN</td>\n      <td>NaN</td>\n    </tr>\n    <tr>\n      <th>20220630</th>\n      <td>1.04148E+14</td>\n      <td>5.93469E+13</td>\n      <td>6.67602E+13</td>\n      <td>0.569834835</td>\n      <td>0.888957471</td>\n      <td>91,000</td>\n      <td>2.88419E+13</td>\n      <td>9.19745E+12</td>\n      <td>1.60481E+13</td>\n      <td>0.318892125</td>\n      <td>...</td>\n      <td>88300</td>\n      <td>NaN</td>\n      <td>NaN</td>\n      <td>NaN</td>\n      <td>NaN</td>\n      <td>NaN</td>\n      <td>NaN</td>\n      <td>NaN</td>\n      <td>NaN</td>\n      <td>NaN</td>\n    </tr>\n    <tr>\n      <th>20220331</th>\n      <td>9.94661E+13</td>\n      <td>5.66927E+13</td>\n      <td>6.33986E+13</td>\n      <td>0.569970302</td>\n      <td>0.894225789</td>\n      <td>118,000</td>\n      <td>2.7005E+13</td>\n      <td>8.80612E+12</td>\n      <td>1.56603E+13</td>\n      <td>0.326092346</td>\n      <td>...</td>\n      <td>120500</td>\n      <td>NaN</td>\n      <td>NaN</td>\n      <td>NaN</td>\n      <td>NaN</td>\n      <td>NaN</td>\n      <td>NaN</td>\n      <td>NaN</td>\n      <td>NaN</td>\n      <td>NaN</td>\n    </tr>\n    <tr>\n      <th>20211231</th>\n      <td>9.63465E+13</td>\n      <td>5.57841E+13</td>\n      <td>6.21911E+13</td>\n      <td>0.578994084</td>\n      <td>0.896978919</td>\n      <td>131,000</td>\n      <td>2.58332E+13</td>\n      <td>8.51647E+12</td>\n      <td>1.51967E+13</td>\n      <td>0.329671726</td>\n      <td>...</td>\n      <td>138000</td>\n      <td>NaN</td>\n      <td>NaN</td>\n      <td>NaN</td>\n      <td>NaN</td>\n      <td>NaN</td>\n      <td>NaN</td>\n      <td>NaN</td>\n      <td>NaN</td>\n      <td>NaN</td>\n    </tr>\n    <tr>\n      <th>20210930</th>\n      <td>8.3269E+13</td>\n      <td>5.24604E+13</td>\n      <td>5.87144E+13</td>\n      <td>0.630010866</td>\n      <td>0.893483777</td>\n      <td>103,000</td>\n      <td>2.45212E+13</td>\n      <td>8.15543E+12</td>\n      <td>1.48745E+13</td>\n      <td>0.332586464</td>\n      <td>...</td>\n      <td>127500</td>\n      <td>NaN</td>\n      <td>NaN</td>\n      <td>NaN</td>\n      <td>NaN</td>\n      <td>NaN</td>\n      <td>NaN</td>\n      <td>NaN</td>\n      <td>NaN</td>\n      <td>NaN</td>\n    </tr>\n    <tr>\n      <th>20210630</th>\n      <td>7.77179E+13</td>\n      <td>4.91564E+13</td>\n      <td>5.4878E+13</td>\n      <td>0.632498085</td>\n      <td>0.895739795</td>\n      <td>127,500</td>\n      <td>2.32154E+13</td>\n      <td>7.76016E+12</td>\n      <td>1.41847E+13</td>\n      <td>0.334268008</td>\n      <td>...</td>\n      <td>163500</td>\n      <td>NaN</td>\n      <td>NaN</td>\n      <td>NaN</td>\n      <td>NaN</td>\n      <td>NaN</td>\n      <td>NaN</td>\n      <td>NaN</td>\n      <td>NaN</td>\n      <td>NaN</td>\n    </tr>\n    <tr>\n      <th>20210331</th>\n      <td>7.5118E+13</td>\n      <td>4.71789E+13</td>\n      <td>5.23786E+13</td>\n      <td>0.628063154</td>\n      <td>0.900727834</td>\n      <td>132,500</td>\n      <td>2.19228E+13</td>\n      <td>7.48537E+12</td>\n      <td>1.36423E+13</td>\n      <td>0.341441796</td>\n      <td>...</td>\n      <td>150000</td>\n      <td>NaN</td>\n      <td>NaN</td>\n      <td>NaN</td>\n      <td>NaN</td>\n      <td>NaN</td>\n      <td>NaN</td>\n      <td>NaN</td>\n      <td>NaN</td>\n      <td>NaN</td>\n    </tr>\n    <tr>\n      <th>20201231</th>\n      <td>7.11739E+13</td>\n      <td>4.69957E+13</td>\n      <td>5.19091E+13</td>\n      <td>0.660294842</td>\n      <td>0.905346668</td>\n      <td>118,500</td>\n      <td>2.15342E+13</td>\n      <td>7.4181E+12</td>\n      <td>1.33589E+13</td>\n      <td>0.344479509</td>\n      <td>...</td>\n      <td>135000</td>\n      <td>NaN</td>\n      <td>NaN</td>\n      <td>NaN</td>\n      <td>NaN</td>\n      <td>NaN</td>\n      <td>NaN</td>\n      <td>NaN</td>\n      <td>NaN</td>\n      <td>NaN</td>\n    </tr>\n    <tr>\n      <th>20200930</th>\n      <td>6.92672E+13</td>\n      <td>4.52213E+13</td>\n      <td>5.04991E+13</td>\n      <td>0.652853134</td>\n      <td>0.895487795</td>\n      <td>84,000</td>\n      <td>2.08094E+13</td>\n      <td>7.09673E+12</td>\n      <td>1.29647E+13</td>\n      <td>0.341034621</td>\n      <td>...</td>\n      <td>91700</td>\n      <td>NaN</td>\n      <td>NaN</td>\n      <td>NaN</td>\n      <td>NaN</td>\n      <td>NaN</td>\n      <td>NaN</td>\n      <td>NaN</td>\n      <td>NaN</td>\n      <td>NaN</td>\n    </tr>\n    <tr>\n      <th>20200630</th>\n      <td>6.92593E+13</td>\n      <td>4.41485E+13</td>\n      <td>4.94029E+13</td>\n      <td>0.637438364</td>\n      <td>0.893642973</td>\n      <td>85,100</td>\n      <td>2.054E+13</td>\n      <td>6.8737E+12</td>\n      <td>1.26521E+13</td>\n      <td>0.334649863</td>\n      <td>...</td>\n      <td>63200</td>\n      <td>NaN</td>\n      <td>NaN</td>\n      <td>NaN</td>\n      <td>NaN</td>\n      <td>NaN</td>\n      <td>NaN</td>\n      <td>NaN</td>\n      <td>NaN</td>\n      <td>NaN</td>\n    </tr>\n    <tr>\n      <th>20200331</th>\n      <td>6.71428E+13</td>\n      <td>4.28902E+13</td>\n      <td>4.82477E+13</td>\n      <td>0.638790686</td>\n      <td>0.888957726</td>\n      <td>83,300</td>\n      <td>1.98869E+13</td>\n      <td>6.83032E+12</td>\n      <td>1.24643E+13</td>\n      <td>0.343458021</td>\n      <td>...</td>\n      <td>49400</td>\n      <td>NaN</td>\n      <td>NaN</td>\n      <td>NaN</td>\n      <td>NaN</td>\n      <td>NaN</td>\n      <td>NaN</td>\n      <td>NaN</td>\n      <td>NaN</td>\n      <td>NaN</td>\n    </tr>\n    <tr>\n      <th>20191231</th>\n      <td>6.52484E+13</td>\n      <td>4.29234E+13</td>\n      <td>4.79359E+13</td>\n      <td>0.657845938</td>\n      <td>0.89543282</td>\n      <td>94,100</td>\n      <td>1.98521E+13</td>\n      <td>6.90687E+12</td>\n      <td>1.26603E+13</td>\n      <td>0.347916327</td>\n      <td>...</td>\n      <td>72100</td>\n      <td>NaN</td>\n      <td>NaN</td>\n      <td>NaN</td>\n      <td>NaN</td>\n      <td>NaN</td>\n      <td>NaN</td>\n      <td>NaN</td>\n      <td>NaN</td>\n      <td>NaN</td>\n    </tr>\n    <tr>\n      <th>20190930</th>\n      <td>6.36718E+13</td>\n      <td>4.31226E+13</td>\n      <td>4.82662E+13</td>\n      <td>0.677264867</td>\n      <td>0.893433019</td>\n      <td>82,200</td>\n      <td>1.9737E+13</td>\n      <td>6.95266E+12</td>\n      <td>1.27556E+13</td>\n      <td>0.352265323</td>\n      <td>...</td>\n      <td>67400</td>\n      <td>NaN</td>\n      <td>NaN</td>\n      <td>NaN</td>\n      <td>NaN</td>\n      <td>NaN</td>\n      <td>NaN</td>\n      <td>NaN</td>\n      <td>NaN</td>\n      <td>NaN</td>\n    </tr>\n    <tr>\n      <th>20190630</th>\n      <td>6.30323E+13</td>\n      <td>4.26346E+13</td>\n      <td>4.77108E+13</td>\n      <td>0.676392776</td>\n      <td>0.893604375</td>\n      <td>69,500</td>\n      <td>1.97658E+13</td>\n      <td>6.7443E+12</td>\n      <td>1.25172E+13</td>\n      <td>0.341210671</td>\n      <td>...</td>\n      <td>79300</td>\n      <td>NaN</td>\n      <td>NaN</td>\n      <td>NaN</td>\n      <td>NaN</td>\n      <td>NaN</td>\n      <td>NaN</td>\n      <td>NaN</td>\n      <td>NaN</td>\n      <td>NaN</td>\n    </tr>\n    <tr>\n      <th>20190331</th>\n      <td>6.51315E+13</td>\n      <td>4.21044E+13</td>\n      <td>4.7166E+13</td>\n      <td>0.646452782</td>\n      <td>0.892686125</td>\n      <td>74,200</td>\n      <td>1.95543E+13</td>\n      <td>6.59575E+12</td>\n      <td>1.23095E+13</td>\n      <td>0.337304893</td>\n      <td>...</td>\n      <td>75100</td>\n      <td>NaN</td>\n      <td>NaN</td>\n      <td>NaN</td>\n      <td>NaN</td>\n      <td>NaN</td>\n      <td>NaN</td>\n      <td>NaN</td>\n      <td>NaN</td>\n      <td>NaN</td>\n    </tr>\n    <tr>\n      <th>20181231</th>\n      <td>6.36583E+13</td>\n      <td>4.20336E+13</td>\n      <td>4.68523E+13</td>\n      <td>0.660300038</td>\n      <td>0.897150688</td>\n      <td>60,500</td>\n      <td>1.93497E+13</td>\n      <td>6.61252E+12</td>\n      <td>1.22252E+13</td>\n      <td>0.341737004</td>\n      <td>...</td>\n      <td>62300</td>\n      <td>NaN</td>\n      <td>NaN</td>\n      <td>NaN</td>\n      <td>NaN</td>\n      <td>NaN</td>\n      <td>NaN</td>\n      <td>NaN</td>\n      <td>NaN</td>\n      <td>NaN</td>\n    </tr>\n    <tr>\n      <th>20171231</th>\n      <td>4.54185E+13</td>\n      <td>2.72873E+13</td>\n      <td>3.38209E+13</td>\n      <td>0.600796539</td>\n      <td>0.806815924</td>\n      <td>76,500</td>\n      <td>1.57417E+13</td>\n      <td>5.60059E+12</td>\n      <td>1.1452E+13</td>\n      <td>0.355780208</td>\n      <td>...</td>\n      <td>106000</td>\n      <td>NaN</td>\n      <td>NaN</td>\n      <td>NaN</td>\n      <td>NaN</td>\n      <td>NaN</td>\n      <td>NaN</td>\n      <td>NaN</td>\n      <td>NaN</td>\n      <td>NaN</td>\n    </tr>\n    <tr>\n      <th>20161231</th>\n      <td>3.2216E+13</td>\n      <td>1.70666E+13</td>\n      <td>2.40235E+13</td>\n      <td>0.529754446</td>\n      <td>0.710411126</td>\n      <td>44,700</td>\n      <td>1.49003E+13</td>\n      <td>4.99472E+12</td>\n      <td>1.09641E+13</td>\n      <td>0.335208923</td>\n      <td>...</td>\n      <td>51600</td>\n      <td>NaN</td>\n      <td>NaN</td>\n      <td>NaN</td>\n      <td>NaN</td>\n      <td>NaN</td>\n      <td>NaN</td>\n      <td>NaN</td>\n      <td>NaN</td>\n      <td>NaN</td>\n    </tr>\n  </tbody>\n</table>\n<p>19 rows × 45 columns</p>\n</div>"
     },
     "execution_count": 250,
     "metadata": {},
     "output_type": "execute_result"
    }
   ],
   "source": [
    "header = df.iloc[0]\n",
    "df1 = df[1:]\n",
    "df1.rename(columns=header, inplace=True)"
   ],
   "metadata": {
    "collapsed": false,
    "pycharm": {
     "name": "#%%\n"
    }
   }
  },
  {
   "cell_type": "code",
   "execution_count": 251,
   "outputs": [
    {
     "data": {
      "text/plain": "                 자산총계        이익잉여금         자본총계          ROA          ROE  \\\n20221231  1.03872E+14  5.66853E+13  6.32905E+13  0.545724799   0.89563556   \n20220930  1.09546E+14  6.02329E+13  6.87232E+13   0.54984224  0.876456863   \n20220630  1.04148E+14  5.93469E+13  6.67602E+13  0.569834835  0.888957471   \n20220331  9.94661E+13  5.66927E+13  6.33986E+13  0.569970302  0.894225789   \n20211231  9.63465E+13  5.57841E+13  6.21911E+13  0.578994084  0.896978919   \n20210930   8.3269E+13  5.24604E+13  5.87144E+13  0.630010866  0.893483777   \n20210630  7.77179E+13  4.91564E+13   5.4878E+13  0.632498085  0.895739795   \n20210331   7.5118E+13  4.71789E+13  5.23786E+13  0.628063154  0.900727834   \n20201231  7.11739E+13  4.69957E+13  5.19091E+13  0.660294842  0.905346668   \n20200930  6.92672E+13  4.52213E+13  5.04991E+13  0.652853134  0.895487795   \n20200630  6.92593E+13  4.41485E+13  4.94029E+13  0.637438364  0.893642973   \n20200331  6.71428E+13  4.28902E+13  4.82477E+13  0.638790686  0.888957726   \n20191231  6.52484E+13  4.29234E+13  4.79359E+13  0.657845938   0.89543282   \n20190930  6.36718E+13  4.31226E+13  4.82662E+13  0.677264867  0.893433019   \n20190630  6.30323E+13  4.26346E+13  4.77108E+13  0.676392776  0.893604375   \n20190331  6.51315E+13  4.21044E+13   4.7166E+13  0.646452782  0.892686125   \n20181231  6.36583E+13  4.20336E+13  4.68523E+13  0.660300038  0.897150688   \n20171231  4.54185E+13  2.72873E+13  3.38209E+13  0.600796539  0.806815924   \n20161231   3.2216E+13  1.70666E+13  2.40235E+13  0.529754446  0.710411126   \n\n               종가         자산총계        이익잉여금         자본총계          ROA  ...  \\\n20221231   75,000  3.02575E+13  1.04684E+13  1.72175E+13  0.345975136  ...   \n20220930   83,100  3.03674E+13  9.80037E+12   1.6907E+13  0.322726995  ...   \n20220630   91,000  2.88419E+13  9.19745E+12  1.60481E+13  0.318892125  ...   \n20220331  118,000   2.7005E+13  8.80612E+12  1.56603E+13  0.326092346  ...   \n20211231  131,000  2.58332E+13  8.51647E+12  1.51967E+13  0.329671726  ...   \n20210930  103,000  2.45212E+13  8.15543E+12  1.48745E+13  0.332586464  ...   \n20210630  127,500  2.32154E+13  7.76016E+12  1.41847E+13  0.334268008  ...   \n20210331  132,500  2.19228E+13  7.48537E+12  1.36423E+13  0.341441796  ...   \n20201231  118,500  2.15342E+13   7.4181E+12  1.33589E+13  0.344479509  ...   \n20200930   84,000  2.08094E+13  7.09673E+12  1.29647E+13  0.341034621  ...   \n20200630   85,100    2.054E+13   6.8737E+12  1.26521E+13  0.334649863  ...   \n20200331   83,300  1.98869E+13  6.83032E+12  1.24643E+13  0.343458021  ...   \n20191231   94,100  1.98521E+13  6.90687E+12  1.26603E+13  0.347916327  ...   \n20190930   82,200   1.9737E+13  6.95266E+12  1.27556E+13  0.352265323  ...   \n20190630   69,500  1.97658E+13   6.7443E+12  1.25172E+13  0.341210671  ...   \n20190331   74,200  1.95543E+13  6.59575E+12  1.23095E+13  0.337304893  ...   \n20181231   60,500  1.93497E+13  6.61252E+12  1.22252E+13  0.341737004  ...   \n20171231   76,500  1.57417E+13  5.60059E+12   1.1452E+13  0.355780208  ...   \n20161231   44,700  1.49003E+13  4.99472E+12  1.09641E+13  0.335208923  ...   \n\n              종가  NaN  NaN  NaN  NaN  NaN  NaN  NaN  NaN  NaN  \n20221231   86500  NaN  NaN  NaN  NaN  NaN  NaN  NaN  NaN   80  \n20220930   78600  NaN  NaN  NaN  NaN  NaN  NaN  NaN  NaN  NaN  \n20220630   88300  NaN  NaN  NaN  NaN  NaN  NaN  NaN  NaN  NaN  \n20220331  120500  NaN  NaN  NaN  NaN  NaN  NaN  NaN  NaN  NaN  \n20211231  138000  NaN  NaN  NaN  NaN  NaN  NaN  NaN  NaN  NaN  \n20210930  127500  NaN  NaN  NaN  NaN  NaN  NaN  NaN  NaN  NaN  \n20210630  163500  NaN  NaN  NaN  NaN  NaN  NaN  NaN  NaN  NaN  \n20210331  150000  NaN  NaN  NaN  NaN  NaN  NaN  NaN  NaN  NaN  \n20201231  135000  NaN  NaN  NaN  NaN  NaN  NaN  NaN  NaN  NaN  \n20200930   91700  NaN  NaN  NaN  NaN  NaN  NaN  NaN  NaN  NaN  \n20200630   63200  NaN  NaN  NaN  NaN  NaN  NaN  NaN  NaN  NaN  \n20200331   49400  NaN  NaN  NaN  NaN  NaN  NaN  NaN  NaN  NaN  \n20191231   72100  NaN  NaN  NaN  NaN  NaN  NaN  NaN  NaN  NaN  \n20190930   67400  NaN  NaN  NaN  NaN  NaN  NaN  NaN  NaN  NaN  \n20190630   79300  NaN  NaN  NaN  NaN  NaN  NaN  NaN  NaN  NaN  \n20190331   75100  NaN  NaN  NaN  NaN  NaN  NaN  NaN  NaN  NaN  \n20181231   62300  NaN  NaN  NaN  NaN  NaN  NaN  NaN  NaN  NaN  \n20171231  106000  NaN  NaN  NaN  NaN  NaN  NaN  NaN  NaN  NaN  \n20161231   51600  NaN  NaN  NaN  NaN  NaN  NaN  NaN  NaN  NaN  \n\n[19 rows x 45 columns]",
      "text/html": "<div>\n<style scoped>\n    .dataframe tbody tr th:only-of-type {\n        vertical-align: middle;\n    }\n\n    .dataframe tbody tr th {\n        vertical-align: top;\n    }\n\n    .dataframe thead th {\n        text-align: right;\n    }\n</style>\n<table border=\"1\" class=\"dataframe\">\n  <thead>\n    <tr style=\"text-align: right;\">\n      <th></th>\n      <th>자산총계</th>\n      <th>이익잉여금</th>\n      <th>자본총계</th>\n      <th>ROA</th>\n      <th>ROE</th>\n      <th>종가</th>\n      <th>자산총계</th>\n      <th>이익잉여금</th>\n      <th>자본총계</th>\n      <th>ROA</th>\n      <th>...</th>\n      <th>종가</th>\n      <th>NaN</th>\n      <th>NaN</th>\n      <th>NaN</th>\n      <th>NaN</th>\n      <th>NaN</th>\n      <th>NaN</th>\n      <th>NaN</th>\n      <th>NaN</th>\n      <th>NaN</th>\n    </tr>\n  </thead>\n  <tbody>\n    <tr>\n      <th>20221231</th>\n      <td>1.03872E+14</td>\n      <td>5.66853E+13</td>\n      <td>6.32905E+13</td>\n      <td>0.545724799</td>\n      <td>0.89563556</td>\n      <td>75,000</td>\n      <td>3.02575E+13</td>\n      <td>1.04684E+13</td>\n      <td>1.72175E+13</td>\n      <td>0.345975136</td>\n      <td>...</td>\n      <td>86500</td>\n      <td>NaN</td>\n      <td>NaN</td>\n      <td>NaN</td>\n      <td>NaN</td>\n      <td>NaN</td>\n      <td>NaN</td>\n      <td>NaN</td>\n      <td>NaN</td>\n      <td>80</td>\n    </tr>\n    <tr>\n      <th>20220930</th>\n      <td>1.09546E+14</td>\n      <td>6.02329E+13</td>\n      <td>6.87232E+13</td>\n      <td>0.54984224</td>\n      <td>0.876456863</td>\n      <td>83,100</td>\n      <td>3.03674E+13</td>\n      <td>9.80037E+12</td>\n      <td>1.6907E+13</td>\n      <td>0.322726995</td>\n      <td>...</td>\n      <td>78600</td>\n      <td>NaN</td>\n      <td>NaN</td>\n      <td>NaN</td>\n      <td>NaN</td>\n      <td>NaN</td>\n      <td>NaN</td>\n      <td>NaN</td>\n      <td>NaN</td>\n      <td>NaN</td>\n    </tr>\n    <tr>\n      <th>20220630</th>\n      <td>1.04148E+14</td>\n      <td>5.93469E+13</td>\n      <td>6.67602E+13</td>\n      <td>0.569834835</td>\n      <td>0.888957471</td>\n      <td>91,000</td>\n      <td>2.88419E+13</td>\n      <td>9.19745E+12</td>\n      <td>1.60481E+13</td>\n      <td>0.318892125</td>\n      <td>...</td>\n      <td>88300</td>\n      <td>NaN</td>\n      <td>NaN</td>\n      <td>NaN</td>\n      <td>NaN</td>\n      <td>NaN</td>\n      <td>NaN</td>\n      <td>NaN</td>\n      <td>NaN</td>\n      <td>NaN</td>\n    </tr>\n    <tr>\n      <th>20220331</th>\n      <td>9.94661E+13</td>\n      <td>5.66927E+13</td>\n      <td>6.33986E+13</td>\n      <td>0.569970302</td>\n      <td>0.894225789</td>\n      <td>118,000</td>\n      <td>2.7005E+13</td>\n      <td>8.80612E+12</td>\n      <td>1.56603E+13</td>\n      <td>0.326092346</td>\n      <td>...</td>\n      <td>120500</td>\n      <td>NaN</td>\n      <td>NaN</td>\n      <td>NaN</td>\n      <td>NaN</td>\n      <td>NaN</td>\n      <td>NaN</td>\n      <td>NaN</td>\n      <td>NaN</td>\n      <td>NaN</td>\n    </tr>\n    <tr>\n      <th>20211231</th>\n      <td>9.63465E+13</td>\n      <td>5.57841E+13</td>\n      <td>6.21911E+13</td>\n      <td>0.578994084</td>\n      <td>0.896978919</td>\n      <td>131,000</td>\n      <td>2.58332E+13</td>\n      <td>8.51647E+12</td>\n      <td>1.51967E+13</td>\n      <td>0.329671726</td>\n      <td>...</td>\n      <td>138000</td>\n      <td>NaN</td>\n      <td>NaN</td>\n      <td>NaN</td>\n      <td>NaN</td>\n      <td>NaN</td>\n      <td>NaN</td>\n      <td>NaN</td>\n      <td>NaN</td>\n      <td>NaN</td>\n    </tr>\n    <tr>\n      <th>20210930</th>\n      <td>8.3269E+13</td>\n      <td>5.24604E+13</td>\n      <td>5.87144E+13</td>\n      <td>0.630010866</td>\n      <td>0.893483777</td>\n      <td>103,000</td>\n      <td>2.45212E+13</td>\n      <td>8.15543E+12</td>\n      <td>1.48745E+13</td>\n      <td>0.332586464</td>\n      <td>...</td>\n      <td>127500</td>\n      <td>NaN</td>\n      <td>NaN</td>\n      <td>NaN</td>\n      <td>NaN</td>\n      <td>NaN</td>\n      <td>NaN</td>\n      <td>NaN</td>\n      <td>NaN</td>\n      <td>NaN</td>\n    </tr>\n    <tr>\n      <th>20210630</th>\n      <td>7.77179E+13</td>\n      <td>4.91564E+13</td>\n      <td>5.4878E+13</td>\n      <td>0.632498085</td>\n      <td>0.895739795</td>\n      <td>127,500</td>\n      <td>2.32154E+13</td>\n      <td>7.76016E+12</td>\n      <td>1.41847E+13</td>\n      <td>0.334268008</td>\n      <td>...</td>\n      <td>163500</td>\n      <td>NaN</td>\n      <td>NaN</td>\n      <td>NaN</td>\n      <td>NaN</td>\n      <td>NaN</td>\n      <td>NaN</td>\n      <td>NaN</td>\n      <td>NaN</td>\n      <td>NaN</td>\n    </tr>\n    <tr>\n      <th>20210331</th>\n      <td>7.5118E+13</td>\n      <td>4.71789E+13</td>\n      <td>5.23786E+13</td>\n      <td>0.628063154</td>\n      <td>0.900727834</td>\n      <td>132,500</td>\n      <td>2.19228E+13</td>\n      <td>7.48537E+12</td>\n      <td>1.36423E+13</td>\n      <td>0.341441796</td>\n      <td>...</td>\n      <td>150000</td>\n      <td>NaN</td>\n      <td>NaN</td>\n      <td>NaN</td>\n      <td>NaN</td>\n      <td>NaN</td>\n      <td>NaN</td>\n      <td>NaN</td>\n      <td>NaN</td>\n      <td>NaN</td>\n    </tr>\n    <tr>\n      <th>20201231</th>\n      <td>7.11739E+13</td>\n      <td>4.69957E+13</td>\n      <td>5.19091E+13</td>\n      <td>0.660294842</td>\n      <td>0.905346668</td>\n      <td>118,500</td>\n      <td>2.15342E+13</td>\n      <td>7.4181E+12</td>\n      <td>1.33589E+13</td>\n      <td>0.344479509</td>\n      <td>...</td>\n      <td>135000</td>\n      <td>NaN</td>\n      <td>NaN</td>\n      <td>NaN</td>\n      <td>NaN</td>\n      <td>NaN</td>\n      <td>NaN</td>\n      <td>NaN</td>\n      <td>NaN</td>\n      <td>NaN</td>\n    </tr>\n    <tr>\n      <th>20200930</th>\n      <td>6.92672E+13</td>\n      <td>4.52213E+13</td>\n      <td>5.04991E+13</td>\n      <td>0.652853134</td>\n      <td>0.895487795</td>\n      <td>84,000</td>\n      <td>2.08094E+13</td>\n      <td>7.09673E+12</td>\n      <td>1.29647E+13</td>\n      <td>0.341034621</td>\n      <td>...</td>\n      <td>91700</td>\n      <td>NaN</td>\n      <td>NaN</td>\n      <td>NaN</td>\n      <td>NaN</td>\n      <td>NaN</td>\n      <td>NaN</td>\n      <td>NaN</td>\n      <td>NaN</td>\n      <td>NaN</td>\n    </tr>\n    <tr>\n      <th>20200630</th>\n      <td>6.92593E+13</td>\n      <td>4.41485E+13</td>\n      <td>4.94029E+13</td>\n      <td>0.637438364</td>\n      <td>0.893642973</td>\n      <td>85,100</td>\n      <td>2.054E+13</td>\n      <td>6.8737E+12</td>\n      <td>1.26521E+13</td>\n      <td>0.334649863</td>\n      <td>...</td>\n      <td>63200</td>\n      <td>NaN</td>\n      <td>NaN</td>\n      <td>NaN</td>\n      <td>NaN</td>\n      <td>NaN</td>\n      <td>NaN</td>\n      <td>NaN</td>\n      <td>NaN</td>\n      <td>NaN</td>\n    </tr>\n    <tr>\n      <th>20200331</th>\n      <td>6.71428E+13</td>\n      <td>4.28902E+13</td>\n      <td>4.82477E+13</td>\n      <td>0.638790686</td>\n      <td>0.888957726</td>\n      <td>83,300</td>\n      <td>1.98869E+13</td>\n      <td>6.83032E+12</td>\n      <td>1.24643E+13</td>\n      <td>0.343458021</td>\n      <td>...</td>\n      <td>49400</td>\n      <td>NaN</td>\n      <td>NaN</td>\n      <td>NaN</td>\n      <td>NaN</td>\n      <td>NaN</td>\n      <td>NaN</td>\n      <td>NaN</td>\n      <td>NaN</td>\n      <td>NaN</td>\n    </tr>\n    <tr>\n      <th>20191231</th>\n      <td>6.52484E+13</td>\n      <td>4.29234E+13</td>\n      <td>4.79359E+13</td>\n      <td>0.657845938</td>\n      <td>0.89543282</td>\n      <td>94,100</td>\n      <td>1.98521E+13</td>\n      <td>6.90687E+12</td>\n      <td>1.26603E+13</td>\n      <td>0.347916327</td>\n      <td>...</td>\n      <td>72100</td>\n      <td>NaN</td>\n      <td>NaN</td>\n      <td>NaN</td>\n      <td>NaN</td>\n      <td>NaN</td>\n      <td>NaN</td>\n      <td>NaN</td>\n      <td>NaN</td>\n      <td>NaN</td>\n    </tr>\n    <tr>\n      <th>20190930</th>\n      <td>6.36718E+13</td>\n      <td>4.31226E+13</td>\n      <td>4.82662E+13</td>\n      <td>0.677264867</td>\n      <td>0.893433019</td>\n      <td>82,200</td>\n      <td>1.9737E+13</td>\n      <td>6.95266E+12</td>\n      <td>1.27556E+13</td>\n      <td>0.352265323</td>\n      <td>...</td>\n      <td>67400</td>\n      <td>NaN</td>\n      <td>NaN</td>\n      <td>NaN</td>\n      <td>NaN</td>\n      <td>NaN</td>\n      <td>NaN</td>\n      <td>NaN</td>\n      <td>NaN</td>\n      <td>NaN</td>\n    </tr>\n    <tr>\n      <th>20190630</th>\n      <td>6.30323E+13</td>\n      <td>4.26346E+13</td>\n      <td>4.77108E+13</td>\n      <td>0.676392776</td>\n      <td>0.893604375</td>\n      <td>69,500</td>\n      <td>1.97658E+13</td>\n      <td>6.7443E+12</td>\n      <td>1.25172E+13</td>\n      <td>0.341210671</td>\n      <td>...</td>\n      <td>79300</td>\n      <td>NaN</td>\n      <td>NaN</td>\n      <td>NaN</td>\n      <td>NaN</td>\n      <td>NaN</td>\n      <td>NaN</td>\n      <td>NaN</td>\n      <td>NaN</td>\n      <td>NaN</td>\n    </tr>\n    <tr>\n      <th>20190331</th>\n      <td>6.51315E+13</td>\n      <td>4.21044E+13</td>\n      <td>4.7166E+13</td>\n      <td>0.646452782</td>\n      <td>0.892686125</td>\n      <td>74,200</td>\n      <td>1.95543E+13</td>\n      <td>6.59575E+12</td>\n      <td>1.23095E+13</td>\n      <td>0.337304893</td>\n      <td>...</td>\n      <td>75100</td>\n      <td>NaN</td>\n      <td>NaN</td>\n      <td>NaN</td>\n      <td>NaN</td>\n      <td>NaN</td>\n      <td>NaN</td>\n      <td>NaN</td>\n      <td>NaN</td>\n      <td>NaN</td>\n    </tr>\n    <tr>\n      <th>20181231</th>\n      <td>6.36583E+13</td>\n      <td>4.20336E+13</td>\n      <td>4.68523E+13</td>\n      <td>0.660300038</td>\n      <td>0.897150688</td>\n      <td>60,500</td>\n      <td>1.93497E+13</td>\n      <td>6.61252E+12</td>\n      <td>1.22252E+13</td>\n      <td>0.341737004</td>\n      <td>...</td>\n      <td>62300</td>\n      <td>NaN</td>\n      <td>NaN</td>\n      <td>NaN</td>\n      <td>NaN</td>\n      <td>NaN</td>\n      <td>NaN</td>\n      <td>NaN</td>\n      <td>NaN</td>\n      <td>NaN</td>\n    </tr>\n    <tr>\n      <th>20171231</th>\n      <td>4.54185E+13</td>\n      <td>2.72873E+13</td>\n      <td>3.38209E+13</td>\n      <td>0.600796539</td>\n      <td>0.806815924</td>\n      <td>76,500</td>\n      <td>1.57417E+13</td>\n      <td>5.60059E+12</td>\n      <td>1.1452E+13</td>\n      <td>0.355780208</td>\n      <td>...</td>\n      <td>106000</td>\n      <td>NaN</td>\n      <td>NaN</td>\n      <td>NaN</td>\n      <td>NaN</td>\n      <td>NaN</td>\n      <td>NaN</td>\n      <td>NaN</td>\n      <td>NaN</td>\n      <td>NaN</td>\n    </tr>\n    <tr>\n      <th>20161231</th>\n      <td>3.2216E+13</td>\n      <td>1.70666E+13</td>\n      <td>2.40235E+13</td>\n      <td>0.529754446</td>\n      <td>0.710411126</td>\n      <td>44,700</td>\n      <td>1.49003E+13</td>\n      <td>4.99472E+12</td>\n      <td>1.09641E+13</td>\n      <td>0.335208923</td>\n      <td>...</td>\n      <td>51600</td>\n      <td>NaN</td>\n      <td>NaN</td>\n      <td>NaN</td>\n      <td>NaN</td>\n      <td>NaN</td>\n      <td>NaN</td>\n      <td>NaN</td>\n      <td>NaN</td>\n      <td>NaN</td>\n    </tr>\n  </tbody>\n</table>\n<p>19 rows × 45 columns</p>\n</div>"
     },
     "execution_count": 251,
     "metadata": {},
     "output_type": "execute_result"
    }
   ],
   "source": [
    "df1"
   ],
   "metadata": {
    "collapsed": false,
    "pycharm": {
     "name": "#%%\n"
    }
   }
  },
  {
   "cell_type": "code",
   "execution_count": 254,
   "outputs": [],
   "source": [
    "new_f = pd.DataFrame()\n",
    "for i in range(0, 36, 6):\n",
    "    new_df = df1.iloc[:, i:i+6]\n",
    "    new_f = pd.concat([new_f, new_df], ignore_index=True)"
   ],
   "metadata": {
    "collapsed": false,
    "pycharm": {
     "name": "#%%\n"
    }
   }
  },
  {
   "cell_type": "code",
   "execution_count": 293,
   "outputs": [
    {
     "data": {
      "text/plain": "            자산총계        이익잉여금         자본총계          ROA          ROE       종가\n0    1.03872E+14  5.66853E+13  6.32905E+13  0.545724799   0.89563556   75,000\n1    1.09546E+14  6.02329E+13  6.87232E+13   0.54984224  0.876456863   83,100\n2    1.04148E+14  5.93469E+13  6.67602E+13  0.569834835  0.888957471   91,000\n3    9.94661E+13  5.66927E+13  6.33986E+13  0.569970302  0.894225789  118,000\n4    9.63465E+13  5.57841E+13  6.21911E+13  0.578994084  0.896978919  131,000\n..           ...          ...          ...          ...          ...      ...\n109  4.58673E+13   1.2447E+13   1.7095E+13  0.271370127  0.728107836    79300\n110  4.59367E+13  1.24567E+13  1.69397E+13  0.271170957  0.735356493    75100\n111  4.43284E+13  1.20754E+13  1.63069E+13  0.272407808   0.74050916    62300\n112   4.1221E+13  1.09642E+13  1.46737E+13  0.265984957  0.747198522   106000\n113  3.78553E+13  9.23342E+12  1.33567E+13  0.243913628  0.691292532    51600\n\n[114 rows x 6 columns]",
      "text/html": "<div>\n<style scoped>\n    .dataframe tbody tr th:only-of-type {\n        vertical-align: middle;\n    }\n\n    .dataframe tbody tr th {\n        vertical-align: top;\n    }\n\n    .dataframe thead th {\n        text-align: right;\n    }\n</style>\n<table border=\"1\" class=\"dataframe\">\n  <thead>\n    <tr style=\"text-align: right;\">\n      <th></th>\n      <th>자산총계</th>\n      <th>이익잉여금</th>\n      <th>자본총계</th>\n      <th>ROA</th>\n      <th>ROE</th>\n      <th>종가</th>\n    </tr>\n  </thead>\n  <tbody>\n    <tr>\n      <th>0</th>\n      <td>1.03872E+14</td>\n      <td>5.66853E+13</td>\n      <td>6.32905E+13</td>\n      <td>0.545724799</td>\n      <td>0.89563556</td>\n      <td>75,000</td>\n    </tr>\n    <tr>\n      <th>1</th>\n      <td>1.09546E+14</td>\n      <td>6.02329E+13</td>\n      <td>6.87232E+13</td>\n      <td>0.54984224</td>\n      <td>0.876456863</td>\n      <td>83,100</td>\n    </tr>\n    <tr>\n      <th>2</th>\n      <td>1.04148E+14</td>\n      <td>5.93469E+13</td>\n      <td>6.67602E+13</td>\n      <td>0.569834835</td>\n      <td>0.888957471</td>\n      <td>91,000</td>\n    </tr>\n    <tr>\n      <th>3</th>\n      <td>9.94661E+13</td>\n      <td>5.66927E+13</td>\n      <td>6.33986E+13</td>\n      <td>0.569970302</td>\n      <td>0.894225789</td>\n      <td>118,000</td>\n    </tr>\n    <tr>\n      <th>4</th>\n      <td>9.63465E+13</td>\n      <td>5.57841E+13</td>\n      <td>6.21911E+13</td>\n      <td>0.578994084</td>\n      <td>0.896978919</td>\n      <td>131,000</td>\n    </tr>\n    <tr>\n      <th>...</th>\n      <td>...</td>\n      <td>...</td>\n      <td>...</td>\n      <td>...</td>\n      <td>...</td>\n      <td>...</td>\n    </tr>\n    <tr>\n      <th>109</th>\n      <td>4.58673E+13</td>\n      <td>1.2447E+13</td>\n      <td>1.7095E+13</td>\n      <td>0.271370127</td>\n      <td>0.728107836</td>\n      <td>79300</td>\n    </tr>\n    <tr>\n      <th>110</th>\n      <td>4.59367E+13</td>\n      <td>1.24567E+13</td>\n      <td>1.69397E+13</td>\n      <td>0.271170957</td>\n      <td>0.735356493</td>\n      <td>75100</td>\n    </tr>\n    <tr>\n      <th>111</th>\n      <td>4.43284E+13</td>\n      <td>1.20754E+13</td>\n      <td>1.63069E+13</td>\n      <td>0.272407808</td>\n      <td>0.74050916</td>\n      <td>62300</td>\n    </tr>\n    <tr>\n      <th>112</th>\n      <td>4.1221E+13</td>\n      <td>1.09642E+13</td>\n      <td>1.46737E+13</td>\n      <td>0.265984957</td>\n      <td>0.747198522</td>\n      <td>106000</td>\n    </tr>\n    <tr>\n      <th>113</th>\n      <td>3.78553E+13</td>\n      <td>9.23342E+12</td>\n      <td>1.33567E+13</td>\n      <td>0.243913628</td>\n      <td>0.691292532</td>\n      <td>51600</td>\n    </tr>\n  </tbody>\n</table>\n<p>114 rows × 6 columns</p>\n</div>"
     },
     "execution_count": 293,
     "metadata": {},
     "output_type": "execute_result"
    }
   ],
   "source": [
    "new_f"
   ],
   "metadata": {
    "collapsed": false,
    "pycharm": {
     "name": "#%%\n"
    }
   }
  },
  {
   "cell_type": "code",
   "execution_count": 303,
   "outputs": [],
   "source": [
    "new_f = new_f.replace(',', '')\n",
    "new_f['종가'] = new_f['종가'].str.replace(',', '')\n",
    "new_f['종가'] = new_f['종가'].astype(float)"
   ],
   "metadata": {
    "collapsed": false,
    "pycharm": {
     "name": "#%%\n"
    }
   }
  },
  {
   "cell_type": "code",
   "execution_count": 304,
   "outputs": [
    {
     "data": {
      "text/plain": "            자산총계        이익잉여금         자본총계          ROA          ROE        종가\n0    1.03872E+14  5.66853E+13  6.32905E+13  0.545724799   0.89563556   75000.0\n1    1.09546E+14  6.02329E+13  6.87232E+13   0.54984224  0.876456863   83100.0\n2    1.04148E+14  5.93469E+13  6.67602E+13  0.569834835  0.888957471   91000.0\n3    9.94661E+13  5.66927E+13  6.33986E+13  0.569970302  0.894225789  118000.0\n4    9.63465E+13  5.57841E+13  6.21911E+13  0.578994084  0.896978919  131000.0\n..           ...          ...          ...          ...          ...       ...\n109  4.58673E+13   1.2447E+13   1.7095E+13  0.271370127  0.728107836   79300.0\n110  4.59367E+13  1.24567E+13  1.69397E+13  0.271170957  0.735356493   75100.0\n111  4.43284E+13  1.20754E+13  1.63069E+13  0.272407808   0.74050916   62300.0\n112   4.1221E+13  1.09642E+13  1.46737E+13  0.265984957  0.747198522  106000.0\n113  3.78553E+13  9.23342E+12  1.33567E+13  0.243913628  0.691292532   51600.0\n\n[114 rows x 6 columns]",
      "text/html": "<div>\n<style scoped>\n    .dataframe tbody tr th:only-of-type {\n        vertical-align: middle;\n    }\n\n    .dataframe tbody tr th {\n        vertical-align: top;\n    }\n\n    .dataframe thead th {\n        text-align: right;\n    }\n</style>\n<table border=\"1\" class=\"dataframe\">\n  <thead>\n    <tr style=\"text-align: right;\">\n      <th></th>\n      <th>자산총계</th>\n      <th>이익잉여금</th>\n      <th>자본총계</th>\n      <th>ROA</th>\n      <th>ROE</th>\n      <th>종가</th>\n    </tr>\n  </thead>\n  <tbody>\n    <tr>\n      <th>0</th>\n      <td>1.03872E+14</td>\n      <td>5.66853E+13</td>\n      <td>6.32905E+13</td>\n      <td>0.545724799</td>\n      <td>0.89563556</td>\n      <td>75000.0</td>\n    </tr>\n    <tr>\n      <th>1</th>\n      <td>1.09546E+14</td>\n      <td>6.02329E+13</td>\n      <td>6.87232E+13</td>\n      <td>0.54984224</td>\n      <td>0.876456863</td>\n      <td>83100.0</td>\n    </tr>\n    <tr>\n      <th>2</th>\n      <td>1.04148E+14</td>\n      <td>5.93469E+13</td>\n      <td>6.67602E+13</td>\n      <td>0.569834835</td>\n      <td>0.888957471</td>\n      <td>91000.0</td>\n    </tr>\n    <tr>\n      <th>3</th>\n      <td>9.94661E+13</td>\n      <td>5.66927E+13</td>\n      <td>6.33986E+13</td>\n      <td>0.569970302</td>\n      <td>0.894225789</td>\n      <td>118000.0</td>\n    </tr>\n    <tr>\n      <th>4</th>\n      <td>9.63465E+13</td>\n      <td>5.57841E+13</td>\n      <td>6.21911E+13</td>\n      <td>0.578994084</td>\n      <td>0.896978919</td>\n      <td>131000.0</td>\n    </tr>\n    <tr>\n      <th>...</th>\n      <td>...</td>\n      <td>...</td>\n      <td>...</td>\n      <td>...</td>\n      <td>...</td>\n      <td>...</td>\n    </tr>\n    <tr>\n      <th>109</th>\n      <td>4.58673E+13</td>\n      <td>1.2447E+13</td>\n      <td>1.7095E+13</td>\n      <td>0.271370127</td>\n      <td>0.728107836</td>\n      <td>79300.0</td>\n    </tr>\n    <tr>\n      <th>110</th>\n      <td>4.59367E+13</td>\n      <td>1.24567E+13</td>\n      <td>1.69397E+13</td>\n      <td>0.271170957</td>\n      <td>0.735356493</td>\n      <td>75100.0</td>\n    </tr>\n    <tr>\n      <th>111</th>\n      <td>4.43284E+13</td>\n      <td>1.20754E+13</td>\n      <td>1.63069E+13</td>\n      <td>0.272407808</td>\n      <td>0.74050916</td>\n      <td>62300.0</td>\n    </tr>\n    <tr>\n      <th>112</th>\n      <td>4.1221E+13</td>\n      <td>1.09642E+13</td>\n      <td>1.46737E+13</td>\n      <td>0.265984957</td>\n      <td>0.747198522</td>\n      <td>106000.0</td>\n    </tr>\n    <tr>\n      <th>113</th>\n      <td>3.78553E+13</td>\n      <td>9.23342E+12</td>\n      <td>1.33567E+13</td>\n      <td>0.243913628</td>\n      <td>0.691292532</td>\n      <td>51600.0</td>\n    </tr>\n  </tbody>\n</table>\n<p>114 rows × 6 columns</p>\n</div>"
     },
     "execution_count": 304,
     "metadata": {},
     "output_type": "execute_result"
    }
   ],
   "source": [
    "new_f"
   ],
   "metadata": {
    "collapsed": false,
    "pycharm": {
     "name": "#%%\n"
    }
   }
  },
  {
   "cell_type": "code",
   "execution_count": 305,
   "outputs": [],
   "source": [
    "X = new_f.drop(columns=['종가'])\n",
    "y = new_f['종가']"
   ],
   "metadata": {
    "collapsed": false,
    "pycharm": {
     "name": "#%%\n"
    }
   }
  },
  {
   "cell_type": "code",
   "execution_count": 306,
   "outputs": [],
   "source": [
    "from sklearn.linear_model import LinearRegression\n",
    "from sklearn.model_selection import train_test_split"
   ],
   "metadata": {
    "collapsed": false,
    "pycharm": {
     "name": "#%%\n"
    }
   }
  },
  {
   "cell_type": "code",
   "execution_count": 307,
   "outputs": [],
   "source": [
    "X_train, X_test, y_train, y_test = train_test_split(X, y, test_size=0.2, random_state=42)"
   ],
   "metadata": {
    "collapsed": false,
    "pycharm": {
     "name": "#%%\n"
    }
   }
  },
  {
   "cell_type": "code",
   "execution_count": 308,
   "outputs": [],
   "source": [
    "lr = LinearRegression()"
   ],
   "metadata": {
    "collapsed": false,
    "pycharm": {
     "name": "#%%\n"
    }
   }
  },
  {
   "cell_type": "code",
   "execution_count": 309,
   "outputs": [
    {
     "data": {
      "text/plain": "LinearRegression()",
      "text/html": "<style>#sk-container-id-1 {color: black;background-color: white;}#sk-container-id-1 pre{padding: 0;}#sk-container-id-1 div.sk-toggleable {background-color: white;}#sk-container-id-1 label.sk-toggleable__label {cursor: pointer;display: block;width: 100%;margin-bottom: 0;padding: 0.3em;box-sizing: border-box;text-align: center;}#sk-container-id-1 label.sk-toggleable__label-arrow:before {content: \"▸\";float: left;margin-right: 0.25em;color: #696969;}#sk-container-id-1 label.sk-toggleable__label-arrow:hover:before {color: black;}#sk-container-id-1 div.sk-estimator:hover label.sk-toggleable__label-arrow:before {color: black;}#sk-container-id-1 div.sk-toggleable__content {max-height: 0;max-width: 0;overflow: hidden;text-align: left;background-color: #f0f8ff;}#sk-container-id-1 div.sk-toggleable__content pre {margin: 0.2em;color: black;border-radius: 0.25em;background-color: #f0f8ff;}#sk-container-id-1 input.sk-toggleable__control:checked~div.sk-toggleable__content {max-height: 200px;max-width: 100%;overflow: auto;}#sk-container-id-1 input.sk-toggleable__control:checked~label.sk-toggleable__label-arrow:before {content: \"▾\";}#sk-container-id-1 div.sk-estimator input.sk-toggleable__control:checked~label.sk-toggleable__label {background-color: #d4ebff;}#sk-container-id-1 div.sk-label input.sk-toggleable__control:checked~label.sk-toggleable__label {background-color: #d4ebff;}#sk-container-id-1 input.sk-hidden--visually {border: 0;clip: rect(1px 1px 1px 1px);clip: rect(1px, 1px, 1px, 1px);height: 1px;margin: -1px;overflow: hidden;padding: 0;position: absolute;width: 1px;}#sk-container-id-1 div.sk-estimator {font-family: monospace;background-color: #f0f8ff;border: 1px dotted black;border-radius: 0.25em;box-sizing: border-box;margin-bottom: 0.5em;}#sk-container-id-1 div.sk-estimator:hover {background-color: #d4ebff;}#sk-container-id-1 div.sk-parallel-item::after {content: \"\";width: 100%;border-bottom: 1px solid gray;flex-grow: 1;}#sk-container-id-1 div.sk-label:hover label.sk-toggleable__label {background-color: #d4ebff;}#sk-container-id-1 div.sk-serial::before {content: \"\";position: absolute;border-left: 1px solid gray;box-sizing: border-box;top: 0;bottom: 0;left: 50%;z-index: 0;}#sk-container-id-1 div.sk-serial {display: flex;flex-direction: column;align-items: center;background-color: white;padding-right: 0.2em;padding-left: 0.2em;position: relative;}#sk-container-id-1 div.sk-item {position: relative;z-index: 1;}#sk-container-id-1 div.sk-parallel {display: flex;align-items: stretch;justify-content: center;background-color: white;position: relative;}#sk-container-id-1 div.sk-item::before, #sk-container-id-1 div.sk-parallel-item::before {content: \"\";position: absolute;border-left: 1px solid gray;box-sizing: border-box;top: 0;bottom: 0;left: 50%;z-index: -1;}#sk-container-id-1 div.sk-parallel-item {display: flex;flex-direction: column;z-index: 1;position: relative;background-color: white;}#sk-container-id-1 div.sk-parallel-item:first-child::after {align-self: flex-end;width: 50%;}#sk-container-id-1 div.sk-parallel-item:last-child::after {align-self: flex-start;width: 50%;}#sk-container-id-1 div.sk-parallel-item:only-child::after {width: 0;}#sk-container-id-1 div.sk-dashed-wrapped {border: 1px dashed gray;margin: 0 0.4em 0.5em 0.4em;box-sizing: border-box;padding-bottom: 0.4em;background-color: white;}#sk-container-id-1 div.sk-label label {font-family: monospace;font-weight: bold;display: inline-block;line-height: 1.2em;}#sk-container-id-1 div.sk-label-container {text-align: center;}#sk-container-id-1 div.sk-container {/* jupyter's `normalize.less` sets `[hidden] { display: none; }` but bootstrap.min.css set `[hidden] { display: none !important; }` so we also need the `!important` here to be able to override the default hidden behavior on the sphinx rendered scikit-learn.org. See: https://github.com/scikit-learn/scikit-learn/issues/21755 */display: inline-block !important;position: relative;}#sk-container-id-1 div.sk-text-repr-fallback {display: none;}</style><div id=\"sk-container-id-1\" class=\"sk-top-container\"><div class=\"sk-text-repr-fallback\"><pre>LinearRegression()</pre><b>In a Jupyter environment, please rerun this cell to show the HTML representation or trust the notebook. <br />On GitHub, the HTML representation is unable to render, please try loading this page with nbviewer.org.</b></div><div class=\"sk-container\" hidden><div class=\"sk-item\"><div class=\"sk-estimator sk-toggleable\"><input class=\"sk-toggleable__control sk-hidden--visually\" id=\"sk-estimator-id-1\" type=\"checkbox\" checked><label for=\"sk-estimator-id-1\" class=\"sk-toggleable__label sk-toggleable__label-arrow\">LinearRegression</label><div class=\"sk-toggleable__content\"><pre>LinearRegression()</pre></div></div></div></div></div>"
     },
     "execution_count": 309,
     "metadata": {},
     "output_type": "execute_result"
    }
   ],
   "source": [
    "# Fit a linear regression model to the training data\n",
    "lr = LinearRegression()\n",
    "lr.fit(X_train, y_train)"
   ],
   "metadata": {
    "collapsed": false,
    "pycharm": {
     "name": "#%%\n"
    }
   }
  },
  {
   "cell_type": "code",
   "execution_count": 310,
   "outputs": [
    {
     "name": "stdout",
     "output_type": "stream",
     "text": [
      "80     156500.0\n",
      "4      131000.0\n",
      "40      14550.0\n",
      "69      55800.0\n",
      "10      85100.0\n",
      "45      22750.0\n",
      "70      49050.0\n",
      "66      58200.0\n",
      "47      15350.0\n",
      "11      83300.0\n",
      "98     120500.0\n",
      "36     204500.0\n",
      "83     193500.0\n",
      "112    106000.0\n",
      "18      44700.0\n",
      "0       75000.0\n",
      "72      44650.0\n",
      "26     660000.0\n",
      "81     160500.0\n",
      "53      19500.0\n",
      "103    135000.0\n",
      "91     235000.0\n",
      "12      94100.0\n",
      "Name: 종가, dtype: float64\n",
      "[160013.72671371  21997.41409953 112869.7010155  104728.96016092\n",
      "  89989.26295893  70738.9091003  113506.20006226  61974.65518778\n",
      "  81321.69947908  96514.40106336  90712.70950702 396275.92058285\n",
      " 156885.04387894 122828.56185946 235514.19624394 -20559.24930393\n",
      "  54923.65847987 346295.07669549 160845.46785751 110508.0931477\n",
      "  73375.56059214 186670.68486525  99736.7210886 ]\n"
     ]
    }
   ],
   "source": [
    "y_test_hat = lr.predict(X_test)\n",
    "print(y_test)\n",
    "print(y_test_hat)"
   ],
   "metadata": {
    "collapsed": false,
    "pycharm": {
     "name": "#%%\n"
    }
   }
  },
  {
   "cell_type": "code",
   "execution_count": 311,
   "outputs": [
    {
     "name": "stdout",
     "output_type": "stream",
     "text": [
      "performance for TEST--------\n",
      "test MAE :  67494.0388985793\n",
      "test RMSE :  100600.81424692126\n",
      "test R_square :  0.40633564747071127\n"
     ]
    }
   ],
   "source": [
    "from sklearn.metrics import mean_absolute_error, mean_squared_error, r2_score\n",
    "\n",
    "print('performance for TEST--------')\n",
    "print('test MAE : ', mean_absolute_error(y_test, y_test_hat))\n",
    "print('test RMSE : ', mean_squared_error(y_test, y_test_hat)**0.5)\n",
    "print('test R_square : ', r2_score(y_test, y_test_hat))"
   ],
   "metadata": {
    "collapsed": false,
    "pycharm": {
     "name": "#%%\n"
    }
   }
  },
  {
   "cell_type": "code",
   "execution_count": 317,
   "outputs": [
    {
     "name": "stderr",
     "output_type": "stream",
     "text": [
      "C:\\Users\\msi\\anaconda3\\lib\\site-packages\\sklearn\\linear_model\\_ridge.py:212: LinAlgWarning: Ill-conditioned matrix (rcond=2.52406e-32): result may not be accurate.\n",
      "  return linalg.solve(A, Xy, assume_a=\"pos\", overwrite_a=True).T\n",
      "C:\\Users\\msi\\anaconda3\\lib\\site-packages\\sklearn\\linear_model\\_ridge.py:212: LinAlgWarning: Ill-conditioned matrix (rcond=5.03194e-32): result may not be accurate.\n",
      "  return linalg.solve(A, Xy, assume_a=\"pos\", overwrite_a=True).T\n",
      "C:\\Users\\msi\\anaconda3\\lib\\site-packages\\sklearn\\linear_model\\_ridge.py:212: LinAlgWarning: Ill-conditioned matrix (rcond=2.77875e-31): result may not be accurate.\n",
      "  return linalg.solve(A, Xy, assume_a=\"pos\", overwrite_a=True).T\n",
      "C:\\Users\\msi\\anaconda3\\lib\\site-packages\\sklearn\\linear_model\\_ridge.py:212: LinAlgWarning: Ill-conditioned matrix (rcond=2.57376e-30): result may not be accurate.\n",
      "  return linalg.solve(A, Xy, assume_a=\"pos\", overwrite_a=True).T\n"
     ]
    }
   ],
   "source": [
    "from sklearn.linear_model import Ridge\n",
    "training_r2 = []\n",
    "test_r2 = []\n",
    "\n",
    "alpha_settings = [0, 0.1, 1, 10]\n",
    "for alpha in alpha_settings:\n",
    "    ridge = Ridge(alpha=alpha)\n",
    "    ridge.fit(X_train, y_train)\n",
    "\n",
    "    y_train_hat = ridge.predict(X_train)\n",
    "    training_r2.append(r2_score(y_train, y_train_hat))\n",
    "\n",
    "    y_test_hat = ridge.predict(X_test)\n",
    "    test_r2.append(r2_score(y_test, y_test_hat))"
   ],
   "metadata": {
    "collapsed": false,
    "pycharm": {
     "name": "#%%\n"
    }
   }
  },
  {
   "cell_type": "code",
   "execution_count": 318,
   "outputs": [
    {
     "data": {
      "text/plain": "   alpha  training R2   test R2\n0    0.0     0.542692  0.339897\n1    0.1     0.519186  0.399508\n2    1.0     0.432261  0.386610\n3   10.0     0.314494  0.250616",
      "text/html": "<div>\n<style scoped>\n    .dataframe tbody tr th:only-of-type {\n        vertical-align: middle;\n    }\n\n    .dataframe tbody tr th {\n        vertical-align: top;\n    }\n\n    .dataframe thead th {\n        text-align: right;\n    }\n</style>\n<table border=\"1\" class=\"dataframe\">\n  <thead>\n    <tr style=\"text-align: right;\">\n      <th></th>\n      <th>alpha</th>\n      <th>training R2</th>\n      <th>test R2</th>\n    </tr>\n  </thead>\n  <tbody>\n    <tr>\n      <th>0</th>\n      <td>0.0</td>\n      <td>0.542692</td>\n      <td>0.339897</td>\n    </tr>\n    <tr>\n      <th>1</th>\n      <td>0.1</td>\n      <td>0.519186</td>\n      <td>0.399508</td>\n    </tr>\n    <tr>\n      <th>2</th>\n      <td>1.0</td>\n      <td>0.432261</td>\n      <td>0.386610</td>\n    </tr>\n    <tr>\n      <th>3</th>\n      <td>10.0</td>\n      <td>0.314494</td>\n      <td>0.250616</td>\n    </tr>\n  </tbody>\n</table>\n</div>"
     },
     "execution_count": 318,
     "metadata": {},
     "output_type": "execute_result"
    }
   ],
   "source": [
    "pd.DataFrame({\"alpha\":alpha_settings, \"training R2\": training_r2, \"test R2\": test_r2})"
   ],
   "metadata": {
    "collapsed": false,
    "pycharm": {
     "name": "#%%\n"
    }
   }
  },
  {
   "cell_type": "code",
   "execution_count": 314,
   "outputs": [
    {
     "name": "stderr",
     "output_type": "stream",
     "text": [
      "C:\\Users\\msi\\anaconda3\\lib\\site-packages\\sklearn\\linear_model\\_coordinate_descent.py:648: ConvergenceWarning: Objective did not converge. You might want to increase the number of iterations, check the scale of the features or consider increasing regularisation. Duality gap: 5.703e+11, tolerance: 2.494e+08\n",
      "  model = cd_fast.enet_coordinate_descent(\n",
      "C:\\Users\\msi\\anaconda3\\lib\\site-packages\\sklearn\\linear_model\\_coordinate_descent.py:648: ConvergenceWarning: Objective did not converge. You might want to increase the number of iterations, check the scale of the features or consider increasing regularisation. Duality gap: 5.703e+11, tolerance: 2.494e+08\n",
      "  model = cd_fast.enet_coordinate_descent(\n",
      "C:\\Users\\msi\\anaconda3\\lib\\site-packages\\sklearn\\linear_model\\_coordinate_descent.py:648: ConvergenceWarning: Objective did not converge. You might want to increase the number of iterations, check the scale of the features or consider increasing regularisation. Duality gap: 5.703e+11, tolerance: 2.494e+08\n",
      "  model = cd_fast.enet_coordinate_descent(\n",
      "C:\\Users\\msi\\anaconda3\\lib\\site-packages\\sklearn\\linear_model\\_coordinate_descent.py:648: ConvergenceWarning: Objective did not converge. You might want to increase the number of iterations, check the scale of the features or consider increasing regularisation. Duality gap: 5.703e+11, tolerance: 2.494e+08\n",
      "  model = cd_fast.enet_coordinate_descent(\n",
      "C:\\Users\\msi\\anaconda3\\lib\\site-packages\\sklearn\\linear_model\\_coordinate_descent.py:648: ConvergenceWarning: Objective did not converge. You might want to increase the number of iterations, check the scale of the features or consider increasing regularisation. Duality gap: 5.704e+11, tolerance: 2.494e+08\n",
      "  model = cd_fast.enet_coordinate_descent(\n"
     ]
    }
   ],
   "source": [
    "from sklearn.linear_model import Lasso\n",
    "\n",
    "training_r2 = []\n",
    "test_r2 = []\n",
    "num_vars_used = []\n",
    "\n",
    "alpha_settings = [0.0001, 0.001, 0.01, 0.1, 1]\n",
    "for alpha in alpha_settings:\n",
    "    lasso = Lasso(alpha=alpha)\n",
    "    lasso.fit(X_train, y_train)\n",
    "\n",
    "    num_vars_used.append(sum(lasso.coef_ != 0))\n",
    "\n",
    "    y_train_hat = lasso.predict(X_train)\n",
    "    training_r2.append(r2_score(y_train, y_train_hat))\n",
    "\n",
    "    y_test_hat = lasso.predict(X_test)\n",
    "    test_r2.append(r2_score(y_test, y_test_hat))"
   ],
   "metadata": {
    "collapsed": false,
    "pycharm": {
     "name": "#%%\n"
    }
   }
  },
  {
   "cell_type": "code",
   "execution_count": 315,
   "outputs": [
    {
     "data": {
      "text/plain": "    alpha  training R2   test R2  variables used\n0  0.0001     0.542672  0.339387               5\n1  0.0010     0.542672  0.339387               5\n2  0.0100     0.542672  0.339388               5\n3  0.1000     0.542673  0.339399               5\n4  1.0000     0.542673  0.339510               5",
      "text/html": "<div>\n<style scoped>\n    .dataframe tbody tr th:only-of-type {\n        vertical-align: middle;\n    }\n\n    .dataframe tbody tr th {\n        vertical-align: top;\n    }\n\n    .dataframe thead th {\n        text-align: right;\n    }\n</style>\n<table border=\"1\" class=\"dataframe\">\n  <thead>\n    <tr style=\"text-align: right;\">\n      <th></th>\n      <th>alpha</th>\n      <th>training R2</th>\n      <th>test R2</th>\n      <th>variables used</th>\n    </tr>\n  </thead>\n  <tbody>\n    <tr>\n      <th>0</th>\n      <td>0.0001</td>\n      <td>0.542672</td>\n      <td>0.339387</td>\n      <td>5</td>\n    </tr>\n    <tr>\n      <th>1</th>\n      <td>0.0010</td>\n      <td>0.542672</td>\n      <td>0.339387</td>\n      <td>5</td>\n    </tr>\n    <tr>\n      <th>2</th>\n      <td>0.0100</td>\n      <td>0.542672</td>\n      <td>0.339388</td>\n      <td>5</td>\n    </tr>\n    <tr>\n      <th>3</th>\n      <td>0.1000</td>\n      <td>0.542673</td>\n      <td>0.339399</td>\n      <td>5</td>\n    </tr>\n    <tr>\n      <th>4</th>\n      <td>1.0000</td>\n      <td>0.542673</td>\n      <td>0.339510</td>\n      <td>5</td>\n    </tr>\n  </tbody>\n</table>\n</div>"
     },
     "execution_count": 315,
     "metadata": {},
     "output_type": "execute_result"
    }
   ],
   "source": [
    "pd.DataFrame({\"alpha\":alpha_settings, \"training R2\": training_r2, \"test R2\": test_r2, \"variables used\": num_vars_used})"
   ],
   "metadata": {
    "collapsed": false,
    "pycharm": {
     "name": "#%%\n"
    }
   }
  }
 ],
 "metadata": {
  "kernelspec": {
   "display_name": "Python 3",
   "language": "python",
   "name": "python3"
  },
  "language_info": {
   "codemirror_mode": {
    "name": "ipython",
    "version": 2
   },
   "file_extension": ".py",
   "mimetype": "text/x-python",
   "name": "python",
   "nbconvert_exporter": "python",
   "pygments_lexer": "ipython2",
   "version": "2.7.6"
  }
 },
 "nbformat": 4,
 "nbformat_minor": 0
}