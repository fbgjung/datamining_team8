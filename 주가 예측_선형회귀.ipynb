{
 "cells": [
  {
   "cell_type": "code",
   "execution_count": 2,
   "metadata": {
    "collapsed": true
   },
   "outputs": [],
   "source": [
    "import pandas as pd\n",
    "import numpy as np\n",
    "import matplotlib.pyplot as plt\n",
    "import requests\n",
    "from bs4 import BeautifulSoup as bs"
   ]
  },
  {
   "cell_type": "markdown",
   "source": [
    "<h1> 각 회사 일자별 주가 획득"
   ],
   "metadata": {
    "collapsed": false
   }
  },
  {
   "cell_type": "code",
   "execution_count": 3,
   "outputs": [],
   "source": [
    "# 크롤링을 위한 headers\n",
    "headers = {'user-agent': 'Mozilla/5.0 (Macintosh; Intel Mac OS X 10_15_7) AppleWebKit/537.36 (KHTML, like Gecko) Chrome/88.0.4324.96 Safari/537.36'}"
   ],
   "metadata": {
    "collapsed": false,
    "pycharm": {
     "name": "#%%\n"
    }
   }
  },
  {
   "cell_type": "code",
   "execution_count": 4,
   "outputs": [
    {
     "name": "stdout",
     "output_type": "stream",
     "text": [
      "https://finance.naver.com/item/sise_day.nhn?code=034220&page=10\n",
      "https://finance.naver.com/item/sise_day.nhn?code=034220&page=11\n",
      "https://finance.naver.com/item/sise_day.nhn?code=034220&page=12\n",
      "https://finance.naver.com/item/sise_day.nhn?code=034220&page=13\n",
      "https://finance.naver.com/item/sise_day.nhn?code=034220&page=14\n",
      "https://finance.naver.com/item/sise_day.nhn?code=034220&page=15\n",
      "https://finance.naver.com/item/sise_day.nhn?code=034220&page=16\n",
      "https://finance.naver.com/item/sise_day.nhn?code=034220&page=17\n",
      "https://finance.naver.com/item/sise_day.nhn?code=034220&page=18\n",
      "https://finance.naver.com/item/sise_day.nhn?code=034220&page=19\n",
      "https://finance.naver.com/item/sise_day.nhn?code=034220&page=20\n",
      "https://finance.naver.com/item/sise_day.nhn?code=034220&page=21\n",
      "https://finance.naver.com/item/sise_day.nhn?code=034220&page=22\n",
      "https://finance.naver.com/item/sise_day.nhn?code=034220&page=23\n",
      "https://finance.naver.com/item/sise_day.nhn?code=034220&page=24\n",
      "https://finance.naver.com/item/sise_day.nhn?code=034220&page=25\n",
      "https://finance.naver.com/item/sise_day.nhn?code=034220&page=26\n",
      "https://finance.naver.com/item/sise_day.nhn?code=034220&page=27\n",
      "https://finance.naver.com/item/sise_day.nhn?code=034220&page=28\n",
      "https://finance.naver.com/item/sise_day.nhn?code=034220&page=29\n",
      "https://finance.naver.com/item/sise_day.nhn?code=034220&page=30\n",
      "https://finance.naver.com/item/sise_day.nhn?code=034220&page=31\n",
      "https://finance.naver.com/item/sise_day.nhn?code=034220&page=32\n",
      "https://finance.naver.com/item/sise_day.nhn?code=034220&page=33\n",
      "https://finance.naver.com/item/sise_day.nhn?code=034220&page=34\n",
      "https://finance.naver.com/item/sise_day.nhn?code=034220&page=35\n",
      "https://finance.naver.com/item/sise_day.nhn?code=034220&page=36\n",
      "https://finance.naver.com/item/sise_day.nhn?code=034220&page=37\n",
      "https://finance.naver.com/item/sise_day.nhn?code=034220&page=38\n",
      "https://finance.naver.com/item/sise_day.nhn?code=034220&page=39\n",
      "https://finance.naver.com/item/sise_day.nhn?code=034220&page=40\n",
      "https://finance.naver.com/item/sise_day.nhn?code=034220&page=41\n",
      "https://finance.naver.com/item/sise_day.nhn?code=034220&page=42\n",
      "https://finance.naver.com/item/sise_day.nhn?code=034220&page=43\n",
      "https://finance.naver.com/item/sise_day.nhn?code=034220&page=44\n",
      "https://finance.naver.com/item/sise_day.nhn?code=034220&page=45\n",
      "https://finance.naver.com/item/sise_day.nhn?code=034220&page=46\n",
      "https://finance.naver.com/item/sise_day.nhn?code=034220&page=47\n",
      "https://finance.naver.com/item/sise_day.nhn?code=034220&page=48\n",
      "https://finance.naver.com/item/sise_day.nhn?code=034220&page=49\n",
      "https://finance.naver.com/item/sise_day.nhn?code=034220&page=50\n",
      "https://finance.naver.com/item/sise_day.nhn?code=034220&page=51\n",
      "https://finance.naver.com/item/sise_day.nhn?code=034220&page=52\n",
      "https://finance.naver.com/item/sise_day.nhn?code=034220&page=53\n",
      "https://finance.naver.com/item/sise_day.nhn?code=034220&page=54\n",
      "https://finance.naver.com/item/sise_day.nhn?code=034220&page=55\n",
      "https://finance.naver.com/item/sise_day.nhn?code=034220&page=56\n",
      "https://finance.naver.com/item/sise_day.nhn?code=034220&page=57\n",
      "https://finance.naver.com/item/sise_day.nhn?code=034220&page=58\n",
      "https://finance.naver.com/item/sise_day.nhn?code=034220&page=59\n",
      "https://finance.naver.com/item/sise_day.nhn?code=034220&page=60\n",
      "https://finance.naver.com/item/sise_day.nhn?code=034220&page=61\n",
      "https://finance.naver.com/item/sise_day.nhn?code=034220&page=62\n",
      "https://finance.naver.com/item/sise_day.nhn?code=034220&page=63\n",
      "https://finance.naver.com/item/sise_day.nhn?code=034220&page=64\n",
      "https://finance.naver.com/item/sise_day.nhn?code=034220&page=65\n",
      "https://finance.naver.com/item/sise_day.nhn?code=034220&page=66\n",
      "https://finance.naver.com/item/sise_day.nhn?code=034220&page=67\n",
      "https://finance.naver.com/item/sise_day.nhn?code=034220&page=68\n",
      "https://finance.naver.com/item/sise_day.nhn?code=034220&page=69\n",
      "https://finance.naver.com/item/sise_day.nhn?code=034220&page=70\n",
      "https://finance.naver.com/item/sise_day.nhn?code=034220&page=71\n",
      "https://finance.naver.com/item/sise_day.nhn?code=034220&page=72\n",
      "https://finance.naver.com/item/sise_day.nhn?code=034220&page=73\n",
      "https://finance.naver.com/item/sise_day.nhn?code=034220&page=74\n",
      "https://finance.naver.com/item/sise_day.nhn?code=034220&page=75\n",
      "https://finance.naver.com/item/sise_day.nhn?code=034220&page=76\n",
      "https://finance.naver.com/item/sise_day.nhn?code=034220&page=77\n",
      "https://finance.naver.com/item/sise_day.nhn?code=034220&page=78\n",
      "https://finance.naver.com/item/sise_day.nhn?code=034220&page=79\n",
      "https://finance.naver.com/item/sise_day.nhn?code=034220&page=80\n",
      "https://finance.naver.com/item/sise_day.nhn?code=034220&page=81\n",
      "https://finance.naver.com/item/sise_day.nhn?code=034220&page=82\n",
      "https://finance.naver.com/item/sise_day.nhn?code=034220&page=83\n",
      "https://finance.naver.com/item/sise_day.nhn?code=034220&page=84\n",
      "https://finance.naver.com/item/sise_day.nhn?code=034220&page=85\n",
      "https://finance.naver.com/item/sise_day.nhn?code=034220&page=86\n",
      "https://finance.naver.com/item/sise_day.nhn?code=034220&page=87\n",
      "https://finance.naver.com/item/sise_day.nhn?code=034220&page=88\n",
      "https://finance.naver.com/item/sise_day.nhn?code=034220&page=89\n",
      "https://finance.naver.com/item/sise_day.nhn?code=034220&page=90\n",
      "https://finance.naver.com/item/sise_day.nhn?code=034220&page=91\n",
      "https://finance.naver.com/item/sise_day.nhn?code=034220&page=92\n",
      "https://finance.naver.com/item/sise_day.nhn?code=034220&page=93\n",
      "https://finance.naver.com/item/sise_day.nhn?code=034220&page=94\n",
      "https://finance.naver.com/item/sise_day.nhn?code=034220&page=95\n",
      "https://finance.naver.com/item/sise_day.nhn?code=034220&page=96\n",
      "https://finance.naver.com/item/sise_day.nhn?code=034220&page=97\n",
      "https://finance.naver.com/item/sise_day.nhn?code=034220&page=98\n",
      "https://finance.naver.com/item/sise_day.nhn?code=034220&page=99\n",
      "https://finance.naver.com/item/sise_day.nhn?code=034220&page=100\n",
      "https://finance.naver.com/item/sise_day.nhn?code=034220&page=101\n",
      "https://finance.naver.com/item/sise_day.nhn?code=034220&page=102\n",
      "https://finance.naver.com/item/sise_day.nhn?code=034220&page=103\n",
      "https://finance.naver.com/item/sise_day.nhn?code=034220&page=104\n",
      "https://finance.naver.com/item/sise_day.nhn?code=034220&page=105\n",
      "https://finance.naver.com/item/sise_day.nhn?code=034220&page=106\n",
      "https://finance.naver.com/item/sise_day.nhn?code=034220&page=107\n",
      "https://finance.naver.com/item/sise_day.nhn?code=034220&page=108\n",
      "https://finance.naver.com/item/sise_day.nhn?code=034220&page=109\n",
      "https://finance.naver.com/item/sise_day.nhn?code=034220&page=110\n",
      "https://finance.naver.com/item/sise_day.nhn?code=034220&page=111\n",
      "https://finance.naver.com/item/sise_day.nhn?code=034220&page=112\n",
      "https://finance.naver.com/item/sise_day.nhn?code=034220&page=113\n",
      "https://finance.naver.com/item/sise_day.nhn?code=034220&page=114\n",
      "https://finance.naver.com/item/sise_day.nhn?code=034220&page=115\n",
      "https://finance.naver.com/item/sise_day.nhn?code=034220&page=116\n",
      "https://finance.naver.com/item/sise_day.nhn?code=034220&page=117\n",
      "https://finance.naver.com/item/sise_day.nhn?code=034220&page=118\n",
      "https://finance.naver.com/item/sise_day.nhn?code=034220&page=119\n",
      "https://finance.naver.com/item/sise_day.nhn?code=034220&page=120\n",
      "https://finance.naver.com/item/sise_day.nhn?code=034220&page=121\n",
      "https://finance.naver.com/item/sise_day.nhn?code=034220&page=122\n",
      "https://finance.naver.com/item/sise_day.nhn?code=034220&page=123\n",
      "https://finance.naver.com/item/sise_day.nhn?code=034220&page=124\n",
      "https://finance.naver.com/item/sise_day.nhn?code=034220&page=125\n",
      "https://finance.naver.com/item/sise_day.nhn?code=034220&page=126\n",
      "https://finance.naver.com/item/sise_day.nhn?code=034220&page=127\n",
      "https://finance.naver.com/item/sise_day.nhn?code=034220&page=128\n",
      "https://finance.naver.com/item/sise_day.nhn?code=034220&page=129\n",
      "https://finance.naver.com/item/sise_day.nhn?code=034220&page=130\n",
      "https://finance.naver.com/item/sise_day.nhn?code=034220&page=131\n",
      "https://finance.naver.com/item/sise_day.nhn?code=034220&page=132\n",
      "https://finance.naver.com/item/sise_day.nhn?code=034220&page=133\n",
      "https://finance.naver.com/item/sise_day.nhn?code=034220&page=134\n",
      "https://finance.naver.com/item/sise_day.nhn?code=034220&page=135\n",
      "https://finance.naver.com/item/sise_day.nhn?code=034220&page=136\n",
      "https://finance.naver.com/item/sise_day.nhn?code=034220&page=137\n",
      "https://finance.naver.com/item/sise_day.nhn?code=034220&page=138\n",
      "https://finance.naver.com/item/sise_day.nhn?code=034220&page=139\n",
      "https://finance.naver.com/item/sise_day.nhn?code=034220&page=140\n",
      "https://finance.naver.com/item/sise_day.nhn?code=034220&page=141\n",
      "https://finance.naver.com/item/sise_day.nhn?code=034220&page=142\n",
      "https://finance.naver.com/item/sise_day.nhn?code=034220&page=143\n",
      "https://finance.naver.com/item/sise_day.nhn?code=034220&page=144\n",
      "https://finance.naver.com/item/sise_day.nhn?code=034220&page=145\n",
      "https://finance.naver.com/item/sise_day.nhn?code=034220&page=146\n",
      "https://finance.naver.com/item/sise_day.nhn?code=034220&page=147\n",
      "https://finance.naver.com/item/sise_day.nhn?code=034220&page=148\n",
      "https://finance.naver.com/item/sise_day.nhn?code=034220&page=149\n",
      "https://finance.naver.com/item/sise_day.nhn?code=034220&page=150\n",
      "https://finance.naver.com/item/sise_day.nhn?code=034220&page=151\n",
      "https://finance.naver.com/item/sise_day.nhn?code=034220&page=152\n",
      "https://finance.naver.com/item/sise_day.nhn?code=034220&page=153\n",
      "https://finance.naver.com/item/sise_day.nhn?code=034220&page=154\n",
      "https://finance.naver.com/item/sise_day.nhn?code=034220&page=155\n",
      "https://finance.naver.com/item/sise_day.nhn?code=034220&page=156\n",
      "https://finance.naver.com/item/sise_day.nhn?code=034220&page=157\n",
      "https://finance.naver.com/item/sise_day.nhn?code=034220&page=158\n"
     ]
    }
   ],
   "source": [
    "# lg디스플레이 데이터프레임 생성\n",
    "lgdis = pd.DataFrame()\n",
    "# 네이버 금융 url 불러오기\n",
    "sise_url = 'https://finance.naver.com/item/sise_day.nhn?code=034220'\n",
    "# 10페이지부터 159페이지까지 크롤링을 진행\n",
    "for page in range(10, 159):\n",
    "    page_url = '{}&page={}'.format(sise_url, page)\n",
    "    print(page_url)\n",
    "\n",
    "    response = requests.get(page_url, headers=headers)\n",
    "    html = bs(response.text, 'html.parser')\n",
    "    html_table = html.select(\"table\")\n",
    "    table = pd.read_html(str(html_table))\n",
    "\n",
    "    # 현재 얻은 데이터프레임을 기존 데이터프레임에 누적.\n",
    "    lgdis = lgdis.append(table[0].dropna())"
   ],
   "metadata": {
    "collapsed": false,
    "pycharm": {
     "name": "#%%\n"
    }
   }
  },
  {
   "cell_type": "code",
   "execution_count": 5,
   "outputs": [],
   "source": [
    "# 데이터 프레임 index가 크롤링 페이지에서 넘어온 그대로 삽입되어 reset 진행\n",
    "lgdis = lgdis.reset_index(drop=True)"
   ],
   "metadata": {
    "collapsed": false,
    "pycharm": {
     "name": "#%%\n"
    }
   }
  },
  {
   "cell_type": "code",
   "execution_count": 6,
   "outputs": [
    {
     "name": "stderr",
     "output_type": "stream",
     "text": [
      "C:\\Users\\msi\\AppData\\Local\\Temp/ipykernel_29564/1531236787.py:3: SettingWithCopyWarning: \n",
      "A value is trying to be set on a copy of a slice from a DataFrame\n",
      "\n",
      "See the caveats in the documentation: https://pandas.pydata.org/pandas-docs/stable/user_guide/indexing.html#returning-a-view-versus-a-copy\n",
      "  lgdis.날짜[i] = lgdis.날짜[i].replace('.', '')\n"
     ]
    }
   ],
   "source": [
    "# 날짜 스타일 통일을 위해 xxxx.xx.xx에서 xxxxxxxx로 변경\n",
    "for i in range(len(lgdis['날짜'])):\n",
    "    lgdis.날짜[i] = lgdis.날짜[i].replace('.', '')"
   ],
   "metadata": {
    "collapsed": false,
    "pycharm": {
     "name": "#%%\n"
    }
   }
  },
  {
   "cell_type": "code",
   "execution_count": 7,
   "outputs": [
    {
     "data": {
      "text/plain": "            날짜       종가    전일비       시가       고가       저가        거래량\n0     20230106  13250.0  250.0  12900.0  13500.0  12850.0  1120308.0\n1     20230105  13000.0    0.0  13000.0  13150.0  12900.0  1003176.0\n2     20230104  13000.0  400.0  12550.0  13250.0  12500.0  1483621.0\n3     20230103  12600.0  100.0  12450.0  12700.0  12100.0  1351273.0\n4     20230102  12500.0   50.0  12500.0  12550.0  12350.0   623019.0\n...        ...      ...    ...      ...      ...      ...        ...\n1485  20161222  31400.0  100.0  31900.0  32400.0  31350.0  1740187.0\n1486  20161221  31500.0  950.0  30750.0  31900.0  30700.0  1753323.0\n1487  20161220  30550.0   50.0  30550.0  30700.0  30250.0   721049.0\n1488  20161219  30500.0  400.0  31200.0  31250.0  30350.0   968437.0\n1489  20161216  30900.0   50.0  30800.0  31600.0  30650.0  1471576.0\n\n[1490 rows x 7 columns]",
      "text/html": "<div>\n<style scoped>\n    .dataframe tbody tr th:only-of-type {\n        vertical-align: middle;\n    }\n\n    .dataframe tbody tr th {\n        vertical-align: top;\n    }\n\n    .dataframe thead th {\n        text-align: right;\n    }\n</style>\n<table border=\"1\" class=\"dataframe\">\n  <thead>\n    <tr style=\"text-align: right;\">\n      <th></th>\n      <th>날짜</th>\n      <th>종가</th>\n      <th>전일비</th>\n      <th>시가</th>\n      <th>고가</th>\n      <th>저가</th>\n      <th>거래량</th>\n    </tr>\n  </thead>\n  <tbody>\n    <tr>\n      <th>0</th>\n      <td>20230106</td>\n      <td>13250.0</td>\n      <td>250.0</td>\n      <td>12900.0</td>\n      <td>13500.0</td>\n      <td>12850.0</td>\n      <td>1120308.0</td>\n    </tr>\n    <tr>\n      <th>1</th>\n      <td>20230105</td>\n      <td>13000.0</td>\n      <td>0.0</td>\n      <td>13000.0</td>\n      <td>13150.0</td>\n      <td>12900.0</td>\n      <td>1003176.0</td>\n    </tr>\n    <tr>\n      <th>2</th>\n      <td>20230104</td>\n      <td>13000.0</td>\n      <td>400.0</td>\n      <td>12550.0</td>\n      <td>13250.0</td>\n      <td>12500.0</td>\n      <td>1483621.0</td>\n    </tr>\n    <tr>\n      <th>3</th>\n      <td>20230103</td>\n      <td>12600.0</td>\n      <td>100.0</td>\n      <td>12450.0</td>\n      <td>12700.0</td>\n      <td>12100.0</td>\n      <td>1351273.0</td>\n    </tr>\n    <tr>\n      <th>4</th>\n      <td>20230102</td>\n      <td>12500.0</td>\n      <td>50.0</td>\n      <td>12500.0</td>\n      <td>12550.0</td>\n      <td>12350.0</td>\n      <td>623019.0</td>\n    </tr>\n    <tr>\n      <th>...</th>\n      <td>...</td>\n      <td>...</td>\n      <td>...</td>\n      <td>...</td>\n      <td>...</td>\n      <td>...</td>\n      <td>...</td>\n    </tr>\n    <tr>\n      <th>1485</th>\n      <td>20161222</td>\n      <td>31400.0</td>\n      <td>100.0</td>\n      <td>31900.0</td>\n      <td>32400.0</td>\n      <td>31350.0</td>\n      <td>1740187.0</td>\n    </tr>\n    <tr>\n      <th>1486</th>\n      <td>20161221</td>\n      <td>31500.0</td>\n      <td>950.0</td>\n      <td>30750.0</td>\n      <td>31900.0</td>\n      <td>30700.0</td>\n      <td>1753323.0</td>\n    </tr>\n    <tr>\n      <th>1487</th>\n      <td>20161220</td>\n      <td>30550.0</td>\n      <td>50.0</td>\n      <td>30550.0</td>\n      <td>30700.0</td>\n      <td>30250.0</td>\n      <td>721049.0</td>\n    </tr>\n    <tr>\n      <th>1488</th>\n      <td>20161219</td>\n      <td>30500.0</td>\n      <td>400.0</td>\n      <td>31200.0</td>\n      <td>31250.0</td>\n      <td>30350.0</td>\n      <td>968437.0</td>\n    </tr>\n    <tr>\n      <th>1489</th>\n      <td>20161216</td>\n      <td>30900.0</td>\n      <td>50.0</td>\n      <td>30800.0</td>\n      <td>31600.0</td>\n      <td>30650.0</td>\n      <td>1471576.0</td>\n    </tr>\n  </tbody>\n</table>\n<p>1490 rows × 7 columns</p>\n</div>"
     },
     "execution_count": 7,
     "metadata": {},
     "output_type": "execute_result"
    }
   ],
   "source": [
    "lgdis"
   ],
   "metadata": {
    "collapsed": false,
    "pycharm": {
     "name": "#%%\n"
    }
   }
  },
  {
   "cell_type": "code",
   "execution_count": 8,
   "outputs": [],
   "source": [
    "# lg디스플레이 데이터 프레임에서 필요한 종가, 날짜만 남기고 전체 drop\n",
    "lgdis = lgdis.drop(labels=['전일비', '시가', '고가', '저가', '거래량'],axis=1)"
   ],
   "metadata": {
    "collapsed": false,
    "pycharm": {
     "name": "#%%\n"
    }
   }
  },
  {
   "cell_type": "code",
   "execution_count": 9,
   "outputs": [],
   "source": [
    "# 회사명 칼럼 추가\n",
    "lgdis['회사명'] = 'LG디스플레이'"
   ],
   "metadata": {
    "collapsed": false,
    "pycharm": {
     "name": "#%%\n"
    }
   }
  },
  {
   "cell_type": "code",
   "execution_count": 10,
   "outputs": [
    {
     "data": {
      "text/plain": "            날짜       종가      회사명\n0     20230106  13250.0  LG디스플레이\n1     20230105  13000.0  LG디스플레이\n2     20230104  13000.0  LG디스플레이\n3     20230103  12600.0  LG디스플레이\n4     20230102  12500.0  LG디스플레이\n...        ...      ...      ...\n1485  20161222  31400.0  LG디스플레이\n1486  20161221  31500.0  LG디스플레이\n1487  20161220  30550.0  LG디스플레이\n1488  20161219  30500.0  LG디스플레이\n1489  20161216  30900.0  LG디스플레이\n\n[1490 rows x 3 columns]",
      "text/html": "<div>\n<style scoped>\n    .dataframe tbody tr th:only-of-type {\n        vertical-align: middle;\n    }\n\n    .dataframe tbody tr th {\n        vertical-align: top;\n    }\n\n    .dataframe thead th {\n        text-align: right;\n    }\n</style>\n<table border=\"1\" class=\"dataframe\">\n  <thead>\n    <tr style=\"text-align: right;\">\n      <th></th>\n      <th>날짜</th>\n      <th>종가</th>\n      <th>회사명</th>\n    </tr>\n  </thead>\n  <tbody>\n    <tr>\n      <th>0</th>\n      <td>20230106</td>\n      <td>13250.0</td>\n      <td>LG디스플레이</td>\n    </tr>\n    <tr>\n      <th>1</th>\n      <td>20230105</td>\n      <td>13000.0</td>\n      <td>LG디스플레이</td>\n    </tr>\n    <tr>\n      <th>2</th>\n      <td>20230104</td>\n      <td>13000.0</td>\n      <td>LG디스플레이</td>\n    </tr>\n    <tr>\n      <th>3</th>\n      <td>20230103</td>\n      <td>12600.0</td>\n      <td>LG디스플레이</td>\n    </tr>\n    <tr>\n      <th>4</th>\n      <td>20230102</td>\n      <td>12500.0</td>\n      <td>LG디스플레이</td>\n    </tr>\n    <tr>\n      <th>...</th>\n      <td>...</td>\n      <td>...</td>\n      <td>...</td>\n    </tr>\n    <tr>\n      <th>1485</th>\n      <td>20161222</td>\n      <td>31400.0</td>\n      <td>LG디스플레이</td>\n    </tr>\n    <tr>\n      <th>1486</th>\n      <td>20161221</td>\n      <td>31500.0</td>\n      <td>LG디스플레이</td>\n    </tr>\n    <tr>\n      <th>1487</th>\n      <td>20161220</td>\n      <td>30550.0</td>\n      <td>LG디스플레이</td>\n    </tr>\n    <tr>\n      <th>1488</th>\n      <td>20161219</td>\n      <td>30500.0</td>\n      <td>LG디스플레이</td>\n    </tr>\n    <tr>\n      <th>1489</th>\n      <td>20161216</td>\n      <td>30900.0</td>\n      <td>LG디스플레이</td>\n    </tr>\n  </tbody>\n</table>\n<p>1490 rows × 3 columns</p>\n</div>"
     },
     "execution_count": 10,
     "metadata": {},
     "output_type": "execute_result"
    }
   ],
   "source": [
    "# 최종적으로 필요한 날짜별 주가 데이터프레임 생성\n",
    "lgdis"
   ],
   "metadata": {
    "collapsed": false,
    "pycharm": {
     "name": "#%%\n"
    }
   }
  },
  {
   "cell_type": "markdown",
   "source": [
    "<h2>이후 각 회사별 주가 획득 과정은 위의 과정과 동일하여 주석 생략하고 진행하였습니다."
   ],
   "metadata": {
    "collapsed": false
   }
  },
  {
   "cell_type": "code",
   "execution_count": 11,
   "outputs": [
    {
     "name": "stdout",
     "output_type": "stream",
     "text": [
      "https://finance.naver.com/item/sise_day.nhn?code=006400&page=10\n",
      "https://finance.naver.com/item/sise_day.nhn?code=006400&page=11\n",
      "https://finance.naver.com/item/sise_day.nhn?code=006400&page=12\n",
      "https://finance.naver.com/item/sise_day.nhn?code=006400&page=13\n",
      "https://finance.naver.com/item/sise_day.nhn?code=006400&page=14\n",
      "https://finance.naver.com/item/sise_day.nhn?code=006400&page=15\n",
      "https://finance.naver.com/item/sise_day.nhn?code=006400&page=16\n",
      "https://finance.naver.com/item/sise_day.nhn?code=006400&page=17\n",
      "https://finance.naver.com/item/sise_day.nhn?code=006400&page=18\n",
      "https://finance.naver.com/item/sise_day.nhn?code=006400&page=19\n",
      "https://finance.naver.com/item/sise_day.nhn?code=006400&page=20\n",
      "https://finance.naver.com/item/sise_day.nhn?code=006400&page=21\n",
      "https://finance.naver.com/item/sise_day.nhn?code=006400&page=22\n",
      "https://finance.naver.com/item/sise_day.nhn?code=006400&page=23\n",
      "https://finance.naver.com/item/sise_day.nhn?code=006400&page=24\n",
      "https://finance.naver.com/item/sise_day.nhn?code=006400&page=25\n",
      "https://finance.naver.com/item/sise_day.nhn?code=006400&page=26\n",
      "https://finance.naver.com/item/sise_day.nhn?code=006400&page=27\n",
      "https://finance.naver.com/item/sise_day.nhn?code=006400&page=28\n",
      "https://finance.naver.com/item/sise_day.nhn?code=006400&page=29\n",
      "https://finance.naver.com/item/sise_day.nhn?code=006400&page=30\n",
      "https://finance.naver.com/item/sise_day.nhn?code=006400&page=31\n",
      "https://finance.naver.com/item/sise_day.nhn?code=006400&page=32\n",
      "https://finance.naver.com/item/sise_day.nhn?code=006400&page=33\n",
      "https://finance.naver.com/item/sise_day.nhn?code=006400&page=34\n",
      "https://finance.naver.com/item/sise_day.nhn?code=006400&page=35\n",
      "https://finance.naver.com/item/sise_day.nhn?code=006400&page=36\n",
      "https://finance.naver.com/item/sise_day.nhn?code=006400&page=37\n",
      "https://finance.naver.com/item/sise_day.nhn?code=006400&page=38\n",
      "https://finance.naver.com/item/sise_day.nhn?code=006400&page=39\n",
      "https://finance.naver.com/item/sise_day.nhn?code=006400&page=40\n",
      "https://finance.naver.com/item/sise_day.nhn?code=006400&page=41\n",
      "https://finance.naver.com/item/sise_day.nhn?code=006400&page=42\n",
      "https://finance.naver.com/item/sise_day.nhn?code=006400&page=43\n",
      "https://finance.naver.com/item/sise_day.nhn?code=006400&page=44\n",
      "https://finance.naver.com/item/sise_day.nhn?code=006400&page=45\n",
      "https://finance.naver.com/item/sise_day.nhn?code=006400&page=46\n",
      "https://finance.naver.com/item/sise_day.nhn?code=006400&page=47\n",
      "https://finance.naver.com/item/sise_day.nhn?code=006400&page=48\n",
      "https://finance.naver.com/item/sise_day.nhn?code=006400&page=49\n",
      "https://finance.naver.com/item/sise_day.nhn?code=006400&page=50\n",
      "https://finance.naver.com/item/sise_day.nhn?code=006400&page=51\n",
      "https://finance.naver.com/item/sise_day.nhn?code=006400&page=52\n",
      "https://finance.naver.com/item/sise_day.nhn?code=006400&page=53\n",
      "https://finance.naver.com/item/sise_day.nhn?code=006400&page=54\n",
      "https://finance.naver.com/item/sise_day.nhn?code=006400&page=55\n",
      "https://finance.naver.com/item/sise_day.nhn?code=006400&page=56\n",
      "https://finance.naver.com/item/sise_day.nhn?code=006400&page=57\n",
      "https://finance.naver.com/item/sise_day.nhn?code=006400&page=58\n",
      "https://finance.naver.com/item/sise_day.nhn?code=006400&page=59\n",
      "https://finance.naver.com/item/sise_day.nhn?code=006400&page=60\n",
      "https://finance.naver.com/item/sise_day.nhn?code=006400&page=61\n",
      "https://finance.naver.com/item/sise_day.nhn?code=006400&page=62\n",
      "https://finance.naver.com/item/sise_day.nhn?code=006400&page=63\n",
      "https://finance.naver.com/item/sise_day.nhn?code=006400&page=64\n",
      "https://finance.naver.com/item/sise_day.nhn?code=006400&page=65\n",
      "https://finance.naver.com/item/sise_day.nhn?code=006400&page=66\n",
      "https://finance.naver.com/item/sise_day.nhn?code=006400&page=67\n",
      "https://finance.naver.com/item/sise_day.nhn?code=006400&page=68\n",
      "https://finance.naver.com/item/sise_day.nhn?code=006400&page=69\n",
      "https://finance.naver.com/item/sise_day.nhn?code=006400&page=70\n",
      "https://finance.naver.com/item/sise_day.nhn?code=006400&page=71\n",
      "https://finance.naver.com/item/sise_day.nhn?code=006400&page=72\n",
      "https://finance.naver.com/item/sise_day.nhn?code=006400&page=73\n",
      "https://finance.naver.com/item/sise_day.nhn?code=006400&page=74\n",
      "https://finance.naver.com/item/sise_day.nhn?code=006400&page=75\n",
      "https://finance.naver.com/item/sise_day.nhn?code=006400&page=76\n",
      "https://finance.naver.com/item/sise_day.nhn?code=006400&page=77\n",
      "https://finance.naver.com/item/sise_day.nhn?code=006400&page=78\n",
      "https://finance.naver.com/item/sise_day.nhn?code=006400&page=79\n",
      "https://finance.naver.com/item/sise_day.nhn?code=006400&page=80\n",
      "https://finance.naver.com/item/sise_day.nhn?code=006400&page=81\n",
      "https://finance.naver.com/item/sise_day.nhn?code=006400&page=82\n",
      "https://finance.naver.com/item/sise_day.nhn?code=006400&page=83\n",
      "https://finance.naver.com/item/sise_day.nhn?code=006400&page=84\n",
      "https://finance.naver.com/item/sise_day.nhn?code=006400&page=85\n",
      "https://finance.naver.com/item/sise_day.nhn?code=006400&page=86\n",
      "https://finance.naver.com/item/sise_day.nhn?code=006400&page=87\n",
      "https://finance.naver.com/item/sise_day.nhn?code=006400&page=88\n",
      "https://finance.naver.com/item/sise_day.nhn?code=006400&page=89\n",
      "https://finance.naver.com/item/sise_day.nhn?code=006400&page=90\n",
      "https://finance.naver.com/item/sise_day.nhn?code=006400&page=91\n",
      "https://finance.naver.com/item/sise_day.nhn?code=006400&page=92\n",
      "https://finance.naver.com/item/sise_day.nhn?code=006400&page=93\n",
      "https://finance.naver.com/item/sise_day.nhn?code=006400&page=94\n",
      "https://finance.naver.com/item/sise_day.nhn?code=006400&page=95\n",
      "https://finance.naver.com/item/sise_day.nhn?code=006400&page=96\n",
      "https://finance.naver.com/item/sise_day.nhn?code=006400&page=97\n",
      "https://finance.naver.com/item/sise_day.nhn?code=006400&page=98\n",
      "https://finance.naver.com/item/sise_day.nhn?code=006400&page=99\n",
      "https://finance.naver.com/item/sise_day.nhn?code=006400&page=100\n",
      "https://finance.naver.com/item/sise_day.nhn?code=006400&page=101\n",
      "https://finance.naver.com/item/sise_day.nhn?code=006400&page=102\n",
      "https://finance.naver.com/item/sise_day.nhn?code=006400&page=103\n",
      "https://finance.naver.com/item/sise_day.nhn?code=006400&page=104\n",
      "https://finance.naver.com/item/sise_day.nhn?code=006400&page=105\n",
      "https://finance.naver.com/item/sise_day.nhn?code=006400&page=106\n",
      "https://finance.naver.com/item/sise_day.nhn?code=006400&page=107\n",
      "https://finance.naver.com/item/sise_day.nhn?code=006400&page=108\n",
      "https://finance.naver.com/item/sise_day.nhn?code=006400&page=109\n",
      "https://finance.naver.com/item/sise_day.nhn?code=006400&page=110\n",
      "https://finance.naver.com/item/sise_day.nhn?code=006400&page=111\n",
      "https://finance.naver.com/item/sise_day.nhn?code=006400&page=112\n",
      "https://finance.naver.com/item/sise_day.nhn?code=006400&page=113\n",
      "https://finance.naver.com/item/sise_day.nhn?code=006400&page=114\n",
      "https://finance.naver.com/item/sise_day.nhn?code=006400&page=115\n",
      "https://finance.naver.com/item/sise_day.nhn?code=006400&page=116\n",
      "https://finance.naver.com/item/sise_day.nhn?code=006400&page=117\n",
      "https://finance.naver.com/item/sise_day.nhn?code=006400&page=118\n",
      "https://finance.naver.com/item/sise_day.nhn?code=006400&page=119\n",
      "https://finance.naver.com/item/sise_day.nhn?code=006400&page=120\n",
      "https://finance.naver.com/item/sise_day.nhn?code=006400&page=121\n",
      "https://finance.naver.com/item/sise_day.nhn?code=006400&page=122\n",
      "https://finance.naver.com/item/sise_day.nhn?code=006400&page=123\n",
      "https://finance.naver.com/item/sise_day.nhn?code=006400&page=124\n",
      "https://finance.naver.com/item/sise_day.nhn?code=006400&page=125\n",
      "https://finance.naver.com/item/sise_day.nhn?code=006400&page=126\n",
      "https://finance.naver.com/item/sise_day.nhn?code=006400&page=127\n",
      "https://finance.naver.com/item/sise_day.nhn?code=006400&page=128\n",
      "https://finance.naver.com/item/sise_day.nhn?code=006400&page=129\n",
      "https://finance.naver.com/item/sise_day.nhn?code=006400&page=130\n",
      "https://finance.naver.com/item/sise_day.nhn?code=006400&page=131\n",
      "https://finance.naver.com/item/sise_day.nhn?code=006400&page=132\n",
      "https://finance.naver.com/item/sise_day.nhn?code=006400&page=133\n",
      "https://finance.naver.com/item/sise_day.nhn?code=006400&page=134\n",
      "https://finance.naver.com/item/sise_day.nhn?code=006400&page=135\n",
      "https://finance.naver.com/item/sise_day.nhn?code=006400&page=136\n",
      "https://finance.naver.com/item/sise_day.nhn?code=006400&page=137\n",
      "https://finance.naver.com/item/sise_day.nhn?code=006400&page=138\n",
      "https://finance.naver.com/item/sise_day.nhn?code=006400&page=139\n",
      "https://finance.naver.com/item/sise_day.nhn?code=006400&page=140\n",
      "https://finance.naver.com/item/sise_day.nhn?code=006400&page=141\n",
      "https://finance.naver.com/item/sise_day.nhn?code=006400&page=142\n",
      "https://finance.naver.com/item/sise_day.nhn?code=006400&page=143\n",
      "https://finance.naver.com/item/sise_day.nhn?code=006400&page=144\n",
      "https://finance.naver.com/item/sise_day.nhn?code=006400&page=145\n",
      "https://finance.naver.com/item/sise_day.nhn?code=006400&page=146\n",
      "https://finance.naver.com/item/sise_day.nhn?code=006400&page=147\n",
      "https://finance.naver.com/item/sise_day.nhn?code=006400&page=148\n",
      "https://finance.naver.com/item/sise_day.nhn?code=006400&page=149\n",
      "https://finance.naver.com/item/sise_day.nhn?code=006400&page=150\n",
      "https://finance.naver.com/item/sise_day.nhn?code=006400&page=151\n",
      "https://finance.naver.com/item/sise_day.nhn?code=006400&page=152\n",
      "https://finance.naver.com/item/sise_day.nhn?code=006400&page=153\n",
      "https://finance.naver.com/item/sise_day.nhn?code=006400&page=154\n",
      "https://finance.naver.com/item/sise_day.nhn?code=006400&page=155\n",
      "https://finance.naver.com/item/sise_day.nhn?code=006400&page=156\n",
      "https://finance.naver.com/item/sise_day.nhn?code=006400&page=157\n",
      "https://finance.naver.com/item/sise_day.nhn?code=006400&page=158\n"
     ]
    }
   ],
   "source": [
    "## 위의 lg 디스플레이와 동일한 과정으로 진행\n",
    "\n",
    "samsungsdi = pd.DataFrame()\n",
    "sise_url = 'https://finance.naver.com/item/sise_day.nhn?code=006400'\n",
    "for page in range(10, 159):\n",
    "    page_url = '{}&page={}'.format(sise_url, page)\n",
    "    print(page_url)\n",
    "\n",
    "    response = requests.get(page_url, headers=headers)\n",
    "    html = bs(response.text, 'html.parser')\n",
    "    html_table = html.select(\"table\")\n",
    "    table = pd.read_html(str(html_table))\n",
    "\n",
    "    samsungsdi = samsungsdi.append(table[0].dropna())\n"
   ],
   "metadata": {
    "collapsed": false,
    "pycharm": {
     "name": "#%%\n"
    }
   }
  },
  {
   "cell_type": "code",
   "execution_count": 12,
   "outputs": [
    {
     "name": "stderr",
     "output_type": "stream",
     "text": [
      "C:\\Users\\msi\\AppData\\Local\\Temp/ipykernel_29564/1855556086.py:3: SettingWithCopyWarning: \n",
      "A value is trying to be set on a copy of a slice from a DataFrame\n",
      "\n",
      "See the caveats in the documentation: https://pandas.pydata.org/pandas-docs/stable/user_guide/indexing.html#returning-a-view-versus-a-copy\n",
      "  samsungsdi.날짜[i] = samsungsdi.날짜[i].replace('.', '')\n"
     ]
    }
   ],
   "source": [
    "samsungsdi = samsungsdi.reset_index(drop=True)\n",
    "for i in range(len(samsungsdi['날짜'])):\n",
    "    samsungsdi.날짜[i] = samsungsdi.날짜[i].replace('.', '')\n",
    "samsungsdi['회사명'] = '삼성SDI'"
   ],
   "metadata": {
    "collapsed": false,
    "pycharm": {
     "name": "#%%\n"
    }
   }
  },
  {
   "cell_type": "code",
   "execution_count": 13,
   "outputs": [
    {
     "data": {
      "text/plain": "            날짜        종가      전일비        시가        고가        저가       거래량  \\\n0     20230106  586000.0   3000.0  578000.0  594000.0  574000.0  224115.0   \n1     20230105  583000.0  20000.0  612000.0  612000.0  582000.0  367433.0   \n2     20230104  603000.0   2000.0  596000.0  606000.0  581000.0  223659.0   \n3     20230103  605000.0   3000.0  613000.0  618000.0  596000.0  203771.0   \n4     20230102  602000.0  11000.0  597000.0  616000.0  597000.0  142102.0   \n...        ...       ...      ...       ...       ...       ...       ...   \n1485  20161222  106500.0   1500.0  107000.0  108000.0  105500.0  235751.0   \n1486  20161221  108000.0   2000.0  109500.0  110500.0  107000.0  357406.0   \n1487  20161220  110000.0   2500.0  107500.0  111000.0  106500.0  432729.0   \n1488  20161219  107500.0   3500.0  103500.0  108000.0  103500.0  483287.0   \n1489  20161216  104000.0   2000.0  101500.0  104500.0  100500.0  452672.0   \n\n        회사명  \n0     삼성SDI  \n1     삼성SDI  \n2     삼성SDI  \n3     삼성SDI  \n4     삼성SDI  \n...     ...  \n1485  삼성SDI  \n1486  삼성SDI  \n1487  삼성SDI  \n1488  삼성SDI  \n1489  삼성SDI  \n\n[1490 rows x 8 columns]",
      "text/html": "<div>\n<style scoped>\n    .dataframe tbody tr th:only-of-type {\n        vertical-align: middle;\n    }\n\n    .dataframe tbody tr th {\n        vertical-align: top;\n    }\n\n    .dataframe thead th {\n        text-align: right;\n    }\n</style>\n<table border=\"1\" class=\"dataframe\">\n  <thead>\n    <tr style=\"text-align: right;\">\n      <th></th>\n      <th>날짜</th>\n      <th>종가</th>\n      <th>전일비</th>\n      <th>시가</th>\n      <th>고가</th>\n      <th>저가</th>\n      <th>거래량</th>\n      <th>회사명</th>\n    </tr>\n  </thead>\n  <tbody>\n    <tr>\n      <th>0</th>\n      <td>20230106</td>\n      <td>586000.0</td>\n      <td>3000.0</td>\n      <td>578000.0</td>\n      <td>594000.0</td>\n      <td>574000.0</td>\n      <td>224115.0</td>\n      <td>삼성SDI</td>\n    </tr>\n    <tr>\n      <th>1</th>\n      <td>20230105</td>\n      <td>583000.0</td>\n      <td>20000.0</td>\n      <td>612000.0</td>\n      <td>612000.0</td>\n      <td>582000.0</td>\n      <td>367433.0</td>\n      <td>삼성SDI</td>\n    </tr>\n    <tr>\n      <th>2</th>\n      <td>20230104</td>\n      <td>603000.0</td>\n      <td>2000.0</td>\n      <td>596000.0</td>\n      <td>606000.0</td>\n      <td>581000.0</td>\n      <td>223659.0</td>\n      <td>삼성SDI</td>\n    </tr>\n    <tr>\n      <th>3</th>\n      <td>20230103</td>\n      <td>605000.0</td>\n      <td>3000.0</td>\n      <td>613000.0</td>\n      <td>618000.0</td>\n      <td>596000.0</td>\n      <td>203771.0</td>\n      <td>삼성SDI</td>\n    </tr>\n    <tr>\n      <th>4</th>\n      <td>20230102</td>\n      <td>602000.0</td>\n      <td>11000.0</td>\n      <td>597000.0</td>\n      <td>616000.0</td>\n      <td>597000.0</td>\n      <td>142102.0</td>\n      <td>삼성SDI</td>\n    </tr>\n    <tr>\n      <th>...</th>\n      <td>...</td>\n      <td>...</td>\n      <td>...</td>\n      <td>...</td>\n      <td>...</td>\n      <td>...</td>\n      <td>...</td>\n      <td>...</td>\n    </tr>\n    <tr>\n      <th>1485</th>\n      <td>20161222</td>\n      <td>106500.0</td>\n      <td>1500.0</td>\n      <td>107000.0</td>\n      <td>108000.0</td>\n      <td>105500.0</td>\n      <td>235751.0</td>\n      <td>삼성SDI</td>\n    </tr>\n    <tr>\n      <th>1486</th>\n      <td>20161221</td>\n      <td>108000.0</td>\n      <td>2000.0</td>\n      <td>109500.0</td>\n      <td>110500.0</td>\n      <td>107000.0</td>\n      <td>357406.0</td>\n      <td>삼성SDI</td>\n    </tr>\n    <tr>\n      <th>1487</th>\n      <td>20161220</td>\n      <td>110000.0</td>\n      <td>2500.0</td>\n      <td>107500.0</td>\n      <td>111000.0</td>\n      <td>106500.0</td>\n      <td>432729.0</td>\n      <td>삼성SDI</td>\n    </tr>\n    <tr>\n      <th>1488</th>\n      <td>20161219</td>\n      <td>107500.0</td>\n      <td>3500.0</td>\n      <td>103500.0</td>\n      <td>108000.0</td>\n      <td>103500.0</td>\n      <td>483287.0</td>\n      <td>삼성SDI</td>\n    </tr>\n    <tr>\n      <th>1489</th>\n      <td>20161216</td>\n      <td>104000.0</td>\n      <td>2000.0</td>\n      <td>101500.0</td>\n      <td>104500.0</td>\n      <td>100500.0</td>\n      <td>452672.0</td>\n      <td>삼성SDI</td>\n    </tr>\n  </tbody>\n</table>\n<p>1490 rows × 8 columns</p>\n</div>"
     },
     "execution_count": 13,
     "metadata": {},
     "output_type": "execute_result"
    }
   ],
   "source": [
    "samsungsdi"
   ],
   "metadata": {
    "collapsed": false,
    "pycharm": {
     "name": "#%%\n"
    }
   }
  },
  {
   "cell_type": "code",
   "execution_count": 14,
   "outputs": [],
   "source": [
    "samsungsdi = samsungsdi.drop(labels=['전일비', '시가', '고가', '저가', '거래량'],axis=1)"
   ],
   "metadata": {
    "collapsed": false,
    "pycharm": {
     "name": "#%%\n"
    }
   }
  },
  {
   "cell_type": "code",
   "execution_count": 15,
   "outputs": [
    {
     "data": {
      "text/plain": "            날짜        종가    회사명\n0     20230106  586000.0  삼성SDI\n1     20230105  583000.0  삼성SDI\n2     20230104  603000.0  삼성SDI\n3     20230103  605000.0  삼성SDI\n4     20230102  602000.0  삼성SDI\n...        ...       ...    ...\n1485  20161222  106500.0  삼성SDI\n1486  20161221  108000.0  삼성SDI\n1487  20161220  110000.0  삼성SDI\n1488  20161219  107500.0  삼성SDI\n1489  20161216  104000.0  삼성SDI\n\n[1490 rows x 3 columns]",
      "text/html": "<div>\n<style scoped>\n    .dataframe tbody tr th:only-of-type {\n        vertical-align: middle;\n    }\n\n    .dataframe tbody tr th {\n        vertical-align: top;\n    }\n\n    .dataframe thead th {\n        text-align: right;\n    }\n</style>\n<table border=\"1\" class=\"dataframe\">\n  <thead>\n    <tr style=\"text-align: right;\">\n      <th></th>\n      <th>날짜</th>\n      <th>종가</th>\n      <th>회사명</th>\n    </tr>\n  </thead>\n  <tbody>\n    <tr>\n      <th>0</th>\n      <td>20230106</td>\n      <td>586000.0</td>\n      <td>삼성SDI</td>\n    </tr>\n    <tr>\n      <th>1</th>\n      <td>20230105</td>\n      <td>583000.0</td>\n      <td>삼성SDI</td>\n    </tr>\n    <tr>\n      <th>2</th>\n      <td>20230104</td>\n      <td>603000.0</td>\n      <td>삼성SDI</td>\n    </tr>\n    <tr>\n      <th>3</th>\n      <td>20230103</td>\n      <td>605000.0</td>\n      <td>삼성SDI</td>\n    </tr>\n    <tr>\n      <th>4</th>\n      <td>20230102</td>\n      <td>602000.0</td>\n      <td>삼성SDI</td>\n    </tr>\n    <tr>\n      <th>...</th>\n      <td>...</td>\n      <td>...</td>\n      <td>...</td>\n    </tr>\n    <tr>\n      <th>1485</th>\n      <td>20161222</td>\n      <td>106500.0</td>\n      <td>삼성SDI</td>\n    </tr>\n    <tr>\n      <th>1486</th>\n      <td>20161221</td>\n      <td>108000.0</td>\n      <td>삼성SDI</td>\n    </tr>\n    <tr>\n      <th>1487</th>\n      <td>20161220</td>\n      <td>110000.0</td>\n      <td>삼성SDI</td>\n    </tr>\n    <tr>\n      <th>1488</th>\n      <td>20161219</td>\n      <td>107500.0</td>\n      <td>삼성SDI</td>\n    </tr>\n    <tr>\n      <th>1489</th>\n      <td>20161216</td>\n      <td>104000.0</td>\n      <td>삼성SDI</td>\n    </tr>\n  </tbody>\n</table>\n<p>1490 rows × 3 columns</p>\n</div>"
     },
     "execution_count": 15,
     "metadata": {},
     "output_type": "execute_result"
    }
   ],
   "source": [
    "samsungsdi"
   ],
   "metadata": {
    "collapsed": false,
    "pycharm": {
     "name": "#%%\n"
    }
   }
  },
  {
   "cell_type": "code",
   "execution_count": 16,
   "outputs": [
    {
     "name": "stdout",
     "output_type": "stream",
     "text": [
      "https://finance.naver.com/item/sise_day.nhn?code=005930&page=10\n",
      "https://finance.naver.com/item/sise_day.nhn?code=005930&page=11\n",
      "https://finance.naver.com/item/sise_day.nhn?code=005930&page=12\n",
      "https://finance.naver.com/item/sise_day.nhn?code=005930&page=13\n",
      "https://finance.naver.com/item/sise_day.nhn?code=005930&page=14\n",
      "https://finance.naver.com/item/sise_day.nhn?code=005930&page=15\n",
      "https://finance.naver.com/item/sise_day.nhn?code=005930&page=16\n",
      "https://finance.naver.com/item/sise_day.nhn?code=005930&page=17\n",
      "https://finance.naver.com/item/sise_day.nhn?code=005930&page=18\n",
      "https://finance.naver.com/item/sise_day.nhn?code=005930&page=19\n",
      "https://finance.naver.com/item/sise_day.nhn?code=005930&page=20\n",
      "https://finance.naver.com/item/sise_day.nhn?code=005930&page=21\n",
      "https://finance.naver.com/item/sise_day.nhn?code=005930&page=22\n",
      "https://finance.naver.com/item/sise_day.nhn?code=005930&page=23\n",
      "https://finance.naver.com/item/sise_day.nhn?code=005930&page=24\n",
      "https://finance.naver.com/item/sise_day.nhn?code=005930&page=25\n",
      "https://finance.naver.com/item/sise_day.nhn?code=005930&page=26\n",
      "https://finance.naver.com/item/sise_day.nhn?code=005930&page=27\n",
      "https://finance.naver.com/item/sise_day.nhn?code=005930&page=28\n",
      "https://finance.naver.com/item/sise_day.nhn?code=005930&page=29\n",
      "https://finance.naver.com/item/sise_day.nhn?code=005930&page=30\n",
      "https://finance.naver.com/item/sise_day.nhn?code=005930&page=31\n",
      "https://finance.naver.com/item/sise_day.nhn?code=005930&page=32\n",
      "https://finance.naver.com/item/sise_day.nhn?code=005930&page=33\n",
      "https://finance.naver.com/item/sise_day.nhn?code=005930&page=34\n",
      "https://finance.naver.com/item/sise_day.nhn?code=005930&page=35\n",
      "https://finance.naver.com/item/sise_day.nhn?code=005930&page=36\n",
      "https://finance.naver.com/item/sise_day.nhn?code=005930&page=37\n",
      "https://finance.naver.com/item/sise_day.nhn?code=005930&page=38\n",
      "https://finance.naver.com/item/sise_day.nhn?code=005930&page=39\n",
      "https://finance.naver.com/item/sise_day.nhn?code=005930&page=40\n",
      "https://finance.naver.com/item/sise_day.nhn?code=005930&page=41\n",
      "https://finance.naver.com/item/sise_day.nhn?code=005930&page=42\n",
      "https://finance.naver.com/item/sise_day.nhn?code=005930&page=43\n",
      "https://finance.naver.com/item/sise_day.nhn?code=005930&page=44\n",
      "https://finance.naver.com/item/sise_day.nhn?code=005930&page=45\n",
      "https://finance.naver.com/item/sise_day.nhn?code=005930&page=46\n",
      "https://finance.naver.com/item/sise_day.nhn?code=005930&page=47\n",
      "https://finance.naver.com/item/sise_day.nhn?code=005930&page=48\n",
      "https://finance.naver.com/item/sise_day.nhn?code=005930&page=49\n",
      "https://finance.naver.com/item/sise_day.nhn?code=005930&page=50\n",
      "https://finance.naver.com/item/sise_day.nhn?code=005930&page=51\n",
      "https://finance.naver.com/item/sise_day.nhn?code=005930&page=52\n",
      "https://finance.naver.com/item/sise_day.nhn?code=005930&page=53\n",
      "https://finance.naver.com/item/sise_day.nhn?code=005930&page=54\n",
      "https://finance.naver.com/item/sise_day.nhn?code=005930&page=55\n",
      "https://finance.naver.com/item/sise_day.nhn?code=005930&page=56\n",
      "https://finance.naver.com/item/sise_day.nhn?code=005930&page=57\n",
      "https://finance.naver.com/item/sise_day.nhn?code=005930&page=58\n",
      "https://finance.naver.com/item/sise_day.nhn?code=005930&page=59\n",
      "https://finance.naver.com/item/sise_day.nhn?code=005930&page=60\n",
      "https://finance.naver.com/item/sise_day.nhn?code=005930&page=61\n",
      "https://finance.naver.com/item/sise_day.nhn?code=005930&page=62\n",
      "https://finance.naver.com/item/sise_day.nhn?code=005930&page=63\n",
      "https://finance.naver.com/item/sise_day.nhn?code=005930&page=64\n",
      "https://finance.naver.com/item/sise_day.nhn?code=005930&page=65\n",
      "https://finance.naver.com/item/sise_day.nhn?code=005930&page=66\n",
      "https://finance.naver.com/item/sise_day.nhn?code=005930&page=67\n",
      "https://finance.naver.com/item/sise_day.nhn?code=005930&page=68\n",
      "https://finance.naver.com/item/sise_day.nhn?code=005930&page=69\n",
      "https://finance.naver.com/item/sise_day.nhn?code=005930&page=70\n",
      "https://finance.naver.com/item/sise_day.nhn?code=005930&page=71\n",
      "https://finance.naver.com/item/sise_day.nhn?code=005930&page=72\n",
      "https://finance.naver.com/item/sise_day.nhn?code=005930&page=73\n",
      "https://finance.naver.com/item/sise_day.nhn?code=005930&page=74\n",
      "https://finance.naver.com/item/sise_day.nhn?code=005930&page=75\n",
      "https://finance.naver.com/item/sise_day.nhn?code=005930&page=76\n",
      "https://finance.naver.com/item/sise_day.nhn?code=005930&page=77\n",
      "https://finance.naver.com/item/sise_day.nhn?code=005930&page=78\n",
      "https://finance.naver.com/item/sise_day.nhn?code=005930&page=79\n",
      "https://finance.naver.com/item/sise_day.nhn?code=005930&page=80\n",
      "https://finance.naver.com/item/sise_day.nhn?code=005930&page=81\n",
      "https://finance.naver.com/item/sise_day.nhn?code=005930&page=82\n",
      "https://finance.naver.com/item/sise_day.nhn?code=005930&page=83\n",
      "https://finance.naver.com/item/sise_day.nhn?code=005930&page=84\n",
      "https://finance.naver.com/item/sise_day.nhn?code=005930&page=85\n",
      "https://finance.naver.com/item/sise_day.nhn?code=005930&page=86\n",
      "https://finance.naver.com/item/sise_day.nhn?code=005930&page=87\n",
      "https://finance.naver.com/item/sise_day.nhn?code=005930&page=88\n",
      "https://finance.naver.com/item/sise_day.nhn?code=005930&page=89\n",
      "https://finance.naver.com/item/sise_day.nhn?code=005930&page=90\n",
      "https://finance.naver.com/item/sise_day.nhn?code=005930&page=91\n",
      "https://finance.naver.com/item/sise_day.nhn?code=005930&page=92\n",
      "https://finance.naver.com/item/sise_day.nhn?code=005930&page=93\n",
      "https://finance.naver.com/item/sise_day.nhn?code=005930&page=94\n",
      "https://finance.naver.com/item/sise_day.nhn?code=005930&page=95\n",
      "https://finance.naver.com/item/sise_day.nhn?code=005930&page=96\n",
      "https://finance.naver.com/item/sise_day.nhn?code=005930&page=97\n",
      "https://finance.naver.com/item/sise_day.nhn?code=005930&page=98\n",
      "https://finance.naver.com/item/sise_day.nhn?code=005930&page=99\n",
      "https://finance.naver.com/item/sise_day.nhn?code=005930&page=100\n",
      "https://finance.naver.com/item/sise_day.nhn?code=005930&page=101\n",
      "https://finance.naver.com/item/sise_day.nhn?code=005930&page=102\n",
      "https://finance.naver.com/item/sise_day.nhn?code=005930&page=103\n",
      "https://finance.naver.com/item/sise_day.nhn?code=005930&page=104\n",
      "https://finance.naver.com/item/sise_day.nhn?code=005930&page=105\n",
      "https://finance.naver.com/item/sise_day.nhn?code=005930&page=106\n",
      "https://finance.naver.com/item/sise_day.nhn?code=005930&page=107\n",
      "https://finance.naver.com/item/sise_day.nhn?code=005930&page=108\n",
      "https://finance.naver.com/item/sise_day.nhn?code=005930&page=109\n",
      "https://finance.naver.com/item/sise_day.nhn?code=005930&page=110\n",
      "https://finance.naver.com/item/sise_day.nhn?code=005930&page=111\n",
      "https://finance.naver.com/item/sise_day.nhn?code=005930&page=112\n",
      "https://finance.naver.com/item/sise_day.nhn?code=005930&page=113\n",
      "https://finance.naver.com/item/sise_day.nhn?code=005930&page=114\n",
      "https://finance.naver.com/item/sise_day.nhn?code=005930&page=115\n",
      "https://finance.naver.com/item/sise_day.nhn?code=005930&page=116\n",
      "https://finance.naver.com/item/sise_day.nhn?code=005930&page=117\n",
      "https://finance.naver.com/item/sise_day.nhn?code=005930&page=118\n",
      "https://finance.naver.com/item/sise_day.nhn?code=005930&page=119\n",
      "https://finance.naver.com/item/sise_day.nhn?code=005930&page=120\n",
      "https://finance.naver.com/item/sise_day.nhn?code=005930&page=121\n",
      "https://finance.naver.com/item/sise_day.nhn?code=005930&page=122\n",
      "https://finance.naver.com/item/sise_day.nhn?code=005930&page=123\n",
      "https://finance.naver.com/item/sise_day.nhn?code=005930&page=124\n",
      "https://finance.naver.com/item/sise_day.nhn?code=005930&page=125\n",
      "https://finance.naver.com/item/sise_day.nhn?code=005930&page=126\n",
      "https://finance.naver.com/item/sise_day.nhn?code=005930&page=127\n",
      "https://finance.naver.com/item/sise_day.nhn?code=005930&page=128\n",
      "https://finance.naver.com/item/sise_day.nhn?code=005930&page=129\n",
      "https://finance.naver.com/item/sise_day.nhn?code=005930&page=130\n",
      "https://finance.naver.com/item/sise_day.nhn?code=005930&page=131\n",
      "https://finance.naver.com/item/sise_day.nhn?code=005930&page=132\n",
      "https://finance.naver.com/item/sise_day.nhn?code=005930&page=133\n",
      "https://finance.naver.com/item/sise_day.nhn?code=005930&page=134\n",
      "https://finance.naver.com/item/sise_day.nhn?code=005930&page=135\n",
      "https://finance.naver.com/item/sise_day.nhn?code=005930&page=136\n",
      "https://finance.naver.com/item/sise_day.nhn?code=005930&page=137\n",
      "https://finance.naver.com/item/sise_day.nhn?code=005930&page=138\n",
      "https://finance.naver.com/item/sise_day.nhn?code=005930&page=139\n",
      "https://finance.naver.com/item/sise_day.nhn?code=005930&page=140\n",
      "https://finance.naver.com/item/sise_day.nhn?code=005930&page=141\n",
      "https://finance.naver.com/item/sise_day.nhn?code=005930&page=142\n",
      "https://finance.naver.com/item/sise_day.nhn?code=005930&page=143\n",
      "https://finance.naver.com/item/sise_day.nhn?code=005930&page=144\n",
      "https://finance.naver.com/item/sise_day.nhn?code=005930&page=145\n",
      "https://finance.naver.com/item/sise_day.nhn?code=005930&page=146\n",
      "https://finance.naver.com/item/sise_day.nhn?code=005930&page=147\n",
      "https://finance.naver.com/item/sise_day.nhn?code=005930&page=148\n",
      "https://finance.naver.com/item/sise_day.nhn?code=005930&page=149\n",
      "https://finance.naver.com/item/sise_day.nhn?code=005930&page=150\n",
      "https://finance.naver.com/item/sise_day.nhn?code=005930&page=151\n",
      "https://finance.naver.com/item/sise_day.nhn?code=005930&page=152\n",
      "https://finance.naver.com/item/sise_day.nhn?code=005930&page=153\n",
      "https://finance.naver.com/item/sise_day.nhn?code=005930&page=154\n",
      "https://finance.naver.com/item/sise_day.nhn?code=005930&page=155\n",
      "https://finance.naver.com/item/sise_day.nhn?code=005930&page=156\n",
      "https://finance.naver.com/item/sise_day.nhn?code=005930&page=157\n",
      "https://finance.naver.com/item/sise_day.nhn?code=005930&page=158\n"
     ]
    }
   ],
   "source": [
    "samsungelc = pd.DataFrame()\n",
    "sise_url = 'https://finance.naver.com/item/sise_day.nhn?code=005930'\n",
    "for page in range(10, 159):\n",
    "    page_url = '{}&page={}'.format(sise_url, page)\n",
    "    print(page_url)\n",
    "\n",
    "    response = requests.get(page_url, headers=headers)\n",
    "    html = bs(response.text, 'html.parser')\n",
    "    html_table = html.select(\"table\")\n",
    "    table = pd.read_html(str(html_table))\n",
    "\n",
    "    samsungelc = samsungelc.append(table[0].dropna())"
   ],
   "metadata": {
    "collapsed": false,
    "pycharm": {
     "name": "#%%\n"
    }
   }
  },
  {
   "cell_type": "code",
   "execution_count": 17,
   "outputs": [
    {
     "name": "stderr",
     "output_type": "stream",
     "text": [
      "C:\\Users\\msi\\AppData\\Local\\Temp/ipykernel_29564/135872709.py:3: SettingWithCopyWarning: \n",
      "A value is trying to be set on a copy of a slice from a DataFrame\n",
      "\n",
      "See the caveats in the documentation: https://pandas.pydata.org/pandas-docs/stable/user_guide/indexing.html#returning-a-view-versus-a-copy\n",
      "  samsungelc.날짜[i] = samsungelc.날짜[i].replace('.', '')\n"
     ]
    }
   ],
   "source": [
    "samsungelc = samsungelc.reset_index(drop=True)\n",
    "for i in range(len(samsungelc['날짜'])):\n",
    "    samsungelc.날짜[i] = samsungelc.날짜[i].replace('.', '')\n",
    "samsungelc['회사명'] = '삼성전자'"
   ],
   "metadata": {
    "collapsed": false,
    "pycharm": {
     "name": "#%%\n"
    }
   }
  },
  {
   "cell_type": "code",
   "execution_count": 18,
   "outputs": [],
   "source": [
    "samsungelc = samsungelc.drop(labels=['전일비', '시가', '고가', '저가', '거래량'],axis=1)"
   ],
   "metadata": {
    "collapsed": false,
    "pycharm": {
     "name": "#%%\n"
    }
   }
  },
  {
   "cell_type": "code",
   "execution_count": 19,
   "outputs": [
    {
     "data": {
      "text/plain": "            날짜         종가   회사명\n0     20230106    59000.0  삼성전자\n1     20230105    58200.0  삼성전자\n2     20230104    57800.0  삼성전자\n3     20230103    55400.0  삼성전자\n4     20230102    55500.0  삼성전자\n...        ...        ...   ...\n1485  20161222  1809000.0  삼성전자\n1486  20161221  1805000.0  삼성전자\n1487  20161220  1812000.0  삼성전자\n1488  20161219  1795000.0  삼성전자\n1489  20161216  1793000.0  삼성전자\n\n[1490 rows x 3 columns]",
      "text/html": "<div>\n<style scoped>\n    .dataframe tbody tr th:only-of-type {\n        vertical-align: middle;\n    }\n\n    .dataframe tbody tr th {\n        vertical-align: top;\n    }\n\n    .dataframe thead th {\n        text-align: right;\n    }\n</style>\n<table border=\"1\" class=\"dataframe\">\n  <thead>\n    <tr style=\"text-align: right;\">\n      <th></th>\n      <th>날짜</th>\n      <th>종가</th>\n      <th>회사명</th>\n    </tr>\n  </thead>\n  <tbody>\n    <tr>\n      <th>0</th>\n      <td>20230106</td>\n      <td>59000.0</td>\n      <td>삼성전자</td>\n    </tr>\n    <tr>\n      <th>1</th>\n      <td>20230105</td>\n      <td>58200.0</td>\n      <td>삼성전자</td>\n    </tr>\n    <tr>\n      <th>2</th>\n      <td>20230104</td>\n      <td>57800.0</td>\n      <td>삼성전자</td>\n    </tr>\n    <tr>\n      <th>3</th>\n      <td>20230103</td>\n      <td>55400.0</td>\n      <td>삼성전자</td>\n    </tr>\n    <tr>\n      <th>4</th>\n      <td>20230102</td>\n      <td>55500.0</td>\n      <td>삼성전자</td>\n    </tr>\n    <tr>\n      <th>...</th>\n      <td>...</td>\n      <td>...</td>\n      <td>...</td>\n    </tr>\n    <tr>\n      <th>1485</th>\n      <td>20161222</td>\n      <td>1809000.0</td>\n      <td>삼성전자</td>\n    </tr>\n    <tr>\n      <th>1486</th>\n      <td>20161221</td>\n      <td>1805000.0</td>\n      <td>삼성전자</td>\n    </tr>\n    <tr>\n      <th>1487</th>\n      <td>20161220</td>\n      <td>1812000.0</td>\n      <td>삼성전자</td>\n    </tr>\n    <tr>\n      <th>1488</th>\n      <td>20161219</td>\n      <td>1795000.0</td>\n      <td>삼성전자</td>\n    </tr>\n    <tr>\n      <th>1489</th>\n      <td>20161216</td>\n      <td>1793000.0</td>\n      <td>삼성전자</td>\n    </tr>\n  </tbody>\n</table>\n<p>1490 rows × 3 columns</p>\n</div>"
     },
     "execution_count": 19,
     "metadata": {},
     "output_type": "execute_result"
    }
   ],
   "source": [
    "samsungelc"
   ],
   "metadata": {
    "collapsed": false,
    "pycharm": {
     "name": "#%%\n"
    }
   }
  },
  {
   "cell_type": "code",
   "execution_count": 20,
   "outputs": [
    {
     "name": "stdout",
     "output_type": "stream",
     "text": [
      "https://finance.naver.com/item/sise_day.nhn?code=018260&page=1\n",
      "https://finance.naver.com/item/sise_day.nhn?code=018260&page=2\n",
      "https://finance.naver.com/item/sise_day.nhn?code=018260&page=3\n",
      "https://finance.naver.com/item/sise_day.nhn?code=018260&page=4\n",
      "https://finance.naver.com/item/sise_day.nhn?code=018260&page=5\n",
      "https://finance.naver.com/item/sise_day.nhn?code=018260&page=6\n",
      "https://finance.naver.com/item/sise_day.nhn?code=018260&page=7\n",
      "https://finance.naver.com/item/sise_day.nhn?code=018260&page=8\n",
      "https://finance.naver.com/item/sise_day.nhn?code=018260&page=9\n",
      "https://finance.naver.com/item/sise_day.nhn?code=018260&page=10\n",
      "https://finance.naver.com/item/sise_day.nhn?code=018260&page=11\n",
      "https://finance.naver.com/item/sise_day.nhn?code=018260&page=12\n",
      "https://finance.naver.com/item/sise_day.nhn?code=018260&page=13\n",
      "https://finance.naver.com/item/sise_day.nhn?code=018260&page=14\n",
      "https://finance.naver.com/item/sise_day.nhn?code=018260&page=15\n",
      "https://finance.naver.com/item/sise_day.nhn?code=018260&page=16\n",
      "https://finance.naver.com/item/sise_day.nhn?code=018260&page=17\n",
      "https://finance.naver.com/item/sise_day.nhn?code=018260&page=18\n",
      "https://finance.naver.com/item/sise_day.nhn?code=018260&page=19\n",
      "https://finance.naver.com/item/sise_day.nhn?code=018260&page=20\n",
      "https://finance.naver.com/item/sise_day.nhn?code=018260&page=21\n",
      "https://finance.naver.com/item/sise_day.nhn?code=018260&page=22\n",
      "https://finance.naver.com/item/sise_day.nhn?code=018260&page=23\n",
      "https://finance.naver.com/item/sise_day.nhn?code=018260&page=24\n",
      "https://finance.naver.com/item/sise_day.nhn?code=018260&page=25\n",
      "https://finance.naver.com/item/sise_day.nhn?code=018260&page=26\n",
      "https://finance.naver.com/item/sise_day.nhn?code=018260&page=27\n",
      "https://finance.naver.com/item/sise_day.nhn?code=018260&page=28\n",
      "https://finance.naver.com/item/sise_day.nhn?code=018260&page=29\n",
      "https://finance.naver.com/item/sise_day.nhn?code=018260&page=30\n",
      "https://finance.naver.com/item/sise_day.nhn?code=018260&page=31\n",
      "https://finance.naver.com/item/sise_day.nhn?code=018260&page=32\n",
      "https://finance.naver.com/item/sise_day.nhn?code=018260&page=33\n",
      "https://finance.naver.com/item/sise_day.nhn?code=018260&page=34\n",
      "https://finance.naver.com/item/sise_day.nhn?code=018260&page=35\n",
      "https://finance.naver.com/item/sise_day.nhn?code=018260&page=36\n",
      "https://finance.naver.com/item/sise_day.nhn?code=018260&page=37\n",
      "https://finance.naver.com/item/sise_day.nhn?code=018260&page=38\n",
      "https://finance.naver.com/item/sise_day.nhn?code=018260&page=39\n",
      "https://finance.naver.com/item/sise_day.nhn?code=018260&page=40\n",
      "https://finance.naver.com/item/sise_day.nhn?code=018260&page=41\n",
      "https://finance.naver.com/item/sise_day.nhn?code=018260&page=42\n",
      "https://finance.naver.com/item/sise_day.nhn?code=018260&page=43\n",
      "https://finance.naver.com/item/sise_day.nhn?code=018260&page=44\n",
      "https://finance.naver.com/item/sise_day.nhn?code=018260&page=45\n",
      "https://finance.naver.com/item/sise_day.nhn?code=018260&page=46\n",
      "https://finance.naver.com/item/sise_day.nhn?code=018260&page=47\n",
      "https://finance.naver.com/item/sise_day.nhn?code=018260&page=48\n",
      "https://finance.naver.com/item/sise_day.nhn?code=018260&page=49\n",
      "https://finance.naver.com/item/sise_day.nhn?code=018260&page=50\n",
      "https://finance.naver.com/item/sise_day.nhn?code=018260&page=51\n",
      "https://finance.naver.com/item/sise_day.nhn?code=018260&page=52\n",
      "https://finance.naver.com/item/sise_day.nhn?code=018260&page=53\n",
      "https://finance.naver.com/item/sise_day.nhn?code=018260&page=54\n",
      "https://finance.naver.com/item/sise_day.nhn?code=018260&page=55\n",
      "https://finance.naver.com/item/sise_day.nhn?code=018260&page=56\n",
      "https://finance.naver.com/item/sise_day.nhn?code=018260&page=57\n",
      "https://finance.naver.com/item/sise_day.nhn?code=018260&page=58\n",
      "https://finance.naver.com/item/sise_day.nhn?code=018260&page=59\n",
      "https://finance.naver.com/item/sise_day.nhn?code=018260&page=60\n",
      "https://finance.naver.com/item/sise_day.nhn?code=018260&page=61\n",
      "https://finance.naver.com/item/sise_day.nhn?code=018260&page=62\n",
      "https://finance.naver.com/item/sise_day.nhn?code=018260&page=63\n",
      "https://finance.naver.com/item/sise_day.nhn?code=018260&page=64\n",
      "https://finance.naver.com/item/sise_day.nhn?code=018260&page=65\n",
      "https://finance.naver.com/item/sise_day.nhn?code=018260&page=66\n",
      "https://finance.naver.com/item/sise_day.nhn?code=018260&page=67\n",
      "https://finance.naver.com/item/sise_day.nhn?code=018260&page=68\n",
      "https://finance.naver.com/item/sise_day.nhn?code=018260&page=69\n",
      "https://finance.naver.com/item/sise_day.nhn?code=018260&page=70\n",
      "https://finance.naver.com/item/sise_day.nhn?code=018260&page=71\n",
      "https://finance.naver.com/item/sise_day.nhn?code=018260&page=72\n",
      "https://finance.naver.com/item/sise_day.nhn?code=018260&page=73\n",
      "https://finance.naver.com/item/sise_day.nhn?code=018260&page=74\n",
      "https://finance.naver.com/item/sise_day.nhn?code=018260&page=75\n",
      "https://finance.naver.com/item/sise_day.nhn?code=018260&page=76\n",
      "https://finance.naver.com/item/sise_day.nhn?code=018260&page=77\n",
      "https://finance.naver.com/item/sise_day.nhn?code=018260&page=78\n",
      "https://finance.naver.com/item/sise_day.nhn?code=018260&page=79\n",
      "https://finance.naver.com/item/sise_day.nhn?code=018260&page=80\n",
      "https://finance.naver.com/item/sise_day.nhn?code=018260&page=81\n",
      "https://finance.naver.com/item/sise_day.nhn?code=018260&page=82\n",
      "https://finance.naver.com/item/sise_day.nhn?code=018260&page=83\n",
      "https://finance.naver.com/item/sise_day.nhn?code=018260&page=84\n",
      "https://finance.naver.com/item/sise_day.nhn?code=018260&page=85\n",
      "https://finance.naver.com/item/sise_day.nhn?code=018260&page=86\n",
      "https://finance.naver.com/item/sise_day.nhn?code=018260&page=87\n",
      "https://finance.naver.com/item/sise_day.nhn?code=018260&page=88\n",
      "https://finance.naver.com/item/sise_day.nhn?code=018260&page=89\n",
      "https://finance.naver.com/item/sise_day.nhn?code=018260&page=90\n",
      "https://finance.naver.com/item/sise_day.nhn?code=018260&page=91\n",
      "https://finance.naver.com/item/sise_day.nhn?code=018260&page=92\n",
      "https://finance.naver.com/item/sise_day.nhn?code=018260&page=93\n",
      "https://finance.naver.com/item/sise_day.nhn?code=018260&page=94\n",
      "https://finance.naver.com/item/sise_day.nhn?code=018260&page=95\n",
      "https://finance.naver.com/item/sise_day.nhn?code=018260&page=96\n",
      "https://finance.naver.com/item/sise_day.nhn?code=018260&page=97\n",
      "https://finance.naver.com/item/sise_day.nhn?code=018260&page=98\n",
      "https://finance.naver.com/item/sise_day.nhn?code=018260&page=99\n",
      "https://finance.naver.com/item/sise_day.nhn?code=018260&page=100\n",
      "https://finance.naver.com/item/sise_day.nhn?code=018260&page=101\n",
      "https://finance.naver.com/item/sise_day.nhn?code=018260&page=102\n",
      "https://finance.naver.com/item/sise_day.nhn?code=018260&page=103\n",
      "https://finance.naver.com/item/sise_day.nhn?code=018260&page=104\n",
      "https://finance.naver.com/item/sise_day.nhn?code=018260&page=105\n",
      "https://finance.naver.com/item/sise_day.nhn?code=018260&page=106\n",
      "https://finance.naver.com/item/sise_day.nhn?code=018260&page=107\n",
      "https://finance.naver.com/item/sise_day.nhn?code=018260&page=108\n",
      "https://finance.naver.com/item/sise_day.nhn?code=018260&page=109\n",
      "https://finance.naver.com/item/sise_day.nhn?code=018260&page=110\n",
      "https://finance.naver.com/item/sise_day.nhn?code=018260&page=111\n",
      "https://finance.naver.com/item/sise_day.nhn?code=018260&page=112\n",
      "https://finance.naver.com/item/sise_day.nhn?code=018260&page=113\n",
      "https://finance.naver.com/item/sise_day.nhn?code=018260&page=114\n",
      "https://finance.naver.com/item/sise_day.nhn?code=018260&page=115\n",
      "https://finance.naver.com/item/sise_day.nhn?code=018260&page=116\n",
      "https://finance.naver.com/item/sise_day.nhn?code=018260&page=117\n",
      "https://finance.naver.com/item/sise_day.nhn?code=018260&page=118\n",
      "https://finance.naver.com/item/sise_day.nhn?code=018260&page=119\n",
      "https://finance.naver.com/item/sise_day.nhn?code=018260&page=120\n",
      "https://finance.naver.com/item/sise_day.nhn?code=018260&page=121\n",
      "https://finance.naver.com/item/sise_day.nhn?code=018260&page=122\n",
      "https://finance.naver.com/item/sise_day.nhn?code=018260&page=123\n",
      "https://finance.naver.com/item/sise_day.nhn?code=018260&page=124\n",
      "https://finance.naver.com/item/sise_day.nhn?code=018260&page=125\n",
      "https://finance.naver.com/item/sise_day.nhn?code=018260&page=126\n",
      "https://finance.naver.com/item/sise_day.nhn?code=018260&page=127\n",
      "https://finance.naver.com/item/sise_day.nhn?code=018260&page=128\n",
      "https://finance.naver.com/item/sise_day.nhn?code=018260&page=129\n",
      "https://finance.naver.com/item/sise_day.nhn?code=018260&page=130\n",
      "https://finance.naver.com/item/sise_day.nhn?code=018260&page=131\n",
      "https://finance.naver.com/item/sise_day.nhn?code=018260&page=132\n",
      "https://finance.naver.com/item/sise_day.nhn?code=018260&page=133\n",
      "https://finance.naver.com/item/sise_day.nhn?code=018260&page=134\n",
      "https://finance.naver.com/item/sise_day.nhn?code=018260&page=135\n",
      "https://finance.naver.com/item/sise_day.nhn?code=018260&page=136\n",
      "https://finance.naver.com/item/sise_day.nhn?code=018260&page=137\n",
      "https://finance.naver.com/item/sise_day.nhn?code=018260&page=138\n",
      "https://finance.naver.com/item/sise_day.nhn?code=018260&page=139\n",
      "https://finance.naver.com/item/sise_day.nhn?code=018260&page=140\n",
      "https://finance.naver.com/item/sise_day.nhn?code=018260&page=141\n",
      "https://finance.naver.com/item/sise_day.nhn?code=018260&page=142\n",
      "https://finance.naver.com/item/sise_day.nhn?code=018260&page=143\n",
      "https://finance.naver.com/item/sise_day.nhn?code=018260&page=144\n",
      "https://finance.naver.com/item/sise_day.nhn?code=018260&page=145\n",
      "https://finance.naver.com/item/sise_day.nhn?code=018260&page=146\n",
      "https://finance.naver.com/item/sise_day.nhn?code=018260&page=147\n",
      "https://finance.naver.com/item/sise_day.nhn?code=018260&page=148\n",
      "https://finance.naver.com/item/sise_day.nhn?code=018260&page=149\n",
      "https://finance.naver.com/item/sise_day.nhn?code=018260&page=150\n",
      "https://finance.naver.com/item/sise_day.nhn?code=018260&page=151\n",
      "https://finance.naver.com/item/sise_day.nhn?code=018260&page=152\n",
      "https://finance.naver.com/item/sise_day.nhn?code=018260&page=153\n",
      "https://finance.naver.com/item/sise_day.nhn?code=018260&page=154\n",
      "https://finance.naver.com/item/sise_day.nhn?code=018260&page=155\n",
      "https://finance.naver.com/item/sise_day.nhn?code=018260&page=156\n",
      "https://finance.naver.com/item/sise_day.nhn?code=018260&page=157\n",
      "https://finance.naver.com/item/sise_day.nhn?code=018260&page=158\n"
     ]
    }
   ],
   "source": [
    "samsungsds = pd.DataFrame()\n",
    "sise_url = 'https://finance.naver.com/item/sise_day.nhn?code=018260'\n",
    "for page in range(1, 159):\n",
    "    page_url = '{}&page={}'.format(sise_url, page)\n",
    "    print(page_url)\n",
    "\n",
    "    response = requests.get(page_url, headers=headers)\n",
    "    html = bs(response.text, 'html.parser')\n",
    "    html_table = html.select(\"table\")\n",
    "    table = pd.read_html(str(html_table))\n",
    "\n",
    "    samsungsds = samsungsds.append(table[0].dropna())"
   ],
   "metadata": {
    "collapsed": false,
    "pycharm": {
     "name": "#%%\n"
    }
   }
  },
  {
   "cell_type": "code",
   "execution_count": 21,
   "outputs": [
    {
     "name": "stderr",
     "output_type": "stream",
     "text": [
      "C:\\Users\\msi\\AppData\\Local\\Temp/ipykernel_29564/3595981144.py:3: SettingWithCopyWarning: \n",
      "A value is trying to be set on a copy of a slice from a DataFrame\n",
      "\n",
      "See the caveats in the documentation: https://pandas.pydata.org/pandas-docs/stable/user_guide/indexing.html#returning-a-view-versus-a-copy\n",
      "  samsungsds.날짜[i] = samsungsds.날짜[i].replace('.', '')\n"
     ]
    }
   ],
   "source": [
    "samsungsds = samsungsds.reset_index(drop=True)\n",
    "for i in range(len(samsungsds['날짜'])):\n",
    "    samsungsds.날짜[i] = samsungsds.날짜[i].replace('.', '')\n",
    "samsungsds['회사명'] = '삼성에스디에스'"
   ],
   "metadata": {
    "collapsed": false,
    "pycharm": {
     "name": "#%%\n"
    }
   }
  },
  {
   "cell_type": "code",
   "execution_count": 22,
   "outputs": [],
   "source": [
    "samsungsds= samsungsds.drop(labels=['전일비', '시가', '고가', '저가', '거래량'],axis=1)"
   ],
   "metadata": {
    "collapsed": false,
    "pycharm": {
     "name": "#%%\n"
    }
   }
  },
  {
   "cell_type": "code",
   "execution_count": 23,
   "outputs": [
    {
     "data": {
      "text/plain": "            날짜        종가      회사명\n0     20230519  121900.0  삼성에스디에스\n1     20230518  119900.0  삼성에스디에스\n2     20230517  118800.0  삼성에스디에스\n3     20230516  116800.0  삼성에스디에스\n4     20230515  117200.0  삼성에스디에스\n...        ...       ...      ...\n1575  20161222  137000.0  삼성에스디에스\n1576  20161221  139500.0  삼성에스디에스\n1577  20161220  132000.0  삼성에스디에스\n1578  20161219  132500.0  삼성에스디에스\n1579  20161216  133500.0  삼성에스디에스\n\n[1580 rows x 3 columns]",
      "text/html": "<div>\n<style scoped>\n    .dataframe tbody tr th:only-of-type {\n        vertical-align: middle;\n    }\n\n    .dataframe tbody tr th {\n        vertical-align: top;\n    }\n\n    .dataframe thead th {\n        text-align: right;\n    }\n</style>\n<table border=\"1\" class=\"dataframe\">\n  <thead>\n    <tr style=\"text-align: right;\">\n      <th></th>\n      <th>날짜</th>\n      <th>종가</th>\n      <th>회사명</th>\n    </tr>\n  </thead>\n  <tbody>\n    <tr>\n      <th>0</th>\n      <td>20230519</td>\n      <td>121900.0</td>\n      <td>삼성에스디에스</td>\n    </tr>\n    <tr>\n      <th>1</th>\n      <td>20230518</td>\n      <td>119900.0</td>\n      <td>삼성에스디에스</td>\n    </tr>\n    <tr>\n      <th>2</th>\n      <td>20230517</td>\n      <td>118800.0</td>\n      <td>삼성에스디에스</td>\n    </tr>\n    <tr>\n      <th>3</th>\n      <td>20230516</td>\n      <td>116800.0</td>\n      <td>삼성에스디에스</td>\n    </tr>\n    <tr>\n      <th>4</th>\n      <td>20230515</td>\n      <td>117200.0</td>\n      <td>삼성에스디에스</td>\n    </tr>\n    <tr>\n      <th>...</th>\n      <td>...</td>\n      <td>...</td>\n      <td>...</td>\n    </tr>\n    <tr>\n      <th>1575</th>\n      <td>20161222</td>\n      <td>137000.0</td>\n      <td>삼성에스디에스</td>\n    </tr>\n    <tr>\n      <th>1576</th>\n      <td>20161221</td>\n      <td>139500.0</td>\n      <td>삼성에스디에스</td>\n    </tr>\n    <tr>\n      <th>1577</th>\n      <td>20161220</td>\n      <td>132000.0</td>\n      <td>삼성에스디에스</td>\n    </tr>\n    <tr>\n      <th>1578</th>\n      <td>20161219</td>\n      <td>132500.0</td>\n      <td>삼성에스디에스</td>\n    </tr>\n    <tr>\n      <th>1579</th>\n      <td>20161216</td>\n      <td>133500.0</td>\n      <td>삼성에스디에스</td>\n    </tr>\n  </tbody>\n</table>\n<p>1580 rows × 3 columns</p>\n</div>"
     },
     "execution_count": 23,
     "metadata": {},
     "output_type": "execute_result"
    }
   ],
   "source": [
    "samsungsds"
   ],
   "metadata": {
    "collapsed": false,
    "pycharm": {
     "name": "#%%\n"
    }
   }
  },
  {
   "cell_type": "code",
   "execution_count": 24,
   "outputs": [
    {
     "name": "stdout",
     "output_type": "stream",
     "text": [
      "https://finance.naver.com/item/sise_day.nhn?code=066570&page=10\n",
      "https://finance.naver.com/item/sise_day.nhn?code=066570&page=11\n",
      "https://finance.naver.com/item/sise_day.nhn?code=066570&page=12\n",
      "https://finance.naver.com/item/sise_day.nhn?code=066570&page=13\n",
      "https://finance.naver.com/item/sise_day.nhn?code=066570&page=14\n",
      "https://finance.naver.com/item/sise_day.nhn?code=066570&page=15\n",
      "https://finance.naver.com/item/sise_day.nhn?code=066570&page=16\n",
      "https://finance.naver.com/item/sise_day.nhn?code=066570&page=17\n",
      "https://finance.naver.com/item/sise_day.nhn?code=066570&page=18\n",
      "https://finance.naver.com/item/sise_day.nhn?code=066570&page=19\n",
      "https://finance.naver.com/item/sise_day.nhn?code=066570&page=20\n",
      "https://finance.naver.com/item/sise_day.nhn?code=066570&page=21\n",
      "https://finance.naver.com/item/sise_day.nhn?code=066570&page=22\n",
      "https://finance.naver.com/item/sise_day.nhn?code=066570&page=23\n",
      "https://finance.naver.com/item/sise_day.nhn?code=066570&page=24\n",
      "https://finance.naver.com/item/sise_day.nhn?code=066570&page=25\n",
      "https://finance.naver.com/item/sise_day.nhn?code=066570&page=26\n",
      "https://finance.naver.com/item/sise_day.nhn?code=066570&page=27\n",
      "https://finance.naver.com/item/sise_day.nhn?code=066570&page=28\n",
      "https://finance.naver.com/item/sise_day.nhn?code=066570&page=29\n",
      "https://finance.naver.com/item/sise_day.nhn?code=066570&page=30\n",
      "https://finance.naver.com/item/sise_day.nhn?code=066570&page=31\n",
      "https://finance.naver.com/item/sise_day.nhn?code=066570&page=32\n",
      "https://finance.naver.com/item/sise_day.nhn?code=066570&page=33\n",
      "https://finance.naver.com/item/sise_day.nhn?code=066570&page=34\n",
      "https://finance.naver.com/item/sise_day.nhn?code=066570&page=35\n",
      "https://finance.naver.com/item/sise_day.nhn?code=066570&page=36\n",
      "https://finance.naver.com/item/sise_day.nhn?code=066570&page=37\n",
      "https://finance.naver.com/item/sise_day.nhn?code=066570&page=38\n",
      "https://finance.naver.com/item/sise_day.nhn?code=066570&page=39\n",
      "https://finance.naver.com/item/sise_day.nhn?code=066570&page=40\n",
      "https://finance.naver.com/item/sise_day.nhn?code=066570&page=41\n",
      "https://finance.naver.com/item/sise_day.nhn?code=066570&page=42\n",
      "https://finance.naver.com/item/sise_day.nhn?code=066570&page=43\n",
      "https://finance.naver.com/item/sise_day.nhn?code=066570&page=44\n",
      "https://finance.naver.com/item/sise_day.nhn?code=066570&page=45\n",
      "https://finance.naver.com/item/sise_day.nhn?code=066570&page=46\n",
      "https://finance.naver.com/item/sise_day.nhn?code=066570&page=47\n",
      "https://finance.naver.com/item/sise_day.nhn?code=066570&page=48\n",
      "https://finance.naver.com/item/sise_day.nhn?code=066570&page=49\n",
      "https://finance.naver.com/item/sise_day.nhn?code=066570&page=50\n",
      "https://finance.naver.com/item/sise_day.nhn?code=066570&page=51\n",
      "https://finance.naver.com/item/sise_day.nhn?code=066570&page=52\n",
      "https://finance.naver.com/item/sise_day.nhn?code=066570&page=53\n",
      "https://finance.naver.com/item/sise_day.nhn?code=066570&page=54\n",
      "https://finance.naver.com/item/sise_day.nhn?code=066570&page=55\n",
      "https://finance.naver.com/item/sise_day.nhn?code=066570&page=56\n",
      "https://finance.naver.com/item/sise_day.nhn?code=066570&page=57\n",
      "https://finance.naver.com/item/sise_day.nhn?code=066570&page=58\n",
      "https://finance.naver.com/item/sise_day.nhn?code=066570&page=59\n",
      "https://finance.naver.com/item/sise_day.nhn?code=066570&page=60\n",
      "https://finance.naver.com/item/sise_day.nhn?code=066570&page=61\n",
      "https://finance.naver.com/item/sise_day.nhn?code=066570&page=62\n",
      "https://finance.naver.com/item/sise_day.nhn?code=066570&page=63\n",
      "https://finance.naver.com/item/sise_day.nhn?code=066570&page=64\n",
      "https://finance.naver.com/item/sise_day.nhn?code=066570&page=65\n",
      "https://finance.naver.com/item/sise_day.nhn?code=066570&page=66\n",
      "https://finance.naver.com/item/sise_day.nhn?code=066570&page=67\n",
      "https://finance.naver.com/item/sise_day.nhn?code=066570&page=68\n",
      "https://finance.naver.com/item/sise_day.nhn?code=066570&page=69\n",
      "https://finance.naver.com/item/sise_day.nhn?code=066570&page=70\n",
      "https://finance.naver.com/item/sise_day.nhn?code=066570&page=71\n",
      "https://finance.naver.com/item/sise_day.nhn?code=066570&page=72\n",
      "https://finance.naver.com/item/sise_day.nhn?code=066570&page=73\n",
      "https://finance.naver.com/item/sise_day.nhn?code=066570&page=74\n",
      "https://finance.naver.com/item/sise_day.nhn?code=066570&page=75\n",
      "https://finance.naver.com/item/sise_day.nhn?code=066570&page=76\n",
      "https://finance.naver.com/item/sise_day.nhn?code=066570&page=77\n",
      "https://finance.naver.com/item/sise_day.nhn?code=066570&page=78\n",
      "https://finance.naver.com/item/sise_day.nhn?code=066570&page=79\n",
      "https://finance.naver.com/item/sise_day.nhn?code=066570&page=80\n",
      "https://finance.naver.com/item/sise_day.nhn?code=066570&page=81\n",
      "https://finance.naver.com/item/sise_day.nhn?code=066570&page=82\n",
      "https://finance.naver.com/item/sise_day.nhn?code=066570&page=83\n",
      "https://finance.naver.com/item/sise_day.nhn?code=066570&page=84\n",
      "https://finance.naver.com/item/sise_day.nhn?code=066570&page=85\n",
      "https://finance.naver.com/item/sise_day.nhn?code=066570&page=86\n",
      "https://finance.naver.com/item/sise_day.nhn?code=066570&page=87\n",
      "https://finance.naver.com/item/sise_day.nhn?code=066570&page=88\n",
      "https://finance.naver.com/item/sise_day.nhn?code=066570&page=89\n",
      "https://finance.naver.com/item/sise_day.nhn?code=066570&page=90\n",
      "https://finance.naver.com/item/sise_day.nhn?code=066570&page=91\n",
      "https://finance.naver.com/item/sise_day.nhn?code=066570&page=92\n",
      "https://finance.naver.com/item/sise_day.nhn?code=066570&page=93\n",
      "https://finance.naver.com/item/sise_day.nhn?code=066570&page=94\n",
      "https://finance.naver.com/item/sise_day.nhn?code=066570&page=95\n",
      "https://finance.naver.com/item/sise_day.nhn?code=066570&page=96\n",
      "https://finance.naver.com/item/sise_day.nhn?code=066570&page=97\n",
      "https://finance.naver.com/item/sise_day.nhn?code=066570&page=98\n",
      "https://finance.naver.com/item/sise_day.nhn?code=066570&page=99\n",
      "https://finance.naver.com/item/sise_day.nhn?code=066570&page=100\n",
      "https://finance.naver.com/item/sise_day.nhn?code=066570&page=101\n",
      "https://finance.naver.com/item/sise_day.nhn?code=066570&page=102\n",
      "https://finance.naver.com/item/sise_day.nhn?code=066570&page=103\n",
      "https://finance.naver.com/item/sise_day.nhn?code=066570&page=104\n",
      "https://finance.naver.com/item/sise_day.nhn?code=066570&page=105\n",
      "https://finance.naver.com/item/sise_day.nhn?code=066570&page=106\n",
      "https://finance.naver.com/item/sise_day.nhn?code=066570&page=107\n",
      "https://finance.naver.com/item/sise_day.nhn?code=066570&page=108\n",
      "https://finance.naver.com/item/sise_day.nhn?code=066570&page=109\n",
      "https://finance.naver.com/item/sise_day.nhn?code=066570&page=110\n",
      "https://finance.naver.com/item/sise_day.nhn?code=066570&page=111\n",
      "https://finance.naver.com/item/sise_day.nhn?code=066570&page=112\n",
      "https://finance.naver.com/item/sise_day.nhn?code=066570&page=113\n",
      "https://finance.naver.com/item/sise_day.nhn?code=066570&page=114\n",
      "https://finance.naver.com/item/sise_day.nhn?code=066570&page=115\n",
      "https://finance.naver.com/item/sise_day.nhn?code=066570&page=116\n",
      "https://finance.naver.com/item/sise_day.nhn?code=066570&page=117\n",
      "https://finance.naver.com/item/sise_day.nhn?code=066570&page=118\n",
      "https://finance.naver.com/item/sise_day.nhn?code=066570&page=119\n",
      "https://finance.naver.com/item/sise_day.nhn?code=066570&page=120\n",
      "https://finance.naver.com/item/sise_day.nhn?code=066570&page=121\n",
      "https://finance.naver.com/item/sise_day.nhn?code=066570&page=122\n",
      "https://finance.naver.com/item/sise_day.nhn?code=066570&page=123\n",
      "https://finance.naver.com/item/sise_day.nhn?code=066570&page=124\n",
      "https://finance.naver.com/item/sise_day.nhn?code=066570&page=125\n",
      "https://finance.naver.com/item/sise_day.nhn?code=066570&page=126\n",
      "https://finance.naver.com/item/sise_day.nhn?code=066570&page=127\n",
      "https://finance.naver.com/item/sise_day.nhn?code=066570&page=128\n",
      "https://finance.naver.com/item/sise_day.nhn?code=066570&page=129\n",
      "https://finance.naver.com/item/sise_day.nhn?code=066570&page=130\n",
      "https://finance.naver.com/item/sise_day.nhn?code=066570&page=131\n",
      "https://finance.naver.com/item/sise_day.nhn?code=066570&page=132\n",
      "https://finance.naver.com/item/sise_day.nhn?code=066570&page=133\n",
      "https://finance.naver.com/item/sise_day.nhn?code=066570&page=134\n",
      "https://finance.naver.com/item/sise_day.nhn?code=066570&page=135\n",
      "https://finance.naver.com/item/sise_day.nhn?code=066570&page=136\n",
      "https://finance.naver.com/item/sise_day.nhn?code=066570&page=137\n",
      "https://finance.naver.com/item/sise_day.nhn?code=066570&page=138\n",
      "https://finance.naver.com/item/sise_day.nhn?code=066570&page=139\n",
      "https://finance.naver.com/item/sise_day.nhn?code=066570&page=140\n",
      "https://finance.naver.com/item/sise_day.nhn?code=066570&page=141\n",
      "https://finance.naver.com/item/sise_day.nhn?code=066570&page=142\n",
      "https://finance.naver.com/item/sise_day.nhn?code=066570&page=143\n",
      "https://finance.naver.com/item/sise_day.nhn?code=066570&page=144\n",
      "https://finance.naver.com/item/sise_day.nhn?code=066570&page=145\n",
      "https://finance.naver.com/item/sise_day.nhn?code=066570&page=146\n",
      "https://finance.naver.com/item/sise_day.nhn?code=066570&page=147\n",
      "https://finance.naver.com/item/sise_day.nhn?code=066570&page=148\n",
      "https://finance.naver.com/item/sise_day.nhn?code=066570&page=149\n",
      "https://finance.naver.com/item/sise_day.nhn?code=066570&page=150\n",
      "https://finance.naver.com/item/sise_day.nhn?code=066570&page=151\n",
      "https://finance.naver.com/item/sise_day.nhn?code=066570&page=152\n",
      "https://finance.naver.com/item/sise_day.nhn?code=066570&page=153\n",
      "https://finance.naver.com/item/sise_day.nhn?code=066570&page=154\n",
      "https://finance.naver.com/item/sise_day.nhn?code=066570&page=155\n",
      "https://finance.naver.com/item/sise_day.nhn?code=066570&page=156\n",
      "https://finance.naver.com/item/sise_day.nhn?code=066570&page=157\n",
      "https://finance.naver.com/item/sise_day.nhn?code=066570&page=158\n"
     ]
    }
   ],
   "source": [
    "lgelc = pd.DataFrame()\n",
    "sise_url = 'https://finance.naver.com/item/sise_day.nhn?code=066570'\n",
    "for page in range(10, 159):\n",
    "    page_url = '{}&page={}'.format(sise_url, page)\n",
    "    print(page_url)\n",
    "\n",
    "    response = requests.get(page_url, headers=headers)\n",
    "    html = bs(response.text, 'html.parser')\n",
    "    html_table = html.select(\"table\")\n",
    "    table = pd.read_html(str(html_table))\n",
    "\n",
    "    lgelc = lgelc.append(table[0].dropna())"
   ],
   "metadata": {
    "collapsed": false,
    "pycharm": {
     "name": "#%%\n"
    }
   }
  },
  {
   "cell_type": "code",
   "execution_count": 25,
   "outputs": [
    {
     "name": "stderr",
     "output_type": "stream",
     "text": [
      "C:\\Users\\msi\\AppData\\Local\\Temp/ipykernel_29564/1583082163.py:3: SettingWithCopyWarning: \n",
      "A value is trying to be set on a copy of a slice from a DataFrame\n",
      "\n",
      "See the caveats in the documentation: https://pandas.pydata.org/pandas-docs/stable/user_guide/indexing.html#returning-a-view-versus-a-copy\n",
      "  lgelc.날짜[i] = lgelc.날짜[i].replace('.', '')\n"
     ]
    }
   ],
   "source": [
    "lgelc = lgelc.reset_index(drop=True)\n",
    "for i in range(len(lgelc['날짜'])):\n",
    "    lgelc.날짜[i] = lgelc.날짜[i].replace('.', '')\n",
    "lgelc['회사명'] = 'LG전자'"
   ],
   "metadata": {
    "collapsed": false,
    "pycharm": {
     "name": "#%%\n"
    }
   }
  },
  {
   "cell_type": "code",
   "execution_count": 26,
   "outputs": [],
   "source": [
    "lgelc = lgelc.drop(labels=['전일비', '시가', '고가', '저가', '거래량'],axis=1)"
   ],
   "metadata": {
    "collapsed": false,
    "pycharm": {
     "name": "#%%\n"
    }
   }
  },
  {
   "cell_type": "code",
   "execution_count": 27,
   "outputs": [
    {
     "data": {
      "text/plain": "            날짜       종가   회사명\n0     20230106  90700.0  LG전자\n1     20230105  89900.0  LG전자\n2     20230104  89700.0  LG전자\n3     20230103  85700.0  LG전자\n4     20230102  86400.0  LG전자\n...        ...      ...   ...\n1485  20161222  49400.0  LG전자\n1486  20161221  48200.0  LG전자\n1487  20161220  47800.0  LG전자\n1488  20161219  47700.0  LG전자\n1489  20161216  47850.0  LG전자\n\n[1490 rows x 3 columns]",
      "text/html": "<div>\n<style scoped>\n    .dataframe tbody tr th:only-of-type {\n        vertical-align: middle;\n    }\n\n    .dataframe tbody tr th {\n        vertical-align: top;\n    }\n\n    .dataframe thead th {\n        text-align: right;\n    }\n</style>\n<table border=\"1\" class=\"dataframe\">\n  <thead>\n    <tr style=\"text-align: right;\">\n      <th></th>\n      <th>날짜</th>\n      <th>종가</th>\n      <th>회사명</th>\n    </tr>\n  </thead>\n  <tbody>\n    <tr>\n      <th>0</th>\n      <td>20230106</td>\n      <td>90700.0</td>\n      <td>LG전자</td>\n    </tr>\n    <tr>\n      <th>1</th>\n      <td>20230105</td>\n      <td>89900.0</td>\n      <td>LG전자</td>\n    </tr>\n    <tr>\n      <th>2</th>\n      <td>20230104</td>\n      <td>89700.0</td>\n      <td>LG전자</td>\n    </tr>\n    <tr>\n      <th>3</th>\n      <td>20230103</td>\n      <td>85700.0</td>\n      <td>LG전자</td>\n    </tr>\n    <tr>\n      <th>4</th>\n      <td>20230102</td>\n      <td>86400.0</td>\n      <td>LG전자</td>\n    </tr>\n    <tr>\n      <th>...</th>\n      <td>...</td>\n      <td>...</td>\n      <td>...</td>\n    </tr>\n    <tr>\n      <th>1485</th>\n      <td>20161222</td>\n      <td>49400.0</td>\n      <td>LG전자</td>\n    </tr>\n    <tr>\n      <th>1486</th>\n      <td>20161221</td>\n      <td>48200.0</td>\n      <td>LG전자</td>\n    </tr>\n    <tr>\n      <th>1487</th>\n      <td>20161220</td>\n      <td>47800.0</td>\n      <td>LG전자</td>\n    </tr>\n    <tr>\n      <th>1488</th>\n      <td>20161219</td>\n      <td>47700.0</td>\n      <td>LG전자</td>\n    </tr>\n    <tr>\n      <th>1489</th>\n      <td>20161216</td>\n      <td>47850.0</td>\n      <td>LG전자</td>\n    </tr>\n  </tbody>\n</table>\n<p>1490 rows × 3 columns</p>\n</div>"
     },
     "execution_count": 27,
     "metadata": {},
     "output_type": "execute_result"
    }
   ],
   "source": [
    "lgelc"
   ],
   "metadata": {
    "collapsed": false,
    "pycharm": {
     "name": "#%%\n"
    }
   }
  },
  {
   "cell_type": "code",
   "execution_count": 28,
   "outputs": [
    {
     "name": "stdout",
     "output_type": "stream",
     "text": [
      "https://finance.naver.com/item/sise_day.nhn?code=000660&page=10\n",
      "https://finance.naver.com/item/sise_day.nhn?code=000660&page=11\n",
      "https://finance.naver.com/item/sise_day.nhn?code=000660&page=12\n",
      "https://finance.naver.com/item/sise_day.nhn?code=000660&page=13\n",
      "https://finance.naver.com/item/sise_day.nhn?code=000660&page=14\n",
      "https://finance.naver.com/item/sise_day.nhn?code=000660&page=15\n",
      "https://finance.naver.com/item/sise_day.nhn?code=000660&page=16\n",
      "https://finance.naver.com/item/sise_day.nhn?code=000660&page=17\n",
      "https://finance.naver.com/item/sise_day.nhn?code=000660&page=18\n",
      "https://finance.naver.com/item/sise_day.nhn?code=000660&page=19\n",
      "https://finance.naver.com/item/sise_day.nhn?code=000660&page=20\n",
      "https://finance.naver.com/item/sise_day.nhn?code=000660&page=21\n",
      "https://finance.naver.com/item/sise_day.nhn?code=000660&page=22\n",
      "https://finance.naver.com/item/sise_day.nhn?code=000660&page=23\n",
      "https://finance.naver.com/item/sise_day.nhn?code=000660&page=24\n",
      "https://finance.naver.com/item/sise_day.nhn?code=000660&page=25\n",
      "https://finance.naver.com/item/sise_day.nhn?code=000660&page=26\n",
      "https://finance.naver.com/item/sise_day.nhn?code=000660&page=27\n",
      "https://finance.naver.com/item/sise_day.nhn?code=000660&page=28\n",
      "https://finance.naver.com/item/sise_day.nhn?code=000660&page=29\n",
      "https://finance.naver.com/item/sise_day.nhn?code=000660&page=30\n",
      "https://finance.naver.com/item/sise_day.nhn?code=000660&page=31\n",
      "https://finance.naver.com/item/sise_day.nhn?code=000660&page=32\n",
      "https://finance.naver.com/item/sise_day.nhn?code=000660&page=33\n",
      "https://finance.naver.com/item/sise_day.nhn?code=000660&page=34\n",
      "https://finance.naver.com/item/sise_day.nhn?code=000660&page=35\n",
      "https://finance.naver.com/item/sise_day.nhn?code=000660&page=36\n",
      "https://finance.naver.com/item/sise_day.nhn?code=000660&page=37\n",
      "https://finance.naver.com/item/sise_day.nhn?code=000660&page=38\n",
      "https://finance.naver.com/item/sise_day.nhn?code=000660&page=39\n",
      "https://finance.naver.com/item/sise_day.nhn?code=000660&page=40\n",
      "https://finance.naver.com/item/sise_day.nhn?code=000660&page=41\n",
      "https://finance.naver.com/item/sise_day.nhn?code=000660&page=42\n",
      "https://finance.naver.com/item/sise_day.nhn?code=000660&page=43\n",
      "https://finance.naver.com/item/sise_day.nhn?code=000660&page=44\n",
      "https://finance.naver.com/item/sise_day.nhn?code=000660&page=45\n",
      "https://finance.naver.com/item/sise_day.nhn?code=000660&page=46\n",
      "https://finance.naver.com/item/sise_day.nhn?code=000660&page=47\n",
      "https://finance.naver.com/item/sise_day.nhn?code=000660&page=48\n",
      "https://finance.naver.com/item/sise_day.nhn?code=000660&page=49\n",
      "https://finance.naver.com/item/sise_day.nhn?code=000660&page=50\n",
      "https://finance.naver.com/item/sise_day.nhn?code=000660&page=51\n",
      "https://finance.naver.com/item/sise_day.nhn?code=000660&page=52\n",
      "https://finance.naver.com/item/sise_day.nhn?code=000660&page=53\n",
      "https://finance.naver.com/item/sise_day.nhn?code=000660&page=54\n",
      "https://finance.naver.com/item/sise_day.nhn?code=000660&page=55\n",
      "https://finance.naver.com/item/sise_day.nhn?code=000660&page=56\n",
      "https://finance.naver.com/item/sise_day.nhn?code=000660&page=57\n",
      "https://finance.naver.com/item/sise_day.nhn?code=000660&page=58\n",
      "https://finance.naver.com/item/sise_day.nhn?code=000660&page=59\n",
      "https://finance.naver.com/item/sise_day.nhn?code=000660&page=60\n",
      "https://finance.naver.com/item/sise_day.nhn?code=000660&page=61\n",
      "https://finance.naver.com/item/sise_day.nhn?code=000660&page=62\n",
      "https://finance.naver.com/item/sise_day.nhn?code=000660&page=63\n",
      "https://finance.naver.com/item/sise_day.nhn?code=000660&page=64\n",
      "https://finance.naver.com/item/sise_day.nhn?code=000660&page=65\n",
      "https://finance.naver.com/item/sise_day.nhn?code=000660&page=66\n",
      "https://finance.naver.com/item/sise_day.nhn?code=000660&page=67\n",
      "https://finance.naver.com/item/sise_day.nhn?code=000660&page=68\n",
      "https://finance.naver.com/item/sise_day.nhn?code=000660&page=69\n",
      "https://finance.naver.com/item/sise_day.nhn?code=000660&page=70\n",
      "https://finance.naver.com/item/sise_day.nhn?code=000660&page=71\n",
      "https://finance.naver.com/item/sise_day.nhn?code=000660&page=72\n",
      "https://finance.naver.com/item/sise_day.nhn?code=000660&page=73\n",
      "https://finance.naver.com/item/sise_day.nhn?code=000660&page=74\n",
      "https://finance.naver.com/item/sise_day.nhn?code=000660&page=75\n",
      "https://finance.naver.com/item/sise_day.nhn?code=000660&page=76\n",
      "https://finance.naver.com/item/sise_day.nhn?code=000660&page=77\n",
      "https://finance.naver.com/item/sise_day.nhn?code=000660&page=78\n",
      "https://finance.naver.com/item/sise_day.nhn?code=000660&page=79\n",
      "https://finance.naver.com/item/sise_day.nhn?code=000660&page=80\n",
      "https://finance.naver.com/item/sise_day.nhn?code=000660&page=81\n",
      "https://finance.naver.com/item/sise_day.nhn?code=000660&page=82\n",
      "https://finance.naver.com/item/sise_day.nhn?code=000660&page=83\n",
      "https://finance.naver.com/item/sise_day.nhn?code=000660&page=84\n",
      "https://finance.naver.com/item/sise_day.nhn?code=000660&page=85\n",
      "https://finance.naver.com/item/sise_day.nhn?code=000660&page=86\n",
      "https://finance.naver.com/item/sise_day.nhn?code=000660&page=87\n",
      "https://finance.naver.com/item/sise_day.nhn?code=000660&page=88\n",
      "https://finance.naver.com/item/sise_day.nhn?code=000660&page=89\n",
      "https://finance.naver.com/item/sise_day.nhn?code=000660&page=90\n",
      "https://finance.naver.com/item/sise_day.nhn?code=000660&page=91\n",
      "https://finance.naver.com/item/sise_day.nhn?code=000660&page=92\n",
      "https://finance.naver.com/item/sise_day.nhn?code=000660&page=93\n",
      "https://finance.naver.com/item/sise_day.nhn?code=000660&page=94\n",
      "https://finance.naver.com/item/sise_day.nhn?code=000660&page=95\n",
      "https://finance.naver.com/item/sise_day.nhn?code=000660&page=96\n",
      "https://finance.naver.com/item/sise_day.nhn?code=000660&page=97\n",
      "https://finance.naver.com/item/sise_day.nhn?code=000660&page=98\n",
      "https://finance.naver.com/item/sise_day.nhn?code=000660&page=99\n",
      "https://finance.naver.com/item/sise_day.nhn?code=000660&page=100\n",
      "https://finance.naver.com/item/sise_day.nhn?code=000660&page=101\n",
      "https://finance.naver.com/item/sise_day.nhn?code=000660&page=102\n",
      "https://finance.naver.com/item/sise_day.nhn?code=000660&page=103\n",
      "https://finance.naver.com/item/sise_day.nhn?code=000660&page=104\n",
      "https://finance.naver.com/item/sise_day.nhn?code=000660&page=105\n",
      "https://finance.naver.com/item/sise_day.nhn?code=000660&page=106\n",
      "https://finance.naver.com/item/sise_day.nhn?code=000660&page=107\n",
      "https://finance.naver.com/item/sise_day.nhn?code=000660&page=108\n",
      "https://finance.naver.com/item/sise_day.nhn?code=000660&page=109\n",
      "https://finance.naver.com/item/sise_day.nhn?code=000660&page=110\n",
      "https://finance.naver.com/item/sise_day.nhn?code=000660&page=111\n",
      "https://finance.naver.com/item/sise_day.nhn?code=000660&page=112\n",
      "https://finance.naver.com/item/sise_day.nhn?code=000660&page=113\n",
      "https://finance.naver.com/item/sise_day.nhn?code=000660&page=114\n",
      "https://finance.naver.com/item/sise_day.nhn?code=000660&page=115\n",
      "https://finance.naver.com/item/sise_day.nhn?code=000660&page=116\n",
      "https://finance.naver.com/item/sise_day.nhn?code=000660&page=117\n",
      "https://finance.naver.com/item/sise_day.nhn?code=000660&page=118\n",
      "https://finance.naver.com/item/sise_day.nhn?code=000660&page=119\n",
      "https://finance.naver.com/item/sise_day.nhn?code=000660&page=120\n",
      "https://finance.naver.com/item/sise_day.nhn?code=000660&page=121\n",
      "https://finance.naver.com/item/sise_day.nhn?code=000660&page=122\n",
      "https://finance.naver.com/item/sise_day.nhn?code=000660&page=123\n",
      "https://finance.naver.com/item/sise_day.nhn?code=000660&page=124\n",
      "https://finance.naver.com/item/sise_day.nhn?code=000660&page=125\n",
      "https://finance.naver.com/item/sise_day.nhn?code=000660&page=126\n",
      "https://finance.naver.com/item/sise_day.nhn?code=000660&page=127\n",
      "https://finance.naver.com/item/sise_day.nhn?code=000660&page=128\n",
      "https://finance.naver.com/item/sise_day.nhn?code=000660&page=129\n",
      "https://finance.naver.com/item/sise_day.nhn?code=000660&page=130\n",
      "https://finance.naver.com/item/sise_day.nhn?code=000660&page=131\n",
      "https://finance.naver.com/item/sise_day.nhn?code=000660&page=132\n",
      "https://finance.naver.com/item/sise_day.nhn?code=000660&page=133\n",
      "https://finance.naver.com/item/sise_day.nhn?code=000660&page=134\n",
      "https://finance.naver.com/item/sise_day.nhn?code=000660&page=135\n",
      "https://finance.naver.com/item/sise_day.nhn?code=000660&page=136\n",
      "https://finance.naver.com/item/sise_day.nhn?code=000660&page=137\n",
      "https://finance.naver.com/item/sise_day.nhn?code=000660&page=138\n",
      "https://finance.naver.com/item/sise_day.nhn?code=000660&page=139\n",
      "https://finance.naver.com/item/sise_day.nhn?code=000660&page=140\n",
      "https://finance.naver.com/item/sise_day.nhn?code=000660&page=141\n",
      "https://finance.naver.com/item/sise_day.nhn?code=000660&page=142\n",
      "https://finance.naver.com/item/sise_day.nhn?code=000660&page=143\n",
      "https://finance.naver.com/item/sise_day.nhn?code=000660&page=144\n",
      "https://finance.naver.com/item/sise_day.nhn?code=000660&page=145\n",
      "https://finance.naver.com/item/sise_day.nhn?code=000660&page=146\n",
      "https://finance.naver.com/item/sise_day.nhn?code=000660&page=147\n",
      "https://finance.naver.com/item/sise_day.nhn?code=000660&page=148\n",
      "https://finance.naver.com/item/sise_day.nhn?code=000660&page=149\n",
      "https://finance.naver.com/item/sise_day.nhn?code=000660&page=150\n",
      "https://finance.naver.com/item/sise_day.nhn?code=000660&page=151\n",
      "https://finance.naver.com/item/sise_day.nhn?code=000660&page=152\n",
      "https://finance.naver.com/item/sise_day.nhn?code=000660&page=153\n",
      "https://finance.naver.com/item/sise_day.nhn?code=000660&page=154\n",
      "https://finance.naver.com/item/sise_day.nhn?code=000660&page=155\n",
      "https://finance.naver.com/item/sise_day.nhn?code=000660&page=156\n",
      "https://finance.naver.com/item/sise_day.nhn?code=000660&page=157\n",
      "https://finance.naver.com/item/sise_day.nhn?code=000660&page=158\n"
     ]
    }
   ],
   "source": [
    "sk = pd.DataFrame()\n",
    "sise_url = 'https://finance.naver.com/item/sise_day.nhn?code=000660'\n",
    "for page in range(10, 159):\n",
    "    page_url = '{}&page={}'.format(sise_url, page)\n",
    "    print(page_url)\n",
    "\n",
    "    response = requests.get(page_url, headers=headers)\n",
    "    html = bs(response.text, 'html.parser')\n",
    "    html_table = html.select(\"table\")\n",
    "    table = pd.read_html(str(html_table))\n",
    "\n",
    "    sk = sk.append(table[0].dropna())"
   ],
   "metadata": {
    "collapsed": false,
    "pycharm": {
     "name": "#%%\n"
    }
   }
  },
  {
   "cell_type": "code",
   "execution_count": 29,
   "outputs": [
    {
     "name": "stderr",
     "output_type": "stream",
     "text": [
      "C:\\Users\\msi\\AppData\\Local\\Temp/ipykernel_29564/908511715.py:3: SettingWithCopyWarning: \n",
      "A value is trying to be set on a copy of a slice from a DataFrame\n",
      "\n",
      "See the caveats in the documentation: https://pandas.pydata.org/pandas-docs/stable/user_guide/indexing.html#returning-a-view-versus-a-copy\n",
      "  sk.날짜[i] = sk.날짜[i].replace('.', '')\n"
     ]
    }
   ],
   "source": [
    "sk = sk.reset_index(drop=True)\n",
    "for i in range(len(sk['날짜'])):\n",
    "    sk.날짜[i] = sk.날짜[i].replace('.', '')\n",
    "sk['회사명'] = 'SK하이닉스'"
   ],
   "metadata": {
    "collapsed": false,
    "pycharm": {
     "name": "#%%\n"
    }
   }
  },
  {
   "cell_type": "code",
   "execution_count": 30,
   "outputs": [],
   "source": [
    "sk = sk.drop(labels=['전일비', '시가', '고가', '저가', '거래량'],axis=1)"
   ],
   "metadata": {
    "collapsed": false,
    "pycharm": {
     "name": "#%%\n"
    }
   }
  },
  {
   "cell_type": "code",
   "execution_count": 31,
   "outputs": [
    {
     "data": {
      "text/plain": "            날짜       종가     회사명\n0     20230106  83100.0  SK하이닉스\n1     20230105  81400.0  SK하이닉스\n2     20230104  81000.0  SK하이닉스\n3     20230103  75600.0  SK하이닉스\n4     20230102  75700.0  SK하이닉스\n...        ...      ...     ...\n1485  20161222  45500.0  SK하이닉스\n1486  20161221  45000.0  SK하이닉스\n1487  20161220  45150.0  SK하이닉스\n1488  20161219  45150.0  SK하이닉스\n1489  20161216  46400.0  SK하이닉스\n\n[1490 rows x 3 columns]",
      "text/html": "<div>\n<style scoped>\n    .dataframe tbody tr th:only-of-type {\n        vertical-align: middle;\n    }\n\n    .dataframe tbody tr th {\n        vertical-align: top;\n    }\n\n    .dataframe thead th {\n        text-align: right;\n    }\n</style>\n<table border=\"1\" class=\"dataframe\">\n  <thead>\n    <tr style=\"text-align: right;\">\n      <th></th>\n      <th>날짜</th>\n      <th>종가</th>\n      <th>회사명</th>\n    </tr>\n  </thead>\n  <tbody>\n    <tr>\n      <th>0</th>\n      <td>20230106</td>\n      <td>83100.0</td>\n      <td>SK하이닉스</td>\n    </tr>\n    <tr>\n      <th>1</th>\n      <td>20230105</td>\n      <td>81400.0</td>\n      <td>SK하이닉스</td>\n    </tr>\n    <tr>\n      <th>2</th>\n      <td>20230104</td>\n      <td>81000.0</td>\n      <td>SK하이닉스</td>\n    </tr>\n    <tr>\n      <th>3</th>\n      <td>20230103</td>\n      <td>75600.0</td>\n      <td>SK하이닉스</td>\n    </tr>\n    <tr>\n      <th>4</th>\n      <td>20230102</td>\n      <td>75700.0</td>\n      <td>SK하이닉스</td>\n    </tr>\n    <tr>\n      <th>...</th>\n      <td>...</td>\n      <td>...</td>\n      <td>...</td>\n    </tr>\n    <tr>\n      <th>1485</th>\n      <td>20161222</td>\n      <td>45500.0</td>\n      <td>SK하이닉스</td>\n    </tr>\n    <tr>\n      <th>1486</th>\n      <td>20161221</td>\n      <td>45000.0</td>\n      <td>SK하이닉스</td>\n    </tr>\n    <tr>\n      <th>1487</th>\n      <td>20161220</td>\n      <td>45150.0</td>\n      <td>SK하이닉스</td>\n    </tr>\n    <tr>\n      <th>1488</th>\n      <td>20161219</td>\n      <td>45150.0</td>\n      <td>SK하이닉스</td>\n    </tr>\n    <tr>\n      <th>1489</th>\n      <td>20161216</td>\n      <td>46400.0</td>\n      <td>SK하이닉스</td>\n    </tr>\n  </tbody>\n</table>\n<p>1490 rows × 3 columns</p>\n</div>"
     },
     "execution_count": 31,
     "metadata": {},
     "output_type": "execute_result"
    }
   ],
   "source": [
    "sk"
   ],
   "metadata": {
    "collapsed": false,
    "pycharm": {
     "name": "#%%\n"
    }
   }
  },
  {
   "cell_type": "code",
   "execution_count": 32,
   "outputs": [],
   "source": [
    "# 생성한 주가 데이터프레임을 하나의 데이터프레임으로 합쳐줌\n",
    "\n",
    "combined_df = pd.concat([sk, samsungsdi,samsungsds,samsungelc,lgdis,lgelc])"
   ],
   "metadata": {
    "collapsed": false,
    "pycharm": {
     "name": "#%%\n"
    }
   }
  },
  {
   "cell_type": "code",
   "execution_count": 33,
   "outputs": [
    {
     "data": {
      "text/plain": "            날짜       종가     회사명\n0     20230106  83100.0  SK하이닉스\n1     20230105  81400.0  SK하이닉스\n2     20230104  81000.0  SK하이닉스\n3     20230103  75600.0  SK하이닉스\n4     20230102  75700.0  SK하이닉스\n...        ...      ...     ...\n1485  20161222  49400.0    LG전자\n1486  20161221  48200.0    LG전자\n1487  20161220  47800.0    LG전자\n1488  20161219  47700.0    LG전자\n1489  20161216  47850.0    LG전자\n\n[9030 rows x 3 columns]",
      "text/html": "<div>\n<style scoped>\n    .dataframe tbody tr th:only-of-type {\n        vertical-align: middle;\n    }\n\n    .dataframe tbody tr th {\n        vertical-align: top;\n    }\n\n    .dataframe thead th {\n        text-align: right;\n    }\n</style>\n<table border=\"1\" class=\"dataframe\">\n  <thead>\n    <tr style=\"text-align: right;\">\n      <th></th>\n      <th>날짜</th>\n      <th>종가</th>\n      <th>회사명</th>\n    </tr>\n  </thead>\n  <tbody>\n    <tr>\n      <th>0</th>\n      <td>20230106</td>\n      <td>83100.0</td>\n      <td>SK하이닉스</td>\n    </tr>\n    <tr>\n      <th>1</th>\n      <td>20230105</td>\n      <td>81400.0</td>\n      <td>SK하이닉스</td>\n    </tr>\n    <tr>\n      <th>2</th>\n      <td>20230104</td>\n      <td>81000.0</td>\n      <td>SK하이닉스</td>\n    </tr>\n    <tr>\n      <th>3</th>\n      <td>20230103</td>\n      <td>75600.0</td>\n      <td>SK하이닉스</td>\n    </tr>\n    <tr>\n      <th>4</th>\n      <td>20230102</td>\n      <td>75700.0</td>\n      <td>SK하이닉스</td>\n    </tr>\n    <tr>\n      <th>...</th>\n      <td>...</td>\n      <td>...</td>\n      <td>...</td>\n    </tr>\n    <tr>\n      <th>1485</th>\n      <td>20161222</td>\n      <td>49400.0</td>\n      <td>LG전자</td>\n    </tr>\n    <tr>\n      <th>1486</th>\n      <td>20161221</td>\n      <td>48200.0</td>\n      <td>LG전자</td>\n    </tr>\n    <tr>\n      <th>1487</th>\n      <td>20161220</td>\n      <td>47800.0</td>\n      <td>LG전자</td>\n    </tr>\n    <tr>\n      <th>1488</th>\n      <td>20161219</td>\n      <td>47700.0</td>\n      <td>LG전자</td>\n    </tr>\n    <tr>\n      <th>1489</th>\n      <td>20161216</td>\n      <td>47850.0</td>\n      <td>LG전자</td>\n    </tr>\n  </tbody>\n</table>\n<p>9030 rows × 3 columns</p>\n</div>"
     },
     "execution_count": 33,
     "metadata": {},
     "output_type": "execute_result"
    }
   ],
   "source": [
    "combined_df"
   ],
   "metadata": {
    "collapsed": false,
    "pycharm": {
     "name": "#%%\n"
    }
   }
  },
  {
   "cell_type": "code",
   "execution_count": 35,
   "outputs": [],
   "source": [
    "# 이전에 사용했던 종가 및 거래량 엑셀 파일을 불러옴\n",
    "\n",
    "fin  = pd.read_excel(\"final_fin.xlsx\")"
   ],
   "metadata": {
    "collapsed": false,
    "pycharm": {
     "name": "#%%\n"
    }
   }
  },
  {
   "cell_type": "code",
   "execution_count": 36,
   "outputs": [
    {
     "data": {
      "text/plain": "         회사명          날짜   등락률  5일전_종가  4일전_종가  3일전_종가  2일전_종가  1일전_종가  \\\n0       삼성전자  2019.01.03 -3.06    0.02   -0.02    0.00   -0.01   -0.01   \n1       삼성전자  2019.01.07  3.35    0.00   -0.01   -0.01    0.00    0.02   \n2       삼성전자  2019.01.09  3.79   -0.01    0.00    0.02    0.01    0.03   \n3       삼성전자  2019.01.25  3.80    0.00    0.01   -0.03    0.01    0.00   \n4       삼성전자  2019.02.08 -3.12    0.02   -0.04   -0.04    0.01    0.01   \n..       ...         ...   ...     ...     ...     ...     ...     ...   \n829  LG디스플레이  2022.11.11  7.14    0.04    0.00    0.08   -0.01    0.00   \n830  LG디스플레이  2022.11.14 -5.12    0.00    0.08   -0.01    0.00    0.08   \n831  LG디스플레이  2022.11.18  3.03    0.08   -0.05    0.01   -0.01   -0.02   \n832  LG디스플레이  2022.12.14  4.21   -0.02   -0.01    0.01    0.00   -0.03   \n833  LG디스플레이  2022.12.16 -3.73    0.01    0.00   -0.03    0.04   -0.02   \n\n     5일전_거래량  4일전_거래량  3일전_거래량  2일전_거래량  1일전_거래량      거래량     종가  \n0      -0.05     0.32    -0.33    -0.23     0.40  1177579  17800  \n1      -0.33    -0.23     0.40     0.06     0.05  1307934  18400  \n2       0.40     0.06     0.05     0.06     0.96  1830546  19000  \n3      -0.20     1.37    -0.21    -0.52    -0.01  2055931  20300  \n4       0.25     1.53    -0.15    -0.56    -0.05   965641  18850  \n..       ...      ...      ...      ...      ...      ...    ...  \n829     0.51    -0.26     2.19    -0.68     0.31  3409680  15400  \n830    -0.26     2.19    -0.68     0.31     0.67  2298394  14650  \n831     0.67    -0.33    -0.55     0.21    -0.32  2393482  14850  \n832    -0.28     2.13    -0.58    -0.44     0.13  1055419  14250  \n833    -0.58    -0.44     0.13     0.53    -0.23  2018071  13400  \n\n[834 rows x 15 columns]",
      "text/html": "<div>\n<style scoped>\n    .dataframe tbody tr th:only-of-type {\n        vertical-align: middle;\n    }\n\n    .dataframe tbody tr th {\n        vertical-align: top;\n    }\n\n    .dataframe thead th {\n        text-align: right;\n    }\n</style>\n<table border=\"1\" class=\"dataframe\">\n  <thead>\n    <tr style=\"text-align: right;\">\n      <th></th>\n      <th>회사명</th>\n      <th>날짜</th>\n      <th>등락률</th>\n      <th>5일전_종가</th>\n      <th>4일전_종가</th>\n      <th>3일전_종가</th>\n      <th>2일전_종가</th>\n      <th>1일전_종가</th>\n      <th>5일전_거래량</th>\n      <th>4일전_거래량</th>\n      <th>3일전_거래량</th>\n      <th>2일전_거래량</th>\n      <th>1일전_거래량</th>\n      <th>거래량</th>\n      <th>종가</th>\n    </tr>\n  </thead>\n  <tbody>\n    <tr>\n      <th>0</th>\n      <td>삼성전자</td>\n      <td>2019.01.03</td>\n      <td>-3.06</td>\n      <td>0.02</td>\n      <td>-0.02</td>\n      <td>0.00</td>\n      <td>-0.01</td>\n      <td>-0.01</td>\n      <td>-0.05</td>\n      <td>0.32</td>\n      <td>-0.33</td>\n      <td>-0.23</td>\n      <td>0.40</td>\n      <td>1177579</td>\n      <td>17800</td>\n    </tr>\n    <tr>\n      <th>1</th>\n      <td>삼성전자</td>\n      <td>2019.01.07</td>\n      <td>3.35</td>\n      <td>0.00</td>\n      <td>-0.01</td>\n      <td>-0.01</td>\n      <td>0.00</td>\n      <td>0.02</td>\n      <td>-0.33</td>\n      <td>-0.23</td>\n      <td>0.40</td>\n      <td>0.06</td>\n      <td>0.05</td>\n      <td>1307934</td>\n      <td>18400</td>\n    </tr>\n    <tr>\n      <th>2</th>\n      <td>삼성전자</td>\n      <td>2019.01.09</td>\n      <td>3.79</td>\n      <td>-0.01</td>\n      <td>0.00</td>\n      <td>0.02</td>\n      <td>0.01</td>\n      <td>0.03</td>\n      <td>0.40</td>\n      <td>0.06</td>\n      <td>0.05</td>\n      <td>0.06</td>\n      <td>0.96</td>\n      <td>1830546</td>\n      <td>19000</td>\n    </tr>\n    <tr>\n      <th>3</th>\n      <td>삼성전자</td>\n      <td>2019.01.25</td>\n      <td>3.80</td>\n      <td>0.00</td>\n      <td>0.01</td>\n      <td>-0.03</td>\n      <td>0.01</td>\n      <td>0.00</td>\n      <td>-0.20</td>\n      <td>1.37</td>\n      <td>-0.21</td>\n      <td>-0.52</td>\n      <td>-0.01</td>\n      <td>2055931</td>\n      <td>20300</td>\n    </tr>\n    <tr>\n      <th>4</th>\n      <td>삼성전자</td>\n      <td>2019.02.08</td>\n      <td>-3.12</td>\n      <td>0.02</td>\n      <td>-0.04</td>\n      <td>-0.04</td>\n      <td>0.01</td>\n      <td>0.01</td>\n      <td>0.25</td>\n      <td>1.53</td>\n      <td>-0.15</td>\n      <td>-0.56</td>\n      <td>-0.05</td>\n      <td>965641</td>\n      <td>18850</td>\n    </tr>\n    <tr>\n      <th>...</th>\n      <td>...</td>\n      <td>...</td>\n      <td>...</td>\n      <td>...</td>\n      <td>...</td>\n      <td>...</td>\n      <td>...</td>\n      <td>...</td>\n      <td>...</td>\n      <td>...</td>\n      <td>...</td>\n      <td>...</td>\n      <td>...</td>\n      <td>...</td>\n      <td>...</td>\n    </tr>\n    <tr>\n      <th>829</th>\n      <td>LG디스플레이</td>\n      <td>2022.11.11</td>\n      <td>7.14</td>\n      <td>0.04</td>\n      <td>0.00</td>\n      <td>0.08</td>\n      <td>-0.01</td>\n      <td>0.00</td>\n      <td>0.51</td>\n      <td>-0.26</td>\n      <td>2.19</td>\n      <td>-0.68</td>\n      <td>0.31</td>\n      <td>3409680</td>\n      <td>15400</td>\n    </tr>\n    <tr>\n      <th>830</th>\n      <td>LG디스플레이</td>\n      <td>2022.11.14</td>\n      <td>-5.12</td>\n      <td>0.00</td>\n      <td>0.08</td>\n      <td>-0.01</td>\n      <td>0.00</td>\n      <td>0.08</td>\n      <td>-0.26</td>\n      <td>2.19</td>\n      <td>-0.68</td>\n      <td>0.31</td>\n      <td>0.67</td>\n      <td>2298394</td>\n      <td>14650</td>\n    </tr>\n    <tr>\n      <th>831</th>\n      <td>LG디스플레이</td>\n      <td>2022.11.18</td>\n      <td>3.03</td>\n      <td>0.08</td>\n      <td>-0.05</td>\n      <td>0.01</td>\n      <td>-0.01</td>\n      <td>-0.02</td>\n      <td>0.67</td>\n      <td>-0.33</td>\n      <td>-0.55</td>\n      <td>0.21</td>\n      <td>-0.32</td>\n      <td>2393482</td>\n      <td>14850</td>\n    </tr>\n    <tr>\n      <th>832</th>\n      <td>LG디스플레이</td>\n      <td>2022.12.14</td>\n      <td>4.21</td>\n      <td>-0.02</td>\n      <td>-0.01</td>\n      <td>0.01</td>\n      <td>0.00</td>\n      <td>-0.03</td>\n      <td>-0.28</td>\n      <td>2.13</td>\n      <td>-0.58</td>\n      <td>-0.44</td>\n      <td>0.13</td>\n      <td>1055419</td>\n      <td>14250</td>\n    </tr>\n    <tr>\n      <th>833</th>\n      <td>LG디스플레이</td>\n      <td>2022.12.16</td>\n      <td>-3.73</td>\n      <td>0.01</td>\n      <td>0.00</td>\n      <td>-0.03</td>\n      <td>0.04</td>\n      <td>-0.02</td>\n      <td>-0.58</td>\n      <td>-0.44</td>\n      <td>0.13</td>\n      <td>0.53</td>\n      <td>-0.23</td>\n      <td>2018071</td>\n      <td>13400</td>\n    </tr>\n  </tbody>\n</table>\n<p>834 rows × 15 columns</p>\n</div>"
     },
     "execution_count": 36,
     "metadata": {},
     "output_type": "execute_result"
    }
   ],
   "source": [
    "fin"
   ],
   "metadata": {
    "collapsed": false,
    "pycharm": {
     "name": "#%%\n"
    }
   }
  },
  {
   "cell_type": "code",
   "execution_count": 37,
   "outputs": [
    {
     "name": "stderr",
     "output_type": "stream",
     "text": [
      "C:\\Users\\msi\\AppData\\Local\\Temp/ipykernel_29564/3532627282.py:4: SettingWithCopyWarning: \n",
      "A value is trying to be set on a copy of a slice from a DataFrame\n",
      "\n",
      "See the caveats in the documentation: https://pandas.pydata.org/pandas-docs/stable/user_guide/indexing.html#returning-a-view-versus-a-copy\n",
      "  fin.날짜[i] = fin.날짜[i].replace('.', '')\n"
     ]
    }
   ],
   "source": [
    "# 날짜 형식 통일을 위한 과정\n",
    "\n",
    "for i in range(len(fin['날짜'])):\n",
    "    fin.날짜[i] = fin.날짜[i].replace('.', '')"
   ],
   "metadata": {
    "collapsed": false,
    "pycharm": {
     "name": "#%%\n"
    }
   }
  },
  {
   "cell_type": "code",
   "execution_count": 38,
   "outputs": [],
   "source": [
    "# 주가 상승과 하락, binary하게 분류하기 위한 함수\n",
    "\n",
    "def classify_size(size):\n",
    "    if size >= 0:\n",
    "        return 1\n",
    "    else:\n",
    "        return 0"
   ],
   "metadata": {
    "collapsed": false,
    "pycharm": {
     "name": "#%%\n"
    }
   }
  },
  {
   "cell_type": "code",
   "execution_count": 39,
   "outputs": [],
   "source": [
    "# 위의 함수를 적용하여 데이터프레임에 일별 주가 상승과 하락을 구분해줌\n",
    "\n",
    "fin['Either'] = fin['등락률'].apply(classify_size)"
   ],
   "metadata": {
    "collapsed": false,
    "pycharm": {
     "name": "#%%\n"
    }
   }
  },
  {
   "cell_type": "code",
   "execution_count": 40,
   "outputs": [
    {
     "data": {
      "text/plain": "         회사명        날짜   등락률  5일전_종가  4일전_종가  3일전_종가  2일전_종가  1일전_종가  5일전_거래량  \\\n0       삼성전자  20190103 -3.06    0.02   -0.02    0.00   -0.01   -0.01    -0.05   \n1       삼성전자  20190107  3.35    0.00   -0.01   -0.01    0.00    0.02    -0.33   \n2       삼성전자  20190109  3.79   -0.01    0.00    0.02    0.01    0.03     0.40   \n3       삼성전자  20190125  3.80    0.00    0.01   -0.03    0.01    0.00    -0.20   \n4       삼성전자  20190208 -3.12    0.02   -0.04   -0.04    0.01    0.01     0.25   \n..       ...       ...   ...     ...     ...     ...     ...     ...      ...   \n829  LG디스플레이  20221111  7.14    0.04    0.00    0.08   -0.01    0.00     0.51   \n830  LG디스플레이  20221114 -5.12    0.00    0.08   -0.01    0.00    0.08    -0.26   \n831  LG디스플레이  20221118  3.03    0.08   -0.05    0.01   -0.01   -0.02     0.67   \n832  LG디스플레이  20221214  4.21   -0.02   -0.01    0.01    0.00   -0.03    -0.28   \n833  LG디스플레이  20221216 -3.73    0.01    0.00   -0.03    0.04   -0.02    -0.58   \n\n     4일전_거래량  3일전_거래량  2일전_거래량  1일전_거래량      거래량     종가  Either  \n0       0.32    -0.33    -0.23     0.40  1177579  17800       0  \n1      -0.23     0.40     0.06     0.05  1307934  18400       1  \n2       0.06     0.05     0.06     0.96  1830546  19000       1  \n3       1.37    -0.21    -0.52    -0.01  2055931  20300       1  \n4       1.53    -0.15    -0.56    -0.05   965641  18850       0  \n..       ...      ...      ...      ...      ...    ...     ...  \n829    -0.26     2.19    -0.68     0.31  3409680  15400       1  \n830     2.19    -0.68     0.31     0.67  2298394  14650       0  \n831    -0.33    -0.55     0.21    -0.32  2393482  14850       1  \n832     2.13    -0.58    -0.44     0.13  1055419  14250       1  \n833    -0.44     0.13     0.53    -0.23  2018071  13400       0  \n\n[834 rows x 16 columns]",
      "text/html": "<div>\n<style scoped>\n    .dataframe tbody tr th:only-of-type {\n        vertical-align: middle;\n    }\n\n    .dataframe tbody tr th {\n        vertical-align: top;\n    }\n\n    .dataframe thead th {\n        text-align: right;\n    }\n</style>\n<table border=\"1\" class=\"dataframe\">\n  <thead>\n    <tr style=\"text-align: right;\">\n      <th></th>\n      <th>회사명</th>\n      <th>날짜</th>\n      <th>등락률</th>\n      <th>5일전_종가</th>\n      <th>4일전_종가</th>\n      <th>3일전_종가</th>\n      <th>2일전_종가</th>\n      <th>1일전_종가</th>\n      <th>5일전_거래량</th>\n      <th>4일전_거래량</th>\n      <th>3일전_거래량</th>\n      <th>2일전_거래량</th>\n      <th>1일전_거래량</th>\n      <th>거래량</th>\n      <th>종가</th>\n      <th>Either</th>\n    </tr>\n  </thead>\n  <tbody>\n    <tr>\n      <th>0</th>\n      <td>삼성전자</td>\n      <td>20190103</td>\n      <td>-3.06</td>\n      <td>0.02</td>\n      <td>-0.02</td>\n      <td>0.00</td>\n      <td>-0.01</td>\n      <td>-0.01</td>\n      <td>-0.05</td>\n      <td>0.32</td>\n      <td>-0.33</td>\n      <td>-0.23</td>\n      <td>0.40</td>\n      <td>1177579</td>\n      <td>17800</td>\n      <td>0</td>\n    </tr>\n    <tr>\n      <th>1</th>\n      <td>삼성전자</td>\n      <td>20190107</td>\n      <td>3.35</td>\n      <td>0.00</td>\n      <td>-0.01</td>\n      <td>-0.01</td>\n      <td>0.00</td>\n      <td>0.02</td>\n      <td>-0.33</td>\n      <td>-0.23</td>\n      <td>0.40</td>\n      <td>0.06</td>\n      <td>0.05</td>\n      <td>1307934</td>\n      <td>18400</td>\n      <td>1</td>\n    </tr>\n    <tr>\n      <th>2</th>\n      <td>삼성전자</td>\n      <td>20190109</td>\n      <td>3.79</td>\n      <td>-0.01</td>\n      <td>0.00</td>\n      <td>0.02</td>\n      <td>0.01</td>\n      <td>0.03</td>\n      <td>0.40</td>\n      <td>0.06</td>\n      <td>0.05</td>\n      <td>0.06</td>\n      <td>0.96</td>\n      <td>1830546</td>\n      <td>19000</td>\n      <td>1</td>\n    </tr>\n    <tr>\n      <th>3</th>\n      <td>삼성전자</td>\n      <td>20190125</td>\n      <td>3.80</td>\n      <td>0.00</td>\n      <td>0.01</td>\n      <td>-0.03</td>\n      <td>0.01</td>\n      <td>0.00</td>\n      <td>-0.20</td>\n      <td>1.37</td>\n      <td>-0.21</td>\n      <td>-0.52</td>\n      <td>-0.01</td>\n      <td>2055931</td>\n      <td>20300</td>\n      <td>1</td>\n    </tr>\n    <tr>\n      <th>4</th>\n      <td>삼성전자</td>\n      <td>20190208</td>\n      <td>-3.12</td>\n      <td>0.02</td>\n      <td>-0.04</td>\n      <td>-0.04</td>\n      <td>0.01</td>\n      <td>0.01</td>\n      <td>0.25</td>\n      <td>1.53</td>\n      <td>-0.15</td>\n      <td>-0.56</td>\n      <td>-0.05</td>\n      <td>965641</td>\n      <td>18850</td>\n      <td>0</td>\n    </tr>\n    <tr>\n      <th>...</th>\n      <td>...</td>\n      <td>...</td>\n      <td>...</td>\n      <td>...</td>\n      <td>...</td>\n      <td>...</td>\n      <td>...</td>\n      <td>...</td>\n      <td>...</td>\n      <td>...</td>\n      <td>...</td>\n      <td>...</td>\n      <td>...</td>\n      <td>...</td>\n      <td>...</td>\n      <td>...</td>\n    </tr>\n    <tr>\n      <th>829</th>\n      <td>LG디스플레이</td>\n      <td>20221111</td>\n      <td>7.14</td>\n      <td>0.04</td>\n      <td>0.00</td>\n      <td>0.08</td>\n      <td>-0.01</td>\n      <td>0.00</td>\n      <td>0.51</td>\n      <td>-0.26</td>\n      <td>2.19</td>\n      <td>-0.68</td>\n      <td>0.31</td>\n      <td>3409680</td>\n      <td>15400</td>\n      <td>1</td>\n    </tr>\n    <tr>\n      <th>830</th>\n      <td>LG디스플레이</td>\n      <td>20221114</td>\n      <td>-5.12</td>\n      <td>0.00</td>\n      <td>0.08</td>\n      <td>-0.01</td>\n      <td>0.00</td>\n      <td>0.08</td>\n      <td>-0.26</td>\n      <td>2.19</td>\n      <td>-0.68</td>\n      <td>0.31</td>\n      <td>0.67</td>\n      <td>2298394</td>\n      <td>14650</td>\n      <td>0</td>\n    </tr>\n    <tr>\n      <th>831</th>\n      <td>LG디스플레이</td>\n      <td>20221118</td>\n      <td>3.03</td>\n      <td>0.08</td>\n      <td>-0.05</td>\n      <td>0.01</td>\n      <td>-0.01</td>\n      <td>-0.02</td>\n      <td>0.67</td>\n      <td>-0.33</td>\n      <td>-0.55</td>\n      <td>0.21</td>\n      <td>-0.32</td>\n      <td>2393482</td>\n      <td>14850</td>\n      <td>1</td>\n    </tr>\n    <tr>\n      <th>832</th>\n      <td>LG디스플레이</td>\n      <td>20221214</td>\n      <td>4.21</td>\n      <td>-0.02</td>\n      <td>-0.01</td>\n      <td>0.01</td>\n      <td>0.00</td>\n      <td>-0.03</td>\n      <td>-0.28</td>\n      <td>2.13</td>\n      <td>-0.58</td>\n      <td>-0.44</td>\n      <td>0.13</td>\n      <td>1055419</td>\n      <td>14250</td>\n      <td>1</td>\n    </tr>\n    <tr>\n      <th>833</th>\n      <td>LG디스플레이</td>\n      <td>20221216</td>\n      <td>-3.73</td>\n      <td>0.01</td>\n      <td>0.00</td>\n      <td>-0.03</td>\n      <td>0.04</td>\n      <td>-0.02</td>\n      <td>-0.58</td>\n      <td>-0.44</td>\n      <td>0.13</td>\n      <td>0.53</td>\n      <td>-0.23</td>\n      <td>2018071</td>\n      <td>13400</td>\n      <td>0</td>\n    </tr>\n  </tbody>\n</table>\n<p>834 rows × 16 columns</p>\n</div>"
     },
     "execution_count": 40,
     "metadata": {},
     "output_type": "execute_result"
    }
   ],
   "source": [
    "fin"
   ],
   "metadata": {
    "collapsed": false,
    "pycharm": {
     "name": "#%%\n"
    }
   }
  },
  {
   "cell_type": "code",
   "execution_count": 41,
   "outputs": [],
   "source": [
    "# 필요없는 칼럼들을 제거해줌\n",
    "\n",
    "fin = fin.drop(['거래량', '종가','등락률'], axis=1)"
   ],
   "metadata": {
    "collapsed": false,
    "pycharm": {
     "name": "#%%\n"
    }
   }
  },
  {
   "cell_type": "code",
   "execution_count": 42,
   "outputs": [],
   "source": [
    "\n",
    "# 거래량/종가 관련 데이터프레임과 주가 데이터프레임을 회사명, 날짜가 일치하는 것끼리 합쳐줌\n",
    "new_df = pd.merge(fin, combined_df, on=[\"날짜\",\"회사명\"])\n",
    "new_df['날짜'] = new_df['날짜'].astype(int)\n",
    "\n",
    "# 이후 사용할 재무제표와 날짜를 통일시키기 위해 구간별로 날짜를 다시 설정해줌\n",
    "new_df['날짜'] = new_df['날짜'].apply(lambda x: 20190331 if 20190101 <= x <= 20190331 else x)\n",
    "new_df['날짜'] = new_df['날짜'].apply(lambda x: 20190630 if 20190401 <= x <= 20190630 else x)\n",
    "new_df['날짜'] = new_df['날짜'].apply(lambda x: 20190930 if 20190701 <= x <= 20190930 else x)\n",
    "new_df['날짜'] = new_df['날짜'].apply(lambda x: 20191231 if 20191001 <= x <= 20191231 else x)\n",
    "new_df['날짜'] = new_df['날짜'].apply(lambda x: 20200331 if 20200101 <= x <= 20200331 else x)\n",
    "new_df['날짜'] = new_df['날짜'].apply(lambda x: 20200630 if 20200401 <= x <= 20200630 else x)\n",
    "new_df['날짜'] = new_df['날짜'].apply(lambda x: 20200930 if 20200701 <= x <= 20200930 else x)\n",
    "new_df['날짜'] = new_df['날짜'].apply(lambda x: 20201231 if 20201001 <= x <= 20201231 else x)\n",
    "new_df['날짜'] = new_df['날짜'].apply(lambda x: 20210331 if 20210101 <= x <= 20210331 else x)\n",
    "new_df['날짜'] = new_df['날짜'].apply(lambda x: 20210630 if 20210401 <= x <= 20210630 else x)\n",
    "new_df['날짜'] = new_df['날짜'].apply(lambda x: 20210930 if 20210701 <= x <= 20210930 else x)\n",
    "new_df['날짜'] = new_df['날짜'].apply(lambda x: 20211231 if 20211001 <= x <= 20211231 else x)\n",
    "new_df['날짜'] = new_df['날짜'].apply(lambda x: 20220331 if 20220101 <= x <= 20220331 else x)\n",
    "new_df['날짜'] = new_df['날짜'].apply(lambda x: 20220630 if 20220401 <= x <= 20220630 else x)\n",
    "new_df['날짜'] = new_df['날짜'].apply(lambda x: 20220930 if 20220701 <= x <= 20220930 else x)\n",
    "new_df['날짜'] = new_df['날짜'].apply(lambda x: 20221231 if 20221001 <= x <= 20221231 else x)"
   ],
   "metadata": {
    "collapsed": false,
    "pycharm": {
     "name": "#%%\n"
    }
   }
  },
  {
   "cell_type": "code",
   "execution_count": 43,
   "outputs": [
    {
     "data": {
      "text/plain": "         회사명        날짜  5일전_종가  4일전_종가  3일전_종가  2일전_종가  1일전_종가  5일전_거래량  \\\n0       삼성전자  20190331    0.02   -0.02    0.00   -0.01   -0.01    -0.05   \n1       삼성전자  20190331    0.00   -0.01   -0.01    0.00    0.02    -0.33   \n2       삼성전자  20190331   -0.01    0.00    0.02    0.01    0.03     0.40   \n3       삼성전자  20190331    0.00    0.01   -0.03    0.01    0.00    -0.20   \n4       삼성전자  20190331    0.02   -0.04   -0.04    0.01    0.01     0.25   \n..       ...       ...     ...     ...     ...     ...     ...      ...   \n829  LG디스플레이  20221231    0.04    0.00    0.08   -0.01    0.00     0.51   \n830  LG디스플레이  20221231    0.00    0.08   -0.01    0.00    0.08    -0.26   \n831  LG디스플레이  20221231    0.08   -0.05    0.01   -0.01   -0.02     0.67   \n832  LG디스플레이  20221231   -0.02   -0.01    0.01    0.00   -0.03    -0.28   \n833  LG디스플레이  20221231    0.01    0.00   -0.03    0.04   -0.02    -0.58   \n\n     4일전_거래량  3일전_거래량  2일전_거래량  1일전_거래량  Either       종가  \n0       0.32    -0.33    -0.23     0.40       0  37600.0  \n1      -0.23     0.40     0.06     0.05       1  38750.0  \n2       0.06     0.05     0.06     0.96       1  39600.0  \n3       1.37    -0.21    -0.52    -0.01       1  44750.0  \n4       1.53    -0.15    -0.56    -0.05       0  44800.0  \n..       ...      ...      ...      ...     ...      ...  \n829    -0.26     2.19    -0.68     0.31       1  15400.0  \n830     2.19    -0.68     0.31     0.67       0  14650.0  \n831    -0.33    -0.55     0.21    -0.32       1  14850.0  \n832     2.13    -0.58    -0.44     0.13       1  14250.0  \n833    -0.44     0.13     0.53    -0.23       0  13400.0  \n\n[834 rows x 14 columns]",
      "text/html": "<div>\n<style scoped>\n    .dataframe tbody tr th:only-of-type {\n        vertical-align: middle;\n    }\n\n    .dataframe tbody tr th {\n        vertical-align: top;\n    }\n\n    .dataframe thead th {\n        text-align: right;\n    }\n</style>\n<table border=\"1\" class=\"dataframe\">\n  <thead>\n    <tr style=\"text-align: right;\">\n      <th></th>\n      <th>회사명</th>\n      <th>날짜</th>\n      <th>5일전_종가</th>\n      <th>4일전_종가</th>\n      <th>3일전_종가</th>\n      <th>2일전_종가</th>\n      <th>1일전_종가</th>\n      <th>5일전_거래량</th>\n      <th>4일전_거래량</th>\n      <th>3일전_거래량</th>\n      <th>2일전_거래량</th>\n      <th>1일전_거래량</th>\n      <th>Either</th>\n      <th>종가</th>\n    </tr>\n  </thead>\n  <tbody>\n    <tr>\n      <th>0</th>\n      <td>삼성전자</td>\n      <td>20190331</td>\n      <td>0.02</td>\n      <td>-0.02</td>\n      <td>0.00</td>\n      <td>-0.01</td>\n      <td>-0.01</td>\n      <td>-0.05</td>\n      <td>0.32</td>\n      <td>-0.33</td>\n      <td>-0.23</td>\n      <td>0.40</td>\n      <td>0</td>\n      <td>37600.0</td>\n    </tr>\n    <tr>\n      <th>1</th>\n      <td>삼성전자</td>\n      <td>20190331</td>\n      <td>0.00</td>\n      <td>-0.01</td>\n      <td>-0.01</td>\n      <td>0.00</td>\n      <td>0.02</td>\n      <td>-0.33</td>\n      <td>-0.23</td>\n      <td>0.40</td>\n      <td>0.06</td>\n      <td>0.05</td>\n      <td>1</td>\n      <td>38750.0</td>\n    </tr>\n    <tr>\n      <th>2</th>\n      <td>삼성전자</td>\n      <td>20190331</td>\n      <td>-0.01</td>\n      <td>0.00</td>\n      <td>0.02</td>\n      <td>0.01</td>\n      <td>0.03</td>\n      <td>0.40</td>\n      <td>0.06</td>\n      <td>0.05</td>\n      <td>0.06</td>\n      <td>0.96</td>\n      <td>1</td>\n      <td>39600.0</td>\n    </tr>\n    <tr>\n      <th>3</th>\n      <td>삼성전자</td>\n      <td>20190331</td>\n      <td>0.00</td>\n      <td>0.01</td>\n      <td>-0.03</td>\n      <td>0.01</td>\n      <td>0.00</td>\n      <td>-0.20</td>\n      <td>1.37</td>\n      <td>-0.21</td>\n      <td>-0.52</td>\n      <td>-0.01</td>\n      <td>1</td>\n      <td>44750.0</td>\n    </tr>\n    <tr>\n      <th>4</th>\n      <td>삼성전자</td>\n      <td>20190331</td>\n      <td>0.02</td>\n      <td>-0.04</td>\n      <td>-0.04</td>\n      <td>0.01</td>\n      <td>0.01</td>\n      <td>0.25</td>\n      <td>1.53</td>\n      <td>-0.15</td>\n      <td>-0.56</td>\n      <td>-0.05</td>\n      <td>0</td>\n      <td>44800.0</td>\n    </tr>\n    <tr>\n      <th>...</th>\n      <td>...</td>\n      <td>...</td>\n      <td>...</td>\n      <td>...</td>\n      <td>...</td>\n      <td>...</td>\n      <td>...</td>\n      <td>...</td>\n      <td>...</td>\n      <td>...</td>\n      <td>...</td>\n      <td>...</td>\n      <td>...</td>\n      <td>...</td>\n    </tr>\n    <tr>\n      <th>829</th>\n      <td>LG디스플레이</td>\n      <td>20221231</td>\n      <td>0.04</td>\n      <td>0.00</td>\n      <td>0.08</td>\n      <td>-0.01</td>\n      <td>0.00</td>\n      <td>0.51</td>\n      <td>-0.26</td>\n      <td>2.19</td>\n      <td>-0.68</td>\n      <td>0.31</td>\n      <td>1</td>\n      <td>15400.0</td>\n    </tr>\n    <tr>\n      <th>830</th>\n      <td>LG디스플레이</td>\n      <td>20221231</td>\n      <td>0.00</td>\n      <td>0.08</td>\n      <td>-0.01</td>\n      <td>0.00</td>\n      <td>0.08</td>\n      <td>-0.26</td>\n      <td>2.19</td>\n      <td>-0.68</td>\n      <td>0.31</td>\n      <td>0.67</td>\n      <td>0</td>\n      <td>14650.0</td>\n    </tr>\n    <tr>\n      <th>831</th>\n      <td>LG디스플레이</td>\n      <td>20221231</td>\n      <td>0.08</td>\n      <td>-0.05</td>\n      <td>0.01</td>\n      <td>-0.01</td>\n      <td>-0.02</td>\n      <td>0.67</td>\n      <td>-0.33</td>\n      <td>-0.55</td>\n      <td>0.21</td>\n      <td>-0.32</td>\n      <td>1</td>\n      <td>14850.0</td>\n    </tr>\n    <tr>\n      <th>832</th>\n      <td>LG디스플레이</td>\n      <td>20221231</td>\n      <td>-0.02</td>\n      <td>-0.01</td>\n      <td>0.01</td>\n      <td>0.00</td>\n      <td>-0.03</td>\n      <td>-0.28</td>\n      <td>2.13</td>\n      <td>-0.58</td>\n      <td>-0.44</td>\n      <td>0.13</td>\n      <td>1</td>\n      <td>14250.0</td>\n    </tr>\n    <tr>\n      <th>833</th>\n      <td>LG디스플레이</td>\n      <td>20221231</td>\n      <td>0.01</td>\n      <td>0.00</td>\n      <td>-0.03</td>\n      <td>0.04</td>\n      <td>-0.02</td>\n      <td>-0.58</td>\n      <td>-0.44</td>\n      <td>0.13</td>\n      <td>0.53</td>\n      <td>-0.23</td>\n      <td>0</td>\n      <td>13400.0</td>\n    </tr>\n  </tbody>\n</table>\n<p>834 rows × 14 columns</p>\n</div>"
     },
     "execution_count": 43,
     "metadata": {},
     "output_type": "execute_result"
    }
   ],
   "source": [
    "new_df"
   ],
   "metadata": {
    "collapsed": false,
    "pycharm": {
     "name": "#%%\n"
    }
   }
  },
  {
   "cell_type": "code",
   "execution_count": 44,
   "outputs": [],
   "source": [
    "# 주가가 상승한 일자의 경우 up 데이터프레임/하락한 경우 down 데이터프레임으로 들어가게 함.\n",
    "\n",
    "up = new_df[new_df['Either'] == 1]\n",
    "down = new_df[new_df['Either'] == 0]"
   ],
   "metadata": {
    "collapsed": false,
    "pycharm": {
     "name": "#%%\n"
    }
   }
  },
  {
   "cell_type": "code",
   "execution_count": 45,
   "outputs": [
    {
     "data": {
      "text/plain": "         회사명        날짜  5일전_종가  4일전_종가  3일전_종가  2일전_종가  1일전_종가  5일전_거래량  \\\n1       삼성전자  20190331    0.00   -0.01   -0.01    0.00    0.02    -0.33   \n2       삼성전자  20190331   -0.01    0.00    0.02    0.01    0.03     0.40   \n3       삼성전자  20190331    0.00    0.01   -0.03    0.01    0.00    -0.20   \n7       삼성전자  20190331    0.01    0.00   -0.01   -0.02    0.00    -0.31   \n10      삼성전자  20190930    0.03    0.06    0.00    0.02    0.01     0.34   \n..       ...       ...     ...     ...     ...     ...     ...      ...   \n827  LG디스플레이  20221231   -0.05    0.02    0.03    0.00   -0.02    -0.28   \n828  LG디스플레이  20221231    0.03    0.00   -0.02    0.04    0.00    -0.19   \n829  LG디스플레이  20221231    0.04    0.00    0.08   -0.01    0.00     0.51   \n831  LG디스플레이  20221231    0.08   -0.05    0.01   -0.01   -0.02     0.67   \n832  LG디스플레이  20221231   -0.02   -0.01    0.01    0.00   -0.03    -0.28   \n\n     4일전_거래량  3일전_거래량  2일전_거래량  1일전_거래량  Either       종가  \n1      -0.23     0.40     0.06     0.05       1  38750.0  \n2       0.06     0.05     0.06     0.96       1  39600.0  \n3       1.37    -0.21    -0.52    -0.01       1  44750.0  \n7       0.07    -0.14    -0.21    -0.04       1  45850.0  \n10      2.08    -0.34    -0.32    -0.29       1  45700.0  \n..       ...      ...      ...      ...     ...      ...  \n827    -0.09    -0.19    -0.29     0.23       1  13400.0  \n828    -0.29     0.23     0.51    -0.26       1  14450.0  \n829    -0.26     2.19    -0.68     0.31       1  15400.0  \n831    -0.33    -0.55     0.21    -0.32       1  14850.0  \n832     2.13    -0.58    -0.44     0.13       1  14250.0  \n\n[434 rows x 14 columns]",
      "text/html": "<div>\n<style scoped>\n    .dataframe tbody tr th:only-of-type {\n        vertical-align: middle;\n    }\n\n    .dataframe tbody tr th {\n        vertical-align: top;\n    }\n\n    .dataframe thead th {\n        text-align: right;\n    }\n</style>\n<table border=\"1\" class=\"dataframe\">\n  <thead>\n    <tr style=\"text-align: right;\">\n      <th></th>\n      <th>회사명</th>\n      <th>날짜</th>\n      <th>5일전_종가</th>\n      <th>4일전_종가</th>\n      <th>3일전_종가</th>\n      <th>2일전_종가</th>\n      <th>1일전_종가</th>\n      <th>5일전_거래량</th>\n      <th>4일전_거래량</th>\n      <th>3일전_거래량</th>\n      <th>2일전_거래량</th>\n      <th>1일전_거래량</th>\n      <th>Either</th>\n      <th>종가</th>\n    </tr>\n  </thead>\n  <tbody>\n    <tr>\n      <th>1</th>\n      <td>삼성전자</td>\n      <td>20190331</td>\n      <td>0.00</td>\n      <td>-0.01</td>\n      <td>-0.01</td>\n      <td>0.00</td>\n      <td>0.02</td>\n      <td>-0.33</td>\n      <td>-0.23</td>\n      <td>0.40</td>\n      <td>0.06</td>\n      <td>0.05</td>\n      <td>1</td>\n      <td>38750.0</td>\n    </tr>\n    <tr>\n      <th>2</th>\n      <td>삼성전자</td>\n      <td>20190331</td>\n      <td>-0.01</td>\n      <td>0.00</td>\n      <td>0.02</td>\n      <td>0.01</td>\n      <td>0.03</td>\n      <td>0.40</td>\n      <td>0.06</td>\n      <td>0.05</td>\n      <td>0.06</td>\n      <td>0.96</td>\n      <td>1</td>\n      <td>39600.0</td>\n    </tr>\n    <tr>\n      <th>3</th>\n      <td>삼성전자</td>\n      <td>20190331</td>\n      <td>0.00</td>\n      <td>0.01</td>\n      <td>-0.03</td>\n      <td>0.01</td>\n      <td>0.00</td>\n      <td>-0.20</td>\n      <td>1.37</td>\n      <td>-0.21</td>\n      <td>-0.52</td>\n      <td>-0.01</td>\n      <td>1</td>\n      <td>44750.0</td>\n    </tr>\n    <tr>\n      <th>7</th>\n      <td>삼성전자</td>\n      <td>20190331</td>\n      <td>0.01</td>\n      <td>0.00</td>\n      <td>-0.01</td>\n      <td>-0.02</td>\n      <td>0.00</td>\n      <td>-0.31</td>\n      <td>0.07</td>\n      <td>-0.14</td>\n      <td>-0.21</td>\n      <td>-0.04</td>\n      <td>1</td>\n      <td>45850.0</td>\n    </tr>\n    <tr>\n      <th>10</th>\n      <td>삼성전자</td>\n      <td>20190930</td>\n      <td>0.03</td>\n      <td>0.06</td>\n      <td>0.00</td>\n      <td>0.02</td>\n      <td>0.01</td>\n      <td>0.34</td>\n      <td>2.08</td>\n      <td>-0.34</td>\n      <td>-0.32</td>\n      <td>-0.29</td>\n      <td>1</td>\n      <td>45700.0</td>\n    </tr>\n    <tr>\n      <th>...</th>\n      <td>...</td>\n      <td>...</td>\n      <td>...</td>\n      <td>...</td>\n      <td>...</td>\n      <td>...</td>\n      <td>...</td>\n      <td>...</td>\n      <td>...</td>\n      <td>...</td>\n      <td>...</td>\n      <td>...</td>\n      <td>...</td>\n      <td>...</td>\n    </tr>\n    <tr>\n      <th>827</th>\n      <td>LG디스플레이</td>\n      <td>20221231</td>\n      <td>-0.05</td>\n      <td>0.02</td>\n      <td>0.03</td>\n      <td>0.00</td>\n      <td>-0.02</td>\n      <td>-0.28</td>\n      <td>-0.09</td>\n      <td>-0.19</td>\n      <td>-0.29</td>\n      <td>0.23</td>\n      <td>1</td>\n      <td>13400.0</td>\n    </tr>\n    <tr>\n      <th>828</th>\n      <td>LG디스플레이</td>\n      <td>20221231</td>\n      <td>0.03</td>\n      <td>0.00</td>\n      <td>-0.02</td>\n      <td>0.04</td>\n      <td>0.00</td>\n      <td>-0.19</td>\n      <td>-0.29</td>\n      <td>0.23</td>\n      <td>0.51</td>\n      <td>-0.26</td>\n      <td>1</td>\n      <td>14450.0</td>\n    </tr>\n    <tr>\n      <th>829</th>\n      <td>LG디스플레이</td>\n      <td>20221231</td>\n      <td>0.04</td>\n      <td>0.00</td>\n      <td>0.08</td>\n      <td>-0.01</td>\n      <td>0.00</td>\n      <td>0.51</td>\n      <td>-0.26</td>\n      <td>2.19</td>\n      <td>-0.68</td>\n      <td>0.31</td>\n      <td>1</td>\n      <td>15400.0</td>\n    </tr>\n    <tr>\n      <th>831</th>\n      <td>LG디스플레이</td>\n      <td>20221231</td>\n      <td>0.08</td>\n      <td>-0.05</td>\n      <td>0.01</td>\n      <td>-0.01</td>\n      <td>-0.02</td>\n      <td>0.67</td>\n      <td>-0.33</td>\n      <td>-0.55</td>\n      <td>0.21</td>\n      <td>-0.32</td>\n      <td>1</td>\n      <td>14850.0</td>\n    </tr>\n    <tr>\n      <th>832</th>\n      <td>LG디스플레이</td>\n      <td>20221231</td>\n      <td>-0.02</td>\n      <td>-0.01</td>\n      <td>0.01</td>\n      <td>0.00</td>\n      <td>-0.03</td>\n      <td>-0.28</td>\n      <td>2.13</td>\n      <td>-0.58</td>\n      <td>-0.44</td>\n      <td>0.13</td>\n      <td>1</td>\n      <td>14250.0</td>\n    </tr>\n  </tbody>\n</table>\n<p>434 rows × 14 columns</p>\n</div>"
     },
     "execution_count": 45,
     "metadata": {},
     "output_type": "execute_result"
    }
   ],
   "source": [
    "up"
   ],
   "metadata": {
    "collapsed": false,
    "pycharm": {
     "name": "#%%\n"
    }
   }
  },
  {
   "cell_type": "code",
   "execution_count": 46,
   "outputs": [
    {
     "data": {
      "text/plain": "         회사명        날짜  5일전_종가  4일전_종가  3일전_종가  2일전_종가  1일전_종가  5일전_거래량  \\\n0       삼성전자  20190331    0.02   -0.02    0.00   -0.01   -0.01    -0.05   \n4       삼성전자  20190331    0.02   -0.04   -0.04    0.01    0.01     0.25   \n5       삼성전자  20190331   -0.02    0.01    0.01   -0.02    0.02    -0.44   \n6       삼성전자  20190331    0.05    0.00    0.00    0.01    0.01     2.04   \n8       삼성전자  20190630    0.01   -0.01    0.00    0.00   -0.01     0.06   \n..       ...       ...     ...     ...     ...     ...     ...      ...   \n822  LG디스플레이  20221231   -0.02   -0.01    0.00    0.07    0.03    -0.32   \n824  LG디스플레이  20221231    0.03   -0.04    0.03   -0.01   -0.02    -0.27   \n825  LG디스플레이  20221231   -0.01   -0.02   -0.06   -0.01   -0.02    -0.13   \n830  LG디스플레이  20221231    0.00    0.08   -0.01    0.00    0.08    -0.26   \n833  LG디스플레이  20221231    0.01    0.00   -0.03    0.04   -0.02    -0.58   \n\n     4일전_거래량  3일전_거래량  2일전_거래량  1일전_거래량  Either       종가  \n0       0.32    -0.33    -0.23     0.40       0  37600.0  \n4       1.53    -0.15    -0.56    -0.05       0  44800.0  \n5       0.04     0.12     0.35     0.31       0  46050.0  \n6      -0.69    -0.13    -0.07     0.73       0  45100.0  \n8      -0.39    -0.16     0.48    -0.31       0  45600.0  \n..       ...      ...      ...      ...     ...      ...  \n822    -0.37     0.01     1.54    -0.27       0  14250.0  \n824    -0.12    -0.15    -0.13     0.31       0  13400.0  \n825     0.31     0.47    -0.42     0.96       0  12450.0  \n830     2.19    -0.68     0.31     0.67       0  14650.0  \n833    -0.44     0.13     0.53    -0.23       0  13400.0  \n\n[400 rows x 14 columns]",
      "text/html": "<div>\n<style scoped>\n    .dataframe tbody tr th:only-of-type {\n        vertical-align: middle;\n    }\n\n    .dataframe tbody tr th {\n        vertical-align: top;\n    }\n\n    .dataframe thead th {\n        text-align: right;\n    }\n</style>\n<table border=\"1\" class=\"dataframe\">\n  <thead>\n    <tr style=\"text-align: right;\">\n      <th></th>\n      <th>회사명</th>\n      <th>날짜</th>\n      <th>5일전_종가</th>\n      <th>4일전_종가</th>\n      <th>3일전_종가</th>\n      <th>2일전_종가</th>\n      <th>1일전_종가</th>\n      <th>5일전_거래량</th>\n      <th>4일전_거래량</th>\n      <th>3일전_거래량</th>\n      <th>2일전_거래량</th>\n      <th>1일전_거래량</th>\n      <th>Either</th>\n      <th>종가</th>\n    </tr>\n  </thead>\n  <tbody>\n    <tr>\n      <th>0</th>\n      <td>삼성전자</td>\n      <td>20190331</td>\n      <td>0.02</td>\n      <td>-0.02</td>\n      <td>0.00</td>\n      <td>-0.01</td>\n      <td>-0.01</td>\n      <td>-0.05</td>\n      <td>0.32</td>\n      <td>-0.33</td>\n      <td>-0.23</td>\n      <td>0.40</td>\n      <td>0</td>\n      <td>37600.0</td>\n    </tr>\n    <tr>\n      <th>4</th>\n      <td>삼성전자</td>\n      <td>20190331</td>\n      <td>0.02</td>\n      <td>-0.04</td>\n      <td>-0.04</td>\n      <td>0.01</td>\n      <td>0.01</td>\n      <td>0.25</td>\n      <td>1.53</td>\n      <td>-0.15</td>\n      <td>-0.56</td>\n      <td>-0.05</td>\n      <td>0</td>\n      <td>44800.0</td>\n    </tr>\n    <tr>\n      <th>5</th>\n      <td>삼성전자</td>\n      <td>20190331</td>\n      <td>-0.02</td>\n      <td>0.01</td>\n      <td>0.01</td>\n      <td>-0.02</td>\n      <td>0.02</td>\n      <td>-0.44</td>\n      <td>0.04</td>\n      <td>0.12</td>\n      <td>0.35</td>\n      <td>0.31</td>\n      <td>0</td>\n      <td>46050.0</td>\n    </tr>\n    <tr>\n      <th>6</th>\n      <td>삼성전자</td>\n      <td>20190331</td>\n      <td>0.05</td>\n      <td>0.00</td>\n      <td>0.00</td>\n      <td>0.01</td>\n      <td>0.01</td>\n      <td>2.04</td>\n      <td>-0.69</td>\n      <td>-0.13</td>\n      <td>-0.07</td>\n      <td>0.73</td>\n      <td>0</td>\n      <td>45100.0</td>\n    </tr>\n    <tr>\n      <th>8</th>\n      <td>삼성전자</td>\n      <td>20190630</td>\n      <td>0.01</td>\n      <td>-0.01</td>\n      <td>0.00</td>\n      <td>0.00</td>\n      <td>-0.01</td>\n      <td>0.06</td>\n      <td>-0.39</td>\n      <td>-0.16</td>\n      <td>0.48</td>\n      <td>-0.31</td>\n      <td>0</td>\n      <td>45600.0</td>\n    </tr>\n    <tr>\n      <th>...</th>\n      <td>...</td>\n      <td>...</td>\n      <td>...</td>\n      <td>...</td>\n      <td>...</td>\n      <td>...</td>\n      <td>...</td>\n      <td>...</td>\n      <td>...</td>\n      <td>...</td>\n      <td>...</td>\n      <td>...</td>\n      <td>...</td>\n      <td>...</td>\n    </tr>\n    <tr>\n      <th>822</th>\n      <td>LG디스플레이</td>\n      <td>20221231</td>\n      <td>-0.02</td>\n      <td>-0.01</td>\n      <td>0.00</td>\n      <td>0.07</td>\n      <td>0.03</td>\n      <td>-0.32</td>\n      <td>-0.37</td>\n      <td>0.01</td>\n      <td>1.54</td>\n      <td>-0.27</td>\n      <td>0</td>\n      <td>14250.0</td>\n    </tr>\n    <tr>\n      <th>824</th>\n      <td>LG디스플레이</td>\n      <td>20221231</td>\n      <td>0.03</td>\n      <td>-0.04</td>\n      <td>0.03</td>\n      <td>-0.01</td>\n      <td>-0.02</td>\n      <td>-0.27</td>\n      <td>-0.12</td>\n      <td>-0.15</td>\n      <td>-0.13</td>\n      <td>0.31</td>\n      <td>0</td>\n      <td>13400.0</td>\n    </tr>\n    <tr>\n      <th>825</th>\n      <td>LG디스플레이</td>\n      <td>20221231</td>\n      <td>-0.01</td>\n      <td>-0.02</td>\n      <td>-0.06</td>\n      <td>-0.01</td>\n      <td>-0.02</td>\n      <td>-0.13</td>\n      <td>0.31</td>\n      <td>0.47</td>\n      <td>-0.42</td>\n      <td>0.96</td>\n      <td>0</td>\n      <td>12450.0</td>\n    </tr>\n    <tr>\n      <th>830</th>\n      <td>LG디스플레이</td>\n      <td>20221231</td>\n      <td>0.00</td>\n      <td>0.08</td>\n      <td>-0.01</td>\n      <td>0.00</td>\n      <td>0.08</td>\n      <td>-0.26</td>\n      <td>2.19</td>\n      <td>-0.68</td>\n      <td>0.31</td>\n      <td>0.67</td>\n      <td>0</td>\n      <td>14650.0</td>\n    </tr>\n    <tr>\n      <th>833</th>\n      <td>LG디스플레이</td>\n      <td>20221231</td>\n      <td>0.01</td>\n      <td>0.00</td>\n      <td>-0.03</td>\n      <td>0.04</td>\n      <td>-0.02</td>\n      <td>-0.58</td>\n      <td>-0.44</td>\n      <td>0.13</td>\n      <td>0.53</td>\n      <td>-0.23</td>\n      <td>0</td>\n      <td>13400.0</td>\n    </tr>\n  </tbody>\n</table>\n<p>400 rows × 14 columns</p>\n</div>"
     },
     "execution_count": 46,
     "metadata": {},
     "output_type": "execute_result"
    }
   ],
   "source": [
    "down"
   ],
   "metadata": {
    "collapsed": false,
    "pycharm": {
     "name": "#%%\n"
    }
   }
  },
  {
   "cell_type": "code",
   "execution_count": 47,
   "outputs": [],
   "source": [
    "# 분석에 불필요한 회사명, 날짜 칼럼을 제거하고 예측해야할 값인 종가 칼럼 또한 제거하여 선형회귀의 x로 사용될 데이터 프레임 생성\n",
    "\n",
    "X_up = up.drop(columns=['종가','회사명','날짜'])\n",
    "\n",
    "# 선형회귀에서 y로 사용될 종가 설정\n",
    "\n",
    "y_up = up['종가']"
   ],
   "metadata": {
    "collapsed": false,
    "pycharm": {
     "name": "#%%\n"
    }
   }
  },
  {
   "cell_type": "code",
   "execution_count": 48,
   "outputs": [],
   "source": [
    "# 분석에 불필요한 회사명, 날짜 칼럼을 제거하고 예측해야할 값인 종가 칼럼 또한 제거하여 선형회귀의 x로 사용될 데이터 프레임 생성\n",
    "\n",
    "X_down = down.drop(columns=['종가','회사명','날짜'])\n",
    "\n",
    "# 선형회귀에서 y로 사용될 종가 설정\n",
    "\n",
    "y_down = down['종가']"
   ],
   "metadata": {
    "collapsed": false,
    "pycharm": {
     "name": "#%%\n"
    }
   }
  },
  {
   "cell_type": "code",
   "execution_count": 49,
   "outputs": [],
   "source": [
    "from sklearn.linear_model import LinearRegression\n",
    "from sklearn.model_selection import train_test_split"
   ],
   "metadata": {
    "collapsed": false,
    "pycharm": {
     "name": "#%%\n"
    }
   }
  },
  {
   "cell_type": "code",
   "execution_count": 50,
   "outputs": [],
   "source": [
    "# 상승관련 회귀식 작성을 위해 데이터를 split 해줌\n",
    "\n",
    "X_train, X_test, y_train, y_test = train_test_split(X_up, y_up, test_size=0.2, random_state=42)"
   ],
   "metadata": {
    "collapsed": false,
    "pycharm": {
     "name": "#%%\n"
    }
   }
  },
  {
   "cell_type": "code",
   "execution_count": 51,
   "outputs": [],
   "source": [
    "lr = LinearRegression()"
   ],
   "metadata": {
    "collapsed": false,
    "pycharm": {
     "name": "#%%\n"
    }
   }
  },
  {
   "cell_type": "code",
   "execution_count": 52,
   "outputs": [
    {
     "data": {
      "text/plain": "LinearRegression()",
      "text/html": "<style>#sk-container-id-1 {color: black;background-color: white;}#sk-container-id-1 pre{padding: 0;}#sk-container-id-1 div.sk-toggleable {background-color: white;}#sk-container-id-1 label.sk-toggleable__label {cursor: pointer;display: block;width: 100%;margin-bottom: 0;padding: 0.3em;box-sizing: border-box;text-align: center;}#sk-container-id-1 label.sk-toggleable__label-arrow:before {content: \"▸\";float: left;margin-right: 0.25em;color: #696969;}#sk-container-id-1 label.sk-toggleable__label-arrow:hover:before {color: black;}#sk-container-id-1 div.sk-estimator:hover label.sk-toggleable__label-arrow:before {color: black;}#sk-container-id-1 div.sk-toggleable__content {max-height: 0;max-width: 0;overflow: hidden;text-align: left;background-color: #f0f8ff;}#sk-container-id-1 div.sk-toggleable__content pre {margin: 0.2em;color: black;border-radius: 0.25em;background-color: #f0f8ff;}#sk-container-id-1 input.sk-toggleable__control:checked~div.sk-toggleable__content {max-height: 200px;max-width: 100%;overflow: auto;}#sk-container-id-1 input.sk-toggleable__control:checked~label.sk-toggleable__label-arrow:before {content: \"▾\";}#sk-container-id-1 div.sk-estimator input.sk-toggleable__control:checked~label.sk-toggleable__label {background-color: #d4ebff;}#sk-container-id-1 div.sk-label input.sk-toggleable__control:checked~label.sk-toggleable__label {background-color: #d4ebff;}#sk-container-id-1 input.sk-hidden--visually {border: 0;clip: rect(1px 1px 1px 1px);clip: rect(1px, 1px, 1px, 1px);height: 1px;margin: -1px;overflow: hidden;padding: 0;position: absolute;width: 1px;}#sk-container-id-1 div.sk-estimator {font-family: monospace;background-color: #f0f8ff;border: 1px dotted black;border-radius: 0.25em;box-sizing: border-box;margin-bottom: 0.5em;}#sk-container-id-1 div.sk-estimator:hover {background-color: #d4ebff;}#sk-container-id-1 div.sk-parallel-item::after {content: \"\";width: 100%;border-bottom: 1px solid gray;flex-grow: 1;}#sk-container-id-1 div.sk-label:hover label.sk-toggleable__label {background-color: #d4ebff;}#sk-container-id-1 div.sk-serial::before {content: \"\";position: absolute;border-left: 1px solid gray;box-sizing: border-box;top: 0;bottom: 0;left: 50%;z-index: 0;}#sk-container-id-1 div.sk-serial {display: flex;flex-direction: column;align-items: center;background-color: white;padding-right: 0.2em;padding-left: 0.2em;position: relative;}#sk-container-id-1 div.sk-item {position: relative;z-index: 1;}#sk-container-id-1 div.sk-parallel {display: flex;align-items: stretch;justify-content: center;background-color: white;position: relative;}#sk-container-id-1 div.sk-item::before, #sk-container-id-1 div.sk-parallel-item::before {content: \"\";position: absolute;border-left: 1px solid gray;box-sizing: border-box;top: 0;bottom: 0;left: 50%;z-index: -1;}#sk-container-id-1 div.sk-parallel-item {display: flex;flex-direction: column;z-index: 1;position: relative;background-color: white;}#sk-container-id-1 div.sk-parallel-item:first-child::after {align-self: flex-end;width: 50%;}#sk-container-id-1 div.sk-parallel-item:last-child::after {align-self: flex-start;width: 50%;}#sk-container-id-1 div.sk-parallel-item:only-child::after {width: 0;}#sk-container-id-1 div.sk-dashed-wrapped {border: 1px dashed gray;margin: 0 0.4em 0.5em 0.4em;box-sizing: border-box;padding-bottom: 0.4em;background-color: white;}#sk-container-id-1 div.sk-label label {font-family: monospace;font-weight: bold;display: inline-block;line-height: 1.2em;}#sk-container-id-1 div.sk-label-container {text-align: center;}#sk-container-id-1 div.sk-container {/* jupyter's `normalize.less` sets `[hidden] { display: none; }` but bootstrap.min.css set `[hidden] { display: none !important; }` so we also need the `!important` here to be able to override the default hidden behavior on the sphinx rendered scikit-learn.org. See: https://github.com/scikit-learn/scikit-learn/issues/21755 */display: inline-block !important;position: relative;}#sk-container-id-1 div.sk-text-repr-fallback {display: none;}</style><div id=\"sk-container-id-1\" class=\"sk-top-container\"><div class=\"sk-text-repr-fallback\"><pre>LinearRegression()</pre><b>In a Jupyter environment, please rerun this cell to show the HTML representation or trust the notebook. <br />On GitHub, the HTML representation is unable to render, please try loading this page with nbviewer.org.</b></div><div class=\"sk-container\" hidden><div class=\"sk-item\"><div class=\"sk-estimator sk-toggleable\"><input class=\"sk-toggleable__control sk-hidden--visually\" id=\"sk-estimator-id-1\" type=\"checkbox\" checked><label for=\"sk-estimator-id-1\" class=\"sk-toggleable__label sk-toggleable__label-arrow\">LinearRegression</label><div class=\"sk-toggleable__content\"><pre>LinearRegression()</pre></div></div></div></div></div>"
     },
     "execution_count": 52,
     "metadata": {},
     "output_type": "execute_result"
    }
   ],
   "source": [
    "# Fit a linear regression model to the training data\n",
    "lr = LinearRegression()\n",
    "lr.fit(X_train, y_train)"
   ],
   "metadata": {
    "collapsed": false,
    "pycharm": {
     "name": "#%%\n"
    }
   }
  },
  {
   "cell_type": "code",
   "execution_count": 53,
   "outputs": [
    {
     "name": "stdout",
     "output_type": "stream",
     "text": [
      "535     68100.0\n",
      "147    126500.0\n",
      "212    393000.0\n",
      "484     94000.0\n",
      "609    124000.0\n",
      "         ...   \n",
      "812     15450.0\n",
      "110    172500.0\n",
      "232    552000.0\n",
      "48      84200.0\n",
      "39      58700.0\n",
      "Name: 종가, Length: 87, dtype: float64\n",
      "[151144.02697334 176750.81148657 221649.84059302 210820.72129117\n",
      " 193575.44950692 171628.24782497 162863.28857639 261384.75629589\n",
      " 184260.33360023 168285.73396612 175894.82115789 180148.23874884\n",
      " 180139.95161416 182765.29886083 136951.74034451 154079.00780547\n",
      " 147682.0787009  204230.8323712  196519.47685167 154198.41985595\n",
      "  83406.91535095 180626.46793861 174512.7407218  183540.87836384\n",
      " 167494.01538884 151759.07680349 183079.24342983 212578.28978211\n",
      " 142852.03785367 206293.46745606 161599.90801999 171812.0887292\n",
      " 159981.57371422 200462.61919129 147437.76533651 224314.44033519\n",
      " 130559.35074135 161252.65496136 166929.82264257 176195.47733199\n",
      " 167494.01538884 160079.23051065 165771.88729203 180932.47537863\n",
      " 161238.95703084 158254.16570186 147224.70340953 182765.29886083\n",
      " 142852.03785367 166088.00902829 199976.66538176 221649.84059302\n",
      " 206273.21025723 194999.81767187 180932.47537863 150255.93105733\n",
      " 185537.94449534 221848.13700534 206268.58595771 188248.78965679\n",
      " 217797.40935698 199206.32758476 161723.10244836 165052.96714288\n",
      " 174424.23952623 164704.86346479 165891.46798718 331114.32886841\n",
      " 185653.49009409 158928.69108522 152453.48353922 236346.32307381\n",
      " 187715.74227907 151612.67342975 172366.34320663 160079.23051065\n",
      " 179196.25252978 301100.6955913  184260.33360023 212446.45827993\n",
      " 138213.89237006 174812.8425405  158754.21847142 161723.10244836\n",
      " 166338.59284327 180626.46793861 174318.07390935]\n"
     ]
    }
   ],
   "source": [
    "y_test_hat = lr.predict(X_test)\n",
    "print(y_test)\n",
    "print(y_test_hat)"
   ],
   "metadata": {
    "collapsed": false,
    "pycharm": {
     "name": "#%%\n"
    }
   }
  },
  {
   "cell_type": "code",
   "execution_count": 54,
   "outputs": [
    {
     "name": "stdout",
     "output_type": "stream",
     "text": [
      "performance for TEST--------\n",
      "test MAE :  138084.615257449\n",
      "test RMSE :  188058.84145775912\n",
      "test R_square :  -0.09951506716449154\n"
     ]
    }
   ],
   "source": [
    "from sklearn.metrics import mean_absolute_error, mean_squared_error, r2_score\n",
    "\n",
    "# 회귀식 작성 후 predict 결과 회귀식이 설명력이 없어 무의미하다고 판단\n",
    "\n",
    "print('performance for TEST--------')\n",
    "print('test MAE : ', mean_absolute_error(y_test, y_test_hat))\n",
    "print('test RMSE : ', mean_squared_error(y_test, y_test_hat)**0.5)\n",
    "print('test R_square : ', r2_score(y_test, y_test_hat))"
   ],
   "metadata": {
    "collapsed": false,
    "pycharm": {
     "name": "#%%\n"
    }
   }
  },
  {
   "cell_type": "code",
   "execution_count": 55,
   "outputs": [],
   "source": [
    "from sklearn.linear_model import Ridge\n",
    "training_r2 = []\n",
    "test_r2 = []\n",
    "\n",
    "alpha_settings = [0, 0.1, 1, 10]\n",
    "for alpha in alpha_settings:\n",
    "    ridge = Ridge(alpha=alpha)\n",
    "    ridge.fit(X_train, y_train)\n",
    "\n",
    "    y_train_hat = ridge.predict(X_train)\n",
    "    training_r2.append(r2_score(y_train, y_train_hat))\n",
    "\n",
    "    y_test_hat = ridge.predict(X_test)\n",
    "    test_r2.append(r2_score(y_test, y_test_hat))"
   ],
   "metadata": {
    "collapsed": false,
    "pycharm": {
     "name": "#%%\n"
    }
   }
  },
  {
   "cell_type": "code",
   "execution_count": 56,
   "outputs": [
    {
     "data": {
      "text/plain": "   alpha  training R2   test R2\n0    0.0     0.033154 -0.099515\n1    0.1     0.031086 -0.080919\n2    1.0     0.017972 -0.059499\n3   10.0     0.010453 -0.054123",
      "text/html": "<div>\n<style scoped>\n    .dataframe tbody tr th:only-of-type {\n        vertical-align: middle;\n    }\n\n    .dataframe tbody tr th {\n        vertical-align: top;\n    }\n\n    .dataframe thead th {\n        text-align: right;\n    }\n</style>\n<table border=\"1\" class=\"dataframe\">\n  <thead>\n    <tr style=\"text-align: right;\">\n      <th></th>\n      <th>alpha</th>\n      <th>training R2</th>\n      <th>test R2</th>\n    </tr>\n  </thead>\n  <tbody>\n    <tr>\n      <th>0</th>\n      <td>0.0</td>\n      <td>0.033154</td>\n      <td>-0.099515</td>\n    </tr>\n    <tr>\n      <th>1</th>\n      <td>0.1</td>\n      <td>0.031086</td>\n      <td>-0.080919</td>\n    </tr>\n    <tr>\n      <th>2</th>\n      <td>1.0</td>\n      <td>0.017972</td>\n      <td>-0.059499</td>\n    </tr>\n    <tr>\n      <th>3</th>\n      <td>10.0</td>\n      <td>0.010453</td>\n      <td>-0.054123</td>\n    </tr>\n  </tbody>\n</table>\n</div>"
     },
     "execution_count": 56,
     "metadata": {},
     "output_type": "execute_result"
    }
   ],
   "source": [
    "pd.DataFrame({\"alpha\":alpha_settings, \"training R2\": training_r2, \"test R2\": test_r2})"
   ],
   "metadata": {
    "collapsed": false,
    "pycharm": {
     "name": "#%%\n"
    }
   }
  },
  {
   "cell_type": "code",
   "execution_count": 57,
   "outputs": [],
   "source": [
    "from sklearn.linear_model import Lasso\n",
    "\n",
    "training_r2 = []\n",
    "test_r2 = []\n",
    "num_vars_used = []\n",
    "\n",
    "alpha_settings = [0.0001, 0.001, 0.01, 0.1, 1]\n",
    "for alpha in alpha_settings:\n",
    "    lasso = Lasso(alpha=alpha)\n",
    "    lasso.fit(X_train, y_train)\n",
    "\n",
    "    num_vars_used.append(sum(lasso.coef_ != 0))\n",
    "\n",
    "    y_train_hat = lasso.predict(X_train)\n",
    "    training_r2.append(r2_score(y_train, y_train_hat))\n",
    "\n",
    "    y_test_hat = lasso.predict(X_test)\n",
    "    test_r2.append(r2_score(y_test, y_test_hat))"
   ],
   "metadata": {
    "collapsed": false,
    "pycharm": {
     "name": "#%%\n"
    }
   }
  },
  {
   "cell_type": "code",
   "execution_count": 58,
   "outputs": [
    {
     "data": {
      "text/plain": "    alpha  training R2   test R2  variables used\n0  0.0001     0.033154 -0.099515              10\n1  0.0010     0.033154 -0.099515              10\n2  0.0100     0.033154 -0.099514              10\n3  0.1000     0.033154 -0.099502              10\n4  1.0000     0.033153 -0.099388              10",
      "text/html": "<div>\n<style scoped>\n    .dataframe tbody tr th:only-of-type {\n        vertical-align: middle;\n    }\n\n    .dataframe tbody tr th {\n        vertical-align: top;\n    }\n\n    .dataframe thead th {\n        text-align: right;\n    }\n</style>\n<table border=\"1\" class=\"dataframe\">\n  <thead>\n    <tr style=\"text-align: right;\">\n      <th></th>\n      <th>alpha</th>\n      <th>training R2</th>\n      <th>test R2</th>\n      <th>variables used</th>\n    </tr>\n  </thead>\n  <tbody>\n    <tr>\n      <th>0</th>\n      <td>0.0001</td>\n      <td>0.033154</td>\n      <td>-0.099515</td>\n      <td>10</td>\n    </tr>\n    <tr>\n      <th>1</th>\n      <td>0.0010</td>\n      <td>0.033154</td>\n      <td>-0.099515</td>\n      <td>10</td>\n    </tr>\n    <tr>\n      <th>2</th>\n      <td>0.0100</td>\n      <td>0.033154</td>\n      <td>-0.099514</td>\n      <td>10</td>\n    </tr>\n    <tr>\n      <th>3</th>\n      <td>0.1000</td>\n      <td>0.033154</td>\n      <td>-0.099502</td>\n      <td>10</td>\n    </tr>\n    <tr>\n      <th>4</th>\n      <td>1.0000</td>\n      <td>0.033153</td>\n      <td>-0.099388</td>\n      <td>10</td>\n    </tr>\n  </tbody>\n</table>\n</div>"
     },
     "execution_count": 58,
     "metadata": {},
     "output_type": "execute_result"
    }
   ],
   "source": [
    "pd.DataFrame({\"alpha\":alpha_settings, \"training R2\": training_r2, \"test R2\": test_r2, \"variables used\": num_vars_used})"
   ],
   "metadata": {
    "collapsed": false,
    "pycharm": {
     "name": "#%%\n"
    }
   }
  },
  {
   "cell_type": "markdown",
   "source": [
    "단순히 거래량과 종가의 변동률로는 의미없는 선형회귀를 진행할 수 없다고 판단하고 재무제표를 추가하여 회귀를 진행"
   ],
   "metadata": {
    "collapsed": false
   }
  },
  {
   "cell_type": "markdown",
   "source": [
    "<h1>재무제표 부분 불러오기"
   ],
   "metadata": {
    "collapsed": false
   }
  },
  {
   "cell_type": "code",
   "execution_count": 61,
   "outputs": [],
   "source": [
    "# 이전에 생성한 재무제표 파일 불러오기\n",
    "\n",
    "samsungsdi_fin  = pd.read_excel(\"재무제표 관련/삼성SDI_fs_info.xlsx\")"
   ],
   "metadata": {
    "collapsed": false,
    "pycharm": {
     "name": "#%%\n"
    }
   }
  },
  {
   "cell_type": "code",
   "execution_count": 62,
   "outputs": [
    {
     "data": {
      "text/plain": "                자산총계             이익잉여금              자본총계       ROA       ROE  \\\n0   30257525171127.0  10468351380974.0  17217502156128.0  0.345975  0.608006   \n1   30367368304672.0   9800369530579.0  16907048646432.0  0.322727  0.579662   \n2   28841886693090.0   9197450537545.0  16048084795905.0  0.318892  0.573118   \n3   27004998013827.0   8806123158633.0  15660257401643.0  0.326092  0.562323   \n4   25833192996936.0   8516473334138.0  15196699314855.0  0.329672  0.560416   \n5   24521226789741.0   8155428104447.0  14874548452763.0  0.332586  0.548281   \n6   23215380587492.0   7760159027433.0  14184710221295.0  0.334268  0.547079   \n7   21922841096152.0   7485374242446.0  13642307365213.0  0.341442  0.548688   \n8   21534232266829.0   7418101759867.0  13358926888116.0   0.34448  0.555292   \n9   20809397616941.0   7096725036429.0  12964672894936.0  0.341035  0.547389   \n10  20539962732324.0   6873695710655.0  12652123922583.0   0.33465  0.543284   \n11  19886909228403.0   6830318479970.0  12464269085684.0  0.343458  0.547992   \n12  19852096448004.0   6906868477500.0  12660345195136.0  0.347916  0.545551   \n13  19736996217646.0   6952659346370.0  12755620648692.0  0.352265  0.545066   \n14  19765807258363.0   6744304361902.0  12517222577563.0  0.341211  0.538802   \n15  19554270209306.0   6595751023973.0  12309548976968.0  0.337305  0.535824   \n16  19349721183929.0   6612515753726.0  12225219216190.0  0.341737  0.540891   \n17  15741705378257.0   5600587220357.0  11451999497442.0   0.35578  0.489049   \n18  14900311234207.0   4994717277797.0  10964110226958.0  0.335209  0.455552   \n\n      회사명        날짜  \n0   삼성SDI  20221231  \n1   삼성SDI  20220930  \n2   삼성SDI  20220630  \n3   삼성SDI  20220331  \n4   삼성SDI  20211231  \n5   삼성SDI  20210930  \n6   삼성SDI  20210630  \n7   삼성SDI  20210331  \n8   삼성SDI  20201231  \n9   삼성SDI  20200930  \n10  삼성SDI  20200630  \n11  삼성SDI  20200331  \n12  삼성SDI  20191231  \n13  삼성SDI  20190930  \n14  삼성SDI  20190630  \n15  삼성SDI  20190331  \n16  삼성SDI  20181231  \n17  삼성SDI  20171231  \n18  삼성SDI  20161231  ",
      "text/html": "<div>\n<style scoped>\n    .dataframe tbody tr th:only-of-type {\n        vertical-align: middle;\n    }\n\n    .dataframe tbody tr th {\n        vertical-align: top;\n    }\n\n    .dataframe thead th {\n        text-align: right;\n    }\n</style>\n<table border=\"1\" class=\"dataframe\">\n  <thead>\n    <tr style=\"text-align: right;\">\n      <th></th>\n      <th>자산총계</th>\n      <th>이익잉여금</th>\n      <th>자본총계</th>\n      <th>ROA</th>\n      <th>ROE</th>\n      <th>회사명</th>\n      <th>날짜</th>\n    </tr>\n  </thead>\n  <tbody>\n    <tr>\n      <th>0</th>\n      <td>30257525171127.0</td>\n      <td>10468351380974.0</td>\n      <td>17217502156128.0</td>\n      <td>0.345975</td>\n      <td>0.608006</td>\n      <td>삼성SDI</td>\n      <td>20221231</td>\n    </tr>\n    <tr>\n      <th>1</th>\n      <td>30367368304672.0</td>\n      <td>9800369530579.0</td>\n      <td>16907048646432.0</td>\n      <td>0.322727</td>\n      <td>0.579662</td>\n      <td>삼성SDI</td>\n      <td>20220930</td>\n    </tr>\n    <tr>\n      <th>2</th>\n      <td>28841886693090.0</td>\n      <td>9197450537545.0</td>\n      <td>16048084795905.0</td>\n      <td>0.318892</td>\n      <td>0.573118</td>\n      <td>삼성SDI</td>\n      <td>20220630</td>\n    </tr>\n    <tr>\n      <th>3</th>\n      <td>27004998013827.0</td>\n      <td>8806123158633.0</td>\n      <td>15660257401643.0</td>\n      <td>0.326092</td>\n      <td>0.562323</td>\n      <td>삼성SDI</td>\n      <td>20220331</td>\n    </tr>\n    <tr>\n      <th>4</th>\n      <td>25833192996936.0</td>\n      <td>8516473334138.0</td>\n      <td>15196699314855.0</td>\n      <td>0.329672</td>\n      <td>0.560416</td>\n      <td>삼성SDI</td>\n      <td>20211231</td>\n    </tr>\n    <tr>\n      <th>5</th>\n      <td>24521226789741.0</td>\n      <td>8155428104447.0</td>\n      <td>14874548452763.0</td>\n      <td>0.332586</td>\n      <td>0.548281</td>\n      <td>삼성SDI</td>\n      <td>20210930</td>\n    </tr>\n    <tr>\n      <th>6</th>\n      <td>23215380587492.0</td>\n      <td>7760159027433.0</td>\n      <td>14184710221295.0</td>\n      <td>0.334268</td>\n      <td>0.547079</td>\n      <td>삼성SDI</td>\n      <td>20210630</td>\n    </tr>\n    <tr>\n      <th>7</th>\n      <td>21922841096152.0</td>\n      <td>7485374242446.0</td>\n      <td>13642307365213.0</td>\n      <td>0.341442</td>\n      <td>0.548688</td>\n      <td>삼성SDI</td>\n      <td>20210331</td>\n    </tr>\n    <tr>\n      <th>8</th>\n      <td>21534232266829.0</td>\n      <td>7418101759867.0</td>\n      <td>13358926888116.0</td>\n      <td>0.34448</td>\n      <td>0.555292</td>\n      <td>삼성SDI</td>\n      <td>20201231</td>\n    </tr>\n    <tr>\n      <th>9</th>\n      <td>20809397616941.0</td>\n      <td>7096725036429.0</td>\n      <td>12964672894936.0</td>\n      <td>0.341035</td>\n      <td>0.547389</td>\n      <td>삼성SDI</td>\n      <td>20200930</td>\n    </tr>\n    <tr>\n      <th>10</th>\n      <td>20539962732324.0</td>\n      <td>6873695710655.0</td>\n      <td>12652123922583.0</td>\n      <td>0.33465</td>\n      <td>0.543284</td>\n      <td>삼성SDI</td>\n      <td>20200630</td>\n    </tr>\n    <tr>\n      <th>11</th>\n      <td>19886909228403.0</td>\n      <td>6830318479970.0</td>\n      <td>12464269085684.0</td>\n      <td>0.343458</td>\n      <td>0.547992</td>\n      <td>삼성SDI</td>\n      <td>20200331</td>\n    </tr>\n    <tr>\n      <th>12</th>\n      <td>19852096448004.0</td>\n      <td>6906868477500.0</td>\n      <td>12660345195136.0</td>\n      <td>0.347916</td>\n      <td>0.545551</td>\n      <td>삼성SDI</td>\n      <td>20191231</td>\n    </tr>\n    <tr>\n      <th>13</th>\n      <td>19736996217646.0</td>\n      <td>6952659346370.0</td>\n      <td>12755620648692.0</td>\n      <td>0.352265</td>\n      <td>0.545066</td>\n      <td>삼성SDI</td>\n      <td>20190930</td>\n    </tr>\n    <tr>\n      <th>14</th>\n      <td>19765807258363.0</td>\n      <td>6744304361902.0</td>\n      <td>12517222577563.0</td>\n      <td>0.341211</td>\n      <td>0.538802</td>\n      <td>삼성SDI</td>\n      <td>20190630</td>\n    </tr>\n    <tr>\n      <th>15</th>\n      <td>19554270209306.0</td>\n      <td>6595751023973.0</td>\n      <td>12309548976968.0</td>\n      <td>0.337305</td>\n      <td>0.535824</td>\n      <td>삼성SDI</td>\n      <td>20190331</td>\n    </tr>\n    <tr>\n      <th>16</th>\n      <td>19349721183929.0</td>\n      <td>6612515753726.0</td>\n      <td>12225219216190.0</td>\n      <td>0.341737</td>\n      <td>0.540891</td>\n      <td>삼성SDI</td>\n      <td>20181231</td>\n    </tr>\n    <tr>\n      <th>17</th>\n      <td>15741705378257.0</td>\n      <td>5600587220357.0</td>\n      <td>11451999497442.0</td>\n      <td>0.35578</td>\n      <td>0.489049</td>\n      <td>삼성SDI</td>\n      <td>20171231</td>\n    </tr>\n    <tr>\n      <th>18</th>\n      <td>14900311234207.0</td>\n      <td>4994717277797.0</td>\n      <td>10964110226958.0</td>\n      <td>0.335209</td>\n      <td>0.455552</td>\n      <td>삼성SDI</td>\n      <td>20161231</td>\n    </tr>\n  </tbody>\n</table>\n</div>"
     },
     "execution_count": 62,
     "metadata": {},
     "output_type": "execute_result"
    }
   ],
   "source": [
    "samsungsdi_fin= samsungsdi_fin.transpose()\n",
    "\n",
    "# 첫번째 row를 칼럼으로 설정\n",
    "header = samsungsdi_fin.iloc[0]\n",
    "samsungsdi_fin = samsungsdi_fin[1:]\n",
    "samsungsdi_fin.rename(columns=header, inplace=True)\n",
    "\n",
    "# 회사명 칼럼 생성\n",
    "samsungsdi_fin['회사명'] = '삼성SDI'\n",
    "# 날짜부분이 index로 설정되어 있어 날짜 칼럼을 만들어서 넣어줌\n",
    "samsungsdi_fin['날짜'] = samsungsdi_fin.index\n",
    "samsungsdi_fin['날짜'] = samsungsdi_fin['날짜'].astype(int)\n",
    "# 인덱싱 재설정\n",
    "samsungsdi_fin = samsungsdi_fin.reset_index(drop=True)\n",
    "\n",
    "samsungsdi_fin"
   ],
   "metadata": {
    "collapsed": false,
    "pycharm": {
     "name": "#%%\n"
    }
   }
  },
  {
   "cell_type": "markdown",
   "source": [
    "<h2>재무제표 과정 또한 위의 과정과 동일하여 주석 생략하고 진행하였습니다."
   ],
   "metadata": {
    "collapsed": false
   }
  },
  {
   "cell_type": "code",
   "execution_count": 63,
   "outputs": [],
   "source": [
    "lgdis_fin  = pd.read_excel(\"재무제표 관련/LG디스플레이_fs_info.xlsx\")"
   ],
   "metadata": {
    "collapsed": false,
    "pycharm": {
     "name": "#%%\n"
    }
   }
  },
  {
   "cell_type": "code",
   "execution_count": 64,
   "outputs": [
    {
     "data": {
      "text/plain": "                자산총계             이익잉여금              자본총계       ROA       ROE  \\\n0   35686019000000.0   5359769000000.0  11319227000000.0  0.150192   0.47351   \n1   40133950000000.0   7278419000000.0  14283603000000.0  0.181353  0.509565   \n2   38305442000000.0   8072910000000.0  14630334000000.0  0.210751  0.551793   \n3   38267145000000.0   8325146000000.0  14757226000000.0  0.217553   0.56414   \n4   38154515000000.0   8541521000000.0  14762501000000.0  0.223867  0.578596   \n5   37606183000000.0   8526710000000.0  14611637000000.0  0.226737  0.583556   \n6   36323689000000.0   8109354000000.0  13760723000000.0  0.223252  0.589312   \n7   36397551000000.0   7748806000000.0  13239101000000.0  0.212894  0.585297   \n8   35066012000000.0   7518786000000.0  12731428000000.0  0.214418  0.590569   \n9   35497408000000.0   6841972000000.0  12174379000000.0  0.192746  0.561998   \n10  35054254000000.0   6812370000000.0  12100773000000.0  0.194338   0.56297   \n11  35885572000000.0   7302500000000.0  12563061000000.0  0.203494  0.581268   \n12  35574563000000.0   7503312000000.0  12488281000000.0  0.210918  0.600828   \n13  37443065000000.0   9201528000000.0  14325925000000.0  0.245747  0.642299   \n14  35600739000000.0   9622298000000.0  14728558000000.0  0.270284  0.653309   \n15  35387981000000.0  10176992000000.0  15289534000000.0  0.287583  0.665618   \n16  33175710000000.0  10239965000000.0  14886246000000.0  0.308659  0.687881   \n17  29159687000000.0  10621571000000.0  14981510000000.0  0.364255  0.708979   \n18  24884336000000.0   9004283000000.0  13462388000000.0  0.361845  0.668847   \n\n        회사명        날짜  \n0   LG디스플레이  20221231  \n1   LG디스플레이  20220930  \n2   LG디스플레이  20220630  \n3   LG디스플레이  20220331  \n4   LG디스플레이  20211231  \n5   LG디스플레이  20210930  \n6   LG디스플레이  20210630  \n7   LG디스플레이  20210331  \n8   LG디스플레이  20201231  \n9   LG디스플레이  20200930  \n10  LG디스플레이  20200630  \n11  LG디스플레이  20200331  \n12  LG디스플레이  20191231  \n13  LG디스플레이  20190930  \n14  LG디스플레이  20190630  \n15  LG디스플레이  20190331  \n16  LG디스플레이  20181231  \n17  LG디스플레이  20171231  \n18  LG디스플레이  20161231  ",
      "text/html": "<div>\n<style scoped>\n    .dataframe tbody tr th:only-of-type {\n        vertical-align: middle;\n    }\n\n    .dataframe tbody tr th {\n        vertical-align: top;\n    }\n\n    .dataframe thead th {\n        text-align: right;\n    }\n</style>\n<table border=\"1\" class=\"dataframe\">\n  <thead>\n    <tr style=\"text-align: right;\">\n      <th></th>\n      <th>자산총계</th>\n      <th>이익잉여금</th>\n      <th>자본총계</th>\n      <th>ROA</th>\n      <th>ROE</th>\n      <th>회사명</th>\n      <th>날짜</th>\n    </tr>\n  </thead>\n  <tbody>\n    <tr>\n      <th>0</th>\n      <td>35686019000000.0</td>\n      <td>5359769000000.0</td>\n      <td>11319227000000.0</td>\n      <td>0.150192</td>\n      <td>0.47351</td>\n      <td>LG디스플레이</td>\n      <td>20221231</td>\n    </tr>\n    <tr>\n      <th>1</th>\n      <td>40133950000000.0</td>\n      <td>7278419000000.0</td>\n      <td>14283603000000.0</td>\n      <td>0.181353</td>\n      <td>0.509565</td>\n      <td>LG디스플레이</td>\n      <td>20220930</td>\n    </tr>\n    <tr>\n      <th>2</th>\n      <td>38305442000000.0</td>\n      <td>8072910000000.0</td>\n      <td>14630334000000.0</td>\n      <td>0.210751</td>\n      <td>0.551793</td>\n      <td>LG디스플레이</td>\n      <td>20220630</td>\n    </tr>\n    <tr>\n      <th>3</th>\n      <td>38267145000000.0</td>\n      <td>8325146000000.0</td>\n      <td>14757226000000.0</td>\n      <td>0.217553</td>\n      <td>0.56414</td>\n      <td>LG디스플레이</td>\n      <td>20220331</td>\n    </tr>\n    <tr>\n      <th>4</th>\n      <td>38154515000000.0</td>\n      <td>8541521000000.0</td>\n      <td>14762501000000.0</td>\n      <td>0.223867</td>\n      <td>0.578596</td>\n      <td>LG디스플레이</td>\n      <td>20211231</td>\n    </tr>\n    <tr>\n      <th>5</th>\n      <td>37606183000000.0</td>\n      <td>8526710000000.0</td>\n      <td>14611637000000.0</td>\n      <td>0.226737</td>\n      <td>0.583556</td>\n      <td>LG디스플레이</td>\n      <td>20210930</td>\n    </tr>\n    <tr>\n      <th>6</th>\n      <td>36323689000000.0</td>\n      <td>8109354000000.0</td>\n      <td>13760723000000.0</td>\n      <td>0.223252</td>\n      <td>0.589312</td>\n      <td>LG디스플레이</td>\n      <td>20210630</td>\n    </tr>\n    <tr>\n      <th>7</th>\n      <td>36397551000000.0</td>\n      <td>7748806000000.0</td>\n      <td>13239101000000.0</td>\n      <td>0.212894</td>\n      <td>0.585297</td>\n      <td>LG디스플레이</td>\n      <td>20210331</td>\n    </tr>\n    <tr>\n      <th>8</th>\n      <td>35066012000000.0</td>\n      <td>7518786000000.0</td>\n      <td>12731428000000.0</td>\n      <td>0.214418</td>\n      <td>0.590569</td>\n      <td>LG디스플레이</td>\n      <td>20201231</td>\n    </tr>\n    <tr>\n      <th>9</th>\n      <td>35497408000000.0</td>\n      <td>6841972000000.0</td>\n      <td>12174379000000.0</td>\n      <td>0.192746</td>\n      <td>0.561998</td>\n      <td>LG디스플레이</td>\n      <td>20200930</td>\n    </tr>\n    <tr>\n      <th>10</th>\n      <td>35054254000000.0</td>\n      <td>6812370000000.0</td>\n      <td>12100773000000.0</td>\n      <td>0.194338</td>\n      <td>0.56297</td>\n      <td>LG디스플레이</td>\n      <td>20200630</td>\n    </tr>\n    <tr>\n      <th>11</th>\n      <td>35885572000000.0</td>\n      <td>7302500000000.0</td>\n      <td>12563061000000.0</td>\n      <td>0.203494</td>\n      <td>0.581268</td>\n      <td>LG디스플레이</td>\n      <td>20200331</td>\n    </tr>\n    <tr>\n      <th>12</th>\n      <td>35574563000000.0</td>\n      <td>7503312000000.0</td>\n      <td>12488281000000.0</td>\n      <td>0.210918</td>\n      <td>0.600828</td>\n      <td>LG디스플레이</td>\n      <td>20191231</td>\n    </tr>\n    <tr>\n      <th>13</th>\n      <td>37443065000000.0</td>\n      <td>9201528000000.0</td>\n      <td>14325925000000.0</td>\n      <td>0.245747</td>\n      <td>0.642299</td>\n      <td>LG디스플레이</td>\n      <td>20190930</td>\n    </tr>\n    <tr>\n      <th>14</th>\n      <td>35600739000000.0</td>\n      <td>9622298000000.0</td>\n      <td>14728558000000.0</td>\n      <td>0.270284</td>\n      <td>0.653309</td>\n      <td>LG디스플레이</td>\n      <td>20190630</td>\n    </tr>\n    <tr>\n      <th>15</th>\n      <td>35387981000000.0</td>\n      <td>10176992000000.0</td>\n      <td>15289534000000.0</td>\n      <td>0.287583</td>\n      <td>0.665618</td>\n      <td>LG디스플레이</td>\n      <td>20190331</td>\n    </tr>\n    <tr>\n      <th>16</th>\n      <td>33175710000000.0</td>\n      <td>10239965000000.0</td>\n      <td>14886246000000.0</td>\n      <td>0.308659</td>\n      <td>0.687881</td>\n      <td>LG디스플레이</td>\n      <td>20181231</td>\n    </tr>\n    <tr>\n      <th>17</th>\n      <td>29159687000000.0</td>\n      <td>10621571000000.0</td>\n      <td>14981510000000.0</td>\n      <td>0.364255</td>\n      <td>0.708979</td>\n      <td>LG디스플레이</td>\n      <td>20171231</td>\n    </tr>\n    <tr>\n      <th>18</th>\n      <td>24884336000000.0</td>\n      <td>9004283000000.0</td>\n      <td>13462388000000.0</td>\n      <td>0.361845</td>\n      <td>0.668847</td>\n      <td>LG디스플레이</td>\n      <td>20161231</td>\n    </tr>\n  </tbody>\n</table>\n</div>"
     },
     "execution_count": 64,
     "metadata": {},
     "output_type": "execute_result"
    }
   ],
   "source": [
    "lgdis_fin= lgdis_fin.transpose()\n",
    "\n",
    "header = lgdis_fin.iloc[0]\n",
    "lgdis_fin = lgdis_fin[1:]\n",
    "lgdis_fin.rename(columns=header, inplace=True)\n",
    "lgdis_fin['회사명'] = 'LG디스플레이'\n",
    "lgdis_fin['날짜'] = lgdis_fin.index\n",
    "lgdis_fin['날짜'] = lgdis_fin['날짜'].astype(int)\n",
    "lgdis_fin = lgdis_fin.rename(columns={'이익잉여금(결손금)':'이익잉여금'})\n",
    "lgdis_fin = lgdis_fin.reset_index(drop=True)\n",
    "\n",
    "lgdis_fin"
   ],
   "metadata": {
    "collapsed": false,
    "pycharm": {
     "name": "#%%\n"
    }
   }
  },
  {
   "cell_type": "code",
   "execution_count": 65,
   "outputs": [],
   "source": [
    "lgelc_fin  = pd.read_excel(\"재무제표 관련/LG전자_fs_info.xlsx\")"
   ],
   "metadata": {
    "collapsed": false,
    "pycharm": {
     "name": "#%%\n"
    }
   }
  },
  {
   "cell_type": "code",
   "execution_count": 66,
   "outputs": [
    {
     "data": {
      "text/plain": "                자산총계             이익잉여금              자본총계       ROA       ROE  \\\n0   55156141000000.0  15834021000000.0  22491997000000.0  0.287076  0.703985   \n1   61299428000000.0  16419424000000.0  24895245000000.0  0.267856  0.659541   \n2   55368797000000.0  16117459000000.0  23253025000000.0  0.291093  0.693134   \n3   55050923000000.0  15676888000000.0  21880321000000.0  0.284771  0.716483   \n4   53481478000000.0  14433587000000.0  20098033000000.0   0.26988  0.718159   \n5   54559798000000.0  14539535000000.0  20305124000000.0  0.266488  0.716053   \n6   50666883000000.0  14126258000000.0  18701647000000.0  0.278807  0.755348   \n7   50458634000000.0  14514560000000.0  18850799000000.0  0.287653  0.769971   \n8   48204227000000.0  13652837000000.0  17542125000000.0  0.283229  0.778289   \n9   49395983000000.0  13374826000000.0  17771994000000.0  0.270767  0.752579   \n10  44770155000000.0  12766291000000.0  17358791000000.0  0.285152  0.735437   \n11  45570152000000.0  12746687000000.0  17390671000000.0  0.279716  0.732961   \n12  44859875000000.0  11857302000000.0  16425138000000.0  0.264319    0.7219   \n13  47204560000000.0  12653030000000.0  17450926000000.0  0.268047  0.725064   \n14  45867252000000.0  12447002000000.0  17094998000000.0   0.27137  0.728108   \n15  45936704000000.0  12456700000000.0  16939675000000.0  0.271171  0.735356   \n16  44328443000000.0  12075414000000.0  16306907000000.0  0.272408  0.740509   \n17  41220959000000.0  10964155000000.0  14673684000000.0  0.265985  0.747199   \n18  37855269000000.0   9233416000000.0  13356742000000.0  0.243914  0.691293   \n\n     회사명        날짜  \n0   LG전자  20221231  \n1   LG전자  20220930  \n2   LG전자  20220630  \n3   LG전자  20220331  \n4   LG전자  20211231  \n5   LG전자  20210930  \n6   LG전자  20210630  \n7   LG전자  20210331  \n8   LG전자  20201231  \n9   LG전자  20200930  \n10  LG전자  20200630  \n11  LG전자  20200331  \n12  LG전자  20191231  \n13  LG전자  20190930  \n14  LG전자  20190630  \n15  LG전자  20190331  \n16  LG전자  20181231  \n17  LG전자  20171231  \n18  LG전자  20161231  ",
      "text/html": "<div>\n<style scoped>\n    .dataframe tbody tr th:only-of-type {\n        vertical-align: middle;\n    }\n\n    .dataframe tbody tr th {\n        vertical-align: top;\n    }\n\n    .dataframe thead th {\n        text-align: right;\n    }\n</style>\n<table border=\"1\" class=\"dataframe\">\n  <thead>\n    <tr style=\"text-align: right;\">\n      <th></th>\n      <th>자산총계</th>\n      <th>이익잉여금</th>\n      <th>자본총계</th>\n      <th>ROA</th>\n      <th>ROE</th>\n      <th>회사명</th>\n      <th>날짜</th>\n    </tr>\n  </thead>\n  <tbody>\n    <tr>\n      <th>0</th>\n      <td>55156141000000.0</td>\n      <td>15834021000000.0</td>\n      <td>22491997000000.0</td>\n      <td>0.287076</td>\n      <td>0.703985</td>\n      <td>LG전자</td>\n      <td>20221231</td>\n    </tr>\n    <tr>\n      <th>1</th>\n      <td>61299428000000.0</td>\n      <td>16419424000000.0</td>\n      <td>24895245000000.0</td>\n      <td>0.267856</td>\n      <td>0.659541</td>\n      <td>LG전자</td>\n      <td>20220930</td>\n    </tr>\n    <tr>\n      <th>2</th>\n      <td>55368797000000.0</td>\n      <td>16117459000000.0</td>\n      <td>23253025000000.0</td>\n      <td>0.291093</td>\n      <td>0.693134</td>\n      <td>LG전자</td>\n      <td>20220630</td>\n    </tr>\n    <tr>\n      <th>3</th>\n      <td>55050923000000.0</td>\n      <td>15676888000000.0</td>\n      <td>21880321000000.0</td>\n      <td>0.284771</td>\n      <td>0.716483</td>\n      <td>LG전자</td>\n      <td>20220331</td>\n    </tr>\n    <tr>\n      <th>4</th>\n      <td>53481478000000.0</td>\n      <td>14433587000000.0</td>\n      <td>20098033000000.0</td>\n      <td>0.26988</td>\n      <td>0.718159</td>\n      <td>LG전자</td>\n      <td>20211231</td>\n    </tr>\n    <tr>\n      <th>5</th>\n      <td>54559798000000.0</td>\n      <td>14539535000000.0</td>\n      <td>20305124000000.0</td>\n      <td>0.266488</td>\n      <td>0.716053</td>\n      <td>LG전자</td>\n      <td>20210930</td>\n    </tr>\n    <tr>\n      <th>6</th>\n      <td>50666883000000.0</td>\n      <td>14126258000000.0</td>\n      <td>18701647000000.0</td>\n      <td>0.278807</td>\n      <td>0.755348</td>\n      <td>LG전자</td>\n      <td>20210630</td>\n    </tr>\n    <tr>\n      <th>7</th>\n      <td>50458634000000.0</td>\n      <td>14514560000000.0</td>\n      <td>18850799000000.0</td>\n      <td>0.287653</td>\n      <td>0.769971</td>\n      <td>LG전자</td>\n      <td>20210331</td>\n    </tr>\n    <tr>\n      <th>8</th>\n      <td>48204227000000.0</td>\n      <td>13652837000000.0</td>\n      <td>17542125000000.0</td>\n      <td>0.283229</td>\n      <td>0.778289</td>\n      <td>LG전자</td>\n      <td>20201231</td>\n    </tr>\n    <tr>\n      <th>9</th>\n      <td>49395983000000.0</td>\n      <td>13374826000000.0</td>\n      <td>17771994000000.0</td>\n      <td>0.270767</td>\n      <td>0.752579</td>\n      <td>LG전자</td>\n      <td>20200930</td>\n    </tr>\n    <tr>\n      <th>10</th>\n      <td>44770155000000.0</td>\n      <td>12766291000000.0</td>\n      <td>17358791000000.0</td>\n      <td>0.285152</td>\n      <td>0.735437</td>\n      <td>LG전자</td>\n      <td>20200630</td>\n    </tr>\n    <tr>\n      <th>11</th>\n      <td>45570152000000.0</td>\n      <td>12746687000000.0</td>\n      <td>17390671000000.0</td>\n      <td>0.279716</td>\n      <td>0.732961</td>\n      <td>LG전자</td>\n      <td>20200331</td>\n    </tr>\n    <tr>\n      <th>12</th>\n      <td>44859875000000.0</td>\n      <td>11857302000000.0</td>\n      <td>16425138000000.0</td>\n      <td>0.264319</td>\n      <td>0.7219</td>\n      <td>LG전자</td>\n      <td>20191231</td>\n    </tr>\n    <tr>\n      <th>13</th>\n      <td>47204560000000.0</td>\n      <td>12653030000000.0</td>\n      <td>17450926000000.0</td>\n      <td>0.268047</td>\n      <td>0.725064</td>\n      <td>LG전자</td>\n      <td>20190930</td>\n    </tr>\n    <tr>\n      <th>14</th>\n      <td>45867252000000.0</td>\n      <td>12447002000000.0</td>\n      <td>17094998000000.0</td>\n      <td>0.27137</td>\n      <td>0.728108</td>\n      <td>LG전자</td>\n      <td>20190630</td>\n    </tr>\n    <tr>\n      <th>15</th>\n      <td>45936704000000.0</td>\n      <td>12456700000000.0</td>\n      <td>16939675000000.0</td>\n      <td>0.271171</td>\n      <td>0.735356</td>\n      <td>LG전자</td>\n      <td>20190331</td>\n    </tr>\n    <tr>\n      <th>16</th>\n      <td>44328443000000.0</td>\n      <td>12075414000000.0</td>\n      <td>16306907000000.0</td>\n      <td>0.272408</td>\n      <td>0.740509</td>\n      <td>LG전자</td>\n      <td>20181231</td>\n    </tr>\n    <tr>\n      <th>17</th>\n      <td>41220959000000.0</td>\n      <td>10964155000000.0</td>\n      <td>14673684000000.0</td>\n      <td>0.265985</td>\n      <td>0.747199</td>\n      <td>LG전자</td>\n      <td>20171231</td>\n    </tr>\n    <tr>\n      <th>18</th>\n      <td>37855269000000.0</td>\n      <td>9233416000000.0</td>\n      <td>13356742000000.0</td>\n      <td>0.243914</td>\n      <td>0.691293</td>\n      <td>LG전자</td>\n      <td>20161231</td>\n    </tr>\n  </tbody>\n</table>\n</div>"
     },
     "execution_count": 66,
     "metadata": {},
     "output_type": "execute_result"
    }
   ],
   "source": [
    "lgelc_fin= lgelc_fin.transpose()\n",
    "\n",
    "header = lgelc_fin.iloc[0]\n",
    "lgelc_fin = lgelc_fin[1:]\n",
    "lgelc_fin.rename(columns=header, inplace=True)\n",
    "lgelc_fin['회사명'] = 'LG전자'\n",
    "lgelc_fin['날짜'] = lgelc_fin.index\n",
    "lgelc_fin['날짜'] = lgelc_fin['날짜'].astype(int)\n",
    "lgelc_fin = lgelc_fin.reset_index(drop=True)\n",
    "\n",
    "lgelc_fin"
   ],
   "metadata": {
    "collapsed": false,
    "pycharm": {
     "name": "#%%\n"
    }
   }
  },
  {
   "cell_type": "code",
   "execution_count": 67,
   "outputs": [],
   "source": [
    "sk_fin  = pd.read_excel(\"재무제표 관련/SK하이닉스_fs_info.xlsx\")"
   ],
   "metadata": {
    "collapsed": false,
    "pycharm": {
     "name": "#%%\n"
    }
   }
  },
  {
   "cell_type": "code",
   "execution_count": 68,
   "outputs": [
    {
     "data": {
      "text/plain": "                 자산총계             이익잉여금              자본총계       ROA       ROE  \\\n0   103871512000000.0  56685260000000.0  63290542000000.0  0.545725  0.895636   \n1   109545800000000.0  60232908000000.0  68723186000000.0  0.549842  0.876457   \n2   104147622000000.0  59346943000000.0  66760160000000.0  0.569835  0.888957   \n3    99466056000000.0  56692698000000.0  63398639000000.0   0.56997  0.894226   \n4    96346525000000.0  55784068000000.0  62191058000000.0  0.578994  0.896979   \n5    83269048000000.0  52460405000000.0  58714446000000.0  0.630011  0.893484   \n6    77717897000000.0  49156421000000.0  54878014000000.0  0.632498   0.89574   \n7    75118008000000.0  47178853000000.0  52378589000000.0  0.628063  0.900728   \n8    71173853000000.0  46995728000000.0  51909097000000.0  0.660295  0.905347   \n9    69267173000000.0  45221291000000.0  50499059000000.0  0.652853  0.895488   \n10   69259297000000.0  44148533000000.0  49402876000000.0  0.637438  0.893643   \n11   67142787000000.0  42890187000000.0  48247724000000.0  0.638791  0.888958   \n12   65248350000000.0  42923362000000.0  47935882000000.0  0.657846  0.895433   \n13   63671751000000.0  43122640000000.0  48266226000000.0  0.677265  0.893433   \n14   63032264000000.0  42634568000000.0  47710787000000.0  0.676393  0.893604   \n15   65131501000000.0  42104440000000.0  47166007000000.0  0.646453  0.892686   \n16   63658335000000.0  42033601000000.0  46852331000000.0    0.6603  0.897151   \n17   45418464000000.0  27287256000000.0  33820919000000.0  0.600797  0.806816   \n18   32216026000000.0  17066583000000.0  24023530000000.0  0.529754  0.710411   \n\n       회사명        날짜  \n0   SK하이닉스  20221231  \n1   SK하이닉스  20220930  \n2   SK하이닉스  20220630  \n3   SK하이닉스  20220331  \n4   SK하이닉스  20211231  \n5   SK하이닉스  20210930  \n6   SK하이닉스  20210630  \n7   SK하이닉스  20210331  \n8   SK하이닉스  20201231  \n9   SK하이닉스  20200930  \n10  SK하이닉스  20200630  \n11  SK하이닉스  20200331  \n12  SK하이닉스  20191231  \n13  SK하이닉스  20190930  \n14  SK하이닉스  20190630  \n15  SK하이닉스  20190331  \n16  SK하이닉스  20181231  \n17  SK하이닉스  20171231  \n18  SK하이닉스  20161231  ",
      "text/html": "<div>\n<style scoped>\n    .dataframe tbody tr th:only-of-type {\n        vertical-align: middle;\n    }\n\n    .dataframe tbody tr th {\n        vertical-align: top;\n    }\n\n    .dataframe thead th {\n        text-align: right;\n    }\n</style>\n<table border=\"1\" class=\"dataframe\">\n  <thead>\n    <tr style=\"text-align: right;\">\n      <th></th>\n      <th>자산총계</th>\n      <th>이익잉여금</th>\n      <th>자본총계</th>\n      <th>ROA</th>\n      <th>ROE</th>\n      <th>회사명</th>\n      <th>날짜</th>\n    </tr>\n  </thead>\n  <tbody>\n    <tr>\n      <th>0</th>\n      <td>103871512000000.0</td>\n      <td>56685260000000.0</td>\n      <td>63290542000000.0</td>\n      <td>0.545725</td>\n      <td>0.895636</td>\n      <td>SK하이닉스</td>\n      <td>20221231</td>\n    </tr>\n    <tr>\n      <th>1</th>\n      <td>109545800000000.0</td>\n      <td>60232908000000.0</td>\n      <td>68723186000000.0</td>\n      <td>0.549842</td>\n      <td>0.876457</td>\n      <td>SK하이닉스</td>\n      <td>20220930</td>\n    </tr>\n    <tr>\n      <th>2</th>\n      <td>104147622000000.0</td>\n      <td>59346943000000.0</td>\n      <td>66760160000000.0</td>\n      <td>0.569835</td>\n      <td>0.888957</td>\n      <td>SK하이닉스</td>\n      <td>20220630</td>\n    </tr>\n    <tr>\n      <th>3</th>\n      <td>99466056000000.0</td>\n      <td>56692698000000.0</td>\n      <td>63398639000000.0</td>\n      <td>0.56997</td>\n      <td>0.894226</td>\n      <td>SK하이닉스</td>\n      <td>20220331</td>\n    </tr>\n    <tr>\n      <th>4</th>\n      <td>96346525000000.0</td>\n      <td>55784068000000.0</td>\n      <td>62191058000000.0</td>\n      <td>0.578994</td>\n      <td>0.896979</td>\n      <td>SK하이닉스</td>\n      <td>20211231</td>\n    </tr>\n    <tr>\n      <th>5</th>\n      <td>83269048000000.0</td>\n      <td>52460405000000.0</td>\n      <td>58714446000000.0</td>\n      <td>0.630011</td>\n      <td>0.893484</td>\n      <td>SK하이닉스</td>\n      <td>20210930</td>\n    </tr>\n    <tr>\n      <th>6</th>\n      <td>77717897000000.0</td>\n      <td>49156421000000.0</td>\n      <td>54878014000000.0</td>\n      <td>0.632498</td>\n      <td>0.89574</td>\n      <td>SK하이닉스</td>\n      <td>20210630</td>\n    </tr>\n    <tr>\n      <th>7</th>\n      <td>75118008000000.0</td>\n      <td>47178853000000.0</td>\n      <td>52378589000000.0</td>\n      <td>0.628063</td>\n      <td>0.900728</td>\n      <td>SK하이닉스</td>\n      <td>20210331</td>\n    </tr>\n    <tr>\n      <th>8</th>\n      <td>71173853000000.0</td>\n      <td>46995728000000.0</td>\n      <td>51909097000000.0</td>\n      <td>0.660295</td>\n      <td>0.905347</td>\n      <td>SK하이닉스</td>\n      <td>20201231</td>\n    </tr>\n    <tr>\n      <th>9</th>\n      <td>69267173000000.0</td>\n      <td>45221291000000.0</td>\n      <td>50499059000000.0</td>\n      <td>0.652853</td>\n      <td>0.895488</td>\n      <td>SK하이닉스</td>\n      <td>20200930</td>\n    </tr>\n    <tr>\n      <th>10</th>\n      <td>69259297000000.0</td>\n      <td>44148533000000.0</td>\n      <td>49402876000000.0</td>\n      <td>0.637438</td>\n      <td>0.893643</td>\n      <td>SK하이닉스</td>\n      <td>20200630</td>\n    </tr>\n    <tr>\n      <th>11</th>\n      <td>67142787000000.0</td>\n      <td>42890187000000.0</td>\n      <td>48247724000000.0</td>\n      <td>0.638791</td>\n      <td>0.888958</td>\n      <td>SK하이닉스</td>\n      <td>20200331</td>\n    </tr>\n    <tr>\n      <th>12</th>\n      <td>65248350000000.0</td>\n      <td>42923362000000.0</td>\n      <td>47935882000000.0</td>\n      <td>0.657846</td>\n      <td>0.895433</td>\n      <td>SK하이닉스</td>\n      <td>20191231</td>\n    </tr>\n    <tr>\n      <th>13</th>\n      <td>63671751000000.0</td>\n      <td>43122640000000.0</td>\n      <td>48266226000000.0</td>\n      <td>0.677265</td>\n      <td>0.893433</td>\n      <td>SK하이닉스</td>\n      <td>20190930</td>\n    </tr>\n    <tr>\n      <th>14</th>\n      <td>63032264000000.0</td>\n      <td>42634568000000.0</td>\n      <td>47710787000000.0</td>\n      <td>0.676393</td>\n      <td>0.893604</td>\n      <td>SK하이닉스</td>\n      <td>20190630</td>\n    </tr>\n    <tr>\n      <th>15</th>\n      <td>65131501000000.0</td>\n      <td>42104440000000.0</td>\n      <td>47166007000000.0</td>\n      <td>0.646453</td>\n      <td>0.892686</td>\n      <td>SK하이닉스</td>\n      <td>20190331</td>\n    </tr>\n    <tr>\n      <th>16</th>\n      <td>63658335000000.0</td>\n      <td>42033601000000.0</td>\n      <td>46852331000000.0</td>\n      <td>0.6603</td>\n      <td>0.897151</td>\n      <td>SK하이닉스</td>\n      <td>20181231</td>\n    </tr>\n    <tr>\n      <th>17</th>\n      <td>45418464000000.0</td>\n      <td>27287256000000.0</td>\n      <td>33820919000000.0</td>\n      <td>0.600797</td>\n      <td>0.806816</td>\n      <td>SK하이닉스</td>\n      <td>20171231</td>\n    </tr>\n    <tr>\n      <th>18</th>\n      <td>32216026000000.0</td>\n      <td>17066583000000.0</td>\n      <td>24023530000000.0</td>\n      <td>0.529754</td>\n      <td>0.710411</td>\n      <td>SK하이닉스</td>\n      <td>20161231</td>\n    </tr>\n  </tbody>\n</table>\n</div>"
     },
     "execution_count": 68,
     "metadata": {},
     "output_type": "execute_result"
    }
   ],
   "source": [
    "sk_fin= sk_fin.transpose()\n",
    "\n",
    "header = sk_fin.iloc[0]\n",
    "sk_fin = sk_fin[1:]\n",
    "sk_fin.rename(columns=header, inplace=True)\n",
    "sk_fin['회사명'] = 'SK하이닉스'\n",
    "sk_fin['날짜'] = sk_fin.index\n",
    "sk_fin['날짜'] = sk_fin['날짜'].astype(int)\n",
    "sk_fin = sk_fin.reset_index(drop=True)\n",
    "\n",
    "sk_fin"
   ],
   "metadata": {
    "collapsed": false,
    "pycharm": {
     "name": "#%%\n"
    }
   }
  },
  {
   "cell_type": "code",
   "execution_count": 69,
   "outputs": [],
   "source": [
    "samsungsds_fin  = pd.read_excel(\"재무제표 관련/삼성에스디에스_fs_info.xlsx\")"
   ],
   "metadata": {
    "collapsed": false,
    "pycharm": {
     "name": "#%%\n"
    }
   }
  },
  {
   "cell_type": "code",
   "execution_count": 70,
   "outputs": [
    {
     "data": {
      "text/plain": "                자산총계            이익잉여금             자본총계       ROA       ROE  \\\n0   11952424889489.0  7000953240103.0  8466969934914.0  0.585735  0.826855   \n1   12258729167260.0  6757097839450.0  8408116500172.0  0.551207   0.80364   \n2   11369465729686.0  6365978633243.0  7841722444258.0  0.559919  0.811809   \n3   10835157848953.0  6098762901011.0  7500799712279.0  0.562868  0.813082   \n4   10517432175247.0  6086848943364.0  7443700632071.0  0.578739  0.817718   \n5   10172946545716.0  5983492380890.0  7368249777535.0  0.588177  0.812064   \n6    9918291459973.0  5790895959210.0  7084066079603.0   0.58386  0.817454   \n7    9547628039027.0  5631707410481.0  6878996190118.0  0.589854  0.818682   \n8    9154919055538.0  5661318543041.0  6859108164233.0  0.618391  0.825372   \n9    9208301322092.0  5489552430149.0  6800682680610.0  0.596153  0.807206   \n10   8998024683764.0  5332217777397.0  6660453633227.0  0.592599  0.800579   \n11   8978924497760.0  5188038379794.0  6531539038852.0  0.577802  0.794306   \n12   9021235882454.0  5403504408350.0  6725157088500.0  0.598976  0.803476   \n13   8987224060447.0  5151060810222.0  6555810682991.0  0.573154  0.785724   \n14   8801403296612.0  4996636000701.0  6370368935047.0  0.567709  0.784356   \n15   8633742609474.0  4807047947832.0  6163456241677.0  0.556775  0.779927   \n16   8013849390714.0  4821746821634.0  6148552184370.0  0.601677  0.784208   \n17   7277760879807.0  4347047622867.0  5719429436643.0  0.597306  0.760049   \n18   6842003858379.0  3874712651378.0  5291124094581.0  0.566313  0.732304   \n\n        회사명        날짜  \n0   삼성에스디에스  20221231  \n1   삼성에스디에스  20220930  \n2   삼성에스디에스  20220630  \n3   삼성에스디에스  20220331  \n4   삼성에스디에스  20211231  \n5   삼성에스디에스  20210930  \n6   삼성에스디에스  20210630  \n7   삼성에스디에스  20210331  \n8   삼성에스디에스  20201231  \n9   삼성에스디에스  20200930  \n10  삼성에스디에스  20200630  \n11  삼성에스디에스  20200331  \n12  삼성에스디에스  20191231  \n13  삼성에스디에스  20190930  \n14  삼성에스디에스  20190630  \n15  삼성에스디에스  20190331  \n16  삼성에스디에스  20181231  \n17  삼성에스디에스  20171231  \n18  삼성에스디에스  20161231  ",
      "text/html": "<div>\n<style scoped>\n    .dataframe tbody tr th:only-of-type {\n        vertical-align: middle;\n    }\n\n    .dataframe tbody tr th {\n        vertical-align: top;\n    }\n\n    .dataframe thead th {\n        text-align: right;\n    }\n</style>\n<table border=\"1\" class=\"dataframe\">\n  <thead>\n    <tr style=\"text-align: right;\">\n      <th></th>\n      <th>자산총계</th>\n      <th>이익잉여금</th>\n      <th>자본총계</th>\n      <th>ROA</th>\n      <th>ROE</th>\n      <th>회사명</th>\n      <th>날짜</th>\n    </tr>\n  </thead>\n  <tbody>\n    <tr>\n      <th>0</th>\n      <td>11952424889489.0</td>\n      <td>7000953240103.0</td>\n      <td>8466969934914.0</td>\n      <td>0.585735</td>\n      <td>0.826855</td>\n      <td>삼성에스디에스</td>\n      <td>20221231</td>\n    </tr>\n    <tr>\n      <th>1</th>\n      <td>12258729167260.0</td>\n      <td>6757097839450.0</td>\n      <td>8408116500172.0</td>\n      <td>0.551207</td>\n      <td>0.80364</td>\n      <td>삼성에스디에스</td>\n      <td>20220930</td>\n    </tr>\n    <tr>\n      <th>2</th>\n      <td>11369465729686.0</td>\n      <td>6365978633243.0</td>\n      <td>7841722444258.0</td>\n      <td>0.559919</td>\n      <td>0.811809</td>\n      <td>삼성에스디에스</td>\n      <td>20220630</td>\n    </tr>\n    <tr>\n      <th>3</th>\n      <td>10835157848953.0</td>\n      <td>6098762901011.0</td>\n      <td>7500799712279.0</td>\n      <td>0.562868</td>\n      <td>0.813082</td>\n      <td>삼성에스디에스</td>\n      <td>20220331</td>\n    </tr>\n    <tr>\n      <th>4</th>\n      <td>10517432175247.0</td>\n      <td>6086848943364.0</td>\n      <td>7443700632071.0</td>\n      <td>0.578739</td>\n      <td>0.817718</td>\n      <td>삼성에스디에스</td>\n      <td>20211231</td>\n    </tr>\n    <tr>\n      <th>5</th>\n      <td>10172946545716.0</td>\n      <td>5983492380890.0</td>\n      <td>7368249777535.0</td>\n      <td>0.588177</td>\n      <td>0.812064</td>\n      <td>삼성에스디에스</td>\n      <td>20210930</td>\n    </tr>\n    <tr>\n      <th>6</th>\n      <td>9918291459973.0</td>\n      <td>5790895959210.0</td>\n      <td>7084066079603.0</td>\n      <td>0.58386</td>\n      <td>0.817454</td>\n      <td>삼성에스디에스</td>\n      <td>20210630</td>\n    </tr>\n    <tr>\n      <th>7</th>\n      <td>9547628039027.0</td>\n      <td>5631707410481.0</td>\n      <td>6878996190118.0</td>\n      <td>0.589854</td>\n      <td>0.818682</td>\n      <td>삼성에스디에스</td>\n      <td>20210331</td>\n    </tr>\n    <tr>\n      <th>8</th>\n      <td>9154919055538.0</td>\n      <td>5661318543041.0</td>\n      <td>6859108164233.0</td>\n      <td>0.618391</td>\n      <td>0.825372</td>\n      <td>삼성에스디에스</td>\n      <td>20201231</td>\n    </tr>\n    <tr>\n      <th>9</th>\n      <td>9208301322092.0</td>\n      <td>5489552430149.0</td>\n      <td>6800682680610.0</td>\n      <td>0.596153</td>\n      <td>0.807206</td>\n      <td>삼성에스디에스</td>\n      <td>20200930</td>\n    </tr>\n    <tr>\n      <th>10</th>\n      <td>8998024683764.0</td>\n      <td>5332217777397.0</td>\n      <td>6660453633227.0</td>\n      <td>0.592599</td>\n      <td>0.800579</td>\n      <td>삼성에스디에스</td>\n      <td>20200630</td>\n    </tr>\n    <tr>\n      <th>11</th>\n      <td>8978924497760.0</td>\n      <td>5188038379794.0</td>\n      <td>6531539038852.0</td>\n      <td>0.577802</td>\n      <td>0.794306</td>\n      <td>삼성에스디에스</td>\n      <td>20200331</td>\n    </tr>\n    <tr>\n      <th>12</th>\n      <td>9021235882454.0</td>\n      <td>5403504408350.0</td>\n      <td>6725157088500.0</td>\n      <td>0.598976</td>\n      <td>0.803476</td>\n      <td>삼성에스디에스</td>\n      <td>20191231</td>\n    </tr>\n    <tr>\n      <th>13</th>\n      <td>8987224060447.0</td>\n      <td>5151060810222.0</td>\n      <td>6555810682991.0</td>\n      <td>0.573154</td>\n      <td>0.785724</td>\n      <td>삼성에스디에스</td>\n      <td>20190930</td>\n    </tr>\n    <tr>\n      <th>14</th>\n      <td>8801403296612.0</td>\n      <td>4996636000701.0</td>\n      <td>6370368935047.0</td>\n      <td>0.567709</td>\n      <td>0.784356</td>\n      <td>삼성에스디에스</td>\n      <td>20190630</td>\n    </tr>\n    <tr>\n      <th>15</th>\n      <td>8633742609474.0</td>\n      <td>4807047947832.0</td>\n      <td>6163456241677.0</td>\n      <td>0.556775</td>\n      <td>0.779927</td>\n      <td>삼성에스디에스</td>\n      <td>20190331</td>\n    </tr>\n    <tr>\n      <th>16</th>\n      <td>8013849390714.0</td>\n      <td>4821746821634.0</td>\n      <td>6148552184370.0</td>\n      <td>0.601677</td>\n      <td>0.784208</td>\n      <td>삼성에스디에스</td>\n      <td>20181231</td>\n    </tr>\n    <tr>\n      <th>17</th>\n      <td>7277760879807.0</td>\n      <td>4347047622867.0</td>\n      <td>5719429436643.0</td>\n      <td>0.597306</td>\n      <td>0.760049</td>\n      <td>삼성에스디에스</td>\n      <td>20171231</td>\n    </tr>\n    <tr>\n      <th>18</th>\n      <td>6842003858379.0</td>\n      <td>3874712651378.0</td>\n      <td>5291124094581.0</td>\n      <td>0.566313</td>\n      <td>0.732304</td>\n      <td>삼성에스디에스</td>\n      <td>20161231</td>\n    </tr>\n  </tbody>\n</table>\n</div>"
     },
     "execution_count": 70,
     "metadata": {},
     "output_type": "execute_result"
    }
   ],
   "source": [
    "samsungsds_fin= samsungsds_fin.transpose()\n",
    "\n",
    "header = samsungsds_fin.iloc[0]\n",
    "samsungsds_fin = samsungsds_fin[1:]\n",
    "samsungsds_fin.rename(columns=header, inplace=True)\n",
    "samsungsds_fin['회사명'] = '삼성에스디에스'\n",
    "samsungsds_fin['날짜'] = samsungsds_fin.index\n",
    "samsungsds_fin['날짜'] = samsungsds_fin['날짜'].astype(int)\n",
    "samsungsds_fin = samsungsds_fin.reset_index(drop=True)\n",
    "\n",
    "samsungsds_fin"
   ],
   "metadata": {
    "collapsed": false,
    "pycharm": {
     "name": "#%%\n"
    }
   }
  },
  {
   "cell_type": "code",
   "execution_count": 71,
   "outputs": [],
   "source": [
    "samsungelc_fin  = pd.read_excel(\"재무제표 관련/삼성전자_fs_info.xlsx\")"
   ],
   "metadata": {
    "collapsed": false,
    "pycharm": {
     "name": "#%%\n"
    }
   }
  },
  {
   "cell_type": "code",
   "execution_count": 72,
   "outputs": [
    {
     "data": {
      "text/plain": "                 자산총계              이익잉여금               자본총계       ROA  \\\n0   448424507000000.0  337946407000000.0  354749604000000.0  0.753631   \n1   470278409000000.0  316890272000000.0  344906889000000.0  0.673835   \n2   448040650000000.0  310216785000000.0  327906664000000.0  0.692385   \n3   439326959000000.0  301743152000000.0  315290919000000.0   0.68683   \n4   426621158000000.0  293064763000000.0  304899931000000.0  0.686944   \n5   410420718000000.0  284826992000000.0  296766118000000.0  0.693988   \n6   384777669000000.0  275085185000000.0  282324266000000.0   0.71492   \n7   392826274000000.0  266066142000000.0  274268591000000.0  0.677312   \n8   378235718000000.0  271068211000000.0  275948016000000.0  0.716665   \n9   375788742000000.0  267024912000000.0  276136188000000.0  0.710572   \n10  357959499000000.0  260165053000000.0  269807817000000.0    0.7268   \n11  357457535000000.0  257078919000000.0  266387723000000.0  0.719187   \n12  352564497000000.0  254582894000000.0  262880421000000.0  0.722089   \n13  353385985000000.0  251761348000000.0  263442244000000.0  0.712426   \n14  342940134000000.0  248060958000000.0  257747033000000.0  0.723336   \n15  345067883000000.0  245401018000000.0  253215151000000.0  0.711167   \n16  339357244000000.0  242698956000000.0  247753177000000.0  0.715172   \n17  301752090000000.0  215811200000000.0  214491428000000.0  0.715194   \n18  262174324000000.0  193086317000000.0  192963033000000.0  0.736481   \n\n         ROE   회사명        날짜  \n0   0.952634  삼성전자  20221231  \n1    0.91877  삼성전자  20220930  \n2   0.946052  삼성전자  20220630  \n3   0.957031  삼성전자  20220331  \n4   0.961183  삼성전자  20211231  \n5   0.959769  삼성전자  20210930  \n6   0.974359  삼성전자  20210630  \n7   0.970093  삼성전자  20210331  \n8   0.982316  삼성전자  20201231  \n9   0.967004  삼성전자  20200930  \n10  0.964261  삼성전자  20200630  \n11  0.965055  삼성전자  20200331  \n12  0.968436  삼성전자  20191231  \n13  0.955661  삼성전자  20190930  \n14   0.96242  삼성전자  20190630  \n15   0.96914  삼성전자  20190331  \n16    0.9796  삼성전자  20181231  \n17  1.006153  삼성전자  20171231  \n18  1.000639  삼성전자  20161231  ",
      "text/html": "<div>\n<style scoped>\n    .dataframe tbody tr th:only-of-type {\n        vertical-align: middle;\n    }\n\n    .dataframe tbody tr th {\n        vertical-align: top;\n    }\n\n    .dataframe thead th {\n        text-align: right;\n    }\n</style>\n<table border=\"1\" class=\"dataframe\">\n  <thead>\n    <tr style=\"text-align: right;\">\n      <th></th>\n      <th>자산총계</th>\n      <th>이익잉여금</th>\n      <th>자본총계</th>\n      <th>ROA</th>\n      <th>ROE</th>\n      <th>회사명</th>\n      <th>날짜</th>\n    </tr>\n  </thead>\n  <tbody>\n    <tr>\n      <th>0</th>\n      <td>448424507000000.0</td>\n      <td>337946407000000.0</td>\n      <td>354749604000000.0</td>\n      <td>0.753631</td>\n      <td>0.952634</td>\n      <td>삼성전자</td>\n      <td>20221231</td>\n    </tr>\n    <tr>\n      <th>1</th>\n      <td>470278409000000.0</td>\n      <td>316890272000000.0</td>\n      <td>344906889000000.0</td>\n      <td>0.673835</td>\n      <td>0.91877</td>\n      <td>삼성전자</td>\n      <td>20220930</td>\n    </tr>\n    <tr>\n      <th>2</th>\n      <td>448040650000000.0</td>\n      <td>310216785000000.0</td>\n      <td>327906664000000.0</td>\n      <td>0.692385</td>\n      <td>0.946052</td>\n      <td>삼성전자</td>\n      <td>20220630</td>\n    </tr>\n    <tr>\n      <th>3</th>\n      <td>439326959000000.0</td>\n      <td>301743152000000.0</td>\n      <td>315290919000000.0</td>\n      <td>0.68683</td>\n      <td>0.957031</td>\n      <td>삼성전자</td>\n      <td>20220331</td>\n    </tr>\n    <tr>\n      <th>4</th>\n      <td>426621158000000.0</td>\n      <td>293064763000000.0</td>\n      <td>304899931000000.0</td>\n      <td>0.686944</td>\n      <td>0.961183</td>\n      <td>삼성전자</td>\n      <td>20211231</td>\n    </tr>\n    <tr>\n      <th>5</th>\n      <td>410420718000000.0</td>\n      <td>284826992000000.0</td>\n      <td>296766118000000.0</td>\n      <td>0.693988</td>\n      <td>0.959769</td>\n      <td>삼성전자</td>\n      <td>20210930</td>\n    </tr>\n    <tr>\n      <th>6</th>\n      <td>384777669000000.0</td>\n      <td>275085185000000.0</td>\n      <td>282324266000000.0</td>\n      <td>0.71492</td>\n      <td>0.974359</td>\n      <td>삼성전자</td>\n      <td>20210630</td>\n    </tr>\n    <tr>\n      <th>7</th>\n      <td>392826274000000.0</td>\n      <td>266066142000000.0</td>\n      <td>274268591000000.0</td>\n      <td>0.677312</td>\n      <td>0.970093</td>\n      <td>삼성전자</td>\n      <td>20210331</td>\n    </tr>\n    <tr>\n      <th>8</th>\n      <td>378235718000000.0</td>\n      <td>271068211000000.0</td>\n      <td>275948016000000.0</td>\n      <td>0.716665</td>\n      <td>0.982316</td>\n      <td>삼성전자</td>\n      <td>20201231</td>\n    </tr>\n    <tr>\n      <th>9</th>\n      <td>375788742000000.0</td>\n      <td>267024912000000.0</td>\n      <td>276136188000000.0</td>\n      <td>0.710572</td>\n      <td>0.967004</td>\n      <td>삼성전자</td>\n      <td>20200930</td>\n    </tr>\n    <tr>\n      <th>10</th>\n      <td>357959499000000.0</td>\n      <td>260165053000000.0</td>\n      <td>269807817000000.0</td>\n      <td>0.7268</td>\n      <td>0.964261</td>\n      <td>삼성전자</td>\n      <td>20200630</td>\n    </tr>\n    <tr>\n      <th>11</th>\n      <td>357457535000000.0</td>\n      <td>257078919000000.0</td>\n      <td>266387723000000.0</td>\n      <td>0.719187</td>\n      <td>0.965055</td>\n      <td>삼성전자</td>\n      <td>20200331</td>\n    </tr>\n    <tr>\n      <th>12</th>\n      <td>352564497000000.0</td>\n      <td>254582894000000.0</td>\n      <td>262880421000000.0</td>\n      <td>0.722089</td>\n      <td>0.968436</td>\n      <td>삼성전자</td>\n      <td>20191231</td>\n    </tr>\n    <tr>\n      <th>13</th>\n      <td>353385985000000.0</td>\n      <td>251761348000000.0</td>\n      <td>263442244000000.0</td>\n      <td>0.712426</td>\n      <td>0.955661</td>\n      <td>삼성전자</td>\n      <td>20190930</td>\n    </tr>\n    <tr>\n      <th>14</th>\n      <td>342940134000000.0</td>\n      <td>248060958000000.0</td>\n      <td>257747033000000.0</td>\n      <td>0.723336</td>\n      <td>0.96242</td>\n      <td>삼성전자</td>\n      <td>20190630</td>\n    </tr>\n    <tr>\n      <th>15</th>\n      <td>345067883000000.0</td>\n      <td>245401018000000.0</td>\n      <td>253215151000000.0</td>\n      <td>0.711167</td>\n      <td>0.96914</td>\n      <td>삼성전자</td>\n      <td>20190331</td>\n    </tr>\n    <tr>\n      <th>16</th>\n      <td>339357244000000.0</td>\n      <td>242698956000000.0</td>\n      <td>247753177000000.0</td>\n      <td>0.715172</td>\n      <td>0.9796</td>\n      <td>삼성전자</td>\n      <td>20181231</td>\n    </tr>\n    <tr>\n      <th>17</th>\n      <td>301752090000000.0</td>\n      <td>215811200000000.0</td>\n      <td>214491428000000.0</td>\n      <td>0.715194</td>\n      <td>1.006153</td>\n      <td>삼성전자</td>\n      <td>20171231</td>\n    </tr>\n    <tr>\n      <th>18</th>\n      <td>262174324000000.0</td>\n      <td>193086317000000.0</td>\n      <td>192963033000000.0</td>\n      <td>0.736481</td>\n      <td>1.000639</td>\n      <td>삼성전자</td>\n      <td>20161231</td>\n    </tr>\n  </tbody>\n</table>\n</div>"
     },
     "execution_count": 72,
     "metadata": {},
     "output_type": "execute_result"
    }
   ],
   "source": [
    "samsungelc_fin= samsungelc_fin.transpose()\n",
    "\n",
    "header = samsungelc_fin.iloc[0]\n",
    "samsungelc_fin = samsungelc_fin[1:]\n",
    "samsungelc_fin.rename(columns=header, inplace=True)\n",
    "samsungelc_fin['회사명'] = '삼성전자'\n",
    "samsungelc_fin['날짜'] = samsungelc_fin.index\n",
    "samsungelc_fin['날짜'] = samsungelc_fin['날짜'].astype(int)\n",
    "samsungelc_fin = samsungelc_fin.rename(columns={'이익잉여금(결손금)':'이익잉여금'})\n",
    "samsungelc_fin = samsungelc_fin.reset_index(drop=True)\n",
    "\n",
    "samsungelc_fin"
   ],
   "metadata": {
    "collapsed": false,
    "pycharm": {
     "name": "#%%\n"
    }
   }
  },
  {
   "cell_type": "code",
   "execution_count": 73,
   "outputs": [],
   "source": [
    "# 각 회사별 재무제표 데이터프레임을 하나의 데이터프레임으로 결합\n",
    "\n",
    "combined_fin = pd.concat([sk_fin, samsungsdi_fin, samsungsds_fin, samsungelc_fin, lgdis_fin, lgelc_fin])"
   ],
   "metadata": {
    "collapsed": false,
    "pycharm": {
     "name": "#%%\n"
    }
   }
  },
  {
   "cell_type": "code",
   "execution_count": 74,
   "outputs": [
    {
     "data": {
      "text/plain": "                 자산총계             이익잉여금              자본총계       ROA       ROE  \\\n0   103871512000000.0  56685260000000.0  63290542000000.0  0.545725  0.895636   \n1   109545800000000.0  60232908000000.0  68723186000000.0  0.549842  0.876457   \n2   104147622000000.0  59346943000000.0  66760160000000.0  0.569835  0.888957   \n3    99466056000000.0  56692698000000.0  63398639000000.0   0.56997  0.894226   \n4    96346525000000.0  55784068000000.0  62191058000000.0  0.578994  0.896979   \n..                ...               ...               ...       ...       ...   \n14   45867252000000.0  12447002000000.0  17094998000000.0   0.27137  0.728108   \n15   45936704000000.0  12456700000000.0  16939675000000.0  0.271171  0.735356   \n16   44328443000000.0  12075414000000.0  16306907000000.0  0.272408  0.740509   \n17   41220959000000.0  10964155000000.0  14673684000000.0  0.265985  0.747199   \n18   37855269000000.0   9233416000000.0  13356742000000.0  0.243914  0.691293   \n\n       회사명        날짜  \n0   SK하이닉스  20221231  \n1   SK하이닉스  20220930  \n2   SK하이닉스  20220630  \n3   SK하이닉스  20220331  \n4   SK하이닉스  20211231  \n..     ...       ...  \n14    LG전자  20190630  \n15    LG전자  20190331  \n16    LG전자  20181231  \n17    LG전자  20171231  \n18    LG전자  20161231  \n\n[114 rows x 7 columns]",
      "text/html": "<div>\n<style scoped>\n    .dataframe tbody tr th:only-of-type {\n        vertical-align: middle;\n    }\n\n    .dataframe tbody tr th {\n        vertical-align: top;\n    }\n\n    .dataframe thead th {\n        text-align: right;\n    }\n</style>\n<table border=\"1\" class=\"dataframe\">\n  <thead>\n    <tr style=\"text-align: right;\">\n      <th></th>\n      <th>자산총계</th>\n      <th>이익잉여금</th>\n      <th>자본총계</th>\n      <th>ROA</th>\n      <th>ROE</th>\n      <th>회사명</th>\n      <th>날짜</th>\n    </tr>\n  </thead>\n  <tbody>\n    <tr>\n      <th>0</th>\n      <td>103871512000000.0</td>\n      <td>56685260000000.0</td>\n      <td>63290542000000.0</td>\n      <td>0.545725</td>\n      <td>0.895636</td>\n      <td>SK하이닉스</td>\n      <td>20221231</td>\n    </tr>\n    <tr>\n      <th>1</th>\n      <td>109545800000000.0</td>\n      <td>60232908000000.0</td>\n      <td>68723186000000.0</td>\n      <td>0.549842</td>\n      <td>0.876457</td>\n      <td>SK하이닉스</td>\n      <td>20220930</td>\n    </tr>\n    <tr>\n      <th>2</th>\n      <td>104147622000000.0</td>\n      <td>59346943000000.0</td>\n      <td>66760160000000.0</td>\n      <td>0.569835</td>\n      <td>0.888957</td>\n      <td>SK하이닉스</td>\n      <td>20220630</td>\n    </tr>\n    <tr>\n      <th>3</th>\n      <td>99466056000000.0</td>\n      <td>56692698000000.0</td>\n      <td>63398639000000.0</td>\n      <td>0.56997</td>\n      <td>0.894226</td>\n      <td>SK하이닉스</td>\n      <td>20220331</td>\n    </tr>\n    <tr>\n      <th>4</th>\n      <td>96346525000000.0</td>\n      <td>55784068000000.0</td>\n      <td>62191058000000.0</td>\n      <td>0.578994</td>\n      <td>0.896979</td>\n      <td>SK하이닉스</td>\n      <td>20211231</td>\n    </tr>\n    <tr>\n      <th>...</th>\n      <td>...</td>\n      <td>...</td>\n      <td>...</td>\n      <td>...</td>\n      <td>...</td>\n      <td>...</td>\n      <td>...</td>\n    </tr>\n    <tr>\n      <th>14</th>\n      <td>45867252000000.0</td>\n      <td>12447002000000.0</td>\n      <td>17094998000000.0</td>\n      <td>0.27137</td>\n      <td>0.728108</td>\n      <td>LG전자</td>\n      <td>20190630</td>\n    </tr>\n    <tr>\n      <th>15</th>\n      <td>45936704000000.0</td>\n      <td>12456700000000.0</td>\n      <td>16939675000000.0</td>\n      <td>0.271171</td>\n      <td>0.735356</td>\n      <td>LG전자</td>\n      <td>20190331</td>\n    </tr>\n    <tr>\n      <th>16</th>\n      <td>44328443000000.0</td>\n      <td>12075414000000.0</td>\n      <td>16306907000000.0</td>\n      <td>0.272408</td>\n      <td>0.740509</td>\n      <td>LG전자</td>\n      <td>20181231</td>\n    </tr>\n    <tr>\n      <th>17</th>\n      <td>41220959000000.0</td>\n      <td>10964155000000.0</td>\n      <td>14673684000000.0</td>\n      <td>0.265985</td>\n      <td>0.747199</td>\n      <td>LG전자</td>\n      <td>20171231</td>\n    </tr>\n    <tr>\n      <th>18</th>\n      <td>37855269000000.0</td>\n      <td>9233416000000.0</td>\n      <td>13356742000000.0</td>\n      <td>0.243914</td>\n      <td>0.691293</td>\n      <td>LG전자</td>\n      <td>20161231</td>\n    </tr>\n  </tbody>\n</table>\n<p>114 rows × 7 columns</p>\n</div>"
     },
     "execution_count": 74,
     "metadata": {},
     "output_type": "execute_result"
    }
   ],
   "source": [
    "combined_fin"
   ],
   "metadata": {
    "collapsed": false,
    "pycharm": {
     "name": "#%%\n"
    }
   }
  },
  {
   "cell_type": "code",
   "execution_count": 75,
   "outputs": [],
   "source": [
    "# 상승/하락 데이터프레임으로 분리해줌\n",
    "\n",
    "down_df = pd.merge(down,combined_fin,on=[\"회사명\",'날짜'])\n",
    "up_df = pd.merge(up,combined_fin,on=[\"회사명\",'날짜'])"
   ],
   "metadata": {
    "collapsed": false,
    "pycharm": {
     "name": "#%%\n"
    }
   }
  },
  {
   "cell_type": "code",
   "execution_count": 76,
   "outputs": [
    {
     "data": {
      "text/plain": "         회사명        날짜  5일전_종가  4일전_종가  3일전_종가  2일전_종가  1일전_종가  5일전_거래량  \\\n0       삼성전자  20190331    0.02   -0.02    0.00   -0.01   -0.01    -0.05   \n1       삼성전자  20190331    0.02   -0.04   -0.04    0.01    0.01     0.25   \n2       삼성전자  20190331   -0.02    0.01    0.01   -0.02    0.02    -0.44   \n3       삼성전자  20190331    0.05    0.00    0.00    0.01    0.01     2.04   \n4       삼성전자  20190630    0.01   -0.01    0.00    0.00   -0.01     0.06   \n..       ...       ...     ...     ...     ...     ...     ...      ...   \n395  LG디스플레이  20221231   -0.02   -0.01    0.00    0.07    0.03    -0.32   \n396  LG디스플레이  20221231    0.03   -0.04    0.03   -0.01   -0.02    -0.27   \n397  LG디스플레이  20221231   -0.01   -0.02   -0.06   -0.01   -0.02    -0.13   \n398  LG디스플레이  20221231    0.00    0.08   -0.01    0.00    0.08    -0.26   \n399  LG디스플레이  20221231    0.01    0.00   -0.03    0.04   -0.02    -0.58   \n\n     4일전_거래량  3일전_거래량  2일전_거래량  1일전_거래량  Either       종가               자산총계  \\\n0       0.32    -0.33    -0.23     0.40       0  37600.0  345067883000000.0   \n1       1.53    -0.15    -0.56    -0.05       0  44800.0  345067883000000.0   \n2       0.04     0.12     0.35     0.31       0  46050.0  345067883000000.0   \n3      -0.69    -0.13    -0.07     0.73       0  45100.0  345067883000000.0   \n4      -0.39    -0.16     0.48    -0.31       0  45600.0  342940134000000.0   \n..       ...      ...      ...      ...     ...      ...                ...   \n395    -0.37     0.01     1.54    -0.27       0  14250.0   35686019000000.0   \n396    -0.12    -0.15    -0.13     0.31       0  13400.0   35686019000000.0   \n397     0.31     0.47    -0.42     0.96       0  12450.0   35686019000000.0   \n398     2.19    -0.68     0.31     0.67       0  14650.0   35686019000000.0   \n399    -0.44     0.13     0.53    -0.23       0  13400.0   35686019000000.0   \n\n                 이익잉여금               자본총계       ROA      ROE  \n0    245401018000000.0  253215151000000.0  0.711167  0.96914  \n1    245401018000000.0  253215151000000.0  0.711167  0.96914  \n2    245401018000000.0  253215151000000.0  0.711167  0.96914  \n3    245401018000000.0  253215151000000.0  0.711167  0.96914  \n4    248060958000000.0  257747033000000.0  0.723336  0.96242  \n..                 ...                ...       ...      ...  \n395    5359769000000.0   11319227000000.0  0.150192  0.47351  \n396    5359769000000.0   11319227000000.0  0.150192  0.47351  \n397    5359769000000.0   11319227000000.0  0.150192  0.47351  \n398    5359769000000.0   11319227000000.0  0.150192  0.47351  \n399    5359769000000.0   11319227000000.0  0.150192  0.47351  \n\n[400 rows x 19 columns]",
      "text/html": "<div>\n<style scoped>\n    .dataframe tbody tr th:only-of-type {\n        vertical-align: middle;\n    }\n\n    .dataframe tbody tr th {\n        vertical-align: top;\n    }\n\n    .dataframe thead th {\n        text-align: right;\n    }\n</style>\n<table border=\"1\" class=\"dataframe\">\n  <thead>\n    <tr style=\"text-align: right;\">\n      <th></th>\n      <th>회사명</th>\n      <th>날짜</th>\n      <th>5일전_종가</th>\n      <th>4일전_종가</th>\n      <th>3일전_종가</th>\n      <th>2일전_종가</th>\n      <th>1일전_종가</th>\n      <th>5일전_거래량</th>\n      <th>4일전_거래량</th>\n      <th>3일전_거래량</th>\n      <th>2일전_거래량</th>\n      <th>1일전_거래량</th>\n      <th>Either</th>\n      <th>종가</th>\n      <th>자산총계</th>\n      <th>이익잉여금</th>\n      <th>자본총계</th>\n      <th>ROA</th>\n      <th>ROE</th>\n    </tr>\n  </thead>\n  <tbody>\n    <tr>\n      <th>0</th>\n      <td>삼성전자</td>\n      <td>20190331</td>\n      <td>0.02</td>\n      <td>-0.02</td>\n      <td>0.00</td>\n      <td>-0.01</td>\n      <td>-0.01</td>\n      <td>-0.05</td>\n      <td>0.32</td>\n      <td>-0.33</td>\n      <td>-0.23</td>\n      <td>0.40</td>\n      <td>0</td>\n      <td>37600.0</td>\n      <td>345067883000000.0</td>\n      <td>245401018000000.0</td>\n      <td>253215151000000.0</td>\n      <td>0.711167</td>\n      <td>0.96914</td>\n    </tr>\n    <tr>\n      <th>1</th>\n      <td>삼성전자</td>\n      <td>20190331</td>\n      <td>0.02</td>\n      <td>-0.04</td>\n      <td>-0.04</td>\n      <td>0.01</td>\n      <td>0.01</td>\n      <td>0.25</td>\n      <td>1.53</td>\n      <td>-0.15</td>\n      <td>-0.56</td>\n      <td>-0.05</td>\n      <td>0</td>\n      <td>44800.0</td>\n      <td>345067883000000.0</td>\n      <td>245401018000000.0</td>\n      <td>253215151000000.0</td>\n      <td>0.711167</td>\n      <td>0.96914</td>\n    </tr>\n    <tr>\n      <th>2</th>\n      <td>삼성전자</td>\n      <td>20190331</td>\n      <td>-0.02</td>\n      <td>0.01</td>\n      <td>0.01</td>\n      <td>-0.02</td>\n      <td>0.02</td>\n      <td>-0.44</td>\n      <td>0.04</td>\n      <td>0.12</td>\n      <td>0.35</td>\n      <td>0.31</td>\n      <td>0</td>\n      <td>46050.0</td>\n      <td>345067883000000.0</td>\n      <td>245401018000000.0</td>\n      <td>253215151000000.0</td>\n      <td>0.711167</td>\n      <td>0.96914</td>\n    </tr>\n    <tr>\n      <th>3</th>\n      <td>삼성전자</td>\n      <td>20190331</td>\n      <td>0.05</td>\n      <td>0.00</td>\n      <td>0.00</td>\n      <td>0.01</td>\n      <td>0.01</td>\n      <td>2.04</td>\n      <td>-0.69</td>\n      <td>-0.13</td>\n      <td>-0.07</td>\n      <td>0.73</td>\n      <td>0</td>\n      <td>45100.0</td>\n      <td>345067883000000.0</td>\n      <td>245401018000000.0</td>\n      <td>253215151000000.0</td>\n      <td>0.711167</td>\n      <td>0.96914</td>\n    </tr>\n    <tr>\n      <th>4</th>\n      <td>삼성전자</td>\n      <td>20190630</td>\n      <td>0.01</td>\n      <td>-0.01</td>\n      <td>0.00</td>\n      <td>0.00</td>\n      <td>-0.01</td>\n      <td>0.06</td>\n      <td>-0.39</td>\n      <td>-0.16</td>\n      <td>0.48</td>\n      <td>-0.31</td>\n      <td>0</td>\n      <td>45600.0</td>\n      <td>342940134000000.0</td>\n      <td>248060958000000.0</td>\n      <td>257747033000000.0</td>\n      <td>0.723336</td>\n      <td>0.96242</td>\n    </tr>\n    <tr>\n      <th>...</th>\n      <td>...</td>\n      <td>...</td>\n      <td>...</td>\n      <td>...</td>\n      <td>...</td>\n      <td>...</td>\n      <td>...</td>\n      <td>...</td>\n      <td>...</td>\n      <td>...</td>\n      <td>...</td>\n      <td>...</td>\n      <td>...</td>\n      <td>...</td>\n      <td>...</td>\n      <td>...</td>\n      <td>...</td>\n      <td>...</td>\n      <td>...</td>\n    </tr>\n    <tr>\n      <th>395</th>\n      <td>LG디스플레이</td>\n      <td>20221231</td>\n      <td>-0.02</td>\n      <td>-0.01</td>\n      <td>0.00</td>\n      <td>0.07</td>\n      <td>0.03</td>\n      <td>-0.32</td>\n      <td>-0.37</td>\n      <td>0.01</td>\n      <td>1.54</td>\n      <td>-0.27</td>\n      <td>0</td>\n      <td>14250.0</td>\n      <td>35686019000000.0</td>\n      <td>5359769000000.0</td>\n      <td>11319227000000.0</td>\n      <td>0.150192</td>\n      <td>0.47351</td>\n    </tr>\n    <tr>\n      <th>396</th>\n      <td>LG디스플레이</td>\n      <td>20221231</td>\n      <td>0.03</td>\n      <td>-0.04</td>\n      <td>0.03</td>\n      <td>-0.01</td>\n      <td>-0.02</td>\n      <td>-0.27</td>\n      <td>-0.12</td>\n      <td>-0.15</td>\n      <td>-0.13</td>\n      <td>0.31</td>\n      <td>0</td>\n      <td>13400.0</td>\n      <td>35686019000000.0</td>\n      <td>5359769000000.0</td>\n      <td>11319227000000.0</td>\n      <td>0.150192</td>\n      <td>0.47351</td>\n    </tr>\n    <tr>\n      <th>397</th>\n      <td>LG디스플레이</td>\n      <td>20221231</td>\n      <td>-0.01</td>\n      <td>-0.02</td>\n      <td>-0.06</td>\n      <td>-0.01</td>\n      <td>-0.02</td>\n      <td>-0.13</td>\n      <td>0.31</td>\n      <td>0.47</td>\n      <td>-0.42</td>\n      <td>0.96</td>\n      <td>0</td>\n      <td>12450.0</td>\n      <td>35686019000000.0</td>\n      <td>5359769000000.0</td>\n      <td>11319227000000.0</td>\n      <td>0.150192</td>\n      <td>0.47351</td>\n    </tr>\n    <tr>\n      <th>398</th>\n      <td>LG디스플레이</td>\n      <td>20221231</td>\n      <td>0.00</td>\n      <td>0.08</td>\n      <td>-0.01</td>\n      <td>0.00</td>\n      <td>0.08</td>\n      <td>-0.26</td>\n      <td>2.19</td>\n      <td>-0.68</td>\n      <td>0.31</td>\n      <td>0.67</td>\n      <td>0</td>\n      <td>14650.0</td>\n      <td>35686019000000.0</td>\n      <td>5359769000000.0</td>\n      <td>11319227000000.0</td>\n      <td>0.150192</td>\n      <td>0.47351</td>\n    </tr>\n    <tr>\n      <th>399</th>\n      <td>LG디스플레이</td>\n      <td>20221231</td>\n      <td>0.01</td>\n      <td>0.00</td>\n      <td>-0.03</td>\n      <td>0.04</td>\n      <td>-0.02</td>\n      <td>-0.58</td>\n      <td>-0.44</td>\n      <td>0.13</td>\n      <td>0.53</td>\n      <td>-0.23</td>\n      <td>0</td>\n      <td>13400.0</td>\n      <td>35686019000000.0</td>\n      <td>5359769000000.0</td>\n      <td>11319227000000.0</td>\n      <td>0.150192</td>\n      <td>0.47351</td>\n    </tr>\n  </tbody>\n</table>\n<p>400 rows × 19 columns</p>\n</div>"
     },
     "execution_count": 76,
     "metadata": {},
     "output_type": "execute_result"
    }
   ],
   "source": [
    "down_df"
   ],
   "metadata": {
    "collapsed": false,
    "pycharm": {
     "name": "#%%\n"
    }
   }
  },
  {
   "cell_type": "code",
   "execution_count": 77,
   "outputs": [],
   "source": [
    "# 종가 및 거래량 관련 부분은 큰 영향이 없다고 판단하여 제거하고 재무제표만을 이용하여 선형회귀 진행\n",
    "\n",
    "down_x = down_df[[\"자산총계\",\"이익잉여금\",\"자본총계\",\"ROA\",\"ROE\"]]\n",
    "down_y = down_df[\"종가\"]"
   ],
   "metadata": {
    "collapsed": false,
    "pycharm": {
     "name": "#%%\n"
    }
   }
  },
  {
   "cell_type": "code",
   "execution_count": 78,
   "outputs": [],
   "source": [
    "X_train, X_test, y_train, y_test = train_test_split(down_x, down_y, test_size=0.2, random_state=42)"
   ],
   "metadata": {
    "collapsed": false,
    "pycharm": {
     "name": "#%%\n"
    }
   }
  },
  {
   "cell_type": "code",
   "execution_count": 79,
   "outputs": [
    {
     "data": {
      "text/plain": "                  자산총계             이익잉여금              자본총계       ROA       ROE\n209   77717897000000.0  49156421000000.0  54878014000000.0  0.632498   0.89574\n280   54559798000000.0  14539535000000.0  20305124000000.0  0.266488  0.716053\n33     8801403296612.0   4996636000701.0   6370368935047.0  0.567709  0.784356\n210   83269048000000.0  52460405000000.0  58714446000000.0  0.630011  0.893484\n93    19886909228403.0   6830318479970.0  12464269085684.0  0.343458  0.547992\n..                 ...               ...               ...       ...       ...\n246   45570152000000.0  12746687000000.0  17390671000000.0  0.279716  0.732961\n227  104147622000000.0  59346943000000.0  66760160000000.0  0.569835  0.888957\n369   38154515000000.0   8541521000000.0  14762501000000.0  0.223867  0.578596\n176   67142787000000.0  42890187000000.0  48247724000000.0  0.638791  0.888958\n289   55050923000000.0  15676888000000.0  21880321000000.0  0.284771  0.716483\n\n[80 rows x 5 columns]",
      "text/html": "<div>\n<style scoped>\n    .dataframe tbody tr th:only-of-type {\n        vertical-align: middle;\n    }\n\n    .dataframe tbody tr th {\n        vertical-align: top;\n    }\n\n    .dataframe thead th {\n        text-align: right;\n    }\n</style>\n<table border=\"1\" class=\"dataframe\">\n  <thead>\n    <tr style=\"text-align: right;\">\n      <th></th>\n      <th>자산총계</th>\n      <th>이익잉여금</th>\n      <th>자본총계</th>\n      <th>ROA</th>\n      <th>ROE</th>\n    </tr>\n  </thead>\n  <tbody>\n    <tr>\n      <th>209</th>\n      <td>77717897000000.0</td>\n      <td>49156421000000.0</td>\n      <td>54878014000000.0</td>\n      <td>0.632498</td>\n      <td>0.89574</td>\n    </tr>\n    <tr>\n      <th>280</th>\n      <td>54559798000000.0</td>\n      <td>14539535000000.0</td>\n      <td>20305124000000.0</td>\n      <td>0.266488</td>\n      <td>0.716053</td>\n    </tr>\n    <tr>\n      <th>33</th>\n      <td>8801403296612.0</td>\n      <td>4996636000701.0</td>\n      <td>6370368935047.0</td>\n      <td>0.567709</td>\n      <td>0.784356</td>\n    </tr>\n    <tr>\n      <th>210</th>\n      <td>83269048000000.0</td>\n      <td>52460405000000.0</td>\n      <td>58714446000000.0</td>\n      <td>0.630011</td>\n      <td>0.893484</td>\n    </tr>\n    <tr>\n      <th>93</th>\n      <td>19886909228403.0</td>\n      <td>6830318479970.0</td>\n      <td>12464269085684.0</td>\n      <td>0.343458</td>\n      <td>0.547992</td>\n    </tr>\n    <tr>\n      <th>...</th>\n      <td>...</td>\n      <td>...</td>\n      <td>...</td>\n      <td>...</td>\n      <td>...</td>\n    </tr>\n    <tr>\n      <th>246</th>\n      <td>45570152000000.0</td>\n      <td>12746687000000.0</td>\n      <td>17390671000000.0</td>\n      <td>0.279716</td>\n      <td>0.732961</td>\n    </tr>\n    <tr>\n      <th>227</th>\n      <td>104147622000000.0</td>\n      <td>59346943000000.0</td>\n      <td>66760160000000.0</td>\n      <td>0.569835</td>\n      <td>0.888957</td>\n    </tr>\n    <tr>\n      <th>369</th>\n      <td>38154515000000.0</td>\n      <td>8541521000000.0</td>\n      <td>14762501000000.0</td>\n      <td>0.223867</td>\n      <td>0.578596</td>\n    </tr>\n    <tr>\n      <th>176</th>\n      <td>67142787000000.0</td>\n      <td>42890187000000.0</td>\n      <td>48247724000000.0</td>\n      <td>0.638791</td>\n      <td>0.888958</td>\n    </tr>\n    <tr>\n      <th>289</th>\n      <td>55050923000000.0</td>\n      <td>15676888000000.0</td>\n      <td>21880321000000.0</td>\n      <td>0.284771</td>\n      <td>0.716483</td>\n    </tr>\n  </tbody>\n</table>\n<p>80 rows × 5 columns</p>\n</div>"
     },
     "execution_count": 79,
     "metadata": {},
     "output_type": "execute_result"
    }
   ],
   "source": [
    "X_test"
   ],
   "metadata": {
    "collapsed": false,
    "pycharm": {
     "name": "#%%\n"
    }
   }
  },
  {
   "cell_type": "code",
   "execution_count": 80,
   "outputs": [],
   "source": [
    "lr = LinearRegression()"
   ],
   "metadata": {
    "collapsed": false,
    "pycharm": {
     "name": "#%%\n"
    }
   }
  },
  {
   "cell_type": "code",
   "execution_count": 81,
   "outputs": [
    {
     "data": {
      "text/plain": "LinearRegression()",
      "text/html": "<style>#sk-container-id-2 {color: black;background-color: white;}#sk-container-id-2 pre{padding: 0;}#sk-container-id-2 div.sk-toggleable {background-color: white;}#sk-container-id-2 label.sk-toggleable__label {cursor: pointer;display: block;width: 100%;margin-bottom: 0;padding: 0.3em;box-sizing: border-box;text-align: center;}#sk-container-id-2 label.sk-toggleable__label-arrow:before {content: \"▸\";float: left;margin-right: 0.25em;color: #696969;}#sk-container-id-2 label.sk-toggleable__label-arrow:hover:before {color: black;}#sk-container-id-2 div.sk-estimator:hover label.sk-toggleable__label-arrow:before {color: black;}#sk-container-id-2 div.sk-toggleable__content {max-height: 0;max-width: 0;overflow: hidden;text-align: left;background-color: #f0f8ff;}#sk-container-id-2 div.sk-toggleable__content pre {margin: 0.2em;color: black;border-radius: 0.25em;background-color: #f0f8ff;}#sk-container-id-2 input.sk-toggleable__control:checked~div.sk-toggleable__content {max-height: 200px;max-width: 100%;overflow: auto;}#sk-container-id-2 input.sk-toggleable__control:checked~label.sk-toggleable__label-arrow:before {content: \"▾\";}#sk-container-id-2 div.sk-estimator input.sk-toggleable__control:checked~label.sk-toggleable__label {background-color: #d4ebff;}#sk-container-id-2 div.sk-label input.sk-toggleable__control:checked~label.sk-toggleable__label {background-color: #d4ebff;}#sk-container-id-2 input.sk-hidden--visually {border: 0;clip: rect(1px 1px 1px 1px);clip: rect(1px, 1px, 1px, 1px);height: 1px;margin: -1px;overflow: hidden;padding: 0;position: absolute;width: 1px;}#sk-container-id-2 div.sk-estimator {font-family: monospace;background-color: #f0f8ff;border: 1px dotted black;border-radius: 0.25em;box-sizing: border-box;margin-bottom: 0.5em;}#sk-container-id-2 div.sk-estimator:hover {background-color: #d4ebff;}#sk-container-id-2 div.sk-parallel-item::after {content: \"\";width: 100%;border-bottom: 1px solid gray;flex-grow: 1;}#sk-container-id-2 div.sk-label:hover label.sk-toggleable__label {background-color: #d4ebff;}#sk-container-id-2 div.sk-serial::before {content: \"\";position: absolute;border-left: 1px solid gray;box-sizing: border-box;top: 0;bottom: 0;left: 50%;z-index: 0;}#sk-container-id-2 div.sk-serial {display: flex;flex-direction: column;align-items: center;background-color: white;padding-right: 0.2em;padding-left: 0.2em;position: relative;}#sk-container-id-2 div.sk-item {position: relative;z-index: 1;}#sk-container-id-2 div.sk-parallel {display: flex;align-items: stretch;justify-content: center;background-color: white;position: relative;}#sk-container-id-2 div.sk-item::before, #sk-container-id-2 div.sk-parallel-item::before {content: \"\";position: absolute;border-left: 1px solid gray;box-sizing: border-box;top: 0;bottom: 0;left: 50%;z-index: -1;}#sk-container-id-2 div.sk-parallel-item {display: flex;flex-direction: column;z-index: 1;position: relative;background-color: white;}#sk-container-id-2 div.sk-parallel-item:first-child::after {align-self: flex-end;width: 50%;}#sk-container-id-2 div.sk-parallel-item:last-child::after {align-self: flex-start;width: 50%;}#sk-container-id-2 div.sk-parallel-item:only-child::after {width: 0;}#sk-container-id-2 div.sk-dashed-wrapped {border: 1px dashed gray;margin: 0 0.4em 0.5em 0.4em;box-sizing: border-box;padding-bottom: 0.4em;background-color: white;}#sk-container-id-2 div.sk-label label {font-family: monospace;font-weight: bold;display: inline-block;line-height: 1.2em;}#sk-container-id-2 div.sk-label-container {text-align: center;}#sk-container-id-2 div.sk-container {/* jupyter's `normalize.less` sets `[hidden] { display: none; }` but bootstrap.min.css set `[hidden] { display: none !important; }` so we also need the `!important` here to be able to override the default hidden behavior on the sphinx rendered scikit-learn.org. See: https://github.com/scikit-learn/scikit-learn/issues/21755 */display: inline-block !important;position: relative;}#sk-container-id-2 div.sk-text-repr-fallback {display: none;}</style><div id=\"sk-container-id-2\" class=\"sk-top-container\"><div class=\"sk-text-repr-fallback\"><pre>LinearRegression()</pre><b>In a Jupyter environment, please rerun this cell to show the HTML representation or trust the notebook. <br />On GitHub, the HTML representation is unable to render, please try loading this page with nbviewer.org.</b></div><div class=\"sk-container\" hidden><div class=\"sk-item\"><div class=\"sk-estimator sk-toggleable\"><input class=\"sk-toggleable__control sk-hidden--visually\" id=\"sk-estimator-id-2\" type=\"checkbox\" checked><label for=\"sk-estimator-id-2\" class=\"sk-toggleable__label sk-toggleable__label-arrow\">LinearRegression</label><div class=\"sk-toggleable__content\"><pre>LinearRegression()</pre></div></div></div></div></div>"
     },
     "execution_count": 81,
     "metadata": {},
     "output_type": "execute_result"
    }
   ],
   "source": [
    "# Fit a linear regression model to the training data\n",
    "lr = LinearRegression()\n",
    "lr.fit(X_train, y_train)"
   ],
   "metadata": {
    "collapsed": false,
    "pycharm": {
     "name": "#%%\n"
    }
   }
  },
  {
   "cell_type": "code",
   "execution_count": 82,
   "outputs": [
    {
     "name": "stdout",
     "output_type": "stream",
     "text": [
      "209    122500.0\n",
      "280    148000.0\n",
      "33     211500.0\n",
      "210    112500.0\n",
      "93     248000.0\n",
      "         ...   \n",
      "246     63300.0\n",
      "227     91000.0\n",
      "369     17450.0\n",
      "176     87900.0\n",
      "289    130000.0\n",
      "Name: 종가, Length: 80, dtype: float64\n",
      "[ 176443.10986332    8842.54601645  119066.03224848  192079.6589831\n",
      "  359876.64169561  369020.14057917  145008.16564602  363537.85640802\n",
      "  -42150.49599936  375580.1508666    92865.88310047  172808.19854492\n",
      "  100931.04246536  369025.19987168  375580.1508666   114212.58598449\n",
      "    8842.54601645  206239.17291896   20777.76640729  213129.21821836\n",
      "  371200.10541069   92865.88310047  217092.4306907   -42150.49599936\n",
      "  -32002.88180725  190203.45559527  377233.58799452  111120.65158037\n",
      "  -42150.49599936  365627.00700036  190203.45559527  192542.47970205\n",
      "  -55697.77808251  100931.04246536   20777.76640729  383166.62709656\n",
      "  377233.58799452  154977.36637506  183790.39054908  360241.47615082\n",
      "  213129.21821836   97153.50668023  371200.10541069   17294.81057376\n",
      "  373861.80598307  213129.21821836  340351.14424863  190918.16809453\n",
      " -300908.60653742  190918.16809453  114212.58598449  127855.52938064\n",
      "  154977.36637506  104677.65452871  206239.17291896  114212.58598449\n",
      "  111120.65158037  190316.96645765  703767.31793858  340351.14424863\n",
      "  375120.28462748  112873.90635308  -36675.59169387  371200.10541069\n",
      "  367483.41403231  703767.31793858  152762.29974359  -42150.49599936\n",
      "  217092.4306907   369025.19987168  127855.52938064  356218.29711846\n",
      "  161801.27662548  114212.58598449  217092.4306907    22804.82005864\n",
      "  111120.65158037  193905.57673123  190918.16809453   46275.82009927]\n"
     ]
    }
   ],
   "source": [
    "y_test_hat = lr.predict(X_test)\n",
    "print(y_test)\n",
    "print(y_test_hat)"
   ],
   "metadata": {
    "collapsed": false,
    "pycharm": {
     "name": "#%%\n"
    }
   }
  },
  {
   "cell_type": "code",
   "execution_count": 83,
   "outputs": [
    {
     "name": "stdout",
     "output_type": "stream",
     "text": [
      "performance for TEST--------\n",
      "test MAE :  149945.681318402\n",
      "test RMSE :  186651.36312183173\n",
      "test R_square :  0.03269628563570948\n"
     ]
    }
   ],
   "source": [
    "from sklearn.metrics import mean_absolute_error, mean_squared_error, r2_score\n",
    "\n",
    "# 회귀식 작성 후 predict 결과 회귀식이 설명력이 없어 무의미하다고 판단\n",
    "\n",
    "print('performance for TEST--------')\n",
    "print('test MAE : ', mean_absolute_error(y_test, y_test_hat))\n",
    "print('test RMSE : ', mean_squared_error(y_test, y_test_hat)**0.5)\n",
    "print('test R_square : ', r2_score(y_test, y_test_hat))"
   ],
   "metadata": {
    "collapsed": false,
    "pycharm": {
     "name": "#%%\n"
    }
   }
  },
  {
   "cell_type": "markdown",
   "source": [
    "재무제표만으로도 설명이 부족하다고 판단하여 손익계산서를 추가하여 분석진행"
   ],
   "metadata": {
    "collapsed": false
   }
  },
  {
   "cell_type": "markdown",
   "source": [
    "<h1> 손익계산서 부분 추가"
   ],
   "metadata": {
    "collapsed": false
   }
  },
  {
   "cell_type": "code",
   "execution_count": 84,
   "outputs": [],
   "source": [
    "# 손익계산서 불러오기\n",
    "\n",
    "samsungelc_is  = pd.read_excel(\"재무제표 관련/삼성전자_is_info.xlsx\")"
   ],
   "metadata": {
    "collapsed": false,
    "pycharm": {
     "name": "#%%\n"
    }
   }
  },
  {
   "cell_type": "code",
   "execution_count": 85,
   "outputs": [],
   "source": [
    "# 손익계산서의 경우 일정기간을 기준으로 하기 때문에 재무제표와 칼럼명이 다름\n",
    "# 따라서 칼럼명을 일치시키고 구간또한 일치시키기 위한 작업을 진행함\n",
    "\n",
    "# 3개월동안만의 손익을 판단하기 위해 10.31부터 12.31까지의 손익은 존재하지 않아 직접 계산해줌\n",
    "samsungelc_is[\"20221231\"] = samsungelc_is[\"20220101-20221231\"]-samsungelc_is[\"20220101-20220930\"]\n",
    "samsungelc_is[\"20211231\"] = samsungelc_is[\"20210101-20211231\"]-samsungelc_is[\"20210101-20210930\"]\n",
    "samsungelc_is[\"20201231\"] = samsungelc_is[\"20200101-20201231\"]-samsungelc_is[\"20200101-20200930\"]\n",
    "samsungelc_is[\"20191231\"] = samsungelc_is[\"20190101-20191231\"]-samsungelc_is[\"20190101-20190930\"]\n",
    "\n",
    "# 구간으로 되어있는 칼럼을 재무제표 표현과 동일하게 변경\n",
    "samsungelc_is = samsungelc_is.rename(columns={'20220701-20220930':20220930,'20220401-20220630':20220630,\"20220101-20220331\":20220331,\n",
    "                                              '20210701-20210930':20210930,'20210401-20210630':20210630,\"20210101-20210331\":20210331,\n",
    "                                              '20200701-20200930':20200930,'20200401-20200630':20200630,\"20200101-20200331\":20200331,\n",
    "                                              '20190701-20190930':20190930,'20190401-20190630':20190630,\"20190101-20190331\":20200331,})\n",
    "\n",
    "# 필요없는 칼럼 제거\n",
    "samsungelc_is = samsungelc_is.drop(['20180401-20180630','20180101-20181231','20180101-20180930','20180101-20180630','20180701-20180930','20180101-20180331','20170101-20171231','20160101-20161231','20190101-20191231','20190101-20190930','20190101-20190630','20200101-20201231','20200101-20200930','20200101-20200630','20210101-20211231','20210101-20210930','20210101-20210630','20220101-20221231','20220101-20220930','20220101-20220630'], axis=1)\n",
    "samsungelc_is = samsungelc_is.transpose()\n",
    "\n",
    "# 첫번째 row를 칼럼명으로 지정\n",
    "header = samsungelc_is.iloc[0]\n",
    "samsungelc_is = samsungelc_is[1:]\n",
    "samsungelc_is.rename(columns=header, inplace=True)\n",
    "\n",
    "samsungelc_is['날짜'] = samsungelc_is.index\n",
    "samsungelc_is['날짜'] = samsungelc_is['날짜'].astype(int)\n",
    "samsungelc_is = samsungelc_is.reset_index(drop=True)\n",
    "# 각 회사별 계정과목의 이름 통일\n",
    "samsungelc_is = samsungelc_is.rename(columns={'기본주당이익(손실)':'기본주당이익', '수익(매출액)':'매출액'})\n",
    "\n",
    "# 회사명 추가\n",
    "samsungelc_is['회사명'] = '삼성전자'"
   ],
   "metadata": {
    "collapsed": false,
    "pycharm": {
     "name": "#%%\n"
    }
   }
  },
  {
   "cell_type": "code",
   "execution_count": 86,
   "outputs": [
    {
     "data": {
      "text/plain": "               매출액 기본주당이익        날짜   회사명\n0   76781680000000   1346  20220930  삼성전자\n1   77203607000000   1613  20220630  삼성전자\n2   77781498000000   1638  20220331  삼성전자\n3   73979187000000   1776  20210930  삼성전자\n4   63671585000000   1391  20210630  삼성전자\n5   65388503000000   1044  20210331  삼성전자\n6   66964160000000   1364  20200930  삼성전자\n7   52966142000000    808  20200630  삼성전자\n8   55325178000000    720  20200331  삼성전자\n9   62003471000000    899  20190930  삼성전자\n10  56127104000000    746  20190630  삼성전자\n11  52385546000000    752  20200331  삼성전자\n12  70464575000000   3460  20221231  삼성전자\n13  76565524000000   1566  20211231  삼성전자\n14  61551508000000    949  20201231  삼성전자\n15  59884760000000    770  20191231  삼성전자",
      "text/html": "<div>\n<style scoped>\n    .dataframe tbody tr th:only-of-type {\n        vertical-align: middle;\n    }\n\n    .dataframe tbody tr th {\n        vertical-align: top;\n    }\n\n    .dataframe thead th {\n        text-align: right;\n    }\n</style>\n<table border=\"1\" class=\"dataframe\">\n  <thead>\n    <tr style=\"text-align: right;\">\n      <th></th>\n      <th>매출액</th>\n      <th>기본주당이익</th>\n      <th>날짜</th>\n      <th>회사명</th>\n    </tr>\n  </thead>\n  <tbody>\n    <tr>\n      <th>0</th>\n      <td>76781680000000</td>\n      <td>1346</td>\n      <td>20220930</td>\n      <td>삼성전자</td>\n    </tr>\n    <tr>\n      <th>1</th>\n      <td>77203607000000</td>\n      <td>1613</td>\n      <td>20220630</td>\n      <td>삼성전자</td>\n    </tr>\n    <tr>\n      <th>2</th>\n      <td>77781498000000</td>\n      <td>1638</td>\n      <td>20220331</td>\n      <td>삼성전자</td>\n    </tr>\n    <tr>\n      <th>3</th>\n      <td>73979187000000</td>\n      <td>1776</td>\n      <td>20210930</td>\n      <td>삼성전자</td>\n    </tr>\n    <tr>\n      <th>4</th>\n      <td>63671585000000</td>\n      <td>1391</td>\n      <td>20210630</td>\n      <td>삼성전자</td>\n    </tr>\n    <tr>\n      <th>5</th>\n      <td>65388503000000</td>\n      <td>1044</td>\n      <td>20210331</td>\n      <td>삼성전자</td>\n    </tr>\n    <tr>\n      <th>6</th>\n      <td>66964160000000</td>\n      <td>1364</td>\n      <td>20200930</td>\n      <td>삼성전자</td>\n    </tr>\n    <tr>\n      <th>7</th>\n      <td>52966142000000</td>\n      <td>808</td>\n      <td>20200630</td>\n      <td>삼성전자</td>\n    </tr>\n    <tr>\n      <th>8</th>\n      <td>55325178000000</td>\n      <td>720</td>\n      <td>20200331</td>\n      <td>삼성전자</td>\n    </tr>\n    <tr>\n      <th>9</th>\n      <td>62003471000000</td>\n      <td>899</td>\n      <td>20190930</td>\n      <td>삼성전자</td>\n    </tr>\n    <tr>\n      <th>10</th>\n      <td>56127104000000</td>\n      <td>746</td>\n      <td>20190630</td>\n      <td>삼성전자</td>\n    </tr>\n    <tr>\n      <th>11</th>\n      <td>52385546000000</td>\n      <td>752</td>\n      <td>20200331</td>\n      <td>삼성전자</td>\n    </tr>\n    <tr>\n      <th>12</th>\n      <td>70464575000000</td>\n      <td>3460</td>\n      <td>20221231</td>\n      <td>삼성전자</td>\n    </tr>\n    <tr>\n      <th>13</th>\n      <td>76565524000000</td>\n      <td>1566</td>\n      <td>20211231</td>\n      <td>삼성전자</td>\n    </tr>\n    <tr>\n      <th>14</th>\n      <td>61551508000000</td>\n      <td>949</td>\n      <td>20201231</td>\n      <td>삼성전자</td>\n    </tr>\n    <tr>\n      <th>15</th>\n      <td>59884760000000</td>\n      <td>770</td>\n      <td>20191231</td>\n      <td>삼성전자</td>\n    </tr>\n  </tbody>\n</table>\n</div>"
     },
     "execution_count": 86,
     "metadata": {},
     "output_type": "execute_result"
    }
   ],
   "source": [
    "samsungelc_is"
   ],
   "metadata": {
    "collapsed": false,
    "pycharm": {
     "name": "#%%\n"
    }
   }
  },
  {
   "cell_type": "markdown",
   "source": [
    "<h2>재무제표 과정 또한 위의 과정과 동일하여 주석 생략하고 진행하였습니다."
   ],
   "metadata": {
    "collapsed": false
   }
  },
  {
   "cell_type": "code",
   "execution_count": 87,
   "outputs": [],
   "source": [
    "samsungsds_is  = pd.read_excel(\"재무제표 관련/삼성에스디에스_is_info.xlsx\")\n",
    "\n",
    "samsungsds_is[\"20221231\"] = samsungsds_is[\"20220101-20221231\"]-samsungsds_is[\"20220101-20220930\"]\n",
    "samsungsds_is[\"20211231\"] = samsungsds_is[\"20210101-20211231\"]-samsungsds_is[\"20210101-20210930\"]\n",
    "samsungsds_is[\"20201231\"] = samsungsds_is[\"20200101-20201231\"]-samsungsds_is[\"20200101-20200930\"]\n",
    "samsungsds_is[\"20191231\"] = samsungsds_is[\"20190101-20191231\"]-samsungsds_is[\"20190101-20190930\"]\n",
    "samsungsds_is = samsungsds_is.rename(columns={'20220701-20220930':20220930,'20220401-20220630':20220630,\"20220101-20220331\":20220331,\n",
    "                                              '20210701-20210930':20210930,'20210401-20210630':20210630,\"20210101-20210331\":20210331,\n",
    "                                              '20200701-20200930':20200930,'20200401-20200630':20200630,\"20200101-20200331\":20200331,\n",
    "                                              '20190701-20190930':20190930,'20190401-20190630':20190630,\"20190101-20190331\":20200331,})\n",
    "samsungsds_is = samsungsds_is.drop(['20180401-20180630','20180101-20181231','20180101-20180930','20180101-20180630','20180701-20180930','20180101-20180331','20170101-20171231','20160101-20161231','20190101-20191231','20190101-20190930','20190101-20190630','20200101-20201231','20200101-20200930','20200101-20200630','20210101-20211231','20210101-20210930','20210101-20210630','20220101-20221231','20220101-20220930','20220101-20220630'], axis=1)\n",
    "samsungsds_is = samsungsds_is.transpose()\n",
    "\n",
    "header = samsungsds_is.iloc[0]\n",
    "samsungsds_is = samsungsds_is[1:]\n",
    "samsungsds_is.rename(columns=header, inplace=True)\n",
    "\n",
    "samsungsds_is['날짜'] = samsungsds_is.index\n",
    "samsungsds_is['날짜'] = samsungsds_is['날짜'].astype(int)\n",
    "samsungsds_is = samsungsds_is.reset_index(drop=True)\n",
    "samsungsds_is = samsungsds_is.rename(columns={'보통주 기본주당이익':'기본주당이익'})\n",
    "\n",
    "samsungsds_is['회사명'] = '삼성에스디에스'"
   ],
   "metadata": {
    "collapsed": false,
    "pycharm": {
     "name": "#%%\n"
    }
   }
  },
  {
   "cell_type": "code",
   "execution_count": 88,
   "outputs": [
    {
     "data": {
      "text/plain": "              매출액 기본주당이익        날짜      회사명\n0   4198077332988   5056  20220930  삼성에스디에스\n1   4595178210292   3455  20220630  삼성에스디에스\n2   4191498112057   2554  20220331  삼성에스디에스\n3   3381259142965   2490  20210930  삼성에스디에스\n4   3250875938369   2058  20210630  삼성에스디에스\n5   3061308383774   2017  20210331  삼성에스디에스\n6   2968199978215   2034  20200930  삼성에스디에스\n7   2566606362760   1864  20200630  삼성에스디에스\n8   2436078896356   -386  20200331  삼성에스디에스\n9   2658395704779   1996  20190930  삼성에스디에스\n10  2776081029227   2451  20190630  삼성에스디에스\n11  2502458198025   1810  20200331  삼성에스디에스\n12  4249995882325   3153  20221231  삼성에스디에스\n13  3936558973816   1336  20211231  삼성에스디에스\n14  3046546288186   2221  20201231  삼성에스디에스\n15  2782696872135   3264  20191231  삼성에스디에스",
      "text/html": "<div>\n<style scoped>\n    .dataframe tbody tr th:only-of-type {\n        vertical-align: middle;\n    }\n\n    .dataframe tbody tr th {\n        vertical-align: top;\n    }\n\n    .dataframe thead th {\n        text-align: right;\n    }\n</style>\n<table border=\"1\" class=\"dataframe\">\n  <thead>\n    <tr style=\"text-align: right;\">\n      <th></th>\n      <th>매출액</th>\n      <th>기본주당이익</th>\n      <th>날짜</th>\n      <th>회사명</th>\n    </tr>\n  </thead>\n  <tbody>\n    <tr>\n      <th>0</th>\n      <td>4198077332988</td>\n      <td>5056</td>\n      <td>20220930</td>\n      <td>삼성에스디에스</td>\n    </tr>\n    <tr>\n      <th>1</th>\n      <td>4595178210292</td>\n      <td>3455</td>\n      <td>20220630</td>\n      <td>삼성에스디에스</td>\n    </tr>\n    <tr>\n      <th>2</th>\n      <td>4191498112057</td>\n      <td>2554</td>\n      <td>20220331</td>\n      <td>삼성에스디에스</td>\n    </tr>\n    <tr>\n      <th>3</th>\n      <td>3381259142965</td>\n      <td>2490</td>\n      <td>20210930</td>\n      <td>삼성에스디에스</td>\n    </tr>\n    <tr>\n      <th>4</th>\n      <td>3250875938369</td>\n      <td>2058</td>\n      <td>20210630</td>\n      <td>삼성에스디에스</td>\n    </tr>\n    <tr>\n      <th>5</th>\n      <td>3061308383774</td>\n      <td>2017</td>\n      <td>20210331</td>\n      <td>삼성에스디에스</td>\n    </tr>\n    <tr>\n      <th>6</th>\n      <td>2968199978215</td>\n      <td>2034</td>\n      <td>20200930</td>\n      <td>삼성에스디에스</td>\n    </tr>\n    <tr>\n      <th>7</th>\n      <td>2566606362760</td>\n      <td>1864</td>\n      <td>20200630</td>\n      <td>삼성에스디에스</td>\n    </tr>\n    <tr>\n      <th>8</th>\n      <td>2436078896356</td>\n      <td>-386</td>\n      <td>20200331</td>\n      <td>삼성에스디에스</td>\n    </tr>\n    <tr>\n      <th>9</th>\n      <td>2658395704779</td>\n      <td>1996</td>\n      <td>20190930</td>\n      <td>삼성에스디에스</td>\n    </tr>\n    <tr>\n      <th>10</th>\n      <td>2776081029227</td>\n      <td>2451</td>\n      <td>20190630</td>\n      <td>삼성에스디에스</td>\n    </tr>\n    <tr>\n      <th>11</th>\n      <td>2502458198025</td>\n      <td>1810</td>\n      <td>20200331</td>\n      <td>삼성에스디에스</td>\n    </tr>\n    <tr>\n      <th>12</th>\n      <td>4249995882325</td>\n      <td>3153</td>\n      <td>20221231</td>\n      <td>삼성에스디에스</td>\n    </tr>\n    <tr>\n      <th>13</th>\n      <td>3936558973816</td>\n      <td>1336</td>\n      <td>20211231</td>\n      <td>삼성에스디에스</td>\n    </tr>\n    <tr>\n      <th>14</th>\n      <td>3046546288186</td>\n      <td>2221</td>\n      <td>20201231</td>\n      <td>삼성에스디에스</td>\n    </tr>\n    <tr>\n      <th>15</th>\n      <td>2782696872135</td>\n      <td>3264</td>\n      <td>20191231</td>\n      <td>삼성에스디에스</td>\n    </tr>\n  </tbody>\n</table>\n</div>"
     },
     "execution_count": 88,
     "metadata": {},
     "output_type": "execute_result"
    }
   ],
   "source": [
    "samsungsds_is"
   ],
   "metadata": {
    "collapsed": false,
    "pycharm": {
     "name": "#%%\n"
    }
   }
  },
  {
   "cell_type": "code",
   "execution_count": 89,
   "outputs": [],
   "source": [
    "samsungsdi_is  = pd.read_excel(\"재무제표 관련/삼성SDI_is_info.xlsx\")\n",
    "\n",
    "samsungsdi_is[\"20221231\"] = samsungsdi_is[\"20220101-20221231\"]-samsungsdi_is[\"20220101-20220930\"]\n",
    "samsungsdi_is[\"20211231\"] = samsungsdi_is[\"20210101-20211231\"]-samsungsdi_is[\"20210101-20210930\"]\n",
    "samsungsdi_is[\"20201231\"] = samsungsdi_is[\"20200101-20201231\"]-samsungsdi_is[\"20200101-20200930\"]\n",
    "samsungsdi_is[\"20191231\"] = samsungsdi_is[\"20190101-20191231\"]-samsungsdi_is[\"20190101-20190930\"]\n",
    "samsungsdi_is = samsungsdi_is.rename(columns={'20220701-20220930':20220930,'20220401-20220630':20220630,\"20220101-20220331\":20220331,\n",
    "                                              '20210701-20210930':20210930,'20210401-20210630':20210630,\"20210101-20210331\":20210331,\n",
    "                                              '20200701-20200930':20200930,'20200401-20200630':20200630,\"20200101-20200331\":20200331,\n",
    "                                              '20190701-20190930':20190930,'20190401-20190630':20190630,\"20190101-20190331\":20200331,})\n",
    "samsungsdi_is = samsungsdi_is.drop(['20180401-20180630','20180101-20181231','20180101-20180930','20180101-20180630','20180701-20180930','20180101-20180331','20170101-20171231','20160101-20161231','20190101-20191231','20190101-20190930','20190101-20190630','20200101-20201231','20200101-20200930','20200101-20200630','20210101-20211231','20210101-20210930','20210101-20210630','20220101-20221231','20220101-20220930','20220101-20220630'], axis=1)\n",
    "samsungsdi_is = samsungsdi_is.transpose()\n",
    "\n",
    "header = samsungsdi_is.iloc[0]\n",
    "samsungsdi_is = samsungsdi_is[1:]\n",
    "samsungsdi_is.rename(columns=header, inplace=True)\n",
    "\n",
    "samsungsdi_is['날짜'] = samsungsdi_is.index\n",
    "samsungsdi_is['날짜'] = samsungsdi_is['날짜'].astype(int)\n",
    "samsungsdi_is = samsungsdi_is.reset_index(drop=True)\n",
    "samsungsdi_is = samsungsdi_is.rename(columns={'보통주 기본및희석주당손익':'기본주당이익'})\n",
    "\n",
    "samsungsdi_is['회사명'] = '삼성SDI'"
   ],
   "metadata": {
    "collapsed": false,
    "pycharm": {
     "name": "#%%\n"
    }
   }
  },
  {
   "cell_type": "code",
   "execution_count": 90,
   "outputs": [
    {
     "data": {
      "text/plain": "              매출액 기본주당이익        날짜    회사명\n0   5367961148872   9016  20220930  삼성SDI\n1   4740773127096   5852  20220630  삼성SDI\n2   4049426948561   5332  20220331  삼성SDI\n3   3439792617779   5911  20210930  삼성SDI\n4   3334269868460   4109  20210630  삼성SDI\n5   2963210903981   2007  20210331  삼성SDI\n6   3087240977278   3335  20200930  삼성SDI\n7   2558614011125    649  20200630  삼성SDI\n8   2397530029531   -143  20200331  삼성SDI\n9   2567937571530   3116  20190930  삼성SDI\n10  2404505708738   2221  20190630  삼성SDI\n11  2304063855366    750  20200331  삼성SDI\n12  5965908291325   8991  20221231  삼성SDI\n13  3815946858576   5465  20211231  삼성SDI\n14  3251385428101   4753  20201231  삼성SDI\n15  2820919028498   -757  20191231  삼성SDI",
      "text/html": "<div>\n<style scoped>\n    .dataframe tbody tr th:only-of-type {\n        vertical-align: middle;\n    }\n\n    .dataframe tbody tr th {\n        vertical-align: top;\n    }\n\n    .dataframe thead th {\n        text-align: right;\n    }\n</style>\n<table border=\"1\" class=\"dataframe\">\n  <thead>\n    <tr style=\"text-align: right;\">\n      <th></th>\n      <th>매출액</th>\n      <th>기본주당이익</th>\n      <th>날짜</th>\n      <th>회사명</th>\n    </tr>\n  </thead>\n  <tbody>\n    <tr>\n      <th>0</th>\n      <td>5367961148872</td>\n      <td>9016</td>\n      <td>20220930</td>\n      <td>삼성SDI</td>\n    </tr>\n    <tr>\n      <th>1</th>\n      <td>4740773127096</td>\n      <td>5852</td>\n      <td>20220630</td>\n      <td>삼성SDI</td>\n    </tr>\n    <tr>\n      <th>2</th>\n      <td>4049426948561</td>\n      <td>5332</td>\n      <td>20220331</td>\n      <td>삼성SDI</td>\n    </tr>\n    <tr>\n      <th>3</th>\n      <td>3439792617779</td>\n      <td>5911</td>\n      <td>20210930</td>\n      <td>삼성SDI</td>\n    </tr>\n    <tr>\n      <th>4</th>\n      <td>3334269868460</td>\n      <td>4109</td>\n      <td>20210630</td>\n      <td>삼성SDI</td>\n    </tr>\n    <tr>\n      <th>5</th>\n      <td>2963210903981</td>\n      <td>2007</td>\n      <td>20210331</td>\n      <td>삼성SDI</td>\n    </tr>\n    <tr>\n      <th>6</th>\n      <td>3087240977278</td>\n      <td>3335</td>\n      <td>20200930</td>\n      <td>삼성SDI</td>\n    </tr>\n    <tr>\n      <th>7</th>\n      <td>2558614011125</td>\n      <td>649</td>\n      <td>20200630</td>\n      <td>삼성SDI</td>\n    </tr>\n    <tr>\n      <th>8</th>\n      <td>2397530029531</td>\n      <td>-143</td>\n      <td>20200331</td>\n      <td>삼성SDI</td>\n    </tr>\n    <tr>\n      <th>9</th>\n      <td>2567937571530</td>\n      <td>3116</td>\n      <td>20190930</td>\n      <td>삼성SDI</td>\n    </tr>\n    <tr>\n      <th>10</th>\n      <td>2404505708738</td>\n      <td>2221</td>\n      <td>20190630</td>\n      <td>삼성SDI</td>\n    </tr>\n    <tr>\n      <th>11</th>\n      <td>2304063855366</td>\n      <td>750</td>\n      <td>20200331</td>\n      <td>삼성SDI</td>\n    </tr>\n    <tr>\n      <th>12</th>\n      <td>5965908291325</td>\n      <td>8991</td>\n      <td>20221231</td>\n      <td>삼성SDI</td>\n    </tr>\n    <tr>\n      <th>13</th>\n      <td>3815946858576</td>\n      <td>5465</td>\n      <td>20211231</td>\n      <td>삼성SDI</td>\n    </tr>\n    <tr>\n      <th>14</th>\n      <td>3251385428101</td>\n      <td>4753</td>\n      <td>20201231</td>\n      <td>삼성SDI</td>\n    </tr>\n    <tr>\n      <th>15</th>\n      <td>2820919028498</td>\n      <td>-757</td>\n      <td>20191231</td>\n      <td>삼성SDI</td>\n    </tr>\n  </tbody>\n</table>\n</div>"
     },
     "execution_count": 90,
     "metadata": {},
     "output_type": "execute_result"
    }
   ],
   "source": [
    "samsungsdi_is"
   ],
   "metadata": {
    "collapsed": false,
    "pycharm": {
     "name": "#%%\n"
    }
   }
  },
  {
   "cell_type": "code",
   "execution_count": 91,
   "outputs": [],
   "source": [
    "sk_is  = pd.read_excel(\"재무제표 관련/SK하이닉스_is_info.xlsx\")\n",
    "\n",
    "sk_is[\"20221231\"] = sk_is[\"20220101-20221231\"]-sk_is[\"20220101-20220930\"]\n",
    "sk_is[\"20211231\"] = sk_is[\"20210101-20211231\"]-sk_is[\"20210101-20210930\"]\n",
    "sk_is[\"20201231\"] = sk_is[\"20200101-20201231\"]-sk_is[\"20200101-20200930\"]\n",
    "sk_is[\"20191231\"] = sk_is[\"20190101-20191231\"]-sk_is[\"20190101-20190930\"]\n",
    "sk_is = sk_is.rename(columns={'20220701-20220930':20220930,'20220401-20220630':20220630,\"20220101-20220331\":20220331,\n",
    "                                              '20210701-20210930':20210930,'20210401-20210630':20210630,\"20210101-20210331\":20210331,\n",
    "                                              '20200701-20200930':20200930,'20200401-20200630':20200630,\"20200101-20200331\":20200331,\n",
    "                                              '20190701-20190930':20190930,'20190401-20190630':20190630,\"20190101-20190331\":20200331,})\n",
    "sk_is = sk_is.drop(['20180401-20180630','20180101-20181231','20180101-20180930','20180101-20180630','20180701-20180930','20180101-20180331','20170101-20171231','20160101-20161231','20190101-20191231','20190101-20190930','20190101-20190630','20200101-20201231','20200101-20200930','20200101-20200630','20210101-20211231','20210101-20210930','20210101-20210630','20220101-20221231','20220101-20220930','20220101-20220630'], axis=1)\n",
    "sk_is = sk_is.transpose()\n",
    "\n",
    "header = sk_is.iloc[0]\n",
    "sk_is = sk_is[1:]\n",
    "sk_is.rename(columns=header, inplace=True)\n",
    "\n",
    "sk_is['날짜'] = sk_is.index\n",
    "sk_is['날짜'] = sk_is['날짜'].astype(int)\n",
    "sk_is = sk_is.reset_index(drop=True)\n",
    "sk_is = sk_is.rename(columns={'기본주당순이익':'기본주당이익'})\n",
    "\n",
    "sk_is['회사명'] = 'SK하이닉스'"
   ],
   "metadata": {
    "collapsed": false,
    "pycharm": {
     "name": "#%%\n"
    }
   }
  },
  {
   "cell_type": "code",
   "execution_count": 92,
   "outputs": [
    {
     "data": {
      "text/plain": "               매출액 기본주당이익        날짜     회사명\n0   10982883000000   1609  20220930  SK하이닉스\n1   13811001000000   4176  20220630  SK하이닉스\n2   12155653000000   2878  20220331  SK하이닉스\n3   11805324000000   4815  20210930  SK하이닉스\n4   10321671000000   2891  20210630  SK하이닉스\n5    8494188000000   1448  20210331  SK하이닉스\n6    8128767000000   1585  20200930  SK하이닉스\n7    8606534000000   1855  20200630  SK하이닉스\n8    7198892000000    925  20200331  SK하이닉스\n9    6838766000000    721  20190930  SK하이닉스\n10   6452201000000    783  20190630  SK하이닉스\n11   6772655000000   1612  20200331  SK하이닉스\n12   7672031000000  -5421  20221231  SK하이닉스\n13  12376609000000   4826  20211231  SK하이닉스\n14   7966225000000   2587  20201231  SK하이닉스\n15   6927111000000   -183  20191231  SK하이닉스",
      "text/html": "<div>\n<style scoped>\n    .dataframe tbody tr th:only-of-type {\n        vertical-align: middle;\n    }\n\n    .dataframe tbody tr th {\n        vertical-align: top;\n    }\n\n    .dataframe thead th {\n        text-align: right;\n    }\n</style>\n<table border=\"1\" class=\"dataframe\">\n  <thead>\n    <tr style=\"text-align: right;\">\n      <th></th>\n      <th>매출액</th>\n      <th>기본주당이익</th>\n      <th>날짜</th>\n      <th>회사명</th>\n    </tr>\n  </thead>\n  <tbody>\n    <tr>\n      <th>0</th>\n      <td>10982883000000</td>\n      <td>1609</td>\n      <td>20220930</td>\n      <td>SK하이닉스</td>\n    </tr>\n    <tr>\n      <th>1</th>\n      <td>13811001000000</td>\n      <td>4176</td>\n      <td>20220630</td>\n      <td>SK하이닉스</td>\n    </tr>\n    <tr>\n      <th>2</th>\n      <td>12155653000000</td>\n      <td>2878</td>\n      <td>20220331</td>\n      <td>SK하이닉스</td>\n    </tr>\n    <tr>\n      <th>3</th>\n      <td>11805324000000</td>\n      <td>4815</td>\n      <td>20210930</td>\n      <td>SK하이닉스</td>\n    </tr>\n    <tr>\n      <th>4</th>\n      <td>10321671000000</td>\n      <td>2891</td>\n      <td>20210630</td>\n      <td>SK하이닉스</td>\n    </tr>\n    <tr>\n      <th>5</th>\n      <td>8494188000000</td>\n      <td>1448</td>\n      <td>20210331</td>\n      <td>SK하이닉스</td>\n    </tr>\n    <tr>\n      <th>6</th>\n      <td>8128767000000</td>\n      <td>1585</td>\n      <td>20200930</td>\n      <td>SK하이닉스</td>\n    </tr>\n    <tr>\n      <th>7</th>\n      <td>8606534000000</td>\n      <td>1855</td>\n      <td>20200630</td>\n      <td>SK하이닉스</td>\n    </tr>\n    <tr>\n      <th>8</th>\n      <td>7198892000000</td>\n      <td>925</td>\n      <td>20200331</td>\n      <td>SK하이닉스</td>\n    </tr>\n    <tr>\n      <th>9</th>\n      <td>6838766000000</td>\n      <td>721</td>\n      <td>20190930</td>\n      <td>SK하이닉스</td>\n    </tr>\n    <tr>\n      <th>10</th>\n      <td>6452201000000</td>\n      <td>783</td>\n      <td>20190630</td>\n      <td>SK하이닉스</td>\n    </tr>\n    <tr>\n      <th>11</th>\n      <td>6772655000000</td>\n      <td>1612</td>\n      <td>20200331</td>\n      <td>SK하이닉스</td>\n    </tr>\n    <tr>\n      <th>12</th>\n      <td>7672031000000</td>\n      <td>-5421</td>\n      <td>20221231</td>\n      <td>SK하이닉스</td>\n    </tr>\n    <tr>\n      <th>13</th>\n      <td>12376609000000</td>\n      <td>4826</td>\n      <td>20211231</td>\n      <td>SK하이닉스</td>\n    </tr>\n    <tr>\n      <th>14</th>\n      <td>7966225000000</td>\n      <td>2587</td>\n      <td>20201231</td>\n      <td>SK하이닉스</td>\n    </tr>\n    <tr>\n      <th>15</th>\n      <td>6927111000000</td>\n      <td>-183</td>\n      <td>20191231</td>\n      <td>SK하이닉스</td>\n    </tr>\n  </tbody>\n</table>\n</div>"
     },
     "execution_count": 92,
     "metadata": {},
     "output_type": "execute_result"
    }
   ],
   "source": [
    "sk_is"
   ],
   "metadata": {
    "collapsed": false,
    "pycharm": {
     "name": "#%%\n"
    }
   }
  },
  {
   "cell_type": "code",
   "execution_count": 93,
   "outputs": [],
   "source": [
    "lgelc_is  = pd.read_excel(\"재무제표 관련/LG전자_is_info.xlsx\")\n",
    "\n",
    "lgelc_is[\"20221231\"] = lgelc_is[\"20220101-20221231\"]-lgelc_is[\"20220101-20220930\"]\n",
    "lgelc_is[\"20211231\"] = lgelc_is[\"20210101-20211231\"]-lgelc_is[\"20210101-20210930\"]\n",
    "lgelc_is[\"20201231\"] = lgelc_is[\"20200101-20201231\"]-lgelc_is[\"20200101-20200930\"]\n",
    "lgelc_is[\"20191231\"] = lgelc_is[\"20190101-20191231\"]-lgelc_is[\"20190101-20190930\"]\n",
    "lgelc_is = lgelc_is.rename(columns={'20220701-20220930':20220930,'20220401-20220630':20220630,\"20220101-20220331\":20220331,\n",
    "                                              '20210701-20210930':20210930,'20210401-20210630':20210630,\"20210101-20210331\":20210331,\n",
    "                                              '20200701-20200930':20200930,'20200401-20200630':20200630,\"20200101-20200331\":20200331,\n",
    "                                              '20190701-20190930':20190930,'20190401-20190630':20190630,\"20190101-20190331\":20200331,})\n",
    "lgelc_is = lgelc_is.drop(['20180401-20180630','20180101-20181231','20180101-20180930','20180101-20180630','20180701-20180930','20180101-20180331','20170101-20171231','20160101-20161231','20190101-20191231','20190101-20190930','20190101-20190630','20200101-20201231','20200101-20200930','20200101-20200630','20210101-20211231','20210101-20210930','20210101-20210630','20220101-20221231','20220101-20220930','20220101-20220630'], axis=1)\n",
    "lgelc_is = lgelc_is.transpose()\n",
    "\n",
    "header = lgelc_is.iloc[0]\n",
    "lgelc_is = lgelc_is[1:]\n",
    "lgelc_is.rename(columns=header, inplace=True)\n",
    "\n",
    "lgelc_is['날짜'] = lgelc_is.index\n",
    "lgelc_is['날짜'] = lgelc_is['날짜'].astype(int)\n",
    "lgelc_is = lgelc_is.reset_index(drop=True)\n",
    "lgelc_is = lgelc_is.rename(columns={'보통주기본주당이익(손실)':'기본주당이익'})\n",
    "\n",
    "lgelc_is['회사명'] = 'LG전자'"
   ],
   "metadata": {
    "collapsed": false,
    "pycharm": {
     "name": "#%%\n"
    }
   }
  },
  {
   "cell_type": "code",
   "execution_count": 94,
   "outputs": [
    {
     "data": {
      "text/plain": "               매출액 기본주당이익        날짜   회사명\n0   21176765000000    682  20220930  LG전자\n1   19464043000000   1070  20220630  LG전자\n2   21111389000000   6811  20220331  LG전자\n3   18567513000000   2137  20210930  LG전자\n4   16932211000000  -2168  20210630  LG전자\n5   17812402000000   5543  20210331  LG전자\n6   15398581000000   3476  20200930  LG전자\n7   11528786000000    312  20200630  LG전자\n8   14727803000000   5694  20200331  LG전자\n9   15700645000000   1355  20190930  LG전자\n10  15629264000000    508  20190630  LG전자\n11  14915064000000   3169  20200331  LG전자\n12  21857508000000  -1923  20221231  LG전자\n13  20775121000000    213  20211231  LG전자\n14  16517382000000   1444  20201231  LG전자\n15  10190730000000  -4863  20191231  LG전자",
      "text/html": "<div>\n<style scoped>\n    .dataframe tbody tr th:only-of-type {\n        vertical-align: middle;\n    }\n\n    .dataframe tbody tr th {\n        vertical-align: top;\n    }\n\n    .dataframe thead th {\n        text-align: right;\n    }\n</style>\n<table border=\"1\" class=\"dataframe\">\n  <thead>\n    <tr style=\"text-align: right;\">\n      <th></th>\n      <th>매출액</th>\n      <th>기본주당이익</th>\n      <th>날짜</th>\n      <th>회사명</th>\n    </tr>\n  </thead>\n  <tbody>\n    <tr>\n      <th>0</th>\n      <td>21176765000000</td>\n      <td>682</td>\n      <td>20220930</td>\n      <td>LG전자</td>\n    </tr>\n    <tr>\n      <th>1</th>\n      <td>19464043000000</td>\n      <td>1070</td>\n      <td>20220630</td>\n      <td>LG전자</td>\n    </tr>\n    <tr>\n      <th>2</th>\n      <td>21111389000000</td>\n      <td>6811</td>\n      <td>20220331</td>\n      <td>LG전자</td>\n    </tr>\n    <tr>\n      <th>3</th>\n      <td>18567513000000</td>\n      <td>2137</td>\n      <td>20210930</td>\n      <td>LG전자</td>\n    </tr>\n    <tr>\n      <th>4</th>\n      <td>16932211000000</td>\n      <td>-2168</td>\n      <td>20210630</td>\n      <td>LG전자</td>\n    </tr>\n    <tr>\n      <th>5</th>\n      <td>17812402000000</td>\n      <td>5543</td>\n      <td>20210331</td>\n      <td>LG전자</td>\n    </tr>\n    <tr>\n      <th>6</th>\n      <td>15398581000000</td>\n      <td>3476</td>\n      <td>20200930</td>\n      <td>LG전자</td>\n    </tr>\n    <tr>\n      <th>7</th>\n      <td>11528786000000</td>\n      <td>312</td>\n      <td>20200630</td>\n      <td>LG전자</td>\n    </tr>\n    <tr>\n      <th>8</th>\n      <td>14727803000000</td>\n      <td>5694</td>\n      <td>20200331</td>\n      <td>LG전자</td>\n    </tr>\n    <tr>\n      <th>9</th>\n      <td>15700645000000</td>\n      <td>1355</td>\n      <td>20190930</td>\n      <td>LG전자</td>\n    </tr>\n    <tr>\n      <th>10</th>\n      <td>15629264000000</td>\n      <td>508</td>\n      <td>20190630</td>\n      <td>LG전자</td>\n    </tr>\n    <tr>\n      <th>11</th>\n      <td>14915064000000</td>\n      <td>3169</td>\n      <td>20200331</td>\n      <td>LG전자</td>\n    </tr>\n    <tr>\n      <th>12</th>\n      <td>21857508000000</td>\n      <td>-1923</td>\n      <td>20221231</td>\n      <td>LG전자</td>\n    </tr>\n    <tr>\n      <th>13</th>\n      <td>20775121000000</td>\n      <td>213</td>\n      <td>20211231</td>\n      <td>LG전자</td>\n    </tr>\n    <tr>\n      <th>14</th>\n      <td>16517382000000</td>\n      <td>1444</td>\n      <td>20201231</td>\n      <td>LG전자</td>\n    </tr>\n    <tr>\n      <th>15</th>\n      <td>10190730000000</td>\n      <td>-4863</td>\n      <td>20191231</td>\n      <td>LG전자</td>\n    </tr>\n  </tbody>\n</table>\n</div>"
     },
     "execution_count": 94,
     "metadata": {},
     "output_type": "execute_result"
    }
   ],
   "source": [
    "lgelc_is"
   ],
   "metadata": {
    "collapsed": false,
    "pycharm": {
     "name": "#%%\n"
    }
   }
  },
  {
   "cell_type": "code",
   "execution_count": 95,
   "outputs": [],
   "source": [
    "lgdis_is  = pd.read_excel(\"재무제표 관련/LG디스플레이_is_info.xlsx\")\n",
    "\n",
    "lgdis_is[\"20221231\"] = lgdis_is[\"20220101-20221231\"]-lgdis_is[\"20220101-20220930\"]\n",
    "lgdis_is[\"20211231\"] = lgdis_is[\"20210101-20211231\"]-lgdis_is[\"20210101-20210930\"]\n",
    "lgdis_is[\"20201231\"] = lgdis_is[\"20200101-20201231\"]-lgdis_is[\"20200101-20200930\"]\n",
    "lgdis_is[\"20191231\"] = lgdis_is[\"20190101-20191231\"]-lgdis_is[\"20190101-20190930\"]\n",
    "lgdis_is = lgdis_is.rename(columns={'20220701-20220930':20220930,'20220401-20220630':20220630,\"20220101-20220331\":20220331,\n",
    "                                              '20210701-20210930':20210930,'20210401-20210630':20210630,\"20210101-20210331\":20210331,\n",
    "                                              '20200701-20200930':20200930,'20200401-20200630':20200630,\"20200101-20200331\":20200331,\n",
    "                                              '20190701-20190930':20190930,'20190401-20190630':20190630,\"20190101-20190331\":20200331,})\n",
    "lgdis_is = lgdis_is.drop(['20180401-20180630','20180101-20181231','20180101-20180930','20180101-20180630','20180701-20180930','20180101-20180331','20170101-20171231','20160101-20161231','20190101-20191231','20190101-20190930','20190101-20190630','20200101-20201231','20200101-20200930','20200101-20200630','20210101-20211231','20210101-20210930','20210101-20210630','20220101-20221231','20220101-20220930','20220101-20220630'], axis=1)\n",
    "lgdis_is = lgdis_is.transpose()\n",
    "\n",
    "header = lgdis_is.iloc[0]\n",
    "lgdis_is = lgdis_is[1:]\n",
    "lgdis_is.rename(columns=header, inplace=True)\n",
    "\n",
    "lgdis_is['날짜'] = lgdis_is.index\n",
    "lgdis_is['날짜'] = lgdis_is['날짜'].astype(int)\n",
    "lgdis_is = lgdis_is.reset_index(drop=True)\n",
    "lgdis_is = lgdis_is.rename(columns={'매출':'매출액','기본주당이익(손실)':'기본주당이익'})\n",
    "\n",
    "lgdis_is['회사명'] = 'LG디스플레이'"
   ],
   "metadata": {
    "collapsed": false,
    "pycharm": {
     "name": "#%%\n"
    }
   }
  },
  {
   "cell_type": "code",
   "execution_count": 96,
   "outputs": [
    {
     "data": {
      "text/plain": "              매출액 기본주당이익        날짜      회사명\n0   6771355000000  -2206  20220930  LG디스플레이\n1   5607318000000  -1131  20220630  LG디스플레이\n2   6471480000000     56  20220331  LG디스플레이\n3   7223196000000   1173  20210930  LG디스플레이\n4   6965570000000   1015  20210630  LG디스플레이\n5   6882761000000    638  20210331  LG디스플레이\n6   6737646000000     85  20200930  LG디스플레이\n7   5307021000000  -1367  20200630  LG디스플레이\n8   4724249000000   -556  20200331  LG디스플레이\n9   5821681000000  -1172  20190930  LG디스플레이\n10  5353410000000  -1533  20190630  LG디스플레이\n11  5878781000000   -170  20200331  LG디스플레이\n12  7301628000000  -5303  20221231  LG디스플레이\n13  8806516000000    488  20211231  LG디스플레이\n14  7492645000000   1573  20201231  LG디스플레이\n15  6421695000000  -5033  20191231  LG디스플레이",
      "text/html": "<div>\n<style scoped>\n    .dataframe tbody tr th:only-of-type {\n        vertical-align: middle;\n    }\n\n    .dataframe tbody tr th {\n        vertical-align: top;\n    }\n\n    .dataframe thead th {\n        text-align: right;\n    }\n</style>\n<table border=\"1\" class=\"dataframe\">\n  <thead>\n    <tr style=\"text-align: right;\">\n      <th></th>\n      <th>매출액</th>\n      <th>기본주당이익</th>\n      <th>날짜</th>\n      <th>회사명</th>\n    </tr>\n  </thead>\n  <tbody>\n    <tr>\n      <th>0</th>\n      <td>6771355000000</td>\n      <td>-2206</td>\n      <td>20220930</td>\n      <td>LG디스플레이</td>\n    </tr>\n    <tr>\n      <th>1</th>\n      <td>5607318000000</td>\n      <td>-1131</td>\n      <td>20220630</td>\n      <td>LG디스플레이</td>\n    </tr>\n    <tr>\n      <th>2</th>\n      <td>6471480000000</td>\n      <td>56</td>\n      <td>20220331</td>\n      <td>LG디스플레이</td>\n    </tr>\n    <tr>\n      <th>3</th>\n      <td>7223196000000</td>\n      <td>1173</td>\n      <td>20210930</td>\n      <td>LG디스플레이</td>\n    </tr>\n    <tr>\n      <th>4</th>\n      <td>6965570000000</td>\n      <td>1015</td>\n      <td>20210630</td>\n      <td>LG디스플레이</td>\n    </tr>\n    <tr>\n      <th>5</th>\n      <td>6882761000000</td>\n      <td>638</td>\n      <td>20210331</td>\n      <td>LG디스플레이</td>\n    </tr>\n    <tr>\n      <th>6</th>\n      <td>6737646000000</td>\n      <td>85</td>\n      <td>20200930</td>\n      <td>LG디스플레이</td>\n    </tr>\n    <tr>\n      <th>7</th>\n      <td>5307021000000</td>\n      <td>-1367</td>\n      <td>20200630</td>\n      <td>LG디스플레이</td>\n    </tr>\n    <tr>\n      <th>8</th>\n      <td>4724249000000</td>\n      <td>-556</td>\n      <td>20200331</td>\n      <td>LG디스플레이</td>\n    </tr>\n    <tr>\n      <th>9</th>\n      <td>5821681000000</td>\n      <td>-1172</td>\n      <td>20190930</td>\n      <td>LG디스플레이</td>\n    </tr>\n    <tr>\n      <th>10</th>\n      <td>5353410000000</td>\n      <td>-1533</td>\n      <td>20190630</td>\n      <td>LG디스플레이</td>\n    </tr>\n    <tr>\n      <th>11</th>\n      <td>5878781000000</td>\n      <td>-170</td>\n      <td>20200331</td>\n      <td>LG디스플레이</td>\n    </tr>\n    <tr>\n      <th>12</th>\n      <td>7301628000000</td>\n      <td>-5303</td>\n      <td>20221231</td>\n      <td>LG디스플레이</td>\n    </tr>\n    <tr>\n      <th>13</th>\n      <td>8806516000000</td>\n      <td>488</td>\n      <td>20211231</td>\n      <td>LG디스플레이</td>\n    </tr>\n    <tr>\n      <th>14</th>\n      <td>7492645000000</td>\n      <td>1573</td>\n      <td>20201231</td>\n      <td>LG디스플레이</td>\n    </tr>\n    <tr>\n      <th>15</th>\n      <td>6421695000000</td>\n      <td>-5033</td>\n      <td>20191231</td>\n      <td>LG디스플레이</td>\n    </tr>\n  </tbody>\n</table>\n</div>"
     },
     "execution_count": 96,
     "metadata": {},
     "output_type": "execute_result"
    }
   ],
   "source": [
    "lgdis_is"
   ],
   "metadata": {
    "collapsed": false,
    "pycharm": {
     "name": "#%%\n"
    }
   }
  },
  {
   "cell_type": "code",
   "execution_count": 97,
   "outputs": [],
   "source": [
    "# 각 회사별 손익계산서 데이터프레임을 하나의 데이터프레임을 결합\n",
    "\n",
    "combined_is = pd.concat([sk_is, samsungsdi_is, samsungsds_is, samsungelc_is, lgdis_is, lgelc_is])"
   ],
   "metadata": {
    "collapsed": false,
    "pycharm": {
     "name": "#%%\n"
    }
   }
  },
  {
   "cell_type": "code",
   "execution_count": 98,
   "outputs": [
    {
     "data": {
      "text/plain": "               매출액 기본주당이익        날짜     회사명\n0   10982883000000   1609  20220930  SK하이닉스\n1   13811001000000   4176  20220630  SK하이닉스\n2   12155653000000   2878  20220331  SK하이닉스\n3   11805324000000   4815  20210930  SK하이닉스\n4   10321671000000   2891  20210630  SK하이닉스\n..             ...    ...       ...     ...\n11  14915064000000   3169  20200331    LG전자\n12  21857508000000  -1923  20221231    LG전자\n13  20775121000000    213  20211231    LG전자\n14  16517382000000   1444  20201231    LG전자\n15  10190730000000  -4863  20191231    LG전자\n\n[96 rows x 4 columns]",
      "text/html": "<div>\n<style scoped>\n    .dataframe tbody tr th:only-of-type {\n        vertical-align: middle;\n    }\n\n    .dataframe tbody tr th {\n        vertical-align: top;\n    }\n\n    .dataframe thead th {\n        text-align: right;\n    }\n</style>\n<table border=\"1\" class=\"dataframe\">\n  <thead>\n    <tr style=\"text-align: right;\">\n      <th></th>\n      <th>매출액</th>\n      <th>기본주당이익</th>\n      <th>날짜</th>\n      <th>회사명</th>\n    </tr>\n  </thead>\n  <tbody>\n    <tr>\n      <th>0</th>\n      <td>10982883000000</td>\n      <td>1609</td>\n      <td>20220930</td>\n      <td>SK하이닉스</td>\n    </tr>\n    <tr>\n      <th>1</th>\n      <td>13811001000000</td>\n      <td>4176</td>\n      <td>20220630</td>\n      <td>SK하이닉스</td>\n    </tr>\n    <tr>\n      <th>2</th>\n      <td>12155653000000</td>\n      <td>2878</td>\n      <td>20220331</td>\n      <td>SK하이닉스</td>\n    </tr>\n    <tr>\n      <th>3</th>\n      <td>11805324000000</td>\n      <td>4815</td>\n      <td>20210930</td>\n      <td>SK하이닉스</td>\n    </tr>\n    <tr>\n      <th>4</th>\n      <td>10321671000000</td>\n      <td>2891</td>\n      <td>20210630</td>\n      <td>SK하이닉스</td>\n    </tr>\n    <tr>\n      <th>...</th>\n      <td>...</td>\n      <td>...</td>\n      <td>...</td>\n      <td>...</td>\n    </tr>\n    <tr>\n      <th>11</th>\n      <td>14915064000000</td>\n      <td>3169</td>\n      <td>20200331</td>\n      <td>LG전자</td>\n    </tr>\n    <tr>\n      <th>12</th>\n      <td>21857508000000</td>\n      <td>-1923</td>\n      <td>20221231</td>\n      <td>LG전자</td>\n    </tr>\n    <tr>\n      <th>13</th>\n      <td>20775121000000</td>\n      <td>213</td>\n      <td>20211231</td>\n      <td>LG전자</td>\n    </tr>\n    <tr>\n      <th>14</th>\n      <td>16517382000000</td>\n      <td>1444</td>\n      <td>20201231</td>\n      <td>LG전자</td>\n    </tr>\n    <tr>\n      <th>15</th>\n      <td>10190730000000</td>\n      <td>-4863</td>\n      <td>20191231</td>\n      <td>LG전자</td>\n    </tr>\n  </tbody>\n</table>\n<p>96 rows × 4 columns</p>\n</div>"
     },
     "execution_count": 98,
     "metadata": {},
     "output_type": "execute_result"
    }
   ],
   "source": [
    "combined_is"
   ],
   "metadata": {
    "collapsed": false,
    "pycharm": {
     "name": "#%%\n"
    }
   }
  },
  {
   "cell_type": "code",
   "execution_count": 99,
   "outputs": [],
   "source": [
    "# 상승/하락 데이터프레임으로 분리해줌\n",
    "\n",
    "down_df = pd.merge(down_df,combined_is,on=[\"회사명\",'날짜'])\n",
    "up_df = pd.merge(up_df,combined_is,on=[\"회사명\",'날짜'])"
   ],
   "metadata": {
    "collapsed": false,
    "pycharm": {
     "name": "#%%\n"
    }
   }
  },
  {
   "cell_type": "markdown",
   "source": [
    "하강 데이터 먼저 분석"
   ],
   "metadata": {
    "collapsed": false
   }
  },
  {
   "cell_type": "code",
   "execution_count": 100,
   "outputs": [
    {
     "name": "stdout",
     "output_type": "stream",
     "text": [
      "395     23400.0\n",
      "78     150000.0\n",
      "278     48000.0\n",
      "305    166000.0\n",
      "325    119000.0\n",
      "         ...   \n",
      "57     152000.0\n",
      "137    615000.0\n",
      "24      45800.0\n",
      "17      47300.0\n",
      "66     157000.0\n",
      "Name: 종가, Length: 88, dtype: float64\n",
      "[ 139735.41863854  121298.450604    117591.49344213 -110116.61960158\n",
      "   87575.4284196     2654.44528624  146342.60014617  166773.6230778\n",
      "  -32911.49189218  161166.07945335    2654.44528624  142140.16667527\n",
      "  107732.81286011  139735.41863854  448897.31413529  142140.16667527\n",
      "   77222.46232645  146126.67791179  142140.16667527  445844.93611825\n",
      "   33711.4047387   136893.2099822  -238848.69177803  146767.40418234\n",
      "  288594.15790386  339581.3388739   148060.18907083   91897.8842887\n",
      "  110819.33916679  146964.97729983  110819.33916679  105438.49311738\n",
      "  136931.70181182   60856.91932145   73389.43314718  143927.76847067\n",
      "  122326.23488028  257601.53422859  174291.54624576    2654.44528624\n",
      "   50670.0860247   339581.3388739   176782.17424886  121298.450604\n",
      "  448897.31413529  -79258.79394678  448897.31413529  150664.17649601\n",
      "  142140.16667527  159276.30350487   73389.43314718   33711.4047387\n",
      "  175613.75049222  427803.67363643   80222.3720705    33711.4047387\n",
      "  117591.49344213  121962.26318505   70714.49095153  167036.94784881\n",
      "  -37123.24860637  379012.42795745   84758.35516617   22896.97759763\n",
      "   22896.97759763  105438.49311738   82348.75525923  110819.33916679\n",
      "   54188.60137458  257601.53422859  158207.95053096  558058.05530693\n",
      "   73389.43314718  146767.40418234   60856.91932145  381767.20955405\n",
      "  150664.17649601   32954.70703204   70714.49095153  347667.83444877\n",
      "  100060.99295436  287345.38945345   77222.46232645  146964.97729983\n",
      "  414731.91581723   82348.75525923   33711.4047387   145212.24953892]\n",
      "performance for TEST--------\n",
      "test MAE :  76794.82523115288\n",
      "test RMSE :  103954.47461022968\n",
      "test R_square :  0.6281402479417397\n",
      "lr.coef_: [-1.04608936e-08 -2.42372287e-08  3.74805597e-08 -2.23267358e+05\n",
      " -2.34186097e+05  1.20526620e-10  3.47188005e+01]\n",
      "lr.intercept_: 373707.45578382513\n"
     ]
    }
   ],
   "source": [
    "# 선형회귀에 사용할 칼럼만 추출\n",
    "down_x = down_df[[\"자산총계\", \"이익잉여금\", \"자본총계\", \"ROA\", \"ROE\",'매출액','기본주당이익']]\n",
    "down_y = down_df[\"종가\"]\n",
    "\n",
    "# 데이터 split 진행\n",
    "X_train, X_test, y_train, y_test = train_test_split(down_x, down_y, test_size=0.2, random_state=42)\n",
    "lr = LinearRegression()\n",
    "lr.fit(X_train, y_train)\n",
    "y_test_hat = lr.predict(X_test)\n",
    "print(y_test)\n",
    "print(y_test_hat)\n",
    "\n",
    "from sklearn.metrics import mean_absolute_error, mean_squared_error, r2_score\n",
    "\n",
    "print('performance for TEST--------')\n",
    "print('test MAE : ', mean_absolute_error(y_test, y_test_hat))\n",
    "print('test RMSE : ', mean_squared_error(y_test, y_test_hat) ** 0.5)\n",
    "print('test R_square : ', r2_score(y_test, y_test_hat))\n",
    "print(\"lr.coef_:\", lr.coef_)\n",
    "print(\"lr.intercept_:\", lr.intercept_)"
   ],
   "metadata": {
    "collapsed": false,
    "pycharm": {
     "name": "#%%\n"
    }
   }
  },
  {
   "cell_type": "code",
   "execution_count": 101,
   "outputs": [
    {
     "name": "stderr",
     "output_type": "stream",
     "text": [
      "C:\\Users\\msi\\anaconda3\\lib\\site-packages\\sklearn\\linear_model\\_ridge.py:212: LinAlgWarning: Ill-conditioned matrix (rcond=2.09677e-32): result may not be accurate.\n",
      "  return linalg.solve(A, Xy, assume_a=\"pos\", overwrite_a=True).T\n",
      "C:\\Users\\msi\\anaconda3\\lib\\site-packages\\sklearn\\linear_model\\_ridge.py:212: LinAlgWarning: Ill-conditioned matrix (rcond=3.26072e-32): result may not be accurate.\n",
      "  return linalg.solve(A, Xy, assume_a=\"pos\", overwrite_a=True).T\n",
      "C:\\Users\\msi\\anaconda3\\lib\\site-packages\\sklearn\\linear_model\\_ridge.py:212: LinAlgWarning: Ill-conditioned matrix (rcond=1.37693e-31): result may not be accurate.\n",
      "  return linalg.solve(A, Xy, assume_a=\"pos\", overwrite_a=True).T\n",
      "C:\\Users\\msi\\anaconda3\\lib\\site-packages\\sklearn\\linear_model\\_ridge.py:212: LinAlgWarning: Ill-conditioned matrix (rcond=1.20055e-30): result may not be accurate.\n",
      "  return linalg.solve(A, Xy, assume_a=\"pos\", overwrite_a=True).T\n"
     ]
    }
   ],
   "source": [
    "training_r2 = []\n",
    "test_r2 = []\n",
    "\n",
    "alpha_settings = [0, 0.1, 1, 10]\n",
    "for alpha in alpha_settings:\n",
    "    ridge = Ridge(alpha=alpha)\n",
    "    ridge.fit(X_train, y_train)\n",
    "\n",
    "    y_train_hat = ridge.predict(X_train)\n",
    "    training_r2.append(r2_score(y_train, y_train_hat))\n",
    "\n",
    "    y_test_hat = ridge.predict(X_test)\n",
    "    test_r2.append(r2_score(y_test, y_test_hat))"
   ],
   "metadata": {
    "collapsed": false,
    "pycharm": {
     "name": "#%%\n"
    }
   }
  },
  {
   "cell_type": "code",
   "execution_count": 102,
   "outputs": [
    {
     "data": {
      "text/plain": "   alpha  training R2   test R2\n0    0.0     0.712492  0.653261\n1    0.1     0.702603  0.667978\n2    1.0     0.655717  0.646002\n3   10.0     0.618170  0.619688",
      "text/html": "<div>\n<style scoped>\n    .dataframe tbody tr th:only-of-type {\n        vertical-align: middle;\n    }\n\n    .dataframe tbody tr th {\n        vertical-align: top;\n    }\n\n    .dataframe thead th {\n        text-align: right;\n    }\n</style>\n<table border=\"1\" class=\"dataframe\">\n  <thead>\n    <tr style=\"text-align: right;\">\n      <th></th>\n      <th>alpha</th>\n      <th>training R2</th>\n      <th>test R2</th>\n    </tr>\n  </thead>\n  <tbody>\n    <tr>\n      <th>0</th>\n      <td>0.0</td>\n      <td>0.712492</td>\n      <td>0.653261</td>\n    </tr>\n    <tr>\n      <th>1</th>\n      <td>0.1</td>\n      <td>0.702603</td>\n      <td>0.667978</td>\n    </tr>\n    <tr>\n      <th>2</th>\n      <td>1.0</td>\n      <td>0.655717</td>\n      <td>0.646002</td>\n    </tr>\n    <tr>\n      <th>3</th>\n      <td>10.0</td>\n      <td>0.618170</td>\n      <td>0.619688</td>\n    </tr>\n  </tbody>\n</table>\n</div>"
     },
     "execution_count": 102,
     "metadata": {},
     "output_type": "execute_result"
    }
   ],
   "source": [
    "pd.DataFrame({\"alpha\":alpha_settings, \"training R2\": training_r2, \"test R2\": test_r2})"
   ],
   "metadata": {
    "collapsed": false,
    "pycharm": {
     "name": "#%%\n"
    }
   }
  },
  {
   "cell_type": "code",
   "execution_count": 103,
   "outputs": [
    {
     "name": "stderr",
     "output_type": "stream",
     "text": [
      "C:\\Users\\msi\\anaconda3\\lib\\site-packages\\sklearn\\linear_model\\_coordinate_descent.py:648: ConvergenceWarning: Objective did not converge. You might want to increase the number of iterations, check the scale of the features or consider increasing regularisation. Duality gap: 1.801e+12, tolerance: 1.243e+09\n",
      "  model = cd_fast.enet_coordinate_descent(\n",
      "C:\\Users\\msi\\anaconda3\\lib\\site-packages\\sklearn\\linear_model\\_coordinate_descent.py:648: ConvergenceWarning: Objective did not converge. You might want to increase the number of iterations, check the scale of the features or consider increasing regularisation. Duality gap: 1.801e+12, tolerance: 1.243e+09\n",
      "  model = cd_fast.enet_coordinate_descent(\n",
      "C:\\Users\\msi\\anaconda3\\lib\\site-packages\\sklearn\\linear_model\\_coordinate_descent.py:648: ConvergenceWarning: Objective did not converge. You might want to increase the number of iterations, check the scale of the features or consider increasing regularisation. Duality gap: 1.801e+12, tolerance: 1.243e+09\n",
      "  model = cd_fast.enet_coordinate_descent(\n",
      "C:\\Users\\msi\\anaconda3\\lib\\site-packages\\sklearn\\linear_model\\_coordinate_descent.py:648: ConvergenceWarning: Objective did not converge. You might want to increase the number of iterations, check the scale of the features or consider increasing regularisation. Duality gap: 1.801e+12, tolerance: 1.243e+09\n",
      "  model = cd_fast.enet_coordinate_descent(\n",
      "C:\\Users\\msi\\anaconda3\\lib\\site-packages\\sklearn\\linear_model\\_coordinate_descent.py:648: ConvergenceWarning: Objective did not converge. You might want to increase the number of iterations, check the scale of the features or consider increasing regularisation. Duality gap: 1.802e+12, tolerance: 1.243e+09\n",
      "  model = cd_fast.enet_coordinate_descent(\n"
     ]
    }
   ],
   "source": [
    "training_r2 = []\n",
    "test_r2 = []\n",
    "num_vars_used = []\n",
    "\n",
    "alpha_settings = [0.0001, 0.001, 0.01, 0.1, 1]\n",
    "for alpha in alpha_settings:\n",
    "    lasso = Lasso(alpha=alpha)\n",
    "    lasso.fit(X_train, y_train)\n",
    "\n",
    "    num_vars_used.append(sum(lasso.coef_ != 0))\n",
    "\n",
    "    y_train_hat = lasso.predict(X_train)\n",
    "    training_r2.append(r2_score(y_train, y_train_hat))\n",
    "\n",
    "    y_test_hat = lasso.predict(X_test)\n",
    "    test_r2.append(r2_score(y_test, y_test_hat))"
   ],
   "metadata": {
    "collapsed": false,
    "pycharm": {
     "name": "#%%\n"
    }
   }
  },
  {
   "cell_type": "code",
   "execution_count": 104,
   "outputs": [
    {
     "data": {
      "text/plain": "    alpha  training R2   test R2  variables used\n0  0.0001     0.710313  0.659178               7\n1  0.0010     0.710313  0.659178               7\n2  0.0100     0.710313  0.659179               7\n3  0.1000     0.710311  0.659183               7\n4  1.0000     0.710299  0.659232               7",
      "text/html": "<div>\n<style scoped>\n    .dataframe tbody tr th:only-of-type {\n        vertical-align: middle;\n    }\n\n    .dataframe tbody tr th {\n        vertical-align: top;\n    }\n\n    .dataframe thead th {\n        text-align: right;\n    }\n</style>\n<table border=\"1\" class=\"dataframe\">\n  <thead>\n    <tr style=\"text-align: right;\">\n      <th></th>\n      <th>alpha</th>\n      <th>training R2</th>\n      <th>test R2</th>\n      <th>variables used</th>\n    </tr>\n  </thead>\n  <tbody>\n    <tr>\n      <th>0</th>\n      <td>0.0001</td>\n      <td>0.710313</td>\n      <td>0.659178</td>\n      <td>7</td>\n    </tr>\n    <tr>\n      <th>1</th>\n      <td>0.0010</td>\n      <td>0.710313</td>\n      <td>0.659178</td>\n      <td>7</td>\n    </tr>\n    <tr>\n      <th>2</th>\n      <td>0.0100</td>\n      <td>0.710313</td>\n      <td>0.659179</td>\n      <td>7</td>\n    </tr>\n    <tr>\n      <th>3</th>\n      <td>0.1000</td>\n      <td>0.710311</td>\n      <td>0.659183</td>\n      <td>7</td>\n    </tr>\n    <tr>\n      <th>4</th>\n      <td>1.0000</td>\n      <td>0.710299</td>\n      <td>0.659232</td>\n      <td>7</td>\n    </tr>\n  </tbody>\n</table>\n</div>"
     },
     "execution_count": 104,
     "metadata": {},
     "output_type": "execute_result"
    }
   ],
   "source": [
    "pd.DataFrame({\"alpha\":alpha_settings, \"training R2\": training_r2, \"test R2\": test_r2, \"variables used\": num_vars_used})"
   ],
   "metadata": {
    "collapsed": false,
    "pycharm": {
     "name": "#%%\n"
    }
   }
  },
  {
   "cell_type": "markdown",
   "source": [
    "상승 데이터 분석 진행"
   ],
   "metadata": {
    "collapsed": false
   }
  },
  {
   "cell_type": "code",
   "execution_count": 105,
   "outputs": [
    {
     "name": "stdout",
     "output_type": "stream",
     "text": [
      "78     147000.0\n",
      "439     14850.0\n",
      "152    793000.0\n",
      "281     68200.0\n",
      "394     15150.0\n",
      "         ...   \n",
      "185     69800.0\n",
      "57     177000.0\n",
      "422     25800.0\n",
      "24      88800.0\n",
      "17      56400.0\n",
      "Name: 종가, Length: 89, dtype: float64\n",
      "[ 252036.43533383    4121.77415892  463386.33595329   66723.1169749\n",
      "  201289.38975105  201289.38975105  236745.81856244  291842.6634049\n",
      "  184746.9881211   201289.38975105  106352.30730043  177273.9467237\n",
      "  380709.99771298  291842.6634049   227599.06290229  143118.17211186\n",
      "  197048.22062735   92154.6684015   199790.18947865  336404.80719624\n",
      "   22716.88508866  154014.20863187  -59218.06153716   66723.1169749\n",
      "    4121.77415892  429806.33370729  122585.5471663   143118.17211186\n",
      "  423325.1875435    66723.1169749    84964.76810479  197048.22062735\n",
      "  291842.6634049   199492.55819083  198799.71734383  172442.50002813\n",
      "  294119.04212766  161022.5855549   437570.29146477  154014.20863187\n",
      "  197048.22062735  294119.04212766  423325.1875435   168889.61967256\n",
      "  433788.8875192   177273.9467237   139047.3299261     4121.77415892\n",
      "  199492.55819083  252036.43533383  122585.5471663    42063.57702615\n",
      "  172442.50002813   63642.93642803  437570.29146477  534613.02142166\n",
      "   71160.17199044  -87706.10186502  199492.55819083  134176.27924962\n",
      "  198799.71734383  -30274.10343865  134176.27924962   89036.51534746\n",
      "  134176.27924962  308535.83973905   91395.26064139  136984.94058825\n",
      " -196891.3468582   135537.72706219  106352.30730043  429806.33370729\n",
      "  243535.73930571  135077.04576969  248486.05257694   43986.00346594\n",
      "  534613.02142166  380709.99771298  134176.27924962  -87706.10186502\n",
      "  200928.56940516   91395.26064139   92154.6684015     4121.77415892\n",
      "  135077.04576969  198799.71734383  160991.66083554 -196891.3468582\n",
      "    4759.85254014]\n",
      "performance for TEST--------\n",
      "test MAE :  88148.63312183715\n",
      "test RMSE :  120663.26659505814\n",
      "test R_square :  0.6458307652502869\n",
      "lr.coef_: [-9.67716474e-09 -9.34429148e-09  2.15145933e-08 -2.42940865e+05\n",
      " -2.63139631e+05  1.43007561e-09  3.30267496e+01]\n",
      "lr.intercept_: 481802.07212342997\n"
     ]
    }
   ],
   "source": [
    "# 선형회귀에 사용할 칼럼만 추출\n",
    "up_x = up_df[[\"자산총계\", \"이익잉여금\", \"자본총계\", \"ROA\", \"ROE\",'매출액','기본주당이익']]\n",
    "up_y = up_df[\"종가\"]\n",
    "\n",
    "# 데이터 split 진행\n",
    "X_train, X_test, y_train, y_test = train_test_split(up_x, up_y, test_size=0.2, random_state=42)\n",
    "lr = LinearRegression()\n",
    "lr.fit(X_train, y_train)\n",
    "y_test_hat = lr.predict(X_test)\n",
    "print(y_test)\n",
    "print(y_test_hat)\n",
    "\n",
    "from sklearn.metrics import mean_absolute_error, mean_squared_error, r2_score\n",
    "\n",
    "print('performance for TEST--------')\n",
    "print('test MAE : ', mean_absolute_error(y_test, y_test_hat))\n",
    "print('test RMSE : ', mean_squared_error(y_test, y_test_hat) ** 0.5)\n",
    "print('test R_square : ', r2_score(y_test, y_test_hat))\n",
    "print(\"lr.coef_:\", lr.coef_)\n",
    "print(\"lr.intercept_:\", lr.intercept_)"
   ],
   "metadata": {
    "collapsed": false,
    "pycharm": {
     "name": "#%%\n"
    }
   }
  },
  {
   "cell_type": "code",
   "execution_count": 106,
   "outputs": [
    {
     "name": "stderr",
     "output_type": "stream",
     "text": [
      "C:\\Users\\msi\\anaconda3\\lib\\site-packages\\sklearn\\linear_model\\_ridge.py:212: LinAlgWarning: Ill-conditioned matrix (rcond=2.16417e-32): result may not be accurate.\n",
      "  return linalg.solve(A, Xy, assume_a=\"pos\", overwrite_a=True).T\n",
      "C:\\Users\\msi\\anaconda3\\lib\\site-packages\\sklearn\\linear_model\\_ridge.py:212: LinAlgWarning: Ill-conditioned matrix (rcond=3.20707e-32): result may not be accurate.\n",
      "  return linalg.solve(A, Xy, assume_a=\"pos\", overwrite_a=True).T\n",
      "C:\\Users\\msi\\anaconda3\\lib\\site-packages\\sklearn\\linear_model\\_ridge.py:212: LinAlgWarning: Ill-conditioned matrix (rcond=1.26355e-31): result may not be accurate.\n",
      "  return linalg.solve(A, Xy, assume_a=\"pos\", overwrite_a=True).T\n",
      "C:\\Users\\msi\\anaconda3\\lib\\site-packages\\sklearn\\linear_model\\_ridge.py:212: LinAlgWarning: Ill-conditioned matrix (rcond=1.08626e-30): result may not be accurate.\n",
      "  return linalg.solve(A, Xy, assume_a=\"pos\", overwrite_a=True).T\n"
     ]
    }
   ],
   "source": [
    "training_r2 = []\n",
    "test_r2 = []\n",
    "\n",
    "alpha_settings = [0, 0.1, 1, 10]\n",
    "for alpha in alpha_settings:\n",
    "    ridge = Ridge(alpha=alpha)\n",
    "    ridge.fit(X_train, y_train)\n",
    "\n",
    "    y_train_hat = ridge.predict(X_train)\n",
    "    training_r2.append(r2_score(y_train, y_train_hat))\n",
    "\n",
    "    y_test_hat = ridge.predict(X_test)\n",
    "    test_r2.append(r2_score(y_test, y_test_hat))"
   ],
   "metadata": {
    "collapsed": false,
    "pycharm": {
     "name": "#%%\n"
    }
   }
  },
  {
   "cell_type": "code",
   "execution_count": 107,
   "outputs": [
    {
     "data": {
      "text/plain": "   alpha  training R2   test R2\n0    0.0     0.641540  0.736936\n1    0.1     0.635265  0.721351\n2    1.0     0.599733  0.662210\n3   10.0     0.560796  0.590126",
      "text/html": "<div>\n<style scoped>\n    .dataframe tbody tr th:only-of-type {\n        vertical-align: middle;\n    }\n\n    .dataframe tbody tr th {\n        vertical-align: top;\n    }\n\n    .dataframe thead th {\n        text-align: right;\n    }\n</style>\n<table border=\"1\" class=\"dataframe\">\n  <thead>\n    <tr style=\"text-align: right;\">\n      <th></th>\n      <th>alpha</th>\n      <th>training R2</th>\n      <th>test R2</th>\n    </tr>\n  </thead>\n  <tbody>\n    <tr>\n      <th>0</th>\n      <td>0.0</td>\n      <td>0.641540</td>\n      <td>0.736936</td>\n    </tr>\n    <tr>\n      <th>1</th>\n      <td>0.1</td>\n      <td>0.635265</td>\n      <td>0.721351</td>\n    </tr>\n    <tr>\n      <th>2</th>\n      <td>1.0</td>\n      <td>0.599733</td>\n      <td>0.662210</td>\n    </tr>\n    <tr>\n      <th>3</th>\n      <td>10.0</td>\n      <td>0.560796</td>\n      <td>0.590126</td>\n    </tr>\n  </tbody>\n</table>\n</div>"
     },
     "execution_count": 107,
     "metadata": {},
     "output_type": "execute_result"
    }
   ],
   "source": [
    "pd.DataFrame({\"alpha\":alpha_settings, \"training R2\": training_r2, \"test R2\": test_r2})"
   ],
   "metadata": {
    "collapsed": false,
    "pycharm": {
     "name": "#%%\n"
    }
   }
  },
  {
   "cell_type": "code",
   "execution_count": 130,
   "outputs": [
    {
     "name": "stderr",
     "output_type": "stream",
     "text": [
      "C:\\Users\\msi\\anaconda3\\lib\\site-packages\\sklearn\\linear_model\\_coordinate_descent.py:648: ConvergenceWarning: Objective did not converge. You might want to increase the number of iterations, check the scale of the features or consider increasing regularisation. Duality gap: 2.315e+12, tolerance: 1.290e+09\n",
      "  model = cd_fast.enet_coordinate_descent(\n",
      "C:\\Users\\msi\\anaconda3\\lib\\site-packages\\sklearn\\linear_model\\_coordinate_descent.py:648: ConvergenceWarning: Objective did not converge. You might want to increase the number of iterations, check the scale of the features or consider increasing regularisation. Duality gap: 2.315e+12, tolerance: 1.290e+09\n",
      "  model = cd_fast.enet_coordinate_descent(\n",
      "C:\\Users\\msi\\anaconda3\\lib\\site-packages\\sklearn\\linear_model\\_coordinate_descent.py:648: ConvergenceWarning: Objective did not converge. You might want to increase the number of iterations, check the scale of the features or consider increasing regularisation. Duality gap: 2.315e+12, tolerance: 1.290e+09\n",
      "  model = cd_fast.enet_coordinate_descent(\n",
      "C:\\Users\\msi\\anaconda3\\lib\\site-packages\\sklearn\\linear_model\\_coordinate_descent.py:648: ConvergenceWarning: Objective did not converge. You might want to increase the number of iterations, check the scale of the features or consider increasing regularisation. Duality gap: 2.315e+12, tolerance: 1.290e+09\n",
      "  model = cd_fast.enet_coordinate_descent(\n",
      "C:\\Users\\msi\\anaconda3\\lib\\site-packages\\sklearn\\linear_model\\_coordinate_descent.py:648: ConvergenceWarning: Objective did not converge. You might want to increase the number of iterations, check the scale of the features or consider increasing regularisation. Duality gap: 2.316e+12, tolerance: 1.290e+09\n",
      "  model = cd_fast.enet_coordinate_descent(\n"
     ]
    }
   ],
   "source": [
    "from sklearn.linear_model import Lasso\n",
    "\n",
    "training_r2 = []\n",
    "test_r2 = []\n",
    "num_vars_used = []\n",
    "\n",
    "alpha_settings = [0.0001, 0.001, 0.01, 0.1, 1]\n",
    "for alpha in alpha_settings:\n",
    "    lasso = Lasso(alpha=alpha)\n",
    "    lasso.fit(X_train, y_train)\n",
    "\n",
    "    num_vars_used.append(sum(lasso.coef_ != 0))\n",
    "\n",
    "    y_train_hat = lasso.predict(X_train)\n",
    "    training_r2.append(r2_score(y_train, y_train_hat))\n",
    "\n",
    "    y_test_hat = lasso.predict(X_test)\n",
    "    test_r2.append(r2_score(y_test, y_test_hat))"
   ],
   "metadata": {
    "collapsed": false,
    "pycharm": {
     "name": "#%%\n"
    }
   }
  },
  {
   "cell_type": "code",
   "execution_count": 131,
   "outputs": [
    {
     "data": {
      "text/plain": "    alpha  training R2   test R2  variables used\n0  0.0001     0.641204  0.736350               7\n1  0.0010     0.641203  0.736350               7\n2  0.0100     0.641203  0.736350               7\n3  0.1000     0.641203  0.736348               7\n4  1.0000     0.641197  0.736326               7",
      "text/html": "<div>\n<style scoped>\n    .dataframe tbody tr th:only-of-type {\n        vertical-align: middle;\n    }\n\n    .dataframe tbody tr th {\n        vertical-align: top;\n    }\n\n    .dataframe thead th {\n        text-align: right;\n    }\n</style>\n<table border=\"1\" class=\"dataframe\">\n  <thead>\n    <tr style=\"text-align: right;\">\n      <th></th>\n      <th>alpha</th>\n      <th>training R2</th>\n      <th>test R2</th>\n      <th>variables used</th>\n    </tr>\n  </thead>\n  <tbody>\n    <tr>\n      <th>0</th>\n      <td>0.0001</td>\n      <td>0.641204</td>\n      <td>0.736350</td>\n      <td>7</td>\n    </tr>\n    <tr>\n      <th>1</th>\n      <td>0.0010</td>\n      <td>0.641203</td>\n      <td>0.736350</td>\n      <td>7</td>\n    </tr>\n    <tr>\n      <th>2</th>\n      <td>0.0100</td>\n      <td>0.641203</td>\n      <td>0.736350</td>\n      <td>7</td>\n    </tr>\n    <tr>\n      <th>3</th>\n      <td>0.1000</td>\n      <td>0.641203</td>\n      <td>0.736348</td>\n      <td>7</td>\n    </tr>\n    <tr>\n      <th>4</th>\n      <td>1.0000</td>\n      <td>0.641197</td>\n      <td>0.736326</td>\n      <td>7</td>\n    </tr>\n  </tbody>\n</table>\n</div>"
     },
     "execution_count": 131,
     "metadata": {},
     "output_type": "execute_result"
    }
   ],
   "source": [
    "pd.DataFrame({\"alpha\":alpha_settings, \"training R2\": training_r2, \"test R2\": test_r2, \"variables used\": num_vars_used})"
   ],
   "metadata": {
    "collapsed": false,
    "pycharm": {
     "name": "#%%\n"
    }
   }
  },
  {
   "cell_type": "markdown",
   "source": [
    "이전보다는 R^{2}가 매우 크게 상승하였음, 다만  \"자산총계\",\"이익잉여금\", \"자본총계\", \"ROA\", \"ROE\", '매출액', '기본주당이익'은 분기마다 알 수 있기 때문에 기존에 목적이였던 하루 전날 주가 예측은 어렵다는 것을 파악함."
   ],
   "metadata": {
    "collapsed": false,
    "pycharm": {
     "name": "#%% md\n"
    }
   }
  }
 ],
 "metadata": {
  "kernelspec": {
   "display_name": "Python 3",
   "language": "python",
   "name": "python3"
  },
  "language_info": {
   "codemirror_mode": {
    "name": "ipython",
    "version": 2
   },
   "file_extension": ".py",
   "mimetype": "text/x-python",
   "name": "python",
   "nbconvert_exporter": "python",
   "pygments_lexer": "ipython2",
   "version": "2.7.6"
  }
 },
 "nbformat": 4,
 "nbformat_minor": 0
}