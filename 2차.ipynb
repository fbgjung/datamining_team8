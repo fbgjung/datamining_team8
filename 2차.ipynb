{
 "cells": [
  {
   "cell_type": "code",
   "execution_count": 2,
   "metadata": {
    "collapsed": true,
    "pycharm": {
     "name": "#%%\n"
    }
   },
   "outputs": [],
   "source": [
    "import pandas as pd\n",
    "from afinn import Afinn\n",
    "from nltk.corpus import stopwords\n",
    "import numpy as np\n",
    "from sklearn.feature_extraction.text import TfidfVectorizer\n",
    "from sklearn.model_selection import train_test_split"
   ]
  },
  {
   "cell_type": "code",
   "execution_count": 3,
   "outputs": [],
   "source": [
    "title = pd.read_csv(\"C:/Users/msi/PycharmProjects/stock_title.csv\", engine='python', encoding = \"utf-8\")"
   ],
   "metadata": {
    "collapsed": false,
    "pycharm": {
     "name": "#%%\n"
    }
   }
  },
  {
   "cell_type": "code",
   "execution_count": 4,
   "outputs": [
    {
     "data": {
      "text/plain": "          회사명        날짜   등락률  \\\n0        삼성전자  20190103 -3.06   \n1        삼성전자  20190103 -3.06   \n2        삼성전자  20190103 -3.06   \n3        삼성전자  20190103 -3.06   \n4        삼성전자  20190103 -3.06   \n...       ...       ...   ...   \n7900  LG디스플레이  20221216 -3.73   \n7901  LG디스플레이  20221216 -3.73   \n7902  LG디스플레이  20221216 -3.73   \n7903  LG디스플레이  20221216 -3.73   \n7904  LG디스플레이  20221216 -3.73   \n\n                                                뉴스 타이틀  \n0                                 삼성전자, 기술전문가 名匠제도 신설   \n1                     삼성전자, 기술 전문가 육성 위한 '삼성명장' 제도 신설   \n2                                        2019년삼성전자시무식   \n3                          삼성전자\"초일류, 초격차 100년 기업 만들자\"   \n4                  삼성전자김기남 부회장 “초일류·초격차 100년 기업 도약하자”   \n...                                                ...  \n7900                    삼성, 애증의 ‘QD-OLED TV’ 내년 국내 출시   \n7901                          [재송]14일 장 마감 후 주요 종목 뉴스   \n7902  [내 종목을 부탁해] 복잡한 계좌 해결 방법은? <두산에너빌리티>, <대원제약>...   \n7903         삼성전자 여유자금 10.7조→3.9조, SK하이닉스 3.5조→―8500억   \n7904           삼성 500억, SK·LG120억씩…재계, 연말 성금 800억원 돌파   \n\n[7905 rows x 4 columns]",
      "text/html": "<div>\n<style scoped>\n    .dataframe tbody tr th:only-of-type {\n        vertical-align: middle;\n    }\n\n    .dataframe tbody tr th {\n        vertical-align: top;\n    }\n\n    .dataframe thead th {\n        text-align: right;\n    }\n</style>\n<table border=\"1\" class=\"dataframe\">\n  <thead>\n    <tr style=\"text-align: right;\">\n      <th></th>\n      <th>회사명</th>\n      <th>날짜</th>\n      <th>등락률</th>\n      <th>뉴스 타이틀</th>\n    </tr>\n  </thead>\n  <tbody>\n    <tr>\n      <th>0</th>\n      <td>삼성전자</td>\n      <td>20190103</td>\n      <td>-3.06</td>\n      <td>삼성전자, 기술전문가 名匠제도 신설</td>\n    </tr>\n    <tr>\n      <th>1</th>\n      <td>삼성전자</td>\n      <td>20190103</td>\n      <td>-3.06</td>\n      <td>삼성전자, 기술 전문가 육성 위한 '삼성명장' 제도 신설</td>\n    </tr>\n    <tr>\n      <th>2</th>\n      <td>삼성전자</td>\n      <td>20190103</td>\n      <td>-3.06</td>\n      <td>2019년삼성전자시무식</td>\n    </tr>\n    <tr>\n      <th>3</th>\n      <td>삼성전자</td>\n      <td>20190103</td>\n      <td>-3.06</td>\n      <td>삼성전자\"초일류, 초격차 100년 기업 만들자\"</td>\n    </tr>\n    <tr>\n      <th>4</th>\n      <td>삼성전자</td>\n      <td>20190103</td>\n      <td>-3.06</td>\n      <td>삼성전자김기남 부회장 “초일류·초격차 100년 기업 도약하자”</td>\n    </tr>\n    <tr>\n      <th>...</th>\n      <td>...</td>\n      <td>...</td>\n      <td>...</td>\n      <td>...</td>\n    </tr>\n    <tr>\n      <th>7900</th>\n      <td>LG디스플레이</td>\n      <td>20221216</td>\n      <td>-3.73</td>\n      <td>삼성, 애증의 ‘QD-OLED TV’ 내년 국내 출시</td>\n    </tr>\n    <tr>\n      <th>7901</th>\n      <td>LG디스플레이</td>\n      <td>20221216</td>\n      <td>-3.73</td>\n      <td>[재송]14일 장 마감 후 주요 종목 뉴스</td>\n    </tr>\n    <tr>\n      <th>7902</th>\n      <td>LG디스플레이</td>\n      <td>20221216</td>\n      <td>-3.73</td>\n      <td>[내 종목을 부탁해] 복잡한 계좌 해결 방법은? &lt;두산에너빌리티&gt;, &lt;대원제약&gt;...</td>\n    </tr>\n    <tr>\n      <th>7903</th>\n      <td>LG디스플레이</td>\n      <td>20221216</td>\n      <td>-3.73</td>\n      <td>삼성전자 여유자금 10.7조→3.9조, SK하이닉스 3.5조→―8500억</td>\n    </tr>\n    <tr>\n      <th>7904</th>\n      <td>LG디스플레이</td>\n      <td>20221216</td>\n      <td>-3.73</td>\n      <td>삼성 500억, SK·LG120억씩…재계, 연말 성금 800억원 돌파</td>\n    </tr>\n  </tbody>\n</table>\n<p>7905 rows × 4 columns</p>\n</div>"
     },
     "execution_count": 4,
     "metadata": {},
     "output_type": "execute_result"
    }
   ],
   "source": [
    "title"
   ],
   "metadata": {
    "collapsed": false,
    "pycharm": {
     "name": "#%%\n"
    }
   }
  },
  {
   "cell_type": "code",
   "execution_count": 5,
   "outputs": [],
   "source": [
    "title['날짜'] = title['날짜'].astype(str)"
   ],
   "metadata": {
    "collapsed": false,
    "pycharm": {
     "name": "#%%\n"
    }
   }
  },
  {
   "cell_type": "code",
   "execution_count": 6,
   "outputs": [],
   "source": [
    "def classify_size(size):\n",
    "    if size >= 0:\n",
    "        return 1\n",
    "    else:\n",
    "        return 0"
   ],
   "metadata": {
    "collapsed": false,
    "pycharm": {
     "name": "#%%\n"
    }
   }
  },
  {
   "cell_type": "code",
   "execution_count": 7,
   "outputs": [],
   "source": [
    "title['Either'] = title['등락률'].apply(classify_size)"
   ],
   "metadata": {
    "collapsed": false,
    "pycharm": {
     "name": "#%%\n"
    }
   }
  },
  {
   "cell_type": "code",
   "execution_count": 8,
   "outputs": [
    {
     "data": {
      "text/plain": "          회사명        날짜   등락률  \\\n0        삼성전자  20190103 -3.06   \n1        삼성전자  20190103 -3.06   \n2        삼성전자  20190103 -3.06   \n3        삼성전자  20190103 -3.06   \n4        삼성전자  20190103 -3.06   \n...       ...       ...   ...   \n7900  LG디스플레이  20221216 -3.73   \n7901  LG디스플레이  20221216 -3.73   \n7902  LG디스플레이  20221216 -3.73   \n7903  LG디스플레이  20221216 -3.73   \n7904  LG디스플레이  20221216 -3.73   \n\n                                                뉴스 타이틀  Either  \n0                                 삼성전자, 기술전문가 名匠제도 신설        0  \n1                     삼성전자, 기술 전문가 육성 위한 '삼성명장' 제도 신설        0  \n2                                        2019년삼성전자시무식        0  \n3                          삼성전자\"초일류, 초격차 100년 기업 만들자\"        0  \n4                  삼성전자김기남 부회장 “초일류·초격차 100년 기업 도약하자”        0  \n...                                                ...     ...  \n7900                    삼성, 애증의 ‘QD-OLED TV’ 내년 국내 출시        0  \n7901                          [재송]14일 장 마감 후 주요 종목 뉴스        0  \n7902  [내 종목을 부탁해] 복잡한 계좌 해결 방법은? <두산에너빌리티>, <대원제약>...        0  \n7903         삼성전자 여유자금 10.7조→3.9조, SK하이닉스 3.5조→―8500억        0  \n7904           삼성 500억, SK·LG120억씩…재계, 연말 성금 800억원 돌파        0  \n\n[7905 rows x 5 columns]",
      "text/html": "<div>\n<style scoped>\n    .dataframe tbody tr th:only-of-type {\n        vertical-align: middle;\n    }\n\n    .dataframe tbody tr th {\n        vertical-align: top;\n    }\n\n    .dataframe thead th {\n        text-align: right;\n    }\n</style>\n<table border=\"1\" class=\"dataframe\">\n  <thead>\n    <tr style=\"text-align: right;\">\n      <th></th>\n      <th>회사명</th>\n      <th>날짜</th>\n      <th>등락률</th>\n      <th>뉴스 타이틀</th>\n      <th>Either</th>\n    </tr>\n  </thead>\n  <tbody>\n    <tr>\n      <th>0</th>\n      <td>삼성전자</td>\n      <td>20190103</td>\n      <td>-3.06</td>\n      <td>삼성전자, 기술전문가 名匠제도 신설</td>\n      <td>0</td>\n    </tr>\n    <tr>\n      <th>1</th>\n      <td>삼성전자</td>\n      <td>20190103</td>\n      <td>-3.06</td>\n      <td>삼성전자, 기술 전문가 육성 위한 '삼성명장' 제도 신설</td>\n      <td>0</td>\n    </tr>\n    <tr>\n      <th>2</th>\n      <td>삼성전자</td>\n      <td>20190103</td>\n      <td>-3.06</td>\n      <td>2019년삼성전자시무식</td>\n      <td>0</td>\n    </tr>\n    <tr>\n      <th>3</th>\n      <td>삼성전자</td>\n      <td>20190103</td>\n      <td>-3.06</td>\n      <td>삼성전자\"초일류, 초격차 100년 기업 만들자\"</td>\n      <td>0</td>\n    </tr>\n    <tr>\n      <th>4</th>\n      <td>삼성전자</td>\n      <td>20190103</td>\n      <td>-3.06</td>\n      <td>삼성전자김기남 부회장 “초일류·초격차 100년 기업 도약하자”</td>\n      <td>0</td>\n    </tr>\n    <tr>\n      <th>...</th>\n      <td>...</td>\n      <td>...</td>\n      <td>...</td>\n      <td>...</td>\n      <td>...</td>\n    </tr>\n    <tr>\n      <th>7900</th>\n      <td>LG디스플레이</td>\n      <td>20221216</td>\n      <td>-3.73</td>\n      <td>삼성, 애증의 ‘QD-OLED TV’ 내년 국내 출시</td>\n      <td>0</td>\n    </tr>\n    <tr>\n      <th>7901</th>\n      <td>LG디스플레이</td>\n      <td>20221216</td>\n      <td>-3.73</td>\n      <td>[재송]14일 장 마감 후 주요 종목 뉴스</td>\n      <td>0</td>\n    </tr>\n    <tr>\n      <th>7902</th>\n      <td>LG디스플레이</td>\n      <td>20221216</td>\n      <td>-3.73</td>\n      <td>[내 종목을 부탁해] 복잡한 계좌 해결 방법은? &lt;두산에너빌리티&gt;, &lt;대원제약&gt;...</td>\n      <td>0</td>\n    </tr>\n    <tr>\n      <th>7903</th>\n      <td>LG디스플레이</td>\n      <td>20221216</td>\n      <td>-3.73</td>\n      <td>삼성전자 여유자금 10.7조→3.9조, SK하이닉스 3.5조→―8500억</td>\n      <td>0</td>\n    </tr>\n    <tr>\n      <th>7904</th>\n      <td>LG디스플레이</td>\n      <td>20221216</td>\n      <td>-3.73</td>\n      <td>삼성 500억, SK·LG120억씩…재계, 연말 성금 800억원 돌파</td>\n      <td>0</td>\n    </tr>\n  </tbody>\n</table>\n<p>7905 rows × 5 columns</p>\n</div>"
     },
     "execution_count": 8,
     "metadata": {},
     "output_type": "execute_result"
    }
   ],
   "source": [
    "title"
   ],
   "metadata": {
    "collapsed": false,
    "pycharm": {
     "name": "#%%\n"
    }
   }
  },
  {
   "cell_type": "code",
   "execution_count": 9,
   "outputs": [
    {
     "data": {
      "text/plain": "          회사명        날짜                                            뉴스 타이틀  \\\n0        삼성전자  20190103                              삼성전자, 기술전문가 名匠제도 신설    \n1        삼성전자  20190103                  삼성전자, 기술 전문가 육성 위한 '삼성명장' 제도 신설    \n2        삼성전자  20190103                                     2019년삼성전자시무식    \n3        삼성전자  20190103                       삼성전자\"초일류, 초격차 100년 기업 만들자\"    \n4        삼성전자  20190103               삼성전자김기남 부회장 “초일류·초격차 100년 기업 도약하자”    \n...       ...       ...                                               ...   \n7900  LG디스플레이  20221216                    삼성, 애증의 ‘QD-OLED TV’ 내년 국내 출시    \n7901  LG디스플레이  20221216                          [재송]14일 장 마감 후 주요 종목 뉴스    \n7902  LG디스플레이  20221216  [내 종목을 부탁해] 복잡한 계좌 해결 방법은? <두산에너빌리티>, <대원제약>...    \n7903  LG디스플레이  20221216         삼성전자 여유자금 10.7조→3.9조, SK하이닉스 3.5조→―8500억    \n7904  LG디스플레이  20221216           삼성 500억, SK·LG120억씩…재계, 연말 성금 800억원 돌파    \n\n      Either  \n0          0  \n1          0  \n2          0  \n3          0  \n4          0  \n...      ...  \n7900       0  \n7901       0  \n7902       0  \n7903       0  \n7904       0  \n\n[7905 rows x 4 columns]",
      "text/html": "<div>\n<style scoped>\n    .dataframe tbody tr th:only-of-type {\n        vertical-align: middle;\n    }\n\n    .dataframe tbody tr th {\n        vertical-align: top;\n    }\n\n    .dataframe thead th {\n        text-align: right;\n    }\n</style>\n<table border=\"1\" class=\"dataframe\">\n  <thead>\n    <tr style=\"text-align: right;\">\n      <th></th>\n      <th>회사명</th>\n      <th>날짜</th>\n      <th>뉴스 타이틀</th>\n      <th>Either</th>\n    </tr>\n  </thead>\n  <tbody>\n    <tr>\n      <th>0</th>\n      <td>삼성전자</td>\n      <td>20190103</td>\n      <td>삼성전자, 기술전문가 名匠제도 신설</td>\n      <td>0</td>\n    </tr>\n    <tr>\n      <th>1</th>\n      <td>삼성전자</td>\n      <td>20190103</td>\n      <td>삼성전자, 기술 전문가 육성 위한 '삼성명장' 제도 신설</td>\n      <td>0</td>\n    </tr>\n    <tr>\n      <th>2</th>\n      <td>삼성전자</td>\n      <td>20190103</td>\n      <td>2019년삼성전자시무식</td>\n      <td>0</td>\n    </tr>\n    <tr>\n      <th>3</th>\n      <td>삼성전자</td>\n      <td>20190103</td>\n      <td>삼성전자\"초일류, 초격차 100년 기업 만들자\"</td>\n      <td>0</td>\n    </tr>\n    <tr>\n      <th>4</th>\n      <td>삼성전자</td>\n      <td>20190103</td>\n      <td>삼성전자김기남 부회장 “초일류·초격차 100년 기업 도약하자”</td>\n      <td>0</td>\n    </tr>\n    <tr>\n      <th>...</th>\n      <td>...</td>\n      <td>...</td>\n      <td>...</td>\n      <td>...</td>\n    </tr>\n    <tr>\n      <th>7900</th>\n      <td>LG디스플레이</td>\n      <td>20221216</td>\n      <td>삼성, 애증의 ‘QD-OLED TV’ 내년 국내 출시</td>\n      <td>0</td>\n    </tr>\n    <tr>\n      <th>7901</th>\n      <td>LG디스플레이</td>\n      <td>20221216</td>\n      <td>[재송]14일 장 마감 후 주요 종목 뉴스</td>\n      <td>0</td>\n    </tr>\n    <tr>\n      <th>7902</th>\n      <td>LG디스플레이</td>\n      <td>20221216</td>\n      <td>[내 종목을 부탁해] 복잡한 계좌 해결 방법은? &lt;두산에너빌리티&gt;, &lt;대원제약&gt;...</td>\n      <td>0</td>\n    </tr>\n    <tr>\n      <th>7903</th>\n      <td>LG디스플레이</td>\n      <td>20221216</td>\n      <td>삼성전자 여유자금 10.7조→3.9조, SK하이닉스 3.5조→―8500억</td>\n      <td>0</td>\n    </tr>\n    <tr>\n      <th>7904</th>\n      <td>LG디스플레이</td>\n      <td>20221216</td>\n      <td>삼성 500억, SK·LG120억씩…재계, 연말 성금 800억원 돌파</td>\n      <td>0</td>\n    </tr>\n  </tbody>\n</table>\n<p>7905 rows × 4 columns</p>\n</div>"
     },
     "execution_count": 9,
     "metadata": {},
     "output_type": "execute_result"
    }
   ],
   "source": [
    "title.drop('등락률', axis=1)"
   ],
   "metadata": {
    "collapsed": false,
    "pycharm": {
     "name": "#%%\n"
    }
   }
  },
  {
   "cell_type": "code",
   "execution_count": 10,
   "outputs": [],
   "source": [
    "fin  = pd.read_excel(\"final_fin.xlsx\")"
   ],
   "metadata": {
    "collapsed": false,
    "pycharm": {
     "name": "#%%\n"
    }
   }
  },
  {
   "cell_type": "code",
   "execution_count": 11,
   "outputs": [
    {
     "data": {
      "text/plain": "         회사명          날짜   등락률  5일전_종가  4일전_종가  3일전_종가  2일전_종가  1일전_종가  \\\n0       삼성전자  2019.01.03 -3.06    0.02   -0.02    0.00   -0.01   -0.01   \n1       삼성전자  2019.01.07  3.35    0.00   -0.01   -0.01    0.00    0.02   \n2       삼성전자  2019.01.09  3.79   -0.01    0.00    0.02    0.01    0.03   \n3       삼성전자  2019.01.25  3.80    0.00    0.01   -0.03    0.01    0.00   \n4       삼성전자  2019.02.08 -3.12    0.02   -0.04   -0.04    0.01    0.01   \n..       ...         ...   ...     ...     ...     ...     ...     ...   \n829  LG디스플레이  2022.11.11  7.14    0.04    0.00    0.08   -0.01    0.00   \n830  LG디스플레이  2022.11.14 -5.12    0.00    0.08   -0.01    0.00    0.08   \n831  LG디스플레이  2022.11.18  3.03    0.08   -0.05    0.01   -0.01   -0.02   \n832  LG디스플레이  2022.12.14  4.21   -0.02   -0.01    0.01    0.00   -0.03   \n833  LG디스플레이  2022.12.16 -3.73    0.01    0.00   -0.03    0.04   -0.02   \n\n     5일전_거래량  4일전_거래량  3일전_거래량  2일전_거래량  1일전_거래량      거래량     종가  \n0      -0.05     0.32    -0.33    -0.23     0.40  1177579  17800  \n1      -0.33    -0.23     0.40     0.06     0.05  1307934  18400  \n2       0.40     0.06     0.05     0.06     0.96  1830546  19000  \n3      -0.20     1.37    -0.21    -0.52    -0.01  2055931  20300  \n4       0.25     1.53    -0.15    -0.56    -0.05   965641  18850  \n..       ...      ...      ...      ...      ...      ...    ...  \n829     0.51    -0.26     2.19    -0.68     0.31  3409680  15400  \n830    -0.26     2.19    -0.68     0.31     0.67  2298394  14650  \n831     0.67    -0.33    -0.55     0.21    -0.32  2393482  14850  \n832    -0.28     2.13    -0.58    -0.44     0.13  1055419  14250  \n833    -0.58    -0.44     0.13     0.53    -0.23  2018071  13400  \n\n[834 rows x 15 columns]",
      "text/html": "<div>\n<style scoped>\n    .dataframe tbody tr th:only-of-type {\n        vertical-align: middle;\n    }\n\n    .dataframe tbody tr th {\n        vertical-align: top;\n    }\n\n    .dataframe thead th {\n        text-align: right;\n    }\n</style>\n<table border=\"1\" class=\"dataframe\">\n  <thead>\n    <tr style=\"text-align: right;\">\n      <th></th>\n      <th>회사명</th>\n      <th>날짜</th>\n      <th>등락률</th>\n      <th>5일전_종가</th>\n      <th>4일전_종가</th>\n      <th>3일전_종가</th>\n      <th>2일전_종가</th>\n      <th>1일전_종가</th>\n      <th>5일전_거래량</th>\n      <th>4일전_거래량</th>\n      <th>3일전_거래량</th>\n      <th>2일전_거래량</th>\n      <th>1일전_거래량</th>\n      <th>거래량</th>\n      <th>종가</th>\n    </tr>\n  </thead>\n  <tbody>\n    <tr>\n      <th>0</th>\n      <td>삼성전자</td>\n      <td>2019.01.03</td>\n      <td>-3.06</td>\n      <td>0.02</td>\n      <td>-0.02</td>\n      <td>0.00</td>\n      <td>-0.01</td>\n      <td>-0.01</td>\n      <td>-0.05</td>\n      <td>0.32</td>\n      <td>-0.33</td>\n      <td>-0.23</td>\n      <td>0.40</td>\n      <td>1177579</td>\n      <td>17800</td>\n    </tr>\n    <tr>\n      <th>1</th>\n      <td>삼성전자</td>\n      <td>2019.01.07</td>\n      <td>3.35</td>\n      <td>0.00</td>\n      <td>-0.01</td>\n      <td>-0.01</td>\n      <td>0.00</td>\n      <td>0.02</td>\n      <td>-0.33</td>\n      <td>-0.23</td>\n      <td>0.40</td>\n      <td>0.06</td>\n      <td>0.05</td>\n      <td>1307934</td>\n      <td>18400</td>\n    </tr>\n    <tr>\n      <th>2</th>\n      <td>삼성전자</td>\n      <td>2019.01.09</td>\n      <td>3.79</td>\n      <td>-0.01</td>\n      <td>0.00</td>\n      <td>0.02</td>\n      <td>0.01</td>\n      <td>0.03</td>\n      <td>0.40</td>\n      <td>0.06</td>\n      <td>0.05</td>\n      <td>0.06</td>\n      <td>0.96</td>\n      <td>1830546</td>\n      <td>19000</td>\n    </tr>\n    <tr>\n      <th>3</th>\n      <td>삼성전자</td>\n      <td>2019.01.25</td>\n      <td>3.80</td>\n      <td>0.00</td>\n      <td>0.01</td>\n      <td>-0.03</td>\n      <td>0.01</td>\n      <td>0.00</td>\n      <td>-0.20</td>\n      <td>1.37</td>\n      <td>-0.21</td>\n      <td>-0.52</td>\n      <td>-0.01</td>\n      <td>2055931</td>\n      <td>20300</td>\n    </tr>\n    <tr>\n      <th>4</th>\n      <td>삼성전자</td>\n      <td>2019.02.08</td>\n      <td>-3.12</td>\n      <td>0.02</td>\n      <td>-0.04</td>\n      <td>-0.04</td>\n      <td>0.01</td>\n      <td>0.01</td>\n      <td>0.25</td>\n      <td>1.53</td>\n      <td>-0.15</td>\n      <td>-0.56</td>\n      <td>-0.05</td>\n      <td>965641</td>\n      <td>18850</td>\n    </tr>\n    <tr>\n      <th>...</th>\n      <td>...</td>\n      <td>...</td>\n      <td>...</td>\n      <td>...</td>\n      <td>...</td>\n      <td>...</td>\n      <td>...</td>\n      <td>...</td>\n      <td>...</td>\n      <td>...</td>\n      <td>...</td>\n      <td>...</td>\n      <td>...</td>\n      <td>...</td>\n      <td>...</td>\n    </tr>\n    <tr>\n      <th>829</th>\n      <td>LG디스플레이</td>\n      <td>2022.11.11</td>\n      <td>7.14</td>\n      <td>0.04</td>\n      <td>0.00</td>\n      <td>0.08</td>\n      <td>-0.01</td>\n      <td>0.00</td>\n      <td>0.51</td>\n      <td>-0.26</td>\n      <td>2.19</td>\n      <td>-0.68</td>\n      <td>0.31</td>\n      <td>3409680</td>\n      <td>15400</td>\n    </tr>\n    <tr>\n      <th>830</th>\n      <td>LG디스플레이</td>\n      <td>2022.11.14</td>\n      <td>-5.12</td>\n      <td>0.00</td>\n      <td>0.08</td>\n      <td>-0.01</td>\n      <td>0.00</td>\n      <td>0.08</td>\n      <td>-0.26</td>\n      <td>2.19</td>\n      <td>-0.68</td>\n      <td>0.31</td>\n      <td>0.67</td>\n      <td>2298394</td>\n      <td>14650</td>\n    </tr>\n    <tr>\n      <th>831</th>\n      <td>LG디스플레이</td>\n      <td>2022.11.18</td>\n      <td>3.03</td>\n      <td>0.08</td>\n      <td>-0.05</td>\n      <td>0.01</td>\n      <td>-0.01</td>\n      <td>-0.02</td>\n      <td>0.67</td>\n      <td>-0.33</td>\n      <td>-0.55</td>\n      <td>0.21</td>\n      <td>-0.32</td>\n      <td>2393482</td>\n      <td>14850</td>\n    </tr>\n    <tr>\n      <th>832</th>\n      <td>LG디스플레이</td>\n      <td>2022.12.14</td>\n      <td>4.21</td>\n      <td>-0.02</td>\n      <td>-0.01</td>\n      <td>0.01</td>\n      <td>0.00</td>\n      <td>-0.03</td>\n      <td>-0.28</td>\n      <td>2.13</td>\n      <td>-0.58</td>\n      <td>-0.44</td>\n      <td>0.13</td>\n      <td>1055419</td>\n      <td>14250</td>\n    </tr>\n    <tr>\n      <th>833</th>\n      <td>LG디스플레이</td>\n      <td>2022.12.16</td>\n      <td>-3.73</td>\n      <td>0.01</td>\n      <td>0.00</td>\n      <td>-0.03</td>\n      <td>0.04</td>\n      <td>-0.02</td>\n      <td>-0.58</td>\n      <td>-0.44</td>\n      <td>0.13</td>\n      <td>0.53</td>\n      <td>-0.23</td>\n      <td>2018071</td>\n      <td>13400</td>\n    </tr>\n  </tbody>\n</table>\n<p>834 rows × 15 columns</p>\n</div>"
     },
     "execution_count": 11,
     "metadata": {},
     "output_type": "execute_result"
    }
   ],
   "source": [
    "fin"
   ],
   "metadata": {
    "collapsed": false,
    "pycharm": {
     "name": "#%%\n"
    }
   }
  },
  {
   "cell_type": "code",
   "execution_count": 12,
   "outputs": [
    {
     "name": "stderr",
     "output_type": "stream",
     "text": [
      "C:\\Users\\msi\\AppData\\Local\\Temp/ipykernel_27764/1467632090.py:2: SettingWithCopyWarning: \n",
      "A value is trying to be set on a copy of a slice from a DataFrame\n",
      "\n",
      "See the caveats in the documentation: https://pandas.pydata.org/pandas-docs/stable/user_guide/indexing.html#returning-a-view-versus-a-copy\n",
      "  fin.날짜[i] = fin.날짜[i].replace('.', '')\n"
     ]
    }
   ],
   "source": [
    "for i in range(len(fin['날짜'])):\n",
    "    fin.날짜[i] = fin.날짜[i].replace('.', '')"
   ],
   "metadata": {
    "collapsed": false,
    "pycharm": {
     "name": "#%%\n"
    }
   }
  },
  {
   "cell_type": "code",
   "execution_count": 13,
   "outputs": [],
   "source": [
    "fin['Either'] = fin['등락률'].apply(classify_size)"
   ],
   "metadata": {
    "collapsed": false,
    "pycharm": {
     "name": "#%%\n"
    }
   }
  },
  {
   "cell_type": "code",
   "execution_count": 14,
   "outputs": [
    {
     "data": {
      "text/plain": "         회사명        날짜   등락률  5일전_종가  4일전_종가  3일전_종가  2일전_종가  1일전_종가  5일전_거래량  \\\n0       삼성전자  20190103 -3.06    0.02   -0.02    0.00   -0.01   -0.01    -0.05   \n1       삼성전자  20190107  3.35    0.00   -0.01   -0.01    0.00    0.02    -0.33   \n2       삼성전자  20190109  3.79   -0.01    0.00    0.02    0.01    0.03     0.40   \n3       삼성전자  20190125  3.80    0.00    0.01   -0.03    0.01    0.00    -0.20   \n4       삼성전자  20190208 -3.12    0.02   -0.04   -0.04    0.01    0.01     0.25   \n..       ...       ...   ...     ...     ...     ...     ...     ...      ...   \n829  LG디스플레이  20221111  7.14    0.04    0.00    0.08   -0.01    0.00     0.51   \n830  LG디스플레이  20221114 -5.12    0.00    0.08   -0.01    0.00    0.08    -0.26   \n831  LG디스플레이  20221118  3.03    0.08   -0.05    0.01   -0.01   -0.02     0.67   \n832  LG디스플레이  20221214  4.21   -0.02   -0.01    0.01    0.00   -0.03    -0.28   \n833  LG디스플레이  20221216 -3.73    0.01    0.00   -0.03    0.04   -0.02    -0.58   \n\n     4일전_거래량  3일전_거래량  2일전_거래량  1일전_거래량      거래량     종가  Either  \n0       0.32    -0.33    -0.23     0.40  1177579  17800       0  \n1      -0.23     0.40     0.06     0.05  1307934  18400       1  \n2       0.06     0.05     0.06     0.96  1830546  19000       1  \n3       1.37    -0.21    -0.52    -0.01  2055931  20300       1  \n4       1.53    -0.15    -0.56    -0.05   965641  18850       0  \n..       ...      ...      ...      ...      ...    ...     ...  \n829    -0.26     2.19    -0.68     0.31  3409680  15400       1  \n830     2.19    -0.68     0.31     0.67  2298394  14650       0  \n831    -0.33    -0.55     0.21    -0.32  2393482  14850       1  \n832     2.13    -0.58    -0.44     0.13  1055419  14250       1  \n833    -0.44     0.13     0.53    -0.23  2018071  13400       0  \n\n[834 rows x 16 columns]",
      "text/html": "<div>\n<style scoped>\n    .dataframe tbody tr th:only-of-type {\n        vertical-align: middle;\n    }\n\n    .dataframe tbody tr th {\n        vertical-align: top;\n    }\n\n    .dataframe thead th {\n        text-align: right;\n    }\n</style>\n<table border=\"1\" class=\"dataframe\">\n  <thead>\n    <tr style=\"text-align: right;\">\n      <th></th>\n      <th>회사명</th>\n      <th>날짜</th>\n      <th>등락률</th>\n      <th>5일전_종가</th>\n      <th>4일전_종가</th>\n      <th>3일전_종가</th>\n      <th>2일전_종가</th>\n      <th>1일전_종가</th>\n      <th>5일전_거래량</th>\n      <th>4일전_거래량</th>\n      <th>3일전_거래량</th>\n      <th>2일전_거래량</th>\n      <th>1일전_거래량</th>\n      <th>거래량</th>\n      <th>종가</th>\n      <th>Either</th>\n    </tr>\n  </thead>\n  <tbody>\n    <tr>\n      <th>0</th>\n      <td>삼성전자</td>\n      <td>20190103</td>\n      <td>-3.06</td>\n      <td>0.02</td>\n      <td>-0.02</td>\n      <td>0.00</td>\n      <td>-0.01</td>\n      <td>-0.01</td>\n      <td>-0.05</td>\n      <td>0.32</td>\n      <td>-0.33</td>\n      <td>-0.23</td>\n      <td>0.40</td>\n      <td>1177579</td>\n      <td>17800</td>\n      <td>0</td>\n    </tr>\n    <tr>\n      <th>1</th>\n      <td>삼성전자</td>\n      <td>20190107</td>\n      <td>3.35</td>\n      <td>0.00</td>\n      <td>-0.01</td>\n      <td>-0.01</td>\n      <td>0.00</td>\n      <td>0.02</td>\n      <td>-0.33</td>\n      <td>-0.23</td>\n      <td>0.40</td>\n      <td>0.06</td>\n      <td>0.05</td>\n      <td>1307934</td>\n      <td>18400</td>\n      <td>1</td>\n    </tr>\n    <tr>\n      <th>2</th>\n      <td>삼성전자</td>\n      <td>20190109</td>\n      <td>3.79</td>\n      <td>-0.01</td>\n      <td>0.00</td>\n      <td>0.02</td>\n      <td>0.01</td>\n      <td>0.03</td>\n      <td>0.40</td>\n      <td>0.06</td>\n      <td>0.05</td>\n      <td>0.06</td>\n      <td>0.96</td>\n      <td>1830546</td>\n      <td>19000</td>\n      <td>1</td>\n    </tr>\n    <tr>\n      <th>3</th>\n      <td>삼성전자</td>\n      <td>20190125</td>\n      <td>3.80</td>\n      <td>0.00</td>\n      <td>0.01</td>\n      <td>-0.03</td>\n      <td>0.01</td>\n      <td>0.00</td>\n      <td>-0.20</td>\n      <td>1.37</td>\n      <td>-0.21</td>\n      <td>-0.52</td>\n      <td>-0.01</td>\n      <td>2055931</td>\n      <td>20300</td>\n      <td>1</td>\n    </tr>\n    <tr>\n      <th>4</th>\n      <td>삼성전자</td>\n      <td>20190208</td>\n      <td>-3.12</td>\n      <td>0.02</td>\n      <td>-0.04</td>\n      <td>-0.04</td>\n      <td>0.01</td>\n      <td>0.01</td>\n      <td>0.25</td>\n      <td>1.53</td>\n      <td>-0.15</td>\n      <td>-0.56</td>\n      <td>-0.05</td>\n      <td>965641</td>\n      <td>18850</td>\n      <td>0</td>\n    </tr>\n    <tr>\n      <th>...</th>\n      <td>...</td>\n      <td>...</td>\n      <td>...</td>\n      <td>...</td>\n      <td>...</td>\n      <td>...</td>\n      <td>...</td>\n      <td>...</td>\n      <td>...</td>\n      <td>...</td>\n      <td>...</td>\n      <td>...</td>\n      <td>...</td>\n      <td>...</td>\n      <td>...</td>\n      <td>...</td>\n    </tr>\n    <tr>\n      <th>829</th>\n      <td>LG디스플레이</td>\n      <td>20221111</td>\n      <td>7.14</td>\n      <td>0.04</td>\n      <td>0.00</td>\n      <td>0.08</td>\n      <td>-0.01</td>\n      <td>0.00</td>\n      <td>0.51</td>\n      <td>-0.26</td>\n      <td>2.19</td>\n      <td>-0.68</td>\n      <td>0.31</td>\n      <td>3409680</td>\n      <td>15400</td>\n      <td>1</td>\n    </tr>\n    <tr>\n      <th>830</th>\n      <td>LG디스플레이</td>\n      <td>20221114</td>\n      <td>-5.12</td>\n      <td>0.00</td>\n      <td>0.08</td>\n      <td>-0.01</td>\n      <td>0.00</td>\n      <td>0.08</td>\n      <td>-0.26</td>\n      <td>2.19</td>\n      <td>-0.68</td>\n      <td>0.31</td>\n      <td>0.67</td>\n      <td>2298394</td>\n      <td>14650</td>\n      <td>0</td>\n    </tr>\n    <tr>\n      <th>831</th>\n      <td>LG디스플레이</td>\n      <td>20221118</td>\n      <td>3.03</td>\n      <td>0.08</td>\n      <td>-0.05</td>\n      <td>0.01</td>\n      <td>-0.01</td>\n      <td>-0.02</td>\n      <td>0.67</td>\n      <td>-0.33</td>\n      <td>-0.55</td>\n      <td>0.21</td>\n      <td>-0.32</td>\n      <td>2393482</td>\n      <td>14850</td>\n      <td>1</td>\n    </tr>\n    <tr>\n      <th>832</th>\n      <td>LG디스플레이</td>\n      <td>20221214</td>\n      <td>4.21</td>\n      <td>-0.02</td>\n      <td>-0.01</td>\n      <td>0.01</td>\n      <td>0.00</td>\n      <td>-0.03</td>\n      <td>-0.28</td>\n      <td>2.13</td>\n      <td>-0.58</td>\n      <td>-0.44</td>\n      <td>0.13</td>\n      <td>1055419</td>\n      <td>14250</td>\n      <td>1</td>\n    </tr>\n    <tr>\n      <th>833</th>\n      <td>LG디스플레이</td>\n      <td>20221216</td>\n      <td>-3.73</td>\n      <td>0.01</td>\n      <td>0.00</td>\n      <td>-0.03</td>\n      <td>0.04</td>\n      <td>-0.02</td>\n      <td>-0.58</td>\n      <td>-0.44</td>\n      <td>0.13</td>\n      <td>0.53</td>\n      <td>-0.23</td>\n      <td>2018071</td>\n      <td>13400</td>\n      <td>0</td>\n    </tr>\n  </tbody>\n</table>\n<p>834 rows × 16 columns</p>\n</div>"
     },
     "execution_count": 14,
     "metadata": {},
     "output_type": "execute_result"
    }
   ],
   "source": [
    "fin"
   ],
   "metadata": {
    "collapsed": false,
    "pycharm": {
     "name": "#%%\n"
    }
   }
  },
  {
   "cell_type": "code",
   "execution_count": 111,
   "outputs": [
    {
     "data": {
      "text/plain": "            날짜      회사  real  RFC  GBC  SVM  total  prediction\n0     20210105  SK하이닉스     1    1    1    1      3           1\n1     20210105  SK하이닉스     1    1    1    1      3           1\n2     20210105  SK하이닉스     1    1    1    1      3           1\n3     20210105  SK하이닉스     1    1    1    1      3           1\n4     20210105  SK하이닉스     1    1    1    1      3           1\n...        ...     ...   ...  ...  ...  ...    ...         ...\n2380  20210318   삼성SDI     1    0    0    1      1           0\n2381  20210318   삼성SDI     1    0    0    1      1           0\n2382  20210318   삼성SDI     1    0    0    1      1           0\n2383  20210318   삼성SDI     1    0    0    1      1           0\n2384  20210318   삼성SDI     1    0    0    1      1           0\n\n[2385 rows x 8 columns]",
      "text/html": "<div>\n<style scoped>\n    .dataframe tbody tr th:only-of-type {\n        vertical-align: middle;\n    }\n\n    .dataframe tbody tr th {\n        vertical-align: top;\n    }\n\n    .dataframe thead th {\n        text-align: right;\n    }\n</style>\n<table border=\"1\" class=\"dataframe\">\n  <thead>\n    <tr style=\"text-align: right;\">\n      <th></th>\n      <th>날짜</th>\n      <th>회사</th>\n      <th>real</th>\n      <th>RFC</th>\n      <th>GBC</th>\n      <th>SVM</th>\n      <th>total</th>\n      <th>prediction</th>\n    </tr>\n  </thead>\n  <tbody>\n    <tr>\n      <th>0</th>\n      <td>20210105</td>\n      <td>SK하이닉스</td>\n      <td>1</td>\n      <td>1</td>\n      <td>1</td>\n      <td>1</td>\n      <td>3</td>\n      <td>1</td>\n    </tr>\n    <tr>\n      <th>1</th>\n      <td>20210105</td>\n      <td>SK하이닉스</td>\n      <td>1</td>\n      <td>1</td>\n      <td>1</td>\n      <td>1</td>\n      <td>3</td>\n      <td>1</td>\n    </tr>\n    <tr>\n      <th>2</th>\n      <td>20210105</td>\n      <td>SK하이닉스</td>\n      <td>1</td>\n      <td>1</td>\n      <td>1</td>\n      <td>1</td>\n      <td>3</td>\n      <td>1</td>\n    </tr>\n    <tr>\n      <th>3</th>\n      <td>20210105</td>\n      <td>SK하이닉스</td>\n      <td>1</td>\n      <td>1</td>\n      <td>1</td>\n      <td>1</td>\n      <td>3</td>\n      <td>1</td>\n    </tr>\n    <tr>\n      <th>4</th>\n      <td>20210105</td>\n      <td>SK하이닉스</td>\n      <td>1</td>\n      <td>1</td>\n      <td>1</td>\n      <td>1</td>\n      <td>3</td>\n      <td>1</td>\n    </tr>\n    <tr>\n      <th>...</th>\n      <td>...</td>\n      <td>...</td>\n      <td>...</td>\n      <td>...</td>\n      <td>...</td>\n      <td>...</td>\n      <td>...</td>\n      <td>...</td>\n    </tr>\n    <tr>\n      <th>2380</th>\n      <td>20210318</td>\n      <td>삼성SDI</td>\n      <td>1</td>\n      <td>0</td>\n      <td>0</td>\n      <td>1</td>\n      <td>1</td>\n      <td>0</td>\n    </tr>\n    <tr>\n      <th>2381</th>\n      <td>20210318</td>\n      <td>삼성SDI</td>\n      <td>1</td>\n      <td>0</td>\n      <td>0</td>\n      <td>1</td>\n      <td>1</td>\n      <td>0</td>\n    </tr>\n    <tr>\n      <th>2382</th>\n      <td>20210318</td>\n      <td>삼성SDI</td>\n      <td>1</td>\n      <td>0</td>\n      <td>0</td>\n      <td>1</td>\n      <td>1</td>\n      <td>0</td>\n    </tr>\n    <tr>\n      <th>2383</th>\n      <td>20210318</td>\n      <td>삼성SDI</td>\n      <td>1</td>\n      <td>0</td>\n      <td>0</td>\n      <td>1</td>\n      <td>1</td>\n      <td>0</td>\n    </tr>\n    <tr>\n      <th>2384</th>\n      <td>20210318</td>\n      <td>삼성SDI</td>\n      <td>1</td>\n      <td>0</td>\n      <td>0</td>\n      <td>1</td>\n      <td>1</td>\n      <td>0</td>\n    </tr>\n  </tbody>\n</table>\n<p>2385 rows × 8 columns</p>\n</div>"
     },
     "execution_count": 111,
     "metadata": {},
     "output_type": "execute_result"
    }
   ],
   "source": [
    "second_merge"
   ],
   "metadata": {
    "collapsed": false,
    "pycharm": {
     "name": "#%%\n"
    }
   }
  },
  {
   "cell_type": "code",
   "execution_count": 15,
   "outputs": [],
   "source": [
    "sum = pd.merge(fin, title, on=[\"회사명\",\"날짜\",\"등락률\",\"Either\"])"
   ],
   "metadata": {
    "collapsed": false,
    "pycharm": {
     "name": "#%%\n"
    }
   }
  },
  {
   "cell_type": "code",
   "execution_count": 16,
   "outputs": [],
   "source": [
    "sum.rename(columns = {'뉴스 타이틀':'title'},inplace=True)"
   ],
   "metadata": {
    "collapsed": false,
    "pycharm": {
     "name": "#%%\n"
    }
   }
  },
  {
   "cell_type": "code",
   "execution_count": 17,
   "outputs": [
    {
     "data": {
      "text/plain": "          회사명        날짜   등락률  5일전_종가  4일전_종가  3일전_종가  2일전_종가  1일전_종가  \\\n0        삼성전자  20190103 -3.06    0.02   -0.02    0.00   -0.01   -0.01   \n1        삼성전자  20190103 -3.06    0.02   -0.02    0.00   -0.01   -0.01   \n2        삼성전자  20190103 -3.06    0.02   -0.02    0.00   -0.01   -0.01   \n3        삼성전자  20190103 -3.06    0.02   -0.02    0.00   -0.01   -0.01   \n4        삼성전자  20190103 -3.06    0.02   -0.02    0.00   -0.01   -0.01   \n...       ...       ...   ...     ...     ...     ...     ...     ...   \n7900  LG디스플레이  20221216 -3.73    0.01    0.00   -0.03    0.04   -0.02   \n7901  LG디스플레이  20221216 -3.73    0.01    0.00   -0.03    0.04   -0.02   \n7902  LG디스플레이  20221216 -3.73    0.01    0.00   -0.03    0.04   -0.02   \n7903  LG디스플레이  20221216 -3.73    0.01    0.00   -0.03    0.04   -0.02   \n7904  LG디스플레이  20221216 -3.73    0.01    0.00   -0.03    0.04   -0.02   \n\n      5일전_거래량  4일전_거래량  3일전_거래량  2일전_거래량  1일전_거래량      거래량     종가  Either  \\\n0       -0.05     0.32    -0.33    -0.23     0.40  1177579  17800       0   \n1       -0.05     0.32    -0.33    -0.23     0.40  1177579  17800       0   \n2       -0.05     0.32    -0.33    -0.23     0.40  1177579  17800       0   \n3       -0.05     0.32    -0.33    -0.23     0.40  1177579  17800       0   \n4       -0.05     0.32    -0.33    -0.23     0.40  1177579  17800       0   \n...       ...      ...      ...      ...      ...      ...    ...     ...   \n7900    -0.58    -0.44     0.13     0.53    -0.23  2018071  13400       0   \n7901    -0.58    -0.44     0.13     0.53    -0.23  2018071  13400       0   \n7902    -0.58    -0.44     0.13     0.53    -0.23  2018071  13400       0   \n7903    -0.58    -0.44     0.13     0.53    -0.23  2018071  13400       0   \n7904    -0.58    -0.44     0.13     0.53    -0.23  2018071  13400       0   \n\n                                                 title  \n0                                 삼성전자, 기술전문가 名匠제도 신설   \n1                     삼성전자, 기술 전문가 육성 위한 '삼성명장' 제도 신설   \n2                                        2019년삼성전자시무식   \n3                          삼성전자\"초일류, 초격차 100년 기업 만들자\"   \n4                  삼성전자김기남 부회장 “초일류·초격차 100년 기업 도약하자”   \n...                                                ...  \n7900                    삼성, 애증의 ‘QD-OLED TV’ 내년 국내 출시   \n7901                          [재송]14일 장 마감 후 주요 종목 뉴스   \n7902  [내 종목을 부탁해] 복잡한 계좌 해결 방법은? <두산에너빌리티>, <대원제약>...   \n7903         삼성전자 여유자금 10.7조→3.9조, SK하이닉스 3.5조→―8500억   \n7904           삼성 500억, SK·LG120억씩…재계, 연말 성금 800억원 돌파   \n\n[7905 rows x 17 columns]",
      "text/html": "<div>\n<style scoped>\n    .dataframe tbody tr th:only-of-type {\n        vertical-align: middle;\n    }\n\n    .dataframe tbody tr th {\n        vertical-align: top;\n    }\n\n    .dataframe thead th {\n        text-align: right;\n    }\n</style>\n<table border=\"1\" class=\"dataframe\">\n  <thead>\n    <tr style=\"text-align: right;\">\n      <th></th>\n      <th>회사명</th>\n      <th>날짜</th>\n      <th>등락률</th>\n      <th>5일전_종가</th>\n      <th>4일전_종가</th>\n      <th>3일전_종가</th>\n      <th>2일전_종가</th>\n      <th>1일전_종가</th>\n      <th>5일전_거래량</th>\n      <th>4일전_거래량</th>\n      <th>3일전_거래량</th>\n      <th>2일전_거래량</th>\n      <th>1일전_거래량</th>\n      <th>거래량</th>\n      <th>종가</th>\n      <th>Either</th>\n      <th>title</th>\n    </tr>\n  </thead>\n  <tbody>\n    <tr>\n      <th>0</th>\n      <td>삼성전자</td>\n      <td>20190103</td>\n      <td>-3.06</td>\n      <td>0.02</td>\n      <td>-0.02</td>\n      <td>0.00</td>\n      <td>-0.01</td>\n      <td>-0.01</td>\n      <td>-0.05</td>\n      <td>0.32</td>\n      <td>-0.33</td>\n      <td>-0.23</td>\n      <td>0.40</td>\n      <td>1177579</td>\n      <td>17800</td>\n      <td>0</td>\n      <td>삼성전자, 기술전문가 名匠제도 신설</td>\n    </tr>\n    <tr>\n      <th>1</th>\n      <td>삼성전자</td>\n      <td>20190103</td>\n      <td>-3.06</td>\n      <td>0.02</td>\n      <td>-0.02</td>\n      <td>0.00</td>\n      <td>-0.01</td>\n      <td>-0.01</td>\n      <td>-0.05</td>\n      <td>0.32</td>\n      <td>-0.33</td>\n      <td>-0.23</td>\n      <td>0.40</td>\n      <td>1177579</td>\n      <td>17800</td>\n      <td>0</td>\n      <td>삼성전자, 기술 전문가 육성 위한 '삼성명장' 제도 신설</td>\n    </tr>\n    <tr>\n      <th>2</th>\n      <td>삼성전자</td>\n      <td>20190103</td>\n      <td>-3.06</td>\n      <td>0.02</td>\n      <td>-0.02</td>\n      <td>0.00</td>\n      <td>-0.01</td>\n      <td>-0.01</td>\n      <td>-0.05</td>\n      <td>0.32</td>\n      <td>-0.33</td>\n      <td>-0.23</td>\n      <td>0.40</td>\n      <td>1177579</td>\n      <td>17800</td>\n      <td>0</td>\n      <td>2019년삼성전자시무식</td>\n    </tr>\n    <tr>\n      <th>3</th>\n      <td>삼성전자</td>\n      <td>20190103</td>\n      <td>-3.06</td>\n      <td>0.02</td>\n      <td>-0.02</td>\n      <td>0.00</td>\n      <td>-0.01</td>\n      <td>-0.01</td>\n      <td>-0.05</td>\n      <td>0.32</td>\n      <td>-0.33</td>\n      <td>-0.23</td>\n      <td>0.40</td>\n      <td>1177579</td>\n      <td>17800</td>\n      <td>0</td>\n      <td>삼성전자\"초일류, 초격차 100년 기업 만들자\"</td>\n    </tr>\n    <tr>\n      <th>4</th>\n      <td>삼성전자</td>\n      <td>20190103</td>\n      <td>-3.06</td>\n      <td>0.02</td>\n      <td>-0.02</td>\n      <td>0.00</td>\n      <td>-0.01</td>\n      <td>-0.01</td>\n      <td>-0.05</td>\n      <td>0.32</td>\n      <td>-0.33</td>\n      <td>-0.23</td>\n      <td>0.40</td>\n      <td>1177579</td>\n      <td>17800</td>\n      <td>0</td>\n      <td>삼성전자김기남 부회장 “초일류·초격차 100년 기업 도약하자”</td>\n    </tr>\n    <tr>\n      <th>...</th>\n      <td>...</td>\n      <td>...</td>\n      <td>...</td>\n      <td>...</td>\n      <td>...</td>\n      <td>...</td>\n      <td>...</td>\n      <td>...</td>\n      <td>...</td>\n      <td>...</td>\n      <td>...</td>\n      <td>...</td>\n      <td>...</td>\n      <td>...</td>\n      <td>...</td>\n      <td>...</td>\n      <td>...</td>\n    </tr>\n    <tr>\n      <th>7900</th>\n      <td>LG디스플레이</td>\n      <td>20221216</td>\n      <td>-3.73</td>\n      <td>0.01</td>\n      <td>0.00</td>\n      <td>-0.03</td>\n      <td>0.04</td>\n      <td>-0.02</td>\n      <td>-0.58</td>\n      <td>-0.44</td>\n      <td>0.13</td>\n      <td>0.53</td>\n      <td>-0.23</td>\n      <td>2018071</td>\n      <td>13400</td>\n      <td>0</td>\n      <td>삼성, 애증의 ‘QD-OLED TV’ 내년 국내 출시</td>\n    </tr>\n    <tr>\n      <th>7901</th>\n      <td>LG디스플레이</td>\n      <td>20221216</td>\n      <td>-3.73</td>\n      <td>0.01</td>\n      <td>0.00</td>\n      <td>-0.03</td>\n      <td>0.04</td>\n      <td>-0.02</td>\n      <td>-0.58</td>\n      <td>-0.44</td>\n      <td>0.13</td>\n      <td>0.53</td>\n      <td>-0.23</td>\n      <td>2018071</td>\n      <td>13400</td>\n      <td>0</td>\n      <td>[재송]14일 장 마감 후 주요 종목 뉴스</td>\n    </tr>\n    <tr>\n      <th>7902</th>\n      <td>LG디스플레이</td>\n      <td>20221216</td>\n      <td>-3.73</td>\n      <td>0.01</td>\n      <td>0.00</td>\n      <td>-0.03</td>\n      <td>0.04</td>\n      <td>-0.02</td>\n      <td>-0.58</td>\n      <td>-0.44</td>\n      <td>0.13</td>\n      <td>0.53</td>\n      <td>-0.23</td>\n      <td>2018071</td>\n      <td>13400</td>\n      <td>0</td>\n      <td>[내 종목을 부탁해] 복잡한 계좌 해결 방법은? &lt;두산에너빌리티&gt;, &lt;대원제약&gt;...</td>\n    </tr>\n    <tr>\n      <th>7903</th>\n      <td>LG디스플레이</td>\n      <td>20221216</td>\n      <td>-3.73</td>\n      <td>0.01</td>\n      <td>0.00</td>\n      <td>-0.03</td>\n      <td>0.04</td>\n      <td>-0.02</td>\n      <td>-0.58</td>\n      <td>-0.44</td>\n      <td>0.13</td>\n      <td>0.53</td>\n      <td>-0.23</td>\n      <td>2018071</td>\n      <td>13400</td>\n      <td>0</td>\n      <td>삼성전자 여유자금 10.7조→3.9조, SK하이닉스 3.5조→―8500억</td>\n    </tr>\n    <tr>\n      <th>7904</th>\n      <td>LG디스플레이</td>\n      <td>20221216</td>\n      <td>-3.73</td>\n      <td>0.01</td>\n      <td>0.00</td>\n      <td>-0.03</td>\n      <td>0.04</td>\n      <td>-0.02</td>\n      <td>-0.58</td>\n      <td>-0.44</td>\n      <td>0.13</td>\n      <td>0.53</td>\n      <td>-0.23</td>\n      <td>2018071</td>\n      <td>13400</td>\n      <td>0</td>\n      <td>삼성 500억, SK·LG120억씩…재계, 연말 성금 800억원 돌파</td>\n    </tr>\n  </tbody>\n</table>\n<p>7905 rows × 17 columns</p>\n</div>"
     },
     "execution_count": 17,
     "metadata": {},
     "output_type": "execute_result"
    }
   ],
   "source": [
    "sum"
   ],
   "metadata": {
    "collapsed": false,
    "pycharm": {
     "name": "#%%\n"
    }
   }
  },
  {
   "cell_type": "code",
   "execution_count": 18,
   "outputs": [],
   "source": [
    "main = fin.drop(['회사명', '날짜','Either','거래량','종가','등락률'], axis=1)"
   ],
   "metadata": {
    "collapsed": false,
    "pycharm": {
     "name": "#%%\n"
    }
   }
  },
  {
   "cell_type": "code",
   "execution_count": 19,
   "outputs": [
    {
     "data": {
      "text/plain": "     5일전_종가  4일전_종가  3일전_종가  2일전_종가  1일전_종가  5일전_거래량  4일전_거래량  3일전_거래량  \\\n0      0.02   -0.02    0.00   -0.01   -0.01    -0.05     0.32    -0.33   \n1      0.00   -0.01   -0.01    0.00    0.02    -0.33    -0.23     0.40   \n2     -0.01    0.00    0.02    0.01    0.03     0.40     0.06     0.05   \n3      0.00    0.01   -0.03    0.01    0.00    -0.20     1.37    -0.21   \n4      0.02   -0.04   -0.04    0.01    0.01     0.25     1.53    -0.15   \n..      ...     ...     ...     ...     ...      ...      ...      ...   \n829    0.04    0.00    0.08   -0.01    0.00     0.51    -0.26     2.19   \n830    0.00    0.08   -0.01    0.00    0.08    -0.26     2.19    -0.68   \n831    0.08   -0.05    0.01   -0.01   -0.02     0.67    -0.33    -0.55   \n832   -0.02   -0.01    0.01    0.00   -0.03    -0.28     2.13    -0.58   \n833    0.01    0.00   -0.03    0.04   -0.02    -0.58    -0.44     0.13   \n\n     2일전_거래량  1일전_거래량  \n0      -0.23     0.40  \n1       0.06     0.05  \n2       0.06     0.96  \n3      -0.52    -0.01  \n4      -0.56    -0.05  \n..       ...      ...  \n829    -0.68     0.31  \n830     0.31     0.67  \n831     0.21    -0.32  \n832    -0.44     0.13  \n833     0.53    -0.23  \n\n[834 rows x 10 columns]",
      "text/html": "<div>\n<style scoped>\n    .dataframe tbody tr th:only-of-type {\n        vertical-align: middle;\n    }\n\n    .dataframe tbody tr th {\n        vertical-align: top;\n    }\n\n    .dataframe thead th {\n        text-align: right;\n    }\n</style>\n<table border=\"1\" class=\"dataframe\">\n  <thead>\n    <tr style=\"text-align: right;\">\n      <th></th>\n      <th>5일전_종가</th>\n      <th>4일전_종가</th>\n      <th>3일전_종가</th>\n      <th>2일전_종가</th>\n      <th>1일전_종가</th>\n      <th>5일전_거래량</th>\n      <th>4일전_거래량</th>\n      <th>3일전_거래량</th>\n      <th>2일전_거래량</th>\n      <th>1일전_거래량</th>\n    </tr>\n  </thead>\n  <tbody>\n    <tr>\n      <th>0</th>\n      <td>0.02</td>\n      <td>-0.02</td>\n      <td>0.00</td>\n      <td>-0.01</td>\n      <td>-0.01</td>\n      <td>-0.05</td>\n      <td>0.32</td>\n      <td>-0.33</td>\n      <td>-0.23</td>\n      <td>0.40</td>\n    </tr>\n    <tr>\n      <th>1</th>\n      <td>0.00</td>\n      <td>-0.01</td>\n      <td>-0.01</td>\n      <td>0.00</td>\n      <td>0.02</td>\n      <td>-0.33</td>\n      <td>-0.23</td>\n      <td>0.40</td>\n      <td>0.06</td>\n      <td>0.05</td>\n    </tr>\n    <tr>\n      <th>2</th>\n      <td>-0.01</td>\n      <td>0.00</td>\n      <td>0.02</td>\n      <td>0.01</td>\n      <td>0.03</td>\n      <td>0.40</td>\n      <td>0.06</td>\n      <td>0.05</td>\n      <td>0.06</td>\n      <td>0.96</td>\n    </tr>\n    <tr>\n      <th>3</th>\n      <td>0.00</td>\n      <td>0.01</td>\n      <td>-0.03</td>\n      <td>0.01</td>\n      <td>0.00</td>\n      <td>-0.20</td>\n      <td>1.37</td>\n      <td>-0.21</td>\n      <td>-0.52</td>\n      <td>-0.01</td>\n    </tr>\n    <tr>\n      <th>4</th>\n      <td>0.02</td>\n      <td>-0.04</td>\n      <td>-0.04</td>\n      <td>0.01</td>\n      <td>0.01</td>\n      <td>0.25</td>\n      <td>1.53</td>\n      <td>-0.15</td>\n      <td>-0.56</td>\n      <td>-0.05</td>\n    </tr>\n    <tr>\n      <th>...</th>\n      <td>...</td>\n      <td>...</td>\n      <td>...</td>\n      <td>...</td>\n      <td>...</td>\n      <td>...</td>\n      <td>...</td>\n      <td>...</td>\n      <td>...</td>\n      <td>...</td>\n    </tr>\n    <tr>\n      <th>829</th>\n      <td>0.04</td>\n      <td>0.00</td>\n      <td>0.08</td>\n      <td>-0.01</td>\n      <td>0.00</td>\n      <td>0.51</td>\n      <td>-0.26</td>\n      <td>2.19</td>\n      <td>-0.68</td>\n      <td>0.31</td>\n    </tr>\n    <tr>\n      <th>830</th>\n      <td>0.00</td>\n      <td>0.08</td>\n      <td>-0.01</td>\n      <td>0.00</td>\n      <td>0.08</td>\n      <td>-0.26</td>\n      <td>2.19</td>\n      <td>-0.68</td>\n      <td>0.31</td>\n      <td>0.67</td>\n    </tr>\n    <tr>\n      <th>831</th>\n      <td>0.08</td>\n      <td>-0.05</td>\n      <td>0.01</td>\n      <td>-0.01</td>\n      <td>-0.02</td>\n      <td>0.67</td>\n      <td>-0.33</td>\n      <td>-0.55</td>\n      <td>0.21</td>\n      <td>-0.32</td>\n    </tr>\n    <tr>\n      <th>832</th>\n      <td>-0.02</td>\n      <td>-0.01</td>\n      <td>0.01</td>\n      <td>0.00</td>\n      <td>-0.03</td>\n      <td>-0.28</td>\n      <td>2.13</td>\n      <td>-0.58</td>\n      <td>-0.44</td>\n      <td>0.13</td>\n    </tr>\n    <tr>\n      <th>833</th>\n      <td>0.01</td>\n      <td>0.00</td>\n      <td>-0.03</td>\n      <td>0.04</td>\n      <td>-0.02</td>\n      <td>-0.58</td>\n      <td>-0.44</td>\n      <td>0.13</td>\n      <td>0.53</td>\n      <td>-0.23</td>\n    </tr>\n  </tbody>\n</table>\n<p>834 rows × 10 columns</p>\n</div>"
     },
     "execution_count": 19,
     "metadata": {},
     "output_type": "execute_result"
    }
   ],
   "source": [
    "main"
   ],
   "metadata": {
    "collapsed": false,
    "pycharm": {
     "name": "#%%\n"
    }
   }
  },
  {
   "cell_type": "code",
   "execution_count": 20,
   "outputs": [],
   "source": [
    "x_main = main\n",
    "y_main = fin['Either']\n",
    "\n",
    "x_train_main, x_test_main, y_train_main, y_test_main = train_test_split(x_main, y_main,\n",
    "                                                    stratify=y_main,\n",
    "                                                    test_size=0.3)"
   ],
   "metadata": {
    "collapsed": false,
    "pycharm": {
     "name": "#%%\n"
    }
   }
  },
  {
   "cell_type": "code",
   "execution_count": 21,
   "outputs": [],
   "source": [
    "x = sum['title']\n",
    "y = sum['Either']\n",
    "\n",
    "x_train_title, x_test_title, y_train_title, y_test_title = train_test_split(x, y,\n",
    "                                                    stratify=y,\n",
    "                                                    test_size=0.3)"
   ],
   "metadata": {
    "collapsed": false,
    "pycharm": {
     "name": "#%%\n"
    }
   }
  },
  {
   "cell_type": "code",
   "execution_count": 22,
   "outputs": [
    {
     "name": "stdout",
     "output_type": "stream",
     "text": [
      "(583, 10) (251, 10)\n"
     ]
    },
    {
     "data": {
      "text/plain": "(array([0, 1], dtype=int64), array([280, 303], dtype=int64))"
     },
     "execution_count": 22,
     "metadata": {},
     "output_type": "execute_result"
    }
   ],
   "source": [
    "print(x_train_main.shape, x_test_main.shape) # 훈련세트, 테스트세트 비율 확인\n",
    "np.unique(y_train_main, return_counts=True) # 훈련세트의 타깃(라벨) 확인"
   ],
   "metadata": {
    "collapsed": false,
    "pycharm": {
     "name": "#%%\n"
    }
   }
  },
  {
   "cell_type": "code",
   "execution_count": 23,
   "outputs": [
    {
     "data": {
      "text/plain": "     5일전_종가  4일전_종가  3일전_종가  2일전_종가  1일전_종가  5일전_거래량  4일전_거래량  3일전_거래량  \\\n638   -0.01    0.01   -0.02   -0.03    0.00    -0.16    -0.40     0.72   \n253    0.02    0.00   -0.05   -0.03   -0.04     0.34    -0.41     1.16   \n691   -0.02    0.02   -0.04    0.01    0.01    -0.36     0.63     0.19   \n222    0.03    0.00    0.03    0.02   -0.01    -0.32     0.05    -0.31   \n764    0.02   -0.02    0.02   -0.03   -0.04    -0.32    -0.23     0.00   \n..      ...     ...     ...     ...     ...      ...      ...      ...   \n34     0.05   -0.01    0.00   -0.04   -0.04     0.47    -0.14    -0.13   \n538    0.00    0.00    0.00    0.02    0.00    -0.52     0.15    -0.25   \n774    0.01    0.01    0.00   -0.02    0.01    -0.25     0.51    -0.13   \n303   -0.03   -0.01   -0.02   -0.01    0.01     0.55    -0.20     0.13   \n52    -0.01    0.04   -0.06   -0.03    0.00    -0.20     0.22    -0.11   \n\n     2일전_거래량  1일전_거래량  \n638    -0.05    -0.22  \n253    -0.11     0.29  \n691     0.18    -0.45  \n222     0.11    -0.19  \n764    -0.21     0.39  \n..       ...      ...  \n34      0.29    -0.25  \n538     0.25    -0.39  \n774     0.85     0.25  \n303    -0.32     0.07  \n52      0.45     0.03  \n\n[583 rows x 10 columns]",
      "text/html": "<div>\n<style scoped>\n    .dataframe tbody tr th:only-of-type {\n        vertical-align: middle;\n    }\n\n    .dataframe tbody tr th {\n        vertical-align: top;\n    }\n\n    .dataframe thead th {\n        text-align: right;\n    }\n</style>\n<table border=\"1\" class=\"dataframe\">\n  <thead>\n    <tr style=\"text-align: right;\">\n      <th></th>\n      <th>5일전_종가</th>\n      <th>4일전_종가</th>\n      <th>3일전_종가</th>\n      <th>2일전_종가</th>\n      <th>1일전_종가</th>\n      <th>5일전_거래량</th>\n      <th>4일전_거래량</th>\n      <th>3일전_거래량</th>\n      <th>2일전_거래량</th>\n      <th>1일전_거래량</th>\n    </tr>\n  </thead>\n  <tbody>\n    <tr>\n      <th>638</th>\n      <td>-0.01</td>\n      <td>0.01</td>\n      <td>-0.02</td>\n      <td>-0.03</td>\n      <td>0.00</td>\n      <td>-0.16</td>\n      <td>-0.40</td>\n      <td>0.72</td>\n      <td>-0.05</td>\n      <td>-0.22</td>\n    </tr>\n    <tr>\n      <th>253</th>\n      <td>0.02</td>\n      <td>0.00</td>\n      <td>-0.05</td>\n      <td>-0.03</td>\n      <td>-0.04</td>\n      <td>0.34</td>\n      <td>-0.41</td>\n      <td>1.16</td>\n      <td>-0.11</td>\n      <td>0.29</td>\n    </tr>\n    <tr>\n      <th>691</th>\n      <td>-0.02</td>\n      <td>0.02</td>\n      <td>-0.04</td>\n      <td>0.01</td>\n      <td>0.01</td>\n      <td>-0.36</td>\n      <td>0.63</td>\n      <td>0.19</td>\n      <td>0.18</td>\n      <td>-0.45</td>\n    </tr>\n    <tr>\n      <th>222</th>\n      <td>0.03</td>\n      <td>0.00</td>\n      <td>0.03</td>\n      <td>0.02</td>\n      <td>-0.01</td>\n      <td>-0.32</td>\n      <td>0.05</td>\n      <td>-0.31</td>\n      <td>0.11</td>\n      <td>-0.19</td>\n    </tr>\n    <tr>\n      <th>764</th>\n      <td>0.02</td>\n      <td>-0.02</td>\n      <td>0.02</td>\n      <td>-0.03</td>\n      <td>-0.04</td>\n      <td>-0.32</td>\n      <td>-0.23</td>\n      <td>0.00</td>\n      <td>-0.21</td>\n      <td>0.39</td>\n    </tr>\n    <tr>\n      <th>...</th>\n      <td>...</td>\n      <td>...</td>\n      <td>...</td>\n      <td>...</td>\n      <td>...</td>\n      <td>...</td>\n      <td>...</td>\n      <td>...</td>\n      <td>...</td>\n      <td>...</td>\n    </tr>\n    <tr>\n      <th>34</th>\n      <td>0.05</td>\n      <td>-0.01</td>\n      <td>0.00</td>\n      <td>-0.04</td>\n      <td>-0.04</td>\n      <td>0.47</td>\n      <td>-0.14</td>\n      <td>-0.13</td>\n      <td>0.29</td>\n      <td>-0.25</td>\n    </tr>\n    <tr>\n      <th>538</th>\n      <td>0.00</td>\n      <td>0.00</td>\n      <td>0.00</td>\n      <td>0.02</td>\n      <td>0.00</td>\n      <td>-0.52</td>\n      <td>0.15</td>\n      <td>-0.25</td>\n      <td>0.25</td>\n      <td>-0.39</td>\n    </tr>\n    <tr>\n      <th>774</th>\n      <td>0.01</td>\n      <td>0.01</td>\n      <td>0.00</td>\n      <td>-0.02</td>\n      <td>0.01</td>\n      <td>-0.25</td>\n      <td>0.51</td>\n      <td>-0.13</td>\n      <td>0.85</td>\n      <td>0.25</td>\n    </tr>\n    <tr>\n      <th>303</th>\n      <td>-0.03</td>\n      <td>-0.01</td>\n      <td>-0.02</td>\n      <td>-0.01</td>\n      <td>0.01</td>\n      <td>0.55</td>\n      <td>-0.20</td>\n      <td>0.13</td>\n      <td>-0.32</td>\n      <td>0.07</td>\n    </tr>\n    <tr>\n      <th>52</th>\n      <td>-0.01</td>\n      <td>0.04</td>\n      <td>-0.06</td>\n      <td>-0.03</td>\n      <td>0.00</td>\n      <td>-0.20</td>\n      <td>0.22</td>\n      <td>-0.11</td>\n      <td>0.45</td>\n      <td>0.03</td>\n    </tr>\n  </tbody>\n</table>\n<p>583 rows × 10 columns</p>\n</div>"
     },
     "execution_count": 23,
     "metadata": {},
     "output_type": "execute_result"
    }
   ],
   "source": [
    "x_train_main"
   ],
   "metadata": {
    "collapsed": false,
    "pycharm": {
     "name": "#%%\n"
    }
   }
  },
  {
   "cell_type": "code",
   "execution_count": 24,
   "outputs": [
    {
     "data": {
      "text/plain": "     5일전_종가  4일전_종가  3일전_종가  2일전_종가  1일전_종가  5일전_거래량  4일전_거래량  3일전_거래량  \\\n642   -0.06   -0.04    0.01    0.01   -0.01    -0.21    -0.24    -0.47   \n175    0.03   -0.01   -0.04   -0.01    0.00     0.33    -0.09     0.53   \n196   -0.11    0.16   -0.09    0.09    0.05     1.16    -0.46    -0.19   \n391    0.02    0.01   -0.03    0.01    0.00     0.24     0.43    -0.42   \n738   -0.02   -0.01    0.00    0.00    0.01    -0.02    -0.13     0.12   \n..      ...     ...     ...     ...     ...      ...      ...      ...   \n678   -0.02    0.00   -0.01   -0.01   -0.02     0.36    -0.20    -0.10   \n487   -0.01   -0.02   -0.06   -0.01   -0.02    -0.13     0.31     0.47   \n760    0.02    0.02   -0.01    0.02    0.07     0.62    -0.17    -0.18   \n515   -0.02   -0.02    0.00   -0.02   -0.02     0.01     0.13    -0.18   \n478    0.01    0.04   -0.02   -0.01    0.03     0.95     0.34    -0.32   \n\n     2일전_거래량  1일전_거래량  \n642     0.23    -0.28  \n175    -0.13    -0.18  \n196     0.10     0.32  \n391    -0.01    -0.19  \n738    -0.52     0.67  \n..       ...      ...  \n678     0.01    -0.36  \n487    -0.42     0.96  \n760    -0.27     5.04  \n515    -0.04     0.49  \n478     0.14    -0.08  \n\n[251 rows x 10 columns]",
      "text/html": "<div>\n<style scoped>\n    .dataframe tbody tr th:only-of-type {\n        vertical-align: middle;\n    }\n\n    .dataframe tbody tr th {\n        vertical-align: top;\n    }\n\n    .dataframe thead th {\n        text-align: right;\n    }\n</style>\n<table border=\"1\" class=\"dataframe\">\n  <thead>\n    <tr style=\"text-align: right;\">\n      <th></th>\n      <th>5일전_종가</th>\n      <th>4일전_종가</th>\n      <th>3일전_종가</th>\n      <th>2일전_종가</th>\n      <th>1일전_종가</th>\n      <th>5일전_거래량</th>\n      <th>4일전_거래량</th>\n      <th>3일전_거래량</th>\n      <th>2일전_거래량</th>\n      <th>1일전_거래량</th>\n    </tr>\n  </thead>\n  <tbody>\n    <tr>\n      <th>642</th>\n      <td>-0.06</td>\n      <td>-0.04</td>\n      <td>0.01</td>\n      <td>0.01</td>\n      <td>-0.01</td>\n      <td>-0.21</td>\n      <td>-0.24</td>\n      <td>-0.47</td>\n      <td>0.23</td>\n      <td>-0.28</td>\n    </tr>\n    <tr>\n      <th>175</th>\n      <td>0.03</td>\n      <td>-0.01</td>\n      <td>-0.04</td>\n      <td>-0.01</td>\n      <td>0.00</td>\n      <td>0.33</td>\n      <td>-0.09</td>\n      <td>0.53</td>\n      <td>-0.13</td>\n      <td>-0.18</td>\n    </tr>\n    <tr>\n      <th>196</th>\n      <td>-0.11</td>\n      <td>0.16</td>\n      <td>-0.09</td>\n      <td>0.09</td>\n      <td>0.05</td>\n      <td>1.16</td>\n      <td>-0.46</td>\n      <td>-0.19</td>\n      <td>0.10</td>\n      <td>0.32</td>\n    </tr>\n    <tr>\n      <th>391</th>\n      <td>0.02</td>\n      <td>0.01</td>\n      <td>-0.03</td>\n      <td>0.01</td>\n      <td>0.00</td>\n      <td>0.24</td>\n      <td>0.43</td>\n      <td>-0.42</td>\n      <td>-0.01</td>\n      <td>-0.19</td>\n    </tr>\n    <tr>\n      <th>738</th>\n      <td>-0.02</td>\n      <td>-0.01</td>\n      <td>0.00</td>\n      <td>0.00</td>\n      <td>0.01</td>\n      <td>-0.02</td>\n      <td>-0.13</td>\n      <td>0.12</td>\n      <td>-0.52</td>\n      <td>0.67</td>\n    </tr>\n    <tr>\n      <th>...</th>\n      <td>...</td>\n      <td>...</td>\n      <td>...</td>\n      <td>...</td>\n      <td>...</td>\n      <td>...</td>\n      <td>...</td>\n      <td>...</td>\n      <td>...</td>\n      <td>...</td>\n    </tr>\n    <tr>\n      <th>678</th>\n      <td>-0.02</td>\n      <td>0.00</td>\n      <td>-0.01</td>\n      <td>-0.01</td>\n      <td>-0.02</td>\n      <td>0.36</td>\n      <td>-0.20</td>\n      <td>-0.10</td>\n      <td>0.01</td>\n      <td>-0.36</td>\n    </tr>\n    <tr>\n      <th>487</th>\n      <td>-0.01</td>\n      <td>-0.02</td>\n      <td>-0.06</td>\n      <td>-0.01</td>\n      <td>-0.02</td>\n      <td>-0.13</td>\n      <td>0.31</td>\n      <td>0.47</td>\n      <td>-0.42</td>\n      <td>0.96</td>\n    </tr>\n    <tr>\n      <th>760</th>\n      <td>0.02</td>\n      <td>0.02</td>\n      <td>-0.01</td>\n      <td>0.02</td>\n      <td>0.07</td>\n      <td>0.62</td>\n      <td>-0.17</td>\n      <td>-0.18</td>\n      <td>-0.27</td>\n      <td>5.04</td>\n    </tr>\n    <tr>\n      <th>515</th>\n      <td>-0.02</td>\n      <td>-0.02</td>\n      <td>0.00</td>\n      <td>-0.02</td>\n      <td>-0.02</td>\n      <td>0.01</td>\n      <td>0.13</td>\n      <td>-0.18</td>\n      <td>-0.04</td>\n      <td>0.49</td>\n    </tr>\n    <tr>\n      <th>478</th>\n      <td>0.01</td>\n      <td>0.04</td>\n      <td>-0.02</td>\n      <td>-0.01</td>\n      <td>0.03</td>\n      <td>0.95</td>\n      <td>0.34</td>\n      <td>-0.32</td>\n      <td>0.14</td>\n      <td>-0.08</td>\n    </tr>\n  </tbody>\n</table>\n<p>251 rows × 10 columns</p>\n</div>"
     },
     "execution_count": 24,
     "metadata": {},
     "output_type": "execute_result"
    }
   ],
   "source": [
    "x_test_main"
   ],
   "metadata": {
    "collapsed": false,
    "pycharm": {
     "name": "#%%\n"
    }
   }
  },
  {
   "cell_type": "code",
   "execution_count": 25,
   "outputs": [
    {
     "name": "stdout",
     "output_type": "stream",
     "text": [
      "(5533,) (2372,)\n"
     ]
    },
    {
     "data": {
      "text/plain": "(array([0, 1], dtype=int64), array([2666, 2867], dtype=int64))"
     },
     "execution_count": 25,
     "metadata": {},
     "output_type": "execute_result"
    }
   ],
   "source": [
    "print(x_train_title.shape, x_test_title.shape) # 훈련세트, 테스트세트 비율 확인\n",
    "np.unique(y_train_title, return_counts=True) # 훈련세트의 타깃(라벨) 확인"
   ],
   "metadata": {
    "collapsed": false,
    "pycharm": {
     "name": "#%%\n"
    }
   }
  },
  {
   "cell_type": "code",
   "execution_count": 26,
   "outputs": [
    {
     "data": {
      "text/plain": "<5533x13099 sparse matrix of type '<class 'numpy.float64'>'\n\twith 38916 stored elements in Compressed Sparse Row format>"
     },
     "execution_count": 26,
     "metadata": {},
     "output_type": "execute_result"
    }
   ],
   "source": [
    "vect = TfidfVectorizer().fit(x_train_title)\n",
    "x_train_vectorized = vect.transform(x_train_title)\n",
    "\n",
    "x_train_vectorized"
   ],
   "metadata": {
    "collapsed": false,
    "pycharm": {
     "name": "#%%\n"
    }
   }
  },
  {
   "cell_type": "code",
   "execution_count": 27,
   "outputs": [],
   "source": [
    "from sklearn.tree import DecisionTreeClassifier\n",
    "from sklearn.ensemble import RandomForestClassifier\n",
    "from sklearn.linear_model import LogisticRegression\n",
    "from sklearn.model_selection import GridSearchCV\n",
    "from sklearn.svm import SVC"
   ],
   "metadata": {
    "collapsed": false,
    "pycharm": {
     "name": "#%%\n"
    }
   }
  },
  {
   "cell_type": "code",
   "execution_count": 28,
   "outputs": [],
   "source": [
    "from sklearn.model_selection import cross_val_score\n",
    "from sklearn.ensemble import GradientBoostingClassifier\n",
    "from sklearn.ensemble import VotingClassifier\n",
    "from sklearn.model_selection import GridSearchCV\n",
    "from xgboost import XGBClassifier\n",
    "import xgboost as xgb"
   ],
   "metadata": {
    "collapsed": false,
    "pycharm": {
     "name": "#%%\n"
    }
   }
  },
  {
   "cell_type": "code",
   "execution_count": 29,
   "outputs": [
    {
     "name": "stdout",
     "output_type": "stream",
     "text": [
      "Fitting 5 folds for each of 54 candidates, totalling 270 fits\n"
     ]
    },
    {
     "data": {
      "text/plain": "0.6929560860595343"
     },
     "execution_count": 29,
     "metadata": {},
     "output_type": "execute_result"
    }
   ],
   "source": [
    "RFC = RandomForestClassifier()\n",
    "\n",
    "\n",
    "## Search grid for optimal parameters\n",
    "rf_param_grid = {\"max_depth\": [None],\n",
    "              \"max_features\": [3, 8, 8],\n",
    "              \"min_samples_split\": [2, 3, 8],\n",
    "              \"min_samples_leaf\": [1, 3, 8],\n",
    "              \"bootstrap\": [False],\n",
    "              \"n_estimators\" :[100,300],\n",
    "              \"criterion\": [\"gini\"]}\n",
    "\n",
    "\n",
    "gsRFC = GridSearchCV(RFC, rf_param_grid, scoring=\"accuracy\",  verbose = 1)\n",
    "#print(score)\n",
    "\n",
    "gsRFC.fit(x_train_main,y_train_main)\n",
    "\n",
    "RFC_best = gsRFC.best_estimator_\n",
    "\n",
    "# Best score\n",
    "gsRFC.best_score_"
   ],
   "metadata": {
    "collapsed": false,
    "pycharm": {
     "name": "#%%\n"
    }
   }
  },
  {
   "cell_type": "code",
   "execution_count": 30,
   "outputs": [
    {
     "data": {
      "text/plain": "RandomForestClassifier(bootstrap=False, max_features=3, min_samples_leaf=3,\n                       min_samples_split=8, n_estimators=300)",
      "text/html": "<style>#sk-container-id-1 {color: black;background-color: white;}#sk-container-id-1 pre{padding: 0;}#sk-container-id-1 div.sk-toggleable {background-color: white;}#sk-container-id-1 label.sk-toggleable__label {cursor: pointer;display: block;width: 100%;margin-bottom: 0;padding: 0.3em;box-sizing: border-box;text-align: center;}#sk-container-id-1 label.sk-toggleable__label-arrow:before {content: \"▸\";float: left;margin-right: 0.25em;color: #696969;}#sk-container-id-1 label.sk-toggleable__label-arrow:hover:before {color: black;}#sk-container-id-1 div.sk-estimator:hover label.sk-toggleable__label-arrow:before {color: black;}#sk-container-id-1 div.sk-toggleable__content {max-height: 0;max-width: 0;overflow: hidden;text-align: left;background-color: #f0f8ff;}#sk-container-id-1 div.sk-toggleable__content pre {margin: 0.2em;color: black;border-radius: 0.25em;background-color: #f0f8ff;}#sk-container-id-1 input.sk-toggleable__control:checked~div.sk-toggleable__content {max-height: 200px;max-width: 100%;overflow: auto;}#sk-container-id-1 input.sk-toggleable__control:checked~label.sk-toggleable__label-arrow:before {content: \"▾\";}#sk-container-id-1 div.sk-estimator input.sk-toggleable__control:checked~label.sk-toggleable__label {background-color: #d4ebff;}#sk-container-id-1 div.sk-label input.sk-toggleable__control:checked~label.sk-toggleable__label {background-color: #d4ebff;}#sk-container-id-1 input.sk-hidden--visually {border: 0;clip: rect(1px 1px 1px 1px);clip: rect(1px, 1px, 1px, 1px);height: 1px;margin: -1px;overflow: hidden;padding: 0;position: absolute;width: 1px;}#sk-container-id-1 div.sk-estimator {font-family: monospace;background-color: #f0f8ff;border: 1px dotted black;border-radius: 0.25em;box-sizing: border-box;margin-bottom: 0.5em;}#sk-container-id-1 div.sk-estimator:hover {background-color: #d4ebff;}#sk-container-id-1 div.sk-parallel-item::after {content: \"\";width: 100%;border-bottom: 1px solid gray;flex-grow: 1;}#sk-container-id-1 div.sk-label:hover label.sk-toggleable__label {background-color: #d4ebff;}#sk-container-id-1 div.sk-serial::before {content: \"\";position: absolute;border-left: 1px solid gray;box-sizing: border-box;top: 0;bottom: 0;left: 50%;z-index: 0;}#sk-container-id-1 div.sk-serial {display: flex;flex-direction: column;align-items: center;background-color: white;padding-right: 0.2em;padding-left: 0.2em;position: relative;}#sk-container-id-1 div.sk-item {position: relative;z-index: 1;}#sk-container-id-1 div.sk-parallel {display: flex;align-items: stretch;justify-content: center;background-color: white;position: relative;}#sk-container-id-1 div.sk-item::before, #sk-container-id-1 div.sk-parallel-item::before {content: \"\";position: absolute;border-left: 1px solid gray;box-sizing: border-box;top: 0;bottom: 0;left: 50%;z-index: -1;}#sk-container-id-1 div.sk-parallel-item {display: flex;flex-direction: column;z-index: 1;position: relative;background-color: white;}#sk-container-id-1 div.sk-parallel-item:first-child::after {align-self: flex-end;width: 50%;}#sk-container-id-1 div.sk-parallel-item:last-child::after {align-self: flex-start;width: 50%;}#sk-container-id-1 div.sk-parallel-item:only-child::after {width: 0;}#sk-container-id-1 div.sk-dashed-wrapped {border: 1px dashed gray;margin: 0 0.4em 0.5em 0.4em;box-sizing: border-box;padding-bottom: 0.4em;background-color: white;}#sk-container-id-1 div.sk-label label {font-family: monospace;font-weight: bold;display: inline-block;line-height: 1.2em;}#sk-container-id-1 div.sk-label-container {text-align: center;}#sk-container-id-1 div.sk-container {/* jupyter's `normalize.less` sets `[hidden] { display: none; }` but bootstrap.min.css set `[hidden] { display: none !important; }` so we also need the `!important` here to be able to override the default hidden behavior on the sphinx rendered scikit-learn.org. See: https://github.com/scikit-learn/scikit-learn/issues/21755 */display: inline-block !important;position: relative;}#sk-container-id-1 div.sk-text-repr-fallback {display: none;}</style><div id=\"sk-container-id-1\" class=\"sk-top-container\"><div class=\"sk-text-repr-fallback\"><pre>RandomForestClassifier(bootstrap=False, max_features=3, min_samples_leaf=3,\n                       min_samples_split=8, n_estimators=300)</pre><b>In a Jupyter environment, please rerun this cell to show the HTML representation or trust the notebook. <br />On GitHub, the HTML representation is unable to render, please try loading this page with nbviewer.org.</b></div><div class=\"sk-container\" hidden><div class=\"sk-item\"><div class=\"sk-estimator sk-toggleable\"><input class=\"sk-toggleable__control sk-hidden--visually\" id=\"sk-estimator-id-1\" type=\"checkbox\" checked><label for=\"sk-estimator-id-1\" class=\"sk-toggleable__label sk-toggleable__label-arrow\">RandomForestClassifier</label><div class=\"sk-toggleable__content\"><pre>RandomForestClassifier(bootstrap=False, max_features=3, min_samples_leaf=3,\n                       min_samples_split=8, n_estimators=300)</pre></div></div></div></div></div>"
     },
     "execution_count": 30,
     "metadata": {},
     "output_type": "execute_result"
    }
   ],
   "source": [
    "RFC_best"
   ],
   "metadata": {
    "collapsed": false,
    "pycharm": {
     "name": "#%%\n"
    }
   }
  },
  {
   "cell_type": "code",
   "execution_count": 31,
   "outputs": [
    {
     "name": "stdout",
     "output_type": "stream",
     "text": [
      "Fitting 5 folds for each of 72 candidates, totalling 360 fits\n"
     ]
    },
    {
     "name": "stderr",
     "output_type": "stream",
     "text": [
      "C:\\Users\\msi\\anaconda3\\lib\\site-packages\\sklearn\\ensemble\\_gb.py:310: FutureWarning: The loss parameter name 'deviance' was deprecated in v1.1 and will be removed in version 1.3. Use the new parameter name 'log_loss' which is equivalent.\n",
      "  warnings.warn(\n"
     ]
    },
    {
     "data": {
      "text/plain": "0.6278072502210433"
     },
     "execution_count": 31,
     "metadata": {},
     "output_type": "execute_result"
    }
   ],
   "source": [
    "GBC = GradientBoostingClassifier()\n",
    "gb_param_grid = {'loss' : [\"deviance\"],\n",
    "              'n_estimators' : [100,200,300],\n",
    "              'learning_rate': [0.1, 0.05, 0.01],\n",
    "              'max_depth': [4, 8],\n",
    "              'min_samples_leaf': [100,150],\n",
    "              'max_features': [0.3, 0.1]\n",
    "              }\n",
    "\n",
    "gsGBC = GridSearchCV(GBC,param_grid = gb_param_grid, scoring=\"accuracy\", n_jobs= 4, verbose = 1)\n",
    "\n",
    "gsGBC.fit(x_train_main,y_train_main)\n",
    "\n",
    "GBC_best = gsGBC.best_estimator_\n",
    "\n",
    "# Best score\n",
    "gsGBC.best_score_"
   ],
   "metadata": {
    "collapsed": false,
    "pycharm": {
     "name": "#%%\n"
    }
   }
  },
  {
   "cell_type": "code",
   "execution_count": 32,
   "outputs": [
    {
     "name": "stdout",
     "output_type": "stream",
     "text": [
      "Fitting 5 folds for each of 16 candidates, totalling 80 fits\n"
     ]
    },
    {
     "data": {
      "text/plain": "0.5919027526622463"
     },
     "execution_count": 32,
     "metadata": {},
     "output_type": "execute_result"
    }
   ],
   "source": [
    "### SVC classifier\n",
    "SVMC = SVC(probability=True)\n",
    "svc_param_grid = {'kernel': ['linear', 'poly', 'rbf', 'sigmoid'],\n",
    "                  'gamma': [ 0.001, 0.01, 0.1, 1]\n",
    "                  }\n",
    "\n",
    "gsSVMC = GridSearchCV(SVMC,param_grid = svc_param_grid, scoring=\"accuracy\", n_jobs= 4, verbose = 1)\n",
    "\n",
    "gsSVMC.fit(x_train_vectorized,y_train_title)\n",
    "SVMC_best = gsSVMC.best_estimator_\n",
    "\n",
    "# Best score\n",
    "gsSVMC.best_score_"
   ],
   "metadata": {
    "collapsed": false,
    "pycharm": {
     "name": "#%%\n"
    }
   }
  },
  {
   "cell_type": "code",
   "execution_count": 44,
   "outputs": [],
   "source": [
    "svm_predict = SVMC_best.predict(vect.transform(x_test_title))"
   ],
   "metadata": {
    "collapsed": false,
    "pycharm": {
     "name": "#%%\n"
    }
   }
  },
  {
   "cell_type": "code",
   "execution_count": 37,
   "outputs": [
    {
     "data": {
      "text/plain": "SVC(gamma=1, probability=True)",
      "text/html": "<style>#sk-container-id-2 {color: black;background-color: white;}#sk-container-id-2 pre{padding: 0;}#sk-container-id-2 div.sk-toggleable {background-color: white;}#sk-container-id-2 label.sk-toggleable__label {cursor: pointer;display: block;width: 100%;margin-bottom: 0;padding: 0.3em;box-sizing: border-box;text-align: center;}#sk-container-id-2 label.sk-toggleable__label-arrow:before {content: \"▸\";float: left;margin-right: 0.25em;color: #696969;}#sk-container-id-2 label.sk-toggleable__label-arrow:hover:before {color: black;}#sk-container-id-2 div.sk-estimator:hover label.sk-toggleable__label-arrow:before {color: black;}#sk-container-id-2 div.sk-toggleable__content {max-height: 0;max-width: 0;overflow: hidden;text-align: left;background-color: #f0f8ff;}#sk-container-id-2 div.sk-toggleable__content pre {margin: 0.2em;color: black;border-radius: 0.25em;background-color: #f0f8ff;}#sk-container-id-2 input.sk-toggleable__control:checked~div.sk-toggleable__content {max-height: 200px;max-width: 100%;overflow: auto;}#sk-container-id-2 input.sk-toggleable__control:checked~label.sk-toggleable__label-arrow:before {content: \"▾\";}#sk-container-id-2 div.sk-estimator input.sk-toggleable__control:checked~label.sk-toggleable__label {background-color: #d4ebff;}#sk-container-id-2 div.sk-label input.sk-toggleable__control:checked~label.sk-toggleable__label {background-color: #d4ebff;}#sk-container-id-2 input.sk-hidden--visually {border: 0;clip: rect(1px 1px 1px 1px);clip: rect(1px, 1px, 1px, 1px);height: 1px;margin: -1px;overflow: hidden;padding: 0;position: absolute;width: 1px;}#sk-container-id-2 div.sk-estimator {font-family: monospace;background-color: #f0f8ff;border: 1px dotted black;border-radius: 0.25em;box-sizing: border-box;margin-bottom: 0.5em;}#sk-container-id-2 div.sk-estimator:hover {background-color: #d4ebff;}#sk-container-id-2 div.sk-parallel-item::after {content: \"\";width: 100%;border-bottom: 1px solid gray;flex-grow: 1;}#sk-container-id-2 div.sk-label:hover label.sk-toggleable__label {background-color: #d4ebff;}#sk-container-id-2 div.sk-serial::before {content: \"\";position: absolute;border-left: 1px solid gray;box-sizing: border-box;top: 0;bottom: 0;left: 50%;z-index: 0;}#sk-container-id-2 div.sk-serial {display: flex;flex-direction: column;align-items: center;background-color: white;padding-right: 0.2em;padding-left: 0.2em;position: relative;}#sk-container-id-2 div.sk-item {position: relative;z-index: 1;}#sk-container-id-2 div.sk-parallel {display: flex;align-items: stretch;justify-content: center;background-color: white;position: relative;}#sk-container-id-2 div.sk-item::before, #sk-container-id-2 div.sk-parallel-item::before {content: \"\";position: absolute;border-left: 1px solid gray;box-sizing: border-box;top: 0;bottom: 0;left: 50%;z-index: -1;}#sk-container-id-2 div.sk-parallel-item {display: flex;flex-direction: column;z-index: 1;position: relative;background-color: white;}#sk-container-id-2 div.sk-parallel-item:first-child::after {align-self: flex-end;width: 50%;}#sk-container-id-2 div.sk-parallel-item:last-child::after {align-self: flex-start;width: 50%;}#sk-container-id-2 div.sk-parallel-item:only-child::after {width: 0;}#sk-container-id-2 div.sk-dashed-wrapped {border: 1px dashed gray;margin: 0 0.4em 0.5em 0.4em;box-sizing: border-box;padding-bottom: 0.4em;background-color: white;}#sk-container-id-2 div.sk-label label {font-family: monospace;font-weight: bold;display: inline-block;line-height: 1.2em;}#sk-container-id-2 div.sk-label-container {text-align: center;}#sk-container-id-2 div.sk-container {/* jupyter's `normalize.less` sets `[hidden] { display: none; }` but bootstrap.min.css set `[hidden] { display: none !important; }` so we also need the `!important` here to be able to override the default hidden behavior on the sphinx rendered scikit-learn.org. See: https://github.com/scikit-learn/scikit-learn/issues/21755 */display: inline-block !important;position: relative;}#sk-container-id-2 div.sk-text-repr-fallback {display: none;}</style><div id=\"sk-container-id-2\" class=\"sk-top-container\"><div class=\"sk-text-repr-fallback\"><pre>SVC(gamma=1, probability=True)</pre><b>In a Jupyter environment, please rerun this cell to show the HTML representation or trust the notebook. <br />On GitHub, the HTML representation is unable to render, please try loading this page with nbviewer.org.</b></div><div class=\"sk-container\" hidden><div class=\"sk-item\"><div class=\"sk-estimator sk-toggleable\"><input class=\"sk-toggleable__control sk-hidden--visually\" id=\"sk-estimator-id-2\" type=\"checkbox\" checked><label for=\"sk-estimator-id-2\" class=\"sk-toggleable__label sk-toggleable__label-arrow\">SVC</label><div class=\"sk-toggleable__content\"><pre>SVC(gamma=1, probability=True)</pre></div></div></div></div></div>"
     },
     "execution_count": 37,
     "metadata": {},
     "output_type": "execute_result"
    }
   ],
   "source": [
    "svm_predict"
   ],
   "metadata": {
    "collapsed": false,
    "pycharm": {
     "name": "#%%\n"
    }
   }
  },
  {
   "cell_type": "code",
   "execution_count": null,
   "outputs": [],
   "source": [],
   "metadata": {
    "collapsed": false,
    "pycharm": {
     "name": "#%%\n"
    }
   }
  },
  {
   "cell_type": "code",
   "execution_count": 54,
   "outputs": [
    {
     "ename": "ValueError",
     "evalue": "array length 2372 does not match index length 7905",
     "output_type": "error",
     "traceback": [
      "\u001B[1;31m---------------------------------------------------------------------------\u001B[0m",
      "\u001B[1;31mValueError\u001B[0m                                Traceback (most recent call last)",
      "\u001B[1;32m~\\AppData\\Local\\Temp/ipykernel_27764/156568444.py\u001B[0m in \u001B[0;36m<module>\u001B[1;34m\u001B[0m\n\u001B[1;32m----> 1\u001B[1;33m submission = pd.DataFrame({\n\u001B[0m\u001B[0;32m      2\u001B[0m        \u001B[1;34m\"PassengerId\"\u001B[0m\u001B[1;33m:\u001B[0m \u001B[0my_test_title\u001B[0m\u001B[1;33m,\u001B[0m\u001B[1;33m\u001B[0m\u001B[1;33m\u001B[0m\u001B[0m\n\u001B[0;32m      3\u001B[0m        \u001B[1;34m\"svm\"\u001B[0m\u001B[1;33m:\u001B[0m \u001B[0msvm_predict\u001B[0m\u001B[1;33m,\u001B[0m\u001B[1;33m\u001B[0m\u001B[1;33m\u001B[0m\u001B[0m\n\u001B[0;32m      4\u001B[0m     \u001B[1;34m\"dfadf\"\u001B[0m\u001B[1;33m:\u001B[0m\u001B[0mx_test_title\u001B[0m\u001B[1;33m,\u001B[0m\u001B[1;33m\u001B[0m\u001B[1;33m\u001B[0m\u001B[0m\n\u001B[0;32m      5\u001B[0m     \u001B[1;34m\"sad\"\u001B[0m\u001B[1;33m:\u001B[0m\u001B[0msum\u001B[0m\u001B[1;33m[\u001B[0m\u001B[1;34m'날짜'\u001B[0m\u001B[1;33m]\u001B[0m\u001B[1;33m\u001B[0m\u001B[1;33m\u001B[0m\u001B[0m\n",
      "\u001B[1;32m~\\anaconda3\\lib\\site-packages\\pandas\\core\\frame.py\u001B[0m in \u001B[0;36m__init__\u001B[1;34m(self, data, index, columns, dtype, copy)\u001B[0m\n\u001B[0;32m    612\u001B[0m         \u001B[1;32melif\u001B[0m \u001B[0misinstance\u001B[0m\u001B[1;33m(\u001B[0m\u001B[0mdata\u001B[0m\u001B[1;33m,\u001B[0m \u001B[0mdict\u001B[0m\u001B[1;33m)\u001B[0m\u001B[1;33m:\u001B[0m\u001B[1;33m\u001B[0m\u001B[1;33m\u001B[0m\u001B[0m\n\u001B[0;32m    613\u001B[0m             \u001B[1;31m# GH#38939 de facto copy defaults to False only in non-dict cases\u001B[0m\u001B[1;33m\u001B[0m\u001B[1;33m\u001B[0m\u001B[0m\n\u001B[1;32m--> 614\u001B[1;33m             \u001B[0mmgr\u001B[0m \u001B[1;33m=\u001B[0m \u001B[0mdict_to_mgr\u001B[0m\u001B[1;33m(\u001B[0m\u001B[0mdata\u001B[0m\u001B[1;33m,\u001B[0m \u001B[0mindex\u001B[0m\u001B[1;33m,\u001B[0m \u001B[0mcolumns\u001B[0m\u001B[1;33m,\u001B[0m \u001B[0mdtype\u001B[0m\u001B[1;33m=\u001B[0m\u001B[0mdtype\u001B[0m\u001B[1;33m,\u001B[0m \u001B[0mcopy\u001B[0m\u001B[1;33m=\u001B[0m\u001B[0mcopy\u001B[0m\u001B[1;33m,\u001B[0m \u001B[0mtyp\u001B[0m\u001B[1;33m=\u001B[0m\u001B[0mmanager\u001B[0m\u001B[1;33m)\u001B[0m\u001B[1;33m\u001B[0m\u001B[1;33m\u001B[0m\u001B[0m\n\u001B[0m\u001B[0;32m    615\u001B[0m         \u001B[1;32melif\u001B[0m \u001B[0misinstance\u001B[0m\u001B[1;33m(\u001B[0m\u001B[0mdata\u001B[0m\u001B[1;33m,\u001B[0m \u001B[0mma\u001B[0m\u001B[1;33m.\u001B[0m\u001B[0mMaskedArray\u001B[0m\u001B[1;33m)\u001B[0m\u001B[1;33m:\u001B[0m\u001B[1;33m\u001B[0m\u001B[1;33m\u001B[0m\u001B[0m\n\u001B[0;32m    616\u001B[0m             \u001B[1;32mimport\u001B[0m \u001B[0mnumpy\u001B[0m\u001B[1;33m.\u001B[0m\u001B[0mma\u001B[0m\u001B[1;33m.\u001B[0m\u001B[0mmrecords\u001B[0m \u001B[1;32mas\u001B[0m \u001B[0mmrecords\u001B[0m\u001B[1;33m\u001B[0m\u001B[1;33m\u001B[0m\u001B[0m\n",
      "\u001B[1;32m~\\anaconda3\\lib\\site-packages\\pandas\\core\\internals\\construction.py\u001B[0m in \u001B[0;36mdict_to_mgr\u001B[1;34m(data, index, columns, dtype, typ, copy)\u001B[0m\n\u001B[0;32m    462\u001B[0m         \u001B[1;31m# TODO: can we get rid of the dt64tz special case above?\u001B[0m\u001B[1;33m\u001B[0m\u001B[1;33m\u001B[0m\u001B[0m\n\u001B[0;32m    463\u001B[0m \u001B[1;33m\u001B[0m\u001B[0m\n\u001B[1;32m--> 464\u001B[1;33m     return arrays_to_mgr(\n\u001B[0m\u001B[0;32m    465\u001B[0m         \u001B[0marrays\u001B[0m\u001B[1;33m,\u001B[0m \u001B[0mdata_names\u001B[0m\u001B[1;33m,\u001B[0m \u001B[0mindex\u001B[0m\u001B[1;33m,\u001B[0m \u001B[0mcolumns\u001B[0m\u001B[1;33m,\u001B[0m \u001B[0mdtype\u001B[0m\u001B[1;33m=\u001B[0m\u001B[0mdtype\u001B[0m\u001B[1;33m,\u001B[0m \u001B[0mtyp\u001B[0m\u001B[1;33m=\u001B[0m\u001B[0mtyp\u001B[0m\u001B[1;33m,\u001B[0m \u001B[0mconsolidate\u001B[0m\u001B[1;33m=\u001B[0m\u001B[0mcopy\u001B[0m\u001B[1;33m\u001B[0m\u001B[1;33m\u001B[0m\u001B[0m\n\u001B[0;32m    466\u001B[0m     )\n",
      "\u001B[1;32m~\\anaconda3\\lib\\site-packages\\pandas\\core\\internals\\construction.py\u001B[0m in \u001B[0;36marrays_to_mgr\u001B[1;34m(arrays, arr_names, index, columns, dtype, verify_integrity, typ, consolidate)\u001B[0m\n\u001B[0;32m    117\u001B[0m         \u001B[1;31m# figure out the index, if necessary\u001B[0m\u001B[1;33m\u001B[0m\u001B[1;33m\u001B[0m\u001B[0m\n\u001B[0;32m    118\u001B[0m         \u001B[1;32mif\u001B[0m \u001B[0mindex\u001B[0m \u001B[1;32mis\u001B[0m \u001B[1;32mNone\u001B[0m\u001B[1;33m:\u001B[0m\u001B[1;33m\u001B[0m\u001B[1;33m\u001B[0m\u001B[0m\n\u001B[1;32m--> 119\u001B[1;33m             \u001B[0mindex\u001B[0m \u001B[1;33m=\u001B[0m \u001B[0m_extract_index\u001B[0m\u001B[1;33m(\u001B[0m\u001B[0marrays\u001B[0m\u001B[1;33m)\u001B[0m\u001B[1;33m\u001B[0m\u001B[1;33m\u001B[0m\u001B[0m\n\u001B[0m\u001B[0;32m    120\u001B[0m         \u001B[1;32melse\u001B[0m\u001B[1;33m:\u001B[0m\u001B[1;33m\u001B[0m\u001B[1;33m\u001B[0m\u001B[0m\n\u001B[0;32m    121\u001B[0m             \u001B[0mindex\u001B[0m \u001B[1;33m=\u001B[0m \u001B[0mensure_index\u001B[0m\u001B[1;33m(\u001B[0m\u001B[0mindex\u001B[0m\u001B[1;33m)\u001B[0m\u001B[1;33m\u001B[0m\u001B[1;33m\u001B[0m\u001B[0m\n",
      "\u001B[1;32m~\\anaconda3\\lib\\site-packages\\pandas\\core\\internals\\construction.py\u001B[0m in \u001B[0;36m_extract_index\u001B[1;34m(data)\u001B[0m\n\u001B[0;32m    647\u001B[0m                         \u001B[1;34mf\"length {len(index)}\"\u001B[0m\u001B[1;33m\u001B[0m\u001B[1;33m\u001B[0m\u001B[0m\n\u001B[0;32m    648\u001B[0m                     )\n\u001B[1;32m--> 649\u001B[1;33m                     \u001B[1;32mraise\u001B[0m \u001B[0mValueError\u001B[0m\u001B[1;33m(\u001B[0m\u001B[0mmsg\u001B[0m\u001B[1;33m)\u001B[0m\u001B[1;33m\u001B[0m\u001B[1;33m\u001B[0m\u001B[0m\n\u001B[0m\u001B[0;32m    650\u001B[0m             \u001B[1;32melse\u001B[0m\u001B[1;33m:\u001B[0m\u001B[1;33m\u001B[0m\u001B[1;33m\u001B[0m\u001B[0m\n\u001B[0;32m    651\u001B[0m                 \u001B[0mindex\u001B[0m \u001B[1;33m=\u001B[0m \u001B[0mibase\u001B[0m\u001B[1;33m.\u001B[0m\u001B[0mdefault_index\u001B[0m\u001B[1;33m(\u001B[0m\u001B[0mlengths\u001B[0m\u001B[1;33m[\u001B[0m\u001B[1;36m0\u001B[0m\u001B[1;33m]\u001B[0m\u001B[1;33m)\u001B[0m\u001B[1;33m\u001B[0m\u001B[1;33m\u001B[0m\u001B[0m\n",
      "\u001B[1;31mValueError\u001B[0m: array length 2372 does not match index length 7905"
     ]
    }
   ],
   "source": [
    "submission = pd.DataFrame({\n",
    "       \"PassengerId\": y_test_title,\n",
    "       \"svm\": svm_predict,\n",
    "    \"dfadf\":x_test_title,\n",
    "    \"sad\":sum['날짜']\n",
    "   })"
   ],
   "metadata": {
    "collapsed": false,
    "pycharm": {
     "name": "#%%\n"
    }
   }
  },
  {
   "cell_type": "code",
   "execution_count": 53,
   "outputs": [
    {
     "data": {
      "text/plain": "      PassengerId  svm                                              dfadf\n2241            0    0                           많이 떨어진삼성물산·기아…보텀피싱 언제쯤? \n4250            1    1         [특징주]SK하이닉스, 6%대 급등…\"단기저점 근접, 목표가 상향\"(종합) \n4006            1    1    [조간브리핑] IT 업계 ‘초봉 5000만 원’ 시대…SK하이닉스, 임금 8% 인상 \n625             1    1            삼성전자, 올해만 시총 20% 줄었는데…반도체 불황 우려는 이제 시작 \n6250            0    1                   LG디스플레이주가 올라, 접는 올레드 기술력에 높은 평가 \n...           ...  ...                                                ...\n7048            1    1       [베타 투자리포트] 윈텍, 'MLCC 업황 호조 -디스플레이투자 재개' 수혜주 \n1148            1    1  삼성SDI, 2019년 01월 08일 기준 전일대비 +0.69% 변동된 218,50...\n1522            0    1                  삼성전자 18일, 현대차 19일…이번주 314개社 정기주총 \n1061            1    1               [SR공정운영]삼성준법위, 7개 관계사 최고경영진과 간담회 진행 \n1125            0    0   [이상로의 새빨간투자] 수익 7% 도전! 궁금한 이 종목 '삼성SDI, KB금융' 外 \n\n[2372 rows x 3 columns]",
      "text/html": "<div>\n<style scoped>\n    .dataframe tbody tr th:only-of-type {\n        vertical-align: middle;\n    }\n\n    .dataframe tbody tr th {\n        vertical-align: top;\n    }\n\n    .dataframe thead th {\n        text-align: right;\n    }\n</style>\n<table border=\"1\" class=\"dataframe\">\n  <thead>\n    <tr style=\"text-align: right;\">\n      <th></th>\n      <th>PassengerId</th>\n      <th>svm</th>\n      <th>dfadf</th>\n    </tr>\n  </thead>\n  <tbody>\n    <tr>\n      <th>2241</th>\n      <td>0</td>\n      <td>0</td>\n      <td>많이 떨어진삼성물산·기아…보텀피싱 언제쯤?</td>\n    </tr>\n    <tr>\n      <th>4250</th>\n      <td>1</td>\n      <td>1</td>\n      <td>[특징주]SK하이닉스, 6%대 급등…\"단기저점 근접, 목표가 상향\"(종합)</td>\n    </tr>\n    <tr>\n      <th>4006</th>\n      <td>1</td>\n      <td>1</td>\n      <td>[조간브리핑] IT 업계 ‘초봉 5000만 원’ 시대…SK하이닉스, 임금 8% 인상</td>\n    </tr>\n    <tr>\n      <th>625</th>\n      <td>1</td>\n      <td>1</td>\n      <td>삼성전자, 올해만 시총 20% 줄었는데…반도체 불황 우려는 이제 시작</td>\n    </tr>\n    <tr>\n      <th>6250</th>\n      <td>0</td>\n      <td>1</td>\n      <td>LG디스플레이주가 올라, 접는 올레드 기술력에 높은 평가</td>\n    </tr>\n    <tr>\n      <th>...</th>\n      <td>...</td>\n      <td>...</td>\n      <td>...</td>\n    </tr>\n    <tr>\n      <th>7048</th>\n      <td>1</td>\n      <td>1</td>\n      <td>[베타 투자리포트] 윈텍, 'MLCC 업황 호조 -디스플레이투자 재개' 수혜주</td>\n    </tr>\n    <tr>\n      <th>1148</th>\n      <td>1</td>\n      <td>1</td>\n      <td>삼성SDI, 2019년 01월 08일 기준 전일대비 +0.69% 변동된 218,50...</td>\n    </tr>\n    <tr>\n      <th>1522</th>\n      <td>0</td>\n      <td>1</td>\n      <td>삼성전자 18일, 현대차 19일…이번주 314개社 정기주총</td>\n    </tr>\n    <tr>\n      <th>1061</th>\n      <td>1</td>\n      <td>1</td>\n      <td>[SR공정운영]삼성준법위, 7개 관계사 최고경영진과 간담회 진행</td>\n    </tr>\n    <tr>\n      <th>1125</th>\n      <td>0</td>\n      <td>0</td>\n      <td>[이상로의 새빨간투자] 수익 7% 도전! 궁금한 이 종목 '삼성SDI, KB금융' 外</td>\n    </tr>\n  </tbody>\n</table>\n<p>2372 rows × 3 columns</p>\n</div>"
     },
     "execution_count": 53,
     "metadata": {},
     "output_type": "execute_result"
    }
   ],
   "source": [
    "submission"
   ],
   "metadata": {
    "collapsed": false,
    "pycharm": {
     "name": "#%%\n"
    }
   }
  },
  {
   "cell_type": "code",
   "execution_count": 34,
   "outputs": [],
   "source": [
    "votingC = VotingClassifier(estimators=[('rfc', RFC_best),\n",
    "('svc', SVMC_best),('gbc',GBC_best)], voting='soft', n_jobs=4)\n",
    "\n",
    "votingC = votingC.fit(x_train_main, y_train_main)"
   ],
   "metadata": {
    "collapsed": false,
    "pycharm": {
     "name": "#%%\n"
    }
   }
  },
  {
   "cell_type": "code",
   "execution_count": 35,
   "outputs": [
    {
     "name": "stdout",
     "output_type": "stream",
     "text": [
      "0.9331046312178388\n"
     ]
    }
   ],
   "source": [
    "print(votingC.score(x_train_main, y_train_main))"
   ],
   "metadata": {
    "collapsed": false,
    "pycharm": {
     "name": "#%%\n"
    }
   }
  },
  {
   "cell_type": "code",
   "execution_count": 36,
   "outputs": [
    {
     "name": "stdout",
     "output_type": "stream",
     "text": [
      "0.7131474103585658\n"
     ]
    }
   ],
   "source": [
    "print(votingC.score(x_test_main, y_test_main))"
   ],
   "metadata": {
    "collapsed": false,
    "pycharm": {
     "name": "#%%\n"
    }
   }
  }
 ],
 "metadata": {
  "kernelspec": {
   "display_name": "Python 3",
   "language": "python",
   "name": "python3"
  },
  "language_info": {
   "codemirror_mode": {
    "name": "ipython",
    "version": 2
   },
   "file_extension": ".py",
   "mimetype": "text/x-python",
   "name": "python",
   "nbconvert_exporter": "python",
   "pygments_lexer": "ipython2",
   "version": "2.7.6"
  }
 },
 "nbformat": 4,
 "nbformat_minor": 0
}