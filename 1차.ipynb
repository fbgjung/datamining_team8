{
 "cells": [
  {
   "cell_type": "code",
   "execution_count": 1,
   "metadata": {
    "collapsed": true,
    "pycharm": {
     "name": "#%%\n"
    }
   },
   "outputs": [],
   "source": [
    "import pandas as pd\n",
    "from afinn import Afinn\n",
    "from nltk.corpus import stopwords\n",
    "import numpy as np\n",
    "from sklearn.feature_extraction.text import TfidfVectorizer\n",
    "from sklearn.model_selection import train_test_split"
   ]
  },
  {
   "cell_type": "code",
   "execution_count": 2,
   "outputs": [],
   "source": [
    "title = pd.read_csv(\"C:/Users/msi/PycharmProjects/stock_title.csv\", engine='python', encoding = \"utf-8\")"
   ],
   "metadata": {
    "collapsed": false,
    "pycharm": {
     "name": "#%%\n"
    }
   }
  },
  {
   "cell_type": "code",
   "execution_count": 3,
   "outputs": [
    {
     "data": {
      "text/plain": "          회사명        날짜   등락률  \\\n0        삼성전자  20190103 -3.06   \n1        삼성전자  20190103 -3.06   \n2        삼성전자  20190103 -3.06   \n3        삼성전자  20190103 -3.06   \n4        삼성전자  20190103 -3.06   \n...       ...       ...   ...   \n7900  LG디스플레이  20221216 -3.73   \n7901  LG디스플레이  20221216 -3.73   \n7902  LG디스플레이  20221216 -3.73   \n7903  LG디스플레이  20221216 -3.73   \n7904  LG디스플레이  20221216 -3.73   \n\n                                                뉴스 타이틀  \n0                                 삼성전자, 기술전문가 名匠제도 신설   \n1                     삼성전자, 기술 전문가 육성 위한 '삼성명장' 제도 신설   \n2                                        2019년삼성전자시무식   \n3                          삼성전자\"초일류, 초격차 100년 기업 만들자\"   \n4                  삼성전자김기남 부회장 “초일류·초격차 100년 기업 도약하자”   \n...                                                ...  \n7900                    삼성, 애증의 ‘QD-OLED TV’ 내년 국내 출시   \n7901                          [재송]14일 장 마감 후 주요 종목 뉴스   \n7902  [내 종목을 부탁해] 복잡한 계좌 해결 방법은? <두산에너빌리티>, <대원제약>...   \n7903         삼성전자 여유자금 10.7조→3.9조, SK하이닉스 3.5조→―8500억   \n7904           삼성 500억, SK·LG120억씩…재계, 연말 성금 800억원 돌파   \n\n[7905 rows x 4 columns]",
      "text/html": "<div>\n<style scoped>\n    .dataframe tbody tr th:only-of-type {\n        vertical-align: middle;\n    }\n\n    .dataframe tbody tr th {\n        vertical-align: top;\n    }\n\n    .dataframe thead th {\n        text-align: right;\n    }\n</style>\n<table border=\"1\" class=\"dataframe\">\n  <thead>\n    <tr style=\"text-align: right;\">\n      <th></th>\n      <th>회사명</th>\n      <th>날짜</th>\n      <th>등락률</th>\n      <th>뉴스 타이틀</th>\n    </tr>\n  </thead>\n  <tbody>\n    <tr>\n      <th>0</th>\n      <td>삼성전자</td>\n      <td>20190103</td>\n      <td>-3.06</td>\n      <td>삼성전자, 기술전문가 名匠제도 신설</td>\n    </tr>\n    <tr>\n      <th>1</th>\n      <td>삼성전자</td>\n      <td>20190103</td>\n      <td>-3.06</td>\n      <td>삼성전자, 기술 전문가 육성 위한 '삼성명장' 제도 신설</td>\n    </tr>\n    <tr>\n      <th>2</th>\n      <td>삼성전자</td>\n      <td>20190103</td>\n      <td>-3.06</td>\n      <td>2019년삼성전자시무식</td>\n    </tr>\n    <tr>\n      <th>3</th>\n      <td>삼성전자</td>\n      <td>20190103</td>\n      <td>-3.06</td>\n      <td>삼성전자\"초일류, 초격차 100년 기업 만들자\"</td>\n    </tr>\n    <tr>\n      <th>4</th>\n      <td>삼성전자</td>\n      <td>20190103</td>\n      <td>-3.06</td>\n      <td>삼성전자김기남 부회장 “초일류·초격차 100년 기업 도약하자”</td>\n    </tr>\n    <tr>\n      <th>...</th>\n      <td>...</td>\n      <td>...</td>\n      <td>...</td>\n      <td>...</td>\n    </tr>\n    <tr>\n      <th>7900</th>\n      <td>LG디스플레이</td>\n      <td>20221216</td>\n      <td>-3.73</td>\n      <td>삼성, 애증의 ‘QD-OLED TV’ 내년 국내 출시</td>\n    </tr>\n    <tr>\n      <th>7901</th>\n      <td>LG디스플레이</td>\n      <td>20221216</td>\n      <td>-3.73</td>\n      <td>[재송]14일 장 마감 후 주요 종목 뉴스</td>\n    </tr>\n    <tr>\n      <th>7902</th>\n      <td>LG디스플레이</td>\n      <td>20221216</td>\n      <td>-3.73</td>\n      <td>[내 종목을 부탁해] 복잡한 계좌 해결 방법은? &lt;두산에너빌리티&gt;, &lt;대원제약&gt;...</td>\n    </tr>\n    <tr>\n      <th>7903</th>\n      <td>LG디스플레이</td>\n      <td>20221216</td>\n      <td>-3.73</td>\n      <td>삼성전자 여유자금 10.7조→3.9조, SK하이닉스 3.5조→―8500억</td>\n    </tr>\n    <tr>\n      <th>7904</th>\n      <td>LG디스플레이</td>\n      <td>20221216</td>\n      <td>-3.73</td>\n      <td>삼성 500억, SK·LG120억씩…재계, 연말 성금 800억원 돌파</td>\n    </tr>\n  </tbody>\n</table>\n<p>7905 rows × 4 columns</p>\n</div>"
     },
     "execution_count": 3,
     "metadata": {},
     "output_type": "execute_result"
    }
   ],
   "source": [
    "title"
   ],
   "metadata": {
    "collapsed": false,
    "pycharm": {
     "name": "#%%\n"
    }
   }
  },
  {
   "cell_type": "code",
   "execution_count": 4,
   "outputs": [],
   "source": [
    "def classify_size(size):\n",
    "    if size >= 0:\n",
    "        return 1\n",
    "    else:\n",
    "        return 0"
   ],
   "metadata": {
    "collapsed": false,
    "pycharm": {
     "name": "#%%\n"
    }
   }
  },
  {
   "cell_type": "code",
   "execution_count": 5,
   "outputs": [],
   "source": [
    "title['Either'] = title['등락률'].apply(classify_size)"
   ],
   "metadata": {
    "collapsed": false,
    "pycharm": {
     "name": "#%%\n"
    }
   }
  },
  {
   "cell_type": "code",
   "execution_count": 6,
   "outputs": [
    {
     "data": {
      "text/plain": "          회사명        날짜   등락률  \\\n0        삼성전자  20190103 -3.06   \n1        삼성전자  20190103 -3.06   \n2        삼성전자  20190103 -3.06   \n3        삼성전자  20190103 -3.06   \n4        삼성전자  20190103 -3.06   \n...       ...       ...   ...   \n7900  LG디스플레이  20221216 -3.73   \n7901  LG디스플레이  20221216 -3.73   \n7902  LG디스플레이  20221216 -3.73   \n7903  LG디스플레이  20221216 -3.73   \n7904  LG디스플레이  20221216 -3.73   \n\n                                                뉴스 타이틀  Either  \n0                                 삼성전자, 기술전문가 名匠제도 신설        0  \n1                     삼성전자, 기술 전문가 육성 위한 '삼성명장' 제도 신설        0  \n2                                        2019년삼성전자시무식        0  \n3                          삼성전자\"초일류, 초격차 100년 기업 만들자\"        0  \n4                  삼성전자김기남 부회장 “초일류·초격차 100년 기업 도약하자”        0  \n...                                                ...     ...  \n7900                    삼성, 애증의 ‘QD-OLED TV’ 내년 국내 출시        0  \n7901                          [재송]14일 장 마감 후 주요 종목 뉴스        0  \n7902  [내 종목을 부탁해] 복잡한 계좌 해결 방법은? <두산에너빌리티>, <대원제약>...        0  \n7903         삼성전자 여유자금 10.7조→3.9조, SK하이닉스 3.5조→―8500억        0  \n7904           삼성 500억, SK·LG120억씩…재계, 연말 성금 800억원 돌파        0  \n\n[7905 rows x 5 columns]",
      "text/html": "<div>\n<style scoped>\n    .dataframe tbody tr th:only-of-type {\n        vertical-align: middle;\n    }\n\n    .dataframe tbody tr th {\n        vertical-align: top;\n    }\n\n    .dataframe thead th {\n        text-align: right;\n    }\n</style>\n<table border=\"1\" class=\"dataframe\">\n  <thead>\n    <tr style=\"text-align: right;\">\n      <th></th>\n      <th>회사명</th>\n      <th>날짜</th>\n      <th>등락률</th>\n      <th>뉴스 타이틀</th>\n      <th>Either</th>\n    </tr>\n  </thead>\n  <tbody>\n    <tr>\n      <th>0</th>\n      <td>삼성전자</td>\n      <td>20190103</td>\n      <td>-3.06</td>\n      <td>삼성전자, 기술전문가 名匠제도 신설</td>\n      <td>0</td>\n    </tr>\n    <tr>\n      <th>1</th>\n      <td>삼성전자</td>\n      <td>20190103</td>\n      <td>-3.06</td>\n      <td>삼성전자, 기술 전문가 육성 위한 '삼성명장' 제도 신설</td>\n      <td>0</td>\n    </tr>\n    <tr>\n      <th>2</th>\n      <td>삼성전자</td>\n      <td>20190103</td>\n      <td>-3.06</td>\n      <td>2019년삼성전자시무식</td>\n      <td>0</td>\n    </tr>\n    <tr>\n      <th>3</th>\n      <td>삼성전자</td>\n      <td>20190103</td>\n      <td>-3.06</td>\n      <td>삼성전자\"초일류, 초격차 100년 기업 만들자\"</td>\n      <td>0</td>\n    </tr>\n    <tr>\n      <th>4</th>\n      <td>삼성전자</td>\n      <td>20190103</td>\n      <td>-3.06</td>\n      <td>삼성전자김기남 부회장 “초일류·초격차 100년 기업 도약하자”</td>\n      <td>0</td>\n    </tr>\n    <tr>\n      <th>...</th>\n      <td>...</td>\n      <td>...</td>\n      <td>...</td>\n      <td>...</td>\n      <td>...</td>\n    </tr>\n    <tr>\n      <th>7900</th>\n      <td>LG디스플레이</td>\n      <td>20221216</td>\n      <td>-3.73</td>\n      <td>삼성, 애증의 ‘QD-OLED TV’ 내년 국내 출시</td>\n      <td>0</td>\n    </tr>\n    <tr>\n      <th>7901</th>\n      <td>LG디스플레이</td>\n      <td>20221216</td>\n      <td>-3.73</td>\n      <td>[재송]14일 장 마감 후 주요 종목 뉴스</td>\n      <td>0</td>\n    </tr>\n    <tr>\n      <th>7902</th>\n      <td>LG디스플레이</td>\n      <td>20221216</td>\n      <td>-3.73</td>\n      <td>[내 종목을 부탁해] 복잡한 계좌 해결 방법은? &lt;두산에너빌리티&gt;, &lt;대원제약&gt;...</td>\n      <td>0</td>\n    </tr>\n    <tr>\n      <th>7903</th>\n      <td>LG디스플레이</td>\n      <td>20221216</td>\n      <td>-3.73</td>\n      <td>삼성전자 여유자금 10.7조→3.9조, SK하이닉스 3.5조→―8500억</td>\n      <td>0</td>\n    </tr>\n    <tr>\n      <th>7904</th>\n      <td>LG디스플레이</td>\n      <td>20221216</td>\n      <td>-3.73</td>\n      <td>삼성 500억, SK·LG120억씩…재계, 연말 성금 800억원 돌파</td>\n      <td>0</td>\n    </tr>\n  </tbody>\n</table>\n<p>7905 rows × 5 columns</p>\n</div>"
     },
     "execution_count": 6,
     "metadata": {},
     "output_type": "execute_result"
    }
   ],
   "source": [
    "title"
   ],
   "metadata": {
    "collapsed": false,
    "pycharm": {
     "name": "#%%\n"
    }
   }
  },
  {
   "cell_type": "code",
   "execution_count": 7,
   "outputs": [
    {
     "data": {
      "text/plain": "          회사명        날짜                                            뉴스 타이틀  \\\n0        삼성전자  20190103                              삼성전자, 기술전문가 名匠제도 신설    \n1        삼성전자  20190103                  삼성전자, 기술 전문가 육성 위한 '삼성명장' 제도 신설    \n2        삼성전자  20190103                                     2019년삼성전자시무식    \n3        삼성전자  20190103                       삼성전자\"초일류, 초격차 100년 기업 만들자\"    \n4        삼성전자  20190103               삼성전자김기남 부회장 “초일류·초격차 100년 기업 도약하자”    \n...       ...       ...                                               ...   \n7900  LG디스플레이  20221216                    삼성, 애증의 ‘QD-OLED TV’ 내년 국내 출시    \n7901  LG디스플레이  20221216                          [재송]14일 장 마감 후 주요 종목 뉴스    \n7902  LG디스플레이  20221216  [내 종목을 부탁해] 복잡한 계좌 해결 방법은? <두산에너빌리티>, <대원제약>...    \n7903  LG디스플레이  20221216         삼성전자 여유자금 10.7조→3.9조, SK하이닉스 3.5조→―8500억    \n7904  LG디스플레이  20221216           삼성 500억, SK·LG120억씩…재계, 연말 성금 800억원 돌파    \n\n      Either  \n0          0  \n1          0  \n2          0  \n3          0  \n4          0  \n...      ...  \n7900       0  \n7901       0  \n7902       0  \n7903       0  \n7904       0  \n\n[7905 rows x 4 columns]",
      "text/html": "<div>\n<style scoped>\n    .dataframe tbody tr th:only-of-type {\n        vertical-align: middle;\n    }\n\n    .dataframe tbody tr th {\n        vertical-align: top;\n    }\n\n    .dataframe thead th {\n        text-align: right;\n    }\n</style>\n<table border=\"1\" class=\"dataframe\">\n  <thead>\n    <tr style=\"text-align: right;\">\n      <th></th>\n      <th>회사명</th>\n      <th>날짜</th>\n      <th>뉴스 타이틀</th>\n      <th>Either</th>\n    </tr>\n  </thead>\n  <tbody>\n    <tr>\n      <th>0</th>\n      <td>삼성전자</td>\n      <td>20190103</td>\n      <td>삼성전자, 기술전문가 名匠제도 신설</td>\n      <td>0</td>\n    </tr>\n    <tr>\n      <th>1</th>\n      <td>삼성전자</td>\n      <td>20190103</td>\n      <td>삼성전자, 기술 전문가 육성 위한 '삼성명장' 제도 신설</td>\n      <td>0</td>\n    </tr>\n    <tr>\n      <th>2</th>\n      <td>삼성전자</td>\n      <td>20190103</td>\n      <td>2019년삼성전자시무식</td>\n      <td>0</td>\n    </tr>\n    <tr>\n      <th>3</th>\n      <td>삼성전자</td>\n      <td>20190103</td>\n      <td>삼성전자\"초일류, 초격차 100년 기업 만들자\"</td>\n      <td>0</td>\n    </tr>\n    <tr>\n      <th>4</th>\n      <td>삼성전자</td>\n      <td>20190103</td>\n      <td>삼성전자김기남 부회장 “초일류·초격차 100년 기업 도약하자”</td>\n      <td>0</td>\n    </tr>\n    <tr>\n      <th>...</th>\n      <td>...</td>\n      <td>...</td>\n      <td>...</td>\n      <td>...</td>\n    </tr>\n    <tr>\n      <th>7900</th>\n      <td>LG디스플레이</td>\n      <td>20221216</td>\n      <td>삼성, 애증의 ‘QD-OLED TV’ 내년 국내 출시</td>\n      <td>0</td>\n    </tr>\n    <tr>\n      <th>7901</th>\n      <td>LG디스플레이</td>\n      <td>20221216</td>\n      <td>[재송]14일 장 마감 후 주요 종목 뉴스</td>\n      <td>0</td>\n    </tr>\n    <tr>\n      <th>7902</th>\n      <td>LG디스플레이</td>\n      <td>20221216</td>\n      <td>[내 종목을 부탁해] 복잡한 계좌 해결 방법은? &lt;두산에너빌리티&gt;, &lt;대원제약&gt;...</td>\n      <td>0</td>\n    </tr>\n    <tr>\n      <th>7903</th>\n      <td>LG디스플레이</td>\n      <td>20221216</td>\n      <td>삼성전자 여유자금 10.7조→3.9조, SK하이닉스 3.5조→―8500억</td>\n      <td>0</td>\n    </tr>\n    <tr>\n      <th>7904</th>\n      <td>LG디스플레이</td>\n      <td>20221216</td>\n      <td>삼성 500억, SK·LG120억씩…재계, 연말 성금 800억원 돌파</td>\n      <td>0</td>\n    </tr>\n  </tbody>\n</table>\n<p>7905 rows × 4 columns</p>\n</div>"
     },
     "execution_count": 7,
     "metadata": {},
     "output_type": "execute_result"
    }
   ],
   "source": [
    "title.drop('등락률', axis=1)"
   ],
   "metadata": {
    "collapsed": false,
    "pycharm": {
     "name": "#%%\n"
    }
   }
  },
  {
   "cell_type": "code",
   "execution_count": 8,
   "outputs": [],
   "source": [
    "title.rename(columns = {'뉴스 타이틀':'title'},inplace=True)"
   ],
   "metadata": {
    "collapsed": false,
    "pycharm": {
     "name": "#%%\n"
    }
   }
  },
  {
   "cell_type": "code",
   "execution_count": 9,
   "outputs": [],
   "source": [
    "x = title['title']\n",
    "y = title['Either']\n",
    "\n",
    "x_train, x_test, y_train, y_test = train_test_split(x, y,\n",
    "                                                    stratify=y,\n",
    "                                                    test_size=0.2)"
   ],
   "metadata": {
    "collapsed": false,
    "pycharm": {
     "name": "#%%\n"
    }
   }
  },
  {
   "cell_type": "code",
   "execution_count": 10,
   "outputs": [
    {
     "name": "stdout",
     "output_type": "stream",
     "text": [
      "(6324,) (1581,)\n"
     ]
    },
    {
     "data": {
      "text/plain": "(array([0, 1], dtype=int64), array([3047, 3277], dtype=int64))"
     },
     "execution_count": 10,
     "metadata": {},
     "output_type": "execute_result"
    }
   ],
   "source": [
    "print(x_train.shape, x_test.shape) # 훈련세트, 테스트세트 비율 확인\n",
    "np.unique(y_train, return_counts=True) # 훈련세트의 타깃(라벨) 확인"
   ],
   "metadata": {
    "collapsed": false,
    "pycharm": {
     "name": "#%%\n"
    }
   }
  },
  {
   "cell_type": "code",
   "execution_count": 12,
   "outputs": [
    {
     "data": {
      "text/plain": "<6324x14315 sparse matrix of type '<class 'numpy.float64'>'\n\twith 44576 stored elements in Compressed Sparse Row format>"
     },
     "execution_count": 12,
     "metadata": {},
     "output_type": "execute_result"
    }
   ],
   "source": [
    "vect = TfidfVectorizer().fit(x_train)\n",
    "x_train_vectorized = vect.transform(x_train)\n",
    "\n",
    "x_train_vectorized"
   ],
   "metadata": {
    "collapsed": false,
    "pycharm": {
     "name": "#%%\n"
    }
   }
  },
  {
   "cell_type": "code",
   "execution_count": 13,
   "outputs": [
    {
     "name": "stdout",
     "output_type": "stream",
     "text": [
      "0.9078115117014548\n"
     ]
    }
   ],
   "source": [
    "from sklearn.linear_model import LogisticRegression, SGDClassifier\n",
    "\n",
    "model = LogisticRegression()\n",
    "model.fit(x_train_vectorized, y_train)\n",
    "print(model.score(x_train_vectorized, y_train))"
   ],
   "metadata": {
    "collapsed": false,
    "pycharm": {
     "name": "#%%\n"
    }
   }
  },
  {
   "cell_type": "code",
   "execution_count": 14,
   "outputs": [
    {
     "name": "stdout",
     "output_type": "stream",
     "text": [
      "0.5958254269449715\n"
     ]
    }
   ],
   "source": [
    "print(model.score(vect.transform(x_test), y_test))"
   ],
   "metadata": {
    "collapsed": false,
    "pycharm": {
     "name": "#%%\n"
    }
   }
  },
  {
   "cell_type": "code",
   "execution_count": 15,
   "outputs": [
    {
     "name": "stdout",
     "output_type": "stream",
     "text": [
      "0.9078115117014548\n"
     ]
    }
   ],
   "source": [
    "from sklearn.tree import DecisionTreeClassifier\n",
    "clf = DecisionTreeClassifier()\n",
    "model.fit(x_train_vectorized, y_train)\n",
    "print(model.score(x_train_vectorized, y_train))"
   ],
   "metadata": {
    "collapsed": false,
    "pycharm": {
     "name": "#%%\n"
    }
   }
  },
  {
   "cell_type": "code",
   "execution_count": 16,
   "outputs": [
    {
     "name": "stdout",
     "output_type": "stream",
     "text": [
      "0.5958254269449715\n"
     ]
    }
   ],
   "source": [
    "print(model.score(vect.transform(x_test), y_test))"
   ],
   "metadata": {
    "collapsed": false,
    "pycharm": {
     "name": "#%%\n"
    }
   }
  },
  {
   "cell_type": "code",
   "execution_count": 17,
   "outputs": [
    {
     "name": "stdout",
     "output_type": "stream",
     "text": [
      "0.9263124604680582\n"
     ]
    }
   ],
   "source": [
    "from sklearn import svm\n",
    "\n",
    "clf = svm.SVC(kernel='linear')\n",
    "clf.fit(x_train_vectorized, y_train)\n",
    "print(clf.score(x_train_vectorized, y_train))"
   ],
   "metadata": {
    "collapsed": false,
    "pycharm": {
     "name": "#%%\n"
    }
   }
  },
  {
   "cell_type": "code",
   "execution_count": 18,
   "outputs": [
    {
     "name": "stdout",
     "output_type": "stream",
     "text": [
      "0.6008855154965211\n"
     ]
    }
   ],
   "source": [
    "print(clf.score(vect.transform(x_test), y_test))"
   ],
   "metadata": {
    "collapsed": false,
    "pycharm": {
     "name": "#%%\n"
    }
   }
  },
  {
   "cell_type": "code",
   "execution_count": 19,
   "outputs": [
    {
     "name": "stdout",
     "output_type": "stream",
     "text": [
      "Best hyperparameters:  {'C': 10, 'gamma': 'scale', 'kernel': 'rbf'}\n"
     ]
    }
   ],
   "source": [
    "from sklearn.model_selection import GridSearchCV\n",
    "from sklearn.svm import SVC\n",
    "\n",
    "\n",
    "X_train, X_validation, y_train, y_validation = train_test_split(x_train_vectorized, y_train, test_size=0.2)\n",
    "\n",
    "# Define the SVM model\n",
    "svm = SVC()\n",
    "# Define the hyperparameter grid to search\n",
    "param_grid = {'C': [0.1, 1, 10, 100],\n",
    "              'kernel': ['linear', 'poly', 'rbf', 'sigmoid'],\n",
    "              'gamma': ['scale', 'auto']}\n",
    "\n",
    "# Perform grid search with cross-validation to find the best hyperparameters\n",
    "grid_search = GridSearchCV(svm, param_grid, cv=5)\n",
    "grid_search.fit(X_train, y_train)\n",
    "\n",
    "# Print the best hyperparameters\n",
    "print(\"Best hyperparameters: \", grid_search.best_params_)"
   ],
   "metadata": {
    "collapsed": false,
    "pycharm": {
     "name": "#%%\n"
    }
   }
  },
  {
   "cell_type": "code",
   "execution_count": 22,
   "outputs": [
    {
     "name": "stdout",
     "output_type": "stream",
     "text": [
      "0.9968373196283851\n"
     ]
    }
   ],
   "source": [
    "from sklearn import svm\n",
    "clf = svm.SVC(kernel='rbf',  gamma= 'scale', C=10)\n",
    "clf.fit(X_train, y_train)\n",
    "print(clf.score(X_train, y_train))"
   ],
   "metadata": {
    "collapsed": false,
    "pycharm": {
     "name": "#%%\n"
    }
   }
  },
  {
   "cell_type": "code",
   "execution_count": 23,
   "outputs": [
    {
     "name": "stdout",
     "output_type": "stream",
     "text": [
      "0.6002530044275775\n"
     ]
    }
   ],
   "source": [
    "print(clf.score(vect.transform(x_test), y_test))"
   ],
   "metadata": {
    "collapsed": false,
    "pycharm": {
     "name": "#%%\n"
    }
   }
  },
  {
   "cell_type": "code",
   "execution_count": 25,
   "outputs": [
    {
     "name": "stderr",
     "output_type": "stream",
     "text": [
      "C:\\Users\\msi\\anaconda3\\lib\\site-packages\\sklearn\\linear_model\\_logistic.py:444: ConvergenceWarning: lbfgs failed to converge (status=1):\n",
      "STOP: TOTAL NO. of ITERATIONS REACHED LIMIT.\n",
      "\n",
      "Increase the number of iterations (max_iter) or scale the data as shown in:\n",
      "    https://scikit-learn.org/stable/modules/preprocessing.html\n",
      "Please also refer to the documentation for alternative solver options:\n",
      "    https://scikit-learn.org/stable/modules/linear_model.html#logistic-regression\n",
      "  n_iter_i = _check_optimize_result(\n",
      "C:\\Users\\msi\\anaconda3\\lib\\site-packages\\sklearn\\linear_model\\_logistic.py:444: ConvergenceWarning: lbfgs failed to converge (status=1):\n",
      "STOP: TOTAL NO. of ITERATIONS REACHED LIMIT.\n",
      "\n",
      "Increase the number of iterations (max_iter) or scale the data as shown in:\n",
      "    https://scikit-learn.org/stable/modules/preprocessing.html\n",
      "Please also refer to the documentation for alternative solver options:\n",
      "    https://scikit-learn.org/stable/modules/linear_model.html#logistic-regression\n",
      "  n_iter_i = _check_optimize_result(\n",
      "C:\\Users\\msi\\anaconda3\\lib\\site-packages\\sklearn\\linear_model\\_logistic.py:444: ConvergenceWarning: lbfgs failed to converge (status=1):\n",
      "STOP: TOTAL NO. of ITERATIONS REACHED LIMIT.\n",
      "\n",
      "Increase the number of iterations (max_iter) or scale the data as shown in:\n",
      "    https://scikit-learn.org/stable/modules/preprocessing.html\n",
      "Please also refer to the documentation for alternative solver options:\n",
      "    https://scikit-learn.org/stable/modules/linear_model.html#logistic-regression\n",
      "  n_iter_i = _check_optimize_result(\n",
      "C:\\Users\\msi\\anaconda3\\lib\\site-packages\\sklearn\\linear_model\\_logistic.py:444: ConvergenceWarning: lbfgs failed to converge (status=1):\n",
      "STOP: TOTAL NO. of ITERATIONS REACHED LIMIT.\n",
      "\n",
      "Increase the number of iterations (max_iter) or scale the data as shown in:\n",
      "    https://scikit-learn.org/stable/modules/preprocessing.html\n",
      "Please also refer to the documentation for alternative solver options:\n",
      "    https://scikit-learn.org/stable/modules/linear_model.html#logistic-regression\n",
      "  n_iter_i = _check_optimize_result(\n",
      "C:\\Users\\msi\\anaconda3\\lib\\site-packages\\sklearn\\linear_model\\_logistic.py:444: ConvergenceWarning: lbfgs failed to converge (status=1):\n",
      "STOP: TOTAL NO. of ITERATIONS REACHED LIMIT.\n",
      "\n",
      "Increase the number of iterations (max_iter) or scale the data as shown in:\n",
      "    https://scikit-learn.org/stable/modules/preprocessing.html\n",
      "Please also refer to the documentation for alternative solver options:\n",
      "    https://scikit-learn.org/stable/modules/linear_model.html#logistic-regression\n",
      "  n_iter_i = _check_optimize_result(\n",
      "C:\\Users\\msi\\anaconda3\\lib\\site-packages\\sklearn\\linear_model\\_logistic.py:444: ConvergenceWarning: lbfgs failed to converge (status=1):\n",
      "STOP: TOTAL NO. of ITERATIONS REACHED LIMIT.\n",
      "\n",
      "Increase the number of iterations (max_iter) or scale the data as shown in:\n",
      "    https://scikit-learn.org/stable/modules/preprocessing.html\n",
      "Please also refer to the documentation for alternative solver options:\n",
      "    https://scikit-learn.org/stable/modules/linear_model.html#logistic-regression\n",
      "  n_iter_i = _check_optimize_result(\n",
      "C:\\Users\\msi\\anaconda3\\lib\\site-packages\\sklearn\\linear_model\\_logistic.py:444: ConvergenceWarning: lbfgs failed to converge (status=1):\n",
      "STOP: TOTAL NO. of ITERATIONS REACHED LIMIT.\n",
      "\n",
      "Increase the number of iterations (max_iter) or scale the data as shown in:\n",
      "    https://scikit-learn.org/stable/modules/preprocessing.html\n",
      "Please also refer to the documentation for alternative solver options:\n",
      "    https://scikit-learn.org/stable/modules/linear_model.html#logistic-regression\n",
      "  n_iter_i = _check_optimize_result(\n",
      "C:\\Users\\msi\\anaconda3\\lib\\site-packages\\sklearn\\linear_model\\_logistic.py:444: ConvergenceWarning: lbfgs failed to converge (status=1):\n",
      "STOP: TOTAL NO. of ITERATIONS REACHED LIMIT.\n",
      "\n",
      "Increase the number of iterations (max_iter) or scale the data as shown in:\n",
      "    https://scikit-learn.org/stable/modules/preprocessing.html\n",
      "Please also refer to the documentation for alternative solver options:\n",
      "    https://scikit-learn.org/stable/modules/linear_model.html#logistic-regression\n",
      "  n_iter_i = _check_optimize_result(\n",
      "C:\\Users\\msi\\anaconda3\\lib\\site-packages\\sklearn\\linear_model\\_logistic.py:444: ConvergenceWarning: lbfgs failed to converge (status=1):\n",
      "STOP: TOTAL NO. of ITERATIONS REACHED LIMIT.\n",
      "\n",
      "Increase the number of iterations (max_iter) or scale the data as shown in:\n",
      "    https://scikit-learn.org/stable/modules/preprocessing.html\n",
      "Please also refer to the documentation for alternative solver options:\n",
      "    https://scikit-learn.org/stable/modules/linear_model.html#logistic-regression\n",
      "  n_iter_i = _check_optimize_result(\n",
      "C:\\Users\\msi\\anaconda3\\lib\\site-packages\\sklearn\\linear_model\\_logistic.py:444: ConvergenceWarning: lbfgs failed to converge (status=1):\n",
      "STOP: TOTAL NO. of ITERATIONS REACHED LIMIT.\n",
      "\n",
      "Increase the number of iterations (max_iter) or scale the data as shown in:\n",
      "    https://scikit-learn.org/stable/modules/preprocessing.html\n",
      "Please also refer to the documentation for alternative solver options:\n",
      "    https://scikit-learn.org/stable/modules/linear_model.html#logistic-regression\n",
      "  n_iter_i = _check_optimize_result(\n"
     ]
    },
    {
     "name": "stdout",
     "output_type": "stream",
     "text": [
      "Best hyperparameters: {'C': 100}\n"
     ]
    },
    {
     "name": "stderr",
     "output_type": "stream",
     "text": [
      "C:\\Users\\msi\\anaconda3\\lib\\site-packages\\sklearn\\linear_model\\_logistic.py:444: ConvergenceWarning: lbfgs failed to converge (status=1):\n",
      "STOP: TOTAL NO. of ITERATIONS REACHED LIMIT.\n",
      "\n",
      "Increase the number of iterations (max_iter) or scale the data as shown in:\n",
      "    https://scikit-learn.org/stable/modules/preprocessing.html\n",
      "Please also refer to the documentation for alternative solver options:\n",
      "    https://scikit-learn.org/stable/modules/linear_model.html#logistic-regression\n",
      "  n_iter_i = _check_optimize_result(\n"
     ]
    }
   ],
   "source": [
    "from sklearn.linear_model import LogisticRegression\n",
    "\n",
    "\n",
    "# Define the hyperparameter grid\n",
    "param_grid = {'C': [0.01, 0.1, 1, 10, 100]}\n",
    "\n",
    "# Initialize the logistic regression model\n",
    "logreg = LogisticRegression()\n",
    "\n",
    "# Define the grid search object\n",
    "grid_search = GridSearchCV(logreg, param_grid, cv=5)\n",
    "\n",
    "# Fit the grid search object to the data\n",
    "grid_search.fit(X_train, y_train)\n",
    "\n",
    "# Print the best hyperparameters\n",
    "print(\"Best hyperparameters:\", grid_search.best_params_)"
   ],
   "metadata": {
    "collapsed": false,
    "pycharm": {
     "name": "#%%\n"
    }
   }
  },
  {
   "cell_type": "code",
   "execution_count": 26,
   "outputs": [
    {
     "name": "stdout",
     "output_type": "stream",
     "text": [
      "0.9944653093496738\n"
     ]
    },
    {
     "name": "stderr",
     "output_type": "stream",
     "text": [
      "C:\\Users\\msi\\anaconda3\\lib\\site-packages\\sklearn\\linear_model\\_logistic.py:444: ConvergenceWarning: lbfgs failed to converge (status=1):\n",
      "STOP: TOTAL NO. of ITERATIONS REACHED LIMIT.\n",
      "\n",
      "Increase the number of iterations (max_iter) or scale the data as shown in:\n",
      "    https://scikit-learn.org/stable/modules/preprocessing.html\n",
      "Please also refer to the documentation for alternative solver options:\n",
      "    https://scikit-learn.org/stable/modules/linear_model.html#logistic-regression\n",
      "  n_iter_i = _check_optimize_result(\n"
     ]
    }
   ],
   "source": [
    "from sklearn.linear_model import LogisticRegression, SGDClassifier\n",
    "\n",
    "model = LogisticRegression(C=100)\n",
    "model.fit(X_train, y_train)\n",
    "print(model.score(X_train, y_train))"
   ],
   "metadata": {
    "collapsed": false,
    "pycharm": {
     "name": "#%%\n"
    }
   }
  },
  {
   "cell_type": "code",
   "execution_count": 27,
   "outputs": [
    {
     "name": "stdout",
     "output_type": "stream",
     "text": [
      "0.5888678051865908\n"
     ]
    }
   ],
   "source": [
    "print(model.score(vect.transform(x_test), y_test))"
   ],
   "metadata": {
    "collapsed": false,
    "pycharm": {
     "name": "#%%\n"
    }
   }
  }
 ],
 "metadata": {
  "kernelspec": {
   "display_name": "Python 3",
   "language": "python",
   "name": "python3"
  },
  "language_info": {
   "codemirror_mode": {
    "name": "ipython",
    "version": 2
   },
   "file_extension": ".py",
   "mimetype": "text/x-python",
   "name": "python",
   "nbconvert_exporter": "python",
   "pygments_lexer": "ipython2",
   "version": "2.7.6"
  }
 },
 "nbformat": 4,
 "nbformat_minor": 0
}