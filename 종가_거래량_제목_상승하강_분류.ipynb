{
 "cells": [
  {
   "cell_type": "code",
   "execution_count": null,
   "metadata": {
    "collapsed": true,
    "pycharm": {
     "name": "#%%\n"
    }
   },
   "outputs": [],
   "source": [
    "import pandas as pd\n",
    "from afinn import Afinn\n",
    "from nltk.corpus import stopwords\n",
    "import numpy as np\n",
    "from sklearn.feature_extraction.text import TfidfVectorizer\n",
    "from sklearn.model_selection import train_test_split"
   ]
  },
  {
   "cell_type": "code",
   "execution_count": null,
   "outputs": [],
   "source": [
    "# 기사제목 엑셀 파일 불러오기\n",
    "\n",
    "title = pd.read_csv(\"stock_title.csv\", engine='python', encoding = \"utf-8\")"
   ],
   "metadata": {
    "collapsed": false,
    "pycharm": {
     "name": "#%%\n"
    }
   }
  },
  {
   "cell_type": "code",
   "execution_count": null,
   "outputs": [
    {
     "data": {
      "text/plain": "          회사명        날짜   등락률  \\\n0        삼성전자  20190103 -3.06   \n1        삼성전자  20190103 -3.06   \n2        삼성전자  20190103 -3.06   \n3        삼성전자  20190103 -3.06   \n4        삼성전자  20190103 -3.06   \n...       ...       ...   ...   \n7900  LG디스플레이  20221216 -3.73   \n7901  LG디스플레이  20221216 -3.73   \n7902  LG디스플레이  20221216 -3.73   \n7903  LG디스플레이  20221216 -3.73   \n7904  LG디스플레이  20221216 -3.73   \n\n                                                뉴스 타이틀  \n0                                 삼성전자, 기술전문가 名匠제도 신설   \n1                     삼성전자, 기술 전문가 육성 위한 '삼성명장' 제도 신설   \n2                                        2019년삼성전자시무식   \n3                          삼성전자\"초일류, 초격차 100년 기업 만들자\"   \n4                  삼성전자김기남 부회장 “초일류·초격차 100년 기업 도약하자”   \n...                                                ...  \n7900                    삼성, 애증의 ‘QD-OLED TV’ 내년 국내 출시   \n7901                          [재송]14일 장 마감 후 주요 종목 뉴스   \n7902  [내 종목을 부탁해] 복잡한 계좌 해결 방법은? <두산에너빌리티>, <대원제약>...   \n7903         삼성전자 여유자금 10.7조→3.9조, SK하이닉스 3.5조→―8500억   \n7904           삼성 500억, SK·LG120억씩…재계, 연말 성금 800억원 돌파   \n\n[7905 rows x 4 columns]",
      "text/html": "<div>\n<style scoped>\n    .dataframe tbody tr th:only-of-type {\n        vertical-align: middle;\n    }\n\n    .dataframe tbody tr th {\n        vertical-align: top;\n    }\n\n    .dataframe thead th {\n        text-align: right;\n    }\n</style>\n<table border=\"1\" class=\"dataframe\">\n  <thead>\n    <tr style=\"text-align: right;\">\n      <th></th>\n      <th>회사명</th>\n      <th>날짜</th>\n      <th>등락률</th>\n      <th>뉴스 타이틀</th>\n    </tr>\n  </thead>\n  <tbody>\n    <tr>\n      <th>0</th>\n      <td>삼성전자</td>\n      <td>20190103</td>\n      <td>-3.06</td>\n      <td>삼성전자, 기술전문가 名匠제도 신설</td>\n    </tr>\n    <tr>\n      <th>1</th>\n      <td>삼성전자</td>\n      <td>20190103</td>\n      <td>-3.06</td>\n      <td>삼성전자, 기술 전문가 육성 위한 '삼성명장' 제도 신설</td>\n    </tr>\n    <tr>\n      <th>2</th>\n      <td>삼성전자</td>\n      <td>20190103</td>\n      <td>-3.06</td>\n      <td>2019년삼성전자시무식</td>\n    </tr>\n    <tr>\n      <th>3</th>\n      <td>삼성전자</td>\n      <td>20190103</td>\n      <td>-3.06</td>\n      <td>삼성전자\"초일류, 초격차 100년 기업 만들자\"</td>\n    </tr>\n    <tr>\n      <th>4</th>\n      <td>삼성전자</td>\n      <td>20190103</td>\n      <td>-3.06</td>\n      <td>삼성전자김기남 부회장 “초일류·초격차 100년 기업 도약하자”</td>\n    </tr>\n    <tr>\n      <th>...</th>\n      <td>...</td>\n      <td>...</td>\n      <td>...</td>\n      <td>...</td>\n    </tr>\n    <tr>\n      <th>7900</th>\n      <td>LG디스플레이</td>\n      <td>20221216</td>\n      <td>-3.73</td>\n      <td>삼성, 애증의 ‘QD-OLED TV’ 내년 국내 출시</td>\n    </tr>\n    <tr>\n      <th>7901</th>\n      <td>LG디스플레이</td>\n      <td>20221216</td>\n      <td>-3.73</td>\n      <td>[재송]14일 장 마감 후 주요 종목 뉴스</td>\n    </tr>\n    <tr>\n      <th>7902</th>\n      <td>LG디스플레이</td>\n      <td>20221216</td>\n      <td>-3.73</td>\n      <td>[내 종목을 부탁해] 복잡한 계좌 해결 방법은? &lt;두산에너빌리티&gt;, &lt;대원제약&gt;...</td>\n    </tr>\n    <tr>\n      <th>7903</th>\n      <td>LG디스플레이</td>\n      <td>20221216</td>\n      <td>-3.73</td>\n      <td>삼성전자 여유자금 10.7조→3.9조, SK하이닉스 3.5조→―8500억</td>\n    </tr>\n    <tr>\n      <th>7904</th>\n      <td>LG디스플레이</td>\n      <td>20221216</td>\n      <td>-3.73</td>\n      <td>삼성 500억, SK·LG120억씩…재계, 연말 성금 800억원 돌파</td>\n    </tr>\n  </tbody>\n</table>\n<p>7905 rows × 4 columns</p>\n</div>"
     },
     "execution_count": 3,
     "metadata": {},
     "output_type": "execute_result"
    }
   ],
   "source": [
    "title"
   ],
   "metadata": {
    "collapsed": false,
    "pycharm": {
     "name": "#%%\n"
    }
   }
  },
  {
   "cell_type": "code",
   "execution_count": null,
   "outputs": [],
   "source": [
    "# 날짜 칼럼 datatype 변경\n",
    "\n",
    "title['날짜'] = title['날짜'].astype(str)"
   ],
   "metadata": {
    "collapsed": false,
    "pycharm": {
     "name": "#%%\n"
    }
   }
  },
  {
   "cell_type": "code",
   "execution_count": null,
   "outputs": [],
   "source": [
    "# 상승/하락을 판단하여 이진 분류 시켜주는 함수\n",
    "def classify_size(size):\n",
    "    if size >= 0:\n",
    "        return 1\n",
    "    else:\n",
    "        return 0"
   ],
   "metadata": {
    "collapsed": false,
    "pycharm": {
     "name": "#%%\n"
    }
   }
  },
  {
   "cell_type": "code",
   "execution_count": null,
   "outputs": [],
   "source": [
    "# 상승 하락 판단\n",
    "\n",
    "title['Either'] = title['등락률'].apply(classify_size)"
   ],
   "metadata": {
    "collapsed": false,
    "pycharm": {
     "name": "#%%\n"
    }
   }
  },
  {
   "cell_type": "code",
   "execution_count": null,
   "outputs": [
    {
     "data": {
      "text/plain": "          회사명        날짜   등락률  \\\n0        삼성전자  20190103 -3.06   \n1        삼성전자  20190103 -3.06   \n2        삼성전자  20190103 -3.06   \n3        삼성전자  20190103 -3.06   \n4        삼성전자  20190103 -3.06   \n...       ...       ...   ...   \n7900  LG디스플레이  20221216 -3.73   \n7901  LG디스플레이  20221216 -3.73   \n7902  LG디스플레이  20221216 -3.73   \n7903  LG디스플레이  20221216 -3.73   \n7904  LG디스플레이  20221216 -3.73   \n\n                                                뉴스 타이틀  Either  \n0                                 삼성전자, 기술전문가 名匠제도 신설        0  \n1                     삼성전자, 기술 전문가 육성 위한 '삼성명장' 제도 신설        0  \n2                                        2019년삼성전자시무식        0  \n3                          삼성전자\"초일류, 초격차 100년 기업 만들자\"        0  \n4                  삼성전자김기남 부회장 “초일류·초격차 100년 기업 도약하자”        0  \n...                                                ...     ...  \n7900                    삼성, 애증의 ‘QD-OLED TV’ 내년 국내 출시        0  \n7901                          [재송]14일 장 마감 후 주요 종목 뉴스        0  \n7902  [내 종목을 부탁해] 복잡한 계좌 해결 방법은? <두산에너빌리티>, <대원제약>...        0  \n7903         삼성전자 여유자금 10.7조→3.9조, SK하이닉스 3.5조→―8500억        0  \n7904           삼성 500억, SK·LG120억씩…재계, 연말 성금 800억원 돌파        0  \n\n[7905 rows x 5 columns]",
      "text/html": "<div>\n<style scoped>\n    .dataframe tbody tr th:only-of-type {\n        vertical-align: middle;\n    }\n\n    .dataframe tbody tr th {\n        vertical-align: top;\n    }\n\n    .dataframe thead th {\n        text-align: right;\n    }\n</style>\n<table border=\"1\" class=\"dataframe\">\n  <thead>\n    <tr style=\"text-align: right;\">\n      <th></th>\n      <th>회사명</th>\n      <th>날짜</th>\n      <th>등락률</th>\n      <th>뉴스 타이틀</th>\n      <th>Either</th>\n    </tr>\n  </thead>\n  <tbody>\n    <tr>\n      <th>0</th>\n      <td>삼성전자</td>\n      <td>20190103</td>\n      <td>-3.06</td>\n      <td>삼성전자, 기술전문가 名匠제도 신설</td>\n      <td>0</td>\n    </tr>\n    <tr>\n      <th>1</th>\n      <td>삼성전자</td>\n      <td>20190103</td>\n      <td>-3.06</td>\n      <td>삼성전자, 기술 전문가 육성 위한 '삼성명장' 제도 신설</td>\n      <td>0</td>\n    </tr>\n    <tr>\n      <th>2</th>\n      <td>삼성전자</td>\n      <td>20190103</td>\n      <td>-3.06</td>\n      <td>2019년삼성전자시무식</td>\n      <td>0</td>\n    </tr>\n    <tr>\n      <th>3</th>\n      <td>삼성전자</td>\n      <td>20190103</td>\n      <td>-3.06</td>\n      <td>삼성전자\"초일류, 초격차 100년 기업 만들자\"</td>\n      <td>0</td>\n    </tr>\n    <tr>\n      <th>4</th>\n      <td>삼성전자</td>\n      <td>20190103</td>\n      <td>-3.06</td>\n      <td>삼성전자김기남 부회장 “초일류·초격차 100년 기업 도약하자”</td>\n      <td>0</td>\n    </tr>\n    <tr>\n      <th>...</th>\n      <td>...</td>\n      <td>...</td>\n      <td>...</td>\n      <td>...</td>\n      <td>...</td>\n    </tr>\n    <tr>\n      <th>7900</th>\n      <td>LG디스플레이</td>\n      <td>20221216</td>\n      <td>-3.73</td>\n      <td>삼성, 애증의 ‘QD-OLED TV’ 내년 국내 출시</td>\n      <td>0</td>\n    </tr>\n    <tr>\n      <th>7901</th>\n      <td>LG디스플레이</td>\n      <td>20221216</td>\n      <td>-3.73</td>\n      <td>[재송]14일 장 마감 후 주요 종목 뉴스</td>\n      <td>0</td>\n    </tr>\n    <tr>\n      <th>7902</th>\n      <td>LG디스플레이</td>\n      <td>20221216</td>\n      <td>-3.73</td>\n      <td>[내 종목을 부탁해] 복잡한 계좌 해결 방법은? &lt;두산에너빌리티&gt;, &lt;대원제약&gt;...</td>\n      <td>0</td>\n    </tr>\n    <tr>\n      <th>7903</th>\n      <td>LG디스플레이</td>\n      <td>20221216</td>\n      <td>-3.73</td>\n      <td>삼성전자 여유자금 10.7조→3.9조, SK하이닉스 3.5조→―8500억</td>\n      <td>0</td>\n    </tr>\n    <tr>\n      <th>7904</th>\n      <td>LG디스플레이</td>\n      <td>20221216</td>\n      <td>-3.73</td>\n      <td>삼성 500억, SK·LG120억씩…재계, 연말 성금 800억원 돌파</td>\n      <td>0</td>\n    </tr>\n  </tbody>\n</table>\n<p>7905 rows × 5 columns</p>\n</div>"
     },
     "execution_count": 7,
     "metadata": {},
     "output_type": "execute_result"
    }
   ],
   "source": [
    "title"
   ],
   "metadata": {
    "collapsed": false,
    "pycharm": {
     "name": "#%%\n"
    }
   }
  },
  {
   "cell_type": "code",
   "execution_count": null,
   "outputs": [],
   "source": [
    "# 등락률 제거\n",
    "\n",
    "title = title.drop('등락률', axis=1)"
   ],
   "metadata": {
    "collapsed": false,
    "pycharm": {
     "name": "#%%\n"
    }
   }
  },
  {
   "cell_type": "code",
   "execution_count": null,
   "outputs": [],
   "source": [
    "# 칼럼명 변경\n",
    "\n",
    "title.rename(columns = {'뉴스 타이틀':'title'},inplace=True)"
   ],
   "metadata": {
    "collapsed": false,
    "pycharm": {
     "name": "#%%\n"
    }
   }
  },
  {
   "cell_type": "code",
   "execution_count": null,
   "outputs": [
    {
     "data": {
      "text/plain": "          회사명        날짜                                             title  \\\n0        삼성전자  20190103                              삼성전자, 기술전문가 名匠제도 신설    \n1        삼성전자  20190103                  삼성전자, 기술 전문가 육성 위한 '삼성명장' 제도 신설    \n2        삼성전자  20190103                                     2019년삼성전자시무식    \n3        삼성전자  20190103                       삼성전자\"초일류, 초격차 100년 기업 만들자\"    \n4        삼성전자  20190103               삼성전자김기남 부회장 “초일류·초격차 100년 기업 도약하자”    \n...       ...       ...                                               ...   \n7900  LG디스플레이  20221216                    삼성, 애증의 ‘QD-OLED TV’ 내년 국내 출시    \n7901  LG디스플레이  20221216                          [재송]14일 장 마감 후 주요 종목 뉴스    \n7902  LG디스플레이  20221216  [내 종목을 부탁해] 복잡한 계좌 해결 방법은? <두산에너빌리티>, <대원제약>...    \n7903  LG디스플레이  20221216         삼성전자 여유자금 10.7조→3.9조, SK하이닉스 3.5조→―8500억    \n7904  LG디스플레이  20221216           삼성 500억, SK·LG120억씩…재계, 연말 성금 800억원 돌파    \n\n      Either  \n0          0  \n1          0  \n2          0  \n3          0  \n4          0  \n...      ...  \n7900       0  \n7901       0  \n7902       0  \n7903       0  \n7904       0  \n\n[7905 rows x 4 columns]",
      "text/html": "<div>\n<style scoped>\n    .dataframe tbody tr th:only-of-type {\n        vertical-align: middle;\n    }\n\n    .dataframe tbody tr th {\n        vertical-align: top;\n    }\n\n    .dataframe thead th {\n        text-align: right;\n    }\n</style>\n<table border=\"1\" class=\"dataframe\">\n  <thead>\n    <tr style=\"text-align: right;\">\n      <th></th>\n      <th>회사명</th>\n      <th>날짜</th>\n      <th>title</th>\n      <th>Either</th>\n    </tr>\n  </thead>\n  <tbody>\n    <tr>\n      <th>0</th>\n      <td>삼성전자</td>\n      <td>20190103</td>\n      <td>삼성전자, 기술전문가 名匠제도 신설</td>\n      <td>0</td>\n    </tr>\n    <tr>\n      <th>1</th>\n      <td>삼성전자</td>\n      <td>20190103</td>\n      <td>삼성전자, 기술 전문가 육성 위한 '삼성명장' 제도 신설</td>\n      <td>0</td>\n    </tr>\n    <tr>\n      <th>2</th>\n      <td>삼성전자</td>\n      <td>20190103</td>\n      <td>2019년삼성전자시무식</td>\n      <td>0</td>\n    </tr>\n    <tr>\n      <th>3</th>\n      <td>삼성전자</td>\n      <td>20190103</td>\n      <td>삼성전자\"초일류, 초격차 100년 기업 만들자\"</td>\n      <td>0</td>\n    </tr>\n    <tr>\n      <th>4</th>\n      <td>삼성전자</td>\n      <td>20190103</td>\n      <td>삼성전자김기남 부회장 “초일류·초격차 100년 기업 도약하자”</td>\n      <td>0</td>\n    </tr>\n    <tr>\n      <th>...</th>\n      <td>...</td>\n      <td>...</td>\n      <td>...</td>\n      <td>...</td>\n    </tr>\n    <tr>\n      <th>7900</th>\n      <td>LG디스플레이</td>\n      <td>20221216</td>\n      <td>삼성, 애증의 ‘QD-OLED TV’ 내년 국내 출시</td>\n      <td>0</td>\n    </tr>\n    <tr>\n      <th>7901</th>\n      <td>LG디스플레이</td>\n      <td>20221216</td>\n      <td>[재송]14일 장 마감 후 주요 종목 뉴스</td>\n      <td>0</td>\n    </tr>\n    <tr>\n      <th>7902</th>\n      <td>LG디스플레이</td>\n      <td>20221216</td>\n      <td>[내 종목을 부탁해] 복잡한 계좌 해결 방법은? &lt;두산에너빌리티&gt;, &lt;대원제약&gt;...</td>\n      <td>0</td>\n    </tr>\n    <tr>\n      <th>7903</th>\n      <td>LG디스플레이</td>\n      <td>20221216</td>\n      <td>삼성전자 여유자금 10.7조→3.9조, SK하이닉스 3.5조→―8500억</td>\n      <td>0</td>\n    </tr>\n    <tr>\n      <th>7904</th>\n      <td>LG디스플레이</td>\n      <td>20221216</td>\n      <td>삼성 500억, SK·LG120억씩…재계, 연말 성금 800억원 돌파</td>\n      <td>0</td>\n    </tr>\n  </tbody>\n</table>\n<p>7905 rows × 4 columns</p>\n</div>"
     },
     "execution_count": 10,
     "metadata": {},
     "output_type": "execute_result"
    }
   ],
   "source": [
    "title"
   ],
   "metadata": {
    "collapsed": false,
    "pycharm": {
     "name": "#%%\n"
    }
   }
  },
  {
   "cell_type": "code",
   "execution_count": null,
   "outputs": [],
   "source": [
    "# 종가/거래량 엑셀 파일 불러오기\n",
    "\n",
    "fin  = pd.read_excel(\"final_fin.xlsx\")"
   ],
   "metadata": {
    "collapsed": false,
    "pycharm": {
     "name": "#%%\n"
    }
   }
  },
  {
   "cell_type": "code",
   "execution_count": null,
   "outputs": [
    {
     "data": {
      "text/plain": "         회사명          날짜   등락률  5일전_종가  4일전_종가  3일전_종가  2일전_종가  1일전_종가  \\\n0       삼성전자  2019.01.03 -3.06    0.02   -0.02    0.00   -0.01   -0.01   \n1       삼성전자  2019.01.07  3.35    0.00   -0.01   -0.01    0.00    0.02   \n2       삼성전자  2019.01.09  3.79   -0.01    0.00    0.02    0.01    0.03   \n3       삼성전자  2019.01.25  3.80    0.00    0.01   -0.03    0.01    0.00   \n4       삼성전자  2019.02.08 -3.12    0.02   -0.04   -0.04    0.01    0.01   \n..       ...         ...   ...     ...     ...     ...     ...     ...   \n829  LG디스플레이  2022.11.11  7.14    0.04    0.00    0.08   -0.01    0.00   \n830  LG디스플레이  2022.11.14 -5.12    0.00    0.08   -0.01    0.00    0.08   \n831  LG디스플레이  2022.11.18  3.03    0.08   -0.05    0.01   -0.01   -0.02   \n832  LG디스플레이  2022.12.14  4.21   -0.02   -0.01    0.01    0.00   -0.03   \n833  LG디스플레이  2022.12.16 -3.73    0.01    0.00   -0.03    0.04   -0.02   \n\n     5일전_거래량  4일전_거래량  3일전_거래량  2일전_거래량  1일전_거래량      거래량     종가  \n0      -0.05     0.32    -0.33    -0.23     0.40  1177579  17800  \n1      -0.33    -0.23     0.40     0.06     0.05  1307934  18400  \n2       0.40     0.06     0.05     0.06     0.96  1830546  19000  \n3      -0.20     1.37    -0.21    -0.52    -0.01  2055931  20300  \n4       0.25     1.53    -0.15    -0.56    -0.05   965641  18850  \n..       ...      ...      ...      ...      ...      ...    ...  \n829     0.51    -0.26     2.19    -0.68     0.31  3409680  15400  \n830    -0.26     2.19    -0.68     0.31     0.67  2298394  14650  \n831     0.67    -0.33    -0.55     0.21    -0.32  2393482  14850  \n832    -0.28     2.13    -0.58    -0.44     0.13  1055419  14250  \n833    -0.58    -0.44     0.13     0.53    -0.23  2018071  13400  \n\n[834 rows x 15 columns]",
      "text/html": "<div>\n<style scoped>\n    .dataframe tbody tr th:only-of-type {\n        vertical-align: middle;\n    }\n\n    .dataframe tbody tr th {\n        vertical-align: top;\n    }\n\n    .dataframe thead th {\n        text-align: right;\n    }\n</style>\n<table border=\"1\" class=\"dataframe\">\n  <thead>\n    <tr style=\"text-align: right;\">\n      <th></th>\n      <th>회사명</th>\n      <th>날짜</th>\n      <th>등락률</th>\n      <th>5일전_종가</th>\n      <th>4일전_종가</th>\n      <th>3일전_종가</th>\n      <th>2일전_종가</th>\n      <th>1일전_종가</th>\n      <th>5일전_거래량</th>\n      <th>4일전_거래량</th>\n      <th>3일전_거래량</th>\n      <th>2일전_거래량</th>\n      <th>1일전_거래량</th>\n      <th>거래량</th>\n      <th>종가</th>\n    </tr>\n  </thead>\n  <tbody>\n    <tr>\n      <th>0</th>\n      <td>삼성전자</td>\n      <td>2019.01.03</td>\n      <td>-3.06</td>\n      <td>0.02</td>\n      <td>-0.02</td>\n      <td>0.00</td>\n      <td>-0.01</td>\n      <td>-0.01</td>\n      <td>-0.05</td>\n      <td>0.32</td>\n      <td>-0.33</td>\n      <td>-0.23</td>\n      <td>0.40</td>\n      <td>1177579</td>\n      <td>17800</td>\n    </tr>\n    <tr>\n      <th>1</th>\n      <td>삼성전자</td>\n      <td>2019.01.07</td>\n      <td>3.35</td>\n      <td>0.00</td>\n      <td>-0.01</td>\n      <td>-0.01</td>\n      <td>0.00</td>\n      <td>0.02</td>\n      <td>-0.33</td>\n      <td>-0.23</td>\n      <td>0.40</td>\n      <td>0.06</td>\n      <td>0.05</td>\n      <td>1307934</td>\n      <td>18400</td>\n    </tr>\n    <tr>\n      <th>2</th>\n      <td>삼성전자</td>\n      <td>2019.01.09</td>\n      <td>3.79</td>\n      <td>-0.01</td>\n      <td>0.00</td>\n      <td>0.02</td>\n      <td>0.01</td>\n      <td>0.03</td>\n      <td>0.40</td>\n      <td>0.06</td>\n      <td>0.05</td>\n      <td>0.06</td>\n      <td>0.96</td>\n      <td>1830546</td>\n      <td>19000</td>\n    </tr>\n    <tr>\n      <th>3</th>\n      <td>삼성전자</td>\n      <td>2019.01.25</td>\n      <td>3.80</td>\n      <td>0.00</td>\n      <td>0.01</td>\n      <td>-0.03</td>\n      <td>0.01</td>\n      <td>0.00</td>\n      <td>-0.20</td>\n      <td>1.37</td>\n      <td>-0.21</td>\n      <td>-0.52</td>\n      <td>-0.01</td>\n      <td>2055931</td>\n      <td>20300</td>\n    </tr>\n    <tr>\n      <th>4</th>\n      <td>삼성전자</td>\n      <td>2019.02.08</td>\n      <td>-3.12</td>\n      <td>0.02</td>\n      <td>-0.04</td>\n      <td>-0.04</td>\n      <td>0.01</td>\n      <td>0.01</td>\n      <td>0.25</td>\n      <td>1.53</td>\n      <td>-0.15</td>\n      <td>-0.56</td>\n      <td>-0.05</td>\n      <td>965641</td>\n      <td>18850</td>\n    </tr>\n    <tr>\n      <th>...</th>\n      <td>...</td>\n      <td>...</td>\n      <td>...</td>\n      <td>...</td>\n      <td>...</td>\n      <td>...</td>\n      <td>...</td>\n      <td>...</td>\n      <td>...</td>\n      <td>...</td>\n      <td>...</td>\n      <td>...</td>\n      <td>...</td>\n      <td>...</td>\n      <td>...</td>\n    </tr>\n    <tr>\n      <th>829</th>\n      <td>LG디스플레이</td>\n      <td>2022.11.11</td>\n      <td>7.14</td>\n      <td>0.04</td>\n      <td>0.00</td>\n      <td>0.08</td>\n      <td>-0.01</td>\n      <td>0.00</td>\n      <td>0.51</td>\n      <td>-0.26</td>\n      <td>2.19</td>\n      <td>-0.68</td>\n      <td>0.31</td>\n      <td>3409680</td>\n      <td>15400</td>\n    </tr>\n    <tr>\n      <th>830</th>\n      <td>LG디스플레이</td>\n      <td>2022.11.14</td>\n      <td>-5.12</td>\n      <td>0.00</td>\n      <td>0.08</td>\n      <td>-0.01</td>\n      <td>0.00</td>\n      <td>0.08</td>\n      <td>-0.26</td>\n      <td>2.19</td>\n      <td>-0.68</td>\n      <td>0.31</td>\n      <td>0.67</td>\n      <td>2298394</td>\n      <td>14650</td>\n    </tr>\n    <tr>\n      <th>831</th>\n      <td>LG디스플레이</td>\n      <td>2022.11.18</td>\n      <td>3.03</td>\n      <td>0.08</td>\n      <td>-0.05</td>\n      <td>0.01</td>\n      <td>-0.01</td>\n      <td>-0.02</td>\n      <td>0.67</td>\n      <td>-0.33</td>\n      <td>-0.55</td>\n      <td>0.21</td>\n      <td>-0.32</td>\n      <td>2393482</td>\n      <td>14850</td>\n    </tr>\n    <tr>\n      <th>832</th>\n      <td>LG디스플레이</td>\n      <td>2022.12.14</td>\n      <td>4.21</td>\n      <td>-0.02</td>\n      <td>-0.01</td>\n      <td>0.01</td>\n      <td>0.00</td>\n      <td>-0.03</td>\n      <td>-0.28</td>\n      <td>2.13</td>\n      <td>-0.58</td>\n      <td>-0.44</td>\n      <td>0.13</td>\n      <td>1055419</td>\n      <td>14250</td>\n    </tr>\n    <tr>\n      <th>833</th>\n      <td>LG디스플레이</td>\n      <td>2022.12.16</td>\n      <td>-3.73</td>\n      <td>0.01</td>\n      <td>0.00</td>\n      <td>-0.03</td>\n      <td>0.04</td>\n      <td>-0.02</td>\n      <td>-0.58</td>\n      <td>-0.44</td>\n      <td>0.13</td>\n      <td>0.53</td>\n      <td>-0.23</td>\n      <td>2018071</td>\n      <td>13400</td>\n    </tr>\n  </tbody>\n</table>\n<p>834 rows × 15 columns</p>\n</div>"
     },
     "execution_count": 12,
     "metadata": {},
     "output_type": "execute_result"
    }
   ],
   "source": [
    "fin"
   ],
   "metadata": {
    "collapsed": false,
    "pycharm": {
     "name": "#%%\n"
    }
   }
  },
  {
   "cell_type": "code",
   "execution_count": null,
   "outputs": [
    {
     "name": "stderr",
     "output_type": "stream",
     "text": [
      "C:\\Users\\msi\\AppData\\Local\\Temp/ipykernel_31896/1467632090.py:2: SettingWithCopyWarning: \n",
      "A value is trying to be set on a copy of a slice from a DataFrame\n",
      "\n",
      "See the caveats in the documentation: https://pandas.pydata.org/pandas-docs/stable/user_guide/indexing.html#returning-a-view-versus-a-copy\n",
      "  fin.날짜[i] = fin.날짜[i].replace('.', '')\n"
     ]
    }
   ],
   "source": [
    "# 날짜 형식을 제목 엑셀 파일과 일치시키기 위한 작업\n",
    "\n",
    "for i in range(len(fin['날짜'])):\n",
    "    fin.날짜[i] = fin.날짜[i].replace('.', '')"
   ],
   "metadata": {
    "collapsed": false,
    "pycharm": {
     "name": "#%%\n"
    }
   }
  },
  {
   "cell_type": "code",
   "execution_count": null,
   "outputs": [],
   "source": [
    "# 상승/하락 판단\n",
    "\n",
    "fin['Either'] = fin['등락률'].apply(classify_size)"
   ],
   "metadata": {
    "collapsed": false,
    "pycharm": {
     "name": "#%%\n"
    }
   }
  },
  {
   "cell_type": "code",
   "execution_count": null,
   "outputs": [
    {
     "data": {
      "text/plain": "         회사명        날짜   등락률  5일전_종가  4일전_종가  3일전_종가  2일전_종가  1일전_종가  5일전_거래량  \\\n0       삼성전자  20190103 -3.06    0.02   -0.02    0.00   -0.01   -0.01    -0.05   \n1       삼성전자  20190107  3.35    0.00   -0.01   -0.01    0.00    0.02    -0.33   \n2       삼성전자  20190109  3.79   -0.01    0.00    0.02    0.01    0.03     0.40   \n3       삼성전자  20190125  3.80    0.00    0.01   -0.03    0.01    0.00    -0.20   \n4       삼성전자  20190208 -3.12    0.02   -0.04   -0.04    0.01    0.01     0.25   \n..       ...       ...   ...     ...     ...     ...     ...     ...      ...   \n829  LG디스플레이  20221111  7.14    0.04    0.00    0.08   -0.01    0.00     0.51   \n830  LG디스플레이  20221114 -5.12    0.00    0.08   -0.01    0.00    0.08    -0.26   \n831  LG디스플레이  20221118  3.03    0.08   -0.05    0.01   -0.01   -0.02     0.67   \n832  LG디스플레이  20221214  4.21   -0.02   -0.01    0.01    0.00   -0.03    -0.28   \n833  LG디스플레이  20221216 -3.73    0.01    0.00   -0.03    0.04   -0.02    -0.58   \n\n     4일전_거래량  3일전_거래량  2일전_거래량  1일전_거래량      거래량     종가  Either  \n0       0.32    -0.33    -0.23     0.40  1177579  17800       0  \n1      -0.23     0.40     0.06     0.05  1307934  18400       1  \n2       0.06     0.05     0.06     0.96  1830546  19000       1  \n3       1.37    -0.21    -0.52    -0.01  2055931  20300       1  \n4       1.53    -0.15    -0.56    -0.05   965641  18850       0  \n..       ...      ...      ...      ...      ...    ...     ...  \n829    -0.26     2.19    -0.68     0.31  3409680  15400       1  \n830     2.19    -0.68     0.31     0.67  2298394  14650       0  \n831    -0.33    -0.55     0.21    -0.32  2393482  14850       1  \n832     2.13    -0.58    -0.44     0.13  1055419  14250       1  \n833    -0.44     0.13     0.53    -0.23  2018071  13400       0  \n\n[834 rows x 16 columns]",
      "text/html": "<div>\n<style scoped>\n    .dataframe tbody tr th:only-of-type {\n        vertical-align: middle;\n    }\n\n    .dataframe tbody tr th {\n        vertical-align: top;\n    }\n\n    .dataframe thead th {\n        text-align: right;\n    }\n</style>\n<table border=\"1\" class=\"dataframe\">\n  <thead>\n    <tr style=\"text-align: right;\">\n      <th></th>\n      <th>회사명</th>\n      <th>날짜</th>\n      <th>등락률</th>\n      <th>5일전_종가</th>\n      <th>4일전_종가</th>\n      <th>3일전_종가</th>\n      <th>2일전_종가</th>\n      <th>1일전_종가</th>\n      <th>5일전_거래량</th>\n      <th>4일전_거래량</th>\n      <th>3일전_거래량</th>\n      <th>2일전_거래량</th>\n      <th>1일전_거래량</th>\n      <th>거래량</th>\n      <th>종가</th>\n      <th>Either</th>\n    </tr>\n  </thead>\n  <tbody>\n    <tr>\n      <th>0</th>\n      <td>삼성전자</td>\n      <td>20190103</td>\n      <td>-3.06</td>\n      <td>0.02</td>\n      <td>-0.02</td>\n      <td>0.00</td>\n      <td>-0.01</td>\n      <td>-0.01</td>\n      <td>-0.05</td>\n      <td>0.32</td>\n      <td>-0.33</td>\n      <td>-0.23</td>\n      <td>0.40</td>\n      <td>1177579</td>\n      <td>17800</td>\n      <td>0</td>\n    </tr>\n    <tr>\n      <th>1</th>\n      <td>삼성전자</td>\n      <td>20190107</td>\n      <td>3.35</td>\n      <td>0.00</td>\n      <td>-0.01</td>\n      <td>-0.01</td>\n      <td>0.00</td>\n      <td>0.02</td>\n      <td>-0.33</td>\n      <td>-0.23</td>\n      <td>0.40</td>\n      <td>0.06</td>\n      <td>0.05</td>\n      <td>1307934</td>\n      <td>18400</td>\n      <td>1</td>\n    </tr>\n    <tr>\n      <th>2</th>\n      <td>삼성전자</td>\n      <td>20190109</td>\n      <td>3.79</td>\n      <td>-0.01</td>\n      <td>0.00</td>\n      <td>0.02</td>\n      <td>0.01</td>\n      <td>0.03</td>\n      <td>0.40</td>\n      <td>0.06</td>\n      <td>0.05</td>\n      <td>0.06</td>\n      <td>0.96</td>\n      <td>1830546</td>\n      <td>19000</td>\n      <td>1</td>\n    </tr>\n    <tr>\n      <th>3</th>\n      <td>삼성전자</td>\n      <td>20190125</td>\n      <td>3.80</td>\n      <td>0.00</td>\n      <td>0.01</td>\n      <td>-0.03</td>\n      <td>0.01</td>\n      <td>0.00</td>\n      <td>-0.20</td>\n      <td>1.37</td>\n      <td>-0.21</td>\n      <td>-0.52</td>\n      <td>-0.01</td>\n      <td>2055931</td>\n      <td>20300</td>\n      <td>1</td>\n    </tr>\n    <tr>\n      <th>4</th>\n      <td>삼성전자</td>\n      <td>20190208</td>\n      <td>-3.12</td>\n      <td>0.02</td>\n      <td>-0.04</td>\n      <td>-0.04</td>\n      <td>0.01</td>\n      <td>0.01</td>\n      <td>0.25</td>\n      <td>1.53</td>\n      <td>-0.15</td>\n      <td>-0.56</td>\n      <td>-0.05</td>\n      <td>965641</td>\n      <td>18850</td>\n      <td>0</td>\n    </tr>\n    <tr>\n      <th>...</th>\n      <td>...</td>\n      <td>...</td>\n      <td>...</td>\n      <td>...</td>\n      <td>...</td>\n      <td>...</td>\n      <td>...</td>\n      <td>...</td>\n      <td>...</td>\n      <td>...</td>\n      <td>...</td>\n      <td>...</td>\n      <td>...</td>\n      <td>...</td>\n      <td>...</td>\n      <td>...</td>\n    </tr>\n    <tr>\n      <th>829</th>\n      <td>LG디스플레이</td>\n      <td>20221111</td>\n      <td>7.14</td>\n      <td>0.04</td>\n      <td>0.00</td>\n      <td>0.08</td>\n      <td>-0.01</td>\n      <td>0.00</td>\n      <td>0.51</td>\n      <td>-0.26</td>\n      <td>2.19</td>\n      <td>-0.68</td>\n      <td>0.31</td>\n      <td>3409680</td>\n      <td>15400</td>\n      <td>1</td>\n    </tr>\n    <tr>\n      <th>830</th>\n      <td>LG디스플레이</td>\n      <td>20221114</td>\n      <td>-5.12</td>\n      <td>0.00</td>\n      <td>0.08</td>\n      <td>-0.01</td>\n      <td>0.00</td>\n      <td>0.08</td>\n      <td>-0.26</td>\n      <td>2.19</td>\n      <td>-0.68</td>\n      <td>0.31</td>\n      <td>0.67</td>\n      <td>2298394</td>\n      <td>14650</td>\n      <td>0</td>\n    </tr>\n    <tr>\n      <th>831</th>\n      <td>LG디스플레이</td>\n      <td>20221118</td>\n      <td>3.03</td>\n      <td>0.08</td>\n      <td>-0.05</td>\n      <td>0.01</td>\n      <td>-0.01</td>\n      <td>-0.02</td>\n      <td>0.67</td>\n      <td>-0.33</td>\n      <td>-0.55</td>\n      <td>0.21</td>\n      <td>-0.32</td>\n      <td>2393482</td>\n      <td>14850</td>\n      <td>1</td>\n    </tr>\n    <tr>\n      <th>832</th>\n      <td>LG디스플레이</td>\n      <td>20221214</td>\n      <td>4.21</td>\n      <td>-0.02</td>\n      <td>-0.01</td>\n      <td>0.01</td>\n      <td>0.00</td>\n      <td>-0.03</td>\n      <td>-0.28</td>\n      <td>2.13</td>\n      <td>-0.58</td>\n      <td>-0.44</td>\n      <td>0.13</td>\n      <td>1055419</td>\n      <td>14250</td>\n      <td>1</td>\n    </tr>\n    <tr>\n      <th>833</th>\n      <td>LG디스플레이</td>\n      <td>20221216</td>\n      <td>-3.73</td>\n      <td>0.01</td>\n      <td>0.00</td>\n      <td>-0.03</td>\n      <td>0.04</td>\n      <td>-0.02</td>\n      <td>-0.58</td>\n      <td>-0.44</td>\n      <td>0.13</td>\n      <td>0.53</td>\n      <td>-0.23</td>\n      <td>2018071</td>\n      <td>13400</td>\n      <td>0</td>\n    </tr>\n  </tbody>\n</table>\n<p>834 rows × 16 columns</p>\n</div>"
     },
     "execution_count": 15,
     "metadata": {},
     "output_type": "execute_result"
    }
   ],
   "source": [
    "fin"
   ],
   "metadata": {
    "collapsed": false,
    "pycharm": {
     "name": "#%%\n"
    }
   }
  },
  {
   "cell_type": "code",
   "execution_count": null,
   "outputs": [],
   "source": [
    "# 불필요한 거래량/종가/등락률 칼럼 제거\n",
    "\n",
    "main = fin.drop(['Either','거래량','종가','등락률'], axis=1)"
   ],
   "metadata": {
    "collapsed": false,
    "pycharm": {
     "name": "#%%\n"
    }
   }
  },
  {
   "cell_type": "code",
   "execution_count": null,
   "outputs": [
    {
     "data": {
      "text/plain": "         회사명        날짜  5일전_종가  4일전_종가  3일전_종가  2일전_종가  1일전_종가  5일전_거래량  \\\n0       삼성전자  20190103    0.02   -0.02    0.00   -0.01   -0.01    -0.05   \n1       삼성전자  20190107    0.00   -0.01   -0.01    0.00    0.02    -0.33   \n2       삼성전자  20190109   -0.01    0.00    0.02    0.01    0.03     0.40   \n3       삼성전자  20190125    0.00    0.01   -0.03    0.01    0.00    -0.20   \n4       삼성전자  20190208    0.02   -0.04   -0.04    0.01    0.01     0.25   \n..       ...       ...     ...     ...     ...     ...     ...      ...   \n829  LG디스플레이  20221111    0.04    0.00    0.08   -0.01    0.00     0.51   \n830  LG디스플레이  20221114    0.00    0.08   -0.01    0.00    0.08    -0.26   \n831  LG디스플레이  20221118    0.08   -0.05    0.01   -0.01   -0.02     0.67   \n832  LG디스플레이  20221214   -0.02   -0.01    0.01    0.00   -0.03    -0.28   \n833  LG디스플레이  20221216    0.01    0.00   -0.03    0.04   -0.02    -0.58   \n\n     4일전_거래량  3일전_거래량  2일전_거래량  1일전_거래량  \n0       0.32    -0.33    -0.23     0.40  \n1      -0.23     0.40     0.06     0.05  \n2       0.06     0.05     0.06     0.96  \n3       1.37    -0.21    -0.52    -0.01  \n4       1.53    -0.15    -0.56    -0.05  \n..       ...      ...      ...      ...  \n829    -0.26     2.19    -0.68     0.31  \n830     2.19    -0.68     0.31     0.67  \n831    -0.33    -0.55     0.21    -0.32  \n832     2.13    -0.58    -0.44     0.13  \n833    -0.44     0.13     0.53    -0.23  \n\n[834 rows x 12 columns]",
      "text/html": "<div>\n<style scoped>\n    .dataframe tbody tr th:only-of-type {\n        vertical-align: middle;\n    }\n\n    .dataframe tbody tr th {\n        vertical-align: top;\n    }\n\n    .dataframe thead th {\n        text-align: right;\n    }\n</style>\n<table border=\"1\" class=\"dataframe\">\n  <thead>\n    <tr style=\"text-align: right;\">\n      <th></th>\n      <th>회사명</th>\n      <th>날짜</th>\n      <th>5일전_종가</th>\n      <th>4일전_종가</th>\n      <th>3일전_종가</th>\n      <th>2일전_종가</th>\n      <th>1일전_종가</th>\n      <th>5일전_거래량</th>\n      <th>4일전_거래량</th>\n      <th>3일전_거래량</th>\n      <th>2일전_거래량</th>\n      <th>1일전_거래량</th>\n    </tr>\n  </thead>\n  <tbody>\n    <tr>\n      <th>0</th>\n      <td>삼성전자</td>\n      <td>20190103</td>\n      <td>0.02</td>\n      <td>-0.02</td>\n      <td>0.00</td>\n      <td>-0.01</td>\n      <td>-0.01</td>\n      <td>-0.05</td>\n      <td>0.32</td>\n      <td>-0.33</td>\n      <td>-0.23</td>\n      <td>0.40</td>\n    </tr>\n    <tr>\n      <th>1</th>\n      <td>삼성전자</td>\n      <td>20190107</td>\n      <td>0.00</td>\n      <td>-0.01</td>\n      <td>-0.01</td>\n      <td>0.00</td>\n      <td>0.02</td>\n      <td>-0.33</td>\n      <td>-0.23</td>\n      <td>0.40</td>\n      <td>0.06</td>\n      <td>0.05</td>\n    </tr>\n    <tr>\n      <th>2</th>\n      <td>삼성전자</td>\n      <td>20190109</td>\n      <td>-0.01</td>\n      <td>0.00</td>\n      <td>0.02</td>\n      <td>0.01</td>\n      <td>0.03</td>\n      <td>0.40</td>\n      <td>0.06</td>\n      <td>0.05</td>\n      <td>0.06</td>\n      <td>0.96</td>\n    </tr>\n    <tr>\n      <th>3</th>\n      <td>삼성전자</td>\n      <td>20190125</td>\n      <td>0.00</td>\n      <td>0.01</td>\n      <td>-0.03</td>\n      <td>0.01</td>\n      <td>0.00</td>\n      <td>-0.20</td>\n      <td>1.37</td>\n      <td>-0.21</td>\n      <td>-0.52</td>\n      <td>-0.01</td>\n    </tr>\n    <tr>\n      <th>4</th>\n      <td>삼성전자</td>\n      <td>20190208</td>\n      <td>0.02</td>\n      <td>-0.04</td>\n      <td>-0.04</td>\n      <td>0.01</td>\n      <td>0.01</td>\n      <td>0.25</td>\n      <td>1.53</td>\n      <td>-0.15</td>\n      <td>-0.56</td>\n      <td>-0.05</td>\n    </tr>\n    <tr>\n      <th>...</th>\n      <td>...</td>\n      <td>...</td>\n      <td>...</td>\n      <td>...</td>\n      <td>...</td>\n      <td>...</td>\n      <td>...</td>\n      <td>...</td>\n      <td>...</td>\n      <td>...</td>\n      <td>...</td>\n      <td>...</td>\n    </tr>\n    <tr>\n      <th>829</th>\n      <td>LG디스플레이</td>\n      <td>20221111</td>\n      <td>0.04</td>\n      <td>0.00</td>\n      <td>0.08</td>\n      <td>-0.01</td>\n      <td>0.00</td>\n      <td>0.51</td>\n      <td>-0.26</td>\n      <td>2.19</td>\n      <td>-0.68</td>\n      <td>0.31</td>\n    </tr>\n    <tr>\n      <th>830</th>\n      <td>LG디스플레이</td>\n      <td>20221114</td>\n      <td>0.00</td>\n      <td>0.08</td>\n      <td>-0.01</td>\n      <td>0.00</td>\n      <td>0.08</td>\n      <td>-0.26</td>\n      <td>2.19</td>\n      <td>-0.68</td>\n      <td>0.31</td>\n      <td>0.67</td>\n    </tr>\n    <tr>\n      <th>831</th>\n      <td>LG디스플레이</td>\n      <td>20221118</td>\n      <td>0.08</td>\n      <td>-0.05</td>\n      <td>0.01</td>\n      <td>-0.01</td>\n      <td>-0.02</td>\n      <td>0.67</td>\n      <td>-0.33</td>\n      <td>-0.55</td>\n      <td>0.21</td>\n      <td>-0.32</td>\n    </tr>\n    <tr>\n      <th>832</th>\n      <td>LG디스플레이</td>\n      <td>20221214</td>\n      <td>-0.02</td>\n      <td>-0.01</td>\n      <td>0.01</td>\n      <td>0.00</td>\n      <td>-0.03</td>\n      <td>-0.28</td>\n      <td>2.13</td>\n      <td>-0.58</td>\n      <td>-0.44</td>\n      <td>0.13</td>\n    </tr>\n    <tr>\n      <th>833</th>\n      <td>LG디스플레이</td>\n      <td>20221216</td>\n      <td>0.01</td>\n      <td>0.00</td>\n      <td>-0.03</td>\n      <td>0.04</td>\n      <td>-0.02</td>\n      <td>-0.58</td>\n      <td>-0.44</td>\n      <td>0.13</td>\n      <td>0.53</td>\n      <td>-0.23</td>\n    </tr>\n  </tbody>\n</table>\n<p>834 rows × 12 columns</p>\n</div>"
     },
     "execution_count": 17,
     "metadata": {},
     "output_type": "execute_result"
    }
   ],
   "source": [
    "main"
   ],
   "metadata": {
    "collapsed": false,
    "pycharm": {
     "name": "#%%\n"
    }
   }
  },
  {
   "cell_type": "code",
   "execution_count": null,
   "outputs": [],
   "source": [
    "# 위에서 생성한 main 데이터프레임을 x, 상승/하락을 표기한 Either 칼럼을 y 값으로 설정하고 데이터 분리\n",
    "\n",
    "x_main = main\n",
    "y_main = fin['Either']\n",
    "\n",
    "x_train_main, x_test_main, y_train_main, y_test_main = train_test_split(x_main, y_main,\n",
    "                                                    stratify=y_main,\n",
    "                                                    test_size=0.3)"
   ],
   "metadata": {
    "collapsed": false,
    "pycharm": {
     "name": "#%%\n"
    }
   }
  },
  {
   "cell_type": "code",
   "execution_count": null,
   "outputs": [],
   "source": [
    "# 위에서 생성한 기사 제목 데이터프레임을 x, 상승/하락을 표기한 Either 칼럼을 y 값으로 설정하고 데이터 분리\n",
    "\n",
    "x = title\n",
    "y = title['Either']\n",
    "\n",
    "x_train_title, x_test_title, y_train_title, y_test_title = train_test_split(x, y,\n",
    "                                                    stratify=y,\n",
    "                                                    test_size=0.3)"
   ],
   "metadata": {
    "collapsed": false,
    "pycharm": {
     "name": "#%%\n"
    }
   }
  },
  {
   "cell_type": "code",
   "execution_count": null,
   "outputs": [
    {
     "name": "stdout",
     "output_type": "stream",
     "text": [
      "(583, 12) (251, 12)\n"
     ]
    },
    {
     "data": {
      "text/plain": "(array([0, 1], dtype=int64), array([280, 303], dtype=int64))"
     },
     "execution_count": 20,
     "metadata": {},
     "output_type": "execute_result"
    }
   ],
   "source": [
    "print(x_train_main.shape, x_test_main.shape) # 훈련세트, 테스트세트 비율 확인\n",
    "np.unique(y_train_main, return_counts=True) # 훈련세트의 타깃(라벨) 확인"
   ],
   "metadata": {
    "collapsed": false,
    "pycharm": {
     "name": "#%%\n"
    }
   }
  },
  {
   "cell_type": "code",
   "execution_count": null,
   "outputs": [],
   "source": [
    "# 회사명과 날짜는 의미가 없는 칼럼이기 때문에 제거\n",
    "\n",
    "x_train_main_sub = x_train_main.drop(['회사명','날짜'], axis=1)"
   ],
   "metadata": {
    "collapsed": false,
    "pycharm": {
     "name": "#%%\n"
    }
   }
  },
  {
   "cell_type": "code",
   "execution_count": null,
   "outputs": [
    {
     "data": {
      "text/plain": "     5일전_종가  4일전_종가  3일전_종가  2일전_종가  1일전_종가  5일전_거래량  4일전_거래량  3일전_거래량  \\\n149   -0.02    0.02   -0.02   -0.01    0.02     0.34    -0.28    -0.31   \n414    0.00    0.01    0.03   -0.02    0.00     0.09     0.17     1.16   \n243    0.05    0.00   -0.01   -0.03    0.03     0.40    -0.25    -0.31   \n771    0.01    0.00   -0.02   -0.03   -0.01    -0.13     0.25     0.78   \n749    0.02    0.01   -0.02    0.02    0.02     0.00    -0.39     0.80   \n..      ...     ...     ...     ...     ...      ...      ...      ...   \n645    0.00    0.02    0.02   -0.04   -0.03    -0.29     0.39     0.15   \n618   -0.02    0.03    0.00   -0.02   -0.01    -0.30     0.22    -0.07   \n803    0.00   -0.02    0.01    0.01   -0.01    -0.63     0.12    -0.38   \n808    0.05   -0.01    0.01   -0.01   -0.02     2.17    -0.69     0.09   \n159    0.01    0.01   -0.02    0.00    0.03     0.73     0.73    -0.22   \n\n     2일전_거래량  1일전_거래량  \n149     0.83    -0.14  \n414    -0.41    -0.04  \n243     0.07     0.31  \n771    -0.01    -0.20  \n749    -0.27     0.03  \n..       ...      ...  \n645    -0.32     0.44  \n618    -0.21    -0.25  \n803     0.88    -0.39  \n808    -0.33     0.06  \n159    -0.41     0.75  \n\n[583 rows x 10 columns]",
      "text/html": "<div>\n<style scoped>\n    .dataframe tbody tr th:only-of-type {\n        vertical-align: middle;\n    }\n\n    .dataframe tbody tr th {\n        vertical-align: top;\n    }\n\n    .dataframe thead th {\n        text-align: right;\n    }\n</style>\n<table border=\"1\" class=\"dataframe\">\n  <thead>\n    <tr style=\"text-align: right;\">\n      <th></th>\n      <th>5일전_종가</th>\n      <th>4일전_종가</th>\n      <th>3일전_종가</th>\n      <th>2일전_종가</th>\n      <th>1일전_종가</th>\n      <th>5일전_거래량</th>\n      <th>4일전_거래량</th>\n      <th>3일전_거래량</th>\n      <th>2일전_거래량</th>\n      <th>1일전_거래량</th>\n    </tr>\n  </thead>\n  <tbody>\n    <tr>\n      <th>149</th>\n      <td>-0.02</td>\n      <td>0.02</td>\n      <td>-0.02</td>\n      <td>-0.01</td>\n      <td>0.02</td>\n      <td>0.34</td>\n      <td>-0.28</td>\n      <td>-0.31</td>\n      <td>0.83</td>\n      <td>-0.14</td>\n    </tr>\n    <tr>\n      <th>414</th>\n      <td>0.00</td>\n      <td>0.01</td>\n      <td>0.03</td>\n      <td>-0.02</td>\n      <td>0.00</td>\n      <td>0.09</td>\n      <td>0.17</td>\n      <td>1.16</td>\n      <td>-0.41</td>\n      <td>-0.04</td>\n    </tr>\n    <tr>\n      <th>243</th>\n      <td>0.05</td>\n      <td>0.00</td>\n      <td>-0.01</td>\n      <td>-0.03</td>\n      <td>0.03</td>\n      <td>0.40</td>\n      <td>-0.25</td>\n      <td>-0.31</td>\n      <td>0.07</td>\n      <td>0.31</td>\n    </tr>\n    <tr>\n      <th>771</th>\n      <td>0.01</td>\n      <td>0.00</td>\n      <td>-0.02</td>\n      <td>-0.03</td>\n      <td>-0.01</td>\n      <td>-0.13</td>\n      <td>0.25</td>\n      <td>0.78</td>\n      <td>-0.01</td>\n      <td>-0.20</td>\n    </tr>\n    <tr>\n      <th>749</th>\n      <td>0.02</td>\n      <td>0.01</td>\n      <td>-0.02</td>\n      <td>0.02</td>\n      <td>0.02</td>\n      <td>0.00</td>\n      <td>-0.39</td>\n      <td>0.80</td>\n      <td>-0.27</td>\n      <td>0.03</td>\n    </tr>\n    <tr>\n      <th>...</th>\n      <td>...</td>\n      <td>...</td>\n      <td>...</td>\n      <td>...</td>\n      <td>...</td>\n      <td>...</td>\n      <td>...</td>\n      <td>...</td>\n      <td>...</td>\n      <td>...</td>\n    </tr>\n    <tr>\n      <th>645</th>\n      <td>0.00</td>\n      <td>0.02</td>\n      <td>0.02</td>\n      <td>-0.04</td>\n      <td>-0.03</td>\n      <td>-0.29</td>\n      <td>0.39</td>\n      <td>0.15</td>\n      <td>-0.32</td>\n      <td>0.44</td>\n    </tr>\n    <tr>\n      <th>618</th>\n      <td>-0.02</td>\n      <td>0.03</td>\n      <td>0.00</td>\n      <td>-0.02</td>\n      <td>-0.01</td>\n      <td>-0.30</td>\n      <td>0.22</td>\n      <td>-0.07</td>\n      <td>-0.21</td>\n      <td>-0.25</td>\n    </tr>\n    <tr>\n      <th>803</th>\n      <td>0.00</td>\n      <td>-0.02</td>\n      <td>0.01</td>\n      <td>0.01</td>\n      <td>-0.01</td>\n      <td>-0.63</td>\n      <td>0.12</td>\n      <td>-0.38</td>\n      <td>0.88</td>\n      <td>-0.39</td>\n    </tr>\n    <tr>\n      <th>808</th>\n      <td>0.05</td>\n      <td>-0.01</td>\n      <td>0.01</td>\n      <td>-0.01</td>\n      <td>-0.02</td>\n      <td>2.17</td>\n      <td>-0.69</td>\n      <td>0.09</td>\n      <td>-0.33</td>\n      <td>0.06</td>\n    </tr>\n    <tr>\n      <th>159</th>\n      <td>0.01</td>\n      <td>0.01</td>\n      <td>-0.02</td>\n      <td>0.00</td>\n      <td>0.03</td>\n      <td>0.73</td>\n      <td>0.73</td>\n      <td>-0.22</td>\n      <td>-0.41</td>\n      <td>0.75</td>\n    </tr>\n  </tbody>\n</table>\n<p>583 rows × 10 columns</p>\n</div>"
     },
     "execution_count": 22,
     "metadata": {},
     "output_type": "execute_result"
    }
   ],
   "source": [
    "x_train_main_sub"
   ],
   "metadata": {
    "collapsed": false,
    "pycharm": {
     "name": "#%%\n"
    }
   }
  },
  {
   "cell_type": "code",
   "execution_count": null,
   "outputs": [
    {
     "data": {
      "text/plain": "         회사명        날짜  5일전_종가  4일전_종가  3일전_종가  2일전_종가  1일전_종가  5일전_거래량  \\\n149  삼성에스디에스  20221228   -0.02    0.02   -0.02   -0.01    0.02     0.34   \n414   SK하이닉스  20201209    0.00    0.01    0.03   -0.02    0.00     0.09   \n243    삼성SDI  20210222    0.05    0.00   -0.01   -0.03    0.03     0.40   \n771  LG디스플레이  20210818    0.01    0.00   -0.02   -0.03   -0.01    -0.13   \n749  LG디스플레이  20210114    0.02    0.01   -0.02    0.02    0.02     0.00   \n..       ...       ...     ...     ...     ...     ...     ...      ...   \n645     LG전자  20220913    0.00    0.02    0.02   -0.04   -0.03    -0.29   \n618     LG전자  20211221   -0.02    0.03    0.00   -0.02   -0.01    -0.30   \n803  LG디스플레이  20220613    0.00   -0.02    0.01    0.01   -0.01    -0.63   \n808  LG디스플레이  20220819    0.05   -0.01    0.01   -0.01   -0.02     2.17   \n159    삼성SDI  20190307    0.01    0.01   -0.02    0.00    0.03     0.73   \n\n     4일전_거래량  3일전_거래량  2일전_거래량  1일전_거래량  \n149    -0.28    -0.31     0.83    -0.14  \n414     0.17     1.16    -0.41    -0.04  \n243    -0.25    -0.31     0.07     0.31  \n771     0.25     0.78    -0.01    -0.20  \n749    -0.39     0.80    -0.27     0.03  \n..       ...      ...      ...      ...  \n645     0.39     0.15    -0.32     0.44  \n618     0.22    -0.07    -0.21    -0.25  \n803     0.12    -0.38     0.88    -0.39  \n808    -0.69     0.09    -0.33     0.06  \n159     0.73    -0.22    -0.41     0.75  \n\n[583 rows x 12 columns]",
      "text/html": "<div>\n<style scoped>\n    .dataframe tbody tr th:only-of-type {\n        vertical-align: middle;\n    }\n\n    .dataframe tbody tr th {\n        vertical-align: top;\n    }\n\n    .dataframe thead th {\n        text-align: right;\n    }\n</style>\n<table border=\"1\" class=\"dataframe\">\n  <thead>\n    <tr style=\"text-align: right;\">\n      <th></th>\n      <th>회사명</th>\n      <th>날짜</th>\n      <th>5일전_종가</th>\n      <th>4일전_종가</th>\n      <th>3일전_종가</th>\n      <th>2일전_종가</th>\n      <th>1일전_종가</th>\n      <th>5일전_거래량</th>\n      <th>4일전_거래량</th>\n      <th>3일전_거래량</th>\n      <th>2일전_거래량</th>\n      <th>1일전_거래량</th>\n    </tr>\n  </thead>\n  <tbody>\n    <tr>\n      <th>149</th>\n      <td>삼성에스디에스</td>\n      <td>20221228</td>\n      <td>-0.02</td>\n      <td>0.02</td>\n      <td>-0.02</td>\n      <td>-0.01</td>\n      <td>0.02</td>\n      <td>0.34</td>\n      <td>-0.28</td>\n      <td>-0.31</td>\n      <td>0.83</td>\n      <td>-0.14</td>\n    </tr>\n    <tr>\n      <th>414</th>\n      <td>SK하이닉스</td>\n      <td>20201209</td>\n      <td>0.00</td>\n      <td>0.01</td>\n      <td>0.03</td>\n      <td>-0.02</td>\n      <td>0.00</td>\n      <td>0.09</td>\n      <td>0.17</td>\n      <td>1.16</td>\n      <td>-0.41</td>\n      <td>-0.04</td>\n    </tr>\n    <tr>\n      <th>243</th>\n      <td>삼성SDI</td>\n      <td>20210222</td>\n      <td>0.05</td>\n      <td>0.00</td>\n      <td>-0.01</td>\n      <td>-0.03</td>\n      <td>0.03</td>\n      <td>0.40</td>\n      <td>-0.25</td>\n      <td>-0.31</td>\n      <td>0.07</td>\n      <td>0.31</td>\n    </tr>\n    <tr>\n      <th>771</th>\n      <td>LG디스플레이</td>\n      <td>20210818</td>\n      <td>0.01</td>\n      <td>0.00</td>\n      <td>-0.02</td>\n      <td>-0.03</td>\n      <td>-0.01</td>\n      <td>-0.13</td>\n      <td>0.25</td>\n      <td>0.78</td>\n      <td>-0.01</td>\n      <td>-0.20</td>\n    </tr>\n    <tr>\n      <th>749</th>\n      <td>LG디스플레이</td>\n      <td>20210114</td>\n      <td>0.02</td>\n      <td>0.01</td>\n      <td>-0.02</td>\n      <td>0.02</td>\n      <td>0.02</td>\n      <td>0.00</td>\n      <td>-0.39</td>\n      <td>0.80</td>\n      <td>-0.27</td>\n      <td>0.03</td>\n    </tr>\n    <tr>\n      <th>...</th>\n      <td>...</td>\n      <td>...</td>\n      <td>...</td>\n      <td>...</td>\n      <td>...</td>\n      <td>...</td>\n      <td>...</td>\n      <td>...</td>\n      <td>...</td>\n      <td>...</td>\n      <td>...</td>\n      <td>...</td>\n    </tr>\n    <tr>\n      <th>645</th>\n      <td>LG전자</td>\n      <td>20220913</td>\n      <td>0.00</td>\n      <td>0.02</td>\n      <td>0.02</td>\n      <td>-0.04</td>\n      <td>-0.03</td>\n      <td>-0.29</td>\n      <td>0.39</td>\n      <td>0.15</td>\n      <td>-0.32</td>\n      <td>0.44</td>\n    </tr>\n    <tr>\n      <th>618</th>\n      <td>LG전자</td>\n      <td>20211221</td>\n      <td>-0.02</td>\n      <td>0.03</td>\n      <td>0.00</td>\n      <td>-0.02</td>\n      <td>-0.01</td>\n      <td>-0.30</td>\n      <td>0.22</td>\n      <td>-0.07</td>\n      <td>-0.21</td>\n      <td>-0.25</td>\n    </tr>\n    <tr>\n      <th>803</th>\n      <td>LG디스플레이</td>\n      <td>20220613</td>\n      <td>0.00</td>\n      <td>-0.02</td>\n      <td>0.01</td>\n      <td>0.01</td>\n      <td>-0.01</td>\n      <td>-0.63</td>\n      <td>0.12</td>\n      <td>-0.38</td>\n      <td>0.88</td>\n      <td>-0.39</td>\n    </tr>\n    <tr>\n      <th>808</th>\n      <td>LG디스플레이</td>\n      <td>20220819</td>\n      <td>0.05</td>\n      <td>-0.01</td>\n      <td>0.01</td>\n      <td>-0.01</td>\n      <td>-0.02</td>\n      <td>2.17</td>\n      <td>-0.69</td>\n      <td>0.09</td>\n      <td>-0.33</td>\n      <td>0.06</td>\n    </tr>\n    <tr>\n      <th>159</th>\n      <td>삼성SDI</td>\n      <td>20190307</td>\n      <td>0.01</td>\n      <td>0.01</td>\n      <td>-0.02</td>\n      <td>0.00</td>\n      <td>0.03</td>\n      <td>0.73</td>\n      <td>0.73</td>\n      <td>-0.22</td>\n      <td>-0.41</td>\n      <td>0.75</td>\n    </tr>\n  </tbody>\n</table>\n<p>583 rows × 12 columns</p>\n</div>"
     },
     "execution_count": 23,
     "metadata": {},
     "output_type": "execute_result"
    }
   ],
   "source": [
    "x_train_main"
   ],
   "metadata": {
    "collapsed": false,
    "pycharm": {
     "name": "#%%\n"
    }
   }
  },
  {
   "cell_type": "code",
   "execution_count": null,
   "outputs": [
    {
     "data": {
      "text/plain": "         회사명        날짜  5일전_종가  4일전_종가  3일전_종가  2일전_종가  1일전_종가  5일전_거래량  \\\n419   SK하이닉스  20210105   -0.02    0.01    0.03    0.00    0.03    -0.83   \n679  LG디스플레이  20191002   -0.01   -0.01   -0.02    0.03   -0.01    -0.10   \n712  LG디스플레이  20200504    0.00   -0.03    0.03    0.02    0.00    -0.16   \n569     LG전자  20210122   -0.02   -0.02    0.02    0.01    0.10    -0.40   \n408   SK하이닉스  20201013    0.02   -0.02   -0.01    0.04    0.00    -0.05   \n..       ...       ...     ...     ...     ...     ...     ...      ...   \n752  LG디스플레이  20210129    0.01    0.00    0.02   -0.05    0.00    -0.66   \n661  LG디스플레이  20190328    0.01    0.00   -0.02    0.00   -0.01     0.88   \n230    삼성SDI  20201116    0.02   -0.02    0.02   -0.01   -0.02     0.00   \n248    삼성SDI  20210311   -0.01   -0.01   -0.02    0.00   -0.01     0.13   \n250    삼성SDI  20210318    0.03    0.01   -0.02    0.01   -0.01     0.41   \n\n     4일전_거래량  3일전_거래량  2일전_거래량  1일전_거래량  \n419     0.34    -0.39    -0.46     0.69  \n679     0.01    -0.36     0.33    -0.09  \n712     0.06    -0.22     0.62    -0.20  \n569    -0.37    -0.07     0.03     6.72  \n408     0.38    -0.20     0.94    -0.41  \n..       ...      ...      ...      ...  \n752    -0.58     0.72     0.25    -0.27  \n661    -0.27    -0.32     0.00     0.39  \n230     0.37    -0.15     0.29    -0.23  \n248     0.60    -0.47     0.55    -0.32  \n250    -0.34    -0.24     0.33     0.18  \n\n[251 rows x 12 columns]",
      "text/html": "<div>\n<style scoped>\n    .dataframe tbody tr th:only-of-type {\n        vertical-align: middle;\n    }\n\n    .dataframe tbody tr th {\n        vertical-align: top;\n    }\n\n    .dataframe thead th {\n        text-align: right;\n    }\n</style>\n<table border=\"1\" class=\"dataframe\">\n  <thead>\n    <tr style=\"text-align: right;\">\n      <th></th>\n      <th>회사명</th>\n      <th>날짜</th>\n      <th>5일전_종가</th>\n      <th>4일전_종가</th>\n      <th>3일전_종가</th>\n      <th>2일전_종가</th>\n      <th>1일전_종가</th>\n      <th>5일전_거래량</th>\n      <th>4일전_거래량</th>\n      <th>3일전_거래량</th>\n      <th>2일전_거래량</th>\n      <th>1일전_거래량</th>\n    </tr>\n  </thead>\n  <tbody>\n    <tr>\n      <th>419</th>\n      <td>SK하이닉스</td>\n      <td>20210105</td>\n      <td>-0.02</td>\n      <td>0.01</td>\n      <td>0.03</td>\n      <td>0.00</td>\n      <td>0.03</td>\n      <td>-0.83</td>\n      <td>0.34</td>\n      <td>-0.39</td>\n      <td>-0.46</td>\n      <td>0.69</td>\n    </tr>\n    <tr>\n      <th>679</th>\n      <td>LG디스플레이</td>\n      <td>20191002</td>\n      <td>-0.01</td>\n      <td>-0.01</td>\n      <td>-0.02</td>\n      <td>0.03</td>\n      <td>-0.01</td>\n      <td>-0.10</td>\n      <td>0.01</td>\n      <td>-0.36</td>\n      <td>0.33</td>\n      <td>-0.09</td>\n    </tr>\n    <tr>\n      <th>712</th>\n      <td>LG디스플레이</td>\n      <td>20200504</td>\n      <td>0.00</td>\n      <td>-0.03</td>\n      <td>0.03</td>\n      <td>0.02</td>\n      <td>0.00</td>\n      <td>-0.16</td>\n      <td>0.06</td>\n      <td>-0.22</td>\n      <td>0.62</td>\n      <td>-0.20</td>\n    </tr>\n    <tr>\n      <th>569</th>\n      <td>LG전자</td>\n      <td>20210122</td>\n      <td>-0.02</td>\n      <td>-0.02</td>\n      <td>0.02</td>\n      <td>0.01</td>\n      <td>0.10</td>\n      <td>-0.40</td>\n      <td>-0.37</td>\n      <td>-0.07</td>\n      <td>0.03</td>\n      <td>6.72</td>\n    </tr>\n    <tr>\n      <th>408</th>\n      <td>SK하이닉스</td>\n      <td>20201013</td>\n      <td>0.02</td>\n      <td>-0.02</td>\n      <td>-0.01</td>\n      <td>0.04</td>\n      <td>0.00</td>\n      <td>-0.05</td>\n      <td>0.38</td>\n      <td>-0.20</td>\n      <td>0.94</td>\n      <td>-0.41</td>\n    </tr>\n    <tr>\n      <th>...</th>\n      <td>...</td>\n      <td>...</td>\n      <td>...</td>\n      <td>...</td>\n      <td>...</td>\n      <td>...</td>\n      <td>...</td>\n      <td>...</td>\n      <td>...</td>\n      <td>...</td>\n      <td>...</td>\n      <td>...</td>\n    </tr>\n    <tr>\n      <th>752</th>\n      <td>LG디스플레이</td>\n      <td>20210129</td>\n      <td>0.01</td>\n      <td>0.00</td>\n      <td>0.02</td>\n      <td>-0.05</td>\n      <td>0.00</td>\n      <td>-0.66</td>\n      <td>-0.58</td>\n      <td>0.72</td>\n      <td>0.25</td>\n      <td>-0.27</td>\n    </tr>\n    <tr>\n      <th>661</th>\n      <td>LG디스플레이</td>\n      <td>20190328</td>\n      <td>0.01</td>\n      <td>0.00</td>\n      <td>-0.02</td>\n      <td>0.00</td>\n      <td>-0.01</td>\n      <td>0.88</td>\n      <td>-0.27</td>\n      <td>-0.32</td>\n      <td>0.00</td>\n      <td>0.39</td>\n    </tr>\n    <tr>\n      <th>230</th>\n      <td>삼성SDI</td>\n      <td>20201116</td>\n      <td>0.02</td>\n      <td>-0.02</td>\n      <td>0.02</td>\n      <td>-0.01</td>\n      <td>-0.02</td>\n      <td>0.00</td>\n      <td>0.37</td>\n      <td>-0.15</td>\n      <td>0.29</td>\n      <td>-0.23</td>\n    </tr>\n    <tr>\n      <th>248</th>\n      <td>삼성SDI</td>\n      <td>20210311</td>\n      <td>-0.01</td>\n      <td>-0.01</td>\n      <td>-0.02</td>\n      <td>0.00</td>\n      <td>-0.01</td>\n      <td>0.13</td>\n      <td>0.60</td>\n      <td>-0.47</td>\n      <td>0.55</td>\n      <td>-0.32</td>\n    </tr>\n    <tr>\n      <th>250</th>\n      <td>삼성SDI</td>\n      <td>20210318</td>\n      <td>0.03</td>\n      <td>0.01</td>\n      <td>-0.02</td>\n      <td>0.01</td>\n      <td>-0.01</td>\n      <td>0.41</td>\n      <td>-0.34</td>\n      <td>-0.24</td>\n      <td>0.33</td>\n      <td>0.18</td>\n    </tr>\n  </tbody>\n</table>\n<p>251 rows × 12 columns</p>\n</div>"
     },
     "execution_count": 24,
     "metadata": {},
     "output_type": "execute_result"
    }
   ],
   "source": [
    "x_test_main"
   ],
   "metadata": {
    "collapsed": false,
    "pycharm": {
     "name": "#%%\n"
    }
   }
  },
  {
   "cell_type": "code",
   "execution_count": 78,
   "outputs": [],
   "source": [
    "# 제목을 이용한 예측과 종가/거래량을 이용한 예측의 학습과 테스트가 같은 데이터로 이루어져야하기 때문에 merge를 통해\n",
    "# 제목을 이용한 예측을 위한 test/train data 생성\n",
    "\n",
    "test_newtitle = pd.merge(x_test_main,title, on=[\"회사명\",\"날짜\"])"
   ],
   "metadata": {
    "collapsed": false,
    "pycharm": {
     "name": "#%%\n"
    }
   }
  },
  {
   "cell_type": "code",
   "execution_count": 79,
   "outputs": [
    {
     "data": {
      "text/plain": "         회사명        날짜  5일전_종가  4일전_종가  3일전_종가  2일전_종가  1일전_종가  5일전_거래량  \\\n0     SK하이닉스  20210105   -0.02    0.01    0.03    0.00    0.03    -0.83   \n1     SK하이닉스  20210105   -0.02    0.01    0.03    0.00    0.03    -0.83   \n2     SK하이닉스  20210105   -0.02    0.01    0.03    0.00    0.03    -0.83   \n3     SK하이닉스  20210105   -0.02    0.01    0.03    0.00    0.03    -0.83   \n4     SK하이닉스  20210105   -0.02    0.01    0.03    0.00    0.03    -0.83   \n...      ...       ...     ...     ...     ...     ...     ...      ...   \n2380   삼성SDI  20210318    0.03    0.01   -0.02    0.01   -0.01     0.41   \n2381   삼성SDI  20210318    0.03    0.01   -0.02    0.01   -0.01     0.41   \n2382   삼성SDI  20210318    0.03    0.01   -0.02    0.01   -0.01     0.41   \n2383   삼성SDI  20210318    0.03    0.01   -0.02    0.01   -0.01     0.41   \n2384   삼성SDI  20210318    0.03    0.01   -0.02    0.01   -0.01     0.41   \n\n      4일전_거래량  3일전_거래량  2일전_거래량  1일전_거래량  \\\n0        0.34    -0.39    -0.46     0.69   \n1        0.34    -0.39    -0.46     0.69   \n2        0.34    -0.39    -0.46     0.69   \n3        0.34    -0.39    -0.46     0.69   \n4        0.34    -0.39    -0.46     0.69   \n...       ...      ...      ...      ...   \n2380    -0.34    -0.24     0.33     0.18   \n2381    -0.34    -0.24     0.33     0.18   \n2382    -0.34    -0.24     0.33     0.18   \n2383    -0.34    -0.24     0.33     0.18   \n2384    -0.34    -0.24     0.33     0.18   \n\n                                                 title  Either  \n0                 [신년사] 박정호SK하이닉스부회장 \"경쟁자와도 손잡고 협업해야\"        1  \n1                        SK하이닉스, IT 수요 호조세 지속…목표가↑-유진        1  \n2                   [특징주]삼성전자·SK하이닉스, 반도체 대장주 나란히 신고가        1  \n3                  [특징주] 삼성전자·SK하이닉스신고가…반도체株 새해 첫날 강세        1  \n4             [채널Who]SK하이닉스D램과 낸드 두 날개, 이석희 비메모리 씨 뿌려        1  \n...                                                ...     ...  \n2380                       캐나다 네오배터리,삼성SDI·LG엔솔 인력 영입        1  \n2381  삼성전기 \"조직문화 혁신, 5년내 매출 2배\"삼성SDI\"절대적 품질 우위로 게임...        1  \n2382               폭스바겐 파워데이 후폭풍…LG화학삼성SDISK이노 이틀째 하락        1  \n2383                     대전여상,삼성 SDI·KT&G 등에 '44명' 합격        1  \n2384             코스피, 개미들 1조원 '사자'에도 1%↓…삼성SDI6% '하락'        1  \n\n[2385 rows x 14 columns]",
      "text/html": "<div>\n<style scoped>\n    .dataframe tbody tr th:only-of-type {\n        vertical-align: middle;\n    }\n\n    .dataframe tbody tr th {\n        vertical-align: top;\n    }\n\n    .dataframe thead th {\n        text-align: right;\n    }\n</style>\n<table border=\"1\" class=\"dataframe\">\n  <thead>\n    <tr style=\"text-align: right;\">\n      <th></th>\n      <th>회사명</th>\n      <th>날짜</th>\n      <th>5일전_종가</th>\n      <th>4일전_종가</th>\n      <th>3일전_종가</th>\n      <th>2일전_종가</th>\n      <th>1일전_종가</th>\n      <th>5일전_거래량</th>\n      <th>4일전_거래량</th>\n      <th>3일전_거래량</th>\n      <th>2일전_거래량</th>\n      <th>1일전_거래량</th>\n      <th>title</th>\n      <th>Either</th>\n    </tr>\n  </thead>\n  <tbody>\n    <tr>\n      <th>0</th>\n      <td>SK하이닉스</td>\n      <td>20210105</td>\n      <td>-0.02</td>\n      <td>0.01</td>\n      <td>0.03</td>\n      <td>0.00</td>\n      <td>0.03</td>\n      <td>-0.83</td>\n      <td>0.34</td>\n      <td>-0.39</td>\n      <td>-0.46</td>\n      <td>0.69</td>\n      <td>[신년사] 박정호SK하이닉스부회장 \"경쟁자와도 손잡고 협업해야\"</td>\n      <td>1</td>\n    </tr>\n    <tr>\n      <th>1</th>\n      <td>SK하이닉스</td>\n      <td>20210105</td>\n      <td>-0.02</td>\n      <td>0.01</td>\n      <td>0.03</td>\n      <td>0.00</td>\n      <td>0.03</td>\n      <td>-0.83</td>\n      <td>0.34</td>\n      <td>-0.39</td>\n      <td>-0.46</td>\n      <td>0.69</td>\n      <td>SK하이닉스, IT 수요 호조세 지속…목표가↑-유진</td>\n      <td>1</td>\n    </tr>\n    <tr>\n      <th>2</th>\n      <td>SK하이닉스</td>\n      <td>20210105</td>\n      <td>-0.02</td>\n      <td>0.01</td>\n      <td>0.03</td>\n      <td>0.00</td>\n      <td>0.03</td>\n      <td>-0.83</td>\n      <td>0.34</td>\n      <td>-0.39</td>\n      <td>-0.46</td>\n      <td>0.69</td>\n      <td>[특징주]삼성전자·SK하이닉스, 반도체 대장주 나란히 신고가</td>\n      <td>1</td>\n    </tr>\n    <tr>\n      <th>3</th>\n      <td>SK하이닉스</td>\n      <td>20210105</td>\n      <td>-0.02</td>\n      <td>0.01</td>\n      <td>0.03</td>\n      <td>0.00</td>\n      <td>0.03</td>\n      <td>-0.83</td>\n      <td>0.34</td>\n      <td>-0.39</td>\n      <td>-0.46</td>\n      <td>0.69</td>\n      <td>[특징주] 삼성전자·SK하이닉스신고가…반도체株 새해 첫날 강세</td>\n      <td>1</td>\n    </tr>\n    <tr>\n      <th>4</th>\n      <td>SK하이닉스</td>\n      <td>20210105</td>\n      <td>-0.02</td>\n      <td>0.01</td>\n      <td>0.03</td>\n      <td>0.00</td>\n      <td>0.03</td>\n      <td>-0.83</td>\n      <td>0.34</td>\n      <td>-0.39</td>\n      <td>-0.46</td>\n      <td>0.69</td>\n      <td>[채널Who]SK하이닉스D램과 낸드 두 날개, 이석희 비메모리 씨 뿌려</td>\n      <td>1</td>\n    </tr>\n    <tr>\n      <th>...</th>\n      <td>...</td>\n      <td>...</td>\n      <td>...</td>\n      <td>...</td>\n      <td>...</td>\n      <td>...</td>\n      <td>...</td>\n      <td>...</td>\n      <td>...</td>\n      <td>...</td>\n      <td>...</td>\n      <td>...</td>\n      <td>...</td>\n      <td>...</td>\n    </tr>\n    <tr>\n      <th>2380</th>\n      <td>삼성SDI</td>\n      <td>20210318</td>\n      <td>0.03</td>\n      <td>0.01</td>\n      <td>-0.02</td>\n      <td>0.01</td>\n      <td>-0.01</td>\n      <td>0.41</td>\n      <td>-0.34</td>\n      <td>-0.24</td>\n      <td>0.33</td>\n      <td>0.18</td>\n      <td>캐나다 네오배터리,삼성SDI·LG엔솔 인력 영입</td>\n      <td>1</td>\n    </tr>\n    <tr>\n      <th>2381</th>\n      <td>삼성SDI</td>\n      <td>20210318</td>\n      <td>0.03</td>\n      <td>0.01</td>\n      <td>-0.02</td>\n      <td>0.01</td>\n      <td>-0.01</td>\n      <td>0.41</td>\n      <td>-0.34</td>\n      <td>-0.24</td>\n      <td>0.33</td>\n      <td>0.18</td>\n      <td>삼성전기 \"조직문화 혁신, 5년내 매출 2배\"삼성SDI\"절대적 품질 우위로 게임...</td>\n      <td>1</td>\n    </tr>\n    <tr>\n      <th>2382</th>\n      <td>삼성SDI</td>\n      <td>20210318</td>\n      <td>0.03</td>\n      <td>0.01</td>\n      <td>-0.02</td>\n      <td>0.01</td>\n      <td>-0.01</td>\n      <td>0.41</td>\n      <td>-0.34</td>\n      <td>-0.24</td>\n      <td>0.33</td>\n      <td>0.18</td>\n      <td>폭스바겐 파워데이 후폭풍…LG화학삼성SDISK이노 이틀째 하락</td>\n      <td>1</td>\n    </tr>\n    <tr>\n      <th>2383</th>\n      <td>삼성SDI</td>\n      <td>20210318</td>\n      <td>0.03</td>\n      <td>0.01</td>\n      <td>-0.02</td>\n      <td>0.01</td>\n      <td>-0.01</td>\n      <td>0.41</td>\n      <td>-0.34</td>\n      <td>-0.24</td>\n      <td>0.33</td>\n      <td>0.18</td>\n      <td>대전여상,삼성 SDI·KT&amp;G 등에 '44명' 합격</td>\n      <td>1</td>\n    </tr>\n    <tr>\n      <th>2384</th>\n      <td>삼성SDI</td>\n      <td>20210318</td>\n      <td>0.03</td>\n      <td>0.01</td>\n      <td>-0.02</td>\n      <td>0.01</td>\n      <td>-0.01</td>\n      <td>0.41</td>\n      <td>-0.34</td>\n      <td>-0.24</td>\n      <td>0.33</td>\n      <td>0.18</td>\n      <td>코스피, 개미들 1조원 '사자'에도 1%↓…삼성SDI6% '하락'</td>\n      <td>1</td>\n    </tr>\n  </tbody>\n</table>\n<p>2385 rows × 14 columns</p>\n</div>"
     },
     "execution_count": 79,
     "metadata": {},
     "output_type": "execute_result"
    }
   ],
   "source": [
    "test_newtitle"
   ],
   "metadata": {
    "collapsed": false,
    "pycharm": {
     "name": "#%%\n"
    }
   }
  },
  {
   "cell_type": "code",
   "execution_count": 71,
   "outputs": [],
   "source": [
    "train_newtitle = pd.merge(x_train_main,title, on=[\"회사명\",\"날짜\"])"
   ],
   "metadata": {
    "collapsed": false,
    "pycharm": {
     "name": "#%%\n"
    }
   }
  },
  {
   "cell_type": "code",
   "execution_count": 72,
   "outputs": [
    {
     "data": {
      "text/plain": "          회사명        날짜  5일전_종가  4일전_종가  3일전_종가  2일전_종가  1일전_종가  5일전_거래량  \\\n0     삼성에스디에스  20221228   -0.02    0.02   -0.02   -0.01    0.02     0.34   \n1     삼성에스디에스  20221228   -0.02    0.02   -0.02   -0.01    0.02     0.34   \n2      SK하이닉스  20201209    0.00    0.01    0.03   -0.02    0.00     0.09   \n3      SK하이닉스  20201209    0.00    0.01    0.03   -0.02    0.00     0.09   \n4      SK하이닉스  20201209    0.00    0.01    0.03   -0.02    0.00     0.09   \n...       ...       ...     ...     ...     ...     ...     ...      ...   \n5515    삼성SDI  20190307    0.01    0.01   -0.02    0.00    0.03     0.73   \n5516    삼성SDI  20190307    0.01    0.01   -0.02    0.00    0.03     0.73   \n5517    삼성SDI  20190307    0.01    0.01   -0.02    0.00    0.03     0.73   \n5518    삼성SDI  20190307    0.01    0.01   -0.02    0.00    0.03     0.73   \n5519    삼성SDI  20190307    0.01    0.01   -0.02    0.00    0.03     0.73   \n\n      4일전_거래량  3일전_거래량  2일전_거래량  1일전_거래량  \\\n0       -0.28    -0.31     0.83    -0.14   \n1       -0.28    -0.31     0.83    -0.14   \n2        0.17     1.16    -0.41    -0.04   \n3        0.17     1.16    -0.41    -0.04   \n4        0.17     1.16    -0.41    -0.04   \n...       ...      ...      ...      ...   \n5515     0.73    -0.22    -0.41     0.75   \n5516     0.73    -0.22    -0.41     0.75   \n5517     0.73    -0.22    -0.41     0.75   \n5518     0.73    -0.22    -0.41     0.75   \n5519     0.73    -0.22    -0.41     0.75   \n\n                                                  title  Either  \n0                     삼성SDS, 최고권위 AI 국제학회에 기술논문 잇따라 등재        0  \n1        [삼성그룹] 시가총액 1570억 증가...삼성바이오로직스 1.99% 상승 '미소'        0  \n2                         SK하이닉스, 반도체 中企에 기술 무상으로 나눠준다        1  \n3                          SK하이닉스, 최첨단 ‘176단 4D 낸드’ 개발        1  \n4                  '外人 러브콜'SK하이닉스신고가 행진에도 증권사 목표가 '쑥쑥'        1  \n...                                                 ...     ...  \n5515      삼성SDI, 신사업 확장에 그룹 매출비중 20%대로 낮춰... ‘홀로서기’ 눈앞        0  \n5516            1월 전기차 배터리 중국 약진·한국 후진…LG화학 4위,삼성SDI7위        0  \n5517           삼성SDI우 주가종목 그래프 외 증시동향.... 6일 현재 94000원        0  \n5518                        [코스피 기관 순매도]삼성전자·삼성전기·LG화학        0  \n5519  [표](6일기준)(코스피 외국인 순매수 Top 20) 휠라코리아 1위 약 250억원...       0  \n\n[5520 rows x 14 columns]",
      "text/html": "<div>\n<style scoped>\n    .dataframe tbody tr th:only-of-type {\n        vertical-align: middle;\n    }\n\n    .dataframe tbody tr th {\n        vertical-align: top;\n    }\n\n    .dataframe thead th {\n        text-align: right;\n    }\n</style>\n<table border=\"1\" class=\"dataframe\">\n  <thead>\n    <tr style=\"text-align: right;\">\n      <th></th>\n      <th>회사명</th>\n      <th>날짜</th>\n      <th>5일전_종가</th>\n      <th>4일전_종가</th>\n      <th>3일전_종가</th>\n      <th>2일전_종가</th>\n      <th>1일전_종가</th>\n      <th>5일전_거래량</th>\n      <th>4일전_거래량</th>\n      <th>3일전_거래량</th>\n      <th>2일전_거래량</th>\n      <th>1일전_거래량</th>\n      <th>title</th>\n      <th>Either</th>\n    </tr>\n  </thead>\n  <tbody>\n    <tr>\n      <th>0</th>\n      <td>삼성에스디에스</td>\n      <td>20221228</td>\n      <td>-0.02</td>\n      <td>0.02</td>\n      <td>-0.02</td>\n      <td>-0.01</td>\n      <td>0.02</td>\n      <td>0.34</td>\n      <td>-0.28</td>\n      <td>-0.31</td>\n      <td>0.83</td>\n      <td>-0.14</td>\n      <td>삼성SDS, 최고권위 AI 국제학회에 기술논문 잇따라 등재</td>\n      <td>0</td>\n    </tr>\n    <tr>\n      <th>1</th>\n      <td>삼성에스디에스</td>\n      <td>20221228</td>\n      <td>-0.02</td>\n      <td>0.02</td>\n      <td>-0.02</td>\n      <td>-0.01</td>\n      <td>0.02</td>\n      <td>0.34</td>\n      <td>-0.28</td>\n      <td>-0.31</td>\n      <td>0.83</td>\n      <td>-0.14</td>\n      <td>[삼성그룹] 시가총액 1570억 증가...삼성바이오로직스 1.99% 상승 '미소'</td>\n      <td>0</td>\n    </tr>\n    <tr>\n      <th>2</th>\n      <td>SK하이닉스</td>\n      <td>20201209</td>\n      <td>0.00</td>\n      <td>0.01</td>\n      <td>0.03</td>\n      <td>-0.02</td>\n      <td>0.00</td>\n      <td>0.09</td>\n      <td>0.17</td>\n      <td>1.16</td>\n      <td>-0.41</td>\n      <td>-0.04</td>\n      <td>SK하이닉스, 반도체 中企에 기술 무상으로 나눠준다</td>\n      <td>1</td>\n    </tr>\n    <tr>\n      <th>3</th>\n      <td>SK하이닉스</td>\n      <td>20201209</td>\n      <td>0.00</td>\n      <td>0.01</td>\n      <td>0.03</td>\n      <td>-0.02</td>\n      <td>0.00</td>\n      <td>0.09</td>\n      <td>0.17</td>\n      <td>1.16</td>\n      <td>-0.41</td>\n      <td>-0.04</td>\n      <td>SK하이닉스, 최첨단 ‘176단 4D 낸드’ 개발</td>\n      <td>1</td>\n    </tr>\n    <tr>\n      <th>4</th>\n      <td>SK하이닉스</td>\n      <td>20201209</td>\n      <td>0.00</td>\n      <td>0.01</td>\n      <td>0.03</td>\n      <td>-0.02</td>\n      <td>0.00</td>\n      <td>0.09</td>\n      <td>0.17</td>\n      <td>1.16</td>\n      <td>-0.41</td>\n      <td>-0.04</td>\n      <td>'外人 러브콜'SK하이닉스신고가 행진에도 증권사 목표가 '쑥쑥'</td>\n      <td>1</td>\n    </tr>\n    <tr>\n      <th>...</th>\n      <td>...</td>\n      <td>...</td>\n      <td>...</td>\n      <td>...</td>\n      <td>...</td>\n      <td>...</td>\n      <td>...</td>\n      <td>...</td>\n      <td>...</td>\n      <td>...</td>\n      <td>...</td>\n      <td>...</td>\n      <td>...</td>\n      <td>...</td>\n    </tr>\n    <tr>\n      <th>5515</th>\n      <td>삼성SDI</td>\n      <td>20190307</td>\n      <td>0.01</td>\n      <td>0.01</td>\n      <td>-0.02</td>\n      <td>0.00</td>\n      <td>0.03</td>\n      <td>0.73</td>\n      <td>0.73</td>\n      <td>-0.22</td>\n      <td>-0.41</td>\n      <td>0.75</td>\n      <td>삼성SDI, 신사업 확장에 그룹 매출비중 20%대로 낮춰... ‘홀로서기’ 눈앞</td>\n      <td>0</td>\n    </tr>\n    <tr>\n      <th>5516</th>\n      <td>삼성SDI</td>\n      <td>20190307</td>\n      <td>0.01</td>\n      <td>0.01</td>\n      <td>-0.02</td>\n      <td>0.00</td>\n      <td>0.03</td>\n      <td>0.73</td>\n      <td>0.73</td>\n      <td>-0.22</td>\n      <td>-0.41</td>\n      <td>0.75</td>\n      <td>1월 전기차 배터리 중국 약진·한국 후진…LG화학 4위,삼성SDI7위</td>\n      <td>0</td>\n    </tr>\n    <tr>\n      <th>5517</th>\n      <td>삼성SDI</td>\n      <td>20190307</td>\n      <td>0.01</td>\n      <td>0.01</td>\n      <td>-0.02</td>\n      <td>0.00</td>\n      <td>0.03</td>\n      <td>0.73</td>\n      <td>0.73</td>\n      <td>-0.22</td>\n      <td>-0.41</td>\n      <td>0.75</td>\n      <td>삼성SDI우 주가종목 그래프 외 증시동향.... 6일 현재 94000원</td>\n      <td>0</td>\n    </tr>\n    <tr>\n      <th>5518</th>\n      <td>삼성SDI</td>\n      <td>20190307</td>\n      <td>0.01</td>\n      <td>0.01</td>\n      <td>-0.02</td>\n      <td>0.00</td>\n      <td>0.03</td>\n      <td>0.73</td>\n      <td>0.73</td>\n      <td>-0.22</td>\n      <td>-0.41</td>\n      <td>0.75</td>\n      <td>[코스피 기관 순매도]삼성전자·삼성전기·LG화학</td>\n      <td>0</td>\n    </tr>\n    <tr>\n      <th>5519</th>\n      <td>삼성SDI</td>\n      <td>20190307</td>\n      <td>0.01</td>\n      <td>0.01</td>\n      <td>-0.02</td>\n      <td>0.00</td>\n      <td>0.03</td>\n      <td>0.73</td>\n      <td>0.73</td>\n      <td>-0.22</td>\n      <td>-0.41</td>\n      <td>0.75</td>\n      <td>[표](6일기준)(코스피 외국인 순매수 Top 20) 휠라코리아 1위 약 250억원...</td>\n      <td>0</td>\n    </tr>\n  </tbody>\n</table>\n<p>5520 rows × 14 columns</p>\n</div>"
     },
     "execution_count": 72,
     "metadata": {},
     "output_type": "execute_result"
    }
   ],
   "source": [
    "train_newtitle"
   ],
   "metadata": {
    "collapsed": false,
    "pycharm": {
     "name": "#%%\n"
    }
   }
  },
  {
   "cell_type": "code",
   "execution_count": 76,
   "outputs": [],
   "source": [
    "x_test_main_sub = x_test_main.drop(['회사명','날짜'], axis=1)"
   ],
   "metadata": {
    "collapsed": false,
    "pycharm": {
     "name": "#%%\n"
    }
   }
  },
  {
   "cell_type": "code",
   "execution_count": 77,
   "outputs": [
    {
     "data": {
      "text/plain": "     5일전_종가  4일전_종가  3일전_종가  2일전_종가  1일전_종가  5일전_거래량  4일전_거래량  3일전_거래량  \\\n419   -0.02    0.01    0.03    0.00    0.03    -0.83     0.34    -0.39   \n679   -0.01   -0.01   -0.02    0.03   -0.01    -0.10     0.01    -0.36   \n712    0.00   -0.03    0.03    0.02    0.00    -0.16     0.06    -0.22   \n569   -0.02   -0.02    0.02    0.01    0.10    -0.40    -0.37    -0.07   \n408    0.02   -0.02   -0.01    0.04    0.00    -0.05     0.38    -0.20   \n..      ...     ...     ...     ...     ...      ...      ...      ...   \n752    0.01    0.00    0.02   -0.05    0.00    -0.66    -0.58     0.72   \n661    0.01    0.00   -0.02    0.00   -0.01     0.88    -0.27    -0.32   \n230    0.02   -0.02    0.02   -0.01   -0.02     0.00     0.37    -0.15   \n248   -0.01   -0.01   -0.02    0.00   -0.01     0.13     0.60    -0.47   \n250    0.03    0.01   -0.02    0.01   -0.01     0.41    -0.34    -0.24   \n\n     2일전_거래량  1일전_거래량  \n419    -0.46     0.69  \n679     0.33    -0.09  \n712     0.62    -0.20  \n569     0.03     6.72  \n408     0.94    -0.41  \n..       ...      ...  \n752     0.25    -0.27  \n661     0.00     0.39  \n230     0.29    -0.23  \n248     0.55    -0.32  \n250     0.33     0.18  \n\n[251 rows x 10 columns]",
      "text/html": "<div>\n<style scoped>\n    .dataframe tbody tr th:only-of-type {\n        vertical-align: middle;\n    }\n\n    .dataframe tbody tr th {\n        vertical-align: top;\n    }\n\n    .dataframe thead th {\n        text-align: right;\n    }\n</style>\n<table border=\"1\" class=\"dataframe\">\n  <thead>\n    <tr style=\"text-align: right;\">\n      <th></th>\n      <th>5일전_종가</th>\n      <th>4일전_종가</th>\n      <th>3일전_종가</th>\n      <th>2일전_종가</th>\n      <th>1일전_종가</th>\n      <th>5일전_거래량</th>\n      <th>4일전_거래량</th>\n      <th>3일전_거래량</th>\n      <th>2일전_거래량</th>\n      <th>1일전_거래량</th>\n    </tr>\n  </thead>\n  <tbody>\n    <tr>\n      <th>419</th>\n      <td>-0.02</td>\n      <td>0.01</td>\n      <td>0.03</td>\n      <td>0.00</td>\n      <td>0.03</td>\n      <td>-0.83</td>\n      <td>0.34</td>\n      <td>-0.39</td>\n      <td>-0.46</td>\n      <td>0.69</td>\n    </tr>\n    <tr>\n      <th>679</th>\n      <td>-0.01</td>\n      <td>-0.01</td>\n      <td>-0.02</td>\n      <td>0.03</td>\n      <td>-0.01</td>\n      <td>-0.10</td>\n      <td>0.01</td>\n      <td>-0.36</td>\n      <td>0.33</td>\n      <td>-0.09</td>\n    </tr>\n    <tr>\n      <th>712</th>\n      <td>0.00</td>\n      <td>-0.03</td>\n      <td>0.03</td>\n      <td>0.02</td>\n      <td>0.00</td>\n      <td>-0.16</td>\n      <td>0.06</td>\n      <td>-0.22</td>\n      <td>0.62</td>\n      <td>-0.20</td>\n    </tr>\n    <tr>\n      <th>569</th>\n      <td>-0.02</td>\n      <td>-0.02</td>\n      <td>0.02</td>\n      <td>0.01</td>\n      <td>0.10</td>\n      <td>-0.40</td>\n      <td>-0.37</td>\n      <td>-0.07</td>\n      <td>0.03</td>\n      <td>6.72</td>\n    </tr>\n    <tr>\n      <th>408</th>\n      <td>0.02</td>\n      <td>-0.02</td>\n      <td>-0.01</td>\n      <td>0.04</td>\n      <td>0.00</td>\n      <td>-0.05</td>\n      <td>0.38</td>\n      <td>-0.20</td>\n      <td>0.94</td>\n      <td>-0.41</td>\n    </tr>\n    <tr>\n      <th>...</th>\n      <td>...</td>\n      <td>...</td>\n      <td>...</td>\n      <td>...</td>\n      <td>...</td>\n      <td>...</td>\n      <td>...</td>\n      <td>...</td>\n      <td>...</td>\n      <td>...</td>\n    </tr>\n    <tr>\n      <th>752</th>\n      <td>0.01</td>\n      <td>0.00</td>\n      <td>0.02</td>\n      <td>-0.05</td>\n      <td>0.00</td>\n      <td>-0.66</td>\n      <td>-0.58</td>\n      <td>0.72</td>\n      <td>0.25</td>\n      <td>-0.27</td>\n    </tr>\n    <tr>\n      <th>661</th>\n      <td>0.01</td>\n      <td>0.00</td>\n      <td>-0.02</td>\n      <td>0.00</td>\n      <td>-0.01</td>\n      <td>0.88</td>\n      <td>-0.27</td>\n      <td>-0.32</td>\n      <td>0.00</td>\n      <td>0.39</td>\n    </tr>\n    <tr>\n      <th>230</th>\n      <td>0.02</td>\n      <td>-0.02</td>\n      <td>0.02</td>\n      <td>-0.01</td>\n      <td>-0.02</td>\n      <td>0.00</td>\n      <td>0.37</td>\n      <td>-0.15</td>\n      <td>0.29</td>\n      <td>-0.23</td>\n    </tr>\n    <tr>\n      <th>248</th>\n      <td>-0.01</td>\n      <td>-0.01</td>\n      <td>-0.02</td>\n      <td>0.00</td>\n      <td>-0.01</td>\n      <td>0.13</td>\n      <td>0.60</td>\n      <td>-0.47</td>\n      <td>0.55</td>\n      <td>-0.32</td>\n    </tr>\n    <tr>\n      <th>250</th>\n      <td>0.03</td>\n      <td>0.01</td>\n      <td>-0.02</td>\n      <td>0.01</td>\n      <td>-0.01</td>\n      <td>0.41</td>\n      <td>-0.34</td>\n      <td>-0.24</td>\n      <td>0.33</td>\n      <td>0.18</td>\n    </tr>\n  </tbody>\n</table>\n<p>251 rows × 10 columns</p>\n</div>"
     },
     "execution_count": 77,
     "metadata": {},
     "output_type": "execute_result"
    }
   ],
   "source": [
    "x_test_main_sub"
   ],
   "metadata": {
    "collapsed": false,
    "pycharm": {
     "name": "#%%\n"
    }
   }
  },
  {
   "cell_type": "code",
   "execution_count": null,
   "outputs": [
    {
     "name": "stdout",
     "output_type": "stream",
     "text": [
      "(5533, 4) (2372, 4)\n"
     ]
    },
    {
     "data": {
      "text/plain": "(array([0, 1], dtype=int64), array([2666, 2867], dtype=int64))"
     },
     "execution_count": 27,
     "metadata": {},
     "output_type": "execute_result"
    }
   ],
   "source": [
    "print(x_train_title.shape, x_test_title.shape) # 훈련세트, 테스트세트 비율 확인\n",
    "np.unique(y_train_title, return_counts=True) # 훈련세트의 타깃(라벨) 확인"
   ],
   "metadata": {
    "collapsed": false,
    "pycharm": {
     "name": "#%%\n"
    }
   }
  },
  {
   "cell_type": "code",
   "execution_count": 81,
   "outputs": [
    {
     "data": {
      "text/plain": "<5520x12975 sparse matrix of type '<class 'numpy.float64'>'\n\twith 38835 stored elements in Compressed Sparse Row format>"
     },
     "execution_count": 81,
     "metadata": {},
     "output_type": "execute_result"
    }
   ],
   "source": [
    "# title을 그대로 학습할 수 없기 때문에 가중치를 TF-IDF로 설정하고 문장을 벡터화시켜줌\n",
    "\n",
    "vect = TfidfVectorizer().fit(train_newtitle['title'])\n",
    "x_train_vectorized = vect.transform(train_newtitle['title'])\n",
    "\n",
    "x_train_vectorized"
   ],
   "metadata": {
    "collapsed": false,
    "pycharm": {
     "name": "#%%\n"
    }
   }
  },
  {
   "cell_type": "code",
   "execution_count": null,
   "outputs": [],
   "source": [
    "from sklearn.tree import DecisionTreeClassifier\n",
    "from sklearn.ensemble import RandomForestClassifier\n",
    "from sklearn.linear_model import LogisticRegression\n",
    "from sklearn.model_selection import GridSearchCV\n",
    "from sklearn.svm import SVC"
   ],
   "metadata": {
    "collapsed": false,
    "pycharm": {
     "name": "#%%\n"
    }
   }
  },
  {
   "cell_type": "code",
   "execution_count": null,
   "outputs": [],
   "source": [
    "from sklearn.model_selection import cross_val_score\n",
    "from sklearn.ensemble import GradientBoostingClassifier\n",
    "from sklearn.ensemble import VotingClassifier\n",
    "from sklearn.model_selection import GridSearchCV\n",
    "from xgboost import XGBClassifier\n",
    "import xgboost as xgb"
   ],
   "metadata": {
    "collapsed": false,
    "pycharm": {
     "name": "#%%\n"
    }
   }
  },
  {
   "cell_type": "code",
   "execution_count": null,
   "outputs": [
    {
     "name": "stdout",
     "output_type": "stream",
     "text": [
      "Fitting 5 folds for each of 54 candidates, totalling 270 fits\n"
     ]
    },
    {
     "data": {
      "text/plain": "0.6843353964043619"
     },
     "execution_count": 31,
     "metadata": {},
     "output_type": "execute_result"
    }
   ],
   "source": [
    "RFC = RandomForestClassifier()\n",
    "\n",
    "\n",
    "## 최적화 파라미터 설정\n",
    "rf_param_grid = {\"max_depth\": [None],\n",
    "              \"max_features\": [3, 8, 8],\n",
    "              \"min_samples_split\": [2, 3, 8],\n",
    "              \"min_samples_leaf\": [1, 3, 8],\n",
    "              \"bootstrap\": [False],\n",
    "              \"n_estimators\" :[100,300],\n",
    "              \"criterion\": [\"gini\"]}\n",
    "\n",
    "\n",
    "gsRFC = GridSearchCV(RFC, rf_param_grid, scoring=\"accuracy\",  verbose = 1)\n",
    "\n",
    "gsRFC.fit(x_train_main_sub,y_train_main)\n",
    "\n",
    "RFC_best = gsRFC.best_estimator_\n",
    "\n",
    "gsRFC.best_score_"
   ],
   "metadata": {
    "collapsed": false,
    "pycharm": {
     "name": "#%%\n"
    }
   }
  },
  {
   "cell_type": "code",
   "execution_count": null,
   "outputs": [],
   "source": [
    "RFC_predict=RFC_best.predict(x_test_main_sub)"
   ],
   "metadata": {
    "collapsed": false,
    "pycharm": {
     "name": "#%%\n"
    }
   }
  },
  {
   "cell_type": "code",
   "execution_count": null,
   "outputs": [
    {
     "data": {
      "text/plain": "RandomForestClassifier(bootstrap=False, max_features=3, min_samples_split=3)",
      "text/html": "<style>#sk-container-id-1 {color: black;background-color: white;}#sk-container-id-1 pre{padding: 0;}#sk-container-id-1 div.sk-toggleable {background-color: white;}#sk-container-id-1 label.sk-toggleable__label {cursor: pointer;display: block;width: 100%;margin-bottom: 0;padding: 0.3em;box-sizing: border-box;text-align: center;}#sk-container-id-1 label.sk-toggleable__label-arrow:before {content: \"▸\";float: left;margin-right: 0.25em;color: #696969;}#sk-container-id-1 label.sk-toggleable__label-arrow:hover:before {color: black;}#sk-container-id-1 div.sk-estimator:hover label.sk-toggleable__label-arrow:before {color: black;}#sk-container-id-1 div.sk-toggleable__content {max-height: 0;max-width: 0;overflow: hidden;text-align: left;background-color: #f0f8ff;}#sk-container-id-1 div.sk-toggleable__content pre {margin: 0.2em;color: black;border-radius: 0.25em;background-color: #f0f8ff;}#sk-container-id-1 input.sk-toggleable__control:checked~div.sk-toggleable__content {max-height: 200px;max-width: 100%;overflow: auto;}#sk-container-id-1 input.sk-toggleable__control:checked~label.sk-toggleable__label-arrow:before {content: \"▾\";}#sk-container-id-1 div.sk-estimator input.sk-toggleable__control:checked~label.sk-toggleable__label {background-color: #d4ebff;}#sk-container-id-1 div.sk-label input.sk-toggleable__control:checked~label.sk-toggleable__label {background-color: #d4ebff;}#sk-container-id-1 input.sk-hidden--visually {border: 0;clip: rect(1px 1px 1px 1px);clip: rect(1px, 1px, 1px, 1px);height: 1px;margin: -1px;overflow: hidden;padding: 0;position: absolute;width: 1px;}#sk-container-id-1 div.sk-estimator {font-family: monospace;background-color: #f0f8ff;border: 1px dotted black;border-radius: 0.25em;box-sizing: border-box;margin-bottom: 0.5em;}#sk-container-id-1 div.sk-estimator:hover {background-color: #d4ebff;}#sk-container-id-1 div.sk-parallel-item::after {content: \"\";width: 100%;border-bottom: 1px solid gray;flex-grow: 1;}#sk-container-id-1 div.sk-label:hover label.sk-toggleable__label {background-color: #d4ebff;}#sk-container-id-1 div.sk-serial::before {content: \"\";position: absolute;border-left: 1px solid gray;box-sizing: border-box;top: 0;bottom: 0;left: 50%;z-index: 0;}#sk-container-id-1 div.sk-serial {display: flex;flex-direction: column;align-items: center;background-color: white;padding-right: 0.2em;padding-left: 0.2em;position: relative;}#sk-container-id-1 div.sk-item {position: relative;z-index: 1;}#sk-container-id-1 div.sk-parallel {display: flex;align-items: stretch;justify-content: center;background-color: white;position: relative;}#sk-container-id-1 div.sk-item::before, #sk-container-id-1 div.sk-parallel-item::before {content: \"\";position: absolute;border-left: 1px solid gray;box-sizing: border-box;top: 0;bottom: 0;left: 50%;z-index: -1;}#sk-container-id-1 div.sk-parallel-item {display: flex;flex-direction: column;z-index: 1;position: relative;background-color: white;}#sk-container-id-1 div.sk-parallel-item:first-child::after {align-self: flex-end;width: 50%;}#sk-container-id-1 div.sk-parallel-item:last-child::after {align-self: flex-start;width: 50%;}#sk-container-id-1 div.sk-parallel-item:only-child::after {width: 0;}#sk-container-id-1 div.sk-dashed-wrapped {border: 1px dashed gray;margin: 0 0.4em 0.5em 0.4em;box-sizing: border-box;padding-bottom: 0.4em;background-color: white;}#sk-container-id-1 div.sk-label label {font-family: monospace;font-weight: bold;display: inline-block;line-height: 1.2em;}#sk-container-id-1 div.sk-label-container {text-align: center;}#sk-container-id-1 div.sk-container {/* jupyter's `normalize.less` sets `[hidden] { display: none; }` but bootstrap.min.css set `[hidden] { display: none !important; }` so we also need the `!important` here to be able to override the default hidden behavior on the sphinx rendered scikit-learn.org. See: https://github.com/scikit-learn/scikit-learn/issues/21755 */display: inline-block !important;position: relative;}#sk-container-id-1 div.sk-text-repr-fallback {display: none;}</style><div id=\"sk-container-id-1\" class=\"sk-top-container\"><div class=\"sk-text-repr-fallback\"><pre>RandomForestClassifier(bootstrap=False, max_features=3, min_samples_split=3)</pre><b>In a Jupyter environment, please rerun this cell to show the HTML representation or trust the notebook. <br />On GitHub, the HTML representation is unable to render, please try loading this page with nbviewer.org.</b></div><div class=\"sk-container\" hidden><div class=\"sk-item\"><div class=\"sk-estimator sk-toggleable\"><input class=\"sk-toggleable__control sk-hidden--visually\" id=\"sk-estimator-id-1\" type=\"checkbox\" checked><label for=\"sk-estimator-id-1\" class=\"sk-toggleable__label sk-toggleable__label-arrow\">RandomForestClassifier</label><div class=\"sk-toggleable__content\"><pre>RandomForestClassifier(bootstrap=False, max_features=3, min_samples_split=3)</pre></div></div></div></div></div>"
     },
     "execution_count": 33,
     "metadata": {},
     "output_type": "execute_result"
    }
   ],
   "source": [
    "RFC_best"
   ],
   "metadata": {
    "collapsed": false,
    "pycharm": {
     "name": "#%%\n"
    }
   }
  },
  {
   "cell_type": "code",
   "execution_count": null,
   "outputs": [
    {
     "name": "stdout",
     "output_type": "stream",
     "text": [
      "Fitting 5 folds for each of 72 candidates, totalling 360 fits\n"
     ]
    },
    {
     "name": "stderr",
     "output_type": "stream",
     "text": [
      "C:\\Users\\msi\\anaconda3\\lib\\site-packages\\sklearn\\ensemble\\_gb.py:310: FutureWarning: The loss parameter name 'deviance' was deprecated in v1.1 and will be removed in version 1.3. Use the new parameter name 'log_loss' which is equivalent.\n",
      "  warnings.warn(\n"
     ]
    },
    {
     "data": {
      "text/plain": "0.6139994105511347"
     },
     "execution_count": 34,
     "metadata": {},
     "output_type": "execute_result"
    }
   ],
   "source": [
    "GBC = GradientBoostingClassifier()\n",
    "\n",
    "## 최적화 파라미터 설정\n",
    "gb_param_grid = {'loss' : [\"deviance\"],\n",
    "              'n_estimators' : [100,200,300],\n",
    "              'learning_rate': [0.1, 0.05, 0.01],\n",
    "              'max_depth': [4, 8],\n",
    "              'min_samples_leaf': [100,150],\n",
    "              'max_features': [0.3, 0.1]\n",
    "              }\n",
    "\n",
    "gsGBC = GridSearchCV(GBC,param_grid = gb_param_grid, scoring=\"accuracy\", n_jobs= 4, verbose = 1)\n",
    "\n",
    "gsGBC.fit(x_train_main_sub,y_train_main)\n",
    "\n",
    "GBC_best = gsGBC.best_estimator_\n",
    "\n",
    "# Best score\n",
    "gsGBC.best_score_"
   ],
   "metadata": {
    "collapsed": false,
    "pycharm": {
     "name": "#%%\n"
    }
   }
  },
  {
   "cell_type": "code",
   "execution_count": null,
   "outputs": [],
   "source": [
    "GBC_predict=GBC_best.predict(x_test_main_sub)"
   ],
   "metadata": {
    "collapsed": false,
    "pycharm": {
     "name": "#%%\n"
    }
   }
  },
  {
   "cell_type": "code",
   "execution_count": 83,
   "outputs": [
    {
     "name": "stdout",
     "output_type": "stream",
     "text": [
      "Fitting 5 folds for each of 16 candidates, totalling 80 fits\n"
     ]
    },
    {
     "data": {
      "text/plain": "0.5153985507246377"
     },
     "execution_count": 83,
     "metadata": {},
     "output_type": "execute_result"
    }
   ],
   "source": [
    "SVMC = SVC(probability=True)\n",
    "\n",
    "## 최적화 파라미터 설정\n",
    "svc_param_grid = {'kernel': ['linear', 'poly', 'rbf', 'sigmoid'],\n",
    "                  'gamma': [ 0.001, 0.01, 0.1, 1]\n",
    "                  }\n",
    "\n",
    "gsSVMC = GridSearchCV(SVMC,param_grid = svc_param_grid, scoring=\"accuracy\", n_jobs= 4, verbose = 1)\n",
    "\n",
    "gsSVMC.fit(x_train_vectorized,train_newtitle['Either'])\n",
    "SVMC_best = gsSVMC.best_estimator_\n",
    "\n",
    "# Best score\n",
    "gsSVMC.best_score_"
   ],
   "metadata": {
    "collapsed": false,
    "pycharm": {
     "name": "#%%\n"
    }
   }
  },
  {
   "cell_type": "code",
   "execution_count": 86,
   "outputs": [],
   "source": [
    "svm_predict = SVMC_best.predict(vect.transform(test_newtitle['title']))"
   ],
   "metadata": {
    "collapsed": false,
    "pycharm": {
     "name": "#%%\n"
    }
   }
  },
  {
   "cell_type": "code",
   "execution_count": 48,
   "outputs": [],
   "source": [
    "# test 데이터셋에 대한 RF의 예측값\n",
    "\n",
    "RFC = pd.DataFrame({\n",
    "        \"날짜\": x_test_main['날짜'],\n",
    "        \"회사\": x_test_main['회사명'],\n",
    "        \"real\": y_test_main,\n",
    "        \"RFC\":RFC_predict,\n",
    "   })"
   ],
   "metadata": {
    "collapsed": false,
    "pycharm": {
     "name": "#%%\n"
    }
   }
  },
  {
   "cell_type": "code",
   "execution_count": 49,
   "outputs": [
    {
     "data": {
      "text/plain": "           날짜       회사  real  RFC\n419  20210105   SK하이닉스     1    1\n679  20191002  LG디스플레이     0    1\n712  20200504  LG디스플레이     0    0\n569  20210122     LG전자     0    1\n408  20201013   SK하이닉스     1    1\n..        ...      ...   ...  ...\n752  20210129  LG디스플레이     0    0\n661  20190328  LG디스플레이     0    0\n230  20201116    삼성SDI     0    1\n248  20210311    삼성SDI     1    0\n250  20210318    삼성SDI     1    0\n\n[251 rows x 4 columns]",
      "text/html": "<div>\n<style scoped>\n    .dataframe tbody tr th:only-of-type {\n        vertical-align: middle;\n    }\n\n    .dataframe tbody tr th {\n        vertical-align: top;\n    }\n\n    .dataframe thead th {\n        text-align: right;\n    }\n</style>\n<table border=\"1\" class=\"dataframe\">\n  <thead>\n    <tr style=\"text-align: right;\">\n      <th></th>\n      <th>날짜</th>\n      <th>회사</th>\n      <th>real</th>\n      <th>RFC</th>\n    </tr>\n  </thead>\n  <tbody>\n    <tr>\n      <th>419</th>\n      <td>20210105</td>\n      <td>SK하이닉스</td>\n      <td>1</td>\n      <td>1</td>\n    </tr>\n    <tr>\n      <th>679</th>\n      <td>20191002</td>\n      <td>LG디스플레이</td>\n      <td>0</td>\n      <td>1</td>\n    </tr>\n    <tr>\n      <th>712</th>\n      <td>20200504</td>\n      <td>LG디스플레이</td>\n      <td>0</td>\n      <td>0</td>\n    </tr>\n    <tr>\n      <th>569</th>\n      <td>20210122</td>\n      <td>LG전자</td>\n      <td>0</td>\n      <td>1</td>\n    </tr>\n    <tr>\n      <th>408</th>\n      <td>20201013</td>\n      <td>SK하이닉스</td>\n      <td>1</td>\n      <td>1</td>\n    </tr>\n    <tr>\n      <th>...</th>\n      <td>...</td>\n      <td>...</td>\n      <td>...</td>\n      <td>...</td>\n    </tr>\n    <tr>\n      <th>752</th>\n      <td>20210129</td>\n      <td>LG디스플레이</td>\n      <td>0</td>\n      <td>0</td>\n    </tr>\n    <tr>\n      <th>661</th>\n      <td>20190328</td>\n      <td>LG디스플레이</td>\n      <td>0</td>\n      <td>0</td>\n    </tr>\n    <tr>\n      <th>230</th>\n      <td>20201116</td>\n      <td>삼성SDI</td>\n      <td>0</td>\n      <td>1</td>\n    </tr>\n    <tr>\n      <th>248</th>\n      <td>20210311</td>\n      <td>삼성SDI</td>\n      <td>1</td>\n      <td>0</td>\n    </tr>\n    <tr>\n      <th>250</th>\n      <td>20210318</td>\n      <td>삼성SDI</td>\n      <td>1</td>\n      <td>0</td>\n    </tr>\n  </tbody>\n</table>\n<p>251 rows × 4 columns</p>\n</div>"
     },
     "execution_count": 49,
     "metadata": {},
     "output_type": "execute_result"
    }
   ],
   "source": [
    "RFC"
   ],
   "metadata": {
    "collapsed": false,
    "pycharm": {
     "name": "#%%\n"
    }
   }
  },
  {
   "cell_type": "code",
   "execution_count": 97,
   "outputs": [],
   "source": [
    "# test 데이터셋에 대한 GB의 예측값\n",
    "\n",
    "GBC = pd.DataFrame({\n",
    "        \"날짜\": x_test_main['날짜'],\n",
    "        \"회사\": x_test_main['회사명'],\n",
    "        \"real\": y_test_main,\n",
    "        \"GBC\":GBC_predict,\n",
    "   })"
   ],
   "metadata": {
    "collapsed": false,
    "pycharm": {
     "name": "#%%\n"
    }
   }
  },
  {
   "cell_type": "code",
   "execution_count": 98,
   "outputs": [
    {
     "data": {
      "text/plain": "           날짜       회사  real  GBC\n419  20210105   SK하이닉스     1    1\n679  20191002  LG디스플레이     0    1\n712  20200504  LG디스플레이     0    0\n569  20210122     LG전자     0    1\n408  20201013   SK하이닉스     1    1\n..        ...      ...   ...  ...\n752  20210129  LG디스플레이     0    0\n661  20190328  LG디스플레이     0    0\n230  20201116    삼성SDI     0    1\n248  20210311    삼성SDI     1    0\n250  20210318    삼성SDI     1    0\n\n[251 rows x 4 columns]",
      "text/html": "<div>\n<style scoped>\n    .dataframe tbody tr th:only-of-type {\n        vertical-align: middle;\n    }\n\n    .dataframe tbody tr th {\n        vertical-align: top;\n    }\n\n    .dataframe thead th {\n        text-align: right;\n    }\n</style>\n<table border=\"1\" class=\"dataframe\">\n  <thead>\n    <tr style=\"text-align: right;\">\n      <th></th>\n      <th>날짜</th>\n      <th>회사</th>\n      <th>real</th>\n      <th>GBC</th>\n    </tr>\n  </thead>\n  <tbody>\n    <tr>\n      <th>419</th>\n      <td>20210105</td>\n      <td>SK하이닉스</td>\n      <td>1</td>\n      <td>1</td>\n    </tr>\n    <tr>\n      <th>679</th>\n      <td>20191002</td>\n      <td>LG디스플레이</td>\n      <td>0</td>\n      <td>1</td>\n    </tr>\n    <tr>\n      <th>712</th>\n      <td>20200504</td>\n      <td>LG디스플레이</td>\n      <td>0</td>\n      <td>0</td>\n    </tr>\n    <tr>\n      <th>569</th>\n      <td>20210122</td>\n      <td>LG전자</td>\n      <td>0</td>\n      <td>1</td>\n    </tr>\n    <tr>\n      <th>408</th>\n      <td>20201013</td>\n      <td>SK하이닉스</td>\n      <td>1</td>\n      <td>1</td>\n    </tr>\n    <tr>\n      <th>...</th>\n      <td>...</td>\n      <td>...</td>\n      <td>...</td>\n      <td>...</td>\n    </tr>\n    <tr>\n      <th>752</th>\n      <td>20210129</td>\n      <td>LG디스플레이</td>\n      <td>0</td>\n      <td>0</td>\n    </tr>\n    <tr>\n      <th>661</th>\n      <td>20190328</td>\n      <td>LG디스플레이</td>\n      <td>0</td>\n      <td>0</td>\n    </tr>\n    <tr>\n      <th>230</th>\n      <td>20201116</td>\n      <td>삼성SDI</td>\n      <td>0</td>\n      <td>1</td>\n    </tr>\n    <tr>\n      <th>248</th>\n      <td>20210311</td>\n      <td>삼성SDI</td>\n      <td>1</td>\n      <td>0</td>\n    </tr>\n    <tr>\n      <th>250</th>\n      <td>20210318</td>\n      <td>삼성SDI</td>\n      <td>1</td>\n      <td>0</td>\n    </tr>\n  </tbody>\n</table>\n<p>251 rows × 4 columns</p>\n</div>"
     },
     "execution_count": 98,
     "metadata": {},
     "output_type": "execute_result"
    }
   ],
   "source": [
    "GBC"
   ],
   "metadata": {
    "collapsed": false,
    "pycharm": {
     "name": "#%%\n"
    }
   }
  },
  {
   "cell_type": "code",
   "execution_count": 87,
   "outputs": [],
   "source": [
    "# test 데이터셋에 대한 SVM의 예측값\n",
    "\n",
    "SVM = pd.DataFrame({\n",
    "        \"날짜\": test_newtitle['날짜'],\n",
    "        \"회사\": test_newtitle['회사명'],\n",
    "        \"real\": test_newtitle[\"Either\"],\n",
    "        \"SVM\":svm_predict,\n",
    "   })"
   ],
   "metadata": {
    "collapsed": false,
    "pycharm": {
     "name": "#%%\n"
    }
   }
  },
  {
   "cell_type": "code",
   "execution_count": 88,
   "outputs": [
    {
     "data": {
      "text/plain": "            날짜      회사  real  SVM\n0     20210105  SK하이닉스     1    1\n1     20210105  SK하이닉스     1    1\n2     20210105  SK하이닉스     1    1\n3     20210105  SK하이닉스     1    1\n4     20210105  SK하이닉스     1    1\n...        ...     ...   ...  ...\n2380  20210318   삼성SDI     1    1\n2381  20210318   삼성SDI     1    1\n2382  20210318   삼성SDI     1    1\n2383  20210318   삼성SDI     1    1\n2384  20210318   삼성SDI     1    1\n\n[2385 rows x 4 columns]",
      "text/html": "<div>\n<style scoped>\n    .dataframe tbody tr th:only-of-type {\n        vertical-align: middle;\n    }\n\n    .dataframe tbody tr th {\n        vertical-align: top;\n    }\n\n    .dataframe thead th {\n        text-align: right;\n    }\n</style>\n<table border=\"1\" class=\"dataframe\">\n  <thead>\n    <tr style=\"text-align: right;\">\n      <th></th>\n      <th>날짜</th>\n      <th>회사</th>\n      <th>real</th>\n      <th>SVM</th>\n    </tr>\n  </thead>\n  <tbody>\n    <tr>\n      <th>0</th>\n      <td>20210105</td>\n      <td>SK하이닉스</td>\n      <td>1</td>\n      <td>1</td>\n    </tr>\n    <tr>\n      <th>1</th>\n      <td>20210105</td>\n      <td>SK하이닉스</td>\n      <td>1</td>\n      <td>1</td>\n    </tr>\n    <tr>\n      <th>2</th>\n      <td>20210105</td>\n      <td>SK하이닉스</td>\n      <td>1</td>\n      <td>1</td>\n    </tr>\n    <tr>\n      <th>3</th>\n      <td>20210105</td>\n      <td>SK하이닉스</td>\n      <td>1</td>\n      <td>1</td>\n    </tr>\n    <tr>\n      <th>4</th>\n      <td>20210105</td>\n      <td>SK하이닉스</td>\n      <td>1</td>\n      <td>1</td>\n    </tr>\n    <tr>\n      <th>...</th>\n      <td>...</td>\n      <td>...</td>\n      <td>...</td>\n      <td>...</td>\n    </tr>\n    <tr>\n      <th>2380</th>\n      <td>20210318</td>\n      <td>삼성SDI</td>\n      <td>1</td>\n      <td>1</td>\n    </tr>\n    <tr>\n      <th>2381</th>\n      <td>20210318</td>\n      <td>삼성SDI</td>\n      <td>1</td>\n      <td>1</td>\n    </tr>\n    <tr>\n      <th>2382</th>\n      <td>20210318</td>\n      <td>삼성SDI</td>\n      <td>1</td>\n      <td>1</td>\n    </tr>\n    <tr>\n      <th>2383</th>\n      <td>20210318</td>\n      <td>삼성SDI</td>\n      <td>1</td>\n      <td>1</td>\n    </tr>\n    <tr>\n      <th>2384</th>\n      <td>20210318</td>\n      <td>삼성SDI</td>\n      <td>1</td>\n      <td>1</td>\n    </tr>\n  </tbody>\n</table>\n<p>2385 rows × 4 columns</p>\n</div>"
     },
     "execution_count": 88,
     "metadata": {},
     "output_type": "execute_result"
    }
   ],
   "source": [
    "SVM"
   ],
   "metadata": {
    "collapsed": false,
    "pycharm": {
     "name": "#%%\n"
    }
   }
  },
  {
   "cell_type": "code",
   "execution_count": 99,
   "outputs": [],
   "source": [
    "# RF와 GB에 대한 결과 값 결합\n",
    "\n",
    "first_merge = pd.merge(RFC,GBC, on=[\"날짜\",\"회사\",\"real\"])"
   ],
   "metadata": {
    "collapsed": false,
    "pycharm": {
     "name": "#%%\n"
    }
   }
  },
  {
   "cell_type": "code",
   "execution_count": 100,
   "outputs": [
    {
     "data": {
      "text/plain": "           날짜       회사  real  RFC  GBC\n0    20210105   SK하이닉스     1    1    1\n1    20191002  LG디스플레이     0    1    1\n2    20200504  LG디스플레이     0    0    0\n3    20210122     LG전자     0    1    1\n4    20201013   SK하이닉스     1    1    1\n..        ...      ...   ...  ...  ...\n246  20210129  LG디스플레이     0    0    0\n247  20190328  LG디스플레이     0    0    0\n248  20201116    삼성SDI     0    1    1\n249  20210311    삼성SDI     1    0    0\n250  20210318    삼성SDI     1    0    0\n\n[251 rows x 5 columns]",
      "text/html": "<div>\n<style scoped>\n    .dataframe tbody tr th:only-of-type {\n        vertical-align: middle;\n    }\n\n    .dataframe tbody tr th {\n        vertical-align: top;\n    }\n\n    .dataframe thead th {\n        text-align: right;\n    }\n</style>\n<table border=\"1\" class=\"dataframe\">\n  <thead>\n    <tr style=\"text-align: right;\">\n      <th></th>\n      <th>날짜</th>\n      <th>회사</th>\n      <th>real</th>\n      <th>RFC</th>\n      <th>GBC</th>\n    </tr>\n  </thead>\n  <tbody>\n    <tr>\n      <th>0</th>\n      <td>20210105</td>\n      <td>SK하이닉스</td>\n      <td>1</td>\n      <td>1</td>\n      <td>1</td>\n    </tr>\n    <tr>\n      <th>1</th>\n      <td>20191002</td>\n      <td>LG디스플레이</td>\n      <td>0</td>\n      <td>1</td>\n      <td>1</td>\n    </tr>\n    <tr>\n      <th>2</th>\n      <td>20200504</td>\n      <td>LG디스플레이</td>\n      <td>0</td>\n      <td>0</td>\n      <td>0</td>\n    </tr>\n    <tr>\n      <th>3</th>\n      <td>20210122</td>\n      <td>LG전자</td>\n      <td>0</td>\n      <td>1</td>\n      <td>1</td>\n    </tr>\n    <tr>\n      <th>4</th>\n      <td>20201013</td>\n      <td>SK하이닉스</td>\n      <td>1</td>\n      <td>1</td>\n      <td>1</td>\n    </tr>\n    <tr>\n      <th>...</th>\n      <td>...</td>\n      <td>...</td>\n      <td>...</td>\n      <td>...</td>\n      <td>...</td>\n    </tr>\n    <tr>\n      <th>246</th>\n      <td>20210129</td>\n      <td>LG디스플레이</td>\n      <td>0</td>\n      <td>0</td>\n      <td>0</td>\n    </tr>\n    <tr>\n      <th>247</th>\n      <td>20190328</td>\n      <td>LG디스플레이</td>\n      <td>0</td>\n      <td>0</td>\n      <td>0</td>\n    </tr>\n    <tr>\n      <th>248</th>\n      <td>20201116</td>\n      <td>삼성SDI</td>\n      <td>0</td>\n      <td>1</td>\n      <td>1</td>\n    </tr>\n    <tr>\n      <th>249</th>\n      <td>20210311</td>\n      <td>삼성SDI</td>\n      <td>1</td>\n      <td>0</td>\n      <td>0</td>\n    </tr>\n    <tr>\n      <th>250</th>\n      <td>20210318</td>\n      <td>삼성SDI</td>\n      <td>1</td>\n      <td>0</td>\n      <td>0</td>\n    </tr>\n  </tbody>\n</table>\n<p>251 rows × 5 columns</p>\n</div>"
     },
     "execution_count": 100,
     "metadata": {},
     "output_type": "execute_result"
    }
   ],
   "source": [
    "first_merge"
   ],
   "metadata": {
    "collapsed": false,
    "pycharm": {
     "name": "#%%\n"
    }
   }
  },
  {
   "cell_type": "code",
   "execution_count": 101,
   "outputs": [],
   "source": [
    "# RF, GB, SVM에 대한 결과값 결합\n",
    "\n",
    "second_merge = pd.merge(first_merge,SVM, on=[\"날짜\",\"회사\",\"real\"])"
   ],
   "metadata": {
    "collapsed": false,
    "pycharm": {
     "name": "#%%\n"
    }
   }
  },
  {
   "cell_type": "code",
   "execution_count": 103,
   "outputs": [],
   "source": [
    "# 2개의 분류기 이상이 상승이라고 판단할 경우 상승이라고 판단하고 반대의 경우 하락이라고 판단할 예정임\n",
    "# 따라서 분류기에 따른 결과값의 합이 2 이상일 경우 상승임\n",
    "# 이를 위해 결과값들을 모두 더해줌\n",
    "\n",
    "second_merge['total'] = second_merge['RFC'] + second_merge['GBC'] + second_merge['SVM']"
   ],
   "metadata": {
    "collapsed": false,
    "pycharm": {
     "name": "#%%\n"
    }
   }
  },
  {
   "cell_type": "code",
   "execution_count": 110,
   "outputs": [],
   "source": [
    "# 2 이상일 경우 상승(1) 아닐 경우 하락이라는 표시를 해주는 칼럼 생성\n",
    "\n",
    "second_merge['prediction'] = second_merge['total'].apply(lambda x: 1 if x > 2 else 0)"
   ],
   "metadata": {
    "collapsed": false,
    "pycharm": {
     "name": "#%%\n"
    }
   }
  },
  {
   "cell_type": "code",
   "execution_count": 111,
   "outputs": [
    {
     "data": {
      "text/plain": "            날짜      회사  real  RFC  GBC  SVM  total  prediction\n0     20210105  SK하이닉스     1    1    1    1      3           1\n1     20210105  SK하이닉스     1    1    1    1      3           1\n2     20210105  SK하이닉스     1    1    1    1      3           1\n3     20210105  SK하이닉스     1    1    1    1      3           1\n4     20210105  SK하이닉스     1    1    1    1      3           1\n...        ...     ...   ...  ...  ...  ...    ...         ...\n2380  20210318   삼성SDI     1    0    0    1      1           0\n2381  20210318   삼성SDI     1    0    0    1      1           0\n2382  20210318   삼성SDI     1    0    0    1      1           0\n2383  20210318   삼성SDI     1    0    0    1      1           0\n2384  20210318   삼성SDI     1    0    0    1      1           0\n\n[2385 rows x 8 columns]",
      "text/html": "<div>\n<style scoped>\n    .dataframe tbody tr th:only-of-type {\n        vertical-align: middle;\n    }\n\n    .dataframe tbody tr th {\n        vertical-align: top;\n    }\n\n    .dataframe thead th {\n        text-align: right;\n    }\n</style>\n<table border=\"1\" class=\"dataframe\">\n  <thead>\n    <tr style=\"text-align: right;\">\n      <th></th>\n      <th>날짜</th>\n      <th>회사</th>\n      <th>real</th>\n      <th>RFC</th>\n      <th>GBC</th>\n      <th>SVM</th>\n      <th>total</th>\n      <th>prediction</th>\n    </tr>\n  </thead>\n  <tbody>\n    <tr>\n      <th>0</th>\n      <td>20210105</td>\n      <td>SK하이닉스</td>\n      <td>1</td>\n      <td>1</td>\n      <td>1</td>\n      <td>1</td>\n      <td>3</td>\n      <td>1</td>\n    </tr>\n    <tr>\n      <th>1</th>\n      <td>20210105</td>\n      <td>SK하이닉스</td>\n      <td>1</td>\n      <td>1</td>\n      <td>1</td>\n      <td>1</td>\n      <td>3</td>\n      <td>1</td>\n    </tr>\n    <tr>\n      <th>2</th>\n      <td>20210105</td>\n      <td>SK하이닉스</td>\n      <td>1</td>\n      <td>1</td>\n      <td>1</td>\n      <td>1</td>\n      <td>3</td>\n      <td>1</td>\n    </tr>\n    <tr>\n      <th>3</th>\n      <td>20210105</td>\n      <td>SK하이닉스</td>\n      <td>1</td>\n      <td>1</td>\n      <td>1</td>\n      <td>1</td>\n      <td>3</td>\n      <td>1</td>\n    </tr>\n    <tr>\n      <th>4</th>\n      <td>20210105</td>\n      <td>SK하이닉스</td>\n      <td>1</td>\n      <td>1</td>\n      <td>1</td>\n      <td>1</td>\n      <td>3</td>\n      <td>1</td>\n    </tr>\n    <tr>\n      <th>...</th>\n      <td>...</td>\n      <td>...</td>\n      <td>...</td>\n      <td>...</td>\n      <td>...</td>\n      <td>...</td>\n      <td>...</td>\n      <td>...</td>\n    </tr>\n    <tr>\n      <th>2380</th>\n      <td>20210318</td>\n      <td>삼성SDI</td>\n      <td>1</td>\n      <td>0</td>\n      <td>0</td>\n      <td>1</td>\n      <td>1</td>\n      <td>0</td>\n    </tr>\n    <tr>\n      <th>2381</th>\n      <td>20210318</td>\n      <td>삼성SDI</td>\n      <td>1</td>\n      <td>0</td>\n      <td>0</td>\n      <td>1</td>\n      <td>1</td>\n      <td>0</td>\n    </tr>\n    <tr>\n      <th>2382</th>\n      <td>20210318</td>\n      <td>삼성SDI</td>\n      <td>1</td>\n      <td>0</td>\n      <td>0</td>\n      <td>1</td>\n      <td>1</td>\n      <td>0</td>\n    </tr>\n    <tr>\n      <th>2383</th>\n      <td>20210318</td>\n      <td>삼성SDI</td>\n      <td>1</td>\n      <td>0</td>\n      <td>0</td>\n      <td>1</td>\n      <td>1</td>\n      <td>0</td>\n    </tr>\n    <tr>\n      <th>2384</th>\n      <td>20210318</td>\n      <td>삼성SDI</td>\n      <td>1</td>\n      <td>0</td>\n      <td>0</td>\n      <td>1</td>\n      <td>1</td>\n      <td>0</td>\n    </tr>\n  </tbody>\n</table>\n<p>2385 rows × 8 columns</p>\n</div>"
     },
     "execution_count": 111,
     "metadata": {},
     "output_type": "execute_result"
    }
   ],
   "source": [
    "second_merge"
   ],
   "metadata": {
    "collapsed": false,
    "pycharm": {
     "name": "#%%\n"
    }
   }
  },
  {
   "cell_type": "code",
   "execution_count": 115,
   "outputs": [],
   "source": [
    "# 예측값과 실제값을 모두 더해줌\n",
    "\n",
    "prediction_sum = second_merge['prediction'].sum()\n",
    "real_sum = second_merge['real'].sum()"
   ],
   "metadata": {
    "collapsed": false,
    "pycharm": {
     "name": "#%%\n"
    }
   }
  },
  {
   "cell_type": "code",
   "execution_count": 118,
   "outputs": [
    {
     "data": {
      "text/plain": "0.7130295763389288"
     },
     "execution_count": 118,
     "metadata": {},
     "output_type": "execute_result"
    }
   ],
   "source": [
    "# 예측값/실제값을 진행하여 정확도 측정\n",
    "\n",
    "accuracy  = prediction_sum/real_sum\n",
    "accuracy"
   ],
   "metadata": {
    "collapsed": false,
    "pycharm": {
     "name": "#%%\n"
    }
   }
  },
  {
   "cell_type": "code",
   "execution_count": null,
   "outputs": [],
   "source": [
    "prediction_sum"
   ],
   "metadata": {
    "collapsed": false,
    "pycharm": {
     "name": "#%%\n"
    }
   }
  }
 ],
 "metadata": {
  "kernelspec": {
   "display_name": "Python 3",
   "language": "python",
   "name": "python3"
  },
  "language_info": {
   "codemirror_mode": {
    "name": "ipython",
    "version": 2
   },
   "file_extension": ".py",
   "mimetype": "text/x-python",
   "name": "python",
   "nbconvert_exporter": "python",
   "pygments_lexer": "ipython2",
   "version": "2.7.6"
  }
 },
 "nbformat": 4,
 "nbformat_minor": 0
}